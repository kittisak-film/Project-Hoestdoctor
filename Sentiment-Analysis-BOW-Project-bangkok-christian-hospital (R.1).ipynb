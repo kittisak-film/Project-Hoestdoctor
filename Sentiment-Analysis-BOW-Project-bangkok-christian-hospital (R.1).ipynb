{
  "nbformat": 4,
  "nbformat_minor": 0,
  "metadata": {
    "colab": {
      "name": "Sentiment_Analysis_BOW_Project_bangkok_christian_hospital.ipynb",
      "provenance": [],
      "collapsed_sections": []
    },
    "kernelspec": {
      "name": "python3",
      "display_name": "Python 3"
    },
    "widgets": {
      "application/vnd.jupyter.widget-state+json": {
        "f55a8c546fe140b4810162f567fad4b9": {
          "model_module": "@jupyter-widgets/controls",
          "model_name": "HBoxModel",
          "state": {
            "_view_name": "HBoxView",
            "_dom_classes": [],
            "_model_name": "HBoxModel",
            "_view_module": "@jupyter-widgets/controls",
            "_model_module_version": "1.5.0",
            "_view_count": null,
            "_view_module_version": "1.5.0",
            "box_style": "",
            "layout": "IPY_MODEL_ed1425080f8c4fd490cc21e33fe17c7e",
            "_model_module": "@jupyter-widgets/controls",
            "children": [
              "IPY_MODEL_5404af745d3440f493aaa2ab7274a2f0",
              "IPY_MODEL_dd3a4f27cf974351ab9f6050d2d93eda"
            ]
          }
        },
        "ed1425080f8c4fd490cc21e33fe17c7e": {
          "model_module": "@jupyter-widgets/base",
          "model_name": "LayoutModel",
          "state": {
            "_view_name": "LayoutView",
            "grid_template_rows": null,
            "right": null,
            "justify_content": null,
            "_view_module": "@jupyter-widgets/base",
            "overflow": null,
            "_model_module_version": "1.2.0",
            "_view_count": null,
            "flex_flow": null,
            "width": null,
            "min_width": null,
            "border": null,
            "align_items": null,
            "bottom": null,
            "_model_module": "@jupyter-widgets/base",
            "top": null,
            "grid_column": null,
            "overflow_y": null,
            "overflow_x": null,
            "grid_auto_flow": null,
            "grid_area": null,
            "grid_template_columns": null,
            "flex": null,
            "_model_name": "LayoutModel",
            "justify_items": null,
            "grid_row": null,
            "max_height": null,
            "align_content": null,
            "visibility": null,
            "align_self": null,
            "height": null,
            "min_height": null,
            "padding": null,
            "grid_auto_rows": null,
            "grid_gap": null,
            "max_width": null,
            "order": null,
            "_view_module_version": "1.2.0",
            "grid_template_areas": null,
            "object_position": null,
            "object_fit": null,
            "grid_auto_columns": null,
            "margin": null,
            "display": null,
            "left": null
          }
        },
        "5404af745d3440f493aaa2ab7274a2f0": {
          "model_module": "@jupyter-widgets/controls",
          "model_name": "FloatProgressModel",
          "state": {
            "_view_name": "ProgressView",
            "style": "IPY_MODEL_7037401224034a9290a8fc63effa7a47",
            "_dom_classes": [],
            "description": "100%",
            "_model_name": "FloatProgressModel",
            "bar_style": "success",
            "max": 315,
            "_view_module": "@jupyter-widgets/controls",
            "_model_module_version": "1.5.0",
            "value": 315,
            "_view_count": null,
            "_view_module_version": "1.5.0",
            "orientation": "horizontal",
            "min": 0,
            "description_tooltip": null,
            "_model_module": "@jupyter-widgets/controls",
            "layout": "IPY_MODEL_0376b1d70b824d15af7e5990ec9fa380"
          }
        },
        "dd3a4f27cf974351ab9f6050d2d93eda": {
          "model_module": "@jupyter-widgets/controls",
          "model_name": "HTMLModel",
          "state": {
            "_view_name": "HTMLView",
            "style": "IPY_MODEL_413701e6797a4ca2b86a46af4810d4ad",
            "_dom_classes": [],
            "description": "",
            "_model_name": "HTMLModel",
            "placeholder": "​",
            "_view_module": "@jupyter-widgets/controls",
            "_model_module_version": "1.5.0",
            "value": " 315/315 [00:02&lt;00:00, 130.03it/s]",
            "_view_count": null,
            "_view_module_version": "1.5.0",
            "description_tooltip": null,
            "_model_module": "@jupyter-widgets/controls",
            "layout": "IPY_MODEL_c60f0aebca8a45aaa7416b7c64af12a5"
          }
        },
        "7037401224034a9290a8fc63effa7a47": {
          "model_module": "@jupyter-widgets/controls",
          "model_name": "ProgressStyleModel",
          "state": {
            "_view_name": "StyleView",
            "_model_name": "ProgressStyleModel",
            "description_width": "initial",
            "_view_module": "@jupyter-widgets/base",
            "_model_module_version": "1.5.0",
            "_view_count": null,
            "_view_module_version": "1.2.0",
            "bar_color": null,
            "_model_module": "@jupyter-widgets/controls"
          }
        },
        "0376b1d70b824d15af7e5990ec9fa380": {
          "model_module": "@jupyter-widgets/base",
          "model_name": "LayoutModel",
          "state": {
            "_view_name": "LayoutView",
            "grid_template_rows": null,
            "right": null,
            "justify_content": null,
            "_view_module": "@jupyter-widgets/base",
            "overflow": null,
            "_model_module_version": "1.2.0",
            "_view_count": null,
            "flex_flow": null,
            "width": null,
            "min_width": null,
            "border": null,
            "align_items": null,
            "bottom": null,
            "_model_module": "@jupyter-widgets/base",
            "top": null,
            "grid_column": null,
            "overflow_y": null,
            "overflow_x": null,
            "grid_auto_flow": null,
            "grid_area": null,
            "grid_template_columns": null,
            "flex": null,
            "_model_name": "LayoutModel",
            "justify_items": null,
            "grid_row": null,
            "max_height": null,
            "align_content": null,
            "visibility": null,
            "align_self": null,
            "height": null,
            "min_height": null,
            "padding": null,
            "grid_auto_rows": null,
            "grid_gap": null,
            "max_width": null,
            "order": null,
            "_view_module_version": "1.2.0",
            "grid_template_areas": null,
            "object_position": null,
            "object_fit": null,
            "grid_auto_columns": null,
            "margin": null,
            "display": null,
            "left": null
          }
        },
        "413701e6797a4ca2b86a46af4810d4ad": {
          "model_module": "@jupyter-widgets/controls",
          "model_name": "DescriptionStyleModel",
          "state": {
            "_view_name": "StyleView",
            "_model_name": "DescriptionStyleModel",
            "description_width": "",
            "_view_module": "@jupyter-widgets/base",
            "_model_module_version": "1.5.0",
            "_view_count": null,
            "_view_module_version": "1.2.0",
            "_model_module": "@jupyter-widgets/controls"
          }
        },
        "c60f0aebca8a45aaa7416b7c64af12a5": {
          "model_module": "@jupyter-widgets/base",
          "model_name": "LayoutModel",
          "state": {
            "_view_name": "LayoutView",
            "grid_template_rows": null,
            "right": null,
            "justify_content": null,
            "_view_module": "@jupyter-widgets/base",
            "overflow": null,
            "_model_module_version": "1.2.0",
            "_view_count": null,
            "flex_flow": null,
            "width": null,
            "min_width": null,
            "border": null,
            "align_items": null,
            "bottom": null,
            "_model_module": "@jupyter-widgets/base",
            "top": null,
            "grid_column": null,
            "overflow_y": null,
            "overflow_x": null,
            "grid_auto_flow": null,
            "grid_area": null,
            "grid_template_columns": null,
            "flex": null,
            "_model_name": "LayoutModel",
            "justify_items": null,
            "grid_row": null,
            "max_height": null,
            "align_content": null,
            "visibility": null,
            "align_self": null,
            "height": null,
            "min_height": null,
            "padding": null,
            "grid_auto_rows": null,
            "grid_gap": null,
            "max_width": null,
            "order": null,
            "_view_module_version": "1.2.0",
            "grid_template_areas": null,
            "object_position": null,
            "object_fit": null,
            "grid_auto_columns": null,
            "margin": null,
            "display": null,
            "left": null
          }
        }
      }
    }
  },
  "cells": [
    {
      "cell_type": "code",
      "metadata": {
        "id": "SKbUKdjgFdwU",
        "colab_type": "code",
        "outputId": "e97fe184-a804-4344-c052-4aae3a51de98",
        "colab": {
          "base_uri": "https://localhost:8080/",
          "height": 656
        }
      },
      "source": [
        "!pip install googletrans\n",
        "!pip install tqdm --upgrade\n",
        "!pip install twython"
      ],
      "execution_count": 1,
      "outputs": [
        {
          "output_type": "stream",
          "text": [
            "Collecting googletrans\n",
            "  Downloading https://files.pythonhosted.org/packages/fd/f0/a22d41d3846d1f46a4f20086141e0428ccc9c6d644aacbfd30990cf46886/googletrans-2.4.0.tar.gz\n",
            "Requirement already satisfied: requests in /usr/local/lib/python3.6/dist-packages (from googletrans) (2.21.0)\n",
            "Requirement already satisfied: urllib3<1.25,>=1.21.1 in /usr/local/lib/python3.6/dist-packages (from requests->googletrans) (1.24.3)\n",
            "Requirement already satisfied: idna<2.9,>=2.5 in /usr/local/lib/python3.6/dist-packages (from requests->googletrans) (2.8)\n",
            "Requirement already satisfied: certifi>=2017.4.17 in /usr/local/lib/python3.6/dist-packages (from requests->googletrans) (2020.4.5.1)\n",
            "Requirement already satisfied: chardet<3.1.0,>=3.0.2 in /usr/local/lib/python3.6/dist-packages (from requests->googletrans) (3.0.4)\n",
            "Building wheels for collected packages: googletrans\n",
            "  Building wheel for googletrans (setup.py) ... \u001b[?25l\u001b[?25hdone\n",
            "  Created wheel for googletrans: filename=googletrans-2.4.0-cp36-none-any.whl size=15777 sha256=513752b555508d431f309b066af8e6ddbdf53e1e3c4ee01ce6e5bcebb8494188\n",
            "  Stored in directory: /root/.cache/pip/wheels/50/d6/e7/a8efd5f2427d5eb258070048718fa56ee5ac57fd6f53505f95\n",
            "Successfully built googletrans\n",
            "Installing collected packages: googletrans\n",
            "Successfully installed googletrans-2.4.0\n",
            "Collecting tqdm\n",
            "\u001b[?25l  Downloading https://files.pythonhosted.org/packages/4a/1c/6359be64e8301b84160f6f6f7936bbfaaa5e9a4eab6cbc681db07600b949/tqdm-4.45.0-py2.py3-none-any.whl (60kB)\n",
            "\u001b[K     |████████████████████████████████| 61kB 2.9MB/s \n",
            "\u001b[?25hInstalling collected packages: tqdm\n",
            "  Found existing installation: tqdm 4.38.0\n",
            "    Uninstalling tqdm-4.38.0:\n",
            "      Successfully uninstalled tqdm-4.38.0\n",
            "Successfully installed tqdm-4.45.0\n"
          ],
          "name": "stdout"
        },
        {
          "output_type": "display_data",
          "data": {
            "application/vnd.colab-display-data+json": {
              "pip_warning": {
                "packages": [
                  "tqdm"
                ]
              }
            }
          },
          "metadata": {
            "tags": []
          }
        },
        {
          "output_type": "stream",
          "text": [
            "Collecting twython\n",
            "  Downloading https://files.pythonhosted.org/packages/24/80/579b96dfaa9b536efde883d4f0df7ea2598a6f3117a6dd572787f4a2bcfb/twython-3.8.2-py3-none-any.whl\n",
            "Requirement already satisfied: requests>=2.1.0 in /usr/local/lib/python3.6/dist-packages (from twython) (2.21.0)\n",
            "Requirement already satisfied: requests-oauthlib>=0.4.0 in /usr/local/lib/python3.6/dist-packages (from twython) (1.3.0)\n",
            "Requirement already satisfied: chardet<3.1.0,>=3.0.2 in /usr/local/lib/python3.6/dist-packages (from requests>=2.1.0->twython) (3.0.4)\n",
            "Requirement already satisfied: certifi>=2017.4.17 in /usr/local/lib/python3.6/dist-packages (from requests>=2.1.0->twython) (2020.4.5.1)\n",
            "Requirement already satisfied: urllib3<1.25,>=1.21.1 in /usr/local/lib/python3.6/dist-packages (from requests>=2.1.0->twython) (1.24.3)\n",
            "Requirement already satisfied: idna<2.9,>=2.5 in /usr/local/lib/python3.6/dist-packages (from requests>=2.1.0->twython) (2.8)\n",
            "Requirement already satisfied: oauthlib>=3.0.0 in /usr/local/lib/python3.6/dist-packages (from requests-oauthlib>=0.4.0->twython) (3.1.0)\n",
            "Installing collected packages: twython\n",
            "Successfully installed twython-3.8.2\n"
          ],
          "name": "stdout"
        }
      ]
    },
    {
      "cell_type": "code",
      "metadata": {
        "id": "mf5lDE7wafjr",
        "colab_type": "code",
        "colab": {}
      },
      "source": [
        "# web scraping\n",
        "import requests\n",
        "from bs4 import BeautifulSoup\n",
        "from time import time, sleep\n",
        "from random import randint\n",
        "\n",
        "# Translation\n",
        "from googletrans import Translator\n",
        "\n",
        "# Utilities\n",
        "from tqdm import tqdm\n",
        "from tqdm import tqdm_notebook\n",
        "import numpy as np\n",
        "import pandas as pd\n",
        "\n",
        "# NLP\n",
        "from nltk import sent_tokenize, word_tokenize, pos_tag, RegexpParser\n",
        "from nltk.sentiment.vader import SentimentIntensityAnalyzer\n",
        "from nltk.sentiment.util import mark_negation"
      ],
      "execution_count": 0,
      "outputs": []
    },
    {
      "cell_type": "code",
      "metadata": {
        "id": "KLJxKnwjah8C",
        "colab_type": "code",
        "outputId": "6bd7301d-0b8b-426b-f736-5c40cf6fc056",
        "colab": {
          "base_uri": "https://localhost:8080/",
          "height": 134
        }
      },
      "source": [
        "# Download resources\n",
        "import nltk\n",
        "\n",
        "nltk.download(\"punkt\")\n",
        "nltk.download(\"vader_lexicon\")\n",
        "nltk.download('averaged_perceptron_tagger')"
      ],
      "execution_count": 3,
      "outputs": [
        {
          "output_type": "stream",
          "text": [
            "[nltk_data] Downloading package punkt to /root/nltk_data...\n",
            "[nltk_data]   Unzipping tokenizers/punkt.zip.\n",
            "[nltk_data] Downloading package vader_lexicon to /root/nltk_data...\n",
            "[nltk_data] Downloading package averaged_perceptron_tagger to\n",
            "[nltk_data]     /root/nltk_data...\n",
            "[nltk_data]   Unzipping taggers/averaged_perceptron_tagger.zip.\n"
          ],
          "name": "stdout"
        },
        {
          "output_type": "execute_result",
          "data": {
            "text/plain": [
              "True"
            ]
          },
          "metadata": {
            "tags": []
          },
          "execution_count": 3
        }
      ]
    },
    {
      "cell_type": "markdown",
      "metadata": {
        "id": "tZ5SQxNQdXAs",
        "colab_type": "text"
      },
      "source": [
        "Web Scrap\n",
        "\n",
        "โรงพยาบาลกรุงเทพคริสเตียน"
      ]
    },
    {
      "cell_type": "code",
      "metadata": {
        "id": "rzBJtKDJdGC6",
        "colab_type": "code",
        "colab": {}
      },
      "source": [
        "def honestdoc_comment(url, hospitalName):\n",
        "    \"\"\"\n",
        "    This function is to scrap data from a webboard (https://www.honestdocs.com).\n",
        "\n",
        "    INPUT\n",
        "    url : String\n",
        "      URL of the target website\n",
        "    \n",
        "    OUTPUT\n",
        "    comment : List\n",
        "      List of comments\n",
        "    score : List\n",
        "      List of rating score\n",
        "    \"\"\"\n",
        "    #create connection\n",
        "    data = requests.get(url)\n",
        "    print(\"requests code : {}\".format(data.status_code)) \n",
        "    print(\"note\\n2xx: success\\n4xx, 5xx: error\")\n",
        "    \n",
        "    #scrape comment and score\n",
        "    start_time = time() #start scraping data from page1\n",
        "    r = requests.get(url, params=dict(query=\"web scraping\",page=1)) \n",
        "    soup = BeautifulSoup(r.text,\"html.parser\")\n",
        "    n = len(soup.find_all(\"div\",{\"class\":\"comments__content\"})) #find n of items in the page\n",
        "    \n",
        "    #extract each item\n",
        "    comment = [soup.find_all(\"div\",\n",
        "                             {\"class\":\"comments__content\"})[i].get_text().strip() for i in range(0,n)]\n",
        "    score = [soup.find_all(\"span\",\n",
        "                           {\"class\":\"stars star-rating\"})[i].attrs[\"data-score\"] for i in range(0,n)]\n",
        "    elapsed_time = time() - start_time #finish scraping data from page1\n",
        "    print(\"Time used for scraping data from page - 1 : {} s\".format(elapsed_time))\n",
        "    sleep(randint(1,3)) #mimic human behavior\n",
        "           \n",
        "    p = 2 #start scraping data from page2\n",
        "    while n > 0: #until the number of items in a page = 0\n",
        "        start_time = time() \n",
        "        r = requests.get(url, params=dict(query=\"web scraping\",page=p))\n",
        "        soup = BeautifulSoup(r.text,\"html.parser\")\n",
        "        n = len(soup.find_all(\"div\",{\"class\":\"comments__content\"}))\n",
        "        [comment.append(soup.find_all(\"div\",\n",
        "                                      {\"class\":\"comments__content\"})[i].get_text().strip()) for i in range(0,n)]\n",
        "        [score.append(soup.find_all(\"span\",\n",
        "                                    {\"class\":\"stars star-rating\"})[i].attrs[\"data-score\"]) for i in range(0,n)]\n",
        "        elapsed_time = time() - start_time\n",
        "        print(\"Time used for scraping data from page - {} : {} s\".format(p, elapsed_time))\n",
        "        p +=1\n",
        "        sleep(randint(1,3))\n",
        "\n",
        "    df = pd.DataFrame({\"comment\": comment, \n",
        "              \"score\": score\n",
        "              })\n",
        "    \n",
        "    df[\"hospital\"] = hospitalName\n",
        "    \n",
        "    return df"
      ],
      "execution_count": 0,
      "outputs": []
    },
    {
      "cell_type": "markdown",
      "metadata": {
        "id": "Nnw4gthuddw6",
        "colab_type": "text"
      },
      "source": [
        "คำสั่งแปลงจากภาษาไทยเป็นภาษาอังกฤษ"
      ]
    },
    {
      "cell_type": "code",
      "metadata": {
        "id": "NZOYhWxhdbMK",
        "colab_type": "code",
        "colab": {}
      },
      "source": [
        "def th2en(comment):\n",
        "  try:\n",
        "    textTrans = Translator().translate(comment, src=\"th\", dest=\"en\").text\n",
        "  except:\n",
        "    textTrans = \"\"\n",
        "    print(\"\\n Can not translate \" + comment)\n",
        "\n",
        "  return textTrans"
      ],
      "execution_count": 0,
      "outputs": []
    },
    {
      "cell_type": "markdown",
      "metadata": {
        "id": "9tMosSLbdjhs",
        "colab_type": "text"
      },
      "source": [
        "\n",
        "\n",
        "\n",
        "ดึง comment จากโรงพยาบาลพระราม9"
      ]
    },
    {
      "cell_type": "code",
      "metadata": {
        "id": "D6xFPzxndgEQ",
        "colab_type": "code",
        "outputId": "51d5b731-146b-4485-e438-a077b0bbc28b",
        "colab": {
          "base_uri": "https://localhost:8080/",
          "height": 554
        }
      },
      "source": [
        "df = honestdoc_comment(r\"https://www.honestdocs.co/hospitals/bangkok-christian-hospital\", \"bangkok-christian-hospital\")\n",
        "comments = df"
      ],
      "execution_count": 6,
      "outputs": [
        {
          "output_type": "stream",
          "text": [
            "requests code : 200\n",
            "note\n",
            "2xx: success\n",
            "4xx, 5xx: error\n",
            "Time used for scraping data from page - 1 : 0.9451589584350586 s\n",
            "Time used for scraping data from page - 2 : 0.9353251457214355 s\n",
            "Time used for scraping data from page - 3 : 0.9105761051177979 s\n",
            "Time used for scraping data from page - 4 : 0.9977512359619141 s\n",
            "Time used for scraping data from page - 5 : 0.9014334678649902 s\n",
            "Time used for scraping data from page - 6 : 0.9265708923339844 s\n",
            "Time used for scraping data from page - 7 : 0.9350094795227051 s\n",
            "Time used for scraping data from page - 8 : 1.0050132274627686 s\n",
            "Time used for scraping data from page - 9 : 0.8975005149841309 s\n",
            "Time used for scraping data from page - 10 : 0.8988747596740723 s\n",
            "Time used for scraping data from page - 11 : 0.8977973461151123 s\n",
            "Time used for scraping data from page - 12 : 0.9049711227416992 s\n",
            "Time used for scraping data from page - 13 : 0.9045584201812744 s\n",
            "Time used for scraping data from page - 14 : 0.9096634387969971 s\n",
            "Time used for scraping data from page - 15 : 0.9438807964324951 s\n",
            "Time used for scraping data from page - 16 : 0.91733717918396 s\n",
            "Time used for scraping data from page - 17 : 0.8867800235748291 s\n",
            "Time used for scraping data from page - 18 : 0.9190049171447754 s\n",
            "Time used for scraping data from page - 19 : 0.9007883071899414 s\n",
            "Time used for scraping data from page - 20 : 0.9038870334625244 s\n",
            "Time used for scraping data from page - 21 : 0.9035987854003906 s\n",
            "Time used for scraping data from page - 22 : 0.9059352874755859 s\n",
            "Time used for scraping data from page - 23 : 0.9433093070983887 s\n",
            "Time used for scraping data from page - 24 : 0.96929931640625 s\n",
            "Time used for scraping data from page - 25 : 0.9550254344940186 s\n",
            "Time used for scraping data from page - 26 : 0.979529619216919 s\n",
            "Time used for scraping data from page - 27 : 0.9015014171600342 s\n",
            "Time used for scraping data from page - 28 : 0.7151515483856201 s\n"
          ],
          "name": "stdout"
        }
      ]
    },
    {
      "cell_type": "markdown",
      "metadata": {
        "id": "QoAYf28xev1L",
        "colab_type": "text"
      },
      "source": [
        "นำคอมเม้นท์มาแปลงเป็นภาษาอังกฤษ"
      ]
    },
    {
      "cell_type": "code",
      "metadata": {
        "id": "e4IZiChTewxy",
        "colab_type": "code",
        "outputId": "5e88e4e0-9144-4e0e-8ce5-1d65f8d274b1",
        "colab": {
          "base_uri": "https://localhost:8080/",
          "height": 34
        }
      },
      "source": [
        "tqdm.pandas()\n",
        "comments[\"en\"] = comments.progress_apply(lambda x: th2en(x[\"comment\"]), axis=1)\n",
        "\n",
        "comments = df"
      ],
      "execution_count": 7,
      "outputs": [
        {
          "output_type": "stream",
          "text": [
            "100%|██████████| 80/80 [01:31<00:00,  1.14s/it]\n"
          ],
          "name": "stderr"
        }
      ]
    },
    {
      "cell_type": "markdown",
      "metadata": {
        "id": "IReVG-WVeT1K",
        "colab_type": "text"
      },
      "source": [
        "ได้ทั้งหมด 80 แถว 4 column"
      ]
    },
    {
      "cell_type": "code",
      "metadata": {
        "id": "jmXT4LnFdmlv",
        "colab_type": "code",
        "outputId": "37be8373-604b-4ba1-e4c6-56199bf7f72c",
        "colab": {
          "base_uri": "https://localhost:8080/",
          "height": 34
        }
      },
      "source": [
        "comments.shape"
      ],
      "execution_count": 8,
      "outputs": [
        {
          "output_type": "execute_result",
          "data": {
            "text/plain": [
              "(80, 4)"
            ]
          },
          "metadata": {
            "tags": []
          },
          "execution_count": 8
        }
      ]
    },
    {
      "cell_type": "markdown",
      "metadata": {
        "id": "31REx1lEfBC8",
        "colab_type": "text"
      },
      "source": [
        "นับจำนวนคอมเม้นท์ได้ทั้งหมด 80 คอมเม้น"
      ]
    },
    {
      "cell_type": "code",
      "metadata": {
        "id": "TcgOYhHbep5t",
        "colab_type": "code",
        "outputId": "7f99b119-87d2-4c04-927c-93b5da31d148",
        "colab": {
          "base_uri": "https://localhost:8080/",
          "height": 50
        }
      },
      "source": [
        "comments[\"hospital\"].value_counts()"
      ],
      "execution_count": 9,
      "outputs": [
        {
          "output_type": "execute_result",
          "data": {
            "text/plain": [
              "bangkok-christian-hospital    80\n",
              "Name: hospital, dtype: int64"
            ]
          },
          "metadata": {
            "tags": []
          },
          "execution_count": 9
        }
      ]
    },
    {
      "cell_type": "markdown",
      "metadata": {
        "id": "OEQQSkGEfGNi",
        "colab_type": "text"
      },
      "source": [
        "ตรวจสอบ 5 แถวแรกของข้อมูล"
      ]
    },
    {
      "cell_type": "code",
      "metadata": {
        "id": "HhPFZm-wfDOM",
        "colab_type": "code",
        "outputId": "9d206079-374f-485f-ed36-fe2eb3bea19b",
        "colab": {
          "base_uri": "https://localhost:8080/",
          "height": 343
        }
      },
      "source": [
        "comments.head(10)"
      ],
      "execution_count": 10,
      "outputs": [
        {
          "output_type": "execute_result",
          "data": {
            "text/html": [
              "<div>\n",
              "<style scoped>\n",
              "    .dataframe tbody tr th:only-of-type {\n",
              "        vertical-align: middle;\n",
              "    }\n",
              "\n",
              "    .dataframe tbody tr th {\n",
              "        vertical-align: top;\n",
              "    }\n",
              "\n",
              "    .dataframe thead th {\n",
              "        text-align: right;\n",
              "    }\n",
              "</style>\n",
              "<table border=\"1\" class=\"dataframe\">\n",
              "  <thead>\n",
              "    <tr style=\"text-align: right;\">\n",
              "      <th></th>\n",
              "      <th>comment</th>\n",
              "      <th>score</th>\n",
              "      <th>hospital</th>\n",
              "      <th>en</th>\n",
              "    </tr>\n",
              "  </thead>\n",
              "  <tbody>\n",
              "    <tr>\n",
              "      <th>0</th>\n",
              "      <td>สิ่งที่ชอบอย่างหนึ่งมากจริงๆคือบุคลากรในโรงพยา...</td>\n",
              "      <td>5</td>\n",
              "      <td>bangkok-christian-hospital</td>\n",
              "      <td>What is really like a lot of people in this ho...</td>\n",
              "    </tr>\n",
              "    <tr>\n",
              "      <th>1</th>\n",
              "      <td>ได้เข้าไปใช้บริกาที่นี่ มีความสะอาดและต้อนรับด...</td>\n",
              "      <td>5</td>\n",
              "      <td>bangkok-christian-hospital</td>\n",
              "      <td>Riga has to use here. Clean and good reception...</td>\n",
              "    </tr>\n",
              "    <tr>\n",
              "      <th>2</th>\n",
              "      <td>สิ่งที่ชอบอย่างหนึ่งมากจริงๆคือบุคลากรในโรงพยา...</td>\n",
              "      <td>4</td>\n",
              "      <td>bangkok-christian-hospital</td>\n",
              "      <td>What is really like a lot of people in this ho...</td>\n",
              "    </tr>\n",
              "    <tr>\n",
              "      <th>3</th>\n",
              "      <td>พยาบาล คุณหมอพูดจา ดูแลดีค่ะ โรงพยาบาลมีที่จอด...</td>\n",
              "      <td>5</td>\n",
              "      <td>bangkok-christian-hospital</td>\n",
              "      <td>Hospital doctors speak good care hospital park...</td>\n",
              "    </tr>\n",
              "    <tr>\n",
              "      <th>4</th>\n",
              "      <td>ไปหาคุณหมอด้วยอาการปวดขาคุณหมอถามนิดหน่อยแล้วก...</td>\n",
              "      <td>3</td>\n",
              "      <td>bangkok-christian-hospital</td>\n",
              "      <td>You go to the doctor with symptoms of leg pain...</td>\n",
              "    </tr>\n",
              "    <tr>\n",
              "      <th>5</th>\n",
              "      <td>เป็นโรงพยาบาลที่ทุกคนในครอบครัวใช้บริการ เพราะ...</td>\n",
              "      <td>4</td>\n",
              "      <td>bangkok-christian-hospital</td>\n",
              "      <td>The hospital where the family service. Because...</td>\n",
              "    </tr>\n",
              "    <tr>\n",
              "      <th>6</th>\n",
              "      <td>ป่วยตกบัยฝนไดค่ะเข้ารักษาห้องฉุกเฉินมีประกันสุ...</td>\n",
              "      <td>4</td>\n",
              "      <td>bangkok-christian-hospital</td>\n",
              "      <td>Buffett's rain falls ill treat me into the eme...</td>\n",
              "    </tr>\n",
              "    <tr>\n",
              "      <th>7</th>\n",
              "      <td>เป็นคนไข้ประจำมาตลอด 20 กว่าปี ล่าสุดได้ไปหาหม...</td>\n",
              "      <td>2</td>\n",
              "      <td>bangkok-christian-hospital</td>\n",
              "      <td>Patients are routinely over the last 20 years ...</td>\n",
              "    </tr>\n",
              "    <tr>\n",
              "      <th>8</th>\n",
              "      <td>ไปรับการรักษาโรครูมาตอยด์ที่โรงพยาบาลกรุงเทพคร...</td>\n",
              "      <td>5</td>\n",
              "      <td>bangkok-christian-hospital</td>\n",
              "      <td>To treat rheumatoid at the Bangkok Christian H...</td>\n",
              "    </tr>\n",
              "    <tr>\n",
              "      <th>9</th>\n",
              "      <td>บริการดี อธิบายละเอียด ใส่ใจคนไข้</td>\n",
              "      <td>5</td>\n",
              "      <td>bangkok-christian-hospital</td>\n",
              "      <td>Good service described patient care</td>\n",
              "    </tr>\n",
              "  </tbody>\n",
              "</table>\n",
              "</div>"
            ],
            "text/plain": [
              "                                             comment  ...                                                 en\n",
              "0  สิ่งที่ชอบอย่างหนึ่งมากจริงๆคือบุคลากรในโรงพยา...  ...  What is really like a lot of people in this ho...\n",
              "1  ได้เข้าไปใช้บริกาที่นี่ มีความสะอาดและต้อนรับด...  ...  Riga has to use here. Clean and good reception...\n",
              "2  สิ่งที่ชอบอย่างหนึ่งมากจริงๆคือบุคลากรในโรงพยา...  ...  What is really like a lot of people in this ho...\n",
              "3  พยาบาล คุณหมอพูดจา ดูแลดีค่ะ โรงพยาบาลมีที่จอด...  ...  Hospital doctors speak good care hospital park...\n",
              "4  ไปหาคุณหมอด้วยอาการปวดขาคุณหมอถามนิดหน่อยแล้วก...  ...  You go to the doctor with symptoms of leg pain...\n",
              "5  เป็นโรงพยาบาลที่ทุกคนในครอบครัวใช้บริการ เพราะ...  ...  The hospital where the family service. Because...\n",
              "6  ป่วยตกบัยฝนไดค่ะเข้ารักษาห้องฉุกเฉินมีประกันสุ...  ...  Buffett's rain falls ill treat me into the eme...\n",
              "7  เป็นคนไข้ประจำมาตลอด 20 กว่าปี ล่าสุดได้ไปหาหม...  ...  Patients are routinely over the last 20 years ...\n",
              "8  ไปรับการรักษาโรครูมาตอยด์ที่โรงพยาบาลกรุงเทพคร...  ...  To treat rheumatoid at the Bangkok Christian H...\n",
              "9                  บริการดี อธิบายละเอียด ใส่ใจคนไข้  ...                Good service described patient care\n",
              "\n",
              "[10 rows x 4 columns]"
            ]
          },
          "metadata": {
            "tags": []
          },
          "execution_count": 10
        }
      ]
    },
    {
      "cell_type": "markdown",
      "metadata": {
        "id": "DZdHVdApfLd2",
        "colab_type": "text"
      },
      "source": [
        "Mount Drive เพื่อAuthorize เข้าถึง Folder ในDrive"
      ]
    },
    {
      "cell_type": "code",
      "metadata": {
        "id": "nN6_cE6IfJD6",
        "colab_type": "code",
        "outputId": "790e769a-1cf2-4871-cbf4-99312e50a0c3",
        "colab": {
          "base_uri": "https://localhost:8080/",
          "height": 121
        }
      },
      "source": [
        "from google.colab import drive\n",
        "drive.mount('/content/gdrive')\n",
        "\n",
        "import os\n",
        "os.chdir('/content/gdrive/My Drive/DS532_Text_Analytic/Project_Hospital')"
      ],
      "execution_count": 11,
      "outputs": [
        {
          "output_type": "stream",
          "text": [
            "Go to this URL in a browser: https://accounts.google.com/o/oauth2/auth?client_id=947318989803-6bn6qk8qdgf4n4g3pfee6491hc0brc4i.apps.googleusercontent.com&redirect_uri=urn%3aietf%3awg%3aoauth%3a2.0%3aoob&response_type=code&scope=email%20https%3a%2f%2fwww.googleapis.com%2fauth%2fdocs.test%20https%3a%2f%2fwww.googleapis.com%2fauth%2fdrive%20https%3a%2f%2fwww.googleapis.com%2fauth%2fdrive.photos.readonly%20https%3a%2f%2fwww.googleapis.com%2fauth%2fpeopleapi.readonly\n",
            "\n",
            "Enter your authorization code:\n",
            "··········\n",
            "Mounted at /content/gdrive\n"
          ],
          "name": "stdout"
        }
      ]
    },
    {
      "cell_type": "markdown",
      "metadata": {
        "id": "Ol4r4Od3fVxJ",
        "colab_type": "text"
      },
      "source": [
        "Save ข้อมูลเป็น csv"
      ]
    },
    {
      "cell_type": "code",
      "metadata": {
        "id": "_DEiugaafPAE",
        "colab_type": "code",
        "colab": {}
      },
      "source": [
        "#backup data \n",
        "comments.to_csv(\"comment_bangkok-christian-hospital.csv\", index=False)"
      ],
      "execution_count": 0,
      "outputs": []
    },
    {
      "cell_type": "code",
      "metadata": {
        "id": "TyscoVQbfX07",
        "colab_type": "code",
        "colab": {}
      },
      "source": [
        "from tqdm import tqdm_notebook"
      ],
      "execution_count": 0,
      "outputs": []
    },
    {
      "cell_type": "markdown",
      "metadata": {
        "id": "cZ1r5AE3f5Zf",
        "colab_type": "text"
      },
      "source": [
        "**Read data**"
      ]
    },
    {
      "cell_type": "code",
      "metadata": {
        "id": "ey_IAakUf3IA",
        "colab_type": "code",
        "colab": {}
      },
      "source": [
        "rama = pd.read_csv(\"comment_bangkok-christian-hospital.csv\")\n",
        "rama = rama.reset_index()\n",
        "rama = rama.rename(columns={\"index\": \"cid\"})"
      ],
      "execution_count": 0,
      "outputs": []
    },
    {
      "cell_type": "markdown",
      "metadata": {
        "id": "hnE3JinPgC0M",
        "colab_type": "text"
      },
      "source": [
        "Sentence Tokenize"
      ]
    },
    {
      "cell_type": "code",
      "metadata": {
        "id": "cEVRtRLnf-pu",
        "colab_type": "code",
        "outputId": "118b9c21-7473-4a29-aec7-97c8b1ee2d6d",
        "colab": {
          "base_uri": "https://localhost:8080/",
          "height": 67
        }
      },
      "source": [
        "import nltk\n",
        "nltk.download('punkt')"
      ],
      "execution_count": 15,
      "outputs": [
        {
          "output_type": "stream",
          "text": [
            "[nltk_data] Downloading package punkt to /root/nltk_data...\n",
            "[nltk_data]   Package punkt is already up-to-date!\n"
          ],
          "name": "stdout"
        },
        {
          "output_type": "execute_result",
          "data": {
            "text/plain": [
              "True"
            ]
          },
          "metadata": {
            "tags": []
          },
          "execution_count": 15
        }
      ]
    },
    {
      "cell_type": "code",
      "metadata": {
        "id": "epk4kCvNgHLq",
        "colab_type": "code",
        "colab": {}
      },
      "source": [
        "from nltk import sent_tokenize\n",
        "\n",
        "sentences = []\n",
        "cids = []\n",
        "for cid in rama[\"cid\"]:\n",
        "    s = sent_tokenize(rama.loc[cid, \"en\"])\n",
        "    sentences = sentences + s\n",
        "    cids = cids + [cid] * len(s)"
      ],
      "execution_count": 0,
      "outputs": []
    },
    {
      "cell_type": "markdown",
      "metadata": {
        "id": "YU3rVJqlgSK2",
        "colab_type": "text"
      },
      "source": [
        "**Sentence-level sentiment**"
      ]
    },
    {
      "cell_type": "code",
      "metadata": {
        "id": "kb6lakXpgg6K",
        "colab_type": "code",
        "outputId": "e97d4432-c2ce-41e5-e5c9-f9e8130c387f",
        "colab": {
          "base_uri": "https://localhost:8080/",
          "height": 151
        }
      },
      "source": [
        "!pip install twython"
      ],
      "execution_count": 17,
      "outputs": [
        {
          "output_type": "stream",
          "text": [
            "Requirement already satisfied: twython in /usr/local/lib/python3.6/dist-packages (3.8.2)\n",
            "Requirement already satisfied: requests-oauthlib>=0.4.0 in /usr/local/lib/python3.6/dist-packages (from twython) (1.3.0)\n",
            "Requirement already satisfied: requests>=2.1.0 in /usr/local/lib/python3.6/dist-packages (from twython) (2.21.0)\n",
            "Requirement already satisfied: oauthlib>=3.0.0 in /usr/local/lib/python3.6/dist-packages (from requests-oauthlib>=0.4.0->twython) (3.1.0)\n",
            "Requirement already satisfied: idna<2.9,>=2.5 in /usr/local/lib/python3.6/dist-packages (from requests>=2.1.0->twython) (2.8)\n",
            "Requirement already satisfied: urllib3<1.25,>=1.21.1 in /usr/local/lib/python3.6/dist-packages (from requests>=2.1.0->twython) (1.24.3)\n",
            "Requirement already satisfied: chardet<3.1.0,>=3.0.2 in /usr/local/lib/python3.6/dist-packages (from requests>=2.1.0->twython) (3.0.4)\n",
            "Requirement already satisfied: certifi>=2017.4.17 in /usr/local/lib/python3.6/dist-packages (from requests>=2.1.0->twython) (2020.4.5.1)\n"
          ],
          "name": "stdout"
        }
      ]
    },
    {
      "cell_type": "code",
      "metadata": {
        "id": "8bRgMkRWgrh-",
        "colab_type": "code",
        "colab": {}
      },
      "source": [
        "from nltk.sentiment.vader import SentimentIntensityAnalyzer"
      ],
      "execution_count": 0,
      "outputs": []
    },
    {
      "cell_type": "code",
      "metadata": {
        "id": "06HoUcuagwd6",
        "colab_type": "code",
        "colab": {}
      },
      "source": [
        "def predict_sentiment(sentence):\n",
        "  sa = SentimentIntensityAnalyzer()\n",
        "  sentiment_distribution = sa.polarity_scores(sentence)\n",
        "  score = sentiment_distribution.get(\"compound\")\n",
        "  \n",
        "  if score >= 0.05:\n",
        "    return \"positive\"\n",
        "  elif score <= -0.05:\n",
        "    return \"negative\"\n",
        "  else:\n",
        "    return \"neutral\""
      ],
      "execution_count": 0,
      "outputs": []
    },
    {
      "cell_type": "code",
      "metadata": {
        "id": "x-2sj7Swh4Je",
        "colab_type": "code",
        "outputId": "fbfeb2c4-a32e-43ea-9eb4-e1c4a265df4b",
        "colab": {
          "base_uri": "https://localhost:8080/",
          "height": 67
        }
      },
      "source": [
        "import nltk\n",
        "nltk.download(\"vader_lexicon\")"
      ],
      "execution_count": 20,
      "outputs": [
        {
          "output_type": "stream",
          "text": [
            "[nltk_data] Downloading package vader_lexicon to /root/nltk_data...\n",
            "[nltk_data]   Package vader_lexicon is already up-to-date!\n"
          ],
          "name": "stdout"
        },
        {
          "output_type": "execute_result",
          "data": {
            "text/plain": [
              "True"
            ]
          },
          "metadata": {
            "tags": []
          },
          "execution_count": 20
        }
      ]
    },
    {
      "cell_type": "code",
      "metadata": {
        "id": "zXZmiSfagyWP",
        "colab_type": "code",
        "outputId": "cf4c4aef-0aca-4c76-a8e0-761b0bca5957",
        "colab": {
          "base_uri": "https://localhost:8080/",
          "height": 116,
          "referenced_widgets": [
            "f55a8c546fe140b4810162f567fad4b9",
            "ed1425080f8c4fd490cc21e33fe17c7e",
            "5404af745d3440f493aaa2ab7274a2f0",
            "dd3a4f27cf974351ab9f6050d2d93eda",
            "7037401224034a9290a8fc63effa7a47",
            "0376b1d70b824d15af7e5990ec9fa380",
            "413701e6797a4ca2b86a46af4810d4ad",
            "c60f0aebca8a45aaa7416b7c64af12a5"
          ]
        }
      },
      "source": [
        "sentiments = []\n",
        "for sentence in tqdm_notebook(sentences, total=len(sentences)):\n",
        "    sentiments.append(predict_sentiment(sentence))"
      ],
      "execution_count": 21,
      "outputs": [
        {
          "output_type": "stream",
          "text": [
            "/usr/local/lib/python3.6/dist-packages/ipykernel_launcher.py:2: TqdmDeprecationWarning: This function will be removed in tqdm==5.0.0\n",
            "Please use `tqdm.notebook.tqdm` instead of `tqdm.tqdm_notebook`\n",
            "  \n"
          ],
          "name": "stderr"
        },
        {
          "output_type": "display_data",
          "data": {
            "application/vnd.jupyter.widget-view+json": {
              "model_id": "f55a8c546fe140b4810162f567fad4b9",
              "version_minor": 0,
              "version_major": 2
            },
            "text/plain": [
              "HBox(children=(FloatProgress(value=0.0, max=315.0), HTML(value='')))"
            ]
          },
          "metadata": {
            "tags": []
          }
        },
        {
          "output_type": "stream",
          "text": [
            "\n"
          ],
          "name": "stdout"
        }
      ]
    },
    {
      "cell_type": "markdown",
      "metadata": {
        "id": "--0zHQiajGlm",
        "colab_type": "text"
      },
      "source": [
        "Parsing"
      ]
    },
    {
      "cell_type": "code",
      "metadata": {
        "id": "JVefOLf4g0NI",
        "colab_type": "code",
        "outputId": "d89e418f-c161-4a5c-de48-05151cab5925",
        "colab": {
          "base_uri": "https://localhost:8080/",
          "height": 101
        }
      },
      "source": [
        "nltk.download('averaged_perceptron_tagger')"
      ],
      "execution_count": 22,
      "outputs": [
        {
          "output_type": "stream",
          "text": [
            "[nltk_data] Downloading package averaged_perceptron_tagger to\n",
            "[nltk_data]     /root/nltk_data...\n",
            "[nltk_data]   Package averaged_perceptron_tagger is already up-to-\n",
            "[nltk_data]       date!\n"
          ],
          "name": "stdout"
        },
        {
          "output_type": "execute_result",
          "data": {
            "text/plain": [
              "True"
            ]
          },
          "metadata": {
            "tags": []
          },
          "execution_count": 22
        }
      ]
    },
    {
      "cell_type": "code",
      "metadata": {
        "id": "2xzxyXyajJR5",
        "colab_type": "code",
        "colab": {}
      },
      "source": [
        "from nltk import word_tokenize, pos_tag, RegexpParser"
      ],
      "execution_count": 0,
      "outputs": []
    },
    {
      "cell_type": "code",
      "metadata": {
        "id": "y301aSNrjRPU",
        "colab_type": "code",
        "colab": {}
      },
      "source": [
        "grammar = \"\"\"NP: {<NN|NNS>+}\n",
        "                 {<NN|NNS>+<CC><NN|NNS>+}\"\"\"\n",
        "chunker = RegexpParser(grammar)\n",
        "parse_trees = []\n",
        "for sentence in sentences:\n",
        "    parse_trees.append(chunker.parse(pos_tag(word_tokenize(sentence))))"
      ],
      "execution_count": 0,
      "outputs": []
    },
    {
      "cell_type": "code",
      "metadata": {
        "id": "OvVa8r19jS4U",
        "colab_type": "code",
        "outputId": "790a5eca-fcf0-4296-f9b1-3cde6326d23c",
        "colab": {
          "base_uri": "https://localhost:8080/",
          "height": 1000
        }
      },
      "source": [
        "parse_trees"
      ],
      "execution_count": 25,
      "outputs": [
        {
          "output_type": "execute_result",
          "data": {
            "text/plain": [
              "[Tree('S', [('What', 'WP'), ('is', 'VBZ'), ('really', 'RB'), ('like', 'IN'), ('a', 'DT'), Tree('NP', [('lot', 'NN')]), ('of', 'IN'), Tree('NP', [('people', 'NNS')]), ('in', 'IN'), ('this', 'DT'), Tree('NP', [('hospital', 'NN')]), ('.', '.')]),\n",
              " Tree('S', [('Most', 'JJS'), ('smiling', 'JJ'), Tree('NP', [('Greetings', 'NNS'), ('care', 'NN'), ('patients', 'NNS')]), ('and', 'CC'), ('those', 'DT'), ('who', 'WP'), ('use', 'VBP'), ('the', 'DT'), Tree('NP', [('service', 'NN')]), ('were', 'VBD'), ('very', 'RB'), ('good', 'JJ'), ('.', '.')]),\n",
              " Tree('S', [Tree('NP', [('Talk', 'NN'), ('relax', 'NN')]), ('at', 'IN'), ('all', 'DT'), ('.', '.')]),\n",
              " Tree('S', [('Most', 'JJS'), Tree('NP', [('doctors', 'NNS')]), ('who', 'WP'), ('have', 'VBP'), ('had', 'VBD'), ('the', 'DT'), ('good-hearted', 'JJ'), Tree('NP', [('people', 'NNS')]), ('I', 'PRP'), ('have', 'VBP'), ('ever', 'RB'), ('come', 'VBN'), ('across', 'IN'), Tree('NP', [('someone', 'NN')]), ('who', 'WP'), (\"'s\", 'VBZ'), ('not', 'RB'), ('very', 'RB'), ('much', 'RB'), ('.', '.')]),\n",
              " Tree('S', [('The', 'DT'), ('Department', 'NNP'), ('of', 'IN'), ('Medicine', 'NNP'), ('Private', 'NNP'), Tree('NP', [('rooms', 'NNS')]), ('are', 'VBP'), ('OK', 'JJ'), ('Private', 'NNP'), ('worth', 'IN'), ('the', 'DT'), Tree('NP', [('price', 'NN')]), ('of', 'IN'), ('...', ':')]),\n",
              " Tree('S', [('Riga', 'NNP'), ('has', 'VBZ'), ('to', 'TO'), ('use', 'VB'), ('here', 'RB'), ('.', '.')]),\n",
              " Tree('S', [('Clean', 'JJ'), ('and', 'CC'), ('good', 'JJ'), Tree('NP', [('reception', 'NN')]), ('The', 'DT'), Tree('NP', [('service', 'NN')]), ('was', 'VBD'), ('with', 'IN'), ('the', 'DT'), Tree('NP', [('system', 'NN')]), ('.', '.')]),\n",
              " Tree('S', [('A', 'DT'), Tree('NP', [('nurse', 'NN')]), ('and', 'CC'), Tree('NP', [('doctor', 'NN')]), ('There', 'EX'), ('are', 'VBP'), Tree('NP', [('facilities', 'NNS')]), ('within', 'IN'), ('the', 'DT'), Tree('NP', [('hospital', 'NN')]), ('.', '.')]),\n",
              " Tree('S', [Tree('NP', [('Doctors', 'NNS')]), ('are', 'VBP'), ('competent', 'JJ'), ('The', 'DT'), Tree('NP', [('hospital', 'NN')]), ('is', 'VBZ'), ('a', 'DT'), ('good', 'JJ'), Tree('NP', [('thing', 'NN')]), ('to', 'TO'), ('be', 'VB'), ('able', 'JJ'), ('to', 'TO'), ('use', 'VB'), ('the', 'DT'), Tree('NP', [('service', 'NN')]), ('.', '.')]),\n",
              " Tree('S', [('I', 'PRP'), ('would', 'MD'), ('recommend', 'VB'), ('to', 'TO'), ('use', 'VB'), ('the', 'DT'), Tree('NP', [('service', 'NN')]), ('if', 'IN'), ('they', 'PRP'), ('are', 'VBP'), ('sick', 'JJ'), ('.', '.')]),\n",
              " Tree('S', [('After', 'IN'), ('going', 'VBG'), ('to', 'TO'), ('the', 'DT'), Tree('NP', [('doctor', 'NN')]), ('and', 'CC'), ('the', 'DT'), Tree('NP', [('patient', 'NN'), ('feels', 'NNS')]), ('better', 'RBR'), ('and', 'CC'), ('get', 'VB'), ('well', 'RB'), (',', ','), Tree('NP', [('thank', 'NN')]), ('you', 'PRP'), ('.', '.')]),\n",
              " Tree('S', [('What', 'WP'), ('is', 'VBZ'), ('really', 'RB'), ('like', 'IN'), ('a', 'DT'), Tree('NP', [('lot', 'NN')]), ('of', 'IN'), Tree('NP', [('people', 'NNS')]), ('in', 'IN'), ('this', 'DT'), Tree('NP', [('hospital', 'NN')]), ('.', '.')]),\n",
              " Tree('S', [('Most', 'JJS'), ('smiling', 'JJ'), Tree('NP', [('Greetings', 'NNS'), ('care', 'NN'), ('patients', 'NNS')]), ('and', 'CC'), ('those', 'DT'), ('who', 'WP'), ('use', 'VBP'), ('the', 'DT'), Tree('NP', [('service', 'NN')]), ('were', 'VBD'), ('very', 'RB'), ('good', 'JJ'), ('.', '.')]),\n",
              " Tree('S', [Tree('NP', [('Talk', 'NN'), ('relax', 'NN')]), ('at', 'IN'), ('all', 'DT'), ('.', '.')]),\n",
              " Tree('S', [('Most', 'JJS'), Tree('NP', [('doctors', 'NNS')]), ('who', 'WP'), ('have', 'VBP'), ('had', 'VBD'), ('the', 'DT'), ('good-hearted', 'JJ'), Tree('NP', [('people', 'NNS')]), ('I', 'PRP'), ('have', 'VBP'), ('ever', 'RB'), ('come', 'VBN'), ('across', 'IN'), Tree('NP', [('someone', 'NN')]), ('who', 'WP'), (\"'s\", 'VBZ'), ('not', 'RB'), ('very', 'RB'), ('much', 'RB'), ('.', '.')]),\n",
              " Tree('S', [('The', 'DT'), ('Department', 'NNP'), ('of', 'IN'), ('Medicine', 'NNP'), ('Private', 'NNP'), Tree('NP', [('rooms', 'NNS')]), ('are', 'VBP'), ('OK', 'JJ'), ('Private', 'NNP'), ('is', 'VBZ'), ('worth', 'IN'), ('the', 'DT'), Tree('NP', [('price', 'NN')]), ('Sister', 'NNP'), Tree('NP', [('midwife', 'NN')]), ('came', 'VBD'), ('here', 'RB'), ('it', 'PRP'), ('was', 'VBD'), ('safe', 'JJ'), Tree('NP', [('nursing', 'NN'), ('care', 'NN')]), ('nurse', 'RB'), ('well', 'RB'), ('.', '.')]),\n",
              " Tree('S', [('Stick', 'NNP'), ('to', 'TO'), ('that', 'DT'), Tree('NP', [('price', 'NN')]), ('The', 'DT'), Tree('NP', [('treatment', 'NN')]), ('may', 'MD'), ('be', 'VB'), ('a', 'DT'), Tree('NP', [('bit', 'NN')]), ('high', 'JJ'), ('.', '.')]),\n",
              " Tree('S', [('But', 'CC'), ('because', 'IN'), ('it', 'PRP'), ('is', 'VBZ'), ('a', 'DT'), ('privately', 'RB'), ('held', 'VBN'), ('her', 'PRP'), ('.', '.')]),\n",
              " Tree('S', [('I', 'PRP'), ('understand', 'VBP'), ('some', 'DT')]),\n",
              " Tree('S', [Tree('NP', [('Hospital', 'NN'), ('doctors', 'NNS')]), ('speak', 'VBP'), ('good', 'JJ'), Tree('NP', [('care', 'NN'), ('hospital', 'NN'), ('parking', 'NN'), ('lot', 'NN')]), ('of', 'IN'), ('the', 'DT'), Tree('NP', [('buildings', 'NNS')]), ('are', 'VBP'), ('easy', 'JJ'), ('to', 'TO'), ('maintain', 'VB'), ('affordable', 'JJ'), Tree('NP', [('prices', 'NNS')]), ('.', '.')]),\n",
              " Tree('S', [('The', 'DT'), Tree('NP', [('service', 'NN')]), ('has', 'VBZ'), ('been', 'VBN'), ('available', 'JJ'), ('in', 'IN'), ('the', 'DT'), ('near', 'JJ'), ('BTS', 'NNP'), Tree('NP', [('return', 'NN'), ('service', 'NN')]), ('.', '.')]),\n",
              " Tree('S', [('Check', 'NNP'), Tree('NP', [('queues', 'NNS')]), ('soon', 'RB'), ('doing', 'VBG'), ('a', 'DT'), ('brisk', 'JJ'), Tree('NP', [('mall', 'NN'), ('adjacent', 'NN')]), ('to', 'TO'), ('the', 'DT'), Tree('NP', [('hospital', 'NN')]), ('.', '.')]),\n",
              " Tree('S', [('Make', 'NNP'), Tree('NP', [('time', 'NN')]), ('to', 'TO'), ('wait', 'VB'), ('for', 'IN'), Tree('NP', [('test', 'NN'), ('results', 'NNS')]), ('You', 'PRP'), ('can', 'MD'), ('go', 'VB'), ('out', 'RP'), ('and', 'CC'), ('find', 'VB'), Tree('NP', [('something', 'NN')]), ('to', 'TO'), ('eat', 'VB'), ('before', 'IN'), ('going', 'VBG'), ('to', 'TO'), ('listen', 'VB'), ('to', 'TO'), ('the', 'DT'), Tree('NP', [('results', 'NNS')]), ('.', '.')]),\n",
              " Tree('S', [('Doctor', 'NNP'), ('friendly', 'JJ'), Tree('NP', [('eloquence', 'NN')]), ('generous', 'JJ'), Tree('NP', [('treatment', 'NN')]), ('here', 'RB'), ('since', 'IN'), Tree('NP', [('childhood', 'NN')]), ('.', '.')]),\n",
              " Tree('S', [('The', 'DT'), Tree('NP', [('hospital', 'NN')]), ('has', 'VBZ'), ('always', 'RB'), ('been', 'VBN'), ('good', 'JJ'), ('.', '.')]),\n",
              " Tree('S', [('You', 'PRP'), ('go', 'VBP'), ('to', 'TO'), ('the', 'DT'), Tree('NP', [('doctor', 'NN')]), ('with', 'IN'), Tree('NP', [('symptoms', 'NNS')]), ('of', 'IN'), Tree('NP', [('leg', 'NN'), ('pain', 'NN')]), (',', ','), ('ask', 'VB'), ('your', 'PRP$'), Tree('NP', [('doctor', 'NN')]), ('to', 'TO'), ('prescribe', 'VB'), ('the', 'DT'), Tree('NP', [('medication', 'NN')]), ('is', 'VBZ'), ('ingested', 'VBN'), ('then', 'RB'), ('slightly', 'RB'), ('loosen', 'VBZ'), ('the', 'DT'), Tree('NP', [('line', 'NN')]), ('and', 'CC'), ('paint', 'VB'), ('a', 'DT'), ('little', 'JJ'), (',', ','), ('priced', 'VBN'), ('at', 'IN'), ('1,490', 'CD'), ('as', 'IN'), ('this', 'DT'), ('is', 'VBZ'), ('never', 'RB'), ('less', 'JJR'), ('than', 'IN'), ('1,400', 'CD'), ('now', 'RB'), ('.', '.')]),\n",
              " Tree('S', [('The', 'DT'), Tree('NP', [('hospital', 'NN')]), ('where', 'WRB'), ('the', 'DT'), Tree('NP', [('family', 'NN'), ('service', 'NN')]), ('.', '.')]),\n",
              " Tree('S', [('Because', 'IN'), ('the', 'DT'), Tree('NP', [('price', 'NN')]), ('is', 'VBZ'), ('not', 'RB'), ('too', 'RB'), ('expensive', 'JJ'), Tree('NP', [('home', 'NN'), ('care', 'NN')]), ('and', 'CC'), Tree('NP', [('ease', 'NN')]), ('of', 'IN'), Tree('NP', [('travel', 'NN')]), ('.', '.')]),\n",
              " Tree('S', [('Buffett', 'NNP'), (\"'s\", 'POS'), Tree('NP', [('rain', 'NN')]), ('falls', 'VBZ'), ('ill', 'JJ'), ('treat', 'VB'), ('me', 'PRP'), ('into', 'IN'), ('the', 'DT'), Tree('NP', [('emergency', 'NN'), ('room', 'NN')]), (',', ','), ('a', 'DT'), Tree('NP', [('health', 'NN'), ('insurance', 'NN'), ('claim', 'NN'), ('hospital', 'NN'), ('care', 'NN')]), ('is', 'VBZ'), ('very', 'RB'), ('good', 'JJ'), ('.', '.')]),\n",
              " Tree('S', [Tree('NP', [('Relatives', 'NNS')]), ('and', 'CC'), Tree('NP', [('friends', 'NNS')]), ('keeping', 'VBG'), ('me', 'PRP'), ('here', 'RB'), ('.', '.')]),\n",
              " Tree('S', [Tree('NP', [('Patients', 'NNS')]), ('are', 'VBP'), ('routinely', 'RB'), ('over', 'IN'), ('the', 'DT'), ('last', 'JJ'), ('20', 'CD'), Tree('NP', [('years', 'NNS')]), ('has', 'VBZ'), ('been', 'VBN'), ('to', 'TO'), ('see', 'VB'), ('a', 'DT'), Tree('NP', [('doctor', 'NN')]), ('about', 'IN'), Tree('NP', [('bone', 'NN'), ('pain', 'NN')]), ('.', '.')]),\n",
              " Tree('S', [('Can', 'MD'), ('not', 'RB'), ('move', 'VB'), ('Was', 'NNP'), ('never', 'RB'), ('like', 'IN'), ('this', 'DT'), Tree('NP', [('before', 'NN')]), ('.', '.')]),\n",
              " Tree('S', [('The', 'DT'), Tree('NP', [('doctor', 'NN')]), ('did', 'VBD'), ('not', 'RB'), ('say', 'VB'), Tree('NP', [('anything', 'NN')]), ('more', 'JJR'), ('.', '.')]),\n",
              " Tree('S', [('When', 'WRB'), ('asked', 'VBN'), ('if', 'IN'), ('it', 'PRP'), ('is', 'VBZ'), ('not', 'RB'), ('broken', 'VBN'), ('.', '.')]),\n",
              " Tree('S', [('Or', 'CC'), ('is', 'VBZ'), Tree('NP', [('something', 'NN')]), ('more', 'RBR'), (',', ','), ('right', 'RB'), ('?', '.')]),\n",
              " Tree('S', [('The', 'DT'), Tree('NP', [('doctor', 'NN')]), ('replied', 'VBD'), ('that', 'IN'), ('if', 'IN'), ('this', 'DT'), ('is', 'VBZ'), ('broken', 'VBN'), ('.', '.')]),\n",
              " Tree('S', [('It', 'PRP'), ('is', 'VBZ'), ('now', 'RB'), Tree('NP', [('cancer', 'NN')]), ('The', 'DT'), Tree('NP', [('answer', 'NN')]), ('is', 'VBZ'), ('not', 'RB'), ('worthy', 'JJ'), Tree('NP', [('answer', 'NN')]), ('to', 'TO'), ('this', 'DT'), Tree('NP', [('patient', 'NN')]), ('.', '.')]),\n",
              " Tree('S', [('I', 'PRP'), ('have', 'VBP'), ('been', 'VBN'), ('informed', 'VBN'), ('of', 'IN'), ('the', 'DT'), Tree('NP', [('complaint', 'NN')]), ('to', 'TO'), ('the', 'DT'), Tree('NP', [('hospital', 'NN')]), ('.', '.')]),\n",
              " Tree('S', [('The', 'DT'), Tree('NP', [('doctor', 'NN')]), ('is', 'VBZ'), ('a', 'DT'), ('good', 'JJ'), Tree('NP', [('doctor', 'NN')]), ('and', 'CC'), ('famous', 'JJ'), ('.', '.')]),\n",
              " Tree('S', [('In', 'IN'), Tree('NP', [('conclusion', 'NN')]), (',', ','), ('I', 'PRP'), ('have', 'VBP'), ('muscle', 'VBN'), ('relaxant', 'JJ'), Tree('NP', [('medications', 'NNS')]), ('and', 'CC'), ('topical', 'JJ'), Tree('NP', [('analgesics', 'NNS')]), ('that', 'WDT'), ('.', '.')]),\n",
              " Tree('S', [('Therefore', 'RB'), ('ask', 'VBZ'), ('the', 'DT'), Tree('NP', [('pharmacist', 'NN')]), ('to', 'TO'), ('dispense', 'VB'), ('again', 'RB'), ('.', '.')]),\n",
              " Tree('S', [('OK', 'UH'), (',', ','), ('that', 'DT'), (\"'s\", 'VBZ'), ('what', 'WP')]),\n",
              " Tree('S', [('To', 'TO'), ('treat', 'VB'), Tree('NP', [('rheumatoid', 'NN')]), ('at', 'IN'), ('the', 'DT'), ('Bangkok', 'NNP'), ('Christian', 'NNP'), ('Hospital', 'NNP'), ('here', 'RB'), ('.', '.')]),\n",
              " Tree('S', [('You', 'PRP'), Tree('NP', [('kind', 'NN')]), ('and', 'CC'), Tree('NP', [('caring', 'NN')]), ('very', 'RB'), ('good', 'JJ'), ('.', '.')]),\n",
              " Tree('S', [('Will', 'MD'), ('see', 'VB'), ('the', 'DT'), Tree('NP', [('disease', 'NN')]), ('as', 'RB'), ('well', 'RB'), ('.', '.')]),\n",
              " Tree('S', [('Once', 'RB'), ('selected', 'VBN'), ('the', 'DT'), ('right', 'JJ'), Tree('NP', [('eye', 'NN'), ('capillaries', 'NNS')]), ('in', 'IN'), ('the', 'DT'), Tree('NP', [('eye', 'NN')]), ('.', '.')]),\n",
              " Tree('S', [('It', 'PRP'), ('makes', 'VBZ'), ('the', 'DT'), Tree('NP', [('eyes', 'NNS')]), ('red', 'VBD'), ('Go', 'NNP'), ('to', 'TO'), ('the', 'DT'), Tree('NP', [('doctor', 'NN')]), ('by', 'IN'), Tree('NP', [('appointment', 'NN')]), ('The', 'DT'), Tree('NP', [('doctor', 'NN')]), ('asked', 'VBD'), ('my', 'PRP$'), ('red', 'JJ'), Tree('NP', [('eyes', 'NNS')]), ('.', '.')]),\n",
              " Tree('S', [('Ask', 'VB'), ('the', 'DT'), ('Prophet', 'NNP'), ('.', '.')]),\n",
              " Tree('S', [('But', 'CC'), ('we', 'PRP'), ('go', 'VBP'), ('untreated', 'JJ'), Tree('NP', [('rheumatoid', 'NN')]), ('Grand', 'NNP'), ('.', '.')]),\n",
              " Tree('S', [('Not', 'RB'), ('keeping', 'VBG'), ('an', 'DT'), Tree('NP', [('eye', 'NN')]), ('on', 'IN'), ('The', 'DT'), Tree('NP', [('doctor', 'NN')]), ('also', 'RB'), ('noted', 'VBD'), ('.', '.')]),\n",
              " Tree('S', [Tree('NP', [('Shows', 'NNS')]), ('empathy', 'VBP'), ('for', 'IN'), Tree('NP', [('patients', 'NNS')]), ('.', '.')]),\n",
              " Tree('S', [('Then', 'RB'), ('again', 'RB'), (',', ','), ('the', 'DT'), Tree('NP', [('weather', 'NN')]), ('was', 'VBD'), ('quite', 'RB'), ('cold', 'JJ'), ('.', '.')]),\n",
              " Tree('S', [('I', 'PRP'), ('noticed', 'VBD'), ('that', 'IN'), ('a', 'DT'), Tree('NP', [('leg', 'NN')]), ('up', 'RP'), ('red', 'JJ'), Tree('NP', [('blotches', 'NNS')]), ('.', '.')]),\n",
              " Tree('S', [('He', 'PRP'), ('was', 'VBD'), ('asked', 'VBN'), ('whether', 'IN'), ('or', 'CC'), Tree('NP', [('winter', 'NN')]), ('.', '.')]),\n",
              " Tree('S', [('Dong', 'NNP'), ('remember', 'VB'), ('him', 'PRP'), ('as', 'IN'), ('extraordinary', 'JJ'), ('yet', 'RB'), ('.', '.')]),\n",
              " Tree('S', [('Shows', 'VBZ'), ('the', 'DT'), ('great', 'JJ'), Tree('NP', [('attention', 'NN')]), ('both', 'DT'), ('at', 'IN'), ('about', 'IN'), ('the', 'DT'), Tree('NP', [('disease', 'NN')]), ('that', 'WDT'), ('came', 'VBD'), ('to', 'TO'), ('me', 'PRP'), ('.', '.')]),\n",
              " Tree('S', [('As', 'RB'), ('well', 'RB'), ('as', 'IN'), Tree('NP', [('talk', 'NN')]), ('about', 'IN'), Tree('NP', [('work', 'NN')]), ('Introductions', 'NNP'), ('Encouragement', 'NNP'), ('throughout', 'IN'), ('.', '.')]),\n",
              " Tree('S', [('Good', 'JJ'), Tree('NP', [('service', 'NN')]), ('described', 'VBD'), ('patient', 'JJ'), Tree('NP', [('care', 'NN')])]),\n",
              " Tree('S', [Tree('NP', [('Yesterday', 'NN')]), ('was', 'VBD'), ('a', 'DT'), Tree('NP', [('doctor', 'NN')]), ('at', 'IN'), ('the', 'DT'), Tree('NP', [('hospital', 'NN')]), ('Christians', 'NNPS'), ('.', '.')]),\n",
              " Tree('S', [('Ambulance', 'NNP'), Tree('NP', [('service', 'NN')]), ('here', 'RB'), ('is', 'VBZ'), ('very', 'RB'), ('flattering', 'JJ'), Tree('NP', [('impression', 'NN')]), ('smiling', 'VBG'), ('much', 'JJ'), ('.', '.')]),\n",
              " Tree('S', [('I', 'PRP'), ('had', 'VBD'), ('to', 'TO'), ('give', 'VB'), Tree('NP', [('birth', 'NN')]), ('at', 'IN'), ('the', 'DT'), Tree('NP', [('hospital', 'NN')]), ('in', 'IN'), ('2554', 'CD'), ('when', 'WRB'), ('Bangkok', 'NNP'), Tree('NP', [('แlai', 'NN')]), ('2556', 'CD'), ('.', '.')]),\n",
              " Tree('S', [Tree('NP', [('Nurses', 'NNS'), ('feel', 'NN')]), ('and', 'CC'), ('the', 'DT'), Tree('NP', [('service', 'NN')]), ('is', 'VBZ'), ('very', 'RB'), ('good', 'JJ'), ('.', '.')]),\n",
              " Tree('S', [('The', 'DT'), ('first', 'JJ'), Tree('NP', [('day', 'NN')]), ('she', 'PRP'), ('entered', 'VBD'), ('the', 'DT'), Tree('NP', [('hospital', 'NN')]), ('.', '.')]),\n",
              " Tree('S', [('The', 'DT'), Tree('NP', [('doctor', 'NN')]), ('was', 'VBD'), Tree('NP', [('kind', 'NN'), ('ฝaktgag', 'NN')]), ('.', '.')]),\n",
              " Tree('S', [('And', 'CC'), ('very', 'RB'), ('sociable', 'JJ'), Tree('NP', [('Talk', 'NN')]), ('with', 'IN'), ('the', 'DT'), Tree('NP', [('patient', 'NN')]), (\"'s\", 'POS'), ('very', 'RB'), ('melodic', 'JJ'), ('.', '.')]),\n",
              " Tree('S', [('I', 'PRP'), ('like', 'VBP'), ('this', 'DT'), Tree('NP', [('doctor', 'NN')]), ('because', 'IN'), ('the', 'DT'), Tree('NP', [('doctor', 'NN')]), ('advised', 'VBD'), ('to', 'TO'), ('consult', 'VB'), ('any', 'DT'), ('good', 'JJ'), Tree('NP', [('story', 'NN')]), (',', ','), ('I', 'PRP'), ('asked', 'VBD'), ('.', '.')]),\n",
              " Tree('S', [Tree('NP', [('Today', 'NN')]), (',', ','), ('if', 'IN'), Tree('NP', [('people', 'NNS')]), ('have', 'VBP'), ('more', 'JJR'), Tree('NP', [('children', 'NNS')]), (',', ','), ('ฝaktgag', 'VBP'), ('here', 'RB'), ('like', 'IN'), ('me', 'PRP'), ('.', '.')]),\n",
              " Tree('S', [('Service', 'NNP'), ('is', 'VBZ'), ('fast', 'RB'), ('Medical', 'JJ'), Tree('NP', [('counseling', 'NN')]), ('and', 'CC'), Tree('NP', [('information', 'NN')]), ('about', 'IN'), ('the', 'DT'), Tree('NP', [('disease', 'NN')]), ('as', 'RB'), ('well', 'RB'), ('.', '.')]),\n",
              " Tree('S', [('I', 'PRP'), ('can', 'MD'), ('not', 'RB'), ('find', 'VB'), ('a', 'DT'), Tree('NP', [('diagnosis', 'NN')]), ('for', 'IN'), ('several', 'JJ'), Tree('NP', [('years', 'NNS')]), ('.', '.')]),\n",
              " Tree('S', [('It', 'PRP'), (\"'s\", 'VBZ'), ('worth', 'IN'), ('it', 'PRP'), ('Other', 'JJ'), Tree('NP', [('staff', 'NN')]), ('is', 'VBZ'), ('friendly', 'JJ'), ('and', 'CC'), ('good', 'JJ'), ('free', 'JJ'), Tree('NP', [('wifi', 'NN')]), ('that', 'WDT'), (\"'s\", 'VBZ'), ('hard', 'JJ'), ('to', 'TO'), ('do', 'VB'), ('here', 'RB'), ('.', '.')]),\n",
              " Tree('S', [('My', 'PRP$'), Tree('NP', [('stomach', 'NN'), ('twin', 'NN'), ('gestation', 'NN')]), ('3', 'CD'), ('26-27wk', 'JJ'), Tree('NP', [('diarrhea', 'NN')]), ('from', 'IN'), ('3', 'CD'), ('to', 'TO'), ('9', 'CD'), Tree('NP', [('pm', 'NN')]), (',', ','), ('but', 'CC'), ('a', 'DT'), Tree('NP', [('doctor', 'NN')]), ('at', 'IN'), ('the', 'DT'), Tree('NP', [('hospital', 'NN')]), (',', ','), Tree('NP', [('someone', 'NN')]), ('took', 'VBD'), ('a', 'DT'), Tree('NP', [('wheelchair', 'NN')]), ('to', 'TO'), ('get', 'VB'), ('.', '.')]),\n",
              " Tree('S', [Tree('NP', [('Accelerators', 'NNS')]), ('that', 'WDT'), ('make', 'VBP'), ('it', 'PRP'), Tree('NP', [('convenient', 'NN')]), ('to', 'TO'), ('go', 'VB'), ('to', 'TO'), ('the', 'DT'), Tree('NP', [('bathroom', 'NN')]), ('.', '.')]),\n",
              " Tree('S', [('May', 'NNP'), Tree('NP', [('d.', 'NN')]), ('Nurse', 'NNP'), ('brought', 'VBD'), ('him', 'PRP'), ('willingly', 'RB'), ('.', '.')]),\n",
              " Tree('S', [('That', 'DT'), ('caught', 'VBD'), ('the', 'DT'), Tree('NP', [('brine', 'NN')]), ('admit', 'VBP'), ('one', 'CD'), Tree('NP', [('night', 'NN')]), ('at', 'IN'), ('a', 'DT'), ('Portuguese', 'JJ'), Tree('NP', [('doctor', 'NN')]), (',', ','), Tree('NP', [('specialist', 'NN'), ('doctors', 'NNS')]), ('and', 'CC'), Tree('NP', [('obstetricians', 'NNS')]), ('.', '.')]),\n",
              " Tree('S', [('Doctor', 'NNP'), (\"'s\", 'POS'), Tree('NP', [('disease', 'NN')]), ('and', 'CC'), Tree('NP', [('colon', 'NN'), ('care', 'NN')]), ('close', 'JJ'), ('it', 'PRP'), ('.', '.')]),\n",
              " Tree('S', [('The', 'DT'), ('only', 'JJ'), Tree('NP', [('drawback', 'NN')]), ('I', 'PRP'), ('feel', 'VBP'), ('better', 'RB'), ('.', '.')]),\n",
              " Tree('S', [('And', 'CC'), ('discharged', 'VBD'), ('me', 'PRP'), ('.', '.')]),\n",
              " Tree('S', [Tree('NP', [('Exceptions', 'NNS')]), ('only', 'RB'), ('dislike', 'VBP'), ('is', 'VBZ'), ('the', 'DT'), Tree('NP', [('bed', 'NN')]), ('a', 'DT'), ('little', 'JJ'), ('too', 'RB'), ('hard', 'RB'), ('.', '.')]),\n",
              " Tree('S', [('Women', 'NNP'), ('pregnant', 'JJ'), ('belly', 'RB'), ('grows', 'VBZ'), ('a', 'DT'), ('little', 'JJ'), Tree('NP', [('journey', 'NN')]), ('.', '.')]),\n",
              " Tree('S', [('Rarely', 'RB'), ('liner', 'JJ'), Tree('NP', [('port', 'NN')]), ('ergonomic', 'VBD'), ('us', 'PRP'), ('much', 'RB'), ('good', 'JJ'), (',', ','), ('but', 'CC'), ('I', 'PRP'), ('do', 'VBP'), ('ok', 'RB'), ('.', '.')]),\n",
              " Tree('S', [('You', 'PRP'), (\"'ve\", 'VBP'), ('found', 'VBN'), ('the', 'DT'), Tree('NP', [('maternity', 'NN'), ('ward', 'NN')]), ('of', 'IN'), ('irregular', 'JJ'), ('menstrual', 'JJ'), Tree('NP', [('cycles', 'NNS')]), ('.', '.')]),\n",
              " Tree('S', [('You', 'PRP'), ('are', 'VBP'), ('a', 'DT'), Tree('NP', [('man', 'NN')]), ('Initially', 'NNP'), ('shy', 'JJ'), ('and', 'CC'), ('scared', 'JJ'), ('because', 'IN'), ('it', 'PRP'), ('requires', 'VBZ'), Tree('NP', [('examination', 'NN')]), ('.', '.')]),\n",
              " Tree('S', [('But', 'CC'), Tree('NP', [('doctors', 'NNS')]), ('say', 'VBP'), ('the', 'DT'), ('very', 'RB'), ('friendly', 'JJ'), ('at', 'IN'), Tree('NP', [('check', 'NN')]), ('not', 'RB'), ('scary', 'JJ'), ('at', 'IN'), ('all', 'DT'), ('.', '.')]),\n",
              " Tree('S', [('Woon', 'NNP'), ('has', 'VBZ'), ('Ultrasound', 'VBN'), ('Uterine', 'NNP'), Tree('NP', [('teller', 'NN')]), ('with', 'IN'), ('you', 'PRP'), ('until', 'IN'), ('the', 'DT'), Tree('NP', [('eggs', 'NNS')]), ('are', 'VBP'), Tree('NP', [('eggs', 'NNS')]), ('that', 'WDT'), ('have', 'VBP'), ('little', 'JJ'), Tree('NP', [('egg', 'NN')]), ('with', 'IN'), ('normal', 'JJ'), Tree('NP', [('children', 'NNS')]), ('.', '.')]),\n",
              " Tree('S', [('The', 'DT'), ('uterine', 'JJ'), Tree('NP', [('wall', 'NN')]), ('so', 'RB'), ('strong', 'JJ'), ('that', 'IN'), ('you', 'PRP'), ('have', 'VBP'), ('forgotten', 'VBN'), ('much', 'JJ'), ('.', '.')]),\n",
              " Tree('S', [('I', 'PRP'), ('think', 'VBP'), ('it', 'PRP'), ('cost', 'VBD'), ('dearly', 'RB'), ('.', '.')]),\n",
              " Tree('S', [('I', 'PRP'), ('think', 'VBP'), ('out', 'IN'), ('Thousand', 'NNP'), Tree('NP', [('baht', 'NN')]), ('is', 'VBZ'), ('very', 'RB'), ('cheap', 'JJ'), ('for', 'IN'), ('the', 'DT'), ('internal', 'JJ'), Tree('NP', [('temperature', 'NN')]), ('of', 'IN'), ('the', 'DT'), Tree('NP', [('ultrasound', 'NN')]), ('.', '.')]),\n",
              " Tree('S', [('Doctor', 'NNP'), (',', ','), Tree('NP', [('thank', 'NN')]), ('you', 'PRP'), ('very', 'RB'), ('much', 'RB'), ('!', '.')]),\n",
              " Tree('S', [('On', 'IN'), ('Sunday', 'NNP'), Tree('NP', [('disease', 'NN'), ('recurrence', 'NN')]), ('Ask', 'NNP'), ('your', 'PRP$'), Tree('NP', [('doctor', 'NN')]), (',', ','), Tree('NP', [('hospital', 'NN'), ('bed', 'NN')]), ('.', '.')]),\n",
              " Tree('S', [('But', 'CC'), Tree('NP', [('doctors', 'NNS')]), ('say', 'VBP'), ('that', 'DT'), ('is', 'VBZ'), ('not', 'RB'), ('necessary', 'JJ'), ('.', '.')]),\n",
              " Tree('S', [('Better', 'RBR'), ('to', 'TO'), ('stay', 'VB'), ('at', 'IN'), Tree('NP', [('home', 'NN')]), ('I', 'PRP'), ('was', 'VBD'), ('glad', 'VBN'), ('to', 'TO'), ('put', 'VB'), ('the', 'DT'), Tree('NP', [('interests', 'NNS')]), ('of', 'IN'), Tree('NP', [('patients', 'NNS')]), ('over', 'IN'), ('.', '.')]),\n",
              " Tree('S', [('The', 'DT'), ('hospital', 'JJ'), Tree('NP', [('staff', 'NN')]), ('was', 'VBD'), ('attentive', 'JJ'), (',', ','), ('very', 'RB'), ('patient', 'JJ'), ('.', '.')]),\n",
              " Tree('S', [('A', 'DT'), ('medical', 'JJ'), Tree('NP', [('expert', 'NN')]), ('will', 'MD'), ('go', 'VB'), ('to', 'TO'), ('the', 'DT'), Tree('NP', [('front', 'NN')]), ('of', 'IN'), ('whatever', 'WDT'), Tree('NP', [('experience', 'NN')]), ('it', 'PRP'), (',', ','), ('ENT', 'NNP'), Tree('NP', [('doctors', 'NNS')]), ('and', 'CC'), Tree('NP', [('nurses', 'NNS')]), ('can', 'MD'), ('answer', 'VB'), Tree('NP', [('questions', 'NNS')]), ('better', 'JJR'), ('/', 'NNP'), ('Department', 'NNP'), ('of', 'IN'), ('Ophthalmology', 'NNP'), ('is', 'VBZ'), ('the', 'DT'), ('same', 'JJ'), ('/', 'NNP'), ('internal', 'JJ'), Tree('NP', [('medicine', 'NN'), ('department', 'NN')]), ('.', '.')]),\n",
              " Tree('S', [Tree('NP', [('Doctors', 'NNS')]), ('can', 'MD'), ('interact', 'VB'), ('And', 'CC'), ('knowledge', 'VB'), ('is', 'VBZ'), ('excellent', 'JJ'), ('/', 'NNP'), ('OPD', 'NNP'), Tree('NP', [('department', 'NN')]), ('is', 'VBZ'), ('trying', 'VBG'), ('to', 'TO'), ('use', 'VB'), ('the', 'DT'), Tree('NP', [('material', 'NN')]), ('.', '.')]),\n",
              " Tree('S', [('So', 'RB'), ('as', 'IN'), ('not', 'RB'), ('to', 'TO'), ('break', 'VB'), ('the', 'DT'), Tree('NP', [('load', 'NN')]), ('.', '.')]),\n",
              " Tree('S', [('The', 'DT'), ('recommended', 'JJ'), Tree('NP', [('treatment', 'NN')]), ('for', 'IN'), Tree('NP', [('patients', 'NNS')]), ('with', 'IN'), Tree('NP', [('post', 'NN'), ('hospital', 'NN'), ('services', 'NNS')]), ('is', 'VBZ'), ('a', 'DT'), ('good', 'JJ'), Tree('NP', [('team', 'NN')]), ('of', 'IN'), ('medical', 'JJ'), Tree('NP', [('specialists', 'NNS')]), ('.', '.')]),\n",
              " Tree('S', [('And', 'CC'), ('superfluous', 'JJ')]),\n",
              " Tree('S', [('To', 'TO'), ('treat', 'VB'), ('itching', 'VBG'), ('in', 'IN'), Tree('NP', [('parachute', 'NN')]), ('Since', 'IN'), Tree('NP', [('travel', 'NN'), ('nurses', 'NNS')]), ('and', 'CC'), Tree('NP', [('doctors', 'NNS')]), ('to', 'TO'), ('provide', 'VB'), Tree('NP', [('care', 'NN')]), ('and', 'CC'), Tree('NP', [('guidance', 'NN')]), ('is', 'VBZ'), ('great', 'JJ'), ('.', '.')]),\n",
              " Tree('S', [Tree('NP', [('Reduces', 'NNS'), ('symptoms', 'NNS')]), ('of', 'IN'), ('nervous', 'JJ'), Tree('NP', [('doctors', 'NNS')]), (',', ','), Tree('NP', [('obstetricians', 'NNS')]), ('have', 'VBP'), ('found', 'VBN'), ('the', 'DT'), ('first', 'JJ'), Tree('NP', [('lot', 'NN')]), ('.', '.')]),\n",
              " Tree('S', [('Good', 'JJ'), Tree('NP', [('doctors', 'NNS')]), ('do', 'VBP'), ('not', 'RB'), ('treat', 'VB'), ('it', 'PRP'), ('.', '.')]),\n",
              " Tree('S', [('Dr.', 'NNP'), ('Plernpit', 'NNP'), ('Lertpanya', 'NNP'), Tree('NP', [('children', 'NNS')]), ('were', 'VBD'), ('very', 'RB'), ('good', 'JJ'), Tree('NP', [('doctors', 'NNS')]), ('detect', 'VBP'), Tree('NP', [('diseases', 'NNS')]), ('of', 'IN'), ('new', 'JJ'), ('diagnostic', 'JJ'), Tree('NP', [('accuracy', 'NN')]), ('.', '.')]),\n",
              " Tree('S', [('A', 'DT'), ('clear', 'JJ'), Tree('NP', [('answer', 'NN')])]),\n",
              " Tree('S', [('Son', 'NNP'), ('HIV', 'NNP'), Tree('NP', [('virus', 'NN'), ('rsv', 'NN')]), ('While', 'IN'), ('Ward', 'NNP'), (\"'s\", 'POS'), ('filled', 'VBN'), ('every', 'DT'), Tree('NP', [('room', 'NN')]), ('.', '.')]),\n",
              " Tree('S', [('The', 'DT'), Tree('NP', [('hospital', 'NN')]), ('provides', 'VBZ'), ('a', 'DT'), Tree('NP', [('solution', 'NN')]), ('to', 'TO'), ('the', 'DT'), ('ICU', 'NNP'), Tree('NP', [('waiting', 'NN'), ('room', 'NN')]), ('.', '.')]),\n",
              " Tree('S', [('Nurse', 'NNP'), ('updated', 'VBD'), ('all', 'PDT'), ('the', 'DT'), Tree('NP', [('time', 'NN')]), ('to', 'TO'), ('have', 'VB'), ('the', 'DT'), Tree('NP', [('room', 'NN')]), ('now', 'RB'), ('.', '.')]),\n",
              " Tree('S', [Tree('NP', [('Nursing', 'NN')]), ('and', 'CC'), ('medical', 'JJ'), Tree('NP', [('care', 'NN')]), ('and', 'CC'), Tree('NP', [('attention', 'NN')]), ('to', 'TO'), Tree('NP', [('patients', 'NNS')]), ('very', 'RB'), ('well', 'RB'), ('in', 'IN'), Tree('NP', [('spite', 'NN')]), ('of', 'IN'), ('the', 'DT'), ('many', 'JJ'), ('sick', 'JJ'), Tree('NP', [('children', 'NNS')]), ('are', 'VBP'), ('busy', 'JJ'), ('the', 'DT'), ('whole', 'JJ'), Tree('NP', [('ward', 'NN')]), ('.', '.')]),\n",
              " Tree('S', [('All', 'DT'), Tree('NP', [('patients', 'NNS')]), ('with', 'IN'), ('a', 'DT'), ('smiling', 'VBG'), Tree('NP', [('countenance', 'NN')]), ('.', '.')]),\n",
              " Tree('S', [('Very', 'RB'), ('impressive', 'JJ')]),\n",
              " Tree('S', [('Maternity', 'NNP'), ('leave', 'VBP'), ('and', 'CC'), ('delivered', 'VBN'), ('to', 'TO'), ('the', 'DT'), ('Mayor', 'NNP'), (',', ','), ('Dr.', 'NNP'), ('Siri', 'NNP'), Tree('NP', [('estate', 'NN')]), ('you', 'PRP'), ('are', 'VBP'), ('so', 'RB'), Tree('NP', [('kind', 'NN')]), (',', ','), ('friendly', 'RB'), (',', ','), ('informative', 'JJ'), ('about', 'IN'), ('the', 'DT'), Tree('NP', [('pregnancy', 'NN')]), ('very', 'RB'), ('well', 'RB'), ('.', '.')]),\n",
              " Tree('S', [('You', 'PRP'), ('are', 'VBP'), ('very', 'RB'), ('specialized', 'JJ'), Tree('NP', [('Every', 'NN'), ('time', 'NN')]), ('you', 'PRP'), ('encounter', 'VBP'), ('a', 'DT'), Tree('NP', [('problem', 'NN')]), ('during', 'IN'), Tree('NP', [('pregnancy', 'NN')]), ('.', '.')]),\n",
              " Tree('S', [('Your', 'PRP$'), Tree('NP', [('doctor', 'NN')]), ('will', 'MD'), ('give', 'VB'), ('you', 'PRP'), ('very', 'RB'), ('good', 'JJ'), Tree('NP', [('advice', 'NN')]), ('.', '.')]),\n",
              " Tree('S', [('You', 'PRP'), ('pretty', 'RB'), ('much', 'JJ'), ('caesarean', 'JJ'), Tree('NP', [('stitches', 'NNS')]), ('.', '.')]),\n",
              " Tree('S', [('Walking', 'VBG'), ('out', 'IN'), ('of', 'IN'), Tree('NP', [('bed', 'NN')]), ('after', 'IN'), ('disconnecting', 'VBG'), Tree('NP', [('water', 'NN')]), ('.', '.')]),\n",
              " Tree('S', [('Very', 'RB'), ('sore', 'RB'), ('Doctor', 'NNP'), Tree('NP', [('patient', 'NN'), ('care', 'NN')]), ('as', 'RB'), ('well', 'RB'), ('as', 'IN'), ('your', 'PRP$'), ('regular', 'JJ'), Tree('NP', [('doctor', 'NN')]), ('.', '.')]),\n",
              " Tree('S', [('The', 'DT'), Tree('NP', [('examination', 'NN')]), ('every', 'DT'), Tree('NP', [('year', 'NN')])]),\n",
              " Tree('S', [('Very', 'RB'), ('good', 'JJ'), Tree('NP', [('service', 'NN')])]),\n",
              " Tree('S', [('Often', 'RB'), ('a', 'DT'), ('good', 'JJ'), ('big', 'JJ'), Tree('NP', [('room', 'NN')])]),\n",
              " Tree('S', [('Nursing', 'VBG'), ('a', 'DT'), Tree('NP', [('counter', 'NN')]), ('with', 'IN'), ('about', 'IN'), ('20', 'CD'), Tree('NP', [('people', 'NNS')]), (',', ','), ('but', 'CC'), ('the', 'DT'), Tree('NP', [('doctor', 'NN')]), ('in', 'IN'), ('the', 'DT'), Tree('NP', [('examination', 'NN'), ('room', 'NN')]), (',', ','), ('I', 'PRP'), ('have', 'VBP'), ('concluded', 'VBN'), ('this', 'DT'), ('May', 'NNP'), ('de', 'FW'), ('Blanca', 'NNP'), ('Caballero', 'NNP'), Tree('NP', [('treatment', 'NN')]), ('or', 'CC'), Tree('NP', [('doctor', 'NN')]), (\"'s\", 'POS'), Tree('NP', [('appointment', 'NN')]), ('9:00', 'CD'), ('to', 'TO'), ('10:00', 'CD'), (',', ','), ('thus', 'RB'), ('far', 'RB'), (',', ','), ('has', 'VBZ'), ('not', 'RB'), ('been', 'VBN'), ('reviewed', 'VBN'), ('yet', 'RB'), ('..', 'JJ')]),\n",
              " Tree('S', [('Good', 'JJ'), Tree('NP', [('service', 'NN')]), (',', ','), ('reasonable', 'JJ'), Tree('NP', [('prices', 'NNS')])]),\n",
              " Tree('S', [('Find', 'IN'), ('a', 'DT'), ('Doctor', 'NNP'), ('of', 'IN'), ('Nursing', 'NNP'), ('to', 'TO'), ('pressure', 'VB'), ('weighing', 'VBG'), Tree('NP', [('surgery', 'NN')]), ('when', 'WRB'), ('he', 'PRP'), ('put', 'VBD'), ('his', 'PRP$'), Tree('NP', [('hand', 'NN')]), ('to', 'TO'), Tree('NP', [('pressure', 'NN')]), ('.', '.')]),\n",
              " Tree('S', [Tree('NP', [('Replacement', 'NN'), ('nurses', 'NNS')]), ('will', 'MD'), ('have', 'VB'), ('to', 'TO'), ('press', 'VB'), Tree('NP', [('start', 'NN')]), ('to', 'TO'), ('press', 'VB'), ('it', 'PRP'), ('.', '.')]),\n",
              " Tree('S', [Tree('NP', [('Went', 'NN')]), ('to', 'TO'), ('a', 'DT'), ('dental', 'JJ'), ('x-Ray', 'JJ'), ('done', 'VBN'), ('enough', 'JJ'), Tree('NP', [('nurses', 'NNS')]), ('were', 'VBD'), ('told', 'VBN'), ('to', 'TO'), ('wait', 'VB'), ('outside', 'RB'), (',', ','), ('then', 'RB'), ('.', '.')]),\n",
              " Tree('S', [('The', 'DT'), Tree('NP', [('patients', 'NNS')]), ('then', 'RB'), ('cancel', 'VB'), ('his', 'PRP$'), Tree('NP', [('jacket', 'NN')]), ('to', 'TO'), ('keep', 'VB'), ('the', 'DT'), Tree('NP', [('radiation', 'NN')]), ('itself', 'PRP'), ('.', '.')]),\n",
              " Tree('S', [('OK', 'UH'), (',', ','), ('that', 'DT'), ('private', 'JJ'), Tree('NP', [('hospitals', 'NNS')]), ('The', 'DT'), Tree('NP', [('government', 'NN'), ('hospital', 'NN')]), ('waiting', 'VBG'), ('for', 'IN'), ('me', 'PRP'), ('.', '.')]),\n",
              " Tree('S', [('ICU', 'NNP'), ('9', 'CD'), Tree('NP', [('thanks', 'NNS')]), ('to', 'TO'), ('a', 'DT'), Tree('NP', [('caring', 'NN'), ('mother', 'NN')]), (',', ','), ('I', 'PRP'), (\"'m\", 'VBP'), ('a', 'DT'), ('good', 'JJ'), Tree('NP', [('mother', 'NN')]), ('visited', 'VBD'), ('last', 'JJ'), Tree('NP', [('night', 'NN')]), ('to', 'TO'), ('ask', 'VB'), Tree('NP', [('symptoms', 'NNS')]), ('.', '.')]),\n",
              " Tree('S', [('He', 'PRP'), ('played', 'VBD'), Tree('NP', [('catch', 'NN')]), ('with', 'IN'), Tree('NP', [('cheeks', 'NNS')]), ('like', 'IN'), ('a', 'DT'), ('friendly', 'JJ'), Tree('NP', [('feel', 'NN')]), ('like', 'IN'), Tree('NP', [('grandchildren', 'NNS')]), ('.', '.')]),\n",
              " Tree('S', [Tree('NP', [('Doctors', 'NNS')]), ('and', 'CC'), ('Mar', 'NNP'), ('Bal', 'NNP'), ('very', 'RB'), ('cute', 'RB'), ('.', '.')]),\n",
              " Tree('S', [Tree('NP', [('Doctor', 'NN')]), ('and', 'CC'), Tree('NP', [('nurse', 'NN')]), ('You', 'PRP'), ('are', 'VBP'), ('very', 'RB'), Tree('NP', [('kind', 'NN')]), ('flattering', 'JJ'), Tree('NP', [('look', 'NN')]), ('good', 'JJ'), ('throughout', 'IN'), ('the', 'DT'), Tree('NP', [('surgery', 'NN')]), ('Thank', 'NNP'), ('you', 'PRP'), ('Sai', 'NNP'), ('gold', 'VBD'), ('exemplary', 'JJ'), Tree('NP', [('safety', 'NN')]), ('and', 'CC'), ('well-maintained', 'JJ'), Tree('NP', [('feel', 'NN')]), ('good', 'JJ'), ('that', 'IN'), ('I', 'PRP'), ('do', 'VBP'), ('not', 'RB'), ('care', 'VB'), ('for', 'IN'), ('my', 'PRP$'), Tree('NP', [('recommendations', 'NNS')]), ('.', '.')]),\n",
              " Tree('S', [('I', 'PRP'), ('will', 'MD'), ('not', 'RB'), ('take', 'VB'), Tree('NP', [('care', 'NN')]), ('of', 'IN'), ('themselves', 'PRP'), ('.', '.')]),\n",
              " Tree('S', [Tree('NP', [('Accommodation', 'NN')]), ('near', 'IN'), Tree('NP', [('restaurants', 'NNS')]), (',', ','), Tree('NP', [('hospitals', 'NNS')]), ('and', 'CC'), Tree('NP', [('outpatient', 'NN'), ('care', 'NN')]), ('because', 'IN'), ('her', 'PRP$'), Tree('NP', [('mother', 'NN')]), ('was', 'VBD'), ('being', 'VBG'), ('treated', 'VBN'), ('for', 'IN'), ('the', 'DT'), ('first', 'JJ'), Tree('NP', [('time', 'NN')]), (',', ','), ('really', 'RB'), ('thank', 'VB'), ('you', 'PRP'), ('from', 'IN'), ('my', 'PRP$'), Tree('NP', [('heart', 'NN')]), ('.', '.')]),\n",
              " Tree('S', [('I', 'PRP'), (\"'ve\", 'VBP'), ('come', 'VBN'), ('clean', 'JJ'), (',', ','), ('very', 'RB'), ('well', 'RB'), ('organized', 'VBN'), Tree('NP', [('management', 'NN'), ('system', 'NN')]), (',', ','), ('parking', 'VBG'), Tree('NP', [('lot', 'NN')]), ('renovated', 'VBD'), Tree('NP', [('unit', 'NN')]), ('on', 'IN'), ('even', 'RB'), ('more', 'RBR'), ('.', '.')]),\n",
              " Tree('S', [('Please', 'NNP'), ('clarify', 'VB'), ('the', 'DT'), Tree('NP', [('parking', 'NN')]), ('for', 'IN'), ('the', 'DT'), ('disabled', 'JJ'), (',', ','), Tree('NP', [('seniors', 'NNS')]), ('or', 'CC'), Tree('NP', [('people', 'NNS')]), ('with', 'IN'), Tree('NP', [('car', 'NN'), ('sharing', 'NN')]), (',', ','), ('walking', 'VBG'), Tree('NP', [('distance', 'NN')]), ('Viroqua', 'NNP'), ('not', 'RB'), ('.', '.')]),\n",
              " Tree('S', [('Make', 'VB'), ('it', 'PRP'), ('clear', 'JJ'), ('to', 'TO'), ('the', 'DT'), Tree('NP', [('security', 'NN'), ('guards', 'NNS')]), ('.', '.')]),\n",
              " Tree('S', [('With', 'IN'), ('the', 'DT'), ('.', '.')]),\n",
              " Tree('S', [('Which', 'WDT'), ('is', 'VBZ'), ('the', 'DT'), ('international', 'JJ'), Tree('NP', [('standard', 'NN')]), ('of', 'IN'), ('the', 'DT'), Tree('NP', [('world', 'NN')]), ('And', 'CC'), ('improve', 'VB'), ('the', 'DT'), Tree('NP', [('manners', 'NNS')]), ('of', 'IN'), ('a', 'DT'), Tree('NP', [('statement', 'NN')]), ('asking', 'VBG'), ('for', 'IN'), ('a', 'DT'), ('better', 'JJR'), Tree('NP', [('impression', 'NN')]), ('.', '.')]),\n",
              " Tree('S', [('Yes', 'UH'), (',', ','), ('worse', 'JJR'), ('at', 'IN'), Tree('NP', [('rest', 'NN')]), ('and', 'CC'), ('do', 'VBP'), ('not', 'RB'), ('want', 'VB'), ('to', 'TO'), ('use', 'VB'), ('the', 'DT'), Tree('NP', [('service', 'NN')]), ('again', 'RB'), ('.', '.')]),\n",
              " Tree('S', [('I', 'PRP'), ('regret', 'VBP'), ('very', 'RB'), ('much', 'RB'), ('that', 'IN'), ('the', 'DT'), Tree('NP', [('hospital', 'NN')]), ('does', 'VBZ'), ('not', 'RB'), ('provide', 'VB'), ('the', 'DT'), ('elderly', 'JJ'), ('.', '.')]),\n",
              " Tree('S', [('Very', 'RB'), ('good', 'JJ'), Tree('NP', [('service', 'NN')]), (',', ','), ('clean', 'JJ'), Tree('NP', [('hospitals', 'NNS')]), ('use', 'VBP'), ('the', 'DT'), Tree('NP', [('service', 'NN')]), ('.', '.')]),\n",
              " Tree('S', [('You', 'PRP'), ('are', 'VBP'), ('a', 'DT'), ('good', 'JJ'), Tree('NP', [('man', 'NN')]), (',', ','), ('a', 'DT'), ('24-hour', 'JJ'), Tree('NP', [('office', 'NN')]), ('a', 'DT'), Tree('NP', [('lot', 'NN')]), ('.', '.')]),\n",
              " Tree('S', [('Hospital', 'NNP'), Tree('NP', [('cleanliness', 'NN')]), ('.', '.')]),\n",
              " Tree('S', [('Excellent', 'NNP'), Tree('NP', [('smell', 'NN'), ('drugs', 'NNS')]), ('in', 'IN'), ('the', 'DT'), Tree('NP', [('book', 'NN')]), (',', ','), ('courteous', 'JJ'), Tree('NP', [('staff', 'NN')]), ('and', 'CC'), Tree('NP', [('fast', 'NN')]), ('.', '.')]),\n",
              " Tree('S', [('Home', 'NNP'), ('Monitoring', 'NNP'), ('Officer', 'NNP'), ('I', 'PRP'), ('work', 'VBP'), ('fast', 'RB'), ('Pressure', 'NNP'), ('modern', 'JJ'), ('Time', 'NNP'), ('Doctor', 'NNP'), ('is', 'VBZ'), ('not', 'RB'), ('too', 'RB'), ('long', 'RB'), ('.', '.')]),\n",
              " Tree('S', [('Dr.', 'NNP'), ('thorough', 'JJ'), Tree('NP', [('examination', 'NN')]), ('And', 'CC'), ('provide', 'VB'), ('clear', 'JJ'), Tree('NP', [('information', 'NN')]), ('on', 'IN'), ('the', 'DT')]),\n",
              " Tree('S', [('Was', 'NNP'), ('born', 'VBN'), ('here', 'RB'), ('and', 'CC'), ('ฝaktgag', 'VB'), ('All', 'DT'), Tree('NP', [('staff', 'NN')]), (',', ','), ('from', 'IN'), ('the', 'DT'), ('front', 'JJ'), Tree('NP', [('door', 'NN')]), ('to', 'TO'), ('the', 'DT'), Tree('NP', [('dissection', 'NN'), ('room', 'NN')]), ('.', '.')]),\n",
              " Tree('S', [Tree('NP', [('People', 'NNS')]), ('really', 'RB'), ('enjoy', 'VB'), ('it', 'PRP'), ('.', '.')]),\n",
              " Tree('S', [('1', 'CD'), ('.', '.')]),\n",
              " Tree('S', [('Parking', 'VBG'), ('-', ':'), ('If', 'IN'), Tree('NP', [('holiday', 'NN')]), ('before', 'IN'), ('ten', 'JJ'), Tree('NP', [(\"o'clock\", 'NN')]), ('in', 'IN'), ('the', 'DT'), Tree('NP', [('morning', 'NN')]), ('to', 'TO'), ('find', 'VB'), (',', ','), ('easy', 'JJ'), ('to', 'TO'), ('park', 'VB'), ('as', 'IN'), ('many', 'JJ'), Tree('NP', [('layers', 'NNS')]), ('.', '.')]),\n",
              " Tree('S', [('2', 'CD'), ('.', '.')]),\n",
              " Tree('S', [('The', 'DT'), Tree('NP', [('department', 'NN')]), (\"'s\", 'POS'), ('medical', 'JJ'), Tree('NP', [('records', 'NNS')]), ('-', ':'), Tree('NP', [('coordinator', 'NN'), ('sensitivity', 'NN')]), ('filed', 'VBN'), ('with', 'IN'), Tree('NP', [('patient', 'NN'), ('cards', 'NNS')]), (',', ','), Tree('NP', [('health', 'NN'), ('insurance', 'NN'), ('cards', 'NNS')]), ('allow', 'VBP'), ('up', 'RB'), ('to', 'TO'), ('3', 'CD'), Tree('NP', [('minutes', 'NNS')]), ('can', 'MD'), ('be', 'VB'), ('sent', 'VBN'), ('to', 'TO'), ('the', 'DT'), Tree('NP', [('front', 'NN')]), ('at', 'IN'), ('all', 'DT'), ('.', '.')]),\n",
              " Tree('S', [('3', 'CD'), ('.', '.')]),\n",
              " Tree('S', [('The', 'DT'), Tree('NP', [('services', 'NNS')]), ('provided', 'VBN'), ('by', 'IN'), Tree('NP', [('nurses', 'NNS')]), ('-', ':'), ('a', 'DT'), ('polite', 'JJ'), Tree('NP', [('smile', 'NN')]), ('.', '.')]),\n",
              " Tree('S', [('Gently', 'RB'), ('inject', 'VBP'), ('more', 'JJR'), ('4.', 'CD'), ('the', 'DT'), Tree('NP', [('expertise', 'NN')]), ('of', 'IN'), Tree('NP', [('doctors', 'NNS')]), ('-', ':'), Tree('NP', [('doctors', 'NNS')]), (',', ','), ('most', 'JJS'), ('of', 'IN'), ('the', 'DT'), Tree('NP', [('teachers', 'NNS')]), ('are', 'VBP'), ('proficient', 'JJ'), Tree('NP', [('proficient', 'NN')]), ('.', '.')]),\n",
              " Tree('S', [('But', 'CC'), ('the', 'DT'), Tree('NP', [('deduction', 'NN')]), ('in', 'IN'), Tree('NP', [('respect', 'NN')]), ('of', 'IN'), ('the', 'DT'), Tree('NP', [('issue', 'NN')]), ('of', 'IN'), ('the', 'DT'), ('medical', 'JJ'), Tree('NP', [('examination', 'NN')]), ('.', '.')]),\n",
              " Tree('S', [('Sometimes', 'RB'), ('you', 'PRP'), ('wait', 'VBP'), ('too', 'RB'), ('long', 'RB'), (',', ','), ('because', 'IN'), Tree('NP', [('doctors', 'NNS')]), ('need', 'VBP'), Tree('NP', [('time', 'NN')]), ('to', 'TO'), ('examine', 'VB'), Tree('NP', [('patients', 'NNS')]), ('.', '.')]),\n",
              " Tree('S', [('I', 'PRP'), ('highly', 'RB'), ('mobile', 'JJ'), Tree('NP', [('battery', 'NN')]), ('charging', 'VBG'), Tree('NP', [('backup', 'NN'), ('batteries', 'NNS')]), ('.', '.')]),\n",
              " Tree('S', [('The', 'DT'), Tree('NP', [('nurse', 'NN')]), ('told', 'VBD'), ('me', 'PRP'), ('I', 'PRP'), ('do', 'VBP'), ('not', 'RB'), ('have', 'VB'), ('the', 'DT'), ('financial', 'JJ'), Tree('NP', [('power', 'NN')]), ('to', 'TO'), ('outpatient', 'VB'), Tree('NP', [('department', 'NN')]), ('where', 'WRB'), ('I', 'PRP'), ('want', 'VBP'), ('to', 'TO'), ('come', 'VB'), ('back', 'RB'), (',', ','), ('Mike', 'NNP'), ('.', '.')]),\n",
              " Tree('S', [('But', 'CC'), ('familiar', 'JJ'), ('But', 'CC'), ('pay', 'VB'), Tree('NP', [('money', 'NN')]), ('for', 'IN'), ('Jung', 'NNP'), ('.', '.')]),\n",
              " Tree('S', [('Medical', 'NNP'), Tree('NP', [('care', 'NN')]), ('is', 'VBZ'), ('good', 'JJ'), (',', ','), ('but', 'CC'), ('that', 'IN'), ('does', 'VBZ'), ('not', 'RB'), ('give', 'VB'), ('the', 'DT'), ('full', 'JJ'), ('.', '.')]),\n",
              " Tree('S', [('The', 'DT'), ('Department', 'NNP'), ('of', 'IN'), ('Internal', 'NNP'), ('Medicine', 'NNP'), ('The', 'DT'), Tree('NP', [('lack', 'NN')]), ('of', 'IN'), Tree('NP', [('attention', 'NN')]), ('he', 'PRP'), ('received', 'VBD'), Tree('NP', [('treatment', 'NN')]), ('.', '.')]),\n",
              " Tree('S', [('Take', 'VB'), ('your', 'PRP$'), Tree('NP', [('mom', 'NN')]), ('to', 'TO'), Tree('NP', [('heart', 'NN'), ('disease', 'NN')]), (',', ','), ('was', 'VBD'), ('admitted', 'VBN'), ('to', 'TO'), ('Bangkok', 'NNP'), ('.', '.')]),\n",
              " Tree('S', [Tree('NP', [('Doctors', 'NNS')]), ('and', 'CC'), ('nursing', 'VBG'), Tree('NP', [('care', 'NN')]), ('but', 'CC'), ('ordinary', 'JJ'), Tree('NP', [('room', 'NN')]), ('.', '.')]),\n",
              " Tree('S', [('Not', 'RB'), ('included', 'VBN'), ('Hard', 'NNP'), Tree('NP', [('sleepers', 'NNS')]), ('sleep', 'VBP'), ('poorly', 'RB')]),\n",
              " Tree('S', [('I', 'PRP'), ('was', 'VBD'), ('very', 'RB'), ('impressed', 'JJ'), ('with', 'IN'), ('the', 'DT'), ('Finance', 'NNP'), ('Department', 'NNP'), (',', ','), ('2nd', 'CD'), Tree('NP', [('floor', 'NN'), ('cute', 'NN')]), ('.', '.')]),\n",
              " Tree('S', [('Helps', 'NNP'), ('maintain', 'VB'), ('the', 'DT'), Tree('NP', [('claim', 'NN')]), ('that', 'IN'), ('I', 'PRP'), ('decided', 'VBD'), ('not', 'RB'), ('to', 'TO'), ('have', 'VB'), ('multiple', 'JJ'), Tree('NP', [('insurance', 'NN')]), ('.', '.')]),\n",
              " Tree('S', [('Help', 'VB'), ('me', 'PRP'), ('empathy', 'JJ'), ('and', 'CC'), ('help', 'VB'), ('other', 'JJ'), Tree('NP', [('doctors', 'NNS')]), ('here', 'RB'), Tree('NP', [('thanks', 'NNS')]), ('to', 'TO'), ('the', 'DT'), ('generous', 'JJ'), Tree('NP', [('treatment', 'NN')]), ('of', 'IN'), Tree('NP', [('scalp', 'NN')]), ('even', 'RB'), ('more', 'RBR'), ('.', '.')]),\n",
              " Tree('S', [('exceptionally', 'RB'), ('good', 'JJ')]),\n",
              " Tree('S', [('Sunday', 'NNP'), ('8', 'CD'), ('He', 'PRP'), ('was', 'VBD'), ('admitted', 'VBN'), ('to', 'TO'), ('the', 'DT'), Tree('NP', [('motorcycle', 'NN'), ('accident', 'NN')]), ('.', '.')]),\n",
              " Tree('S', [('Wash', 'IN'), ('the', 'DT'), Tree('NP', [('wound', 'NN')]), ('was', 'VBD'), ('normal', 'JJ'), ('.', '.')]),\n",
              " Tree('S', [('And', 'CC'), ('arranging', 'VBG'), ('to', 'TO'), ('clean', 'VB'), ('the', 'DT'), Tree('NP', [('wound', 'NN')]), ('again', 'RB'), ('on', 'IN'), ('Tuesday', 'NNP'), ('.', '.')]),\n",
              " Tree('S', [('And', 'CC'), ('was', 'VBD'), ('not', 'RB'), ('informed', 'VBN'), ('that', 'IN'), ('the', 'DT'), Tree('NP', [('drug', 'NN'), ('odor', 'NN')]), ('.', '.')]),\n",
              " Tree('S', [Tree('NP', [('Measurements', 'NNS')]), ('made', 'VBN'), ('in', 'IN'), ('the', 'DT'), ('next', 'JJ'), ('(', '('), ('Monday', 'NNP'), (')', ')'), (',', ','), ('I', 'PRP'), ('noticed', 'VBD'), ('a', 'DT'), ('foul', 'JJ'), Tree('NP', [('odor', 'NN')]), ('.', '.')]),\n",
              " Tree('S', [('And', 'CC'), Tree('NP', [('lymph', 'NN'), ('flow', 'NN'), ('outward', 'NN')]), ('.', '.')]),\n",
              " Tree('S', [('He', 'PRP'), ('decided', 'VBD'), ('to', 'TO'), ('make', 'VB'), ('the', 'DT'), Tree('NP', [('wound', 'NN')]), ('again', 'RB'), ('.', '.')]),\n",
              " Tree('S', [('The', 'DT'), Tree('NP', [('drug', 'NN')]), ('is', 'VBZ'), ('made', 'VBN'), ('that', 'IN'), Tree('NP', [('smell', 'NN')]), ('.', '.')]),\n",
              " Tree('S', [('When', 'WRB'), ('changing', 'VBG'), ('the', 'DT'), Tree('NP', [('wound', 'NN')]), ('and', 'CC'), ('finished', 'VBD'), Tree('NP', [('drugs', 'NNS')]), ('.', '.')]),\n",
              " Tree('S', [('For', 'IN'), ('me', 'PRP'), (',', ','), ('therefore', 'RB'), (',', ','), ('that', 'IN'), ('I', 'PRP'), ('need', 'VBP'), ('to', 'TO'), ('follow', 'VB'), ('up', 'RP'), ('the', 'DT'), Tree('NP', [('service', 'NN')]), ('on', 'IN'), ('Tuesday', 'NNP'), ('or', 'CC'), ('not', 'RB'), ('.', '.')]),\n",
              " Tree('S', [('The', 'DT'), Tree('NP', [('nurse', 'NN')]), ('told', 'VBD'), ('the', 'DT'), Tree('NP', [('doctor', 'NN')]), ('to', 'TO'), ('come', 'VB'), ('in', 'IN'), ('at', 'IN'), ('10', 'CD'), ('am', 'VBP'), ('-4', 'JJ'), Tree('NP', [('pm', 'NN')]), ('.', '.')]),\n",
              " Tree('S', [('Which', 'WDT'), ('at', 'IN'), ('that', 'DT'), Tree('NP', [('time', 'NN')]), ('was', 'VBD'), ('2pm', 'CD'), ('.', '.')]),\n",
              " Tree('S', [('Asked', 'VBN'), ('why', 'WRB'), ('not', 'RB'), ('go', 'VB'), ('to', 'TO'), ('the', 'DT'), Tree('NP', [('doctor', 'NN')]), ('.', '.')]),\n",
              " Tree('S', [('Do', 'VBP'), ('not', 'RB'), ('have', 'VB'), ('to', 'TO'), ('waste', 'VB'), Tree('NP', [('time', 'NN')]), ('repeatedly', 'RB'), ('.', '.')]),\n",
              " Tree('S', [('Nurse', 'NNP'), ('said', 'VBD'), ('adhesive', 'JJ'), ('to', 'TO'), ('me', 'PRP'), ('.', '.')]),\n",
              " Tree('S', [('If', 'IN'), ('so', 'RB'), (',', ','), ('will', 'MD'), ('be', 'VB'), ('set', 'VBN'), Tree('NP', [('dresser', 'NN')]), ('again', 'RB'), ('...', ':')]),\n",
              " Tree('S', [('This', 'DT'), Tree('NP', [('hospital', 'NN'), ('patients', 'NNS')]), ('should', 'MD'), ('ask', 'VB'), ('a', 'DT'), Tree('NP', [('doctor', 'NN')]), ('before', 'IN'), ('I', 'PRP'), ('want', 'VBP'), ('to', 'TO'), ('use', 'VB'), ('it', 'PRP'), ('or', 'CC'), ('not', 'RB'), (',', ','), ('or', 'CC'), ('whether', 'IN'), ('I', 'PRP'), ('should', 'MD'), ('just', 'RB'), ('drop', 'VB'), ('me', 'PRP'), Tree('NP', [('tomorrow', 'NN')]), ('.', '.')]),\n",
              " Tree('S', [Tree('NP', [('Nurses', 'NNS')]), ('have', 'VBP'), ('the', 'DT'), Tree('NP', [('right', 'NN')]), ('to', 'TO'), ('decide', 'VB'), ('to', 'TO'), ('replace', 'VB'), ('it', 'PRP'), ('?', '.')]),\n",
              " Tree('S', [Tree('NP', [('Hospital', 'NN')]), ('without', 'IN'), Tree('NP', [('coordination', 'NN')]), ('.', '.')]),\n",
              " Tree('S', [Tree('NP', [('Patients', 'NNS')]), ('need', 'VBP'), ('to', 'TO'), ('make', 'VB'), ('redundant', 'JJ'), Tree('NP', [('fro', 'NN')]), ('.', '.')]),\n",
              " Tree('S', [('I', 'PRP'), ('have', 'VBP'), ('filed', 'VBN'), ('an', 'DT'), Tree('NP', [('appointment', 'NN')]), ('from', 'IN'), ('coming', 'VBG'), ('.', '.')]),\n",
              " Tree('S', [('But', 'CC'), ('it', 'PRP'), ('is', 'VBZ'), ('not', 'RB'), ('a', 'DT'), Tree('NP', [('physician', 'NN')]), ('or', 'CC'), Tree('NP', [('nurse', 'NN')]), ('to', 'TO'), ('a', 'DT'), Tree('NP', [('doctor', 'NN')]), (\"'s\", 'POS'), Tree('NP', [('appointment', 'NN')]), ('in', 'IN'), ('any', 'DT'), Tree('NP', [('way', 'NN')]), ('.', '.')]),\n",
              " Tree('S', [('So', 'RB'), ('I', 'PRP'), ('was', 'VBD'), ('disappointed', 'VBN'), ('with', 'IN'), ('the', 'DT'), Tree('NP', [('standard', 'NN')]), ('.', '.')]),\n",
              " Tree('S', [('May', 'NNP'), ('.', '.')]),\n",
              " Tree('S', [('After', 'IN'), ('not', 'RB'), ('going', 'VBG'), ('to', 'TO'), ('take', 'VB'), ('many', 'JJ'), Tree('NP', [('years', 'NNS')]), ('.', '.')]),\n",
              " Tree('S', [('More', 'RBR'), ('modern', 'JJ'), Tree('NP', [('hospital', 'NN')]), ('But', 'CC'), ('the', 'DT'), Tree('NP', [('distance', 'NN')]), ('of', 'IN'), ('the', 'DT'), ('financial', 'JJ'), ('and', 'CC'), ('dispense', 'VB'), ('too', 'RB'), ('far', 'RB'), ('.', '.')]),\n",
              " Tree('S', [('Will', 'MD'), ('take', 'VB'), ('over', 'RP'), ('the', 'DT'), Tree('NP', [('payments', 'NNS')]), (',', ','), ('but', 'CC'), ('to', 'TO'), ('wait', 'VB'), ('for', 'IN'), ('the', 'DT'), Tree('NP', [('drugs', 'NNS')]), ('from', 'IN'), ('the', 'DT'), Tree('NP', [('pharmacy', 'NN'), ('bag', 'NN')]), ('with', 'IN'), ('as', 'IN'), ('many', 'JJ'), Tree('NP', [('people', 'NNS')]), ('waiting', 'VBG'), ('for', 'IN'), Tree('NP', [('payment', 'NN')]), ('.', '.')]),\n",
              " Tree('S', [('Here', 'RB'), ('are', 'VBP'), ('the', 'DT'), Tree('NP', [('names', 'NNS')]), ('and', 'CC'), Tree('NP', [('information', 'NN')]), ('of', 'IN'), Tree('NP', [('patients', 'NNS'), ('strap', 'NN')]), ('.', '.')]),\n",
              " Tree('S', [('But', 'CC'), ('pay', 'VB'), Tree('NP', [('attention', 'NN')]), ('to', 'TO'), ('see', 'VB'), ('if', 'IN'), ('the', 'DT'), Tree('NP', [('waste', 'NN')]), ('is', 'VBZ'), ('not', 'RB'), ('as', 'RB'), ('good', 'JJ'), ('as', 'IN'), ('it', 'PRP'), ('does', 'VBZ'), ('.', '.')]),\n",
              " Tree('S', [('Your', 'PRP$'), Tree('NP', [('doctor', 'NN')]), (',', ','), ('nurse', 'JJ'), Tree('NP', [('service', 'NN')]), (',', ','), ('great', 'JJ'), Tree('NP', [('eloquence', 'NN')]), ('.', '.')]),\n",
              " Tree('S', [Tree('NP', [('Management', 'NN'), ('system', 'NN')]), (',', ','), ('good', 'JJ'), ('waiting', 'VBG'), Tree('NP', [('staff', 'NN')]), ('a', 'DT'), ('medical', 'JJ'), Tree('NP', [('doctor', 'NN')]), (',', ','), ('beaming', 'VBG'), ('good', 'JJ'), ('.', '.')]),\n",
              " Tree('S', [('Reason', 'NNP'), ('for', 'IN'), ('this', 'DT'), Tree('NP', [('hospital', 'NN')]), ('.', '.')]),\n",
              " Tree('S', [('Near', 'IN'), ('the', 'DT'), Tree('NP', [('house', 'NN')]), ('with', 'IN'), ('your', 'PRP$'), Tree('NP', [('doctor', 'NN')]), ('.', '.')]),\n",
              " Tree('S', [('I', 'PRP'), ('like', 'VBP'), ('this', 'DT'), Tree('NP', [('hospital', 'NN')]), ('A', 'NNP'), Tree('NP', [('hospital', 'NN')]), ('that', 'WDT'), ('is', 'VBZ'), ('not', 'RB'), ('too', 'RB'), ('big', 'JJ'), ('.', '.')]),\n",
              " Tree('S', [('To', 'TO'), ('each', 'DT'), Tree('NP', [('department', 'NN')]), (',', ','), ('not', 'RB'), ('far', 'RB'), ('away', 'RB'), ('.', '.')]),\n",
              " Tree('S', [('Some', 'DT'), Tree('NP', [('departments', 'NNS')]), ('will', 'MD'), ('remain', 'VB'), ('separate', 'JJ'), ('Laminate', 'NNP'), Tree('NP', [('areas', 'NNS')]), ('.', '.')]),\n",
              " Tree('S', [('A', 'DT'), ('private', 'JJ'), Tree('NP', [('hospital', 'NN')]), ('where', 'WRB'), ('the', 'DT'), Tree('NP', [('price', 'NN')]), ('is', 'VBZ'), ('not', 'RB'), ('too', 'RB'), ('high', 'JJ'), ('and', 'CC'), ('the', 'DT'), Tree('NP', [('service', 'NN'), ('good', 'NN')]), ('.', '.')]),\n",
              " Tree('S', [('Nurse', 'NNP'), Tree('NP', [('care', 'NN'), ('patient', 'NN')]), ('and', 'CC'), Tree('NP', [('polite', 'NN')]), ('You', 'PRP'), ('have', 'VBP'), ('enough', 'JJ'), Tree('NP', [('room', 'NN')]), ('to', 'TO'), ('accommodate', 'VB'), ('a', 'DT'), ('large', 'JJ'), Tree('NP', [('number', 'NN')]), ('of', 'IN'), Tree('NP', [('patients', 'NNS')]), ('.', '.')]),\n",
              " Tree('S', [('Some', 'DT'), Tree('NP', [('hospitals', 'NNS')]), ('are', 'VBP'), ('too', 'RB'), ('many', 'JJ'), Tree('NP', [('doctors', 'NNS')]), ('.', '.')]),\n",
              " Tree('S', [('The', 'DT'), Tree('NP', [('need', 'NN')]), ('to', 'TO'), ('wait', 'VB'), ('for', 'IN'), ('the', 'DT'), Tree('NP', [('end', 'NN')]), ('of', 'IN'), ('2016', 'CD'), ('as', 'IN'), Tree('NP', [('dengue', 'NN')]), ('.', '.')]),\n",
              " Tree('S', [('To', 'TO'), ('stay', 'VB'), ('in', 'IN'), ('the', 'DT'), Tree('NP', [('hospital', 'NN')]), ('for', 'IN'), ('4', 'CD'), Tree('NP', [('days', 'NNS')]), (',', ','), Tree('NP', [('doctors', 'NNS')]), ('checked', 'VBD'), Tree('NP', [('everything', 'NN')]), ('thoroughly', 'RB'), ('with', 'IN'), Tree('NP', [('insurance', 'NN'), ('departments', 'NNS')]), ('that', 'WDT'), ('facilitate', 'VBP'), ('us', 'PRP'), ('without', 'IN'), ('much', 'JJ'), Tree('NP', [('hassle', 'NN')]), ('.', '.')]),\n",
              " Tree('S', [('The', 'DT'), Tree('NP', [('disadvantage', 'NN')]), ('of', 'IN'), ('this', 'DT'), Tree('NP', [('hospital', 'NN')]), ('is', 'VBZ'), ('.', '.')]),\n",
              " Tree('S', [Tree('NP', [('Nurses', 'NNS')]), ('walked', 'VBD'), ('out', 'RP'), ('very', 'RB'), ('often', 'RB'), ('during', 'IN'), Tree('NP', [('midday', 'NN')]), ('.', '.')]),\n",
              " Tree('S', [('The', 'DT'), Tree('NP', [('cause', 'NN')]), ('is', 'VBZ'), ('not', 'RB'), ('fully', 'RB'), ('relax', 'VB'), ('But', 'CC'), ('it', 'PRP'), (\"'s\", 'VBZ'), ('understandable', 'JJ'), ('because', 'IN'), ('To', 'TO'), ('monitor', 'VB'), ('the', 'DT'), Tree('NP', [('temperature', 'NN')]), ('The', 'DT'), Tree('NP', [('doctor', 'NN')]), ('came', 'VBD'), ('to', 'TO'), ('check', 'VB'), ('on', 'IN'), ('all', 'PDT'), ('the', 'DT'), Tree('NP', [('time', 'NN')]), (',', ','), ('never', 'RB'), ('late', 'RB'), (',', ','), ('but', 'CC'), ('the', 'DT'), Tree('NP', [('downside', 'NN')]), ('is', 'VBZ'), ('another', 'DT'), Tree('NP', [('hospital', 'NN')]), ('.', '.')]),\n",
              " Tree('S', [('Not', 'RB'), ('clean', 'VB'), ('the', 'DT'), Tree('NP', [('cafeteria', 'NN'), ('food', 'NN')]), ('was', 'VBD'), ('plain', 'VB'), ('how', 'WRB'), ('much', 'JJ'), ('the', 'DT'), ('old', 'JJ'), Tree('NP', [('store', 'NN')]), ('.', '.')]),\n",
              " Tree('S', [('Not', 'RB'), ('very', 'RB'), ('tasty', 'JJ'), ('It', 'PRP'), ('may', 'MD'), ('be', 'VB'), ('in', 'IN'), ('the', 'DT'), ('Silom', 'NNP'), Tree('NP', [('area', 'NN')]), ('.', '.')]),\n",
              " Tree('S', [('I', 'PRP'), ('have', 'VBP'), Tree('NP', [('food', 'NN')]), ('to', 'TO'), ('eat', 'VB'), ('a', 'DT'), Tree('NP', [('lot', 'NN')]), ('.', '.')]),\n",
              " Tree('S', [('However', 'RB'), (',', ','), ('it', 'PRP'), ('should', 'MD'), ('be', 'VB'), ('a', 'DT'), Tree('NP', [('variety', 'NN')]), ('of', 'IN'), Tree('NP', [('food', 'NN')]), ('for', 'IN'), Tree('NP', [('people', 'NNS')]), ('who', 'WP'), ('are', 'VBP'), ('waiting', 'VBG'), ('for', 'IN'), ('the', 'DT'), Tree('NP', [('doctor', 'NN')]), ('or', 'CC'), ('the', 'DT'), Tree('NP', [('patient', 'NN')]), ('came', 'VBD'), ('to', 'TO'), Tree('NP', [('food', 'NN')]), ('is', 'VBZ'), ('very', 'RB'), ('important', 'JJ'), ('.', '.')]),\n",
              " Tree('S', [('At', 'IN'), ('least', 'JJS'), ('it', 'PRP'), ('makes', 'VBZ'), ('the', 'DT'), Tree('NP', [('hospital', 'NN'), ('stay', 'NN')]), ('is', 'VBZ'), ('never', 'RB'), ('boring', 'JJ'), ('.', '.')]),\n",
              " Tree('S', [('Also', 'RB'), (',', ','), ('it', 'PRP'), ('does', 'VBZ'), ('not', 'RB'), ('have', 'VB'), ('a', 'DT'), Tree('NP', [('restaurant', 'NN')]), ('open', 'JJ'), ('to', 'TO'), ('the', 'DT'), ('outside', 'JJ'), (',', ','), ('many', 'JJ'), Tree('NP', [('starbucks', 'NNS')]), ('or', 'CC'), ('S', 'NNP'), ('&', 'CC'), ('P', 'NNP'), ('is', 'VBZ'), ('the', 'DT'), ('only', 'JJ'), ('Au', 'NNP'), ('Bon', 'NNP'), ('Pain', 'NNP'), (',', ','), ('which', 'WDT'), ('makes', 'VBZ'), ('it', 'PRP'), ('a', 'DT'), ('little', 'JJ'), ('less', 'JJR'), Tree('NP', [('choice', 'NN')]), ('for', 'IN'), ('the', 'DT'), Tree('NP', [('consumer', 'NN')]), ('.', '.')]),\n",
              " Tree('S', [('For', 'IN'), Tree('NP', [('rooms', 'NNS')]), ('were', 'VBD'), ('very', 'RB'), ('clean', 'JJ'), ('and', 'CC'), ('cleaned', 'JJ'), ('every', 'DT'), Tree('NP', [('day', 'NN')]), (',', ','), ('rub', 'VB'), ('the', 'DT'), Tree('NP', [('swab', 'NN')]), ('.', '.')]),\n",
              " Tree('S', [('Considered', 'VBN'), ('very', 'RB'), ('good', 'JJ'), ('for', 'IN'), Tree('NP', [('people', 'NNS')]), ('who', 'WP'), ('are', 'VBP'), ('concerned', 'VBN'), ('about', 'IN'), Tree('NP', [('cleanliness', 'NN')]), ('.', '.')]),\n",
              " Tree('S', [('Toilet', 'NNP'), Tree('NP', [('water', 'NN')]), ('was', 'VBD'), ('flowing', 'VBG'), ('quite', 'RB'), ('strongly', 'RB'), ('.', '.')]),\n",
              " Tree('S', [('Do', 'VB'), ('not', 'RB'), ('be', 'VB'), ('afraid', 'VBN'), ('to', 'TO'), ('be', 'VB'), ('a', 'DT'), ('strong', 'JJ'), Tree('NP', [('flow', 'NN')]), ('of', 'IN'), ('warm', 'JJ'), Tree('NP', [('water', 'NN')]), ('is', 'VBZ'), ('great', 'JJ'), ('for', 'IN'), Tree('NP', [('people', 'NNS')]), ('who', 'WP'), ('like', 'IN'), Tree('NP', [('winter', 'NN')]), ('.', '.')]),\n",
              " Tree('S', [('It', 'PRP'), ('offers', 'VBZ'), ('wifi', 'RBR'), ('in', 'IN'), ('the', 'DT'), Tree('NP', [('room', 'NN')]), ('with', 'IN'), ('the', 'DT'), Tree('NP', [('patient', 'NN'), ('registration', 'NN'), ('service', 'NN')]), ('soon', 'RB'), ('.', '.')]),\n",
              " Tree('S', [('But', 'CC'), ('not', 'RB'), ('so', 'RB'), ('fast', 'RB'), ('But', 'CC'), ('better', 'JJR'), ('than', 'IN'), Tree('NP', [('none', 'NN')]), ('Take', 'VB'), ('a', 'DT'), Tree('NP', [('look', 'NN')]), ('at', 'IN'), ('the', 'DT'), Tree('NP', [('series', 'NN')]), (',', ','), ('bored', 'VBN'), ('with', 'IN'), Tree('NP', [('nothing', 'NN')]), ('to', 'TO'), ('do', 'VB'), ('.', '.')]),\n",
              " Tree('S', [('The', 'DT'), Tree('NP', [('rooms', 'NNS')]), ('are', 'VBP'), ('not', 'RB'), ('luxurious', 'JJ'), ('atmosphere', 'RB'), ('BNH', 'NNP'), Tree('NP', [('something', 'NN')]), ('new', 'JJ'), (',', ','), ('but', 'CC'), ('it', 'PRP'), ('is', 'VBZ'), ('not', 'RB'), ('terrible', 'JJ'), Tree('NP', [('light', 'NN')]), (',', ','), ('then', 'RB'), ('the', 'DT'), Tree('NP', [('total', 'NN')]), ('would', 'MD'), ('be', 'VB'), ('8.5', 'CD'), Tree('NP', [('points', 'NNS')]), ('out', 'IN'), ('of', 'IN'), ('a', 'DT'), Tree('NP', [('nursing', 'NN')]), ('often', 'RB'), ('enough', 'RB'), ('.', '.')]),\n",
              " Tree('S', [('The', 'DT'), Tree('NP', [('sound', 'NN')]), ('is', 'VBZ'), ('quite', 'RB'), ('loud', 'JJ'), (',', ','), ('medical', 'JJ'), Tree('NP', [('equipment', 'NN'), ('carts', 'NNS')]), ('.', '.')]),\n",
              " Tree('S', [('And', 'CC'), ('the', 'DT'), Tree('NP', [('food', 'NN')]), ('is', 'VBZ'), ('not', 'RB'), ('much', 'JJ'), ('to', 'TO'), ('choose', 'VB'), ('from', 'IN'), ('.', '.')]),\n",
              " Tree('S', [('Like', 'IN'), ('running', 'VBG'), Tree('NP', [('speed', 'NN')]), ('Hospital', 'NNP'), Tree('NP', [('cleanliness', 'NN')]), ('Doctor', 'NNP'), ('and', 'CC'), ('experienced', 'VBD'), Tree('NP', [('people', 'NNS')])]),\n",
              " Tree('S', [('Food', 'NNP'), Tree('NP', [('poisoning', 'NN')]), (',', ','), Tree('NP', [('diarrhea', 'NN')]), (',', ','), Tree('NP', [('penniless', 'NN')]), ('and', 'CC'), ('without', 'IN'), ('a', 'DT'), Tree('NP', [('doctor', 'NN')]), ('.', '.')]),\n",
              " Tree('S', [('You', 'PRP'), ('need', 'VBP'), ('salt', 'VB'), ('to', 'TO'), ('the', 'DT'), Tree('NP', [('doctor', 'NN')]), ('ordered', 'VBD'), ('.', '.')]),\n",
              " Tree('S', [('Then', 'RB'), ('it', 'PRP'), ('hit', 'VBD'), ('us', 'PRP'), ('to', 'TO'), ('stay', 'VB'), ('an', 'DT'), ('extra', 'JJ'), Tree('NP', [('night', 'NN')]), ('to', 'TO'), ('make', 'VB'), Tree('NP', [('brine', 'NN')]), ('.', '.')]),\n",
              " Tree('S', [('Paul', 'NNP'), ('Brine', 'NNP'), ('out', 'IN'), ('Nursing', 'NNP'), Tree('NP', [('bother', 'NN')]), ('to', 'TO'), ('come', 'VB'), ('overnight', 'RB'), (',', ','), ('adding', 'VBG'), ('to', 'TO'), Tree('NP', [('signs', 'NNS')]), ('.', '.')]),\n",
              " Tree('S', [('We', 'PRP'), ('were', 'VBD'), ('told', 'VBN'), ('that', 'IN'), ('there', 'EX'), ('was', 'VBD'), Tree('NP', [('need', 'NN')]), ('to', 'TO'), ('do', 'VB'), ('so', 'RB'), ('.', '.')]),\n",
              " Tree('S', [('The', 'DT'), Tree('NP', [('drug', 'NN')]), ('was', 'VBD'), ('also', 'RB'), ('another', 'DT'), Tree('NP', [('change', 'NN')]), ('that', 'WDT'), ('came', 'VBD'), ('into', 'IN'), ('Metallica', 'NNP'), ('.', '.')]),\n",
              " Tree('S', [('Let', 'VB'), ('us', 'PRP'), ('find', 'VB'), ('out', 'RP'), ('Langen', 'NNP'), ('is', 'VBZ'), ('a', 'DT'), ('metal', 'JJ'), ('salt-depleted', 'JJ'), Tree('NP', [('hour', 'NN')]), ('ago', 'RB'), ('.', '.')]),\n",
              " Tree('S', [('We', 'PRP'), ('are', 'VBP'), ('outraged', 'VBN'), ('that', 'IN'), ('the', 'DT'), Tree('NP', [('doctor', 'NN')]), ('did', 'VBD'), ('not', 'RB'), ('ask', 'VB'), ('to', 'TO'), ('come', 'VB'), ('here', 'RB'), (',', ','), ('then', 'RB'), ('it', 'PRP'), ('really', 'RB'), ('does', 'VBZ'), ('not', 'RB'), ('require', 'VB'), ('a', 'DT'), ('special', 'JJ'), Tree('NP', [('room', 'NN')]), ('this', 'DT'), Tree('NP', [('time', 'NN')]), (',', ','), Tree('NP', [('eh', 'NN')]), ('.', '.')]),\n",
              " Tree('S', [('Centreline', 'NNP'), ('until', 'IN'), ('we', 'PRP'), ('begin', 'VBP'), ('to', 'TO'), ('pay', 'VB'), ('out', 'RP'), ('.', '.')]),\n",
              " Tree('S', [('The', 'DT'), ('total', 'JJ'), Tree('NP', [('cost', 'NN')]), ('to', 'TO'), ('the', 'DT'), Tree('NP', [('drug', 'NN'), ('charges', 'NNS')]), ('nearly', 'RB'), ('a', 'DT'), Tree('NP', [('thousand', 'NN'), ('rooms', 'NNS')]), ('.', '.')]),\n",
              " Tree('S', [('A', 'DT'), ('cold', 'JJ'), Tree('NP', [('day', 'NN')]), ('Your', 'PRP$'), Tree('NP', [('doctor', 'NN')]), ('much', 'JJ'), ('sooner', 'JJR'), ('than', 'IN'), ('2', 'CD'), Tree('NP', [('minutes', 'NNS')]), (',', ','), ('lift', 'VBZ'), ('the', 'DT'), Tree('NP', [('handset', 'NN')]), ('to', 'TO'), ('listen', 'VB'), ('to', 'TO'), ('the', 'DT'), Tree('NP', [('lungs', 'NNS')]), (',', ','), ('moved', 'VBD'), ('quickly', 'RB'), ('.', '.')]),\n",
              " Tree('S', [('More', 'RBR'), ('important', 'JJ'), (',', ','), ('he', 'PRP'), ('returned', 'VBD'), Tree('NP', [('home', 'NN')]), ('to', 'TO'), ('find', 'VB'), ('the', 'DT'), Tree('NP', [('medicine', 'NN')]), ('the', 'DT'), Tree('NP', [('doctor', 'NN')]), ('ordered', 'VBD'), ('to', 'TO'), ('cough', 'VB'), ('.', '.')]),\n",
              " Tree('S', [('Did', 'NNP'), ('not', 'RB'), Tree('NP', [('order', 'NN')]), ('the', 'DT'), Tree('NP', [('drugs', 'NNS')]), ('by', 'IN'), ('nasal', 'JJ'), Tree('NP', [('congestion', 'NN')]), (',', ','), ('then', 'RB'), ('the', 'DT'), Tree('NP', [('doctor', 'NN')]), ('will', 'MD'), ('prescribe', 'VB'), Tree('NP', [('drugs', 'NNS')]), ('that', 'WDT'), ('should', 'MD'), ('tell', 'VB'), ('you', 'PRP'), Tree('NP', [('something', 'NN')]), ('.', '.')]),\n",
              " Tree('S', [('It', 'PRP'), ('was', 'VBD'), ('late', 'JJ'), ('enough', 'JJ'), Tree('NP', [('medicine', 'NN')]), ('.', '.')]),\n",
              " Tree('S', [('Would', 'MD'), ('not', 'RB'), ('have', 'VB'), ('to', 'TO'), ('ride', 'VB'), ('back', 'RB'), ('to', 'TO'), ('tell', 'VB'), ('the', 'DT'), Tree('NP', [('doctor', 'NN')]), ('ordered', 'VBD'), ('to', 'TO'), ('cure', 'VB'), ('a', 'DT'), Tree('NP', [('stuffy', 'NN'), ('nose', 'NN')]), ('.', '.')]),\n",
              " Tree('S', [('I', 'PRP'), ('feel', 'VBP'), ('that', 'IN'), ('the', 'DT'), Tree('NP', [('state', 'NN'), ('hospital', 'NN')]), ('to', 'TO'), ('see', 'VB'), ('a', 'DT'), Tree('NP', [('doctor', 'NN')]), ('is', 'VBZ'), ('better', 'JJR'), ('than', 'IN'), Tree('NP', [('medicine', 'NN')]), ('correctly', 'RB'), ('.', '.')]),\n",
              " Tree('S', [('You', 'PRP'), ('know', 'VBP'), ('the', 'DT'), Tree('NP', [('signs', 'NNS')]), ('and', 'CC'), ('take', 'VB'), ('the', 'DT'), Tree('NP', [('time', 'NN')]), ('to', 'TO'), Tree('NP', [('treatment', 'NN')]), ('than', 'IN'), ('private', 'JJ'), ('again', 'RB'), ('.', '.')]),\n",
              " Tree('S', [('Service', 'NNP'), ('is', 'VBZ'), ('very', 'RB'), ('good', 'JJ'), Tree('NP', [('People', 'NNS')]), ('took', 'VBD'), ('to', 'TO'), ('the', 'DT'), Tree('NP', [('floor', 'NN')]), ('where', 'WRB'), ('the', 'DT'), Tree('NP', [('doctor', 'NN')]), ('will', 'MD'), ('do', 'VB'), ('a', 'DT'), ('very', 'RB'), ('good', 'JJ'), Tree('NP', [('service', 'NN')]), ('.', '.')]),\n",
              " Tree('S', [('I', 'PRP'), ('waited', 'VBD'), ('quite', 'RB'), ('a', 'DT'), ('long', 'JJ'), Tree('NP', [('time', 'NN')]), (',', ','), ('in', 'IN'), Tree('NP', [('spite', 'NN')]), ('of', 'IN'), Tree('NP', [('appearances', 'NNS')]), ('.', '.')]),\n",
              " Tree('S', [('The', 'DT'), Tree('NP', [('professor', 'NN'), ('doctor', 'NN')])]),\n",
              " Tree('S', [Tree('NP', [('Patients', 'NNS')]), ('are', 'VBP'), ('not', 'RB'), ('paying', 'VBG'), Tree('NP', [('attention', 'NN')]), ('.', '.')]),\n",
              " Tree('S', [('Specific', 'JJ'), Tree('NP', [('stomach', 'NN')]), ('attentive', 'JJ'), ('to', 'TO'), Tree('NP', [('patients', 'NNS')]), ('as', 'IN'), ('well', 'RB'), ('.', '.')]),\n",
              " Tree('S', [('Suggested', 'JJ'), Tree('NP', [('remedy', 'NN')]), ('As', 'NNP'), ('well', 'RB'), ('as', 'IN'), Tree('NP', [('patient', 'NN'), ('care', 'NN')]), ('to', 'TO'), ('recover', 'VB'), ('from', 'IN'), ('the', 'DT'), Tree('NP', [('symptoms', 'NNS')]), ('is', 'VBZ'), ('very', 'RB'), ('good', 'JJ'), ('.', '.')]),\n",
              " Tree('S', [('Until', 'IN'), ('the', 'DT'), Tree('NP', [('card', 'NN')]), ('to', 'TO'), ('the', 'DT'), Tree('NP', [('nurse', 'NN')]), (\"'s\", 'POS'), Tree('NP', [('desk', 'NN')]), ('and', 'CC'), Tree('NP', [('everyone', 'NN')]), ('is', 'VBZ'), ('very', 'RB'), ('lovely', 'RB'), ('.', '.')]),\n",
              " Tree('S', [Tree('NP', [('Today', 'NN')]), (',', ','), ('not', 'RB'), ('a', 'DT'), ('cold', 'JJ'), ('and', 'CC'), ('sore', 'RB'), Tree('NP', [('throat', 'NN')]), ('to', 'TO'), ('the', 'DT'), Tree('NP', [('doctor', 'NN')]), ('to', 'TO'), ('get', 'VB'), Tree('NP', [('medicine', 'NN')]), ('.', '.')]),\n",
              " Tree('S', [('Good', 'JJ'), Tree('NP', [('service', 'NN')]), ('is', 'VBZ'), ('very', 'RB'), ('attentive', 'JJ'), Tree('NP', [('patient', 'NN')]), ('.', '.')]),\n",
              " Tree('S', [('Keeping', 'VBG'), ('a', 'DT'), Tree('NP', [('pet', 'NN')]), ('fever', 'IN'), ('The', 'DT'), ('dry', 'JJ'), Tree('NP', [('bed', 'NN')]), ('was', 'VBD'), ('hard', 'JJ'), ('to', 'TO'), ('sleep', 'VB'), ('.', '.')]),\n",
              " Tree('S', [('Service', 'NNP'), ('quite', 'RB'), ('slow', 'JJ'), Tree('NP', [('time', 'NN')]), ('make', 'VBP'), ('out', 'RP'), ('very', 'RB'), ('slowly', 'RB'), Tree('NP', [('kg', 'NN')]), ('.', '.')]),\n",
              " Tree('S', [('Follow', 'NNP'), ('us', 'PRP'), ('ask', 'VBP'), ('from', 'IN'), Tree('NP', [('morning', 'NN')]), ('got', 'VBD'), ('off', 'RB'), ('again', 'RB'), ('at', 'IN'), ('2pm', 'CD'), ('.', '.')]),\n",
              " Tree('S', [('But', 'CC'), ('every', 'DT'), Tree('NP', [('time', 'NN')]), ('the', 'DT'), Tree('NP', [('maintenance', 'NN'), ('service', 'NN')]), ('of', 'IN'), Tree('NP', [('nurses', 'NNS')]), ('are', 'VBP'), ('excellent', 'JJ'), ('.', '.')]),\n",
              " Tree('S', [('Total', 'JJ'), Tree('NP', [('costs', 'NNS')]), ('of', 'IN'), Tree('NP', [('prizes', 'NNS')]), ('to', 'TO'), ('unfold', 'VB'), ('along', 'IN'), ('the', 'DT'), Tree('NP', [('charge', 'NN')]), ('.', '.')]),\n",
              " Tree('S', [('Almost', 'RB'), ('worth', 'IN'), ('it', 'PRP')]),\n",
              " Tree('S', [Tree('NP', [('Doctors', 'NNS')]), ('and', 'CC'), Tree('NP', [('nurses', 'NNS')]), ('can', 'MD'), ('provide', 'VB'), Tree('NP', [('care', 'NN')]), ('as', 'IN'), ('well', 'RB'), ('.', '.')]),\n",
              " Tree('S', [('Good', 'JJ'), Tree('NP', [('patient', 'NN'), ('care', 'NN'), ('services', 'NNS')]), ('Fee', 'NNP'), ('Affordable', 'NNP')]),\n",
              " Tree('S', [('Hospital', 'NNP'), Tree('NP', [('ward', 'NN'), ('boy', 'NN')]), ('Care', 'NNP'), Tree('NP', [('admit', 'NN')]), ('as', 'RB'), ('much', 'JJ'), ('to', 'TO'), ('clean', 'VB'), ('the', 'DT'), Tree('NP', [('thermometer', 'NN')]), ('as', 'IN'), ('a', 'DT'), ('good', 'JJ'), Tree('NP', [('time', 'NN')]), ('to', 'TO'), ('talk', 'VB'), ('psychological', 'JJ'), Tree('NP', [('smiling', 'NN')]), ('.', '.')]),\n",
              " Tree('S', [('Long', 'JJ'), Tree('NP', [('wait', 'NN')]), (',', ','), ('crowded', 'VBD'), ('waiting', 'VBG'), Tree('NP', [('rooms', 'NNS')]), (',', ','), Tree('NP', [('doctor', 'NN')]), (',', ','), Tree('NP', [('hospital', 'NN'), ('system', 'NN')]), ('does', 'VBZ'), ('not', 'RB'), ('work', 'VB'), ('.', '.')]),\n",
              " Tree('S', [Tree('NP', [('Delays', 'NNS')]), (',', ','), ('high', 'JJ'), Tree('NP', [('prices', 'NNS')]), ('are', 'VBP'), ('not', 'RB'), ('fit', 'JJ'), ('for', 'IN'), Tree('NP', [('service', 'NN')]), ('.', '.')]),\n",
              " Tree('S', [('Usually', 'RB'), ('it', 'PRP'), ('is', 'VBZ'), ('used', 'VBN'), ('at', 'IN'), Tree('NP', [('hospital', 'NN')]), ('near', 'IN'), ('Bangkok', 'NNP'), ('due', 'JJ'), ('.', '.')]),\n",
              " Tree('S', [('The', 'DT'), Tree('NP', [('service', 'NN')]), ('is', 'VBZ'), ('really', 'RB'), ('good', 'JJ'), ('Enough', 'NNP'), Tree('NP', [('staff', 'NN')]), ('for', 'IN'), Tree('NP', [('service', 'NN')])]),\n",
              " Tree('S', [('May', 'NNP'), ('provide', 'VB'), ('medical', 'JJ'), Tree('NP', [('care', 'NN')]), ('as', 'RB'), ('well', 'RB'), ('as', 'IN'), ('friendly', 'JJ'), ('.', '.')]),\n",
              " Tree('S', [('To', 'TO'), ('maintain', 'VB'), Tree('NP', [('eye', 'NN'), ('contact', 'NN')]), ('with', 'IN'), ('Dr.', 'NNP'), ('Orawan', 'NNP'), ('.', '.')]),\n",
              " Tree('S', [('There', 'EX'), ('are', 'VBP'), ('very', 'RB'), ('good', 'JJ'), Tree('NP', [('patients', 'NNS')]), ('Said', 'VBD'), Tree('NP', [('treatment', 'NN'), ('step', 'NN')]), ('to', 'TO'), ('understanding', 'VBG'), Tree('NP', [('simple', 'NN')]), ('.', '.')]),\n",
              " Tree('S', [('And', 'CC'), ('your', 'PRP$'), Tree('NP', [('doctor', 'NN')]), ('beaching', 'VBG'), Tree('NP', [('battle', 'NN')]), ('again', 'RB'), ('.', '.')]),\n",
              " Tree('S', [Tree('NP', [('Doctor', 'NN')]), ('Who', 'WP'), ('is', 'VBZ'), ('my', 'PRP$'), Tree('NP', [('mother', 'NN')]), ('and', 'CC'), ('all', 'PDT'), ('the', 'DT'), Tree('NP', [('family', 'NN')]), ('very', 'RB'), ('impressed', 'JJ'), ('.', '.')]),\n",
              " Tree('S', [('Outpatient', 'NNP'), Tree('NP', [('care', 'NN')]), ('is', 'VBZ'), ('very', 'RB'), ('good', 'JJ'), ('as', 'IN'), ('well', 'RB'), ('.', '.')]),\n",
              " Tree('S', [('Took', 'NNP'), ('her', 'PRP$'), Tree('NP', [('son', 'NN')]), ('to', 'TO'), ('the', 'DT'), Tree('NP', [('doctor', 'NN')]), ('The', 'DT'), ('low', 'JJ'), Tree('NP', [('grade', 'NN'), ('fever', 'NN')]), ('Were', 'NNP'), Tree('NP', [('rash', 'NN')]), ('on', 'IN'), ('the', 'DT'), Tree('NP', [('body', 'NN')]), ('When', 'WRB'), ('the', 'DT'), Tree('NP', [('outdoor', 'NN')]), ('and', 'CC'), ('named', 'VBN'), Tree('NP', [('patient', 'NN')]), ('.', '.')]),\n",
              " Tree('S', [('Check', 'VB'), ('the', 'DT'), Tree('NP', [('pressure', 'NN')]), ('Height', 'NNP'), Tree('NP', [('children', 'NNS')]), ('I', 'PRP'), ('was', 'VBD'), ('waiting', 'VBG'), ('to', 'TO'), ('see', 'VB'), ('Bay', 'NNP'), ('Area', 'NNP'), Tree('NP', [('stage', 'NN')]), ('fast', 'RB'), ('enough', 'RB'), ('.', '.')]),\n",
              " Tree('S', [('It', 'PRP'), ('does', 'VBZ'), ('not', 'RB'), ('have', 'VB'), ('to', 'TO'), ('wait', 'VB'), ('long', 'RB'), ('.', '.')]),\n",
              " Tree('S', [('Staff', 'NNP'), Tree('NP', [('look', 'NN')]), ('after', 'IN'), ('good', 'JJ'), ('I', 'PRP'), ('smiled', 'VBD'), ('at', 'IN'), ('my', 'PRP$'), Tree('NP', [('sink', 'NN'), ('transparent', 'NN'), ('viscose', 'NN')]), ('.', '.')]),\n",
              " Tree('S', [('You', 'PRP'), ('were', 'VBD'), ('described', 'VBN'), ('as', 'IN'), ('benign', 'JJ'), ('genital', 'JJ'), Tree('NP', [('informative', 'NN')]), ('.', '.')]),\n",
              " Tree('S', [('Until', 'IN'), ('then', 'RB'), (',', ','), ('the', 'DT'), ('ANC', 'NNP'), (\"'s\", 'POS'), Tree('NP', [('birth', 'NN')]), (',', ','), ('it', 'PRP'), ('was', 'VBD'), ('2', 'CD'), Tree('NP', [('people', 'NNS')]), (',', ','), ('good', 'JJ'), Tree('NP', [('service', 'NN')]), (',', ','), ('very', 'RB'), ('good', 'JJ'), Tree('NP', [('doctors', 'NNS')]), (',', ','), Tree('NP', [('nurses', 'NNS')]), (',', ','), Tree('NP', [('patients', 'NNS')]), ('are', 'VBP'), ('encouraged', 'VBN'), ('to', 'TO'), ('make', 'VB'), ('good', 'JJ'), Tree('NP', [('things', 'NNS')]), ('better', 'RBR'), ('.', '.')]),\n",
              " Tree('S', [('Officer', 'NNP'), ('and', 'CC'), ('physician', 'JJ'), Tree('NP', [('attention', 'NN')]), ('to', 'TO'), ('patient', 'VB'), ('Despite', 'IN'), ('the', 'DT'), Tree('NP', [('ease', 'NN')]), ('administrative', 'JJ'), Tree('NP', [('chat', 'NN')]), ('.', '.')]),\n",
              " Tree('S', [('As', 'IN'), ('hospital', 'JJ'), Tree('NP', [('patients', 'NNS')]), ('.', '.')]),\n",
              " Tree('S', [('This', 'DT'), ('is', 'VBZ'), ('a', 'DT'), ('25-year-old', 'JJ'), Tree('NP', [('hospital', 'NN')]), ('.', '.')]),\n",
              " Tree('S', [('The', 'DT'), ('old', 'JJ'), Tree('NP', [('tools', 'NNS')]), ('and', 'CC'), ('modern', 'JJ'), Tree('NP', [('medicine', 'NN')]), ('.', '.')]),\n",
              " Tree('S', [('Believe', 'NNP'), ('and', 'CC'), Tree('NP', [('trust', 'NN')]), ('in', 'IN'), ('medical', 'JJ'), Tree('NP', [('treatment', 'NN')]), ('.', '.')]),\n",
              " Tree('S', [('The', 'DT'), Tree('NP', [('clinics', 'NNS'), ('treat', 'NN')]), ('and', 'CC'), Tree('NP', [('consult', 'NN')]), ('with', 'IN'), ('Dr..', 'NNP'), ('Kitsanee', 'NNP'), Tree('NP', [('department', 'NN')]), (\"'s\", 'POS'), ('MD', 'NNP'), ('.', '.')]),\n",
              " Tree('S', [('Ecriiw', 'NNP'), ('Federation', 'NNP'), ('MD', 'NNP'), ('.', '.')]),\n",
              " Tree('S', [('The', 'DT'), ('great', 'JJ'), ('and', 'CC'), ('admirable', 'JJ'), ('in', 'IN'), ('its', 'PRP$'), Tree('NP', [('intention', 'NN')]), ('to', 'TO'), ('maintain', 'VB'), ('it', 'PRP'), ('.', '.')]),\n",
              " Tree('S', [('Dr.', 'NNP'), ('Cho', 'NNP'), ('absolute', 'POS'), ('good', 'JJ'), ('and', 'CC'), ('noble', 'JJ'), ('in', 'IN'), Tree('NP', [('intention', 'NN')]), ('to', 'TO'), ('treat', 'VB'), ('.', '.')]),\n",
              " Tree('S', [('the', 'DT'), Tree('NP', [('patient', 'NN')]), ('recovered', 'VBD'), ('quickly', 'RB'), ('return', 'VB'), ('to', 'TO'), ('normal', 'JJ'), Tree('NP', [('life', 'NN')]), ('.', '.')]),\n",
              " Tree('S', [('Professor', 'NNP'), ('of', 'IN'), ('neurological', 'JJ'), Tree('NP', [('surgery', 'NN')]), ('Medicine', 'NNP'), ('.', '.')]),\n",
              " Tree('S', [('Brain', 'NNP'), ('expert', 'JJ'), Tree('NP', [('spine', 'NN')]), ('I', 'PRP'), ('introduce', 'VBP'), Tree('NP', [('people', 'NNS')]), ('to', 'TO'), ('recognize', 'VB'), ('the', 'DT'), Tree('NP', [('symptoms', 'NNS')]), ('of', 'IN'), ('broken', 'JJ'), Tree('NP', [('blood', 'NN'), ('vessels', 'NNS')]), ('.', '.')]),\n",
              " Tree('S', [('Tea', 'NNP'), Tree('NP', [('leg', 'NN'), ('pain', 'NN')]), ('caused', 'VBN'), ('by', 'IN'), Tree('NP', [('bone', 'NN'), ('nerve', 'NN')]), ('.', '.')]),\n",
              " Tree('S', [('You', 'PRP'), ('may', 'MD'), ('have', 'VB'), ('also', 'RB'), ('been', 'VBN'), ('operating', 'VBG'), ('from', 'IN'), ('.', '.')]),\n",
              " Tree('S', [('7', 'CD'), Tree('NP', [('days', 'NNS')]), ('walking', 'VBG'), ('normally', 'RB'), ('Body', 'NNP'), ('entirely', 'RB'), ('by', 'IN'), ('the', 'DT'), Tree('NP', [('doctors', 'NNS')]), ('here', 'RB'), ('do', 'VBP'), ('not', 'RB'), ('want', 'VB'), ('the', 'DT'), Tree('NP', [('patient', 'NN')]), ('to', 'TO'), ('sleep', 'VB'), ('.', '.')]),\n",
              " Tree('S', [Tree('NP', [('Hospital', 'NN')]), ('is', 'VBZ'), ('not', 'RB'), ('really', 'RB'), ('hard', 'JJ')]),\n",
              " Tree('S', [('Medicine', 'NNP'), ('(', '('), ('Prof.', 'NNP'), ('Dr.', 'NNP'), ('Lifeboats', 'NNP'), ('.', '.')]),\n",
              " Tree('S', [('Cooperative', 'NNP'), Tree('NP', [('prosperity', 'NN')]), (')', ')'), ('are', 'VBP'), ('knowledgeable', 'JJ'), ('and', 'CC'), ('up', 'RB'), ('.', '.')]),\n",
              " Tree('S', [('Cute', 'NNP'), Tree('NP', [('nurse', 'NN')]), (',', ','), ('both', 'DT'), ('in', 'IN'), Tree('NP', [('front', 'NN')]), ('and', 'CC'), ('in', 'IN'), ('the', 'DT'), Tree('NP', [('ward', 'NN')]), ('.', '.')]),\n",
              " Tree('S', [('Operating', 'VBG'), ('herself', 'PRP'), ('an', 'DT'), Tree('NP', [('angel', 'NN')]), ('dressed', 'VBN'), ('in', 'IN'), ('white', 'JJ'), (',', ','), ('good', 'JJ'), Tree('NP', [('food', 'NN')]), (',', ','), Tree('NP', [('airy', 'NN'), ('environment', 'NN')]), ('near', 'IN'), ('the', 'DT'), Tree('NP', [('hospital', 'NN')]), (\"'s\", 'POS'), Tree('NP', [('feeling', 'NN')]), ('good', 'JJ'), (',', ','), ('etc', 'FW'), ('.', '.')]),\n",
              " Tree('S', [('Since', 'IN'), Tree('NP', [('nurses', 'NNS')]), ('are', 'VBP'), ('impressed', 'JJ'), Tree('NP', [('class', 'NN'), ('child', 'NN'), ('care', 'NN')]), ('for', 'IN'), Tree('NP', [('children', 'NNS')]), ('is', 'VBZ'), ('great', 'JJ'), ('to', 'TO'), ('aid', 'VB'), ('wipe', 'JJ'), Tree('NP', [('eloquence', 'NN'), ('child', 'NN'), ('care', 'NN')]), ('until', 'IN'), ('the', 'DT'), Tree('NP', [('doctor', 'NN')]), ('.', '.')]),\n",
              " Tree('S', [('On', 'IN'), ('1', 'CD'), ('January', 'NNP'), ('2560', 'CD'), ('to', 'TO'), ('treat', 'VB'), Tree('NP', [('pain', 'NN')]), ('in', 'IN'), ('the', 'DT'), Tree('NP', [('ankle', 'NN')]), ('from', 'IN'), ('the', 'DT'), Tree('NP', [('crash', 'NN'), ('landing', 'NN')]), ('.', '.')]),\n",
              " Tree('S', [('Since', 'IN'), ('the', 'DT'), Tree('NP', [('car', 'NN')]), ('is', 'VBZ'), ('very', 'RB'), ('good', 'JJ'), Tree('NP', [('service', 'NN'), ('staff', 'NN')]), ('.', '.')]),\n",
              " Tree('S', [('A', 'DT'), Tree('NP', [('nurse', 'NN')]), ('came', 'VBD'), ('into', 'IN'), Tree('NP', [('question', 'NN')]), ('initial', 'JJ'), Tree('NP', [('symptoms', 'NNS')]), ('.', '.')]),\n",
              " Tree('S', [Tree('NP', [('Check', 'NN'), ('records', 'NNS')]), ('quickly', 'RB'), ('.', '.')]),\n",
              " Tree('S', [('Bay', 'NNP'), ('Area', 'NNP'), ('have', 'VBP'), ('empathy', 'VBN'), ('for', 'IN'), Tree('NP', [('diagnosis', 'NN')]), ('carefully', 'RB'), ('.', '.')]),\n",
              " Tree('S', [('Overall', 'VB'), ('a', 'DT'), ('good', 'JJ'), Tree('NP', [('service', 'NN')]), ('impressed', 'VBD'), ('me', 'PRP'), ('.', '.')]),\n",
              " Tree('S', [('Doctor', 'NNP'), (\"'s\", 'POS'), ('Heart', 'NNP')]),\n",
              " Tree('S', [('If', 'IN'), ('we', 'PRP'), ('can', 'MD'), ('not', 'RB'), ('come', 'VB'), ('back', 'RB'), ('to', 'TO'), Tree('NP', [('life', 'NN')]), ('again', 'RB'), ('sustaining', 'VBG'), ('the', 'DT'), ('highly', 'RB'), ('specialized', 'JJ'), Tree('NP', [('doctors', 'NNS')]), (',', ','), Tree('NP', [('teachers', 'NNS')]), ('choose', 'VBP'), ('the', 'DT'), ('regular', 'JJ'), Tree('NP', [('hospital', 'NN')]), (',', ','), ('Bangkok', 'NNP'), ('.', '.')]),\n",
              " Tree('S', [('Only', 'RB'), ('a', 'DT'), Tree('NP', [('doctor', 'NN')])]),\n",
              " Tree('S', [('You', 'PRP'), ('good', 'JJ'), Tree('NP', [('health', 'NN')]), ('until', 'IN'), Tree('NP', [('benign', 'NN')]), ('.', '.')]),\n",
              " Tree('S', [('Lovely', 'RB'), ('.', '.')]),\n",
              " Tree('S', [('Delicious', 'NNP'), Tree('NP', [('food', 'NN')]), (',', ','), ('courteous', 'JJ'), Tree('NP', [('staff', 'NN')]), ('here', 'RB'), ('.', '.')]),\n",
              " Tree('S', [('You', 'PRP'), ('make', 'VBP'), ('little', 'JJ'), Tree('NP', [('treat', 'NN')]), ('.', '.')]),\n",
              " Tree('S', [('Impressive', 'JJ'), ('fast', 'RB'), ('enough', 'RB')]),\n",
              " Tree('S', [('If', 'IN'), ('you', 'PRP'), ('find', 'VBP'), ('a', 'DT'), ('common', 'JJ'), Tree('NP', [('disease', 'NN')]), ('such', 'JJ'), ('as', 'IN'), Tree('NP', [('flu', 'NNS')]), ('usually', 'RB'), ('does', 'VBZ'), ('not', 'RB'), ('need', 'VB'), ('to', 'TO'), ('see', 'VB'), ('a', 'DT'), Tree('NP', [('doctor', 'NN')]), ('at', 'IN'), ('the', 'DT'), Tree('NP', [('hospital', 'NN'), ('channel', 'NN')]), ('.', '.')]),\n",
              " Tree('S', [('Good', 'JJ'), Tree('NP', [('nursing', 'NN'), ('care', 'NN')]), ('is', 'VBZ'), ('a', 'DT'), ('preliminary', 'JJ'), Tree('NP', [('inquiry', 'NN')]), ('.', '.')]),\n",
              " Tree('S', [Tree('NP', [('Doctors', 'NNS')]), ('advise', 'VBP'), ('more', 'JJR'), ('on', 'IN'), Tree('NP', [('prevention', 'NN')]), ('than', 'IN'), Tree('NP', [('treatment', 'NN')]), ('.', '.')])]"
            ]
          },
          "metadata": {
            "tags": []
          },
          "execution_count": 25
        }
      ]
    },
    {
      "cell_type": "markdown",
      "metadata": {
        "id": "18VFBI44jYwV",
        "colab_type": "text"
      },
      "source": [
        "Extract Noun Phrase"
      ]
    },
    {
      "cell_type": "code",
      "metadata": {
        "id": "BCczxqEGjWDf",
        "colab_type": "code",
        "colab": {}
      },
      "source": [
        "def extract_np(parsed_tree):\n",
        "    nps = []\n",
        "    for subtree in parsed_tree.subtrees():\n",
        "        if subtree.label() == 'NP':\n",
        "            t = subtree\n",
        "            t = \" \".join(word for word, tag in t.leaves())\n",
        "            nps.append(t)\n",
        "    return nps"
      ],
      "execution_count": 0,
      "outputs": []
    },
    {
      "cell_type": "code",
      "metadata": {
        "id": "MYEp5fW3jcLQ",
        "colab_type": "code",
        "colab": {}
      },
      "source": [
        "nps = []\n",
        "for parse_tree in parse_trees:\n",
        "    nps.append(extract_np(parse_tree))"
      ],
      "execution_count": 0,
      "outputs": []
    },
    {
      "cell_type": "code",
      "metadata": {
        "id": "Y_iibo7Jjenb",
        "colab_type": "code",
        "outputId": "551067cb-8baa-4acf-9089-49a72b546a14",
        "colab": {
          "base_uri": "https://localhost:8080/",
          "height": 1000
        }
      },
      "source": [
        "nps"
      ],
      "execution_count": 28,
      "outputs": [
        {
          "output_type": "execute_result",
          "data": {
            "text/plain": [
              "[['lot', 'people', 'hospital'],\n",
              " ['Greetings care patients', 'service'],\n",
              " ['Talk relax'],\n",
              " ['doctors', 'people', 'someone'],\n",
              " ['rooms', 'price'],\n",
              " [],\n",
              " ['reception', 'service', 'system'],\n",
              " ['nurse', 'doctor', 'facilities', 'hospital'],\n",
              " ['Doctors', 'hospital', 'thing', 'service'],\n",
              " ['service'],\n",
              " ['doctor', 'patient feels', 'thank'],\n",
              " ['lot', 'people', 'hospital'],\n",
              " ['Greetings care patients', 'service'],\n",
              " ['Talk relax'],\n",
              " ['doctors', 'people', 'someone'],\n",
              " ['rooms', 'price', 'midwife', 'nursing care'],\n",
              " ['price', 'treatment', 'bit'],\n",
              " [],\n",
              " [],\n",
              " ['Hospital doctors', 'care hospital parking lot', 'buildings', 'prices'],\n",
              " ['service', 'return service'],\n",
              " ['queues', 'mall adjacent', 'hospital'],\n",
              " ['time', 'test results', 'something', 'results'],\n",
              " ['eloquence', 'treatment', 'childhood'],\n",
              " ['hospital'],\n",
              " ['doctor', 'symptoms', 'leg pain', 'doctor', 'medication', 'line'],\n",
              " ['hospital', 'family service'],\n",
              " ['price', 'home care', 'ease', 'travel'],\n",
              " ['rain', 'emergency room', 'health insurance claim hospital care'],\n",
              " ['Relatives', 'friends'],\n",
              " ['Patients', 'years', 'doctor', 'bone pain'],\n",
              " ['before'],\n",
              " ['doctor', 'anything'],\n",
              " [],\n",
              " ['something'],\n",
              " ['doctor'],\n",
              " ['cancer', 'answer', 'answer', 'patient'],\n",
              " ['complaint', 'hospital'],\n",
              " ['doctor', 'doctor'],\n",
              " ['conclusion', 'medications', 'analgesics'],\n",
              " ['pharmacist'],\n",
              " [],\n",
              " ['rheumatoid'],\n",
              " ['kind', 'caring'],\n",
              " ['disease'],\n",
              " ['eye capillaries', 'eye'],\n",
              " ['eyes', 'doctor', 'appointment', 'doctor', 'eyes'],\n",
              " [],\n",
              " ['rheumatoid'],\n",
              " ['eye', 'doctor'],\n",
              " ['Shows', 'patients'],\n",
              " ['weather'],\n",
              " ['leg', 'blotches'],\n",
              " ['winter'],\n",
              " [],\n",
              " ['attention', 'disease'],\n",
              " ['talk', 'work'],\n",
              " ['service', 'care'],\n",
              " ['Yesterday', 'doctor', 'hospital'],\n",
              " ['service', 'impression'],\n",
              " ['birth', 'hospital', 'แlai'],\n",
              " ['Nurses feel', 'service'],\n",
              " ['day', 'hospital'],\n",
              " ['doctor', 'kind ฝaktgag'],\n",
              " ['Talk', 'patient'],\n",
              " ['doctor', 'doctor', 'story'],\n",
              " ['Today', 'people', 'children'],\n",
              " ['counseling', 'information', 'disease'],\n",
              " ['diagnosis', 'years'],\n",
              " ['staff', 'wifi'],\n",
              " ['stomach twin gestation',\n",
              "  'diarrhea',\n",
              "  'pm',\n",
              "  'doctor',\n",
              "  'hospital',\n",
              "  'someone',\n",
              "  'wheelchair'],\n",
              " ['Accelerators', 'convenient', 'bathroom'],\n",
              " ['d.'],\n",
              " ['brine', 'night', 'doctor', 'specialist doctors', 'obstetricians'],\n",
              " ['disease', 'colon care'],\n",
              " ['drawback'],\n",
              " [],\n",
              " ['Exceptions', 'bed'],\n",
              " ['journey'],\n",
              " ['port'],\n",
              " ['maternity ward', 'cycles'],\n",
              " ['man', 'examination'],\n",
              " ['doctors', 'check'],\n",
              " ['teller', 'eggs', 'eggs', 'egg', 'children'],\n",
              " ['wall'],\n",
              " [],\n",
              " ['baht', 'temperature', 'ultrasound'],\n",
              " ['thank'],\n",
              " ['disease recurrence', 'doctor', 'hospital bed'],\n",
              " ['doctors'],\n",
              " ['home', 'interests', 'patients'],\n",
              " ['staff'],\n",
              " ['expert',\n",
              "  'front',\n",
              "  'experience',\n",
              "  'doctors',\n",
              "  'nurses',\n",
              "  'questions',\n",
              "  'medicine department'],\n",
              " ['Doctors', 'department', 'material'],\n",
              " ['load'],\n",
              " ['treatment', 'patients', 'post hospital services', 'team', 'specialists'],\n",
              " [],\n",
              " ['parachute', 'travel nurses', 'doctors', 'care', 'guidance'],\n",
              " ['Reduces symptoms', 'doctors', 'obstetricians', 'lot'],\n",
              " ['doctors'],\n",
              " ['children', 'doctors', 'diseases', 'accuracy'],\n",
              " ['answer'],\n",
              " ['virus rsv', 'room'],\n",
              " ['hospital', 'solution', 'waiting room'],\n",
              " ['time', 'room'],\n",
              " ['Nursing', 'care', 'attention', 'patients', 'spite', 'children', 'ward'],\n",
              " ['patients', 'countenance'],\n",
              " [],\n",
              " ['estate', 'kind', 'pregnancy'],\n",
              " ['Every time', 'problem', 'pregnancy'],\n",
              " ['doctor', 'advice'],\n",
              " ['stitches'],\n",
              " ['bed', 'water'],\n",
              " ['patient care', 'doctor'],\n",
              " ['examination', 'year'],\n",
              " ['service'],\n",
              " ['room'],\n",
              " ['counter',\n",
              "  'people',\n",
              "  'doctor',\n",
              "  'examination room',\n",
              "  'treatment',\n",
              "  'doctor',\n",
              "  'appointment'],\n",
              " ['service', 'prices'],\n",
              " ['surgery', 'hand', 'pressure'],\n",
              " ['Replacement nurses', 'start'],\n",
              " ['Went', 'nurses'],\n",
              " ['patients', 'jacket', 'radiation'],\n",
              " ['hospitals', 'government hospital'],\n",
              " ['thanks', 'caring mother', 'mother', 'night', 'symptoms'],\n",
              " ['catch', 'cheeks', 'feel', 'grandchildren'],\n",
              " ['Doctors'],\n",
              " ['Doctor',\n",
              "  'nurse',\n",
              "  'kind',\n",
              "  'look',\n",
              "  'surgery',\n",
              "  'safety',\n",
              "  'feel',\n",
              "  'recommendations'],\n",
              " ['care'],\n",
              " ['Accommodation',\n",
              "  'restaurants',\n",
              "  'hospitals',\n",
              "  'outpatient care',\n",
              "  'mother',\n",
              "  'time',\n",
              "  'heart'],\n",
              " ['management system', 'lot', 'unit'],\n",
              " ['parking', 'seniors', 'people', 'car sharing', 'distance'],\n",
              " ['security guards'],\n",
              " [],\n",
              " ['standard', 'world', 'manners', 'statement', 'impression'],\n",
              " ['rest', 'service'],\n",
              " ['hospital'],\n",
              " ['service', 'hospitals', 'service'],\n",
              " ['man', 'office', 'lot'],\n",
              " ['cleanliness'],\n",
              " ['smell drugs', 'book', 'staff', 'fast'],\n",
              " [],\n",
              " ['examination', 'information'],\n",
              " ['staff', 'door', 'dissection room'],\n",
              " ['People'],\n",
              " [],\n",
              " ['holiday', \"o'clock\", 'morning', 'layers'],\n",
              " [],\n",
              " ['department',\n",
              "  'records',\n",
              "  'coordinator sensitivity',\n",
              "  'patient cards',\n",
              "  'health insurance cards',\n",
              "  'minutes',\n",
              "  'front'],\n",
              " [],\n",
              " ['services', 'nurses', 'smile'],\n",
              " ['expertise', 'doctors', 'doctors', 'teachers', 'proficient'],\n",
              " ['deduction', 'respect', 'issue', 'examination'],\n",
              " ['doctors', 'time', 'patients'],\n",
              " ['battery', 'backup batteries'],\n",
              " ['nurse', 'power', 'department'],\n",
              " ['money'],\n",
              " ['care'],\n",
              " ['lack', 'attention', 'treatment'],\n",
              " ['mom', 'heart disease'],\n",
              " ['Doctors', 'care', 'room'],\n",
              " ['sleepers'],\n",
              " ['floor cute'],\n",
              " ['claim', 'insurance'],\n",
              " ['doctors', 'thanks', 'treatment', 'scalp'],\n",
              " [],\n",
              " ['motorcycle accident'],\n",
              " ['wound'],\n",
              " ['wound'],\n",
              " ['drug odor'],\n",
              " ['Measurements', 'odor'],\n",
              " ['lymph flow outward'],\n",
              " ['wound'],\n",
              " ['drug', 'smell'],\n",
              " ['wound', 'drugs'],\n",
              " ['service'],\n",
              " ['nurse', 'doctor', 'pm'],\n",
              " ['time'],\n",
              " ['doctor'],\n",
              " ['time'],\n",
              " [],\n",
              " ['dresser'],\n",
              " ['hospital patients', 'doctor', 'tomorrow'],\n",
              " ['Nurses', 'right'],\n",
              " ['Hospital', 'coordination'],\n",
              " ['Patients', 'fro'],\n",
              " ['appointment'],\n",
              " ['physician', 'nurse', 'doctor', 'appointment', 'way'],\n",
              " ['standard'],\n",
              " [],\n",
              " ['years'],\n",
              " ['hospital', 'distance'],\n",
              " ['payments', 'drugs', 'pharmacy bag', 'people', 'payment'],\n",
              " ['names', 'information', 'patients strap'],\n",
              " ['attention', 'waste'],\n",
              " ['doctor', 'service', 'eloquence'],\n",
              " ['Management system', 'staff', 'doctor'],\n",
              " ['hospital'],\n",
              " ['house', 'doctor'],\n",
              " ['hospital', 'hospital'],\n",
              " ['department'],\n",
              " ['departments', 'areas'],\n",
              " ['hospital', 'price', 'service good'],\n",
              " ['care patient', 'polite', 'room', 'number', 'patients'],\n",
              " ['hospitals', 'doctors'],\n",
              " ['need', 'end', 'dengue'],\n",
              " ['hospital',\n",
              "  'days',\n",
              "  'doctors',\n",
              "  'everything',\n",
              "  'insurance departments',\n",
              "  'hassle'],\n",
              " ['disadvantage', 'hospital'],\n",
              " ['Nurses', 'midday'],\n",
              " ['cause', 'temperature', 'doctor', 'time', 'downside', 'hospital'],\n",
              " ['cafeteria food', 'store'],\n",
              " ['area'],\n",
              " ['food', 'lot'],\n",
              " ['variety', 'food', 'people', 'doctor', 'patient', 'food'],\n",
              " ['hospital stay'],\n",
              " ['restaurant', 'starbucks', 'choice', 'consumer'],\n",
              " ['rooms', 'day', 'swab'],\n",
              " ['people', 'cleanliness'],\n",
              " ['water'],\n",
              " ['flow', 'water', 'people', 'winter'],\n",
              " ['room', 'patient registration service'],\n",
              " ['none', 'look', 'series', 'nothing'],\n",
              " ['rooms', 'something', 'light', 'total', 'points', 'nursing'],\n",
              " ['sound', 'equipment carts'],\n",
              " ['food'],\n",
              " ['speed', 'cleanliness', 'people'],\n",
              " ['poisoning', 'diarrhea', 'penniless', 'doctor'],\n",
              " ['doctor'],\n",
              " ['night', 'brine'],\n",
              " ['bother', 'signs'],\n",
              " ['need'],\n",
              " ['drug', 'change'],\n",
              " ['hour'],\n",
              " ['doctor', 'room', 'time', 'eh'],\n",
              " [],\n",
              " ['cost', 'drug charges', 'thousand rooms'],\n",
              " ['day', 'doctor', 'minutes', 'handset', 'lungs'],\n",
              " ['home', 'medicine', 'doctor'],\n",
              " ['order', 'drugs', 'congestion', 'doctor', 'drugs', 'something'],\n",
              " ['medicine'],\n",
              " ['doctor', 'stuffy nose'],\n",
              " ['state hospital', 'doctor', 'medicine'],\n",
              " ['signs', 'time', 'treatment'],\n",
              " ['People', 'floor', 'doctor', 'service'],\n",
              " ['time', 'spite', 'appearances'],\n",
              " ['professor doctor'],\n",
              " ['Patients', 'attention'],\n",
              " ['stomach', 'patients'],\n",
              " ['remedy', 'patient care', 'symptoms'],\n",
              " ['card', 'nurse', 'desk', 'everyone'],\n",
              " ['Today', 'throat', 'doctor', 'medicine'],\n",
              " ['service', 'patient'],\n",
              " ['pet', 'bed'],\n",
              " ['time', 'kg'],\n",
              " ['morning'],\n",
              " ['time', 'maintenance service', 'nurses'],\n",
              " ['costs', 'prizes', 'charge'],\n",
              " [],\n",
              " ['Doctors', 'nurses', 'care'],\n",
              " ['patient care services'],\n",
              " ['ward boy', 'admit', 'thermometer', 'time', 'smiling'],\n",
              " ['wait', 'rooms', 'doctor', 'hospital system'],\n",
              " ['Delays', 'prices', 'service'],\n",
              " ['hospital'],\n",
              " ['service', 'staff', 'service'],\n",
              " ['care'],\n",
              " ['eye contact'],\n",
              " ['patients', 'treatment step', 'simple'],\n",
              " ['doctor', 'battle'],\n",
              " ['Doctor', 'mother', 'family'],\n",
              " ['care'],\n",
              " ['son', 'doctor', 'grade fever', 'rash', 'body', 'outdoor', 'patient'],\n",
              " ['pressure', 'children', 'stage'],\n",
              " [],\n",
              " ['look', 'sink transparent viscose'],\n",
              " ['informative'],\n",
              " ['birth', 'people', 'service', 'doctors', 'nurses', 'patients', 'things'],\n",
              " ['attention', 'ease', 'chat'],\n",
              " ['patients'],\n",
              " ['hospital'],\n",
              " ['tools', 'medicine'],\n",
              " ['trust', 'treatment'],\n",
              " ['clinics treat', 'consult', 'department'],\n",
              " [],\n",
              " ['intention'],\n",
              " ['intention'],\n",
              " ['patient', 'life'],\n",
              " ['surgery'],\n",
              " ['spine', 'people', 'symptoms', 'blood vessels'],\n",
              " ['leg pain', 'bone nerve'],\n",
              " [],\n",
              " ['days', 'doctors', 'patient'],\n",
              " ['Hospital'],\n",
              " [],\n",
              " ['prosperity'],\n",
              " ['nurse', 'front', 'ward'],\n",
              " ['angel', 'food', 'airy environment', 'hospital', 'feeling'],\n",
              " ['nurses', 'class child care', 'children', 'eloquence child care', 'doctor'],\n",
              " ['pain', 'ankle', 'crash landing'],\n",
              " ['car', 'service staff'],\n",
              " ['nurse', 'question', 'symptoms'],\n",
              " ['Check records'],\n",
              " ['diagnosis'],\n",
              " ['service'],\n",
              " [],\n",
              " ['life', 'doctors', 'teachers', 'hospital'],\n",
              " ['doctor'],\n",
              " ['health', 'benign'],\n",
              " [],\n",
              " ['food', 'staff'],\n",
              " ['treat'],\n",
              " [],\n",
              " ['disease', 'flu', 'doctor', 'hospital channel'],\n",
              " ['nursing care', 'inquiry'],\n",
              " ['Doctors', 'prevention', 'treatment']]"
            ]
          },
          "metadata": {
            "tags": []
          },
          "execution_count": 28
        }
      ]
    },
    {
      "cell_type": "markdown",
      "metadata": {
        "id": "v61sVzLojiro",
        "colab_type": "text"
      },
      "source": [
        "**Put information into DataFrame**"
      ]
    },
    {
      "cell_type": "code",
      "metadata": {
        "id": "bq5vTLutjgFq",
        "colab_type": "code",
        "colab": {}
      },
      "source": [
        "df = pd.DataFrame({\"cids\": cids, \n",
        "                   \"sentences\": sentences, \n",
        "                   \"sentiments\": sentiments, \n",
        "                   \"NP\": nps})"
      ],
      "execution_count": 0,
      "outputs": []
    },
    {
      "cell_type": "code",
      "metadata": {
        "id": "2ayIc1ZSj1gh",
        "colab_type": "code",
        "outputId": "5b36cbd2-4545-458c-bea0-733f3395ee23",
        "colab": {
          "base_uri": "https://localhost:8080/",
          "height": 343
        }
      },
      "source": [
        "df.head(10)"
      ],
      "execution_count": 30,
      "outputs": [
        {
          "output_type": "execute_result",
          "data": {
            "text/html": [
              "<div>\n",
              "<style scoped>\n",
              "    .dataframe tbody tr th:only-of-type {\n",
              "        vertical-align: middle;\n",
              "    }\n",
              "\n",
              "    .dataframe tbody tr th {\n",
              "        vertical-align: top;\n",
              "    }\n",
              "\n",
              "    .dataframe thead th {\n",
              "        text-align: right;\n",
              "    }\n",
              "</style>\n",
              "<table border=\"1\" class=\"dataframe\">\n",
              "  <thead>\n",
              "    <tr style=\"text-align: right;\">\n",
              "      <th></th>\n",
              "      <th>cids</th>\n",
              "      <th>sentences</th>\n",
              "      <th>sentiments</th>\n",
              "      <th>NP</th>\n",
              "    </tr>\n",
              "  </thead>\n",
              "  <tbody>\n",
              "    <tr>\n",
              "      <th>0</th>\n",
              "      <td>0</td>\n",
              "      <td>What is really like a lot of people in this ho...</td>\n",
              "      <td>positive</td>\n",
              "      <td>[lot, people, hospital]</td>\n",
              "    </tr>\n",
              "    <tr>\n",
              "      <th>1</th>\n",
              "      <td>0</td>\n",
              "      <td>Most smiling Greetings care patients and those...</td>\n",
              "      <td>positive</td>\n",
              "      <td>[Greetings care patients, service]</td>\n",
              "    </tr>\n",
              "    <tr>\n",
              "      <th>2</th>\n",
              "      <td>0</td>\n",
              "      <td>Talk relax at all.</td>\n",
              "      <td>positive</td>\n",
              "      <td>[Talk relax]</td>\n",
              "    </tr>\n",
              "    <tr>\n",
              "      <th>3</th>\n",
              "      <td>0</td>\n",
              "      <td>Most doctors who have had the good-hearted peo...</td>\n",
              "      <td>neutral</td>\n",
              "      <td>[doctors, people, someone]</td>\n",
              "    </tr>\n",
              "    <tr>\n",
              "      <th>4</th>\n",
              "      <td>0</td>\n",
              "      <td>The Department of Medicine Private rooms are O...</td>\n",
              "      <td>positive</td>\n",
              "      <td>[rooms, price]</td>\n",
              "    </tr>\n",
              "    <tr>\n",
              "      <th>5</th>\n",
              "      <td>1</td>\n",
              "      <td>Riga has to use here.</td>\n",
              "      <td>neutral</td>\n",
              "      <td>[]</td>\n",
              "    </tr>\n",
              "    <tr>\n",
              "      <th>6</th>\n",
              "      <td>1</td>\n",
              "      <td>Clean and good reception The service was with ...</td>\n",
              "      <td>positive</td>\n",
              "      <td>[reception, service, system]</td>\n",
              "    </tr>\n",
              "    <tr>\n",
              "      <th>7</th>\n",
              "      <td>1</td>\n",
              "      <td>A nurse and doctor There are facilities within...</td>\n",
              "      <td>neutral</td>\n",
              "      <td>[nurse, doctor, facilities, hospital]</td>\n",
              "    </tr>\n",
              "    <tr>\n",
              "      <th>8</th>\n",
              "      <td>1</td>\n",
              "      <td>Doctors are competent The hospital is a good t...</td>\n",
              "      <td>positive</td>\n",
              "      <td>[Doctors, hospital, thing, service]</td>\n",
              "    </tr>\n",
              "    <tr>\n",
              "      <th>9</th>\n",
              "      <td>1</td>\n",
              "      <td>I would recommend to use the service if they a...</td>\n",
              "      <td>negative</td>\n",
              "      <td>[service]</td>\n",
              "    </tr>\n",
              "  </tbody>\n",
              "</table>\n",
              "</div>"
            ],
            "text/plain": [
              "   cids  ...                                     NP\n",
              "0     0  ...                [lot, people, hospital]\n",
              "1     0  ...     [Greetings care patients, service]\n",
              "2     0  ...                           [Talk relax]\n",
              "3     0  ...             [doctors, people, someone]\n",
              "4     0  ...                         [rooms, price]\n",
              "5     1  ...                                     []\n",
              "6     1  ...           [reception, service, system]\n",
              "7     1  ...  [nurse, doctor, facilities, hospital]\n",
              "8     1  ...    [Doctors, hospital, thing, service]\n",
              "9     1  ...                              [service]\n",
              "\n",
              "[10 rows x 4 columns]"
            ]
          },
          "metadata": {
            "tags": []
          },
          "execution_count": 30
        }
      ]
    },
    {
      "cell_type": "code",
      "metadata": {
        "id": "5IirLAzZj26d",
        "colab_type": "code",
        "colab": {}
      },
      "source": [
        "df['sentences'] = df['sentences'].str.replace(\"[^a-zA-Z#]\", \" \")"
      ],
      "execution_count": 0,
      "outputs": []
    },
    {
      "cell_type": "code",
      "metadata": {
        "id": "OK-USNzqj6D2",
        "colab_type": "code",
        "colab": {}
      },
      "source": [
        "df['sentiments'] = df['sentiments'].str.replace(\"[^a-zA-Z#]\", \" \")"
      ],
      "execution_count": 0,
      "outputs": []
    },
    {
      "cell_type": "markdown",
      "metadata": {
        "id": "ZoxJRBB2j-qk",
        "colab_type": "text"
      },
      "source": [
        "Split dataframe into positive and negative sentiment"
      ]
    },
    {
      "cell_type": "code",
      "metadata": {
        "id": "vOMuTnfcj6lB",
        "colab_type": "code",
        "colab": {}
      },
      "source": [
        "pos = df[df[\"sentiments\"] == \"positive\"].reset_index(drop=True)\n",
        "pos_words = sum(pos[\"NP\"].tolist(), [])\n",
        "pos_words = [word.lower() for word in pos_words]\n",
        "poshist = pd.DataFrame({\"words\": pos_words})\n",
        "poshist = poshist.groupby(\"words\").size().reset_index(name=\"#pos\")"
      ],
      "execution_count": 0,
      "outputs": []
    },
    {
      "cell_type": "code",
      "metadata": {
        "id": "dx3gHvVqj6um",
        "colab_type": "code",
        "colab": {}
      },
      "source": [
        "neg = df[df[\"sentiments\"] == \"negative\"].reset_index(drop=True)\n",
        "neg_words = sum(neg[\"NP\"].tolist(), [])\n",
        "neg_words = [word.lower() for word in neg_words]\n",
        "neghist = pd.DataFrame({\"words\": neg_words})\n",
        "neghist = neghist.groupby(\"words\").size().reset_index(name=\"#neg\")"
      ],
      "execution_count": 0,
      "outputs": []
    },
    {
      "cell_type": "markdown",
      "metadata": {
        "id": "mK5gmJDhlAEx",
        "colab_type": "text"
      },
      "source": [
        "**Word Cloud Representation**"
      ]
    },
    {
      "cell_type": "code",
      "metadata": {
        "id": "2Tax0Smmj6zU",
        "colab_type": "code",
        "colab": {}
      },
      "source": [
        "from wordcloud import WordCloud\n",
        "import matplotlib.pyplot as plt"
      ],
      "execution_count": 0,
      "outputs": []
    },
    {
      "cell_type": "code",
      "metadata": {
        "id": "XKXDoOBdj65M",
        "colab_type": "code",
        "colab": {}
      },
      "source": [
        "def vizwordcloud(df):\n",
        "    tuples = [tuple(x) for x in df.values]\n",
        "    wordcloud = WordCloud().generate_from_frequencies(dict(tuples))\n",
        "    plt.figure()\n",
        "    plt.imshow(wordcloud, interpolation=\"bilinear\")\n",
        "    plt.axis(\"off\")\n",
        "    plt.show()"
      ],
      "execution_count": 0,
      "outputs": []
    },
    {
      "cell_type": "code",
      "metadata": {
        "id": "87BnvoVvj6-A",
        "colab_type": "code",
        "outputId": "989fa897-890a-4f47-f312-4ce717a4cc2a",
        "colab": {
          "base_uri": "https://localhost:8080/",
          "height": 198
        }
      },
      "source": [
        "vizwordcloud(poshist)"
      ],
      "execution_count": 37,
      "outputs": [
        {
          "output_type": "display_data",
          "data": {
            "image/png": "[encoded data removed]",
            "text/plain": [
              "<Figure size 432x288 with 1 Axes>"
            ]
          },
          "metadata": {
            "tags": [],
            "needs_background": "light"
          }
        }
      ]
    },
    {
      "cell_type": "code",
      "metadata": {
        "id": "IpiKxrk3j7Da",
        "colab_type": "code",
        "colab": {
          "base_uri": "https://localhost:8080/",
          "height": 198
        },
        "outputId": "091b612f-e308-4da4-923f-9f312b50317a"
      },
      "source": [
        "vizwordcloud(neghist)"
      ],
      "execution_count": 38,
      "outputs": [
        {
          "output_type": "display_data",
          "data": {
            "image/png": "[encoded data removed]",
            "text/plain": [
              "<Figure size 432x288 with 1 Axes>"
            ]
          },
          "metadata": {
            "tags": [],
            "needs_background": "light"
          }
        }
      ]
    },
    {
      "cell_type": "markdown",
      "metadata": {
        "id": "35w1qdrzlK6B",
        "colab_type": "text"
      },
      "source": [
        "We saw 2 problems: 1) Singular and plural words were not combined and 2) words that should not be appeared in the wordcloud such as patients because of the co-reference resolution problem.\n",
        "\n",
        "Let's transfrom selected words to their singular form because at this stage the number of words is not much already then add categories to filter out."
      ]
    },
    {
      "cell_type": "code",
      "metadata": {
        "id": "7PtXvlwuj68b",
        "colab_type": "code",
        "colab": {}
      },
      "source": [
        "def plural2singular(word):\n",
        "  if word == \"doctors\":\n",
        "    return \"doctor\"\n",
        "  elif word == \"nurses\":\n",
        "    return \"nurse\"\n",
        "  elif word == \"clinics\":\n",
        "    return \"clinic\"\n",
        "  elif word == \"hospitals\":\n",
        "    return \"hospital\"\n",
        "  elif word == \"services\":\n",
        "    return \"service\"\n",
        "  elif word == \"staffs\":\n",
        "    return \"staff\"\n",
        "  elif word == \"treatments\":\n",
        "    return \"treatment\"\n",
        "  elif word == \"students\":\n",
        "    return \"student\"\n",
        "  else:\n",
        "    return word"
      ],
      "execution_count": 0,
      "outputs": []
    },
    {
      "cell_type": "code",
      "metadata": {
        "id": "LaPiiBEgj6xr",
        "colab_type": "code",
        "colab": {}
      },
      "source": [
        "pos_words = [plural2singular(word) for word in pos_words]\n",
        "poshist = pd.DataFrame({\"words\": pos_words})\n",
        "poshist = poshist.groupby(\"words\").size().reset_index(name=\"#pos\")\n",
        "\n",
        "neg_words = [plural2singular(word) for word in neg_words]\n",
        "neghist = pd.DataFrame({\"words\": neg_words})\n",
        "neghist = neghist.groupby(\"words\").size().reset_index(name=\"#neg\")"
      ],
      "execution_count": 0,
      "outputs": []
    },
    {
      "cell_type": "code",
      "metadata": {
        "id": "2EV1sdoSj6sT",
        "colab_type": "code",
        "colab": {
          "base_uri": "https://localhost:8080/",
          "height": 198
        },
        "outputId": "2d3867a8-d70f-48ca-c234-c6fbe8def71c"
      },
      "source": [
        "vizwordcloud(poshist)"
      ],
      "execution_count": 41,
      "outputs": [
        {
          "output_type": "display_data",
          "data": {
            "image/png": "[encoded data removed]",
            "text/plain": [
              "<Figure size 432x288 with 1 Axes>"
            ]
          },
          "metadata": {
            "tags": [],
            "needs_background": "light"
          }
        }
      ]
    },
    {
      "cell_type": "code",
      "metadata": {
        "id": "ba5-63Dbj6q0",
        "colab_type": "code",
        "colab": {
          "base_uri": "https://localhost:8080/",
          "height": 198
        },
        "outputId": "e23f726f-16f6-4207-e728-95a1aa3599c2"
      },
      "source": [
        "vizwordcloud(neghist)"
      ],
      "execution_count": 42,
      "outputs": [
        {
          "output_type": "display_data",
          "data": {
            "image/png": "[encoded data removed]",
            "text/plain": [
              "<Figure size 432x288 with 1 Axes>"
            ]
          },
          "metadata": {
            "tags": [],
            "needs_background": "light"
          }
        }
      ]
    },
    {
      "cell_type": "code",
      "metadata": {
        "id": "dzRyADvdj6pB",
        "colab_type": "code",
        "colab": {}
      },
      "source": [
        "def groups(word):\n",
        "    if word in (\"doctor\", \"nurse\", \"student\"):\n",
        "        return \"staff\"\n",
        "    elif word in (\"hospital\", \"clinic\", \"equipment\", \"place\"):\n",
        "        return \"infrastructure\"\n",
        "    elif word in (\"service\", \"care\", \"treatment\", \"surgery\", \"disease\", \"medical care\"):\n",
        "        return \"service\"\n",
        "    elif word in (\"queue\", \"appointment\"):\n",
        "        return \"process\"\n",
        "    elif word in (\"price\", \"claim\"):\n",
        "        return \"finance\"\n",
        "    else:\n",
        "        return \"others\""
      ],
      "execution_count": 0,
      "outputs": []
    },
    {
      "cell_type": "code",
      "metadata": {
        "id": "KugJKZY6lXV4",
        "colab_type": "code",
        "colab": {}
      },
      "source": [
        "poshist[\"category\"] = poshist[\"words\"].apply(lambda x: groups(x))\n",
        "poscount = poshist.groupby(\"category\").size().reset_index(name=\"#\")\n",
        "poscount = poscount[poscount[\"category\"] != \"others\"].reset_index(drop=True)"
      ],
      "execution_count": 0,
      "outputs": []
    },
    {
      "cell_type": "code",
      "metadata": {
        "id": "eIe0De54lbyg",
        "colab_type": "code",
        "colab": {}
      },
      "source": [
        "neghist[\"category\"] = neghist[\"words\"].apply(lambda x: groups(x))\n",
        "negcount = neghist.groupby(\"category\").size().reset_index(name=\"#\")\n",
        "negcount = negcount[negcount[\"category\"] != \"others\"].reset_index(drop=True)"
      ],
      "execution_count": 0,
      "outputs": []
    },
    {
      "cell_type": "markdown",
      "metadata": {
        "id": "bErJdGqHmHlw",
        "colab_type": "text"
      },
      "source": [
        "**Plot Radar Chart**"
      ]
    },
    {
      "cell_type": "code",
      "metadata": {
        "id": "mixYCCCamF3m",
        "colab_type": "code",
        "colab": {
          "base_uri": "https://localhost:8080/",
          "height": 166
        },
        "outputId": "8a227c27-f53a-420a-e3ed-6d047241cc79"
      },
      "source": [
        "poscount"
      ],
      "execution_count": 46,
      "outputs": [
        {
          "output_type": "execute_result",
          "data": {
            "text/html": [
              "<div>\n",
              "<style scoped>\n",
              "    .dataframe tbody tr th:only-of-type {\n",
              "        vertical-align: middle;\n",
              "    }\n",
              "\n",
              "    .dataframe tbody tr th {\n",
              "        vertical-align: top;\n",
              "    }\n",
              "\n",
              "    .dataframe thead th {\n",
              "        text-align: right;\n",
              "    }\n",
              "</style>\n",
              "<table border=\"1\" class=\"dataframe\">\n",
              "  <thead>\n",
              "    <tr style=\"text-align: right;\">\n",
              "      <th></th>\n",
              "      <th>category</th>\n",
              "      <th>#</th>\n",
              "    </tr>\n",
              "  </thead>\n",
              "  <tbody>\n",
              "    <tr>\n",
              "      <th>0</th>\n",
              "      <td>finance</td>\n",
              "      <td>2</td>\n",
              "    </tr>\n",
              "    <tr>\n",
              "      <th>1</th>\n",
              "      <td>infrastructure</td>\n",
              "      <td>1</td>\n",
              "    </tr>\n",
              "    <tr>\n",
              "      <th>2</th>\n",
              "      <td>service</td>\n",
              "      <td>5</td>\n",
              "    </tr>\n",
              "    <tr>\n",
              "      <th>3</th>\n",
              "      <td>staff</td>\n",
              "      <td>2</td>\n",
              "    </tr>\n",
              "  </tbody>\n",
              "</table>\n",
              "</div>"
            ],
            "text/plain": [
              "         category  #\n",
              "0         finance  2\n",
              "1  infrastructure  1\n",
              "2         service  5\n",
              "3           staff  2"
            ]
          },
          "metadata": {
            "tags": []
          },
          "execution_count": 46
        }
      ]
    },
    {
      "cell_type": "code",
      "metadata": {
        "id": "EucKNvPXmOZU",
        "colab_type": "code",
        "colab": {
          "base_uri": "https://localhost:8080/",
          "height": 136
        },
        "outputId": "01366ef1-3ed1-424c-81fd-60044cddfbb7"
      },
      "source": [
        "negcount"
      ],
      "execution_count": 47,
      "outputs": [
        {
          "output_type": "execute_result",
          "data": {
            "text/html": [
              "<div>\n",
              "<style scoped>\n",
              "    .dataframe tbody tr th:only-of-type {\n",
              "        vertical-align: middle;\n",
              "    }\n",
              "\n",
              "    .dataframe tbody tr th {\n",
              "        vertical-align: top;\n",
              "    }\n",
              "\n",
              "    .dataframe thead th {\n",
              "        text-align: right;\n",
              "    }\n",
              "</style>\n",
              "<table border=\"1\" class=\"dataframe\">\n",
              "  <thead>\n",
              "    <tr style=\"text-align: right;\">\n",
              "      <th></th>\n",
              "      <th>category</th>\n",
              "      <th>#</th>\n",
              "    </tr>\n",
              "  </thead>\n",
              "  <tbody>\n",
              "    <tr>\n",
              "      <th>0</th>\n",
              "      <td>infrastructure</td>\n",
              "      <td>1</td>\n",
              "    </tr>\n",
              "    <tr>\n",
              "      <th>1</th>\n",
              "      <td>service</td>\n",
              "      <td>5</td>\n",
              "    </tr>\n",
              "    <tr>\n",
              "      <th>2</th>\n",
              "      <td>staff</td>\n",
              "      <td>1</td>\n",
              "    </tr>\n",
              "  </tbody>\n",
              "</table>\n",
              "</div>"
            ],
            "text/plain": [
              "         category  #\n",
              "0  infrastructure  1\n",
              "1         service  5\n",
              "2           staff  1"
            ]
          },
          "metadata": {
            "tags": []
          },
          "execution_count": 47
        }
      ]
    },
    {
      "cell_type": "code",
      "metadata": {
        "id": "k_KZPKGHmQNQ",
        "colab_type": "code",
        "colab": {}
      },
      "source": [
        "import plotly.express as px\n",
        "from plotly.offline import download_plotlyjs, init_notebook_mode,  plot"
      ],
      "execution_count": 0,
      "outputs": []
    },
    {
      "cell_type": "code",
      "metadata": {
        "id": "hKBPRaFUmrSI",
        "colab_type": "code",
        "colab": {
          "base_uri": "https://localhost:8080/",
          "height": 34
        },
        "outputId": "037a290a-16b7-4b99-8124-f564efaac300"
      },
      "source": [
        "fig = px.line_polar(poscount, r=\"#\", theta=\"category\", line_close=True)\n",
        "plot(fig)"
      ],
      "execution_count": 49,
      "outputs": [
        {
          "output_type": "execute_result",
          "data": {
            "text/plain": [
              "'temp-plot.html'"
            ]
          },
          "metadata": {
            "tags": []
          },
          "execution_count": 49
        }
      ]
    },
    {
      "cell_type": "code",
      "metadata": {
        "id": "oRbc-Q4NmsvQ",
        "colab_type": "code",
        "colab": {
          "base_uri": "https://localhost:8080/",
          "height": 34
        },
        "outputId": "5e6f2739-580b-4395-cd1d-237ef29a51d4"
      },
      "source": [
        "fig_2 = px.line_polar(negcount, r=\"#\", theta=\"category\", line_close=True)\n",
        "plot(fig_2)"
      ],
      "execution_count": 50,
      "outputs": [
        {
          "output_type": "execute_result",
          "data": {
            "text/plain": [
              "'temp-plot.html'"
            ]
          },
          "metadata": {
            "tags": []
          },
          "execution_count": 50
        }
      ]
    },
    {
      "cell_type": "markdown",
      "metadata": {
        "id": "eTV-o3Bbm0M5",
        "colab_type": "text"
      },
      "source": [
        "Extracting Features from cleaned comments"
      ]
    },
    {
      "cell_type": "code",
      "metadata": {
        "id": "uPqbKH0lmuFd",
        "colab_type": "code",
        "colab": {}
      },
      "source": [
        "from wordcloud import WordCloud,ImageColorGenerator\n",
        "from PIL import Image\n",
        "import urllib\n",
        "import requests"
      ],
      "execution_count": 0,
      "outputs": []
    },
    {
      "cell_type": "code",
      "metadata": {
        "id": "nlb9Dvb6m6hr",
        "colab_type": "code",
        "colab": {
          "base_uri": "https://localhost:8080/",
          "height": 422
        },
        "outputId": "05a4b771-8799-4a19-bf9c-553e472d41e0"
      },
      "source": [
        "from sklearn.feature_extraction.text import CountVectorizer\n",
        "\n",
        "bow_vectorizer = CountVectorizer(max_df=0.90, min_df=2, max_features=1000, stop_words='english')\n",
        "\n",
        "# bag-of-words feature matrix\n",
        "bow = bow_vectorizer.fit_transform(df['sentences'])\n",
        "\n",
        "df_bow = pd.DataFrame(bow.todense())\n",
        "\n",
        "df_bow"
      ],
      "execution_count": 52,
      "outputs": [
        {
          "output_type": "execute_result",
          "data": {
            "text/html": [
              "<div>\n",
              "<style scoped>\n",
              "    .dataframe tbody tr th:only-of-type {\n",
              "        vertical-align: middle;\n",
              "    }\n",
              "\n",
              "    .dataframe tbody tr th {\n",
              "        vertical-align: top;\n",
              "    }\n",
              "\n",
              "    .dataframe thead th {\n",
              "        text-align: right;\n",
              "    }\n",
              "</style>\n",
              "<table border=\"1\" class=\"dataframe\">\n",
              "  <thead>\n",
              "    <tr style=\"text-align: right;\">\n",
              "      <th></th>\n",
              "      <th>0</th>\n",
              "      <th>1</th>\n",
              "      <th>2</th>\n",
              "      <th>3</th>\n",
              "      <th>4</th>\n",
              "      <th>5</th>\n",
              "      <th>6</th>\n",
              "      <th>7</th>\n",
              "      <th>8</th>\n",
              "      <th>9</th>\n",
              "      <th>10</th>\n",
              "      <th>11</th>\n",
              "      <th>12</th>\n",
              "      <th>13</th>\n",
              "      <th>14</th>\n",
              "      <th>15</th>\n",
              "      <th>16</th>\n",
              "      <th>17</th>\n",
              "      <th>18</th>\n",
              "      <th>19</th>\n",
              "      <th>20</th>\n",
              "      <th>21</th>\n",
              "      <th>22</th>\n",
              "      <th>23</th>\n",
              "      <th>24</th>\n",
              "      <th>25</th>\n",
              "      <th>26</th>\n",
              "      <th>27</th>\n",
              "      <th>28</th>\n",
              "      <th>29</th>\n",
              "      <th>30</th>\n",
              "      <th>31</th>\n",
              "      <th>32</th>\n",
              "      <th>33</th>\n",
              "      <th>34</th>\n",
              "      <th>35</th>\n",
              "      <th>36</th>\n",
              "      <th>37</th>\n",
              "      <th>38</th>\n",
              "      <th>39</th>\n",
              "      <th>...</th>\n",
              "      <th>197</th>\n",
              "      <th>198</th>\n",
              "      <th>199</th>\n",
              "      <th>200</th>\n",
              "      <th>201</th>\n",
              "      <th>202</th>\n",
              "      <th>203</th>\n",
              "      <th>204</th>\n",
              "      <th>205</th>\n",
              "      <th>206</th>\n",
              "      <th>207</th>\n",
              "      <th>208</th>\n",
              "      <th>209</th>\n",
              "      <th>210</th>\n",
              "      <th>211</th>\n",
              "      <th>212</th>\n",
              "      <th>213</th>\n",
              "      <th>214</th>\n",
              "      <th>215</th>\n",
              "      <th>216</th>\n",
              "      <th>217</th>\n",
              "      <th>218</th>\n",
              "      <th>219</th>\n",
              "      <th>220</th>\n",
              "      <th>221</th>\n",
              "      <th>222</th>\n",
              "      <th>223</th>\n",
              "      <th>224</th>\n",
              "      <th>225</th>\n",
              "      <th>226</th>\n",
              "      <th>227</th>\n",
              "      <th>228</th>\n",
              "      <th>229</th>\n",
              "      <th>230</th>\n",
              "      <th>231</th>\n",
              "      <th>232</th>\n",
              "      <th>233</th>\n",
              "      <th>234</th>\n",
              "      <th>235</th>\n",
              "      <th>236</th>\n",
              "    </tr>\n",
              "  </thead>\n",
              "  <tbody>\n",
              "    <tr>\n",
              "      <th>0</th>\n",
              "      <td>0</td>\n",
              "      <td>0</td>\n",
              "      <td>0</td>\n",
              "      <td>0</td>\n",
              "      <td>0</td>\n",
              "      <td>0</td>\n",
              "      <td>0</td>\n",
              "      <td>0</td>\n",
              "      <td>0</td>\n",
              "      <td>0</td>\n",
              "      <td>0</td>\n",
              "      <td>0</td>\n",
              "      <td>0</td>\n",
              "      <td>0</td>\n",
              "      <td>0</td>\n",
              "      <td>0</td>\n",
              "      <td>0</td>\n",
              "      <td>0</td>\n",
              "      <td>0</td>\n",
              "      <td>0</td>\n",
              "      <td>0</td>\n",
              "      <td>0</td>\n",
              "      <td>0</td>\n",
              "      <td>0</td>\n",
              "      <td>0</td>\n",
              "      <td>0</td>\n",
              "      <td>0</td>\n",
              "      <td>0</td>\n",
              "      <td>0</td>\n",
              "      <td>0</td>\n",
              "      <td>0</td>\n",
              "      <td>0</td>\n",
              "      <td>0</td>\n",
              "      <td>0</td>\n",
              "      <td>0</td>\n",
              "      <td>0</td>\n",
              "      <td>0</td>\n",
              "      <td>0</td>\n",
              "      <td>0</td>\n",
              "      <td>0</td>\n",
              "      <td>...</td>\n",
              "      <td>0</td>\n",
              "      <td>0</td>\n",
              "      <td>0</td>\n",
              "      <td>0</td>\n",
              "      <td>0</td>\n",
              "      <td>0</td>\n",
              "      <td>0</td>\n",
              "      <td>0</td>\n",
              "      <td>0</td>\n",
              "      <td>0</td>\n",
              "      <td>0</td>\n",
              "      <td>0</td>\n",
              "      <td>0</td>\n",
              "      <td>0</td>\n",
              "      <td>0</td>\n",
              "      <td>0</td>\n",
              "      <td>0</td>\n",
              "      <td>0</td>\n",
              "      <td>0</td>\n",
              "      <td>0</td>\n",
              "      <td>0</td>\n",
              "      <td>0</td>\n",
              "      <td>0</td>\n",
              "      <td>0</td>\n",
              "      <td>0</td>\n",
              "      <td>0</td>\n",
              "      <td>0</td>\n",
              "      <td>0</td>\n",
              "      <td>0</td>\n",
              "      <td>0</td>\n",
              "      <td>0</td>\n",
              "      <td>0</td>\n",
              "      <td>0</td>\n",
              "      <td>0</td>\n",
              "      <td>0</td>\n",
              "      <td>0</td>\n",
              "      <td>0</td>\n",
              "      <td>0</td>\n",
              "      <td>0</td>\n",
              "      <td>0</td>\n",
              "    </tr>\n",
              "    <tr>\n",
              "      <th>1</th>\n",
              "      <td>0</td>\n",
              "      <td>0</td>\n",
              "      <td>0</td>\n",
              "      <td>0</td>\n",
              "      <td>0</td>\n",
              "      <td>0</td>\n",
              "      <td>0</td>\n",
              "      <td>0</td>\n",
              "      <td>0</td>\n",
              "      <td>0</td>\n",
              "      <td>0</td>\n",
              "      <td>0</td>\n",
              "      <td>0</td>\n",
              "      <td>0</td>\n",
              "      <td>0</td>\n",
              "      <td>0</td>\n",
              "      <td>0</td>\n",
              "      <td>0</td>\n",
              "      <td>0</td>\n",
              "      <td>0</td>\n",
              "      <td>0</td>\n",
              "      <td>0</td>\n",
              "      <td>0</td>\n",
              "      <td>0</td>\n",
              "      <td>1</td>\n",
              "      <td>0</td>\n",
              "      <td>0</td>\n",
              "      <td>0</td>\n",
              "      <td>0</td>\n",
              "      <td>0</td>\n",
              "      <td>0</td>\n",
              "      <td>0</td>\n",
              "      <td>0</td>\n",
              "      <td>0</td>\n",
              "      <td>0</td>\n",
              "      <td>0</td>\n",
              "      <td>0</td>\n",
              "      <td>0</td>\n",
              "      <td>0</td>\n",
              "      <td>0</td>\n",
              "      <td>...</td>\n",
              "      <td>0</td>\n",
              "      <td>0</td>\n",
              "      <td>0</td>\n",
              "      <td>0</td>\n",
              "      <td>0</td>\n",
              "      <td>0</td>\n",
              "      <td>0</td>\n",
              "      <td>0</td>\n",
              "      <td>0</td>\n",
              "      <td>0</td>\n",
              "      <td>0</td>\n",
              "      <td>0</td>\n",
              "      <td>0</td>\n",
              "      <td>0</td>\n",
              "      <td>0</td>\n",
              "      <td>0</td>\n",
              "      <td>0</td>\n",
              "      <td>0</td>\n",
              "      <td>0</td>\n",
              "      <td>0</td>\n",
              "      <td>0</td>\n",
              "      <td>0</td>\n",
              "      <td>1</td>\n",
              "      <td>0</td>\n",
              "      <td>0</td>\n",
              "      <td>0</td>\n",
              "      <td>0</td>\n",
              "      <td>0</td>\n",
              "      <td>0</td>\n",
              "      <td>0</td>\n",
              "      <td>0</td>\n",
              "      <td>0</td>\n",
              "      <td>0</td>\n",
              "      <td>0</td>\n",
              "      <td>0</td>\n",
              "      <td>0</td>\n",
              "      <td>0</td>\n",
              "      <td>0</td>\n",
              "      <td>0</td>\n",
              "      <td>0</td>\n",
              "    </tr>\n",
              "    <tr>\n",
              "      <th>2</th>\n",
              "      <td>0</td>\n",
              "      <td>0</td>\n",
              "      <td>0</td>\n",
              "      <td>0</td>\n",
              "      <td>0</td>\n",
              "      <td>0</td>\n",
              "      <td>0</td>\n",
              "      <td>0</td>\n",
              "      <td>0</td>\n",
              "      <td>0</td>\n",
              "      <td>0</td>\n",
              "      <td>0</td>\n",
              "      <td>0</td>\n",
              "      <td>0</td>\n",
              "      <td>0</td>\n",
              "      <td>0</td>\n",
              "      <td>0</td>\n",
              "      <td>0</td>\n",
              "      <td>0</td>\n",
              "      <td>0</td>\n",
              "      <td>0</td>\n",
              "      <td>0</td>\n",
              "      <td>0</td>\n",
              "      <td>0</td>\n",
              "      <td>0</td>\n",
              "      <td>0</td>\n",
              "      <td>0</td>\n",
              "      <td>0</td>\n",
              "      <td>0</td>\n",
              "      <td>0</td>\n",
              "      <td>0</td>\n",
              "      <td>0</td>\n",
              "      <td>0</td>\n",
              "      <td>0</td>\n",
              "      <td>0</td>\n",
              "      <td>0</td>\n",
              "      <td>0</td>\n",
              "      <td>0</td>\n",
              "      <td>0</td>\n",
              "      <td>0</td>\n",
              "      <td>...</td>\n",
              "      <td>0</td>\n",
              "      <td>0</td>\n",
              "      <td>0</td>\n",
              "      <td>0</td>\n",
              "      <td>1</td>\n",
              "      <td>0</td>\n",
              "      <td>0</td>\n",
              "      <td>0</td>\n",
              "      <td>0</td>\n",
              "      <td>0</td>\n",
              "      <td>0</td>\n",
              "      <td>0</td>\n",
              "      <td>0</td>\n",
              "      <td>0</td>\n",
              "      <td>0</td>\n",
              "      <td>0</td>\n",
              "      <td>0</td>\n",
              "      <td>0</td>\n",
              "      <td>0</td>\n",
              "      <td>0</td>\n",
              "      <td>0</td>\n",
              "      <td>0</td>\n",
              "      <td>0</td>\n",
              "      <td>0</td>\n",
              "      <td>0</td>\n",
              "      <td>0</td>\n",
              "      <td>0</td>\n",
              "      <td>0</td>\n",
              "      <td>0</td>\n",
              "      <td>0</td>\n",
              "      <td>0</td>\n",
              "      <td>0</td>\n",
              "      <td>0</td>\n",
              "      <td>0</td>\n",
              "      <td>0</td>\n",
              "      <td>0</td>\n",
              "      <td>0</td>\n",
              "      <td>0</td>\n",
              "      <td>0</td>\n",
              "      <td>0</td>\n",
              "    </tr>\n",
              "    <tr>\n",
              "      <th>3</th>\n",
              "      <td>0</td>\n",
              "      <td>0</td>\n",
              "      <td>0</td>\n",
              "      <td>0</td>\n",
              "      <td>0</td>\n",
              "      <td>0</td>\n",
              "      <td>0</td>\n",
              "      <td>0</td>\n",
              "      <td>0</td>\n",
              "      <td>0</td>\n",
              "      <td>0</td>\n",
              "      <td>0</td>\n",
              "      <td>0</td>\n",
              "      <td>0</td>\n",
              "      <td>0</td>\n",
              "      <td>0</td>\n",
              "      <td>0</td>\n",
              "      <td>0</td>\n",
              "      <td>0</td>\n",
              "      <td>0</td>\n",
              "      <td>0</td>\n",
              "      <td>0</td>\n",
              "      <td>0</td>\n",
              "      <td>0</td>\n",
              "      <td>0</td>\n",
              "      <td>0</td>\n",
              "      <td>0</td>\n",
              "      <td>0</td>\n",
              "      <td>0</td>\n",
              "      <td>0</td>\n",
              "      <td>0</td>\n",
              "      <td>0</td>\n",
              "      <td>0</td>\n",
              "      <td>0</td>\n",
              "      <td>1</td>\n",
              "      <td>0</td>\n",
              "      <td>0</td>\n",
              "      <td>0</td>\n",
              "      <td>0</td>\n",
              "      <td>0</td>\n",
              "      <td>...</td>\n",
              "      <td>0</td>\n",
              "      <td>0</td>\n",
              "      <td>0</td>\n",
              "      <td>0</td>\n",
              "      <td>0</td>\n",
              "      <td>0</td>\n",
              "      <td>0</td>\n",
              "      <td>0</td>\n",
              "      <td>0</td>\n",
              "      <td>0</td>\n",
              "      <td>0</td>\n",
              "      <td>0</td>\n",
              "      <td>0</td>\n",
              "      <td>0</td>\n",
              "      <td>0</td>\n",
              "      <td>0</td>\n",
              "      <td>0</td>\n",
              "      <td>0</td>\n",
              "      <td>0</td>\n",
              "      <td>0</td>\n",
              "      <td>0</td>\n",
              "      <td>0</td>\n",
              "      <td>0</td>\n",
              "      <td>0</td>\n",
              "      <td>0</td>\n",
              "      <td>0</td>\n",
              "      <td>0</td>\n",
              "      <td>0</td>\n",
              "      <td>0</td>\n",
              "      <td>0</td>\n",
              "      <td>0</td>\n",
              "      <td>0</td>\n",
              "      <td>0</td>\n",
              "      <td>0</td>\n",
              "      <td>0</td>\n",
              "      <td>0</td>\n",
              "      <td>0</td>\n",
              "      <td>0</td>\n",
              "      <td>0</td>\n",
              "      <td>0</td>\n",
              "    </tr>\n",
              "    <tr>\n",
              "      <th>4</th>\n",
              "      <td>0</td>\n",
              "      <td>0</td>\n",
              "      <td>0</td>\n",
              "      <td>0</td>\n",
              "      <td>0</td>\n",
              "      <td>0</td>\n",
              "      <td>0</td>\n",
              "      <td>0</td>\n",
              "      <td>0</td>\n",
              "      <td>0</td>\n",
              "      <td>0</td>\n",
              "      <td>0</td>\n",
              "      <td>0</td>\n",
              "      <td>0</td>\n",
              "      <td>0</td>\n",
              "      <td>0</td>\n",
              "      <td>0</td>\n",
              "      <td>0</td>\n",
              "      <td>0</td>\n",
              "      <td>0</td>\n",
              "      <td>0</td>\n",
              "      <td>0</td>\n",
              "      <td>0</td>\n",
              "      <td>0</td>\n",
              "      <td>0</td>\n",
              "      <td>0</td>\n",
              "      <td>0</td>\n",
              "      <td>0</td>\n",
              "      <td>0</td>\n",
              "      <td>0</td>\n",
              "      <td>0</td>\n",
              "      <td>0</td>\n",
              "      <td>0</td>\n",
              "      <td>0</td>\n",
              "      <td>0</td>\n",
              "      <td>0</td>\n",
              "      <td>0</td>\n",
              "      <td>0</td>\n",
              "      <td>0</td>\n",
              "      <td>0</td>\n",
              "      <td>...</td>\n",
              "      <td>0</td>\n",
              "      <td>0</td>\n",
              "      <td>0</td>\n",
              "      <td>0</td>\n",
              "      <td>0</td>\n",
              "      <td>0</td>\n",
              "      <td>0</td>\n",
              "      <td>0</td>\n",
              "      <td>0</td>\n",
              "      <td>0</td>\n",
              "      <td>0</td>\n",
              "      <td>0</td>\n",
              "      <td>0</td>\n",
              "      <td>0</td>\n",
              "      <td>0</td>\n",
              "      <td>0</td>\n",
              "      <td>0</td>\n",
              "      <td>0</td>\n",
              "      <td>0</td>\n",
              "      <td>0</td>\n",
              "      <td>0</td>\n",
              "      <td>0</td>\n",
              "      <td>0</td>\n",
              "      <td>0</td>\n",
              "      <td>0</td>\n",
              "      <td>0</td>\n",
              "      <td>0</td>\n",
              "      <td>0</td>\n",
              "      <td>0</td>\n",
              "      <td>0</td>\n",
              "      <td>0</td>\n",
              "      <td>0</td>\n",
              "      <td>0</td>\n",
              "      <td>0</td>\n",
              "      <td>0</td>\n",
              "      <td>0</td>\n",
              "      <td>1</td>\n",
              "      <td>0</td>\n",
              "      <td>0</td>\n",
              "      <td>0</td>\n",
              "    </tr>\n",
              "    <tr>\n",
              "      <th>...</th>\n",
              "      <td>...</td>\n",
              "      <td>...</td>\n",
              "      <td>...</td>\n",
              "      <td>...</td>\n",
              "      <td>...</td>\n",
              "      <td>...</td>\n",
              "      <td>...</td>\n",
              "      <td>...</td>\n",
              "      <td>...</td>\n",
              "      <td>...</td>\n",
              "      <td>...</td>\n",
              "      <td>...</td>\n",
              "      <td>...</td>\n",
              "      <td>...</td>\n",
              "      <td>...</td>\n",
              "      <td>...</td>\n",
              "      <td>...</td>\n",
              "      <td>...</td>\n",
              "      <td>...</td>\n",
              "      <td>...</td>\n",
              "      <td>...</td>\n",
              "      <td>...</td>\n",
              "      <td>...</td>\n",
              "      <td>...</td>\n",
              "      <td>...</td>\n",
              "      <td>...</td>\n",
              "      <td>...</td>\n",
              "      <td>...</td>\n",
              "      <td>...</td>\n",
              "      <td>...</td>\n",
              "      <td>...</td>\n",
              "      <td>...</td>\n",
              "      <td>...</td>\n",
              "      <td>...</td>\n",
              "      <td>...</td>\n",
              "      <td>...</td>\n",
              "      <td>...</td>\n",
              "      <td>...</td>\n",
              "      <td>...</td>\n",
              "      <td>...</td>\n",
              "      <td>...</td>\n",
              "      <td>...</td>\n",
              "      <td>...</td>\n",
              "      <td>...</td>\n",
              "      <td>...</td>\n",
              "      <td>...</td>\n",
              "      <td>...</td>\n",
              "      <td>...</td>\n",
              "      <td>...</td>\n",
              "      <td>...</td>\n",
              "      <td>...</td>\n",
              "      <td>...</td>\n",
              "      <td>...</td>\n",
              "      <td>...</td>\n",
              "      <td>...</td>\n",
              "      <td>...</td>\n",
              "      <td>...</td>\n",
              "      <td>...</td>\n",
              "      <td>...</td>\n",
              "      <td>...</td>\n",
              "      <td>...</td>\n",
              "      <td>...</td>\n",
              "      <td>...</td>\n",
              "      <td>...</td>\n",
              "      <td>...</td>\n",
              "      <td>...</td>\n",
              "      <td>...</td>\n",
              "      <td>...</td>\n",
              "      <td>...</td>\n",
              "      <td>...</td>\n",
              "      <td>...</td>\n",
              "      <td>...</td>\n",
              "      <td>...</td>\n",
              "      <td>...</td>\n",
              "      <td>...</td>\n",
              "      <td>...</td>\n",
              "      <td>...</td>\n",
              "      <td>...</td>\n",
              "      <td>...</td>\n",
              "      <td>...</td>\n",
              "      <td>...</td>\n",
              "    </tr>\n",
              "    <tr>\n",
              "      <th>310</th>\n",
              "      <td>0</td>\n",
              "      <td>0</td>\n",
              "      <td>0</td>\n",
              "      <td>0</td>\n",
              "      <td>0</td>\n",
              "      <td>0</td>\n",
              "      <td>0</td>\n",
              "      <td>0</td>\n",
              "      <td>0</td>\n",
              "      <td>0</td>\n",
              "      <td>0</td>\n",
              "      <td>0</td>\n",
              "      <td>0</td>\n",
              "      <td>0</td>\n",
              "      <td>0</td>\n",
              "      <td>0</td>\n",
              "      <td>0</td>\n",
              "      <td>0</td>\n",
              "      <td>0</td>\n",
              "      <td>0</td>\n",
              "      <td>0</td>\n",
              "      <td>0</td>\n",
              "      <td>0</td>\n",
              "      <td>0</td>\n",
              "      <td>0</td>\n",
              "      <td>0</td>\n",
              "      <td>0</td>\n",
              "      <td>0</td>\n",
              "      <td>0</td>\n",
              "      <td>0</td>\n",
              "      <td>0</td>\n",
              "      <td>0</td>\n",
              "      <td>0</td>\n",
              "      <td>0</td>\n",
              "      <td>0</td>\n",
              "      <td>0</td>\n",
              "      <td>0</td>\n",
              "      <td>0</td>\n",
              "      <td>0</td>\n",
              "      <td>0</td>\n",
              "      <td>...</td>\n",
              "      <td>0</td>\n",
              "      <td>0</td>\n",
              "      <td>0</td>\n",
              "      <td>0</td>\n",
              "      <td>0</td>\n",
              "      <td>0</td>\n",
              "      <td>0</td>\n",
              "      <td>0</td>\n",
              "      <td>0</td>\n",
              "      <td>0</td>\n",
              "      <td>0</td>\n",
              "      <td>0</td>\n",
              "      <td>0</td>\n",
              "      <td>0</td>\n",
              "      <td>0</td>\n",
              "      <td>0</td>\n",
              "      <td>0</td>\n",
              "      <td>0</td>\n",
              "      <td>1</td>\n",
              "      <td>0</td>\n",
              "      <td>0</td>\n",
              "      <td>0</td>\n",
              "      <td>0</td>\n",
              "      <td>0</td>\n",
              "      <td>0</td>\n",
              "      <td>0</td>\n",
              "      <td>0</td>\n",
              "      <td>0</td>\n",
              "      <td>0</td>\n",
              "      <td>0</td>\n",
              "      <td>0</td>\n",
              "      <td>0</td>\n",
              "      <td>0</td>\n",
              "      <td>0</td>\n",
              "      <td>0</td>\n",
              "      <td>0</td>\n",
              "      <td>0</td>\n",
              "      <td>0</td>\n",
              "      <td>0</td>\n",
              "      <td>0</td>\n",
              "    </tr>\n",
              "    <tr>\n",
              "      <th>311</th>\n",
              "      <td>0</td>\n",
              "      <td>0</td>\n",
              "      <td>0</td>\n",
              "      <td>0</td>\n",
              "      <td>0</td>\n",
              "      <td>0</td>\n",
              "      <td>0</td>\n",
              "      <td>0</td>\n",
              "      <td>0</td>\n",
              "      <td>0</td>\n",
              "      <td>0</td>\n",
              "      <td>0</td>\n",
              "      <td>0</td>\n",
              "      <td>0</td>\n",
              "      <td>0</td>\n",
              "      <td>0</td>\n",
              "      <td>0</td>\n",
              "      <td>0</td>\n",
              "      <td>0</td>\n",
              "      <td>0</td>\n",
              "      <td>0</td>\n",
              "      <td>0</td>\n",
              "      <td>0</td>\n",
              "      <td>0</td>\n",
              "      <td>0</td>\n",
              "      <td>0</td>\n",
              "      <td>0</td>\n",
              "      <td>0</td>\n",
              "      <td>0</td>\n",
              "      <td>0</td>\n",
              "      <td>0</td>\n",
              "      <td>0</td>\n",
              "      <td>0</td>\n",
              "      <td>0</td>\n",
              "      <td>0</td>\n",
              "      <td>0</td>\n",
              "      <td>0</td>\n",
              "      <td>0</td>\n",
              "      <td>0</td>\n",
              "      <td>0</td>\n",
              "      <td>...</td>\n",
              "      <td>0</td>\n",
              "      <td>0</td>\n",
              "      <td>0</td>\n",
              "      <td>0</td>\n",
              "      <td>0</td>\n",
              "      <td>0</td>\n",
              "      <td>0</td>\n",
              "      <td>0</td>\n",
              "      <td>0</td>\n",
              "      <td>0</td>\n",
              "      <td>0</td>\n",
              "      <td>0</td>\n",
              "      <td>0</td>\n",
              "      <td>0</td>\n",
              "      <td>0</td>\n",
              "      <td>0</td>\n",
              "      <td>0</td>\n",
              "      <td>0</td>\n",
              "      <td>0</td>\n",
              "      <td>0</td>\n",
              "      <td>0</td>\n",
              "      <td>0</td>\n",
              "      <td>0</td>\n",
              "      <td>0</td>\n",
              "      <td>0</td>\n",
              "      <td>0</td>\n",
              "      <td>0</td>\n",
              "      <td>0</td>\n",
              "      <td>0</td>\n",
              "      <td>0</td>\n",
              "      <td>0</td>\n",
              "      <td>0</td>\n",
              "      <td>0</td>\n",
              "      <td>0</td>\n",
              "      <td>0</td>\n",
              "      <td>0</td>\n",
              "      <td>0</td>\n",
              "      <td>0</td>\n",
              "      <td>0</td>\n",
              "      <td>0</td>\n",
              "    </tr>\n",
              "    <tr>\n",
              "      <th>312</th>\n",
              "      <td>0</td>\n",
              "      <td>0</td>\n",
              "      <td>0</td>\n",
              "      <td>0</td>\n",
              "      <td>0</td>\n",
              "      <td>0</td>\n",
              "      <td>0</td>\n",
              "      <td>0</td>\n",
              "      <td>0</td>\n",
              "      <td>0</td>\n",
              "      <td>0</td>\n",
              "      <td>0</td>\n",
              "      <td>0</td>\n",
              "      <td>0</td>\n",
              "      <td>0</td>\n",
              "      <td>0</td>\n",
              "      <td>0</td>\n",
              "      <td>0</td>\n",
              "      <td>0</td>\n",
              "      <td>0</td>\n",
              "      <td>0</td>\n",
              "      <td>0</td>\n",
              "      <td>0</td>\n",
              "      <td>0</td>\n",
              "      <td>0</td>\n",
              "      <td>0</td>\n",
              "      <td>0</td>\n",
              "      <td>0</td>\n",
              "      <td>0</td>\n",
              "      <td>0</td>\n",
              "      <td>0</td>\n",
              "      <td>0</td>\n",
              "      <td>0</td>\n",
              "      <td>0</td>\n",
              "      <td>0</td>\n",
              "      <td>0</td>\n",
              "      <td>0</td>\n",
              "      <td>0</td>\n",
              "      <td>0</td>\n",
              "      <td>0</td>\n",
              "      <td>...</td>\n",
              "      <td>0</td>\n",
              "      <td>0</td>\n",
              "      <td>0</td>\n",
              "      <td>0</td>\n",
              "      <td>0</td>\n",
              "      <td>0</td>\n",
              "      <td>0</td>\n",
              "      <td>0</td>\n",
              "      <td>0</td>\n",
              "      <td>0</td>\n",
              "      <td>0</td>\n",
              "      <td>0</td>\n",
              "      <td>0</td>\n",
              "      <td>0</td>\n",
              "      <td>0</td>\n",
              "      <td>0</td>\n",
              "      <td>0</td>\n",
              "      <td>0</td>\n",
              "      <td>0</td>\n",
              "      <td>0</td>\n",
              "      <td>0</td>\n",
              "      <td>0</td>\n",
              "      <td>0</td>\n",
              "      <td>1</td>\n",
              "      <td>0</td>\n",
              "      <td>0</td>\n",
              "      <td>0</td>\n",
              "      <td>0</td>\n",
              "      <td>0</td>\n",
              "      <td>0</td>\n",
              "      <td>0</td>\n",
              "      <td>0</td>\n",
              "      <td>0</td>\n",
              "      <td>0</td>\n",
              "      <td>0</td>\n",
              "      <td>0</td>\n",
              "      <td>0</td>\n",
              "      <td>0</td>\n",
              "      <td>0</td>\n",
              "      <td>0</td>\n",
              "    </tr>\n",
              "    <tr>\n",
              "      <th>313</th>\n",
              "      <td>0</td>\n",
              "      <td>0</td>\n",
              "      <td>0</td>\n",
              "      <td>0</td>\n",
              "      <td>0</td>\n",
              "      <td>0</td>\n",
              "      <td>0</td>\n",
              "      <td>0</td>\n",
              "      <td>0</td>\n",
              "      <td>0</td>\n",
              "      <td>0</td>\n",
              "      <td>0</td>\n",
              "      <td>0</td>\n",
              "      <td>0</td>\n",
              "      <td>0</td>\n",
              "      <td>0</td>\n",
              "      <td>0</td>\n",
              "      <td>0</td>\n",
              "      <td>0</td>\n",
              "      <td>0</td>\n",
              "      <td>0</td>\n",
              "      <td>0</td>\n",
              "      <td>0</td>\n",
              "      <td>0</td>\n",
              "      <td>1</td>\n",
              "      <td>0</td>\n",
              "      <td>0</td>\n",
              "      <td>0</td>\n",
              "      <td>0</td>\n",
              "      <td>0</td>\n",
              "      <td>0</td>\n",
              "      <td>0</td>\n",
              "      <td>0</td>\n",
              "      <td>0</td>\n",
              "      <td>0</td>\n",
              "      <td>0</td>\n",
              "      <td>0</td>\n",
              "      <td>0</td>\n",
              "      <td>0</td>\n",
              "      <td>0</td>\n",
              "      <td>...</td>\n",
              "      <td>0</td>\n",
              "      <td>0</td>\n",
              "      <td>0</td>\n",
              "      <td>0</td>\n",
              "      <td>0</td>\n",
              "      <td>0</td>\n",
              "      <td>0</td>\n",
              "      <td>0</td>\n",
              "      <td>0</td>\n",
              "      <td>0</td>\n",
              "      <td>0</td>\n",
              "      <td>0</td>\n",
              "      <td>0</td>\n",
              "      <td>0</td>\n",
              "      <td>0</td>\n",
              "      <td>0</td>\n",
              "      <td>0</td>\n",
              "      <td>0</td>\n",
              "      <td>0</td>\n",
              "      <td>0</td>\n",
              "      <td>0</td>\n",
              "      <td>0</td>\n",
              "      <td>0</td>\n",
              "      <td>0</td>\n",
              "      <td>0</td>\n",
              "      <td>0</td>\n",
              "      <td>0</td>\n",
              "      <td>0</td>\n",
              "      <td>0</td>\n",
              "      <td>0</td>\n",
              "      <td>0</td>\n",
              "      <td>0</td>\n",
              "      <td>0</td>\n",
              "      <td>0</td>\n",
              "      <td>0</td>\n",
              "      <td>0</td>\n",
              "      <td>0</td>\n",
              "      <td>0</td>\n",
              "      <td>0</td>\n",
              "      <td>0</td>\n",
              "    </tr>\n",
              "    <tr>\n",
              "      <th>314</th>\n",
              "      <td>0</td>\n",
              "      <td>0</td>\n",
              "      <td>0</td>\n",
              "      <td>0</td>\n",
              "      <td>0</td>\n",
              "      <td>0</td>\n",
              "      <td>0</td>\n",
              "      <td>0</td>\n",
              "      <td>0</td>\n",
              "      <td>0</td>\n",
              "      <td>0</td>\n",
              "      <td>0</td>\n",
              "      <td>0</td>\n",
              "      <td>0</td>\n",
              "      <td>0</td>\n",
              "      <td>0</td>\n",
              "      <td>0</td>\n",
              "      <td>0</td>\n",
              "      <td>0</td>\n",
              "      <td>0</td>\n",
              "      <td>0</td>\n",
              "      <td>0</td>\n",
              "      <td>0</td>\n",
              "      <td>0</td>\n",
              "      <td>0</td>\n",
              "      <td>0</td>\n",
              "      <td>0</td>\n",
              "      <td>0</td>\n",
              "      <td>0</td>\n",
              "      <td>0</td>\n",
              "      <td>0</td>\n",
              "      <td>0</td>\n",
              "      <td>0</td>\n",
              "      <td>0</td>\n",
              "      <td>0</td>\n",
              "      <td>0</td>\n",
              "      <td>0</td>\n",
              "      <td>0</td>\n",
              "      <td>0</td>\n",
              "      <td>0</td>\n",
              "      <td>...</td>\n",
              "      <td>0</td>\n",
              "      <td>0</td>\n",
              "      <td>0</td>\n",
              "      <td>0</td>\n",
              "      <td>0</td>\n",
              "      <td>0</td>\n",
              "      <td>0</td>\n",
              "      <td>0</td>\n",
              "      <td>0</td>\n",
              "      <td>0</td>\n",
              "      <td>0</td>\n",
              "      <td>0</td>\n",
              "      <td>0</td>\n",
              "      <td>0</td>\n",
              "      <td>0</td>\n",
              "      <td>0</td>\n",
              "      <td>0</td>\n",
              "      <td>0</td>\n",
              "      <td>0</td>\n",
              "      <td>1</td>\n",
              "      <td>0</td>\n",
              "      <td>0</td>\n",
              "      <td>0</td>\n",
              "      <td>0</td>\n",
              "      <td>0</td>\n",
              "      <td>0</td>\n",
              "      <td>0</td>\n",
              "      <td>0</td>\n",
              "      <td>0</td>\n",
              "      <td>0</td>\n",
              "      <td>0</td>\n",
              "      <td>0</td>\n",
              "      <td>0</td>\n",
              "      <td>0</td>\n",
              "      <td>0</td>\n",
              "      <td>0</td>\n",
              "      <td>0</td>\n",
              "      <td>0</td>\n",
              "      <td>0</td>\n",
              "      <td>0</td>\n",
              "    </tr>\n",
              "  </tbody>\n",
              "</table>\n",
              "<p>315 rows × 237 columns</p>\n",
              "</div>"
            ],
            "text/plain": [
              "     0    1    2    3    4    5    6    ...  230  231  232  233  234  235  236\n",
              "0      0    0    0    0    0    0    0  ...    0    0    0    0    0    0    0\n",
              "1      0    0    0    0    0    0    0  ...    0    0    0    0    0    0    0\n",
              "2      0    0    0    0    0    0    0  ...    0    0    0    0    0    0    0\n",
              "3      0    0    0    0    0    0    0  ...    0    0    0    0    0    0    0\n",
              "4      0    0    0    0    0    0    0  ...    0    0    0    1    0    0    0\n",
              "..   ...  ...  ...  ...  ...  ...  ...  ...  ...  ...  ...  ...  ...  ...  ...\n",
              "310    0    0    0    0    0    0    0  ...    0    0    0    0    0    0    0\n",
              "311    0    0    0    0    0    0    0  ...    0    0    0    0    0    0    0\n",
              "312    0    0    0    0    0    0    0  ...    0    0    0    0    0    0    0\n",
              "313    0    0    0    0    0    0    0  ...    0    0    0    0    0    0    0\n",
              "314    0    0    0    0    0    0    0  ...    0    0    0    0    0    0    0\n",
              "\n",
              "[315 rows x 237 columns]"
            ]
          },
          "metadata": {
            "tags": []
          },
          "execution_count": 52
        }
      ]
    },
    {
      "cell_type": "code",
      "metadata": {
        "id": "XLXZEKGvm8Ed",
        "colab_type": "code",
        "colab": {
          "base_uri": "https://localhost:8080/",
          "height": 422
        },
        "outputId": "4f085902-84fc-4248-90b7-6d3dbb00a608"
      },
      "source": [
        "#Term Frequency-Inverse Document Frequency (TF-IDF)\n",
        "from sklearn.feature_extraction.text import TfidfVectorizer\n",
        "\n",
        "tfidf=TfidfVectorizer(max_df=0.90, min_df=2,max_features=1000,stop_words='english')\n",
        "\n",
        "tfidf_matrix=tfidf.fit_transform(df['sentences'])\n",
        "\n",
        "df_tfidf = pd.DataFrame(tfidf_matrix.todense())\n",
        "\n",
        "df_tfidf"
      ],
      "execution_count": 53,
      "outputs": [
        {
          "output_type": "execute_result",
          "data": {
            "text/html": [
              "<div>\n",
              "<style scoped>\n",
              "    .dataframe tbody tr th:only-of-type {\n",
              "        vertical-align: middle;\n",
              "    }\n",
              "\n",
              "    .dataframe tbody tr th {\n",
              "        vertical-align: top;\n",
              "    }\n",
              "\n",
              "    .dataframe thead th {\n",
              "        text-align: right;\n",
              "    }\n",
              "</style>\n",
              "<table border=\"1\" class=\"dataframe\">\n",
              "  <thead>\n",
              "    <tr style=\"text-align: right;\">\n",
              "      <th></th>\n",
              "      <th>0</th>\n",
              "      <th>1</th>\n",
              "      <th>2</th>\n",
              "      <th>3</th>\n",
              "      <th>4</th>\n",
              "      <th>5</th>\n",
              "      <th>6</th>\n",
              "      <th>7</th>\n",
              "      <th>8</th>\n",
              "      <th>9</th>\n",
              "      <th>10</th>\n",
              "      <th>11</th>\n",
              "      <th>12</th>\n",
              "      <th>13</th>\n",
              "      <th>14</th>\n",
              "      <th>15</th>\n",
              "      <th>16</th>\n",
              "      <th>17</th>\n",
              "      <th>18</th>\n",
              "      <th>19</th>\n",
              "      <th>20</th>\n",
              "      <th>21</th>\n",
              "      <th>22</th>\n",
              "      <th>23</th>\n",
              "      <th>24</th>\n",
              "      <th>25</th>\n",
              "      <th>26</th>\n",
              "      <th>27</th>\n",
              "      <th>28</th>\n",
              "      <th>29</th>\n",
              "      <th>30</th>\n",
              "      <th>31</th>\n",
              "      <th>32</th>\n",
              "      <th>33</th>\n",
              "      <th>34</th>\n",
              "      <th>35</th>\n",
              "      <th>36</th>\n",
              "      <th>37</th>\n",
              "      <th>38</th>\n",
              "      <th>39</th>\n",
              "      <th>...</th>\n",
              "      <th>197</th>\n",
              "      <th>198</th>\n",
              "      <th>199</th>\n",
              "      <th>200</th>\n",
              "      <th>201</th>\n",
              "      <th>202</th>\n",
              "      <th>203</th>\n",
              "      <th>204</th>\n",
              "      <th>205</th>\n",
              "      <th>206</th>\n",
              "      <th>207</th>\n",
              "      <th>208</th>\n",
              "      <th>209</th>\n",
              "      <th>210</th>\n",
              "      <th>211</th>\n",
              "      <th>212</th>\n",
              "      <th>213</th>\n",
              "      <th>214</th>\n",
              "      <th>215</th>\n",
              "      <th>216</th>\n",
              "      <th>217</th>\n",
              "      <th>218</th>\n",
              "      <th>219</th>\n",
              "      <th>220</th>\n",
              "      <th>221</th>\n",
              "      <th>222</th>\n",
              "      <th>223</th>\n",
              "      <th>224</th>\n",
              "      <th>225</th>\n",
              "      <th>226</th>\n",
              "      <th>227</th>\n",
              "      <th>228</th>\n",
              "      <th>229</th>\n",
              "      <th>230</th>\n",
              "      <th>231</th>\n",
              "      <th>232</th>\n",
              "      <th>233</th>\n",
              "      <th>234</th>\n",
              "      <th>235</th>\n",
              "      <th>236</th>\n",
              "    </tr>\n",
              "  </thead>\n",
              "  <tbody>\n",
              "    <tr>\n",
              "      <th>0</th>\n",
              "      <td>0.0</td>\n",
              "      <td>0.0</td>\n",
              "      <td>0.0</td>\n",
              "      <td>0.0</td>\n",
              "      <td>0.0</td>\n",
              "      <td>0.0</td>\n",
              "      <td>0.0</td>\n",
              "      <td>0.0</td>\n",
              "      <td>0.0</td>\n",
              "      <td>0.0</td>\n",
              "      <td>0.0</td>\n",
              "      <td>0.0</td>\n",
              "      <td>0.0</td>\n",
              "      <td>0.0</td>\n",
              "      <td>0.0</td>\n",
              "      <td>0.0</td>\n",
              "      <td>0.0</td>\n",
              "      <td>0.0</td>\n",
              "      <td>0.0</td>\n",
              "      <td>0.0</td>\n",
              "      <td>0.0</td>\n",
              "      <td>0.0</td>\n",
              "      <td>0.0</td>\n",
              "      <td>0.0</td>\n",
              "      <td>0.000000</td>\n",
              "      <td>0.0</td>\n",
              "      <td>0.0</td>\n",
              "      <td>0.0</td>\n",
              "      <td>0.0</td>\n",
              "      <td>0.0</td>\n",
              "      <td>0.0</td>\n",
              "      <td>0.0</td>\n",
              "      <td>0.0</td>\n",
              "      <td>0.0</td>\n",
              "      <td>0.000000</td>\n",
              "      <td>0.0</td>\n",
              "      <td>0.0</td>\n",
              "      <td>0.0</td>\n",
              "      <td>0.0</td>\n",
              "      <td>0.0</td>\n",
              "      <td>...</td>\n",
              "      <td>0.0</td>\n",
              "      <td>0.0</td>\n",
              "      <td>0.0</td>\n",
              "      <td>0.0</td>\n",
              "      <td>0.000000</td>\n",
              "      <td>0.0</td>\n",
              "      <td>0.0</td>\n",
              "      <td>0.0</td>\n",
              "      <td>0.0</td>\n",
              "      <td>0.0</td>\n",
              "      <td>0.0</td>\n",
              "      <td>0.0</td>\n",
              "      <td>0.0</td>\n",
              "      <td>0.0</td>\n",
              "      <td>0.0</td>\n",
              "      <td>0.0</td>\n",
              "      <td>0.0</td>\n",
              "      <td>0.0</td>\n",
              "      <td>0.000000</td>\n",
              "      <td>0.000000</td>\n",
              "      <td>0.0</td>\n",
              "      <td>0.0</td>\n",
              "      <td>0.000000</td>\n",
              "      <td>0.000000</td>\n",
              "      <td>0.0</td>\n",
              "      <td>0.0</td>\n",
              "      <td>0.0</td>\n",
              "      <td>0.0</td>\n",
              "      <td>0.0</td>\n",
              "      <td>0.0</td>\n",
              "      <td>0.0</td>\n",
              "      <td>0.0</td>\n",
              "      <td>0.0</td>\n",
              "      <td>0.0</td>\n",
              "      <td>0.0</td>\n",
              "      <td>0.0</td>\n",
              "      <td>0.000000</td>\n",
              "      <td>0.0</td>\n",
              "      <td>0.0</td>\n",
              "      <td>0.0</td>\n",
              "    </tr>\n",
              "    <tr>\n",
              "      <th>1</th>\n",
              "      <td>0.0</td>\n",
              "      <td>0.0</td>\n",
              "      <td>0.0</td>\n",
              "      <td>0.0</td>\n",
              "      <td>0.0</td>\n",
              "      <td>0.0</td>\n",
              "      <td>0.0</td>\n",
              "      <td>0.0</td>\n",
              "      <td>0.0</td>\n",
              "      <td>0.0</td>\n",
              "      <td>0.0</td>\n",
              "      <td>0.0</td>\n",
              "      <td>0.0</td>\n",
              "      <td>0.0</td>\n",
              "      <td>0.0</td>\n",
              "      <td>0.0</td>\n",
              "      <td>0.0</td>\n",
              "      <td>0.0</td>\n",
              "      <td>0.0</td>\n",
              "      <td>0.0</td>\n",
              "      <td>0.0</td>\n",
              "      <td>0.0</td>\n",
              "      <td>0.0</td>\n",
              "      <td>0.0</td>\n",
              "      <td>0.316126</td>\n",
              "      <td>0.0</td>\n",
              "      <td>0.0</td>\n",
              "      <td>0.0</td>\n",
              "      <td>0.0</td>\n",
              "      <td>0.0</td>\n",
              "      <td>0.0</td>\n",
              "      <td>0.0</td>\n",
              "      <td>0.0</td>\n",
              "      <td>0.0</td>\n",
              "      <td>0.000000</td>\n",
              "      <td>0.0</td>\n",
              "      <td>0.0</td>\n",
              "      <td>0.0</td>\n",
              "      <td>0.0</td>\n",
              "      <td>0.0</td>\n",
              "      <td>...</td>\n",
              "      <td>0.0</td>\n",
              "      <td>0.0</td>\n",
              "      <td>0.0</td>\n",
              "      <td>0.0</td>\n",
              "      <td>0.000000</td>\n",
              "      <td>0.0</td>\n",
              "      <td>0.0</td>\n",
              "      <td>0.0</td>\n",
              "      <td>0.0</td>\n",
              "      <td>0.0</td>\n",
              "      <td>0.0</td>\n",
              "      <td>0.0</td>\n",
              "      <td>0.0</td>\n",
              "      <td>0.0</td>\n",
              "      <td>0.0</td>\n",
              "      <td>0.0</td>\n",
              "      <td>0.0</td>\n",
              "      <td>0.0</td>\n",
              "      <td>0.000000</td>\n",
              "      <td>0.000000</td>\n",
              "      <td>0.0</td>\n",
              "      <td>0.0</td>\n",
              "      <td>0.402487</td>\n",
              "      <td>0.000000</td>\n",
              "      <td>0.0</td>\n",
              "      <td>0.0</td>\n",
              "      <td>0.0</td>\n",
              "      <td>0.0</td>\n",
              "      <td>0.0</td>\n",
              "      <td>0.0</td>\n",
              "      <td>0.0</td>\n",
              "      <td>0.0</td>\n",
              "      <td>0.0</td>\n",
              "      <td>0.0</td>\n",
              "      <td>0.0</td>\n",
              "      <td>0.0</td>\n",
              "      <td>0.000000</td>\n",
              "      <td>0.0</td>\n",
              "      <td>0.0</td>\n",
              "      <td>0.0</td>\n",
              "    </tr>\n",
              "    <tr>\n",
              "      <th>2</th>\n",
              "      <td>0.0</td>\n",
              "      <td>0.0</td>\n",
              "      <td>0.0</td>\n",
              "      <td>0.0</td>\n",
              "      <td>0.0</td>\n",
              "      <td>0.0</td>\n",
              "      <td>0.0</td>\n",
              "      <td>0.0</td>\n",
              "      <td>0.0</td>\n",
              "      <td>0.0</td>\n",
              "      <td>0.0</td>\n",
              "      <td>0.0</td>\n",
              "      <td>0.0</td>\n",
              "      <td>0.0</td>\n",
              "      <td>0.0</td>\n",
              "      <td>0.0</td>\n",
              "      <td>0.0</td>\n",
              "      <td>0.0</td>\n",
              "      <td>0.0</td>\n",
              "      <td>0.0</td>\n",
              "      <td>0.0</td>\n",
              "      <td>0.0</td>\n",
              "      <td>0.0</td>\n",
              "      <td>0.0</td>\n",
              "      <td>0.000000</td>\n",
              "      <td>0.0</td>\n",
              "      <td>0.0</td>\n",
              "      <td>0.0</td>\n",
              "      <td>0.0</td>\n",
              "      <td>0.0</td>\n",
              "      <td>0.0</td>\n",
              "      <td>0.0</td>\n",
              "      <td>0.0</td>\n",
              "      <td>0.0</td>\n",
              "      <td>0.000000</td>\n",
              "      <td>0.0</td>\n",
              "      <td>0.0</td>\n",
              "      <td>0.0</td>\n",
              "      <td>0.0</td>\n",
              "      <td>0.0</td>\n",
              "      <td>...</td>\n",
              "      <td>0.0</td>\n",
              "      <td>0.0</td>\n",
              "      <td>0.0</td>\n",
              "      <td>0.0</td>\n",
              "      <td>0.678839</td>\n",
              "      <td>0.0</td>\n",
              "      <td>0.0</td>\n",
              "      <td>0.0</td>\n",
              "      <td>0.0</td>\n",
              "      <td>0.0</td>\n",
              "      <td>0.0</td>\n",
              "      <td>0.0</td>\n",
              "      <td>0.0</td>\n",
              "      <td>0.0</td>\n",
              "      <td>0.0</td>\n",
              "      <td>0.0</td>\n",
              "      <td>0.0</td>\n",
              "      <td>0.0</td>\n",
              "      <td>0.000000</td>\n",
              "      <td>0.000000</td>\n",
              "      <td>0.0</td>\n",
              "      <td>0.0</td>\n",
              "      <td>0.000000</td>\n",
              "      <td>0.000000</td>\n",
              "      <td>0.0</td>\n",
              "      <td>0.0</td>\n",
              "      <td>0.0</td>\n",
              "      <td>0.0</td>\n",
              "      <td>0.0</td>\n",
              "      <td>0.0</td>\n",
              "      <td>0.0</td>\n",
              "      <td>0.0</td>\n",
              "      <td>0.0</td>\n",
              "      <td>0.0</td>\n",
              "      <td>0.0</td>\n",
              "      <td>0.0</td>\n",
              "      <td>0.000000</td>\n",
              "      <td>0.0</td>\n",
              "      <td>0.0</td>\n",
              "      <td>0.0</td>\n",
              "    </tr>\n",
              "    <tr>\n",
              "      <th>3</th>\n",
              "      <td>0.0</td>\n",
              "      <td>0.0</td>\n",
              "      <td>0.0</td>\n",
              "      <td>0.0</td>\n",
              "      <td>0.0</td>\n",
              "      <td>0.0</td>\n",
              "      <td>0.0</td>\n",
              "      <td>0.0</td>\n",
              "      <td>0.0</td>\n",
              "      <td>0.0</td>\n",
              "      <td>0.0</td>\n",
              "      <td>0.0</td>\n",
              "      <td>0.0</td>\n",
              "      <td>0.0</td>\n",
              "      <td>0.0</td>\n",
              "      <td>0.0</td>\n",
              "      <td>0.0</td>\n",
              "      <td>0.0</td>\n",
              "      <td>0.0</td>\n",
              "      <td>0.0</td>\n",
              "      <td>0.0</td>\n",
              "      <td>0.0</td>\n",
              "      <td>0.0</td>\n",
              "      <td>0.0</td>\n",
              "      <td>0.000000</td>\n",
              "      <td>0.0</td>\n",
              "      <td>0.0</td>\n",
              "      <td>0.0</td>\n",
              "      <td>0.0</td>\n",
              "      <td>0.0</td>\n",
              "      <td>0.0</td>\n",
              "      <td>0.0</td>\n",
              "      <td>0.0</td>\n",
              "      <td>0.0</td>\n",
              "      <td>0.484593</td>\n",
              "      <td>0.0</td>\n",
              "      <td>0.0</td>\n",
              "      <td>0.0</td>\n",
              "      <td>0.0</td>\n",
              "      <td>0.0</td>\n",
              "      <td>...</td>\n",
              "      <td>0.0</td>\n",
              "      <td>0.0</td>\n",
              "      <td>0.0</td>\n",
              "      <td>0.0</td>\n",
              "      <td>0.000000</td>\n",
              "      <td>0.0</td>\n",
              "      <td>0.0</td>\n",
              "      <td>0.0</td>\n",
              "      <td>0.0</td>\n",
              "      <td>0.0</td>\n",
              "      <td>0.0</td>\n",
              "      <td>0.0</td>\n",
              "      <td>0.0</td>\n",
              "      <td>0.0</td>\n",
              "      <td>0.0</td>\n",
              "      <td>0.0</td>\n",
              "      <td>0.0</td>\n",
              "      <td>0.0</td>\n",
              "      <td>0.000000</td>\n",
              "      <td>0.000000</td>\n",
              "      <td>0.0</td>\n",
              "      <td>0.0</td>\n",
              "      <td>0.000000</td>\n",
              "      <td>0.000000</td>\n",
              "      <td>0.0</td>\n",
              "      <td>0.0</td>\n",
              "      <td>0.0</td>\n",
              "      <td>0.0</td>\n",
              "      <td>0.0</td>\n",
              "      <td>0.0</td>\n",
              "      <td>0.0</td>\n",
              "      <td>0.0</td>\n",
              "      <td>0.0</td>\n",
              "      <td>0.0</td>\n",
              "      <td>0.0</td>\n",
              "      <td>0.0</td>\n",
              "      <td>0.000000</td>\n",
              "      <td>0.0</td>\n",
              "      <td>0.0</td>\n",
              "      <td>0.0</td>\n",
              "    </tr>\n",
              "    <tr>\n",
              "      <th>4</th>\n",
              "      <td>0.0</td>\n",
              "      <td>0.0</td>\n",
              "      <td>0.0</td>\n",
              "      <td>0.0</td>\n",
              "      <td>0.0</td>\n",
              "      <td>0.0</td>\n",
              "      <td>0.0</td>\n",
              "      <td>0.0</td>\n",
              "      <td>0.0</td>\n",
              "      <td>0.0</td>\n",
              "      <td>0.0</td>\n",
              "      <td>0.0</td>\n",
              "      <td>0.0</td>\n",
              "      <td>0.0</td>\n",
              "      <td>0.0</td>\n",
              "      <td>0.0</td>\n",
              "      <td>0.0</td>\n",
              "      <td>0.0</td>\n",
              "      <td>0.0</td>\n",
              "      <td>0.0</td>\n",
              "      <td>0.0</td>\n",
              "      <td>0.0</td>\n",
              "      <td>0.0</td>\n",
              "      <td>0.0</td>\n",
              "      <td>0.000000</td>\n",
              "      <td>0.0</td>\n",
              "      <td>0.0</td>\n",
              "      <td>0.0</td>\n",
              "      <td>0.0</td>\n",
              "      <td>0.0</td>\n",
              "      <td>0.0</td>\n",
              "      <td>0.0</td>\n",
              "      <td>0.0</td>\n",
              "      <td>0.0</td>\n",
              "      <td>0.000000</td>\n",
              "      <td>0.0</td>\n",
              "      <td>0.0</td>\n",
              "      <td>0.0</td>\n",
              "      <td>0.0</td>\n",
              "      <td>0.0</td>\n",
              "      <td>...</td>\n",
              "      <td>0.0</td>\n",
              "      <td>0.0</td>\n",
              "      <td>0.0</td>\n",
              "      <td>0.0</td>\n",
              "      <td>0.000000</td>\n",
              "      <td>0.0</td>\n",
              "      <td>0.0</td>\n",
              "      <td>0.0</td>\n",
              "      <td>0.0</td>\n",
              "      <td>0.0</td>\n",
              "      <td>0.0</td>\n",
              "      <td>0.0</td>\n",
              "      <td>0.0</td>\n",
              "      <td>0.0</td>\n",
              "      <td>0.0</td>\n",
              "      <td>0.0</td>\n",
              "      <td>0.0</td>\n",
              "      <td>0.0</td>\n",
              "      <td>0.000000</td>\n",
              "      <td>0.000000</td>\n",
              "      <td>0.0</td>\n",
              "      <td>0.0</td>\n",
              "      <td>0.000000</td>\n",
              "      <td>0.000000</td>\n",
              "      <td>0.0</td>\n",
              "      <td>0.0</td>\n",
              "      <td>0.0</td>\n",
              "      <td>0.0</td>\n",
              "      <td>0.0</td>\n",
              "      <td>0.0</td>\n",
              "      <td>0.0</td>\n",
              "      <td>0.0</td>\n",
              "      <td>0.0</td>\n",
              "      <td>0.0</td>\n",
              "      <td>0.0</td>\n",
              "      <td>0.0</td>\n",
              "      <td>0.335925</td>\n",
              "      <td>0.0</td>\n",
              "      <td>0.0</td>\n",
              "      <td>0.0</td>\n",
              "    </tr>\n",
              "    <tr>\n",
              "      <th>...</th>\n",
              "      <td>...</td>\n",
              "      <td>...</td>\n",
              "      <td>...</td>\n",
              "      <td>...</td>\n",
              "      <td>...</td>\n",
              "      <td>...</td>\n",
              "      <td>...</td>\n",
              "      <td>...</td>\n",
              "      <td>...</td>\n",
              "      <td>...</td>\n",
              "      <td>...</td>\n",
              "      <td>...</td>\n",
              "      <td>...</td>\n",
              "      <td>...</td>\n",
              "      <td>...</td>\n",
              "      <td>...</td>\n",
              "      <td>...</td>\n",
              "      <td>...</td>\n",
              "      <td>...</td>\n",
              "      <td>...</td>\n",
              "      <td>...</td>\n",
              "      <td>...</td>\n",
              "      <td>...</td>\n",
              "      <td>...</td>\n",
              "      <td>...</td>\n",
              "      <td>...</td>\n",
              "      <td>...</td>\n",
              "      <td>...</td>\n",
              "      <td>...</td>\n",
              "      <td>...</td>\n",
              "      <td>...</td>\n",
              "      <td>...</td>\n",
              "      <td>...</td>\n",
              "      <td>...</td>\n",
              "      <td>...</td>\n",
              "      <td>...</td>\n",
              "      <td>...</td>\n",
              "      <td>...</td>\n",
              "      <td>...</td>\n",
              "      <td>...</td>\n",
              "      <td>...</td>\n",
              "      <td>...</td>\n",
              "      <td>...</td>\n",
              "      <td>...</td>\n",
              "      <td>...</td>\n",
              "      <td>...</td>\n",
              "      <td>...</td>\n",
              "      <td>...</td>\n",
              "      <td>...</td>\n",
              "      <td>...</td>\n",
              "      <td>...</td>\n",
              "      <td>...</td>\n",
              "      <td>...</td>\n",
              "      <td>...</td>\n",
              "      <td>...</td>\n",
              "      <td>...</td>\n",
              "      <td>...</td>\n",
              "      <td>...</td>\n",
              "      <td>...</td>\n",
              "      <td>...</td>\n",
              "      <td>...</td>\n",
              "      <td>...</td>\n",
              "      <td>...</td>\n",
              "      <td>...</td>\n",
              "      <td>...</td>\n",
              "      <td>...</td>\n",
              "      <td>...</td>\n",
              "      <td>...</td>\n",
              "      <td>...</td>\n",
              "      <td>...</td>\n",
              "      <td>...</td>\n",
              "      <td>...</td>\n",
              "      <td>...</td>\n",
              "      <td>...</td>\n",
              "      <td>...</td>\n",
              "      <td>...</td>\n",
              "      <td>...</td>\n",
              "      <td>...</td>\n",
              "      <td>...</td>\n",
              "      <td>...</td>\n",
              "      <td>...</td>\n",
              "    </tr>\n",
              "    <tr>\n",
              "      <th>310</th>\n",
              "      <td>0.0</td>\n",
              "      <td>0.0</td>\n",
              "      <td>0.0</td>\n",
              "      <td>0.0</td>\n",
              "      <td>0.0</td>\n",
              "      <td>0.0</td>\n",
              "      <td>0.0</td>\n",
              "      <td>0.0</td>\n",
              "      <td>0.0</td>\n",
              "      <td>0.0</td>\n",
              "      <td>0.0</td>\n",
              "      <td>0.0</td>\n",
              "      <td>0.0</td>\n",
              "      <td>0.0</td>\n",
              "      <td>0.0</td>\n",
              "      <td>0.0</td>\n",
              "      <td>0.0</td>\n",
              "      <td>0.0</td>\n",
              "      <td>0.0</td>\n",
              "      <td>0.0</td>\n",
              "      <td>0.0</td>\n",
              "      <td>0.0</td>\n",
              "      <td>0.0</td>\n",
              "      <td>0.0</td>\n",
              "      <td>0.000000</td>\n",
              "      <td>0.0</td>\n",
              "      <td>0.0</td>\n",
              "      <td>0.0</td>\n",
              "      <td>0.0</td>\n",
              "      <td>0.0</td>\n",
              "      <td>0.0</td>\n",
              "      <td>0.0</td>\n",
              "      <td>0.0</td>\n",
              "      <td>0.0</td>\n",
              "      <td>0.000000</td>\n",
              "      <td>0.0</td>\n",
              "      <td>0.0</td>\n",
              "      <td>0.0</td>\n",
              "      <td>0.0</td>\n",
              "      <td>0.0</td>\n",
              "      <td>...</td>\n",
              "      <td>0.0</td>\n",
              "      <td>0.0</td>\n",
              "      <td>0.0</td>\n",
              "      <td>0.0</td>\n",
              "      <td>0.000000</td>\n",
              "      <td>0.0</td>\n",
              "      <td>0.0</td>\n",
              "      <td>0.0</td>\n",
              "      <td>0.0</td>\n",
              "      <td>0.0</td>\n",
              "      <td>0.0</td>\n",
              "      <td>0.0</td>\n",
              "      <td>0.0</td>\n",
              "      <td>0.0</td>\n",
              "      <td>0.0</td>\n",
              "      <td>0.0</td>\n",
              "      <td>0.0</td>\n",
              "      <td>0.0</td>\n",
              "      <td>0.570952</td>\n",
              "      <td>0.000000</td>\n",
              "      <td>0.0</td>\n",
              "      <td>0.0</td>\n",
              "      <td>0.000000</td>\n",
              "      <td>0.000000</td>\n",
              "      <td>0.0</td>\n",
              "      <td>0.0</td>\n",
              "      <td>0.0</td>\n",
              "      <td>0.0</td>\n",
              "      <td>0.0</td>\n",
              "      <td>0.0</td>\n",
              "      <td>0.0</td>\n",
              "      <td>0.0</td>\n",
              "      <td>0.0</td>\n",
              "      <td>0.0</td>\n",
              "      <td>0.0</td>\n",
              "      <td>0.0</td>\n",
              "      <td>0.000000</td>\n",
              "      <td>0.0</td>\n",
              "      <td>0.0</td>\n",
              "      <td>0.0</td>\n",
              "    </tr>\n",
              "    <tr>\n",
              "      <th>311</th>\n",
              "      <td>0.0</td>\n",
              "      <td>0.0</td>\n",
              "      <td>0.0</td>\n",
              "      <td>0.0</td>\n",
              "      <td>0.0</td>\n",
              "      <td>0.0</td>\n",
              "      <td>0.0</td>\n",
              "      <td>0.0</td>\n",
              "      <td>0.0</td>\n",
              "      <td>0.0</td>\n",
              "      <td>0.0</td>\n",
              "      <td>0.0</td>\n",
              "      <td>0.0</td>\n",
              "      <td>0.0</td>\n",
              "      <td>0.0</td>\n",
              "      <td>0.0</td>\n",
              "      <td>0.0</td>\n",
              "      <td>0.0</td>\n",
              "      <td>0.0</td>\n",
              "      <td>0.0</td>\n",
              "      <td>0.0</td>\n",
              "      <td>0.0</td>\n",
              "      <td>0.0</td>\n",
              "      <td>0.0</td>\n",
              "      <td>0.000000</td>\n",
              "      <td>0.0</td>\n",
              "      <td>0.0</td>\n",
              "      <td>0.0</td>\n",
              "      <td>0.0</td>\n",
              "      <td>0.0</td>\n",
              "      <td>0.0</td>\n",
              "      <td>0.0</td>\n",
              "      <td>0.0</td>\n",
              "      <td>0.0</td>\n",
              "      <td>0.000000</td>\n",
              "      <td>0.0</td>\n",
              "      <td>0.0</td>\n",
              "      <td>0.0</td>\n",
              "      <td>0.0</td>\n",
              "      <td>0.0</td>\n",
              "      <td>...</td>\n",
              "      <td>0.0</td>\n",
              "      <td>0.0</td>\n",
              "      <td>0.0</td>\n",
              "      <td>0.0</td>\n",
              "      <td>0.000000</td>\n",
              "      <td>0.0</td>\n",
              "      <td>0.0</td>\n",
              "      <td>0.0</td>\n",
              "      <td>0.0</td>\n",
              "      <td>0.0</td>\n",
              "      <td>0.0</td>\n",
              "      <td>0.0</td>\n",
              "      <td>0.0</td>\n",
              "      <td>0.0</td>\n",
              "      <td>0.0</td>\n",
              "      <td>0.0</td>\n",
              "      <td>0.0</td>\n",
              "      <td>0.0</td>\n",
              "      <td>0.000000</td>\n",
              "      <td>0.000000</td>\n",
              "      <td>0.0</td>\n",
              "      <td>0.0</td>\n",
              "      <td>0.000000</td>\n",
              "      <td>0.000000</td>\n",
              "      <td>0.0</td>\n",
              "      <td>0.0</td>\n",
              "      <td>0.0</td>\n",
              "      <td>0.0</td>\n",
              "      <td>0.0</td>\n",
              "      <td>0.0</td>\n",
              "      <td>0.0</td>\n",
              "      <td>0.0</td>\n",
              "      <td>0.0</td>\n",
              "      <td>0.0</td>\n",
              "      <td>0.0</td>\n",
              "      <td>0.0</td>\n",
              "      <td>0.000000</td>\n",
              "      <td>0.0</td>\n",
              "      <td>0.0</td>\n",
              "      <td>0.0</td>\n",
              "    </tr>\n",
              "    <tr>\n",
              "      <th>312</th>\n",
              "      <td>0.0</td>\n",
              "      <td>0.0</td>\n",
              "      <td>0.0</td>\n",
              "      <td>0.0</td>\n",
              "      <td>0.0</td>\n",
              "      <td>0.0</td>\n",
              "      <td>0.0</td>\n",
              "      <td>0.0</td>\n",
              "      <td>0.0</td>\n",
              "      <td>0.0</td>\n",
              "      <td>0.0</td>\n",
              "      <td>0.0</td>\n",
              "      <td>0.0</td>\n",
              "      <td>0.0</td>\n",
              "      <td>0.0</td>\n",
              "      <td>0.0</td>\n",
              "      <td>0.0</td>\n",
              "      <td>0.0</td>\n",
              "      <td>0.0</td>\n",
              "      <td>0.0</td>\n",
              "      <td>0.0</td>\n",
              "      <td>0.0</td>\n",
              "      <td>0.0</td>\n",
              "      <td>0.0</td>\n",
              "      <td>0.000000</td>\n",
              "      <td>0.0</td>\n",
              "      <td>0.0</td>\n",
              "      <td>0.0</td>\n",
              "      <td>0.0</td>\n",
              "      <td>0.0</td>\n",
              "      <td>0.0</td>\n",
              "      <td>0.0</td>\n",
              "      <td>0.0</td>\n",
              "      <td>0.0</td>\n",
              "      <td>0.000000</td>\n",
              "      <td>0.0</td>\n",
              "      <td>0.0</td>\n",
              "      <td>0.0</td>\n",
              "      <td>0.0</td>\n",
              "      <td>0.0</td>\n",
              "      <td>...</td>\n",
              "      <td>0.0</td>\n",
              "      <td>0.0</td>\n",
              "      <td>0.0</td>\n",
              "      <td>0.0</td>\n",
              "      <td>0.000000</td>\n",
              "      <td>0.0</td>\n",
              "      <td>0.0</td>\n",
              "      <td>0.0</td>\n",
              "      <td>0.0</td>\n",
              "      <td>0.0</td>\n",
              "      <td>0.0</td>\n",
              "      <td>0.0</td>\n",
              "      <td>0.0</td>\n",
              "      <td>0.0</td>\n",
              "      <td>0.0</td>\n",
              "      <td>0.0</td>\n",
              "      <td>0.0</td>\n",
              "      <td>0.0</td>\n",
              "      <td>0.000000</td>\n",
              "      <td>0.000000</td>\n",
              "      <td>0.0</td>\n",
              "      <td>0.0</td>\n",
              "      <td>0.000000</td>\n",
              "      <td>0.532169</td>\n",
              "      <td>0.0</td>\n",
              "      <td>0.0</td>\n",
              "      <td>0.0</td>\n",
              "      <td>0.0</td>\n",
              "      <td>0.0</td>\n",
              "      <td>0.0</td>\n",
              "      <td>0.0</td>\n",
              "      <td>0.0</td>\n",
              "      <td>0.0</td>\n",
              "      <td>0.0</td>\n",
              "      <td>0.0</td>\n",
              "      <td>0.0</td>\n",
              "      <td>0.000000</td>\n",
              "      <td>0.0</td>\n",
              "      <td>0.0</td>\n",
              "      <td>0.0</td>\n",
              "    </tr>\n",
              "    <tr>\n",
              "      <th>313</th>\n",
              "      <td>0.0</td>\n",
              "      <td>0.0</td>\n",
              "      <td>0.0</td>\n",
              "      <td>0.0</td>\n",
              "      <td>0.0</td>\n",
              "      <td>0.0</td>\n",
              "      <td>0.0</td>\n",
              "      <td>0.0</td>\n",
              "      <td>0.0</td>\n",
              "      <td>0.0</td>\n",
              "      <td>0.0</td>\n",
              "      <td>0.0</td>\n",
              "      <td>0.0</td>\n",
              "      <td>0.0</td>\n",
              "      <td>0.0</td>\n",
              "      <td>0.0</td>\n",
              "      <td>0.0</td>\n",
              "      <td>0.0</td>\n",
              "      <td>0.0</td>\n",
              "      <td>0.0</td>\n",
              "      <td>0.0</td>\n",
              "      <td>0.0</td>\n",
              "      <td>0.0</td>\n",
              "      <td>0.0</td>\n",
              "      <td>0.545573</td>\n",
              "      <td>0.0</td>\n",
              "      <td>0.0</td>\n",
              "      <td>0.0</td>\n",
              "      <td>0.0</td>\n",
              "      <td>0.0</td>\n",
              "      <td>0.0</td>\n",
              "      <td>0.0</td>\n",
              "      <td>0.0</td>\n",
              "      <td>0.0</td>\n",
              "      <td>0.000000</td>\n",
              "      <td>0.0</td>\n",
              "      <td>0.0</td>\n",
              "      <td>0.0</td>\n",
              "      <td>0.0</td>\n",
              "      <td>0.0</td>\n",
              "      <td>...</td>\n",
              "      <td>0.0</td>\n",
              "      <td>0.0</td>\n",
              "      <td>0.0</td>\n",
              "      <td>0.0</td>\n",
              "      <td>0.000000</td>\n",
              "      <td>0.0</td>\n",
              "      <td>0.0</td>\n",
              "      <td>0.0</td>\n",
              "      <td>0.0</td>\n",
              "      <td>0.0</td>\n",
              "      <td>0.0</td>\n",
              "      <td>0.0</td>\n",
              "      <td>0.0</td>\n",
              "      <td>0.0</td>\n",
              "      <td>0.0</td>\n",
              "      <td>0.0</td>\n",
              "      <td>0.0</td>\n",
              "      <td>0.0</td>\n",
              "      <td>0.000000</td>\n",
              "      <td>0.000000</td>\n",
              "      <td>0.0</td>\n",
              "      <td>0.0</td>\n",
              "      <td>0.000000</td>\n",
              "      <td>0.000000</td>\n",
              "      <td>0.0</td>\n",
              "      <td>0.0</td>\n",
              "      <td>0.0</td>\n",
              "      <td>0.0</td>\n",
              "      <td>0.0</td>\n",
              "      <td>0.0</td>\n",
              "      <td>0.0</td>\n",
              "      <td>0.0</td>\n",
              "      <td>0.0</td>\n",
              "      <td>0.0</td>\n",
              "      <td>0.0</td>\n",
              "      <td>0.0</td>\n",
              "      <td>0.000000</td>\n",
              "      <td>0.0</td>\n",
              "      <td>0.0</td>\n",
              "      <td>0.0</td>\n",
              "    </tr>\n",
              "    <tr>\n",
              "      <th>314</th>\n",
              "      <td>0.0</td>\n",
              "      <td>0.0</td>\n",
              "      <td>0.0</td>\n",
              "      <td>0.0</td>\n",
              "      <td>0.0</td>\n",
              "      <td>0.0</td>\n",
              "      <td>0.0</td>\n",
              "      <td>0.0</td>\n",
              "      <td>0.0</td>\n",
              "      <td>0.0</td>\n",
              "      <td>0.0</td>\n",
              "      <td>0.0</td>\n",
              "      <td>0.0</td>\n",
              "      <td>0.0</td>\n",
              "      <td>0.0</td>\n",
              "      <td>0.0</td>\n",
              "      <td>0.0</td>\n",
              "      <td>0.0</td>\n",
              "      <td>0.0</td>\n",
              "      <td>0.0</td>\n",
              "      <td>0.0</td>\n",
              "      <td>0.0</td>\n",
              "      <td>0.0</td>\n",
              "      <td>0.0</td>\n",
              "      <td>0.000000</td>\n",
              "      <td>0.0</td>\n",
              "      <td>0.0</td>\n",
              "      <td>0.0</td>\n",
              "      <td>0.0</td>\n",
              "      <td>0.0</td>\n",
              "      <td>0.0</td>\n",
              "      <td>0.0</td>\n",
              "      <td>0.0</td>\n",
              "      <td>0.0</td>\n",
              "      <td>0.000000</td>\n",
              "      <td>0.0</td>\n",
              "      <td>0.0</td>\n",
              "      <td>0.0</td>\n",
              "      <td>0.0</td>\n",
              "      <td>0.0</td>\n",
              "      <td>...</td>\n",
              "      <td>0.0</td>\n",
              "      <td>0.0</td>\n",
              "      <td>0.0</td>\n",
              "      <td>0.0</td>\n",
              "      <td>0.000000</td>\n",
              "      <td>0.0</td>\n",
              "      <td>0.0</td>\n",
              "      <td>0.0</td>\n",
              "      <td>0.0</td>\n",
              "      <td>0.0</td>\n",
              "      <td>0.0</td>\n",
              "      <td>0.0</td>\n",
              "      <td>0.0</td>\n",
              "      <td>0.0</td>\n",
              "      <td>0.0</td>\n",
              "      <td>0.0</td>\n",
              "      <td>0.0</td>\n",
              "      <td>0.0</td>\n",
              "      <td>0.000000</td>\n",
              "      <td>0.779875</td>\n",
              "      <td>0.0</td>\n",
              "      <td>0.0</td>\n",
              "      <td>0.000000</td>\n",
              "      <td>0.000000</td>\n",
              "      <td>0.0</td>\n",
              "      <td>0.0</td>\n",
              "      <td>0.0</td>\n",
              "      <td>0.0</td>\n",
              "      <td>0.0</td>\n",
              "      <td>0.0</td>\n",
              "      <td>0.0</td>\n",
              "      <td>0.0</td>\n",
              "      <td>0.0</td>\n",
              "      <td>0.0</td>\n",
              "      <td>0.0</td>\n",
              "      <td>0.0</td>\n",
              "      <td>0.000000</td>\n",
              "      <td>0.0</td>\n",
              "      <td>0.0</td>\n",
              "      <td>0.0</td>\n",
              "    </tr>\n",
              "  </tbody>\n",
              "</table>\n",
              "<p>315 rows × 237 columns</p>\n",
              "</div>"
            ],
            "text/plain": [
              "     0    1    2    3    4    5    6    ...  230  231  232       233  234  235  236\n",
              "0    0.0  0.0  0.0  0.0  0.0  0.0  0.0  ...  0.0  0.0  0.0  0.000000  0.0  0.0  0.0\n",
              "1    0.0  0.0  0.0  0.0  0.0  0.0  0.0  ...  0.0  0.0  0.0  0.000000  0.0  0.0  0.0\n",
              "2    0.0  0.0  0.0  0.0  0.0  0.0  0.0  ...  0.0  0.0  0.0  0.000000  0.0  0.0  0.0\n",
              "3    0.0  0.0  0.0  0.0  0.0  0.0  0.0  ...  0.0  0.0  0.0  0.000000  0.0  0.0  0.0\n",
              "4    0.0  0.0  0.0  0.0  0.0  0.0  0.0  ...  0.0  0.0  0.0  0.335925  0.0  0.0  0.0\n",
              "..   ...  ...  ...  ...  ...  ...  ...  ...  ...  ...  ...       ...  ...  ...  ...\n",
              "310  0.0  0.0  0.0  0.0  0.0  0.0  0.0  ...  0.0  0.0  0.0  0.000000  0.0  0.0  0.0\n",
              "311  0.0  0.0  0.0  0.0  0.0  0.0  0.0  ...  0.0  0.0  0.0  0.000000  0.0  0.0  0.0\n",
              "312  0.0  0.0  0.0  0.0  0.0  0.0  0.0  ...  0.0  0.0  0.0  0.000000  0.0  0.0  0.0\n",
              "313  0.0  0.0  0.0  0.0  0.0  0.0  0.0  ...  0.0  0.0  0.0  0.000000  0.0  0.0  0.0\n",
              "314  0.0  0.0  0.0  0.0  0.0  0.0  0.0  ...  0.0  0.0  0.0  0.000000  0.0  0.0  0.0\n",
              "\n",
              "[315 rows x 237 columns]"
            ]
          },
          "metadata": {
            "tags": []
          },
          "execution_count": 53
        }
      ]
    },
    {
      "cell_type": "markdown",
      "metadata": {
        "id": "G7HBxE1rnA1d",
        "colab_type": "text"
      },
      "source": [
        "#Splitting our dataset into Training and Validation Set"
      ]
    },
    {
      "cell_type": "code",
      "metadata": {
        "id": "-oM8qRlIm-DL",
        "colab_type": "code",
        "colab": {
          "base_uri": "https://localhost:8080/",
          "height": 134
        },
        "outputId": "ca2ca12b-7b13-446f-fc9f-3dfb9884a89f"
      },
      "source": [
        "train_bow = bow[:31962]\n",
        "train_bow.todense()"
      ],
      "execution_count": 54,
      "outputs": [
        {
          "output_type": "execute_result",
          "data": {
            "text/plain": [
              "matrix([[0, 0, 0, ..., 0, 0, 0],\n",
              "        [0, 0, 0, ..., 0, 0, 0],\n",
              "        [0, 0, 0, ..., 0, 0, 0],\n",
              "        ...,\n",
              "        [0, 0, 0, ..., 0, 0, 0],\n",
              "        [0, 0, 0, ..., 0, 0, 0],\n",
              "        [0, 0, 0, ..., 0, 0, 0]])"
            ]
          },
          "metadata": {
            "tags": []
          },
          "execution_count": 54
        }
      ]
    },
    {
      "cell_type": "code",
      "metadata": {
        "id": "Uc4I6iSunDkw",
        "colab_type": "code",
        "colab": {
          "base_uri": "https://localhost:8080/",
          "height": 134
        },
        "outputId": "54e06957-3e72-42d9-d7fd-f0c1bd9deb9d"
      },
      "source": [
        "#Using features from TF-IDF for training set\n",
        "train_tfidf_matrix = tfidf_matrix[:31962]\n",
        "\n",
        "train_tfidf_matrix.todense()"
      ],
      "execution_count": 55,
      "outputs": [
        {
          "output_type": "execute_result",
          "data": {
            "text/plain": [
              "matrix([[0., 0., 0., ..., 0., 0., 0.],\n",
              "        [0., 0., 0., ..., 0., 0., 0.],\n",
              "        [0., 0., 0., ..., 0., 0., 0.],\n",
              "        ...,\n",
              "        [0., 0., 0., ..., 0., 0., 0.],\n",
              "        [0., 0., 0., ..., 0., 0., 0.],\n",
              "        [0., 0., 0., ..., 0., 0., 0.]])"
            ]
          },
          "metadata": {
            "tags": []
          },
          "execution_count": 55
        }
      ]
    },
    {
      "cell_type": "code",
      "metadata": {
        "id": "nOme3EaenFOO",
        "colab_type": "code",
        "colab": {
          "base_uri": "https://localhost:8080/",
          "height": 402
        },
        "outputId": "a4c615b7-17d5-4cbd-c9ae-435f1a584f8a"
      },
      "source": [
        "from sklearn.preprocessing import LabelEncoder\n",
        "number = LabelEncoder ()\n",
        "df['sentiments'] = number.fit_transform(df['sentiments'].astype('str'))\n",
        "df"
      ],
      "execution_count": 56,
      "outputs": [
        {
          "output_type": "execute_result",
          "data": {
            "text/html": [
              "<div>\n",
              "<style scoped>\n",
              "    .dataframe tbody tr th:only-of-type {\n",
              "        vertical-align: middle;\n",
              "    }\n",
              "\n",
              "    .dataframe tbody tr th {\n",
              "        vertical-align: top;\n",
              "    }\n",
              "\n",
              "    .dataframe thead th {\n",
              "        text-align: right;\n",
              "    }\n",
              "</style>\n",
              "<table border=\"1\" class=\"dataframe\">\n",
              "  <thead>\n",
              "    <tr style=\"text-align: right;\">\n",
              "      <th></th>\n",
              "      <th>cids</th>\n",
              "      <th>sentences</th>\n",
              "      <th>sentiments</th>\n",
              "      <th>NP</th>\n",
              "    </tr>\n",
              "  </thead>\n",
              "  <tbody>\n",
              "    <tr>\n",
              "      <th>0</th>\n",
              "      <td>0</td>\n",
              "      <td>What is really like a lot of people in this ho...</td>\n",
              "      <td>2</td>\n",
              "      <td>[lot, people, hospital]</td>\n",
              "    </tr>\n",
              "    <tr>\n",
              "      <th>1</th>\n",
              "      <td>0</td>\n",
              "      <td>Most smiling Greetings care patients and those...</td>\n",
              "      <td>2</td>\n",
              "      <td>[Greetings care patients, service]</td>\n",
              "    </tr>\n",
              "    <tr>\n",
              "      <th>2</th>\n",
              "      <td>0</td>\n",
              "      <td>Talk relax at all</td>\n",
              "      <td>2</td>\n",
              "      <td>[Talk relax]</td>\n",
              "    </tr>\n",
              "    <tr>\n",
              "      <th>3</th>\n",
              "      <td>0</td>\n",
              "      <td>Most doctors who have had the good hearted peo...</td>\n",
              "      <td>1</td>\n",
              "      <td>[doctors, people, someone]</td>\n",
              "    </tr>\n",
              "    <tr>\n",
              "      <th>4</th>\n",
              "      <td>0</td>\n",
              "      <td>The Department of Medicine Private rooms are O...</td>\n",
              "      <td>2</td>\n",
              "      <td>[rooms, price]</td>\n",
              "    </tr>\n",
              "    <tr>\n",
              "      <th>...</th>\n",
              "      <td>...</td>\n",
              "      <td>...</td>\n",
              "      <td>...</td>\n",
              "      <td>...</td>\n",
              "    </tr>\n",
              "    <tr>\n",
              "      <th>310</th>\n",
              "      <td>76</td>\n",
              "      <td>You make little treat</td>\n",
              "      <td>2</td>\n",
              "      <td>[treat]</td>\n",
              "    </tr>\n",
              "    <tr>\n",
              "      <th>311</th>\n",
              "      <td>77</td>\n",
              "      <td>Impressive fast enough</td>\n",
              "      <td>2</td>\n",
              "      <td>[]</td>\n",
              "    </tr>\n",
              "    <tr>\n",
              "      <th>312</th>\n",
              "      <td>78</td>\n",
              "      <td>If you find a common disease such as flu usual...</td>\n",
              "      <td>0</td>\n",
              "      <td>[disease, flu, doctor, hospital channel]</td>\n",
              "    </tr>\n",
              "    <tr>\n",
              "      <th>313</th>\n",
              "      <td>79</td>\n",
              "      <td>Good nursing care is a preliminary inquiry</td>\n",
              "      <td>2</td>\n",
              "      <td>[nursing care, inquiry]</td>\n",
              "    </tr>\n",
              "    <tr>\n",
              "      <th>314</th>\n",
              "      <td>79</td>\n",
              "      <td>Doctors advise more on prevention than treatment</td>\n",
              "      <td>1</td>\n",
              "      <td>[Doctors, prevention, treatment]</td>\n",
              "    </tr>\n",
              "  </tbody>\n",
              "</table>\n",
              "<p>315 rows × 4 columns</p>\n",
              "</div>"
            ],
            "text/plain": [
              "     cids  ...                                        NP\n",
              "0       0  ...                   [lot, people, hospital]\n",
              "1       0  ...        [Greetings care patients, service]\n",
              "2       0  ...                              [Talk relax]\n",
              "3       0  ...                [doctors, people, someone]\n",
              "4       0  ...                            [rooms, price]\n",
              "..    ...  ...                                       ...\n",
              "310    76  ...                                   [treat]\n",
              "311    77  ...                                        []\n",
              "312    78  ...  [disease, flu, doctor, hospital channel]\n",
              "313    79  ...                   [nursing care, inquiry]\n",
              "314    79  ...          [Doctors, prevention, treatment]\n",
              "\n",
              "[315 rows x 4 columns]"
            ]
          },
          "metadata": {
            "tags": []
          },
          "execution_count": 56
        }
      ]
    },
    {
      "cell_type": "code",
      "metadata": {
        "id": "De9ausc9tf5U",
        "colab_type": "code",
        "colab": {}
      },
      "source": [
        ""
      ],
      "execution_count": 0,
      "outputs": []
    },
    {
      "cell_type": "code",
      "metadata": {
        "id": "vL1ZSLaenHSR",
        "colab_type": "code",
        "colab": {
          "base_uri": "https://localhost:8080/",
          "height": 346
        },
        "outputId": "a5e62204-06d3-455e-fbc0-9db7fbc3e8be"
      },
      "source": [
        "# Neutral label : 0 , Negative label : 1 , Positive  label : 2\n",
        "import seaborn as sns\n",
        "sns.countplot(df['sentiments'])\n",
        "sns.despine()"
      ],
      "execution_count": 57,
      "outputs": [
        {
          "output_type": "stream",
          "text": [
            "/usr/local/lib/python3.6/dist-packages/statsmodels/tools/_testing.py:19: FutureWarning:\n",
            "\n",
            "pandas.util.testing is deprecated. Use the functions in the public API at pandas.testing instead.\n",
            "\n"
          ],
          "name": "stderr"
        },
        {
          "output_type": "display_data",
          "data": {
            "image/png": "[encoded data removed]",
            "text/plain": [
              "<Figure size 432x288 with 1 Axes>"
            ]
          },
          "metadata": {
            "tags": [],
            "needs_background": "light"
          }
        }
      ]
    },
    {
      "cell_type": "code",
      "metadata": {
        "id": "b9IfcL_lsCNJ",
        "colab_type": "code",
        "colab": {}
      },
      "source": [
        ""
      ],
      "execution_count": 0,
      "outputs": []
    },
    {
      "cell_type": "code",
      "metadata": {
        "id": "rtedGOpTnJ0L",
        "colab_type": "code",
        "colab": {}
      },
      "source": [
        "#Splitting the data into training and validation set\n",
        "from sklearn.model_selection import train_test_split"
      ],
      "execution_count": 0,
      "outputs": []
    },
    {
      "cell_type": "code",
      "metadata": {
        "id": "SzQjr86ipWPW",
        "colab_type": "code",
        "colab": {}
      },
      "source": [
        "x_train_bow, x_valid_bow, y_train_bow, y_valid_bow = train_test_split(train_bow,df['sentiments'],test_size=0.3,random_state=0)"
      ],
      "execution_count": 0,
      "outputs": []
    },
    {
      "cell_type": "code",
      "metadata": {
        "id": "mgefgKXPpYMU",
        "colab_type": "code",
        "colab": {}
      },
      "source": [
        "x_train_tfidf, x_valid_tfidf, y_train_tfidf, y_valid_tfidf = train_test_split(train_tfidf_matrix,df['sentiments'],test_size=0.3,random_state=0)"
      ],
      "execution_count": 0,
      "outputs": []
    },
    {
      "cell_type": "code",
      "metadata": {
        "id": "XWy__UT8pamr",
        "colab_type": "code",
        "colab": {
          "base_uri": "https://localhost:8080/",
          "height": 34
        },
        "outputId": "a724f003-785a-4215-a02a-e471d107fd51"
      },
      "source": [
        "x_train_bow.shape"
      ],
      "execution_count": 61,
      "outputs": [
        {
          "output_type": "execute_result",
          "data": {
            "text/plain": [
              "(220, 237)"
            ]
          },
          "metadata": {
            "tags": []
          },
          "execution_count": 61
        }
      ]
    },
    {
      "cell_type": "code",
      "metadata": {
        "id": "-DrLSyuBpc2O",
        "colab_type": "code",
        "colab": {
          "base_uri": "https://localhost:8080/",
          "height": 34
        },
        "outputId": "61c38f8c-793a-44fa-aaea-819e17acbeb1"
      },
      "source": [
        "x_valid_bow.shape"
      ],
      "execution_count": 62,
      "outputs": [
        {
          "output_type": "execute_result",
          "data": {
            "text/plain": [
              "(95, 237)"
            ]
          },
          "metadata": {
            "tags": []
          },
          "execution_count": 62
        }
      ]
    },
    {
      "cell_type": "code",
      "metadata": {
        "id": "Gz6-q_t_pee9",
        "colab_type": "code",
        "colab": {
          "base_uri": "https://localhost:8080/",
          "height": 34
        },
        "outputId": "7fe2e4d1-4cb5-4bc1-b25a-ba118ff435b4"
      },
      "source": [
        "y_train_bow.shape"
      ],
      "execution_count": 63,
      "outputs": [
        {
          "output_type": "execute_result",
          "data": {
            "text/plain": [
              "(220,)"
            ]
          },
          "metadata": {
            "tags": []
          },
          "execution_count": 63
        }
      ]
    },
    {
      "cell_type": "code",
      "metadata": {
        "id": "BL59CNAZpgj-",
        "colab_type": "code",
        "colab": {
          "base_uri": "https://localhost:8080/",
          "height": 34
        },
        "outputId": "e5e54fc5-a519-4613-80b6-59cdb0aacea5"
      },
      "source": [
        "y_valid_bow.shape"
      ],
      "execution_count": 64,
      "outputs": [
        {
          "output_type": "execute_result",
          "data": {
            "text/plain": [
              "(95,)"
            ]
          },
          "metadata": {
            "tags": []
          },
          "execution_count": 64
        }
      ]
    },
    {
      "cell_type": "markdown",
      "metadata": {
        "id": "RxpzNxgypkuc",
        "colab_type": "text"
      },
      "source": [
        "#Applying Machine Learning Models"
      ]
    },
    {
      "cell_type": "code",
      "metadata": {
        "id": "yjbN2zqmxe1H",
        "colab_type": "code",
        "colab": {}
      },
      "source": [
        "from sklearn.metrics import f1_score"
      ],
      "execution_count": 0,
      "outputs": []
    },
    {
      "cell_type": "code",
      "metadata": {
        "id": "O8wBMCkqpiAV",
        "colab_type": "code",
        "colab": {}
      },
      "source": [
        "#Neural Network\n",
        "from sklearn.neural_network import MLPClassifier\n",
        "class_NN = MLPClassifier(hidden_layer_sizes=(8,8,8), activation='relu',solver='adam', max_iter=500)"
      ],
      "execution_count": 0,
      "outputs": []
    },
    {
      "cell_type": "code",
      "metadata": {
        "id": "lX_8MhkUxj_X",
        "colab_type": "code",
        "colab": {
          "base_uri": "https://localhost:8080/",
          "height": 151
        },
        "outputId": "1f9640bd-23ce-474a-aefe-f6d73b5a03f0"
      },
      "source": [
        "class_NN.fit(x_train_bow,y_train_bow)"
      ],
      "execution_count": 67,
      "outputs": [
        {
          "output_type": "execute_result",
          "data": {
            "text/plain": [
              "MLPClassifier(activation='relu', alpha=0.0001, batch_size='auto', beta_1=0.9,\n",
              "              beta_2=0.999, early_stopping=False, epsilon=1e-08,\n",
              "              hidden_layer_sizes=(8, 8, 8), learning_rate='constant',\n",
              "              learning_rate_init=0.001, max_fun=15000, max_iter=500,\n",
              "              momentum=0.9, n_iter_no_change=10, nesterovs_momentum=True,\n",
              "              power_t=0.5, random_state=None, shuffle=True, solver='adam',\n",
              "              tol=0.0001, validation_fraction=0.1, verbose=False,\n",
              "              warm_start=False)"
            ]
          },
          "metadata": {
            "tags": []
          },
          "execution_count": 67
        }
      ]
    },
    {
      "cell_type": "code",
      "metadata": {
        "id": "aFi4qBNlpn3W",
        "colab_type": "code",
        "colab": {
          "base_uri": "https://localhost:8080/",
          "height": 1000
        },
        "outputId": "116b2421-8d80-481f-e4b2-d736c79623fb"
      },
      "source": [
        "prediction_bow = class_NN.predict_proba(x_valid_bow)\n",
        "\n",
        "prediction_bow"
      ],
      "execution_count": 68,
      "outputs": [
        {
          "output_type": "execute_result",
          "data": {
            "text/plain": [
              "array([[1.80023514e-04, 4.42546801e-04, 9.99377430e-01],\n",
              "       [2.64020649e-02, 1.62652835e-01, 8.10945100e-01],\n",
              "       [1.06281629e-03, 2.72786854e-03, 9.96209315e-01],\n",
              "       [7.51165141e-04, 9.98423559e-01, 8.25275904e-04],\n",
              "       [2.78066541e-02, 3.79716907e-01, 5.92476439e-01],\n",
              "       [1.74222754e-02, 1.35673784e-01, 8.46903941e-01],\n",
              "       [8.77685744e-01, 1.14421348e-01, 7.89290810e-03],\n",
              "       [1.06037352e-03, 3.74266763e-03, 9.95196959e-01],\n",
              "       [4.70188690e-03, 1.01008588e-02, 9.85197254e-01],\n",
              "       [5.10968674e-03, 2.39349450e-02, 9.70955368e-01],\n",
              "       [9.65264634e-03, 7.75943390e-02, 9.12753015e-01],\n",
              "       [6.04681004e-01, 3.94991788e-01, 3.27207762e-04],\n",
              "       [6.96155791e-01, 2.92257917e-01, 1.15862911e-02],\n",
              "       [4.65931078e-03, 8.86325540e-02, 9.06708135e-01],\n",
              "       [5.22132793e-03, 9.89610759e-01, 5.16791314e-03],\n",
              "       [7.04767732e-02, 7.84202903e-01, 1.45320324e-01],\n",
              "       [6.22572697e-03, 9.89243214e-01, 4.53105896e-03],\n",
              "       [9.50834395e-03, 8.94888587e-01, 9.56030690e-02],\n",
              "       [9.17892288e-04, 9.95955942e-01, 3.12616567e-03],\n",
              "       [5.85201145e-03, 9.92065305e-01, 2.08268335e-03],\n",
              "       [9.78916003e-01, 2.05339630e-02, 5.50034370e-04],\n",
              "       [2.09897468e-02, 1.05924624e-01, 8.73085629e-01],\n",
              "       [6.34738996e-04, 2.66871155e-03, 9.96696549e-01],\n",
              "       [4.22633251e-02, 9.52866667e-01, 4.87000749e-03],\n",
              "       [7.04767732e-02, 7.84202903e-01, 1.45320324e-01],\n",
              "       [4.26999824e-09, 2.46467861e-08, 9.99999971e-01],\n",
              "       [7.45721169e-01, 2.42398628e-01, 1.18802029e-02],\n",
              "       [4.05321628e-01, 5.89629034e-01, 5.04933851e-03],\n",
              "       [6.94358478e-03, 9.12864674e-01, 8.01917413e-02],\n",
              "       [6.95493616e-06, 2.12153695e-05, 9.99971830e-01],\n",
              "       [9.64040379e-01, 3.43543879e-02, 1.60523316e-03],\n",
              "       [6.05656981e-04, 1.39780871e-03, 9.97996534e-01],\n",
              "       [6.75707963e-04, 1.68127148e-03, 9.97643021e-01],\n",
              "       [9.98754734e-03, 1.05445428e-01, 8.84567025e-01],\n",
              "       [4.42060333e-05, 1.19932814e-04, 9.99835861e-01],\n",
              "       [1.20128197e-02, 9.53878292e-01, 3.41088888e-02],\n",
              "       [1.46469777e-06, 5.15653362e-06, 9.99993379e-01],\n",
              "       [6.07566768e-02, 7.18964657e-01, 2.20278667e-01],\n",
              "       [5.64799613e-02, 2.34644706e-01, 7.08875332e-01],\n",
              "       [2.24098940e-02, 6.60633134e-01, 3.16956973e-01],\n",
              "       [1.70638236e-02, 9.57466156e-01, 2.54700203e-02],\n",
              "       [2.41303758e-03, 6.33386358e-01, 3.64200604e-01],\n",
              "       [1.46678268e-03, 3.27226594e-03, 9.95260951e-01],\n",
              "       [9.98589028e-03, 9.88047995e-01, 1.96611507e-03],\n",
              "       [9.43036692e-03, 9.25276763e-01, 6.52928698e-02],\n",
              "       [2.04774940e-04, 5.11197900e-04, 9.99284027e-01],\n",
              "       [4.85288360e-06, 1.56589682e-05, 9.99979488e-01],\n",
              "       [4.12355944e-04, 9.68575065e-04, 9.98619069e-01],\n",
              "       [1.26084617e-04, 4.62978493e-04, 9.99410937e-01],\n",
              "       [7.04767732e-02, 7.84202903e-01, 1.45320324e-01],\n",
              "       [1.25157005e-02, 9.75871278e-01, 1.16130215e-02],\n",
              "       [9.47515146e-04, 4.52227103e-03, 9.94530214e-01],\n",
              "       [7.94970977e-04, 1.86462079e-03, 9.97340408e-01],\n",
              "       [1.00658709e-02, 9.56963566e-01, 3.29705626e-02],\n",
              "       [1.58120202e-02, 2.32938286e-01, 7.51249694e-01],\n",
              "       [5.61125938e-02, 8.80664220e-01, 6.32231861e-02],\n",
              "       [2.99607853e-03, 9.85504760e-01, 1.14991614e-02],\n",
              "       [6.22208003e-05, 2.04116298e-04, 9.99733663e-01],\n",
              "       [1.23243196e-02, 9.08933484e-01, 7.87421964e-02],\n",
              "       [5.99452251e-03, 7.68921737e-02, 9.17113304e-01],\n",
              "       [7.63741765e-01, 2.18450542e-01, 1.78076927e-02],\n",
              "       [3.55247475e-01, 6.39201525e-01, 5.55100070e-03],\n",
              "       [4.65956947e-02, 6.12695707e-01, 3.40708598e-01],\n",
              "       [1.11290688e-03, 3.90258033e-03, 9.94984513e-01],\n",
              "       [2.29526716e-02, 9.61994637e-01, 1.50526915e-02],\n",
              "       [4.56370973e-03, 2.57295202e-02, 9.69706770e-01],\n",
              "       [2.23885003e-02, 8.12398889e-01, 1.65212611e-01],\n",
              "       [2.00962054e-02, 8.81620268e-01, 9.82835265e-02],\n",
              "       [1.18254810e-02, 9.86823715e-01, 1.35080450e-03],\n",
              "       [3.70664790e-02, 6.89292330e-01, 2.73641191e-01],\n",
              "       [1.76984104e-01, 6.12184361e-01, 2.10831535e-01],\n",
              "       [4.19945501e-03, 9.91236688e-01, 4.56385686e-03],\n",
              "       [3.98943105e-01, 5.48509288e-01, 5.25476067e-02],\n",
              "       [8.25102095e-03, 7.87788052e-02, 9.12970174e-01],\n",
              "       [2.05028807e-02, 9.48108917e-01, 3.13882022e-02],\n",
              "       [2.81050409e-02, 9.66903381e-01, 4.99157828e-03],\n",
              "       [2.90386269e-01, 6.27648261e-01, 8.19654701e-02],\n",
              "       [6.85736943e-05, 1.77410335e-04, 9.99754016e-01],\n",
              "       [8.76269673e-02, 8.69050884e-01, 4.33221487e-02],\n",
              "       [9.24369713e-01, 7.21081226e-02, 3.52216412e-03],\n",
              "       [7.04767637e-02, 7.84202967e-01, 1.45320269e-01],\n",
              "       [1.43062915e-05, 4.12693639e-05, 9.99944424e-01],\n",
              "       [1.70661839e-02, 9.95887080e-02, 8.83345108e-01],\n",
              "       [2.31759566e-01, 6.34763157e-01, 1.33477278e-01],\n",
              "       [1.68854754e-02, 9.62552137e-01, 2.05623877e-02],\n",
              "       [1.03925454e-04, 2.63021236e-04, 9.99633053e-01],\n",
              "       [2.64127788e-03, 1.98482528e-02, 9.77510469e-01],\n",
              "       [6.97917720e-03, 9.41108577e-01, 5.19122456e-02],\n",
              "       [7.66817432e-04, 6.75682021e-03, 9.92476362e-01],\n",
              "       [2.35610845e-02, 9.65219782e-01, 1.12191332e-02],\n",
              "       [3.23607150e-02, 9.66705514e-01, 9.33770914e-04],\n",
              "       [5.33276855e-03, 1.90785966e-02, 9.75588635e-01],\n",
              "       [3.46930312e-03, 2.06896128e-02, 9.75841084e-01],\n",
              "       [1.02052721e-01, 4.93746359e-01, 4.04200920e-01],\n",
              "       [1.07687993e-02, 9.39114254e-02, 8.95319775e-01]])"
            ]
          },
          "metadata": {
            "tags": []
          },
          "execution_count": 68
        }
      ]
    },
    {
      "cell_type": "code",
      "metadata": {
        "id": "TUIuqy52xtX1",
        "colab_type": "code",
        "colab": {
          "base_uri": "https://localhost:8080/",
          "height": 34
        },
        "outputId": "7597263d-c24b-4599-96dd-48341a712fda"
      },
      "source": [
        "#Calculating the F1 score\n",
        "# if prediction is equal to 2 else 1 where 2 is for positive comments and 1 for negative sentiment comments\n",
        "prediction_int = prediction_bow[:,1]>=0.3\n",
        "\n",
        "# converting the results to integer type\n",
        "prediction_int = prediction_int.astype(np.int)\n",
        "prediction_int\n",
        "\n",
        "# calculating f1 score\n",
        "log_bow = f1_score(y_valid_bow, prediction_int,average='micro')\n",
        "\n",
        "log_bow"
      ],
      "execution_count": 69,
      "outputs": [
        {
          "output_type": "execute_result",
          "data": {
            "text/plain": [
              "0.29473684210526313"
            ]
          },
          "metadata": {
            "tags": []
          },
          "execution_count": 69
        }
      ]
    },
    {
      "cell_type": "code",
      "metadata": {
        "id": "8tzjjrKDyIoR",
        "colab_type": "code",
        "colab": {
          "base_uri": "https://localhost:8080/",
          "height": 218
        },
        "outputId": "39da7bb4-4d65-43bb-e1da-8e21639bea21"
      },
      "source": [
        "class_NN.fit(x_train_tfidf,y_train_tfidf)"
      ],
      "execution_count": 70,
      "outputs": [
        {
          "output_type": "stream",
          "text": [
            "/usr/local/lib/python3.6/dist-packages/sklearn/neural_network/_multilayer_perceptron.py:571: ConvergenceWarning:\n",
            "\n",
            "Stochastic Optimizer: Maximum iterations (500) reached and the optimization hasn't converged yet.\n",
            "\n"
          ],
          "name": "stderr"
        },
        {
          "output_type": "execute_result",
          "data": {
            "text/plain": [
              "MLPClassifier(activation='relu', alpha=0.0001, batch_size='auto', beta_1=0.9,\n",
              "              beta_2=0.999, early_stopping=False, epsilon=1e-08,\n",
              "              hidden_layer_sizes=(8, 8, 8), learning_rate='constant',\n",
              "              learning_rate_init=0.001, max_fun=15000, max_iter=500,\n",
              "              momentum=0.9, n_iter_no_change=10, nesterovs_momentum=True,\n",
              "              power_t=0.5, random_state=None, shuffle=True, solver='adam',\n",
              "              tol=0.0001, validation_fraction=0.1, verbose=False,\n",
              "              warm_start=False)"
            ]
          },
          "metadata": {
            "tags": []
          },
          "execution_count": 70
        }
      ]
    },
    {
      "cell_type": "code",
      "metadata": {
        "id": "6B3WfHUlzhdc",
        "colab_type": "code",
        "colab": {
          "base_uri": "https://localhost:8080/",
          "height": 1000
        },
        "outputId": "c2bc8836-4241-4f80-d04e-13f9e475af02"
      },
      "source": [
        "prediction_tfidf = class_NN.predict_proba(x_valid_tfidf)\n",
        "\n",
        "prediction_tfidf"
      ],
      "execution_count": 71,
      "outputs": [
        {
          "output_type": "execute_result",
          "data": {
            "text/plain": [
              "array([[1.82213782e-02, 1.21848680e-03, 9.80560135e-01],\n",
              "       [8.39869034e-04, 7.95691509e-01, 2.03468622e-01],\n",
              "       [3.55541755e-03, 5.00006920e-04, 9.95944576e-01],\n",
              "       [3.27496684e-05, 9.97453169e-01, 2.51408107e-03],\n",
              "       [3.50132628e-03, 7.66826870e-02, 9.19815987e-01],\n",
              "       [5.21033639e-03, 3.20869726e-01, 6.73919938e-01],\n",
              "       [8.35468311e-01, 2.18483808e-03, 1.62346850e-01],\n",
              "       [2.09657986e-03, 1.37172671e-02, 9.84186153e-01],\n",
              "       [4.50908528e-01, 1.64102148e-02, 5.32681257e-01],\n",
              "       [2.86395008e-03, 6.19940225e-02, 9.35142027e-01],\n",
              "       [2.36078917e-02, 2.25866341e-03, 9.74133445e-01],\n",
              "       [6.50586115e-01, 3.21535134e-01, 2.78787504e-02],\n",
              "       [3.13486515e-02, 8.82179857e-01, 8.64714918e-02],\n",
              "       [2.26063081e-03, 7.69392314e-02, 9.20800138e-01],\n",
              "       [1.03439193e-05, 9.99324028e-01, 6.65628021e-04],\n",
              "       [2.16967290e-02, 8.32001633e-01, 1.46301638e-01],\n",
              "       [4.02994329e-04, 9.93986880e-01, 5.61012546e-03],\n",
              "       [1.43676686e-04, 9.80937409e-01, 1.89189142e-02],\n",
              "       [1.04390870e-05, 9.99365485e-01, 6.24075469e-04],\n",
              "       [4.50576658e-02, 9.43873853e-01, 1.10684812e-02],\n",
              "       [9.73420133e-01, 1.24059663e-02, 1.41739006e-02],\n",
              "       [5.99427846e-02, 1.02448878e-01, 8.37608337e-01],\n",
              "       [1.57996927e-03, 2.79717955e-03, 9.95622851e-01],\n",
              "       [1.37428677e-03, 9.96832707e-01, 1.79300628e-03],\n",
              "       [2.16967290e-02, 8.32001633e-01, 1.46301638e-01],\n",
              "       [1.72673565e-04, 3.13964390e-04, 9.99513362e-01],\n",
              "       [8.85872860e-01, 9.27514432e-02, 2.13756967e-02],\n",
              "       [7.42186103e-01, 2.03655836e-01, 5.41580604e-02],\n",
              "       [4.73220721e-04, 9.61066054e-01, 3.84607251e-02],\n",
              "       [1.50788986e-03, 1.16521824e-04, 9.98375588e-01],\n",
              "       [9.71404344e-01, 1.58319772e-02, 1.27636791e-02],\n",
              "       [1.35789107e-02, 3.02765808e-03, 9.83393431e-01],\n",
              "       [1.70600172e-03, 9.12317239e-02, 9.07062274e-01],\n",
              "       [9.57302433e-04, 9.74393956e-01, 2.46487417e-02],\n",
              "       [7.91399028e-03, 3.01063835e-02, 9.61979626e-01],\n",
              "       [1.36411876e-03, 9.68181565e-01, 3.04543157e-02],\n",
              "       [4.61322306e-04, 1.88750699e-03, 9.97651171e-01],\n",
              "       [3.35303665e-02, 4.31186443e-01, 5.35283191e-01],\n",
              "       [1.18792838e-01, 2.99168632e-01, 5.82038530e-01],\n",
              "       [1.94211407e-01, 1.34228338e-01, 6.71560255e-01],\n",
              "       [2.85989329e-04, 9.84138111e-01, 1.55758994e-02],\n",
              "       [3.29570573e-03, 2.42312907e-01, 7.54391388e-01],\n",
              "       [2.97609415e-03, 5.28703633e-03, 9.91736870e-01],\n",
              "       [1.29367146e-04, 9.89803926e-01, 1.00667069e-02],\n",
              "       [9.71504943e-03, 6.18101087e-01, 3.72183863e-01],\n",
              "       [1.68874468e-03, 9.37395372e-04, 9.97373860e-01],\n",
              "       [1.12740061e-03, 1.70925110e-04, 9.98701674e-01],\n",
              "       [1.02047879e-02, 5.27684224e-04, 9.89267528e-01],\n",
              "       [2.12424099e-04, 3.88440786e-02, 9.60943497e-01],\n",
              "       [2.16967290e-02, 8.32001633e-01, 1.46301638e-01],\n",
              "       [1.24730335e-04, 9.95290899e-01, 4.58437063e-03],\n",
              "       [6.18464778e-03, 3.78240158e-04, 9.93437112e-01],\n",
              "       [6.72483384e-04, 1.03353390e-03, 9.98293983e-01],\n",
              "       [2.56624657e-02, 3.37371490e-02, 9.40600385e-01],\n",
              "       [4.37302796e-02, 4.57723850e-03, 9.51692482e-01],\n",
              "       [7.70757620e-04, 9.56057403e-01, 4.31718394e-02],\n",
              "       [3.48639056e-05, 9.98474822e-01, 1.49031388e-03],\n",
              "       [1.07960034e-03, 1.08519374e-02, 9.88068462e-01],\n",
              "       [2.45940323e-04, 9.32078126e-01, 6.76759334e-02],\n",
              "       [1.54286703e-02, 1.92211202e-01, 7.92360127e-01],\n",
              "       [9.58551722e-01, 1.00107458e-02, 3.14375317e-02],\n",
              "       [1.09604125e-01, 8.77852906e-01, 1.25429691e-02],\n",
              "       [4.42049200e-02, 6.38963020e-02, 8.91898778e-01],\n",
              "       [1.40960976e-03, 6.17052682e-04, 9.97973338e-01],\n",
              "       [1.89431328e-04, 9.98039761e-01, 1.77080735e-03],\n",
              "       [1.79525630e-02, 3.32103354e-03, 9.78726403e-01],\n",
              "       [9.35682232e-04, 4.78764496e-01, 5.20299822e-01],\n",
              "       [7.58996645e-03, 7.66724980e-01, 2.25685054e-01],\n",
              "       [3.04316305e-05, 9.99347485e-01, 6.22083484e-04],\n",
              "       [1.43406596e-03, 9.54641484e-01, 4.39244498e-02],\n",
              "       [3.65788338e-01, 2.61931730e-02, 6.08018489e-01],\n",
              "       [1.47726410e-04, 9.98024518e-01, 1.82775592e-03],\n",
              "       [5.23856460e-01, 2.38181101e-02, 4.52325430e-01],\n",
              "       [4.51282800e-03, 7.96823432e-02, 9.15804829e-01],\n",
              "       [9.54675413e-04, 9.62082896e-01, 3.69624285e-02],\n",
              "       [1.44101919e-01, 4.52468279e-01, 4.03429802e-01],\n",
              "       [9.25076084e-01, 9.86136043e-03, 6.50625558e-02],\n",
              "       [2.09453149e-03, 4.58226392e-04, 9.97447242e-01],\n",
              "       [9.08139321e-01, 3.15546622e-02, 6.03060165e-02],\n",
              "       [9.43316011e-01, 1.59179080e-02, 4.07660813e-02],\n",
              "       [2.16967296e-02, 8.32001636e-01, 1.46301635e-01],\n",
              "       [4.09957557e-04, 1.31100469e-04, 9.99458942e-01],\n",
              "       [1.85473914e-02, 2.51553349e-03, 9.78937075e-01],\n",
              "       [4.34923521e-01, 1.59943777e-02, 5.49082101e-01],\n",
              "       [1.66835994e-04, 9.96655445e-01, 3.17771898e-03],\n",
              "       [1.47269598e-03, 2.37749631e-04, 9.98289554e-01],\n",
              "       [4.13122670e-03, 4.58185721e-01, 5.37683052e-01],\n",
              "       [2.51831903e-03, 9.70934299e-01, 2.65473822e-02],\n",
              "       [1.77525979e-03, 1.10835402e-02, 9.87141200e-01],\n",
              "       [1.99018718e-01, 1.69449737e-01, 6.31531545e-01],\n",
              "       [1.65179612e-03, 9.84229597e-01, 1.41186066e-02],\n",
              "       [3.26118566e-04, 8.72828845e-01, 1.26845037e-01],\n",
              "       [1.72253937e-02, 7.82890488e-02, 9.04485558e-01],\n",
              "       [6.57547171e-01, 1.29225811e-02, 3.29530248e-01],\n",
              "       [1.45599722e-03, 8.80175254e-01, 1.18368748e-01]])"
            ]
          },
          "metadata": {
            "tags": []
          },
          "execution_count": 71
        }
      ]
    },
    {
      "cell_type": "code",
      "metadata": {
        "id": "8OdyhlZvzppW",
        "colab_type": "code",
        "colab": {
          "base_uri": "https://localhost:8080/",
          "height": 34
        },
        "outputId": "bad7c8a3-a4af-42d6-ddc9-7cad4b99a71a"
      },
      "source": [
        "prediction_int_tfidf = prediction_tfidf[:,1]>=0.3\n",
        "\n",
        "prediction_int_tfidf = prediction_int.astype(np.int)\n",
        "prediction_int_tfidf\n",
        "\n",
        "# calculating f1 score\n",
        "log_tfidf = f1_score(y_valid_tfidf, prediction_int_tfidf,average='micro')\n",
        "\n",
        "log_tfidf"
      ],
      "execution_count": 72,
      "outputs": [
        {
          "output_type": "execute_result",
          "data": {
            "text/plain": [
              "0.29473684210526313"
            ]
          },
          "metadata": {
            "tags": []
          },
          "execution_count": 72
        }
      ]
    },
    {
      "cell_type": "code",
      "metadata": {
        "id": "CFEwwstkztuf",
        "colab_type": "code",
        "colab": {
          "base_uri": "https://localhost:8080/",
          "height": 1000
        },
        "outputId": "2797da75-13aa-4898-844b-b9e98bfbb10e"
      },
      "source": [
        "#XGBoost\n",
        "from xgboost import XGBClassifier\n",
        "model_bow = XGBClassifier(random_state=0,learning_rate=0.9)\n",
        "model_bow.fit(x_train_bow, y_train_bow)\n",
        "xgb = model_bow.predict_proba(x_valid_bow)\n",
        "\n",
        "xgb"
      ],
      "execution_count": 73,
      "outputs": [
        {
          "output_type": "execute_result",
          "data": {
            "text/plain": [
              "array([[2.61838315e-03, 9.79261659e-03, 9.87589061e-01],\n",
              "       [1.29186902e-02, 9.02924180e-01, 8.41571465e-02],\n",
              "       [4.80738878e-02, 8.03489327e-01, 1.48436755e-01],\n",
              "       [2.49560047e-02, 7.65258372e-01, 2.09785566e-01],\n",
              "       [1.47378389e-02, 1.21445768e-01, 8.63816381e-01],\n",
              "       [8.11155885e-02, 6.68425500e-01, 2.50458926e-01],\n",
              "       [7.81121790e-01, 3.43009531e-02, 1.84577271e-01],\n",
              "       [9.74369177e-04, 4.56950814e-02, 9.53330517e-01],\n",
              "       [2.63031453e-01, 3.72933736e-03, 7.33239233e-01],\n",
              "       [1.65743202e-01, 3.22494924e-01, 5.11761844e-01],\n",
              "       [3.04958582e-01, 2.45619342e-01, 4.49422032e-01],\n",
              "       [5.25468290e-01, 4.69311535e-01, 5.22015383e-03],\n",
              "       [8.11155885e-02, 6.68425500e-01, 2.50458926e-01],\n",
              "       [2.63828021e-02, 2.76656359e-01, 6.96960807e-01],\n",
              "       [7.58188069e-02, 6.24777853e-01, 2.99403310e-01],\n",
              "       [8.11155885e-02, 6.68425500e-01, 2.50458926e-01],\n",
              "       [3.89174186e-02, 8.40918124e-01, 1.20164491e-01],\n",
              "       [1.19722947e-01, 4.07841355e-01, 4.72435713e-01],\n",
              "       [4.30214964e-02, 9.33027565e-01, 2.39509623e-02],\n",
              "       [9.95505676e-02, 5.82492232e-01, 3.17957193e-01],\n",
              "       [1.68986484e-01, 4.52587247e-01, 3.78426254e-01],\n",
              "       [5.83134629e-02, 3.01706821e-01, 6.39979661e-01],\n",
              "       [5.49440801e-01, 1.44674033e-01, 3.05885166e-01],\n",
              "       [8.20112415e-03, 9.31422174e-01, 6.03767075e-02],\n",
              "       [8.11155885e-02, 6.68425500e-01, 2.50458926e-01],\n",
              "       [7.04179984e-04, 1.02255995e-04, 9.99193609e-01],\n",
              "       [8.11155885e-02, 6.68425500e-01, 2.50458926e-01],\n",
              "       [1.69931427e-01, 5.79638064e-01, 2.50430495e-01],\n",
              "       [1.88953117e-01, 1.09957933e-01, 7.01088965e-01],\n",
              "       [2.53018569e-02, 9.64101855e-05, 9.74601805e-01],\n",
              "       [8.11155885e-02, 6.68425500e-01, 2.50458926e-01],\n",
              "       [3.81507799e-02, 4.34766617e-03, 9.57501590e-01],\n",
              "       [1.29186902e-02, 9.02924180e-01, 8.41571465e-02],\n",
              "       [2.34845340e-01, 5.81335783e-01, 1.83818892e-01],\n",
              "       [1.20560296e-01, 5.15496135e-02, 8.27890098e-01],\n",
              "       [7.02265948e-02, 7.62753189e-01, 1.67020202e-01],\n",
              "       [7.31093705e-01, 1.75496947e-03, 2.67151356e-01],\n",
              "       [5.24844155e-02, 5.72182760e-02, 8.90297294e-01],\n",
              "       [1.60114631e-01, 4.14982624e-02, 7.98387110e-01],\n",
              "       [3.89174186e-02, 8.40918124e-01, 1.20164491e-01],\n",
              "       [7.01558217e-03, 8.04170251e-01, 1.88814178e-01],\n",
              "       [4.40413802e-04, 5.90029024e-02, 9.40556705e-01],\n",
              "       [4.95911762e-02, 6.93763077e-01, 2.56645709e-01],\n",
              "       [8.11155885e-02, 6.68425500e-01, 2.50458926e-01],\n",
              "       [6.81665003e-01, 1.09632336e-01, 2.08702609e-01],\n",
              "       [1.65743202e-01, 3.22494924e-01, 5.11761844e-01],\n",
              "       [5.64475171e-03, 1.30480767e-04, 9.94224727e-01],\n",
              "       [1.03445975e-02, 1.94246639e-02, 9.70230699e-01],\n",
              "       [3.25666089e-03, 2.85731908e-02, 9.68170166e-01],\n",
              "       [8.11155885e-02, 6.68425500e-01, 2.50458926e-01],\n",
              "       [4.80738878e-02, 8.03489327e-01, 1.48436755e-01],\n",
              "       [9.96966511e-02, 3.27108591e-03, 8.97032261e-01],\n",
              "       [1.31698614e-02, 7.79398233e-02, 9.08890367e-01],\n",
              "       [1.50664464e-01, 7.65589178e-01, 8.37463588e-02],\n",
              "       [1.69931427e-01, 5.79638064e-01, 2.50430495e-01],\n",
              "       [2.34845340e-01, 5.81335783e-01, 1.83818892e-01],\n",
              "       [1.61822513e-02, 7.82743216e-01, 2.01074556e-01],\n",
              "       [3.94873992e-02, 7.37247169e-01, 2.23265365e-01],\n",
              "       [2.20182482e-02, 8.68534386e-01, 1.09447435e-01],\n",
              "       [1.68267667e-01, 4.31540638e-01, 4.00191635e-01],\n",
              "       [6.63917422e-01, 1.79200411e-01, 1.56882152e-01],\n",
              "       [8.11155885e-02, 6.68425500e-01, 2.50458926e-01],\n",
              "       [8.11155885e-02, 6.68425500e-01, 2.50458926e-01],\n",
              "       [5.03017247e-01, 1.04500331e-01, 3.92482430e-01],\n",
              "       [8.11155885e-02, 6.68425500e-01, 2.50458926e-01],\n",
              "       [2.25536563e-02, 1.35818616e-01, 8.41627717e-01],\n",
              "       [5.41211106e-02, 4.45980042e-01, 4.99898881e-01],\n",
              "       [8.11155885e-02, 6.68425500e-01, 2.50458926e-01],\n",
              "       [8.11155885e-02, 6.68425500e-01, 2.50458926e-01],\n",
              "       [1.61822513e-02, 7.82743216e-01, 2.01074556e-01],\n",
              "       [8.11155885e-02, 6.68425500e-01, 2.50458926e-01],\n",
              "       [2.23516654e-02, 8.20490599e-01, 1.57157719e-01],\n",
              "       [3.24009582e-02, 2.66997099e-01, 7.00601995e-01],\n",
              "       [8.11155885e-02, 6.68425500e-01, 2.50458926e-01],\n",
              "       [8.11155885e-02, 6.68425500e-01, 2.50458926e-01],\n",
              "       [2.95236390e-02, 9.05637741e-01, 6.48386627e-02],\n",
              "       [1.38737515e-01, 4.32885468e-01, 4.28376973e-01],\n",
              "       [7.33210100e-03, 3.54657203e-01, 6.38010740e-01],\n",
              "       [2.76896775e-01, 3.13030630e-01, 4.10072535e-01],\n",
              "       [1.30016878e-01, 6.98037028e-01, 1.71946123e-01],\n",
              "       [8.11155885e-02, 6.68425500e-01, 2.50458926e-01],\n",
              "       [1.20430894e-03, 4.50799335e-03, 9.94287670e-01],\n",
              "       [3.28849219e-02, 8.23774338e-01, 1.43340766e-01],\n",
              "       [1.13813989e-01, 5.34764886e-01, 3.51421148e-01],\n",
              "       [8.11155885e-02, 6.68425500e-01, 2.50458926e-01],\n",
              "       [1.78937835e-03, 5.83819383e-05, 9.98152196e-01],\n",
              "       [1.65743202e-01, 3.22494924e-01, 5.11761844e-01],\n",
              "       [3.03930528e-02, 8.45120251e-01, 1.24486662e-01],\n",
              "       [5.56857169e-01, 2.38638580e-01, 2.04504266e-01],\n",
              "       [1.69931427e-01, 5.79638064e-01, 2.50430495e-01],\n",
              "       [5.47256291e-01, 3.90373975e-01, 6.23696893e-02],\n",
              "       [4.95911762e-02, 6.93763077e-01, 2.56645709e-01],\n",
              "       [1.02599248e-01, 5.94135106e-01, 3.03265661e-01],\n",
              "       [6.50896847e-01, 1.87626388e-02, 3.30340534e-01],\n",
              "       [8.11155885e-02, 6.68425500e-01, 2.50458926e-01]], dtype=float32)"
            ]
          },
          "metadata": {
            "tags": []
          },
          "execution_count": 73
        }
      ]
    },
    {
      "cell_type": "code",
      "metadata": {
        "id": "0SN6kFoH0Xr6",
        "colab_type": "code",
        "colab": {
          "base_uri": "https://localhost:8080/",
          "height": 34
        },
        "outputId": "02457db1-a44a-4f80-d5b1-56ac1767b09a"
      },
      "source": [
        "xgb = xgb[:,1] >= 0.3\n",
        "\n",
        "# converting the results to integer type\n",
        "xgb_int=xgb.astype(np.int)\n",
        "\n",
        "# calculating f1 score\n",
        "xgb_bow=f1_score(y_valid_bow,xgb_int,average='micro')\n",
        "\n",
        "xgb_bow"
      ],
      "execution_count": 74,
      "outputs": [
        {
          "output_type": "execute_result",
          "data": {
            "text/plain": [
              "0.3157894736842105"
            ]
          },
          "metadata": {
            "tags": []
          },
          "execution_count": 74
        }
      ]
    },
    {
      "cell_type": "code",
      "metadata": {
        "id": "8YBw5FnP0iMP",
        "colab_type": "code",
        "colab": {
          "base_uri": "https://localhost:8080/",
          "height": 1000
        },
        "outputId": "dbd18dae-d1a5-4541-8e21-4faad4b6c55a"
      },
      "source": [
        "model_tfidf = XGBClassifier(random_state=2,learning_rate=0.7)\n",
        "model_tfidf.fit(x_train_tfidf, y_train_tfidf)\n",
        "xgb_tfidf=model_tfidf.predict_proba(x_valid_tfidf)\n",
        "\n",
        "xgb_tfidf"
      ],
      "execution_count": 75,
      "outputs": [
        {
          "output_type": "execute_result",
          "data": {
            "text/plain": [
              "array([[2.81518195e-02, 7.34860748e-02, 8.98362100e-01],\n",
              "       [6.33304240e-03, 9.36939657e-01, 5.67273311e-02],\n",
              "       [6.73106536e-02, 7.56653905e-01, 1.76035464e-01],\n",
              "       [1.08966731e-01, 2.27875188e-01, 6.63158119e-01],\n",
              "       [4.46525291e-02, 2.80094326e-01, 6.75253153e-01],\n",
              "       [1.01132452e-01, 6.34379029e-01, 2.64488518e-01],\n",
              "       [3.01911950e-01, 3.22040826e-01, 3.76047254e-01],\n",
              "       [1.10619003e-03, 1.11678354e-02, 9.87726033e-01],\n",
              "       [6.58259094e-02, 4.78980243e-02, 8.86276007e-01],\n",
              "       [1.70795873e-01, 3.82527053e-01, 4.46677089e-01],\n",
              "       [8.24474812e-01, 5.66101559e-02, 1.18915074e-01],\n",
              "       [2.62610525e-01, 7.31612206e-01, 5.77727985e-03],\n",
              "       [1.01132452e-01, 6.34379029e-01, 2.64488518e-01],\n",
              "       [2.94183642e-02, 8.10936987e-01, 1.59644634e-01],\n",
              "       [1.01132452e-01, 6.34379029e-01, 2.64488518e-01],\n",
              "       [1.01132452e-01, 6.34379029e-01, 2.64488518e-01],\n",
              "       [6.52170926e-02, 7.64222682e-01, 1.70560241e-01],\n",
              "       [9.04208422e-02, 7.27022469e-01, 1.82556674e-01],\n",
              "       [4.84909862e-01, 4.61512417e-01, 5.35777137e-02],\n",
              "       [8.22020695e-02, 7.11053073e-01, 2.06744879e-01],\n",
              "       [1.72071770e-01, 4.86120254e-01, 3.41807932e-01],\n",
              "       [4.70423400e-02, 2.95085013e-01, 6.57872617e-01],\n",
              "       [8.10792804e-01, 5.94630390e-02, 1.29744157e-01],\n",
              "       [3.01554886e-04, 9.98985112e-01, 7.13300309e-04],\n",
              "       [1.01132452e-01, 6.34379029e-01, 2.64488518e-01],\n",
              "       [2.50672252e-04, 1.45482525e-04, 9.99603808e-01],\n",
              "       [1.01132452e-01, 6.34379029e-01, 2.64488518e-01],\n",
              "       [4.78357412e-02, 1.42407373e-01, 8.09756815e-01],\n",
              "       [3.11846048e-01, 3.34245354e-01, 3.53908539e-01],\n",
              "       [2.29399540e-02, 2.28418852e-03, 9.74775851e-01],\n",
              "       [1.01132452e-01, 6.34379029e-01, 2.64488518e-01],\n",
              "       [3.38763654e-01, 3.07732373e-02, 6.30463123e-01],\n",
              "       [1.33145437e-01, 7.97666073e-01, 6.91884831e-02],\n",
              "       [3.03192176e-02, 9.50250685e-01, 1.94300171e-02],\n",
              "       [4.79274303e-01, 1.02259487e-01, 4.18466181e-01],\n",
              "       [5.51627129e-02, 8.00571978e-01, 1.44265309e-01],\n",
              "       [8.63344133e-01, 8.23646411e-03, 1.28419444e-01],\n",
              "       [1.78957004e-02, 1.51707940e-02, 9.66933429e-01],\n",
              "       [6.66047037e-02, 5.49286753e-02, 8.78466666e-01],\n",
              "       [6.52170926e-02, 7.64222682e-01, 1.70560241e-01],\n",
              "       [1.17371436e-02, 9.38839912e-01, 4.94229384e-02],\n",
              "       [1.00952543e-01, 1.54821768e-01, 7.44225740e-01],\n",
              "       [4.90692817e-02, 5.11399627e-01, 4.39531147e-01],\n",
              "       [1.01132452e-01, 6.34379029e-01, 2.64488518e-01],\n",
              "       [7.49396086e-01, 3.61374803e-02, 2.14466453e-01],\n",
              "       [1.70795873e-01, 3.82527053e-01, 4.46677089e-01],\n",
              "       [3.72963236e-03, 4.46319347e-03, 9.91807163e-01],\n",
              "       [5.77665493e-02, 1.21917807e-01, 8.20315599e-01],\n",
              "       [2.13764864e-03, 5.58185112e-03, 9.92280483e-01],\n",
              "       [1.01132452e-01, 6.34379029e-01, 2.64488518e-01],\n",
              "       [6.73106536e-02, 7.56653905e-01, 1.76035464e-01],\n",
              "       [4.22882091e-04, 1.05259754e-03, 9.98524487e-01],\n",
              "       [7.66885504e-02, 4.01384741e-01, 5.21926761e-01],\n",
              "       [2.98363417e-02, 8.66438746e-01, 1.03724860e-01],\n",
              "       [4.78357412e-02, 1.42407373e-01, 8.09756815e-01],\n",
              "       [8.33544612e-01, 1.61274672e-01, 5.18070674e-03],\n",
              "       [2.25848779e-02, 8.57762456e-01, 1.19652681e-01],\n",
              "       [4.72362339e-02, 7.70651579e-01, 1.82112202e-01],\n",
              "       [2.33985074e-02, 9.15408134e-01, 6.11933917e-02],\n",
              "       [1.13674082e-01, 5.89037657e-01, 2.97288269e-01],\n",
              "       [1.01132452e-01, 6.34379029e-01, 2.64488518e-01],\n",
              "       [1.01132452e-01, 6.34379029e-01, 2.64488518e-01],\n",
              "       [1.01132452e-01, 6.34379029e-01, 2.64488518e-01],\n",
              "       [9.85429063e-02, 4.04030293e-01, 4.97426778e-01],\n",
              "       [1.01132452e-01, 6.34379029e-01, 2.64488518e-01],\n",
              "       [2.21249256e-02, 1.38784215e-01, 8.39090884e-01],\n",
              "       [6.12219907e-02, 3.84030461e-01, 5.54747581e-01],\n",
              "       [1.01132452e-01, 6.34379029e-01, 2.64488518e-01],\n",
              "       [1.01132452e-01, 6.34379029e-01, 2.64488518e-01],\n",
              "       [2.72172242e-02, 7.73930430e-01, 1.98852301e-01],\n",
              "       [1.01132452e-01, 6.34379029e-01, 2.64488518e-01],\n",
              "       [3.45867909e-02, 8.74959469e-01, 9.04537514e-02],\n",
              "       [1.01132452e-01, 6.34379029e-01, 2.64488518e-01],\n",
              "       [1.01132452e-01, 6.34379029e-01, 2.64488518e-01],\n",
              "       [1.01132452e-01, 6.34379029e-01, 2.64488518e-01],\n",
              "       [1.49814747e-02, 4.17017251e-01, 5.68001211e-01],\n",
              "       [1.50520936e-01, 4.55826402e-01, 3.93652707e-01],\n",
              "       [2.58579515e-02, 8.37148905e-01, 1.36993125e-01],\n",
              "       [1.56299651e-01, 7.39372849e-01, 1.04327485e-01],\n",
              "       [2.92179555e-01, 5.93993962e-01, 1.13826476e-01],\n",
              "       [1.01132452e-01, 6.34379029e-01, 2.64488518e-01],\n",
              "       [1.11667486e-03, 1.79533428e-03, 9.97088015e-01],\n",
              "       [7.91079104e-02, 7.14003623e-01, 2.06888452e-01],\n",
              "       [1.16091847e-01, 5.80296814e-01, 3.03611368e-01],\n",
              "       [1.01132452e-01, 6.34379029e-01, 2.64488518e-01],\n",
              "       [1.71214913e-03, 3.24600027e-04, 9.97963309e-01],\n",
              "       [1.70795873e-01, 3.82527053e-01, 4.46677089e-01],\n",
              "       [6.63791597e-01, 3.32082778e-01, 4.12564585e-03],\n",
              "       [2.86538064e-01, 3.99455249e-01, 3.14006686e-01],\n",
              "       [1.73654947e-02, 1.76340491e-01, 8.06294024e-01],\n",
              "       [6.60172582e-01, 3.19955498e-01, 1.98719725e-02],\n",
              "       [4.90692817e-02, 5.11399627e-01, 4.39531147e-01],\n",
              "       [2.73568090e-02, 8.77538323e-01, 9.51048806e-02],\n",
              "       [1.95014179e-01, 5.40147908e-02, 7.50971079e-01],\n",
              "       [1.01132452e-01, 6.34379029e-01, 2.64488518e-01]], dtype=float32)"
            ]
          },
          "metadata": {
            "tags": []
          },
          "execution_count": 75
        }
      ]
    },
    {
      "cell_type": "code",
      "metadata": {
        "id": "Xj2bJDxP1qp5",
        "colab_type": "code",
        "colab": {
          "base_uri": "https://localhost:8080/",
          "height": 34
        },
        "outputId": "bf19854f-e9d5-4d7a-e2e2-3fb896a1ec67"
      },
      "source": [
        "xgb_tfidf=xgb_tfidf[:,1]>=0.3\n",
        "\n",
        "# converting the results to integer type\n",
        "xgb_int_tfidf=xgb_tfidf.astype(np.int)\n",
        "\n",
        "# calculating f1 score\n",
        "score=f1_score(y_valid_tfidf,xgb_int_tfidf,average='micro')\n",
        "\n",
        "score"
      ],
      "execution_count": 76,
      "outputs": [
        {
          "output_type": "execute_result",
          "data": {
            "text/plain": [
              "0.3157894736842105"
            ]
          },
          "metadata": {
            "tags": []
          },
          "execution_count": 76
        }
      ]
    },
    {
      "cell_type": "code",
      "metadata": {
        "id": "sc8Ve5lp1-Hk",
        "colab_type": "code",
        "colab": {
          "base_uri": "https://localhost:8080/",
          "height": 168
        },
        "outputId": "12d3f7d5-6c61-40c4-eb27-3de3a32114ff"
      },
      "source": [
        "#support vector machine\n",
        "from sklearn.calibration import CalibratedClassifierCV\n",
        "from sklearn.svm import SVC\n",
        "from sklearn.svm import LinearSVC, SVC\n",
        "from numpy import *\n",
        "svm = SVC(gamma='auto')\n",
        "model_svc = LinearSVC()\n",
        "svm = CalibratedClassifierCV(model_svc) \n",
        "svm.fit(x_train_bow,y_train_bow)"
      ],
      "execution_count": 77,
      "outputs": [
        {
          "output_type": "execute_result",
          "data": {
            "text/plain": [
              "CalibratedClassifierCV(base_estimator=LinearSVC(C=1.0, class_weight=None,\n",
              "                                                dual=True, fit_intercept=True,\n",
              "                                                intercept_scaling=1,\n",
              "                                                loss='squared_hinge',\n",
              "                                                max_iter=1000,\n",
              "                                                multi_class='ovr', penalty='l2',\n",
              "                                                random_state=None, tol=0.0001,\n",
              "                                                verbose=0),\n",
              "                       cv=None, method='sigmoid')"
            ]
          },
          "metadata": {
            "tags": []
          },
          "execution_count": 77
        }
      ]
    },
    {
      "cell_type": "code",
      "metadata": {
        "id": "Lhb_3FcMtmSN",
        "colab_type": "code",
        "colab": {}
      },
      "source": [
        "# แก้ปัญฆา predict_proba ไม่ได้ เนื่องจาก probability=False\n",
        "import pickle\n",
        "filename = 'linearSVC.sav'\n",
        "#pickle.dump(model, open(filename, 'wb'))"
      ],
      "execution_count": 0,
      "outputs": []
    },
    {
      "cell_type": "code",
      "metadata": {
        "id": "HzVzDywZrH5p",
        "colab_type": "code",
        "colab": {
          "base_uri": "https://localhost:8080/",
          "height": 1000
        },
        "outputId": "9af17965-1409-4bb7-92f4-d3345f2dc7bb"
      },
      "source": [
        "svm = pickle.load(open(filename, 'rb'))\n",
        "svm_bow = svm.predict_proba(x_valid_bow)\n",
        "\n",
        "svm_bow"
      ],
      "execution_count": 80,
      "outputs": [
        {
          "output_type": "execute_result",
          "data": {
            "text/plain": [
              "array([[0.12176618, 0.05954643, 0.81868739],\n",
              "       [0.09046632, 0.53282723, 0.37670646],\n",
              "       [0.10574564, 0.53379444, 0.36045992],\n",
              "       [0.09248576, 0.69328484, 0.21422941],\n",
              "       [0.11498188, 0.37921507, 0.50580306],\n",
              "       [0.13115745, 0.55963676, 0.30920579],\n",
              "       [0.49107393, 0.13654026, 0.37238581],\n",
              "       [0.03590201, 0.27870561, 0.68539238],\n",
              "       [0.22211226, 0.07894409, 0.69894365],\n",
              "       [0.20287946, 0.43773036, 0.35939018],\n",
              "       [0.20825518, 0.33037988, 0.46136495],\n",
              "       [0.34390631, 0.51199013, 0.14410355],\n",
              "       [0.18862329, 0.55684049, 0.25453622],\n",
              "       [0.10270195, 0.30561774, 0.59168031],\n",
              "       [0.07648186, 0.66177866, 0.26173949],\n",
              "       [0.14444688, 0.56930481, 0.28624831],\n",
              "       [0.11572223, 0.68791066, 0.19636711],\n",
              "       [0.07599256, 0.66040681, 0.26360063],\n",
              "       [0.07419012, 0.78962945, 0.13618043],\n",
              "       [0.25198052, 0.56479806, 0.18322142],\n",
              "       [0.45986867, 0.37821606, 0.16191527],\n",
              "       [0.1317552 , 0.390326  , 0.4779188 ],\n",
              "       [0.18418079, 0.32800858, 0.48781062],\n",
              "       [0.11865932, 0.64034837, 0.24099231],\n",
              "       [0.14444688, 0.56930481, 0.28624831],\n",
              "       [0.02197176, 0.03582249, 0.94220575],\n",
              "       [0.32986589, 0.46743457, 0.20269955],\n",
              "       [0.2025393 , 0.55443506, 0.24302565],\n",
              "       [0.1028197 , 0.4449133 , 0.45226699],\n",
              "       [0.10993957, 0.01493445, 0.87512597],\n",
              "       [0.51508165, 0.33986374, 0.14505461],\n",
              "       [0.25722613, 0.08777737, 0.6549965 ],\n",
              "       [0.07174698, 0.41241694, 0.51583608],\n",
              "       [0.13656449, 0.48303378, 0.38040174],\n",
              "       [0.0844598 , 0.13349976, 0.78204044],\n",
              "       [0.13635828, 0.59006667, 0.27357505],\n",
              "       [0.04910173, 0.10444252, 0.84645576],\n",
              "       [0.21267617, 0.36033213, 0.4269917 ],\n",
              "       [0.27877385, 0.21767358, 0.50355257],\n",
              "       [0.18171754, 0.43584128, 0.38244119],\n",
              "       [0.07462907, 0.65106757, 0.27430336],\n",
              "       [0.07561094, 0.28159917, 0.64278989],\n",
              "       [0.1253072 , 0.25158928, 0.62310351],\n",
              "       [0.20314291, 0.56096106, 0.23589603],\n",
              "       [0.33726812, 0.36807495, 0.29465693],\n",
              "       [0.16426293, 0.18267967, 0.6530574 ],\n",
              "       [0.12408181, 0.02808568, 0.8478325 ],\n",
              "       [0.14412816, 0.20525664, 0.6506152 ],\n",
              "       [0.02368702, 0.23963235, 0.73668063],\n",
              "       [0.14444688, 0.56930481, 0.28624831],\n",
              "       [0.10388652, 0.69029862, 0.20581486],\n",
              "       [0.13664883, 0.0739316 , 0.78941957],\n",
              "       [0.04494381, 0.35929697, 0.59575923],\n",
              "       [0.23224035, 0.37662241, 0.39113724],\n",
              "       [0.13441628, 0.49908205, 0.36650168],\n",
              "       [0.18867309, 0.5288499 , 0.28247701],\n",
              "       [0.06011792, 0.70970682, 0.23017526],\n",
              "       [0.05718317, 0.26959094, 0.67322589],\n",
              "       [0.0601856 , 0.61540026, 0.32441415],\n",
              "       [0.22452723, 0.3629629 , 0.41250987],\n",
              "       [0.31027208, 0.42162015, 0.26810777],\n",
              "       [0.3540201 , 0.49501441, 0.15096549],\n",
              "       [0.14444688, 0.56930481, 0.28624831],\n",
              "       [0.12505091, 0.25194594, 0.62300315],\n",
              "       [0.13893527, 0.60089821, 0.26016652],\n",
              "       [0.15781598, 0.24410157, 0.59808245],\n",
              "       [0.09116122, 0.49449709, 0.4143417 ],\n",
              "       [0.13172953, 0.63106887, 0.2372016 ],\n",
              "       [0.09484201, 0.71763026, 0.18752773],\n",
              "       [0.10646491, 0.56826111, 0.32527398],\n",
              "       [0.24746605, 0.43076711, 0.32176684],\n",
              "       [0.09502272, 0.72174398, 0.1832333 ],\n",
              "       [0.39966679, 0.191821  , 0.4085122 ],\n",
              "       [0.11083346, 0.43136516, 0.45780138],\n",
              "       [0.16468981, 0.63143575, 0.20387444],\n",
              "       [0.13163786, 0.61830666, 0.25005548],\n",
              "       [0.34168522, 0.28355173, 0.37476305],\n",
              "       [0.07893928, 0.1863127 , 0.73474802],\n",
              "       [0.39110194, 0.29074725, 0.31815081],\n",
              "       [0.4719039 , 0.24804225, 0.28005386],\n",
              "       [0.14444688, 0.56930481, 0.28624831],\n",
              "       [0.05274586, 0.09706159, 0.85019255],\n",
              "       [0.19918103, 0.35933063, 0.44148835],\n",
              "       [0.27545161, 0.31429671, 0.41025168],\n",
              "       [0.11762137, 0.64047172, 0.24190691],\n",
              "       [0.07629887, 0.03244789, 0.89125324],\n",
              "       [0.21194442, 0.39655931, 0.39149627],\n",
              "       [0.11948259, 0.57658355, 0.30393386],\n",
              "       [0.17137593, 0.33817523, 0.49044884],\n",
              "       [0.15018693, 0.61160784, 0.23820523],\n",
              "       [0.22558303, 0.40560492, 0.36881205],\n",
              "       [0.07998936, 0.51416116, 0.40584948],\n",
              "       [0.13108174, 0.35282157, 0.5160967 ],\n",
              "       [0.3410888 , 0.15273588, 0.50617532],\n",
              "       [0.09145074, 0.6158438 , 0.29270546]])"
            ]
          },
          "metadata": {
            "tags": []
          },
          "execution_count": 80
        }
      ]
    },
    {
      "cell_type": "code",
      "metadata": {
        "id": "fKyLGJ5WsE9O",
        "colab_type": "code",
        "colab": {
          "base_uri": "https://localhost:8080/",
          "height": 34
        },
        "outputId": "34758dcb-f42d-4a39-83d1-871812eb819a"
      },
      "source": [
        "svm_bow=svm_bow[:,1]>=0.3\n",
        "# converting the results to integer type\n",
        "svm_int_bow=svm_bow.astype(np.int)\n",
        "# calculating f1 score\n",
        "svm_score_bow=f1_score(y_valid_bow,svm_int_bow,average='micro')\n",
        "\n",
        "svm_score_bow"
      ],
      "execution_count": 81,
      "outputs": [
        {
          "output_type": "execute_result",
          "data": {
            "text/plain": [
              "0.3684210526315789"
            ]
          },
          "metadata": {
            "tags": []
          },
          "execution_count": 81
        }
      ]
    },
    {
      "cell_type": "code",
      "metadata": {
        "id": "Rq45WSvtsG4H",
        "colab_type": "code",
        "colab": {
          "base_uri": "https://localhost:8080/",
          "height": 1000
        },
        "outputId": "e86aea09-9a4f-4873-d9a6-46cd250ddab7"
      },
      "source": [
        "svm.fit(x_train_tfidf,y_train_tfidf)\n",
        "svm_tfidf = svm.predict_proba(x_valid_tfidf)\n",
        "\n",
        "svm_tfidf"
      ],
      "execution_count": 82,
      "outputs": [
        {
          "output_type": "execute_result",
          "data": {
            "text/plain": [
              "array([[0.15258197, 0.16988056, 0.67753747],\n",
              "       [0.06675371, 0.48240198, 0.45084431],\n",
              "       [0.09184619, 0.4146573 , 0.49349651],\n",
              "       [0.10531987, 0.65214985, 0.24253028],\n",
              "       [0.12923095, 0.37366521, 0.49710384],\n",
              "       [0.10762642, 0.52005303, 0.37232055],\n",
              "       [0.52283042, 0.06731752, 0.40985206],\n",
              "       [0.03659968, 0.28690564, 0.67649468],\n",
              "       [0.24210853, 0.07073184, 0.68715963],\n",
              "       [0.12273404, 0.40601661, 0.47124935],\n",
              "       [0.14031557, 0.26847712, 0.5912073 ],\n",
              "       [0.36385984, 0.47216871, 0.16397145],\n",
              "       [0.22974366, 0.54317066, 0.22708568],\n",
              "       [0.09411022, 0.3705903 , 0.53529948],\n",
              "       [0.05376937, 0.61776255, 0.32846808],\n",
              "       [0.12489208, 0.57799767, 0.29711024],\n",
              "       [0.09013512, 0.74194978, 0.1679151 ],\n",
              "       [0.07132354, 0.66733431, 0.26134215],\n",
              "       [0.07211592, 0.78716558, 0.1407185 ],\n",
              "       [0.22899095, 0.59910677, 0.17190228],\n",
              "       [0.42207621, 0.4164793 , 0.16144449],\n",
              "       [0.14800335, 0.32074299, 0.53125365],\n",
              "       [0.13822408, 0.30135659, 0.56041933],\n",
              "       [0.09697001, 0.76137743, 0.14165256],\n",
              "       [0.12489208, 0.57799767, 0.29711024],\n",
              "       [0.03813427, 0.1183454 , 0.84352033],\n",
              "       [0.43183694, 0.40217738, 0.16598568],\n",
              "       [0.19882291, 0.56982203, 0.23135506],\n",
              "       [0.11791114, 0.46623057, 0.41585829],\n",
              "       [0.10562814, 0.04900866, 0.8453632 ],\n",
              "       [0.67041872, 0.22678773, 0.10279355],\n",
              "       [0.18774189, 0.17078563, 0.64147248],\n",
              "       [0.071727  , 0.41454503, 0.51372797],\n",
              "       [0.10315718, 0.55001362, 0.3468292 ],\n",
              "       [0.13247149, 0.28328382, 0.58424469],\n",
              "       [0.10436707, 0.66655694, 0.22907599],\n",
              "       [0.05923989, 0.2186084 , 0.72215171],\n",
              "       [0.2299744 , 0.38119527, 0.38883033],\n",
              "       [0.26453984, 0.27463079, 0.46082936],\n",
              "       [0.18190283, 0.49237432, 0.32572285],\n",
              "       [0.05620229, 0.70383321, 0.2399645 ],\n",
              "       [0.14380744, 0.30894049, 0.54725207],\n",
              "       [0.10929659, 0.17219534, 0.71850808],\n",
              "       [0.14150202, 0.60607858, 0.2524194 ],\n",
              "       [0.27388637, 0.49956094, 0.2265527 ],\n",
              "       [0.10648894, 0.23890471, 0.65460635],\n",
              "       [0.11111683, 0.05732121, 0.83156196],\n",
              "       [0.14288434, 0.13189593, 0.72521973],\n",
              "       [0.02390992, 0.21749025, 0.75859983],\n",
              "       [0.12489208, 0.57799767, 0.29711024],\n",
              "       [0.07367715, 0.7828104 , 0.14351245],\n",
              "       [0.15307377, 0.06577181, 0.78115443],\n",
              "       [0.04349481, 0.22763528, 0.72886991],\n",
              "       [0.18480823, 0.39693645, 0.41825533],\n",
              "       [0.11617346, 0.43318781, 0.45063873],\n",
              "       [0.1684208 , 0.58027189, 0.25130732],\n",
              "       [0.05152095, 0.74067111, 0.20780795],\n",
              "       [0.05981056, 0.36387505, 0.57631438],\n",
              "       [0.04053628, 0.4842159 , 0.47524782],\n",
              "       [0.14527757, 0.39651178, 0.45821065],\n",
              "       [0.48565729, 0.26137012, 0.25297259],\n",
              "       [0.41477052, 0.4835064 , 0.10172308],\n",
              "       [0.11940361, 0.51042636, 0.37017003],\n",
              "       [0.11648208, 0.14018093, 0.74333698],\n",
              "       [0.10520126, 0.68910381, 0.20569493],\n",
              "       [0.11789018, 0.2394382 , 0.64267162],\n",
              "       [0.07094739, 0.46198174, 0.46707087],\n",
              "       [0.10172662, 0.61794801, 0.28032538],\n",
              "       [0.08574168, 0.7336566 , 0.18060172],\n",
              "       [0.07877199, 0.59907184, 0.32215617],\n",
              "       [0.22320532, 0.33069932, 0.44609536],\n",
              "       [0.09635297, 0.74667111, 0.15697593],\n",
              "       [0.39005706, 0.24158879, 0.36835415],\n",
              "       [0.08609962, 0.41625329, 0.49764709],\n",
              "       [0.15426994, 0.59756339, 0.24816667],\n",
              "       [0.12757532, 0.58686447, 0.28556021],\n",
              "       [0.40012061, 0.22994629, 0.3699331 ],\n",
              "       [0.08792785, 0.19624576, 0.71582639],\n",
              "       [0.32047745, 0.39002814, 0.28949441],\n",
              "       [0.43514082, 0.33158095, 0.23327823],\n",
              "       [0.12489208, 0.57799767, 0.29711024],\n",
              "       [0.04856031, 0.10094281, 0.85049687],\n",
              "       [0.15062103, 0.27941573, 0.56996324],\n",
              "       [0.20188218, 0.20347214, 0.59464568],\n",
              "       [0.08836211, 0.70862019, 0.20301769],\n",
              "       [0.093766  , 0.05151178, 0.85472222],\n",
              "       [0.11278835, 0.41289683, 0.47431482],\n",
              "       [0.12416817, 0.64691616, 0.22891568],\n",
              "       [0.126231  , 0.30928554, 0.56448345],\n",
              "       [0.1958521 , 0.48708201, 0.31706589],\n",
              "       [0.18396148, 0.56056108, 0.25547744],\n",
              "       [0.05937448, 0.48091047, 0.45971504],\n",
              "       [0.13326678, 0.39800442, 0.46872879],\n",
              "       [0.33458592, 0.2306098 , 0.43480428],\n",
              "       [0.07279361, 0.56529908, 0.36190731]])"
            ]
          },
          "metadata": {
            "tags": []
          },
          "execution_count": 82
        }
      ]
    },
    {
      "cell_type": "code",
      "metadata": {
        "id": "EPEALyUrsOfl",
        "colab_type": "code",
        "colab": {
          "base_uri": "https://localhost:8080/",
          "height": 34
        },
        "outputId": "ae4eb49f-a0a1-4adc-ab1e-6f2cbda3c9bf"
      },
      "source": [
        "svm_tfidf=svm_tfidf[:,1]>=0.3\n",
        "\n",
        "# converting the results to integer type\n",
        "svm_int_tfidf=svm_tfidf.astype(np.int)\n",
        "\n",
        "# calculating f1 score\n",
        "svm_score_tfidf=f1_score(y_valid_tfidf,svm_int_tfidf,average='micro')\n",
        "\n",
        "svm_score_tfidf"
      ],
      "execution_count": 83,
      "outputs": [
        {
          "output_type": "execute_result",
          "data": {
            "text/plain": [
              "0.3368421052631579"
            ]
          },
          "metadata": {
            "tags": []
          },
          "execution_count": 83
        }
      ]
    },
    {
      "cell_type": "markdown",
      "metadata": {
        "id": "oCJPLZkA4xIk",
        "colab_type": "text"
      },
      "source": [
        "**Model Comparison**"
      ]
    },
    {
      "cell_type": "code",
      "metadata": {
        "id": "RCNWUQkW4uNy",
        "colab_type": "code",
        "colab": {
          "base_uri": "https://localhost:8080/",
          "height": 106
        },
        "outputId": "4fd02b51-bc20-4e70-c6c3-d26927cae2e5"
      },
      "source": [
        "# Bag-of-Words\n",
        "Algo_1 = ['NeuralNetwork(Bag-of-Words)','XGBoost(Bag-of-Words)','support vector machine(Bag-of-Words)']\n",
        "\n",
        "score_1 = [log_bow,xgb_bow,svm_score_bow]\n",
        "\n",
        "compare_1 = pd.DataFrame({'Model':Algo_1,'F1_Score':score_1},index=[i for i in range(1,4)])\n",
        "\n",
        "compare_1.T"
      ],
      "execution_count": 84,
      "outputs": [
        {
          "output_type": "execute_result",
          "data": {
            "text/html": [
              "<div>\n",
              "<style scoped>\n",
              "    .dataframe tbody tr th:only-of-type {\n",
              "        vertical-align: middle;\n",
              "    }\n",
              "\n",
              "    .dataframe tbody tr th {\n",
              "        vertical-align: top;\n",
              "    }\n",
              "\n",
              "    .dataframe thead th {\n",
              "        text-align: right;\n",
              "    }\n",
              "</style>\n",
              "<table border=\"1\" class=\"dataframe\">\n",
              "  <thead>\n",
              "    <tr style=\"text-align: right;\">\n",
              "      <th></th>\n",
              "      <th>1</th>\n",
              "      <th>2</th>\n",
              "      <th>3</th>\n",
              "    </tr>\n",
              "  </thead>\n",
              "  <tbody>\n",
              "    <tr>\n",
              "      <th>Model</th>\n",
              "      <td>NeuralNetwork(Bag-of-Words)</td>\n",
              "      <td>XGBoost(Bag-of-Words)</td>\n",
              "      <td>support vector machine(Bag-of-Words)</td>\n",
              "    </tr>\n",
              "    <tr>\n",
              "      <th>F1_Score</th>\n",
              "      <td>0.294737</td>\n",
              "      <td>0.315789</td>\n",
              "      <td>0.368421</td>\n",
              "    </tr>\n",
              "  </tbody>\n",
              "</table>\n",
              "</div>"
            ],
            "text/plain": [
              "                                    1  ...                                     3\n",
              "Model     NeuralNetwork(Bag-of-Words)  ...  support vector machine(Bag-of-Words)\n",
              "F1_Score                     0.294737  ...                              0.368421\n",
              "\n",
              "[2 rows x 3 columns]"
            ]
          },
          "metadata": {
            "tags": []
          },
          "execution_count": 84
        }
      ]
    },
    {
      "cell_type": "code",
      "metadata": {
        "id": "V7ygyr0C5Nb3",
        "colab_type": "code",
        "colab": {
          "base_uri": "https://localhost:8080/",
          "height": 106
        },
        "outputId": "a922b636-8c15-48b8-c9fb-1c4fe10be385"
      },
      "source": [
        "# TF-IDF\n",
        "Algo_2 = ['NeuralNetwork(TF-IDF)','XGBoost(TF-IDF)','support vector machine(TF-IDF)']\n",
        "\n",
        "score_2 = [log_tfidf,score,svm_score_tfidf]\n",
        "\n",
        "compare_2 = pd.DataFrame({'Model':Algo_2,'F1_Score':score_2},index=[i for i in range(1,4)])\n",
        "\n",
        "compare_2.T"
      ],
      "execution_count": 85,
      "outputs": [
        {
          "output_type": "execute_result",
          "data": {
            "text/html": [
              "<div>\n",
              "<style scoped>\n",
              "    .dataframe tbody tr th:only-of-type {\n",
              "        vertical-align: middle;\n",
              "    }\n",
              "\n",
              "    .dataframe tbody tr th {\n",
              "        vertical-align: top;\n",
              "    }\n",
              "\n",
              "    .dataframe thead th {\n",
              "        text-align: right;\n",
              "    }\n",
              "</style>\n",
              "<table border=\"1\" class=\"dataframe\">\n",
              "  <thead>\n",
              "    <tr style=\"text-align: right;\">\n",
              "      <th></th>\n",
              "      <th>1</th>\n",
              "      <th>2</th>\n",
              "      <th>3</th>\n",
              "    </tr>\n",
              "  </thead>\n",
              "  <tbody>\n",
              "    <tr>\n",
              "      <th>Model</th>\n",
              "      <td>NeuralNetwork(TF-IDF)</td>\n",
              "      <td>XGBoost(TF-IDF)</td>\n",
              "      <td>support vector machine(TF-IDF)</td>\n",
              "    </tr>\n",
              "    <tr>\n",
              "      <th>F1_Score</th>\n",
              "      <td>0.294737</td>\n",
              "      <td>0.315789</td>\n",
              "      <td>0.336842</td>\n",
              "    </tr>\n",
              "  </tbody>\n",
              "</table>\n",
              "</div>"
            ],
            "text/plain": [
              "                              1  ...                               3\n",
              "Model     NeuralNetwork(TF-IDF)  ...  support vector machine(TF-IDF)\n",
              "F1_Score               0.294737  ...                        0.336842\n",
              "\n",
              "[2 rows x 3 columns]"
            ]
          },
          "metadata": {
            "tags": []
          },
          "execution_count": 85
        }
      ]
    },
    {
      "cell_type": "markdown",
      "metadata": {
        "id": "Hk_7rfiF5iO0",
        "colab_type": "text"
      },
      "source": [
        "Evaluating the model"
      ]
    },
    {
      "cell_type": "code",
      "metadata": {
        "id": "43FKcsQl5dxQ",
        "colab_type": "code",
        "colab": {}
      },
      "source": [
        "from sklearn.metrics import confusion_matrix, classification_report, accuracy_score"
      ],
      "execution_count": 0,
      "outputs": []
    },
    {
      "cell_type": "code",
      "metadata": {
        "id": "SDecLcjz5k5i",
        "colab_type": "code",
        "colab": {
          "base_uri": "https://localhost:8080/",
          "height": 218
        },
        "outputId": "dbbe9206-7a7f-4ff4-88b2-4671272103a5"
      },
      "source": [
        "print (y_valid_bow)"
      ],
      "execution_count": 87,
      "outputs": [
        {
          "output_type": "stream",
          "text": [
            "65     2\n",
            "314    1\n",
            "150    2\n",
            "158    0\n",
            "108    2\n",
            "      ..\n",
            "209    0\n",
            "89     1\n",
            "206    1\n",
            "27     2\n",
            "166    0\n",
            "Name: sentiments, Length: 95, dtype: int64\n"
          ],
          "name": "stdout"
        }
      ]
    },
    {
      "cell_type": "code",
      "metadata": {
        "id": "5EyMjfZt5mfa",
        "colab_type": "code",
        "colab": {
          "base_uri": "https://localhost:8080/",
          "height": 218
        },
        "outputId": "22d04af9-5d61-40a3-e552-323f3808debf"
      },
      "source": [
        "print (y_valid_tfidf)"
      ],
      "execution_count": 88,
      "outputs": [
        {
          "output_type": "stream",
          "text": [
            "65     2\n",
            "314    1\n",
            "150    2\n",
            "158    0\n",
            "108    2\n",
            "      ..\n",
            "209    0\n",
            "89     1\n",
            "206    1\n",
            "27     2\n",
            "166    0\n",
            "Name: sentiments, Length: 95, dtype: int64\n"
          ],
          "name": "stdout"
        }
      ]
    },
    {
      "cell_type": "markdown",
      "metadata": {
        "id": "s-JWeqqY5vPH",
        "colab_type": "text"
      },
      "source": [
        "Comparison Graph"
      ]
    },
    {
      "cell_type": "code",
      "metadata": {
        "id": "pwK38Lzp5qSm",
        "colab_type": "code",
        "colab": {
          "base_uri": "https://localhost:8080/",
          "height": 350
        },
        "outputId": "c20f3501-ca46-4d03-f266-2e18e8837486"
      },
      "source": [
        "# Bag-of-Words\n",
        "import seaborn as sns\n",
        "plt.figure(figsize=(18,5))\n",
        "\n",
        "sns.pointplot(x='Model',y='F1_Score',data=compare_1)\n",
        "\n",
        "plt.title('Bag-of-Words')\n",
        "plt.xlabel('MODEL')\n",
        "plt.ylabel('SCORE')\n",
        "\n",
        "plt.show()"
      ],
      "execution_count": 89,
      "outputs": [
        {
          "output_type": "display_data",
          "data": {
            "image/png": "[encoded data removed]",
            "text/plain": [
              "<Figure size 1296x360 with 1 Axes>"
            ]
          },
          "metadata": {
            "tags": [],
            "needs_background": "light"
          }
        }
      ]
    },
    {
      "cell_type": "code",
      "metadata": {
        "id": "1vwluQpx52Gt",
        "colab_type": "code",
        "colab": {
          "base_uri": "https://localhost:8080/",
          "height": 350
        },
        "outputId": "b48cfe20-08e2-496c-e613-f37f3cc711a0"
      },
      "source": [
        "# TF-IDF\n",
        "plt.figure(figsize=(18,5))\n",
        "\n",
        "sns.pointplot(x='Model',y='F1_Score',data=compare_2)\n",
        "\n",
        "plt.title('TF-IDF')\n",
        "plt.xlabel('MODEL')\n",
        "plt.ylabel('SCORE')\n",
        "\n",
        "plt.show()"
      ],
      "execution_count": 90,
      "outputs": [
        {
          "output_type": "display_data",
          "data": {
            "image/png": "[encoded data removed]",
            "text/plain": [
              "<Figure size 1296x360 with 1 Axes>"
            ]
          },
          "metadata": {
            "tags": [],
            "needs_background": "light"
          }
        }
      ]
    },
    {
      "cell_type": "code",
      "metadata": {
        "id": "Tm45Xlbg6Ian",
        "colab_type": "code",
        "colab": {}
      },
      "source": [
        ""
      ],
      "execution_count": 0,
      "outputs": []
    },
    {
      "cell_type": "code",
      "metadata": {
        "id": "5yE3LIU_6IWJ",
        "colab_type": "code",
        "colab": {}
      },
      "source": [
        ""
      ],
      "execution_count": 0,
      "outputs": []
    }
  ]
}