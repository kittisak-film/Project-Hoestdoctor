{
  "nbformat": 4,
  "nbformat_minor": 0,
  "metadata": {
    "colab": {
      "name": "Sentiment_Analysis_Project_Bangkok-Hospital.ipynb",
      "provenance": [],
      "collapsed_sections": []
    },
    "kernelspec": {
      "name": "python3",
      "display_name": "Python 3"
    }
  },
  "cells": [
    {
      "cell_type": "code",
      "metadata": {
        "id": "SBMNrOu92uaD",
        "colab_type": "code",
        "outputId": "da7ceb40-a3c9-4f23-e7b9-0d76ae4a01e6",
        "colab": {
          "base_uri": "https://localhost:8080/",
          "height": 652
        }
      },
      "source": [
        "!pip install googletrans\n",
        "!pip install tqdm --upgrade\n",
        "!pip install twython"
      ],
      "execution_count": 1,
      "outputs": [
        {
          "output_type": "stream",
          "text": [
            "Collecting googletrans\n",
            "  Downloading https://files.pythonhosted.org/packages/fd/f0/a22d41d3846d1f46a4f20086141e0428ccc9c6d644aacbfd30990cf46886/googletrans-2.4.0.tar.gz\n",
            "Requirement already satisfied: requests in /usr/local/lib/python3.6/dist-packages (from googletrans) (2.21.0)\n",
            "Requirement already satisfied: chardet<3.1.0,>=3.0.2 in /usr/local/lib/python3.6/dist-packages (from requests->googletrans) (3.0.4)\n",
            "Requirement already satisfied: urllib3<1.25,>=1.21.1 in /usr/local/lib/python3.6/dist-packages (from requests->googletrans) (1.24.3)\n",
            "Requirement already satisfied: certifi>=2017.4.17 in /usr/local/lib/python3.6/dist-packages (from requests->googletrans) (2019.11.28)\n",
            "Requirement already satisfied: idna<2.9,>=2.5 in /usr/local/lib/python3.6/dist-packages (from requests->googletrans) (2.8)\n",
            "Building wheels for collected packages: googletrans\n",
            "  Building wheel for googletrans (setup.py) ... \u001b[?25l\u001b[?25hdone\n",
            "  Created wheel for googletrans: filename=googletrans-2.4.0-cp36-none-any.whl size=15777 sha256=0354fe4a4c0f25ea7a4538b2cb4443e51176eb17e05ce7cc902b725b7d6965a2\n",
            "  Stored in directory: /root/.cache/pip/wheels/50/d6/e7/a8efd5f2427d5eb258070048718fa56ee5ac57fd6f53505f95\n",
            "Successfully built googletrans\n",
            "Installing collected packages: googletrans\n",
            "Successfully installed googletrans-2.4.0\n",
            "Collecting tqdm\n",
            "\u001b[?25l  Downloading https://files.pythonhosted.org/packages/4a/1c/6359be64e8301b84160f6f6f7936bbfaaa5e9a4eab6cbc681db07600b949/tqdm-4.45.0-py2.py3-none-any.whl (60kB)\n",
            "\u001b[K     |████████████████████████████████| 61kB 1.9MB/s \n",
            "\u001b[?25hInstalling collected packages: tqdm\n",
            "  Found existing installation: tqdm 4.38.0\n",
            "    Uninstalling tqdm-4.38.0:\n",
            "      Successfully uninstalled tqdm-4.38.0\n",
            "Successfully installed tqdm-4.45.0\n"
          ],
          "name": "stdout"
        },
        {
          "output_type": "display_data",
          "data": {
            "application/vnd.colab-display-data+json": {
              "pip_warning": {
                "packages": [
                  "tqdm"
                ]
              }
            }
          },
          "metadata": {
            "tags": []
          }
        },
        {
          "output_type": "stream",
          "text": [
            "Collecting twython\n",
            "  Downloading https://files.pythonhosted.org/packages/24/80/579b96dfaa9b536efde883d4f0df7ea2598a6f3117a6dd572787f4a2bcfb/twython-3.8.2-py3-none-any.whl\n",
            "Requirement already satisfied: requests-oauthlib>=0.4.0 in /usr/local/lib/python3.6/dist-packages (from twython) (1.3.0)\n",
            "Requirement already satisfied: requests>=2.1.0 in /usr/local/lib/python3.6/dist-packages (from twython) (2.21.0)\n",
            "Requirement already satisfied: oauthlib>=3.0.0 in /usr/local/lib/python3.6/dist-packages (from requests-oauthlib>=0.4.0->twython) (3.1.0)\n",
            "Requirement already satisfied: idna<2.9,>=2.5 in /usr/local/lib/python3.6/dist-packages (from requests>=2.1.0->twython) (2.8)\n",
            "Requirement already satisfied: chardet<3.1.0,>=3.0.2 in /usr/local/lib/python3.6/dist-packages (from requests>=2.1.0->twython) (3.0.4)\n",
            "Requirement already satisfied: certifi>=2017.4.17 in /usr/local/lib/python3.6/dist-packages (from requests>=2.1.0->twython) (2019.11.28)\n",
            "Requirement already satisfied: urllib3<1.25,>=1.21.1 in /usr/local/lib/python3.6/dist-packages (from requests>=2.1.0->twython) (1.24.3)\n",
            "Installing collected packages: twython\n",
            "Successfully installed twython-3.8.2\n"
          ],
          "name": "stdout"
        }
      ]
    },
    {
      "cell_type": "code",
      "metadata": {
        "id": "TBpchuK83Nkn",
        "colab_type": "code",
        "colab": {}
      },
      "source": [
        "# web scraping\n",
        "import requests\n",
        "from bs4 import BeautifulSoup\n",
        "from time import time, sleep\n",
        "from random import randint\n",
        "\n",
        "# Translation\n",
        "from googletrans import Translator\n",
        "\n",
        "# Utilities\n",
        "from tqdm import tqdm\n",
        "from tqdm import tqdm_notebook\n",
        "import numpy as np\n",
        "import pandas as pd\n",
        "\n",
        "# NLP\n",
        "from nltk import sent_tokenize, word_tokenize, pos_tag, RegexpParser\n",
        "from nltk.sentiment.vader import SentimentIntensityAnalyzer\n",
        "from nltk.sentiment.util import mark_negation"
      ],
      "execution_count": 0,
      "outputs": []
    },
    {
      "cell_type": "code",
      "metadata": {
        "id": "ha56xLRj3N0b",
        "colab_type": "code",
        "outputId": "f4854aa9-2631-41fe-f6d2-631557c11ba1",
        "colab": {
          "base_uri": "https://localhost:8080/",
          "height": 133
        }
      },
      "source": [
        "# Download resources\n",
        "import nltk\n",
        "\n",
        "nltk.download(\"punkt\")\n",
        "nltk.download(\"vader_lexicon\")\n",
        "nltk.download('averaged_perceptron_tagger')"
      ],
      "execution_count": 3,
      "outputs": [
        {
          "output_type": "stream",
          "text": [
            "[nltk_data] Downloading package punkt to /root/nltk_data...\n",
            "[nltk_data]   Unzipping tokenizers/punkt.zip.\n",
            "[nltk_data] Downloading package vader_lexicon to /root/nltk_data...\n",
            "[nltk_data] Downloading package averaged_perceptron_tagger to\n",
            "[nltk_data]     /root/nltk_data...\n",
            "[nltk_data]   Unzipping taggers/averaged_perceptron_tagger.zip.\n"
          ],
          "name": "stdout"
        },
        {
          "output_type": "execute_result",
          "data": {
            "text/plain": [
              "True"
            ]
          },
          "metadata": {
            "tags": []
          },
          "execution_count": 3
        }
      ]
    },
    {
      "cell_type": "code",
      "metadata": {
        "colab_type": "code",
        "id": "KOeMYO2E9tH3",
        "colab": {}
      },
      "source": [
        "def honestdoc_comment(url, hospitalName):\n",
        "    \"\"\"\n",
        "    This function is to scrap data from a webboard (https://www.honestdocs.com).\n",
        "\n",
        "    INPUT\n",
        "    url : String\n",
        "      URL of the target website\n",
        "    \n",
        "    OUTPUT\n",
        "    comment : List\n",
        "      List of comments\n",
        "    score : List\n",
        "      List of rating score\n",
        "    \"\"\"\n",
        "    #create connection\n",
        "    data = requests.get(url)\n",
        "    print(\"requests code : {}\".format(data.status_code)) \n",
        "    print(\"note\\n2xx: success\\n4xx, 5xx: error\")\n",
        "    \n",
        "    #scrape comment and score\n",
        "    start_time = time() #start scraping data from page1\n",
        "    r = requests.get(url, params=dict(query=\"web scraping\",page=1)) \n",
        "    soup = BeautifulSoup(r.text,\"html.parser\")\n",
        "    n = len(soup.find_all(\"div\",{\"class\":\"comments__content\"})) #find n of items in the page\n",
        "    \n",
        "    #extract each item\n",
        "    comment = [soup.find_all(\"div\",\n",
        "                             {\"class\":\"comments__content\"})[i].get_text().strip() for i in range(0,n)]\n",
        "    score = [soup.find_all(\"span\",\n",
        "                           {\"class\":\"stars star-rating\"})[i].attrs[\"data-score\"] for i in range(0,n)]\n",
        "    elapsed_time = time() - start_time #finish scraping data from page1\n",
        "    print(\"Time used for scraping data from page - 1 : {} s\".format(elapsed_time))\n",
        "    sleep(randint(1,3)) #mimic human behavior\n",
        "           \n",
        "    p = 2 #start scraping data from page2\n",
        "    while n > 0: #until the number of items in a page = 0\n",
        "        start_time = time() \n",
        "        r = requests.get(url, params=dict(query=\"web scraping\",page=p))\n",
        "        soup = BeautifulSoup(r.text,\"html.parser\")\n",
        "        n = len(soup.find_all(\"div\",{\"class\":\"comments__content\"}))\n",
        "        [comment.append(soup.find_all(\"div\",\n",
        "                                      {\"class\":\"comments__content\"})[i].get_text().strip()) for i in range(0,n)]\n",
        "        [score.append(soup.find_all(\"span\",\n",
        "                                    {\"class\":\"stars star-rating\"})[i].attrs[\"data-score\"]) for i in range(0,n)]\n",
        "        elapsed_time = time() - start_time\n",
        "        print(\"Time used for scraping data from page - {} : {} s\".format(p, elapsed_time))\n",
        "        p +=1\n",
        "        sleep(randint(1,3))\n",
        "\n",
        "    df = pd.DataFrame({\"comment\": comment, \n",
        "              \"score\": score\n",
        "              })\n",
        "    \n",
        "    df[\"hospital\"] = hospitalName\n",
        "    \n",
        "    return df"
      ],
      "execution_count": 0,
      "outputs": []
    },
    {
      "cell_type": "code",
      "metadata": {
        "id": "mIQGmz5O9uQt",
        "colab_type": "code",
        "outputId": "7d95b002-1213-453d-ff6d-f2e14ae4723d",
        "colab": {
          "base_uri": "https://localhost:8080/",
          "height": 1000
        }
      },
      "source": [
        "df = honestdoc_comment(r\"https://www.honestdocs.co/hospitals/bangkok-hospital\", \"Bangkok Hospitol\")\n",
        "comments = df"
      ],
      "execution_count": 29,
      "outputs": [
        {
          "output_type": "stream",
          "text": [
            "requests code : 200\n",
            "note\n",
            "2xx: success\n",
            "4xx, 5xx: error\n",
            "Time used for scraping data from page - 1 : 1.3008418083190918 s\n",
            "Time used for scraping data from page - 2 : 1.30714750289917 s\n",
            "Time used for scraping data from page - 3 : 1.2254467010498047 s\n",
            "Time used for scraping data from page - 4 : 1.2697639465332031 s\n",
            "Time used for scraping data from page - 5 : 1.278280258178711 s\n",
            "Time used for scraping data from page - 6 : 1.2924602031707764 s\n",
            "Time used for scraping data from page - 7 : 1.2392418384552002 s\n",
            "Time used for scraping data from page - 8 : 1.230116367340088 s\n",
            "Time used for scraping data from page - 9 : 1.2355177402496338 s\n",
            "Time used for scraping data from page - 10 : 1.2190451622009277 s\n",
            "Time used for scraping data from page - 11 : 1.3553252220153809 s\n",
            "Time used for scraping data from page - 12 : 1.243926763534546 s\n",
            "Time used for scraping data from page - 13 : 1.4381260871887207 s\n",
            "Time used for scraping data from page - 14 : 1.281968355178833 s\n",
            "Time used for scraping data from page - 15 : 1.239570140838623 s\n",
            "Time used for scraping data from page - 16 : 1.229715347290039 s\n",
            "Time used for scraping data from page - 17 : 1.2473199367523193 s\n",
            "Time used for scraping data from page - 18 : 1.2324862480163574 s\n",
            "Time used for scraping data from page - 19 : 1.297102689743042 s\n",
            "Time used for scraping data from page - 20 : 1.2202520370483398 s\n",
            "Time used for scraping data from page - 21 : 1.2889373302459717 s\n",
            "Time used for scraping data from page - 22 : 1.2421448230743408 s\n",
            "Time used for scraping data from page - 23 : 1.231443166732788 s\n",
            "Time used for scraping data from page - 24 : 1.2155492305755615 s\n",
            "Time used for scraping data from page - 25 : 1.2184453010559082 s\n",
            "Time used for scraping data from page - 26 : 1.220536231994629 s\n",
            "Time used for scraping data from page - 27 : 1.3326144218444824 s\n",
            "Time used for scraping data from page - 28 : 1.2204346656799316 s\n",
            "Time used for scraping data from page - 29 : 1.229034185409546 s\n",
            "Time used for scraping data from page - 30 : 1.220092535018921 s\n",
            "Time used for scraping data from page - 31 : 1.3240087032318115 s\n",
            "Time used for scraping data from page - 32 : 1.2355499267578125 s\n",
            "Time used for scraping data from page - 33 : 1.224931001663208 s\n",
            "Time used for scraping data from page - 34 : 1.2322204113006592 s\n",
            "Time used for scraping data from page - 35 : 1.3401784896850586 s\n",
            "Time used for scraping data from page - 36 : 1.2172000408172607 s\n",
            "Time used for scraping data from page - 37 : 1.2534005641937256 s\n",
            "Time used for scraping data from page - 38 : 1.2407684326171875 s\n",
            "Time used for scraping data from page - 39 : 1.221472978591919 s\n",
            "Time used for scraping data from page - 40 : 1.2184126377105713 s\n",
            "Time used for scraping data from page - 41 : 1.2340505123138428 s\n",
            "Time used for scraping data from page - 42 : 1.228804588317871 s\n",
            "Time used for scraping data from page - 43 : 1.2308845520019531 s\n",
            "Time used for scraping data from page - 44 : 1.246403455734253 s\n",
            "Time used for scraping data from page - 45 : 1.238133430480957 s\n",
            "Time used for scraping data from page - 46 : 1.2350785732269287 s\n",
            "Time used for scraping data from page - 47 : 1.2403414249420166 s\n",
            "Time used for scraping data from page - 48 : 1.2435669898986816 s\n",
            "Time used for scraping data from page - 49 : 1.2173893451690674 s\n",
            "Time used for scraping data from page - 50 : 1.2196125984191895 s\n",
            "Time used for scraping data from page - 51 : 1.2390308380126953 s\n",
            "Time used for scraping data from page - 52 : 1.2306511402130127 s\n",
            "Time used for scraping data from page - 53 : 1.2331349849700928 s\n",
            "Time used for scraping data from page - 54 : 1.230780839920044 s\n",
            "Time used for scraping data from page - 55 : 1.2246592044830322 s\n",
            "Time used for scraping data from page - 56 : 1.2285151481628418 s\n",
            "Time used for scraping data from page - 57 : 1.3555850982666016 s\n",
            "Time used for scraping data from page - 58 : 1.2217588424682617 s\n",
            "Time used for scraping data from page - 59 : 1.2377879619598389 s\n",
            "Time used for scraping data from page - 60 : 1.2243494987487793 s\n",
            "Time used for scraping data from page - 61 : 1.2623791694641113 s\n",
            "Time used for scraping data from page - 62 : 1.220517873764038 s\n",
            "Time used for scraping data from page - 63 : 1.2249279022216797 s\n",
            "Time used for scraping data from page - 64 : 1.2377126216888428 s\n",
            "Time used for scraping data from page - 65 : 1.2364659309387207 s\n",
            "Time used for scraping data from page - 66 : 1.2240302562713623 s\n",
            "Time used for scraping data from page - 67 : 1.226320743560791 s\n",
            "Time used for scraping data from page - 68 : 1.2419593334197998 s\n",
            "Time used for scraping data from page - 69 : 1.2387616634368896 s\n",
            "Time used for scraping data from page - 70 : 1.219961166381836 s\n",
            "Time used for scraping data from page - 71 : 1.2249059677124023 s\n",
            "Time used for scraping data from page - 72 : 1.2354004383087158 s\n",
            "Time used for scraping data from page - 73 : 1.2213690280914307 s\n",
            "Time used for scraping data from page - 74 : 1.3671586513519287 s\n",
            "Time used for scraping data from page - 75 : 1.2227590084075928 s\n",
            "Time used for scraping data from page - 76 : 1.2321946620941162 s\n",
            "Time used for scraping data from page - 77 : 1.2310385704040527 s\n",
            "Time used for scraping data from page - 78 : 1.252640962600708 s\n",
            "Time used for scraping data from page - 79 : 1.3296985626220703 s\n",
            "Time used for scraping data from page - 80 : 1.2241272926330566 s\n",
            "Time used for scraping data from page - 81 : 1.2100231647491455 s\n",
            "Time used for scraping data from page - 82 : 0.9708976745605469 s\n"
          ],
          "name": "stdout"
        }
      ]
    },
    {
      "cell_type": "code",
      "metadata": {
        "id": "ht0JMHSKiccX",
        "colab_type": "code",
        "outputId": "689bc7d2-6c84-4a7d-c4f8-ae216cb859d0",
        "colab": {
          "base_uri": "https://localhost:8080/",
          "height": 33
        }
      },
      "source": [
        "comments.shape"
      ],
      "execution_count": 11,
      "outputs": [
        {
          "output_type": "execute_result",
          "data": {
            "text/plain": [
              "(241, 3)"
            ]
          },
          "metadata": {
            "tags": []
          },
          "execution_count": 11
        }
      ]
    },
    {
      "cell_type": "code",
      "metadata": {
        "id": "wuJuPj5zdAIv",
        "colab_type": "code",
        "colab": {}
      },
      "source": [
        "def th2en(comment):\n",
        "  try:\n",
        "    textTrans = Translator().translate(comment, src=\"th\", dest=\"en\").text\n",
        "  except:\n",
        "    textTrans = \"\"\n",
        "    print(\"\\n Can not translate \" + comment)\n",
        "\n",
        "  return textTrans"
      ],
      "execution_count": 0,
      "outputs": []
    },
    {
      "cell_type": "code",
      "metadata": {
        "id": "ZbyeP7ZNPb2e",
        "colab_type": "code",
        "outputId": "01a68590-6fa9-4a62-9790-85fcb2641bb2",
        "colab": {
          "base_uri": "https://localhost:8080/",
          "height": 33
        }
      },
      "source": [
        "tqdm.pandas()\n",
        "comments[\"en\"] = comments.progress_apply(lambda x: th2en(x[\"comment\"]), axis=1)"
      ],
      "execution_count": 47,
      "outputs": [
        {
          "output_type": "stream",
          "text": [
            "100%|██████████| 241/241 [00:34<00:00,  7.06it/s]\n"
          ],
          "name": "stderr"
        }
      ]
    },
    {
      "cell_type": "code",
      "metadata": {
        "id": "2xTMgHY8if55",
        "colab_type": "code",
        "outputId": "f7dea422-4810-426c-b605-fd04723b3e18",
        "colab": {
          "base_uri": "https://localhost:8080/",
          "height": 33
        }
      },
      "source": [
        "comments.shape"
      ],
      "execution_count": 32,
      "outputs": [
        {
          "output_type": "execute_result",
          "data": {
            "text/plain": [
              "(241, 3)"
            ]
          },
          "metadata": {
            "tags": []
          },
          "execution_count": 32
        }
      ]
    },
    {
      "cell_type": "code",
      "metadata": {
        "id": "KGbyAy_YGQ4h",
        "colab_type": "code",
        "outputId": "2d82870d-23b6-4ada-d3db-de4ed897b5bc",
        "colab": {
          "base_uri": "https://localhost:8080/",
          "height": 50
        }
      },
      "source": [
        "comments[\"hospital\"].value_counts()"
      ],
      "execution_count": 31,
      "outputs": [
        {
          "output_type": "execute_result",
          "data": {
            "text/plain": [
              "Bangkok Hospitol    241\n",
              "Name: hospital, dtype: int64"
            ]
          },
          "metadata": {
            "tags": []
          },
          "execution_count": 31
        }
      ]
    },
    {
      "cell_type": "code",
      "metadata": {
        "id": "EfpKeXlqFqfU",
        "colab_type": "code",
        "outputId": "832ba97c-4f7d-4f8d-98ea-b50a369309d8",
        "colab": {
          "base_uri": "https://localhost:8080/",
          "height": 197
        }
      },
      "source": [
        "comments.head()"
      ],
      "execution_count": 23,
      "outputs": [
        {
          "output_type": "execute_result",
          "data": {
            "text/html": [
              "<div>\n",
              "<style scoped>\n",
              "    .dataframe tbody tr th:only-of-type {\n",
              "        vertical-align: middle;\n",
              "    }\n",
              "\n",
              "    .dataframe tbody tr th {\n",
              "        vertical-align: top;\n",
              "    }\n",
              "\n",
              "    .dataframe thead th {\n",
              "        text-align: right;\n",
              "    }\n",
              "</style>\n",
              "<table border=\"1\" class=\"dataframe\">\n",
              "  <thead>\n",
              "    <tr style=\"text-align: right;\">\n",
              "      <th></th>\n",
              "      <th>comment</th>\n",
              "      <th>score</th>\n",
              "      <th>hospital</th>\n",
              "      <th>en</th>\n",
              "    </tr>\n",
              "  </thead>\n",
              "  <tbody>\n",
              "    <tr>\n",
              "      <th>0</th>\n",
              "      <td>คุณหมอที่แผนกอายุรกรรมเป็นกันเอง วินิจฉัยถูกโร...</td>\n",
              "      <td>4</td>\n",
              "      <td>bangkok-hospital</td>\n",
              "      <td>Doctor of Medicine at the front friendly. The ...</td>\n",
              "    </tr>\n",
              "    <tr>\n",
              "      <th>1</th>\n",
              "      <td>เคยไปรักษาตัวอยู่ที่แผนกจิตรักษ์ แผนกดูแลเรื่อ...</td>\n",
              "      <td>5</td>\n",
              "      <td>bangkok-hospital</td>\n",
              "      <td>Been to maintain the spiritual care department...</td>\n",
              "    </tr>\n",
              "    <tr>\n",
              "      <th>2</th>\n",
              "      <td>บริการดีมาก รวดเร็ว พาแขกคนจีนไปก็มีล่ามจีนแปล...</td>\n",
              "      <td>3</td>\n",
              "      <td>bangkok-hospital</td>\n",
              "      <td>Very quick service takes guests to the Chinese...</td>\n",
              "    </tr>\n",
              "    <tr>\n",
              "      <th>3</th>\n",
              "      <td>มีการบริการดี คุณหมอมีความรู้ความสามารถมาก และ...</td>\n",
              "      <td>4</td>\n",
              "      <td>bangkok-hospital</td>\n",
              "      <td>A good service You are very knowledgeable. May...</td>\n",
              "    </tr>\n",
              "    <tr>\n",
              "      <th>4</th>\n",
              "      <td>บริการดีมากชัดเจนดีพยาบาลก็พูดดีบุคลากรพูดดีหม...</td>\n",
              "      <td>5</td>\n",
              "      <td>bangkok-hospital</td>\n",
              "      <td>Service very good, clear medical personnel say...</td>\n",
              "    </tr>\n",
              "  </tbody>\n",
              "</table>\n",
              "</div>"
            ],
            "text/plain": [
              "                                             comment  ...                                                 en\n",
              "0  คุณหมอที่แผนกอายุรกรรมเป็นกันเอง วินิจฉัยถูกโร...  ...  Doctor of Medicine at the front friendly. The ...\n",
              "1  เคยไปรักษาตัวอยู่ที่แผนกจิตรักษ์ แผนกดูแลเรื่อ...  ...  Been to maintain the spiritual care department...\n",
              "2  บริการดีมาก รวดเร็ว พาแขกคนจีนไปก็มีล่ามจีนแปล...  ...  Very quick service takes guests to the Chinese...\n",
              "3  มีการบริการดี คุณหมอมีความรู้ความสามารถมาก และ...  ...  A good service You are very knowledgeable. May...\n",
              "4  บริการดีมากชัดเจนดีพยาบาลก็พูดดีบุคลากรพูดดีหม...  ...  Service very good, clear medical personnel say...\n",
              "\n",
              "[5 rows x 4 columns]"
            ]
          },
          "metadata": {
            "tags": []
          },
          "execution_count": 23
        }
      ]
    },
    {
      "cell_type": "code",
      "metadata": {
        "id": "M78gON4_0YCE",
        "colab_type": "code",
        "outputId": "29df8432-fcba-430f-ecaf-84b86c53c47a",
        "colab": {
          "base_uri": "https://localhost:8080/",
          "height": 33
        }
      },
      "source": [
        "from google.colab import drive\n",
        "drive.mount('/content/gdrive')\n",
        "\n",
        "import os\n",
        "os.chdir('/content/gdrive/My Drive/DS532')"
      ],
      "execution_count": 48,
      "outputs": [
        {
          "output_type": "stream",
          "text": [
            "Drive already mounted at /content/gdrive; to attempt to forcibly remount, call drive.mount(\"/content/gdrive\", force_remount=True).\n"
          ],
          "name": "stdout"
        }
      ]
    },
    {
      "cell_type": "code",
      "metadata": {
        "id": "meMpw-5pz5z-",
        "colab_type": "code",
        "colab": {}
      },
      "source": [
        "#backup data \n",
        "comments.to_csv(\"comment_bangkok-hospital.csv\", index=False)"
      ],
      "execution_count": 0,
      "outputs": []
    },
    {
      "cell_type": "code",
      "metadata": {
        "id": "OoEWJH9p0VXl",
        "colab_type": "code",
        "colab": {}
      },
      "source": [
        "comments = pd.read_csv(\"comment_bangkok-hospital.csv\")"
      ],
      "execution_count": 0,
      "outputs": []
    },
    {
      "cell_type": "code",
      "metadata": {
        "id": "qoZyAuhNiXbU",
        "colab_type": "code",
        "colab": {}
      },
      "source": [
        "def sent_level_polarity(df, target):\n",
        "  sentences = []\n",
        "  scores = []\n",
        "  hospitals = []\n",
        "  cids = []\n",
        "  for i in df.index:\n",
        "    en = df.loc[i, target]\n",
        "    score = df.loc[i, \"score\"]\n",
        "    hospital = df.loc[i, \"hospital\"]\n",
        "    s = sent_tokenize(en)\n",
        "    sentences = sentences + s\n",
        "    scores = scores + [score]*len(s)\n",
        "    hospitals = hospitals + [hospital]*len(s)\n",
        "    cids = cids + [i]*len(s)\n",
        "  return pd.DataFrame({\"cid\": cids\n",
        "                       , \"sentences\": sentences\n",
        "                       , \"scores\": scores\n",
        "                       , \"hospital\": hospitals})"
      ],
      "execution_count": 0,
      "outputs": []
    },
    {
      "cell_type": "code",
      "metadata": {
        "id": "Ptt6ALGrq2O5",
        "colab_type": "code",
        "colab": {}
      },
      "source": [
        "def predict_sentiment(sentence):\n",
        "  sa = SentimentIntensityAnalyzer()\n",
        "  sentiment_distribution = sa.polarity_scores(sentence)\n",
        "  score = sentiment_distribution.get(\"compound\")\n",
        "  \n",
        "  if score >= 0.05:\n",
        "    return \"positive\"\n",
        "  elif score <= -0.05:\n",
        "    return \"negative\"\n",
        "  else:\n",
        "    return \"neutral\""
      ],
      "execution_count": 0,
      "outputs": []
    },
    {
      "cell_type": "code",
      "metadata": {
        "id": "ffUvj66uq4f_",
        "colab_type": "code",
        "colab": {}
      },
      "source": [
        "data = sent_level_polarity(df=comments, target=\"en\")\n",
        "data[\"sentiment_polarity\"] = data[\"sentences\"].apply(lambda x: predict_sentiment(x))"
      ],
      "execution_count": 0,
      "outputs": []
    },
    {
      "cell_type": "code",
      "metadata": {
        "id": "d8UH9Nfvq5cP",
        "colab_type": "code",
        "outputId": "7004589f-71b9-4fe9-cb87-074acc24a500",
        "colab": {
          "base_uri": "https://localhost:8080/",
          "height": 33
        }
      },
      "source": [
        "data.shape"
      ],
      "execution_count": 55,
      "outputs": [
        {
          "output_type": "execute_result",
          "data": {
            "text/plain": [
              "(759, 5)"
            ]
          },
          "metadata": {
            "tags": []
          },
          "execution_count": 55
        }
      ]
    },
    {
      "cell_type": "code",
      "metadata": {
        "id": "vEm2_jaaq6Bu",
        "colab_type": "code",
        "outputId": "027521b7-b63a-48fc-d135-67fb52a4b47a",
        "colab": {
          "base_uri": "https://localhost:8080/",
          "height": 197
        }
      },
      "source": [
        "data.head()"
      ],
      "execution_count": 56,
      "outputs": [
        {
          "output_type": "execute_result",
          "data": {
            "text/html": [
              "<div>\n",
              "<style scoped>\n",
              "    .dataframe tbody tr th:only-of-type {\n",
              "        vertical-align: middle;\n",
              "    }\n",
              "\n",
              "    .dataframe tbody tr th {\n",
              "        vertical-align: top;\n",
              "    }\n",
              "\n",
              "    .dataframe thead th {\n",
              "        text-align: right;\n",
              "    }\n",
              "</style>\n",
              "<table border=\"1\" class=\"dataframe\">\n",
              "  <thead>\n",
              "    <tr style=\"text-align: right;\">\n",
              "      <th></th>\n",
              "      <th>cid</th>\n",
              "      <th>sentences</th>\n",
              "      <th>scores</th>\n",
              "      <th>hospital</th>\n",
              "      <th>sentiment_polarity</th>\n",
              "    </tr>\n",
              "  </thead>\n",
              "  <tbody>\n",
              "    <tr>\n",
              "      <th>0</th>\n",
              "      <td>0</td>\n",
              "      <td>Doctor of Medicine at the front friendly.</td>\n",
              "      <td>4</td>\n",
              "      <td>Bangkok Hospitol</td>\n",
              "      <td>positive</td>\n",
              "    </tr>\n",
              "    <tr>\n",
              "      <th>1</th>\n",
              "      <td>0</td>\n",
              "      <td>The disease is diagnosed quickly Doctor explai...</td>\n",
              "      <td>4</td>\n",
              "      <td>Bangkok Hospitol</td>\n",
              "      <td>positive</td>\n",
              "    </tr>\n",
              "    <tr>\n",
              "      <th>2</th>\n",
              "      <td>0</td>\n",
              "      <td>Waited a long time coming, but if the patient ...</td>\n",
              "      <td>4</td>\n",
              "      <td>Bangkok Hospitol</td>\n",
              "      <td>negative</td>\n",
              "    </tr>\n",
              "    <tr>\n",
              "      <th>3</th>\n",
              "      <td>0</td>\n",
              "      <td>Overall, then it's hard.</td>\n",
              "      <td>4</td>\n",
              "      <td>Bangkok Hospitol</td>\n",
              "      <td>negative</td>\n",
              "    </tr>\n",
              "    <tr>\n",
              "      <th>4</th>\n",
              "      <td>0</td>\n",
              "      <td>Quick and easy good for people who do not want...</td>\n",
              "      <td>4</td>\n",
              "      <td>Bangkok Hospitol</td>\n",
              "      <td>positive</td>\n",
              "    </tr>\n",
              "  </tbody>\n",
              "</table>\n",
              "</div>"
            ],
            "text/plain": [
              "   cid  ... sentiment_polarity\n",
              "0    0  ...           positive\n",
              "1    0  ...           positive\n",
              "2    0  ...           negative\n",
              "3    0  ...           negative\n",
              "4    0  ...           positive\n",
              "\n",
              "[5 rows x 5 columns]"
            ]
          },
          "metadata": {
            "tags": []
          },
          "execution_count": 56
        }
      ]
    },
    {
      "cell_type": "markdown",
      "metadata": {
        "id": "J-3OOU4kvPNZ",
        "colab_type": "text"
      },
      "source": [
        "**Exclude Neutral**\n",
        "\n",
        "Neutral comments will be excluded."
      ]
    },
    {
      "cell_type": "code",
      "metadata": {
        "id": "atKnlLw8vIAi",
        "colab_type": "code",
        "colab": {}
      },
      "source": [
        "data = data[data[\"sentiment_polarity\"] != \"neutral\"].reset_index(drop=True)"
      ],
      "execution_count": 0,
      "outputs": []
    },
    {
      "cell_type": "code",
      "metadata": {
        "id": "pTvUs44TvXte",
        "colab_type": "code",
        "outputId": "4fa30cd0-7f64-49aa-ee0e-d8e637dd9f6f",
        "colab": {
          "base_uri": "https://localhost:8080/",
          "height": 33
        }
      },
      "source": [
        "data.shape"
      ],
      "execution_count": 58,
      "outputs": [
        {
          "output_type": "execute_result",
          "data": {
            "text/plain": [
              "(471, 5)"
            ]
          },
          "metadata": {
            "tags": []
          },
          "execution_count": 58
        }
      ]
    },
    {
      "cell_type": "code",
      "metadata": {
        "id": "RgTEOZMjvXeA",
        "colab_type": "code",
        "outputId": "0a3d5709-1f44-41c0-e360-883ffdbe71d1",
        "colab": {
          "base_uri": "https://localhost:8080/",
          "height": 197
        }
      },
      "source": [
        "data.head()"
      ],
      "execution_count": 59,
      "outputs": [
        {
          "output_type": "execute_result",
          "data": {
            "text/html": [
              "<div>\n",
              "<style scoped>\n",
              "    .dataframe tbody tr th:only-of-type {\n",
              "        vertical-align: middle;\n",
              "    }\n",
              "\n",
              "    .dataframe tbody tr th {\n",
              "        vertical-align: top;\n",
              "    }\n",
              "\n",
              "    .dataframe thead th {\n",
              "        text-align: right;\n",
              "    }\n",
              "</style>\n",
              "<table border=\"1\" class=\"dataframe\">\n",
              "  <thead>\n",
              "    <tr style=\"text-align: right;\">\n",
              "      <th></th>\n",
              "      <th>cid</th>\n",
              "      <th>sentences</th>\n",
              "      <th>scores</th>\n",
              "      <th>hospital</th>\n",
              "      <th>sentiment_polarity</th>\n",
              "    </tr>\n",
              "  </thead>\n",
              "  <tbody>\n",
              "    <tr>\n",
              "      <th>0</th>\n",
              "      <td>0</td>\n",
              "      <td>Doctor of Medicine at the front friendly.</td>\n",
              "      <td>4</td>\n",
              "      <td>Bangkok Hospitol</td>\n",
              "      <td>positive</td>\n",
              "    </tr>\n",
              "    <tr>\n",
              "      <th>1</th>\n",
              "      <td>0</td>\n",
              "      <td>The disease is diagnosed quickly Doctor explai...</td>\n",
              "      <td>4</td>\n",
              "      <td>Bangkok Hospitol</td>\n",
              "      <td>positive</td>\n",
              "    </tr>\n",
              "    <tr>\n",
              "      <th>2</th>\n",
              "      <td>0</td>\n",
              "      <td>Waited a long time coming, but if the patient ...</td>\n",
              "      <td>4</td>\n",
              "      <td>Bangkok Hospitol</td>\n",
              "      <td>negative</td>\n",
              "    </tr>\n",
              "    <tr>\n",
              "      <th>3</th>\n",
              "      <td>0</td>\n",
              "      <td>Overall, then it's hard.</td>\n",
              "      <td>4</td>\n",
              "      <td>Bangkok Hospitol</td>\n",
              "      <td>negative</td>\n",
              "    </tr>\n",
              "    <tr>\n",
              "      <th>4</th>\n",
              "      <td>0</td>\n",
              "      <td>Quick and easy good for people who do not want...</td>\n",
              "      <td>4</td>\n",
              "      <td>Bangkok Hospitol</td>\n",
              "      <td>positive</td>\n",
              "    </tr>\n",
              "  </tbody>\n",
              "</table>\n",
              "</div>"
            ],
            "text/plain": [
              "   cid  ... sentiment_polarity\n",
              "0    0  ...           positive\n",
              "1    0  ...           positive\n",
              "2    0  ...           negative\n",
              "3    0  ...           negative\n",
              "4    0  ...           positive\n",
              "\n",
              "[5 rows x 5 columns]"
            ]
          },
          "metadata": {
            "tags": []
          },
          "execution_count": 59
        }
      ]
    },
    {
      "cell_type": "markdown",
      "metadata": {
        "id": "X8iDos4kv4if",
        "colab_type": "text"
      },
      "source": [
        "## Marking Negation  \n",
        "Negation twists sentiment polarity.  Let's mark them and twist sentiment polarity."
      ]
    },
    {
      "cell_type": "code",
      "metadata": {
        "id": "wovtnOCKv5m7",
        "colab_type": "code",
        "colab": {}
      },
      "source": [
        "data[\"neg_mark\"] = data[\"sentences\"].apply(lambda x: \" \".join(mark_negation(x.split())))"
      ],
      "execution_count": 0,
      "outputs": []
    },
    {
      "cell_type": "code",
      "metadata": {
        "id": "Pb2ZRQZKv74N",
        "colab_type": "code",
        "colab": {}
      },
      "source": [
        "data[\"flag\"] = data[\"neg_mark\"].apply(lambda x: True if \"_NEG\" in x else False)"
      ],
      "execution_count": 0,
      "outputs": []
    },
    {
      "cell_type": "code",
      "metadata": {
        "id": "o1IncMqQv-An",
        "colab_type": "code",
        "colab": {}
      },
      "source": [
        "def neg_extract(text):\n",
        "  tokens = word_tokenize(text)\n",
        "  return \" \".join([token[0:-4] if token[-4:] == \"_NEG\" else token for token in tokens])"
      ],
      "execution_count": 0,
      "outputs": []
    },
    {
      "cell_type": "code",
      "metadata": {
        "id": "BeIpmTKZv_Ou",
        "colab_type": "code",
        "colab": {}
      },
      "source": [
        "data[\"neg_words\"] = data[\"neg_mark\"].apply(lambda x: neg_extract(x))"
      ],
      "execution_count": 0,
      "outputs": []
    },
    {
      "cell_type": "code",
      "metadata": {
        "id": "aWiaZ2muwAk7",
        "colab_type": "code",
        "colab": {}
      },
      "source": [
        "data[\"post_polarity\"] = data[\"neg_words\"].apply(lambda x: predict_sentiment(x))"
      ],
      "execution_count": 0,
      "outputs": []
    },
    {
      "cell_type": "code",
      "metadata": {
        "id": "7bTnDthWwCFj",
        "colab_type": "code",
        "outputId": "2bf872f3-56d6-4acf-b78d-9b5568cc3ed1",
        "colab": {
          "base_uri": "https://localhost:8080/",
          "height": 47
        }
      },
      "source": [
        "data2 = data[data[\"sentiment_polarity\"] != data[\"post_polarity\"]].reset_index(drop=True)\n",
        "data2.head()"
      ],
      "execution_count": 65,
      "outputs": [
        {
          "output_type": "execute_result",
          "data": {
            "text/html": [
              "<div>\n",
              "<style scoped>\n",
              "    .dataframe tbody tr th:only-of-type {\n",
              "        vertical-align: middle;\n",
              "    }\n",
              "\n",
              "    .dataframe tbody tr th {\n",
              "        vertical-align: top;\n",
              "    }\n",
              "\n",
              "    .dataframe thead th {\n",
              "        text-align: right;\n",
              "    }\n",
              "</style>\n",
              "<table border=\"1\" class=\"dataframe\">\n",
              "  <thead>\n",
              "    <tr style=\"text-align: right;\">\n",
              "      <th></th>\n",
              "      <th>cid</th>\n",
              "      <th>sentences</th>\n",
              "      <th>scores</th>\n",
              "      <th>hospital</th>\n",
              "      <th>sentiment_polarity</th>\n",
              "      <th>neg_mark</th>\n",
              "      <th>flag</th>\n",
              "      <th>neg_words</th>\n",
              "      <th>post_polarity</th>\n",
              "    </tr>\n",
              "  </thead>\n",
              "  <tbody>\n",
              "  </tbody>\n",
              "</table>\n",
              "</div>"
            ],
            "text/plain": [
              "Empty DataFrame\n",
              "Columns: [cid, sentences, scores, hospital, sentiment_polarity, neg_mark, flag, neg_words, post_polarity]\n",
              "Index: []"
            ]
          },
          "metadata": {
            "tags": []
          },
          "execution_count": 65
        }
      ]
    },
    {
      "cell_type": "code",
      "metadata": {
        "id": "1th2dEUiwT-u",
        "colab_type": "code",
        "outputId": "24a789ee-213a-43d7-96e7-ef88933493ab",
        "colab": {
          "base_uri": "https://localhost:8080/",
          "height": 33
        }
      },
      "source": [
        "data.shape"
      ],
      "execution_count": 66,
      "outputs": [
        {
          "output_type": "execute_result",
          "data": {
            "text/plain": [
              "(471, 9)"
            ]
          },
          "metadata": {
            "tags": []
          },
          "execution_count": 66
        }
      ]
    },
    {
      "cell_type": "code",
      "metadata": {
        "id": "Q9a2gWbswDus",
        "colab_type": "code",
        "outputId": "488bc552-734d-43f5-d9b9-6fe9d82e998a",
        "colab": {
          "base_uri": "https://localhost:8080/",
          "height": 281
        }
      },
      "source": [
        "data.head()"
      ],
      "execution_count": 67,
      "outputs": [
        {
          "output_type": "execute_result",
          "data": {
            "text/html": [
              "<div>\n",
              "<style scoped>\n",
              "    .dataframe tbody tr th:only-of-type {\n",
              "        vertical-align: middle;\n",
              "    }\n",
              "\n",
              "    .dataframe tbody tr th {\n",
              "        vertical-align: top;\n",
              "    }\n",
              "\n",
              "    .dataframe thead th {\n",
              "        text-align: right;\n",
              "    }\n",
              "</style>\n",
              "<table border=\"1\" class=\"dataframe\">\n",
              "  <thead>\n",
              "    <tr style=\"text-align: right;\">\n",
              "      <th></th>\n",
              "      <th>cid</th>\n",
              "      <th>sentences</th>\n",
              "      <th>scores</th>\n",
              "      <th>hospital</th>\n",
              "      <th>sentiment_polarity</th>\n",
              "      <th>neg_mark</th>\n",
              "      <th>flag</th>\n",
              "      <th>neg_words</th>\n",
              "      <th>post_polarity</th>\n",
              "    </tr>\n",
              "  </thead>\n",
              "  <tbody>\n",
              "    <tr>\n",
              "      <th>0</th>\n",
              "      <td>0</td>\n",
              "      <td>Doctor of Medicine at the front friendly.</td>\n",
              "      <td>4</td>\n",
              "      <td>Bangkok Hospitol</td>\n",
              "      <td>positive</td>\n",
              "      <td>Doctor of Medicine at the front friendly.</td>\n",
              "      <td>False</td>\n",
              "      <td>Doctor of Medicine at the front friendly .</td>\n",
              "      <td>positive</td>\n",
              "    </tr>\n",
              "    <tr>\n",
              "      <th>1</th>\n",
              "      <td>0</td>\n",
              "      <td>The disease is diagnosed quickly Doctor explai...</td>\n",
              "      <td>4</td>\n",
              "      <td>Bangkok Hospitol</td>\n",
              "      <td>positive</td>\n",
              "      <td>The disease is diagnosed quickly Doctor explai...</td>\n",
              "      <td>False</td>\n",
              "      <td>The disease is diagnosed quickly Doctor explai...</td>\n",
              "      <td>positive</td>\n",
              "    </tr>\n",
              "    <tr>\n",
              "      <th>2</th>\n",
              "      <td>0</td>\n",
              "      <td>Waited a long time coming, but if the patient ...</td>\n",
              "      <td>4</td>\n",
              "      <td>Bangkok Hospitol</td>\n",
              "      <td>negative</td>\n",
              "      <td>Waited a long time coming, but if the patient ...</td>\n",
              "      <td>False</td>\n",
              "      <td>Waited a long time coming , but if the patient...</td>\n",
              "      <td>negative</td>\n",
              "    </tr>\n",
              "    <tr>\n",
              "      <th>3</th>\n",
              "      <td>0</td>\n",
              "      <td>Overall, then it's hard.</td>\n",
              "      <td>4</td>\n",
              "      <td>Bangkok Hospitol</td>\n",
              "      <td>negative</td>\n",
              "      <td>Overall, then it's hard.</td>\n",
              "      <td>False</td>\n",
              "      <td>Overall , then it 's hard .</td>\n",
              "      <td>negative</td>\n",
              "    </tr>\n",
              "    <tr>\n",
              "      <th>4</th>\n",
              "      <td>0</td>\n",
              "      <td>Quick and easy good for people who do not want...</td>\n",
              "      <td>4</td>\n",
              "      <td>Bangkok Hospitol</td>\n",
              "      <td>positive</td>\n",
              "      <td>Quick and easy good for people who do not want...</td>\n",
              "      <td>True</td>\n",
              "      <td>Quick and easy good for people who do not want...</td>\n",
              "      <td>positive</td>\n",
              "    </tr>\n",
              "  </tbody>\n",
              "</table>\n",
              "</div>"
            ],
            "text/plain": [
              "   cid  ... post_polarity\n",
              "0    0  ...      positive\n",
              "1    0  ...      positive\n",
              "2    0  ...      negative\n",
              "3    0  ...      negative\n",
              "4    0  ...      positive\n",
              "\n",
              "[5 rows x 9 columns]"
            ]
          },
          "metadata": {
            "tags": []
          },
          "execution_count": 67
        }
      ]
    },
    {
      "cell_type": "markdown",
      "metadata": {
        "id": "6sVcVCxgFUa4",
        "colab_type": "text"
      },
      "source": [
        "# Parsing"
      ]
    },
    {
      "cell_type": "code",
      "metadata": {
        "id": "K0gzmRNM9bbj",
        "colab_type": "code",
        "colab": {}
      },
      "source": [
        "grammar = \"\"\"NP: {<NN|NNS>+}\n",
        "                {<NN|NNS>+<CC><NN|NNS>+}\"\"\"\n",
        "chunker = RegexpParser(grammar)\n",
        "\n",
        "def parsing_extract(sentence):\n",
        "  parsed_tree = chunker.parse(pos_tag(word_tokenize(sentence)))\n",
        "\n",
        "  nps = []\n",
        "  for subtree in parsed_tree.subtrees():\n",
        "      if subtree.label() == 'NP':\n",
        "          t = subtree\n",
        "          t = \" \".join(word for word, tag in t.leaves())\n",
        "          nps.append(t)\n",
        "  return nps"
      ],
      "execution_count": 0,
      "outputs": []
    },
    {
      "cell_type": "code",
      "metadata": {
        "id": "giIM2ee3HZ1p",
        "colab_type": "code",
        "colab": {}
      },
      "source": [
        "data[\"NP\"] = data[\"sentences\"].apply(lambda x: parsing_extract(x))"
      ],
      "execution_count": 0,
      "outputs": []
    },
    {
      "cell_type": "code",
      "metadata": {
        "id": "GV2imiuyHlwu",
        "colab_type": "code",
        "outputId": "1cafbcc6-6b4f-433f-fdba-7d476f1697ed",
        "colab": {
          "base_uri": "https://localhost:8080/",
          "height": 33
        }
      },
      "source": [
        "data.shape"
      ],
      "execution_count": 70,
      "outputs": [
        {
          "output_type": "execute_result",
          "data": {
            "text/plain": [
              "(471, 10)"
            ]
          },
          "metadata": {
            "tags": []
          },
          "execution_count": 70
        }
      ]
    },
    {
      "cell_type": "code",
      "metadata": {
        "id": "d0dOsRWuHm1N",
        "colab_type": "code",
        "outputId": "28160724-40fe-464d-b02f-6a22d0c42893",
        "colab": {
          "base_uri": "https://localhost:8080/",
          "height": 281
        }
      },
      "source": [
        "data.head()"
      ],
      "execution_count": 71,
      "outputs": [
        {
          "output_type": "execute_result",
          "data": {
            "text/html": [
              "<div>\n",
              "<style scoped>\n",
              "    .dataframe tbody tr th:only-of-type {\n",
              "        vertical-align: middle;\n",
              "    }\n",
              "\n",
              "    .dataframe tbody tr th {\n",
              "        vertical-align: top;\n",
              "    }\n",
              "\n",
              "    .dataframe thead th {\n",
              "        text-align: right;\n",
              "    }\n",
              "</style>\n",
              "<table border=\"1\" class=\"dataframe\">\n",
              "  <thead>\n",
              "    <tr style=\"text-align: right;\">\n",
              "      <th></th>\n",
              "      <th>cid</th>\n",
              "      <th>sentences</th>\n",
              "      <th>scores</th>\n",
              "      <th>hospital</th>\n",
              "      <th>sentiment_polarity</th>\n",
              "      <th>neg_mark</th>\n",
              "      <th>flag</th>\n",
              "      <th>neg_words</th>\n",
              "      <th>post_polarity</th>\n",
              "      <th>NP</th>\n",
              "    </tr>\n",
              "  </thead>\n",
              "  <tbody>\n",
              "    <tr>\n",
              "      <th>0</th>\n",
              "      <td>0</td>\n",
              "      <td>Doctor of Medicine at the front friendly.</td>\n",
              "      <td>4</td>\n",
              "      <td>Bangkok Hospitol</td>\n",
              "      <td>positive</td>\n",
              "      <td>Doctor of Medicine at the front friendly.</td>\n",
              "      <td>False</td>\n",
              "      <td>Doctor of Medicine at the front friendly .</td>\n",
              "      <td>positive</td>\n",
              "      <td>[Doctor, front]</td>\n",
              "    </tr>\n",
              "    <tr>\n",
              "      <th>1</th>\n",
              "      <td>0</td>\n",
              "      <td>The disease is diagnosed quickly Doctor explai...</td>\n",
              "      <td>4</td>\n",
              "      <td>Bangkok Hospitol</td>\n",
              "      <td>positive</td>\n",
              "      <td>The disease is diagnosed quickly Doctor explai...</td>\n",
              "      <td>False</td>\n",
              "      <td>The disease is diagnosed quickly Doctor explai...</td>\n",
              "      <td>positive</td>\n",
              "      <td>[disease, care, employees, jar queue, patient]</td>\n",
              "    </tr>\n",
              "    <tr>\n",
              "      <th>2</th>\n",
              "      <td>0</td>\n",
              "      <td>Waited a long time coming, but if the patient ...</td>\n",
              "      <td>4</td>\n",
              "      <td>Bangkok Hospitol</td>\n",
              "      <td>negative</td>\n",
              "      <td>Waited a long time coming, but if the patient ...</td>\n",
              "      <td>False</td>\n",
              "      <td>Waited a long time coming , but if the patient...</td>\n",
              "      <td>negative</td>\n",
              "      <td>[time, patient, bit]</td>\n",
              "    </tr>\n",
              "    <tr>\n",
              "      <th>3</th>\n",
              "      <td>0</td>\n",
              "      <td>Overall, then it's hard.</td>\n",
              "      <td>4</td>\n",
              "      <td>Bangkok Hospitol</td>\n",
              "      <td>negative</td>\n",
              "      <td>Overall, then it's hard.</td>\n",
              "      <td>False</td>\n",
              "      <td>Overall , then it 's hard .</td>\n",
              "      <td>negative</td>\n",
              "      <td>[]</td>\n",
              "    </tr>\n",
              "    <tr>\n",
              "      <th>4</th>\n",
              "      <td>0</td>\n",
              "      <td>Quick and easy good for people who do not want...</td>\n",
              "      <td>4</td>\n",
              "      <td>Bangkok Hospitol</td>\n",
              "      <td>positive</td>\n",
              "      <td>Quick and easy good for people who do not want...</td>\n",
              "      <td>True</td>\n",
              "      <td>Quick and easy good for people who do not want...</td>\n",
              "      <td>positive</td>\n",
              "      <td>[people]</td>\n",
              "    </tr>\n",
              "  </tbody>\n",
              "</table>\n",
              "</div>"
            ],
            "text/plain": [
              "   cid  ...                                              NP\n",
              "0    0  ...                                 [Doctor, front]\n",
              "1    0  ...  [disease, care, employees, jar queue, patient]\n",
              "2    0  ...                            [time, patient, bit]\n",
              "3    0  ...                                              []\n",
              "4    0  ...                                        [people]\n",
              "\n",
              "[5 rows x 10 columns]"
            ]
          },
          "metadata": {
            "tags": []
          },
          "execution_count": 71
        }
      ]
    },
    {
      "cell_type": "markdown",
      "metadata": {
        "id": "1IL_r1WJPHkm",
        "colab_type": "text"
      },
      "source": [
        "# Split dataframe into positive and negative sentiment"
      ]
    },
    {
      "cell_type": "code",
      "metadata": {
        "id": "dgOYYa_fPHT8",
        "colab_type": "code",
        "colab": {}
      },
      "source": [
        "pos = data[data[\"sentiment_polarity\"] == \"positive\"].reset_index(drop=True)\n",
        "pos_words = sum(pos[\"NP\"].tolist(), [])\n",
        "pos_words = [word.lower() for word in pos_words]\n",
        "poshist = pd.DataFrame({\"words\": pos_words})\n",
        "poshist = poshist.groupby(\"words\").size().reset_index(name=\"#pos\")"
      ],
      "execution_count": 0,
      "outputs": []
    },
    {
      "cell_type": "code",
      "metadata": {
        "id": "KuKTgi5VHo55",
        "colab_type": "code",
        "outputId": "5c88cdd2-83ba-467c-f5b4-f81492e41b13",
        "colab": {
          "base_uri": "https://localhost:8080/",
          "height": 407
        }
      },
      "source": [
        "poshist.sort_values(by='#pos', ascending=False)"
      ],
      "execution_count": 73,
      "outputs": [
        {
          "output_type": "execute_result",
          "data": {
            "text/html": [
              "<div>\n",
              "<style scoped>\n",
              "    .dataframe tbody tr th:only-of-type {\n",
              "        vertical-align: middle;\n",
              "    }\n",
              "\n",
              "    .dataframe tbody tr th {\n",
              "        vertical-align: top;\n",
              "    }\n",
              "\n",
              "    .dataframe thead th {\n",
              "        text-align: right;\n",
              "    }\n",
              "</style>\n",
              "<table border=\"1\" class=\"dataframe\">\n",
              "  <thead>\n",
              "    <tr style=\"text-align: right;\">\n",
              "      <th></th>\n",
              "      <th>words</th>\n",
              "      <th>#pos</th>\n",
              "    </tr>\n",
              "  </thead>\n",
              "  <tbody>\n",
              "    <tr>\n",
              "      <th>303</th>\n",
              "      <td>service</td>\n",
              "      <td>55</td>\n",
              "    </tr>\n",
              "    <tr>\n",
              "      <th>109</th>\n",
              "      <td>doctor</td>\n",
              "      <td>45</td>\n",
              "    </tr>\n",
              "    <tr>\n",
              "      <th>55</th>\n",
              "      <td>care</td>\n",
              "      <td>35</td>\n",
              "    </tr>\n",
              "    <tr>\n",
              "      <th>177</th>\n",
              "      <td>hospital</td>\n",
              "      <td>28</td>\n",
              "    </tr>\n",
              "    <tr>\n",
              "      <th>113</th>\n",
              "      <td>doctors</td>\n",
              "      <td>26</td>\n",
              "    </tr>\n",
              "    <tr>\n",
              "      <th>...</th>\n",
              "      <td>...</td>\n",
              "      <td>...</td>\n",
              "    </tr>\n",
              "    <tr>\n",
              "      <th>141</th>\n",
              "      <td>family likes</td>\n",
              "      <td>1</td>\n",
              "    </tr>\n",
              "    <tr>\n",
              "      <th>140</th>\n",
              "      <td>family friend</td>\n",
              "      <td>1</td>\n",
              "    </tr>\n",
              "    <tr>\n",
              "      <th>139</th>\n",
              "      <td>family doctor</td>\n",
              "      <td>1</td>\n",
              "    </tr>\n",
              "    <tr>\n",
              "      <th>137</th>\n",
              "      <td>families</td>\n",
              "      <td>1</td>\n",
              "    </tr>\n",
              "    <tr>\n",
              "      <th>387</th>\n",
              "      <td>☺️</td>\n",
              "      <td>1</td>\n",
              "    </tr>\n",
              "  </tbody>\n",
              "</table>\n",
              "<p>388 rows × 2 columns</p>\n",
              "</div>"
            ],
            "text/plain": [
              "             words  #pos\n",
              "303        service    55\n",
              "109         doctor    45\n",
              "55            care    35\n",
              "177       hospital    28\n",
              "113        doctors    26\n",
              "..             ...   ...\n",
              "141   family likes     1\n",
              "140  family friend     1\n",
              "139  family doctor     1\n",
              "137       families     1\n",
              "387             ☺️     1\n",
              "\n",
              "[388 rows x 2 columns]"
            ]
          },
          "metadata": {
            "tags": []
          },
          "execution_count": 73
        }
      ]
    },
    {
      "cell_type": "code",
      "metadata": {
        "id": "2nH5FzVoQ4gP",
        "colab_type": "code",
        "colab": {}
      },
      "source": [
        "neg = data[data[\"sentiment_polarity\"] == \"negative\"].reset_index(drop=True)\n",
        "neg_words = sum(neg[\"NP\"].tolist(), [])\n",
        "neg_words = [word.lower() for word in neg_words]\n",
        "neghist = pd.DataFrame({\"words\": neg_words})\n",
        "neghist = neghist.groupby(\"words\").size().reset_index(name=\"#neg\")"
      ],
      "execution_count": 0,
      "outputs": []
    },
    {
      "cell_type": "code",
      "metadata": {
        "id": "bRWv3Ej8Q61S",
        "colab_type": "code",
        "outputId": "50ae0c19-3859-49e9-b67c-8f88b1d2ca64",
        "colab": {
          "base_uri": "https://localhost:8080/",
          "height": 407
        }
      },
      "source": [
        "neghist.sort_values(by='#neg', ascending=False)"
      ],
      "execution_count": 75,
      "outputs": [
        {
          "output_type": "execute_result",
          "data": {
            "text/html": [
              "<div>\n",
              "<style scoped>\n",
              "    .dataframe tbody tr th:only-of-type {\n",
              "        vertical-align: middle;\n",
              "    }\n",
              "\n",
              "    .dataframe tbody tr th {\n",
              "        vertical-align: top;\n",
              "    }\n",
              "\n",
              "    .dataframe thead th {\n",
              "        text-align: right;\n",
              "    }\n",
              "</style>\n",
              "<table border=\"1\" class=\"dataframe\">\n",
              "  <thead>\n",
              "    <tr style=\"text-align: right;\">\n",
              "      <th></th>\n",
              "      <th>words</th>\n",
              "      <th>#neg</th>\n",
              "    </tr>\n",
              "  </thead>\n",
              "  <tbody>\n",
              "    <tr>\n",
              "      <th>187</th>\n",
              "      <td>time</td>\n",
              "      <td>13</td>\n",
              "    </tr>\n",
              "    <tr>\n",
              "      <th>94</th>\n",
              "      <td>hospital</td>\n",
              "      <td>13</td>\n",
              "    </tr>\n",
              "    <tr>\n",
              "      <th>54</th>\n",
              "      <td>doctor</td>\n",
              "      <td>12</td>\n",
              "    </tr>\n",
              "    <tr>\n",
              "      <th>168</th>\n",
              "      <td>service</td>\n",
              "      <td>10</td>\n",
              "    </tr>\n",
              "    <tr>\n",
              "      <th>146</th>\n",
              "      <td>patients</td>\n",
              "      <td>9</td>\n",
              "    </tr>\n",
              "    <tr>\n",
              "      <th>...</th>\n",
              "      <td>...</td>\n",
              "      <td>...</td>\n",
              "    </tr>\n",
              "    <tr>\n",
              "      <th>77</th>\n",
              "      <td>failure</td>\n",
              "      <td>1</td>\n",
              "    </tr>\n",
              "    <tr>\n",
              "      <th>78</th>\n",
              "      <td>falls</td>\n",
              "      <td>1</td>\n",
              "    </tr>\n",
              "    <tr>\n",
              "      <th>79</th>\n",
              "      <td>father</td>\n",
              "      <td>1</td>\n",
              "    </tr>\n",
              "    <tr>\n",
              "      <th>80</th>\n",
              "      <td>fee</td>\n",
              "      <td>1</td>\n",
              "    </tr>\n",
              "    <tr>\n",
              "      <th>101</th>\n",
              "      <td>houses</td>\n",
              "      <td>1</td>\n",
              "    </tr>\n",
              "  </tbody>\n",
              "</table>\n",
              "<p>203 rows × 2 columns</p>\n",
              "</div>"
            ],
            "text/plain": [
              "        words  #neg\n",
              "187      time    13\n",
              "94   hospital    13\n",
              "54     doctor    12\n",
              "168   service    10\n",
              "146  patients     9\n",
              "..        ...   ...\n",
              "77    failure     1\n",
              "78      falls     1\n",
              "79     father     1\n",
              "80        fee     1\n",
              "101    houses     1\n",
              "\n",
              "[203 rows x 2 columns]"
            ]
          },
          "metadata": {
            "tags": []
          },
          "execution_count": 75
        }
      ]
    },
    {
      "cell_type": "code",
      "metadata": {
        "id": "M9Enk5CqRRAp",
        "colab_type": "code",
        "colab": {}
      },
      "source": [
        "from wordcloud import WordCloud\n",
        "import matplotlib.pyplot as plt"
      ],
      "execution_count": 0,
      "outputs": []
    },
    {
      "cell_type": "code",
      "metadata": {
        "id": "0HBaN9dURSPL",
        "colab_type": "code",
        "colab": {}
      },
      "source": [
        "def vizwordcloud(df):\n",
        "    tuples = [tuple(x) for x in df.values]\n",
        "    wordcloud = WordCloud().generate_from_frequencies(dict(tuples))\n",
        "    plt.figure()\n",
        "    plt.imshow(wordcloud, interpolation=\"bilinear\")\n",
        "    plt.axis(\"off\")\n",
        "    plt.show()"
      ],
      "execution_count": 0,
      "outputs": []
    },
    {
      "cell_type": "code",
      "metadata": {
        "id": "Z1m6FvUgRTqF",
        "colab_type": "code",
        "outputId": "c1ddebd6-5d7b-4b2e-f589-858b2e3e00a8",
        "colab": {
          "base_uri": "https://localhost:8080/",
          "height": 198
        }
      },
      "source": [
        "vizwordcloud(poshist)"
      ],
      "execution_count": 78,
      "outputs": [
        {
          "output_type": "display_data",
          "data": {
            "image/png": "[encoded data removed]",
            "text/plain": [
              "<Figure size 432x288 with 1 Axes>"
            ]
          },
          "metadata": {
            "tags": []
          }
        }
      ]
    },
    {
      "cell_type": "code",
      "metadata": {
        "id": "QnMStiOsRU84",
        "colab_type": "code",
        "outputId": "1258e1f8-8926-41b9-ab14-64f326f30e5e",
        "colab": {
          "base_uri": "https://localhost:8080/",
          "height": 198
        }
      },
      "source": [
        "vizwordcloud(neghist)"
      ],
      "execution_count": 79,
      "outputs": [
        {
          "output_type": "display_data",
          "data": {
            "image/png": "[encoded data removed]",
            "text/plain": [
              "<Figure size 432x288 with 1 Axes>"
            ]
          },
          "metadata": {
            "tags": []
          }
        }
      ]
    }
  ]
}