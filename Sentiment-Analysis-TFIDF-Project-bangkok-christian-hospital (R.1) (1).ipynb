{
  "nbformat": 4,
  "nbformat_minor": 0,
  "metadata": {
    "colab": {
      "name": "Sentiment_Analysis_TFIDF_Project_bangkok_christian_hospital.ipynb",
      "provenance": [],
      "collapsed_sections": []
    },
    "kernelspec": {
      "name": "python3",
      "display_name": "Python 3"
    },
    "widgets": {
      "application/vnd.jupyter.widget-state+json": {
        "9594ba34ebb846168bed6bbc8e5476d2": {
          "model_module": "@jupyter-widgets/controls",
          "model_name": "HBoxModel",
          "state": {
            "_view_name": "HBoxView",
            "_dom_classes": [],
            "_model_name": "HBoxModel",
            "_view_module": "@jupyter-widgets/controls",
            "_model_module_version": "1.5.0",
            "_view_count": null,
            "_view_module_version": "1.5.0",
            "box_style": "",
            "layout": "IPY_MODEL_cd125e6e508d407b9bfa4bf46c9dd3b1",
            "_model_module": "@jupyter-widgets/controls",
            "children": [
              "IPY_MODEL_24e8093b205c4f2a877363762eb795f1",
              "IPY_MODEL_d5d6e1570da4442f81864260ef9a4e30"
            ]
          }
        },
        "cd125e6e508d407b9bfa4bf46c9dd3b1": {
          "model_module": "@jupyter-widgets/base",
          "model_name": "LayoutModel",
          "state": {
            "_view_name": "LayoutView",
            "grid_template_rows": null,
            "right": null,
            "justify_content": null,
            "_view_module": "@jupyter-widgets/base",
            "overflow": null,
            "_model_module_version": "1.2.0",
            "_view_count": null,
            "flex_flow": null,
            "width": null,
            "min_width": null,
            "border": null,
            "align_items": null,
            "bottom": null,
            "_model_module": "@jupyter-widgets/base",
            "top": null,
            "grid_column": null,
            "overflow_y": null,
            "overflow_x": null,
            "grid_auto_flow": null,
            "grid_area": null,
            "grid_template_columns": null,
            "flex": null,
            "_model_name": "LayoutModel",
            "justify_items": null,
            "grid_row": null,
            "max_height": null,
            "align_content": null,
            "visibility": null,
            "align_self": null,
            "height": null,
            "min_height": null,
            "padding": null,
            "grid_auto_rows": null,
            "grid_gap": null,
            "max_width": null,
            "order": null,
            "_view_module_version": "1.2.0",
            "grid_template_areas": null,
            "object_position": null,
            "object_fit": null,
            "grid_auto_columns": null,
            "margin": null,
            "display": null,
            "left": null
          }
        },
        "24e8093b205c4f2a877363762eb795f1": {
          "model_module": "@jupyter-widgets/controls",
          "model_name": "FloatProgressModel",
          "state": {
            "_view_name": "ProgressView",
            "style": "IPY_MODEL_e8738794251e404eadfa92edac37459c",
            "_dom_classes": [],
            "description": "100%",
            "_model_name": "FloatProgressModel",
            "bar_style": "success",
            "max": 315,
            "_view_module": "@jupyter-widgets/controls",
            "_model_module_version": "1.5.0",
            "value": 315,
            "_view_count": null,
            "_view_module_version": "1.5.0",
            "orientation": "horizontal",
            "min": 0,
            "description_tooltip": null,
            "_model_module": "@jupyter-widgets/controls",
            "layout": "IPY_MODEL_22ca871c64f64143b51fb297e6725de5"
          }
        },
        "d5d6e1570da4442f81864260ef9a4e30": {
          "model_module": "@jupyter-widgets/controls",
          "model_name": "HTMLModel",
          "state": {
            "_view_name": "HTMLView",
            "style": "IPY_MODEL_55d14917bc2a434d96a8343373d4ec6c",
            "_dom_classes": [],
            "description": "",
            "_model_name": "HTMLModel",
            "placeholder": "​",
            "_view_module": "@jupyter-widgets/controls",
            "_model_module_version": "1.5.0",
            "value": " 315/315 [00:02&lt;00:00, 138.31it/s]",
            "_view_count": null,
            "_view_module_version": "1.5.0",
            "description_tooltip": null,
            "_model_module": "@jupyter-widgets/controls",
            "layout": "IPY_MODEL_11bfc141494745dea2e580bb08fc17ad"
          }
        },
        "e8738794251e404eadfa92edac37459c": {
          "model_module": "@jupyter-widgets/controls",
          "model_name": "ProgressStyleModel",
          "state": {
            "_view_name": "StyleView",
            "_model_name": "ProgressStyleModel",
            "description_width": "initial",
            "_view_module": "@jupyter-widgets/base",
            "_model_module_version": "1.5.0",
            "_view_count": null,
            "_view_module_version": "1.2.0",
            "bar_color": null,
            "_model_module": "@jupyter-widgets/controls"
          }
        },
        "22ca871c64f64143b51fb297e6725de5": {
          "model_module": "@jupyter-widgets/base",
          "model_name": "LayoutModel",
          "state": {
            "_view_name": "LayoutView",
            "grid_template_rows": null,
            "right": null,
            "justify_content": null,
            "_view_module": "@jupyter-widgets/base",
            "overflow": null,
            "_model_module_version": "1.2.0",
            "_view_count": null,
            "flex_flow": null,
            "width": null,
            "min_width": null,
            "border": null,
            "align_items": null,
            "bottom": null,
            "_model_module": "@jupyter-widgets/base",
            "top": null,
            "grid_column": null,
            "overflow_y": null,
            "overflow_x": null,
            "grid_auto_flow": null,
            "grid_area": null,
            "grid_template_columns": null,
            "flex": null,
            "_model_name": "LayoutModel",
            "justify_items": null,
            "grid_row": null,
            "max_height": null,
            "align_content": null,
            "visibility": null,
            "align_self": null,
            "height": null,
            "min_height": null,
            "padding": null,
            "grid_auto_rows": null,
            "grid_gap": null,
            "max_width": null,
            "order": null,
            "_view_module_version": "1.2.0",
            "grid_template_areas": null,
            "object_position": null,
            "object_fit": null,
            "grid_auto_columns": null,
            "margin": null,
            "display": null,
            "left": null
          }
        },
        "55d14917bc2a434d96a8343373d4ec6c": {
          "model_module": "@jupyter-widgets/controls",
          "model_name": "DescriptionStyleModel",
          "state": {
            "_view_name": "StyleView",
            "_model_name": "DescriptionStyleModel",
            "description_width": "",
            "_view_module": "@jupyter-widgets/base",
            "_model_module_version": "1.5.0",
            "_view_count": null,
            "_view_module_version": "1.2.0",
            "_model_module": "@jupyter-widgets/controls"
          }
        },
        "11bfc141494745dea2e580bb08fc17ad": {
          "model_module": "@jupyter-widgets/base",
          "model_name": "LayoutModel",
          "state": {
            "_view_name": "LayoutView",
            "grid_template_rows": null,
            "right": null,
            "justify_content": null,
            "_view_module": "@jupyter-widgets/base",
            "overflow": null,
            "_model_module_version": "1.2.0",
            "_view_count": null,
            "flex_flow": null,
            "width": null,
            "min_width": null,
            "border": null,
            "align_items": null,
            "bottom": null,
            "_model_module": "@jupyter-widgets/base",
            "top": null,
            "grid_column": null,
            "overflow_y": null,
            "overflow_x": null,
            "grid_auto_flow": null,
            "grid_area": null,
            "grid_template_columns": null,
            "flex": null,
            "_model_name": "LayoutModel",
            "justify_items": null,
            "grid_row": null,
            "max_height": null,
            "align_content": null,
            "visibility": null,
            "align_self": null,
            "height": null,
            "min_height": null,
            "padding": null,
            "grid_auto_rows": null,
            "grid_gap": null,
            "max_width": null,
            "order": null,
            "_view_module_version": "1.2.0",
            "grid_template_areas": null,
            "object_position": null,
            "object_fit": null,
            "grid_auto_columns": null,
            "margin": null,
            "display": null,
            "left": null
          }
        }
      }
    }
  },
  "cells": [
    {
      "cell_type": "code",
      "metadata": {
        "id": "SKbUKdjgFdwU",
        "colab_type": "code",
        "outputId": "69e74fac-2267-4a7a-fd0b-0b73167b98d5",
        "colab": {
          "base_uri": "https://localhost:8080/",
          "height": 656
        }
      },
      "source": [
        "!pip install googletrans\n",
        "!pip install tqdm --upgrade\n",
        "!pip install twython"
      ],
      "execution_count": 1,
      "outputs": [
        {
          "output_type": "stream",
          "text": [
            "Collecting googletrans\n",
            "  Downloading https://files.pythonhosted.org/packages/fd/f0/a22d41d3846d1f46a4f20086141e0428ccc9c6d644aacbfd30990cf46886/googletrans-2.4.0.tar.gz\n",
            "Requirement already satisfied: requests in /usr/local/lib/python3.6/dist-packages (from googletrans) (2.21.0)\n",
            "Requirement already satisfied: certifi>=2017.4.17 in /usr/local/lib/python3.6/dist-packages (from requests->googletrans) (2020.4.5.1)\n",
            "Requirement already satisfied: idna<2.9,>=2.5 in /usr/local/lib/python3.6/dist-packages (from requests->googletrans) (2.8)\n",
            "Requirement already satisfied: urllib3<1.25,>=1.21.1 in /usr/local/lib/python3.6/dist-packages (from requests->googletrans) (1.24.3)\n",
            "Requirement already satisfied: chardet<3.1.0,>=3.0.2 in /usr/local/lib/python3.6/dist-packages (from requests->googletrans) (3.0.4)\n",
            "Building wheels for collected packages: googletrans\n",
            "  Building wheel for googletrans (setup.py) ... \u001b[?25l\u001b[?25hdone\n",
            "  Created wheel for googletrans: filename=googletrans-2.4.0-cp36-none-any.whl size=15777 sha256=c6ef09117505025632a0a8e7e4f29a991267ca4577c1af9309baea9515fb9109\n",
            "  Stored in directory: /root/.cache/pip/wheels/50/d6/e7/a8efd5f2427d5eb258070048718fa56ee5ac57fd6f53505f95\n",
            "Successfully built googletrans\n",
            "Installing collected packages: googletrans\n",
            "Successfully installed googletrans-2.4.0\n",
            "Collecting tqdm\n",
            "\u001b[?25l  Downloading https://files.pythonhosted.org/packages/4a/1c/6359be64e8301b84160f6f6f7936bbfaaa5e9a4eab6cbc681db07600b949/tqdm-4.45.0-py2.py3-none-any.whl (60kB)\n",
            "\u001b[K     |████████████████████████████████| 61kB 2.0MB/s \n",
            "\u001b[?25hInstalling collected packages: tqdm\n",
            "  Found existing installation: tqdm 4.38.0\n",
            "    Uninstalling tqdm-4.38.0:\n",
            "      Successfully uninstalled tqdm-4.38.0\n",
            "Successfully installed tqdm-4.45.0\n"
          ],
          "name": "stdout"
        },
        {
          "output_type": "display_data",
          "data": {
            "application/vnd.colab-display-data+json": {
              "pip_warning": {
                "packages": [
                  "tqdm"
                ]
              }
            }
          },
          "metadata": {
            "tags": []
          }
        },
        {
          "output_type": "stream",
          "text": [
            "Collecting twython\n",
            "  Downloading https://files.pythonhosted.org/packages/24/80/579b96dfaa9b536efde883d4f0df7ea2598a6f3117a6dd572787f4a2bcfb/twython-3.8.2-py3-none-any.whl\n",
            "Requirement already satisfied: requests-oauthlib>=0.4.0 in /usr/local/lib/python3.6/dist-packages (from twython) (1.3.0)\n",
            "Requirement already satisfied: requests>=2.1.0 in /usr/local/lib/python3.6/dist-packages (from twython) (2.21.0)\n",
            "Requirement already satisfied: oauthlib>=3.0.0 in /usr/local/lib/python3.6/dist-packages (from requests-oauthlib>=0.4.0->twython) (3.1.0)\n",
            "Requirement already satisfied: certifi>=2017.4.17 in /usr/local/lib/python3.6/dist-packages (from requests>=2.1.0->twython) (2020.4.5.1)\n",
            "Requirement already satisfied: chardet<3.1.0,>=3.0.2 in /usr/local/lib/python3.6/dist-packages (from requests>=2.1.0->twython) (3.0.4)\n",
            "Requirement already satisfied: idna<2.9,>=2.5 in /usr/local/lib/python3.6/dist-packages (from requests>=2.1.0->twython) (2.8)\n",
            "Requirement already satisfied: urllib3<1.25,>=1.21.1 in /usr/local/lib/python3.6/dist-packages (from requests>=2.1.0->twython) (1.24.3)\n",
            "Installing collected packages: twython\n",
            "Successfully installed twython-3.8.2\n"
          ],
          "name": "stdout"
        }
      ]
    },
    {
      "cell_type": "code",
      "metadata": {
        "id": "mf5lDE7wafjr",
        "colab_type": "code",
        "colab": {}
      },
      "source": [
        "# web scraping\n",
        "import requests\n",
        "from bs4 import BeautifulSoup\n",
        "from time import time, sleep\n",
        "from random import randint\n",
        "\n",
        "# Translation\n",
        "from googletrans import Translator\n",
        "\n",
        "# Utilities\n",
        "from tqdm import tqdm\n",
        "from tqdm import tqdm_notebook\n",
        "import numpy as np\n",
        "import pandas as pd\n",
        "\n",
        "# NLP\n",
        "from nltk import sent_tokenize, word_tokenize, pos_tag, RegexpParser\n",
        "from nltk.sentiment.vader import SentimentIntensityAnalyzer\n",
        "from nltk.sentiment.util import mark_negation"
      ],
      "execution_count": 0,
      "outputs": []
    },
    {
      "cell_type": "code",
      "metadata": {
        "id": "KLJxKnwjah8C",
        "colab_type": "code",
        "outputId": "679bd6bb-90ff-4626-b285-4a55e2db5166",
        "colab": {
          "base_uri": "https://localhost:8080/",
          "height": 134
        }
      },
      "source": [
        "# Download resources\n",
        "import nltk\n",
        "\n",
        "nltk.download(\"punkt\")\n",
        "nltk.download(\"vader_lexicon\")\n",
        "nltk.download('averaged_perceptron_tagger')"
      ],
      "execution_count": 3,
      "outputs": [
        {
          "output_type": "stream",
          "text": [
            "[nltk_data] Downloading package punkt to /root/nltk_data...\n",
            "[nltk_data]   Unzipping tokenizers/punkt.zip.\n",
            "[nltk_data] Downloading package vader_lexicon to /root/nltk_data...\n",
            "[nltk_data] Downloading package averaged_perceptron_tagger to\n",
            "[nltk_data]     /root/nltk_data...\n",
            "[nltk_data]   Unzipping taggers/averaged_perceptron_tagger.zip.\n"
          ],
          "name": "stdout"
        },
        {
          "output_type": "execute_result",
          "data": {
            "text/plain": [
              "True"
            ]
          },
          "metadata": {
            "tags": []
          },
          "execution_count": 3
        }
      ]
    },
    {
      "cell_type": "markdown",
      "metadata": {
        "id": "tZ5SQxNQdXAs",
        "colab_type": "text"
      },
      "source": [
        "Web Scrap\n",
        "\n",
        "โรงพยาบาลกรุงเทพคริสเตียน"
      ]
    },
    {
      "cell_type": "code",
      "metadata": {
        "id": "rzBJtKDJdGC6",
        "colab_type": "code",
        "colab": {}
      },
      "source": [
        "def honestdoc_comment(url, hospitalName):\n",
        "    \"\"\"\n",
        "    This function is to scrap data from a webboard (https://www.honestdocs.com).\n",
        "\n",
        "    INPUT\n",
        "    url : String\n",
        "      URL of the target website\n",
        "    \n",
        "    OUTPUT\n",
        "    comment : List\n",
        "      List of comments\n",
        "    score : List\n",
        "      List of rating score\n",
        "    \"\"\"\n",
        "    #create connection\n",
        "    data = requests.get(url)\n",
        "    print(\"requests code : {}\".format(data.status_code)) \n",
        "    print(\"note\\n2xx: success\\n4xx, 5xx: error\")\n",
        "    \n",
        "    #scrape comment and score\n",
        "    start_time = time() #start scraping data from page1\n",
        "    r = requests.get(url, params=dict(query=\"web scraping\",page=1)) \n",
        "    soup = BeautifulSoup(r.text,\"html.parser\")\n",
        "    n = len(soup.find_all(\"div\",{\"class\":\"comments__content\"})) #find n of items in the page\n",
        "    \n",
        "    #extract each item\n",
        "    comment = [soup.find_all(\"div\",\n",
        "                             {\"class\":\"comments__content\"})[i].get_text().strip() for i in range(0,n)]\n",
        "    score = [soup.find_all(\"span\",\n",
        "                           {\"class\":\"stars star-rating\"})[i].attrs[\"data-score\"] for i in range(0,n)]\n",
        "    elapsed_time = time() - start_time #finish scraping data from page1\n",
        "    print(\"Time used for scraping data from page - 1 : {} s\".format(elapsed_time))\n",
        "    sleep(randint(1,3)) #mimic human behavior\n",
        "           \n",
        "    p = 2 #start scraping data from page2\n",
        "    while n > 0: #until the number of items in a page = 0\n",
        "        start_time = time() \n",
        "        r = requests.get(url, params=dict(query=\"web scraping\",page=p))\n",
        "        soup = BeautifulSoup(r.text,\"html.parser\")\n",
        "        n = len(soup.find_all(\"div\",{\"class\":\"comments__content\"}))\n",
        "        [comment.append(soup.find_all(\"div\",\n",
        "                                      {\"class\":\"comments__content\"})[i].get_text().strip()) for i in range(0,n)]\n",
        "        [score.append(soup.find_all(\"span\",\n",
        "                                    {\"class\":\"stars star-rating\"})[i].attrs[\"data-score\"]) for i in range(0,n)]\n",
        "        elapsed_time = time() - start_time\n",
        "        print(\"Time used for scraping data from page - {} : {} s\".format(p, elapsed_time))\n",
        "        p +=1\n",
        "        sleep(randint(1,3))\n",
        "\n",
        "    df = pd.DataFrame({\"comment\": comment, \n",
        "              \"score\": score\n",
        "              })\n",
        "    \n",
        "    df[\"hospital\"] = hospitalName\n",
        "    \n",
        "    return df"
      ],
      "execution_count": 0,
      "outputs": []
    },
    {
      "cell_type": "markdown",
      "metadata": {
        "id": "Nnw4gthuddw6",
        "colab_type": "text"
      },
      "source": [
        "คำสั่งแปลงจากภาษาไทยเป็นภาษาอังกฤษ"
      ]
    },
    {
      "cell_type": "code",
      "metadata": {
        "id": "NZOYhWxhdbMK",
        "colab_type": "code",
        "colab": {}
      },
      "source": [
        "def th2en(comment):\n",
        "  try:\n",
        "    textTrans = Translator().translate(comment, src=\"th\", dest=\"en\").text\n",
        "  except:\n",
        "    textTrans = \"\"\n",
        "    print(\"\\n Can not translate \" + comment)\n",
        "\n",
        "  return textTrans"
      ],
      "execution_count": 0,
      "outputs": []
    },
    {
      "cell_type": "markdown",
      "metadata": {
        "id": "9tMosSLbdjhs",
        "colab_type": "text"
      },
      "source": [
        "ดึง comment โรงพยาบาลกรุงเทพคริสเตียน\n",
        "\n"
      ]
    },
    {
      "cell_type": "code",
      "metadata": {
        "id": "D6xFPzxndgEQ",
        "colab_type": "code",
        "outputId": "47e0c3a9-bab5-40f8-9283-11ffd9b6cca4",
        "colab": {
          "base_uri": "https://localhost:8080/",
          "height": 554
        }
      },
      "source": [
        "df = honestdoc_comment(r\"https://www.honestdocs.co/hospitals/bangkok-christian-hospital\", \"bangkok-christian-hospital\")\n",
        "comments = df"
      ],
      "execution_count": 6,
      "outputs": [
        {
          "output_type": "stream",
          "text": [
            "requests code : 200\n",
            "note\n",
            "2xx: success\n",
            "4xx, 5xx: error\n",
            "Time used for scraping data from page - 1 : 1.2849411964416504 s\n",
            "Time used for scraping data from page - 2 : 1.3014922142028809 s\n",
            "Time used for scraping data from page - 3 : 1.3843111991882324 s\n",
            "Time used for scraping data from page - 4 : 1.2841575145721436 s\n",
            "Time used for scraping data from page - 5 : 1.3284862041473389 s\n",
            "Time used for scraping data from page - 6 : 1.2873270511627197 s\n",
            "Time used for scraping data from page - 7 : 1.2724394798278809 s\n",
            "Time used for scraping data from page - 8 : 1.3332905769348145 s\n",
            "Time used for scraping data from page - 9 : 1.2238960266113281 s\n",
            "Time used for scraping data from page - 10 : 1.2353918552398682 s\n",
            "Time used for scraping data from page - 11 : 1.3155062198638916 s\n",
            "Time used for scraping data from page - 12 : 1.2864327430725098 s\n",
            "Time used for scraping data from page - 13 : 1.2441577911376953 s\n",
            "Time used for scraping data from page - 14 : 1.2785794734954834 s\n",
            "Time used for scraping data from page - 15 : 1.2683517932891846 s\n",
            "Time used for scraping data from page - 16 : 1.2082977294921875 s\n",
            "Time used for scraping data from page - 17 : 1.2258408069610596 s\n",
            "Time used for scraping data from page - 18 : 1.3015820980072021 s\n",
            "Time used for scraping data from page - 19 : 1.2150874137878418 s\n",
            "Time used for scraping data from page - 20 : 1.2306621074676514 s\n",
            "Time used for scraping data from page - 21 : 1.348858118057251 s\n",
            "Time used for scraping data from page - 22 : 1.2998223304748535 s\n",
            "Time used for scraping data from page - 23 : 1.2224781513214111 s\n",
            "Time used for scraping data from page - 24 : 1.2550292015075684 s\n",
            "Time used for scraping data from page - 25 : 1.210841417312622 s\n",
            "Time used for scraping data from page - 26 : 1.2320289611816406 s\n",
            "Time used for scraping data from page - 27 : 1.2061328887939453 s\n",
            "Time used for scraping data from page - 28 : 1.012174367904663 s\n"
          ],
          "name": "stdout"
        }
      ]
    },
    {
      "cell_type": "markdown",
      "metadata": {
        "id": "QoAYf28xev1L",
        "colab_type": "text"
      },
      "source": [
        "นำคอมเม้นท์มาแปลงเป็นภาษาอังกฤษ"
      ]
    },
    {
      "cell_type": "code",
      "metadata": {
        "id": "e4IZiChTewxy",
        "colab_type": "code",
        "outputId": "b3fb984c-5151-4ffd-8cb7-e935b35e9c2e",
        "colab": {
          "base_uri": "https://localhost:8080/",
          "height": 34
        }
      },
      "source": [
        "tqdm.pandas()\n",
        "comments[\"en\"] = comments.progress_apply(lambda x: th2en(x[\"comment\"]), axis=1)\n",
        "\n",
        "comments = df"
      ],
      "execution_count": 7,
      "outputs": [
        {
          "output_type": "stream",
          "text": [
            "100%|██████████| 80/80 [01:20<00:00,  1.01s/it]\n"
          ],
          "name": "stderr"
        }
      ]
    },
    {
      "cell_type": "markdown",
      "metadata": {
        "id": "IReVG-WVeT1K",
        "colab_type": "text"
      },
      "source": [
        "ได้ทั้งหมด 80 แถว 4 column"
      ]
    },
    {
      "cell_type": "code",
      "metadata": {
        "id": "jmXT4LnFdmlv",
        "colab_type": "code",
        "outputId": "588c2b08-a1cd-4404-9ee0-3be76852d830",
        "colab": {
          "base_uri": "https://localhost:8080/",
          "height": 34
        }
      },
      "source": [
        "comments.shape"
      ],
      "execution_count": 8,
      "outputs": [
        {
          "output_type": "execute_result",
          "data": {
            "text/plain": [
              "(80, 4)"
            ]
          },
          "metadata": {
            "tags": []
          },
          "execution_count": 8
        }
      ]
    },
    {
      "cell_type": "markdown",
      "metadata": {
        "id": "31REx1lEfBC8",
        "colab_type": "text"
      },
      "source": [
        "นับจำนวนคอมเม้นท์ได้ทั้งหมด 80 คอมเม้น"
      ]
    },
    {
      "cell_type": "code",
      "metadata": {
        "id": "TcgOYhHbep5t",
        "colab_type": "code",
        "outputId": "99cc5738-7957-4188-81f6-ed3beb967085",
        "colab": {
          "base_uri": "https://localhost:8080/",
          "height": 50
        }
      },
      "source": [
        "comments[\"hospital\"].value_counts()"
      ],
      "execution_count": 9,
      "outputs": [
        {
          "output_type": "execute_result",
          "data": {
            "text/plain": [
              "bangkok-christian-hospital    80\n",
              "Name: hospital, dtype: int64"
            ]
          },
          "metadata": {
            "tags": []
          },
          "execution_count": 9
        }
      ]
    },
    {
      "cell_type": "markdown",
      "metadata": {
        "id": "OEQQSkGEfGNi",
        "colab_type": "text"
      },
      "source": [
        "ตรวจสอบ 5 แถวแรกของข้อมูล"
      ]
    },
    {
      "cell_type": "code",
      "metadata": {
        "id": "HhPFZm-wfDOM",
        "colab_type": "code",
        "outputId": "d63d9d29-3ff8-4fa9-de89-b00e830e1e87",
        "colab": {
          "base_uri": "https://localhost:8080/",
          "height": 343
        }
      },
      "source": [
        "comments.head(10)"
      ],
      "execution_count": 10,
      "outputs": [
        {
          "output_type": "execute_result",
          "data": {
            "text/html": [
              "<div>\n",
              "<style scoped>\n",
              "    .dataframe tbody tr th:only-of-type {\n",
              "        vertical-align: middle;\n",
              "    }\n",
              "\n",
              "    .dataframe tbody tr th {\n",
              "        vertical-align: top;\n",
              "    }\n",
              "\n",
              "    .dataframe thead th {\n",
              "        text-align: right;\n",
              "    }\n",
              "</style>\n",
              "<table border=\"1\" class=\"dataframe\">\n",
              "  <thead>\n",
              "    <tr style=\"text-align: right;\">\n",
              "      <th></th>\n",
              "      <th>comment</th>\n",
              "      <th>score</th>\n",
              "      <th>hospital</th>\n",
              "      <th>en</th>\n",
              "    </tr>\n",
              "  </thead>\n",
              "  <tbody>\n",
              "    <tr>\n",
              "      <th>0</th>\n",
              "      <td>สิ่งที่ชอบอย่างหนึ่งมากจริงๆคือบุคลากรในโรงพยา...</td>\n",
              "      <td>5</td>\n",
              "      <td>bangkok-christian-hospital</td>\n",
              "      <td>What is really like a lot of people in this ho...</td>\n",
              "    </tr>\n",
              "    <tr>\n",
              "      <th>1</th>\n",
              "      <td>ได้เข้าไปใช้บริกาที่นี่ มีความสะอาดและต้อนรับด...</td>\n",
              "      <td>5</td>\n",
              "      <td>bangkok-christian-hospital</td>\n",
              "      <td>Riga has to use here. Clean and good reception...</td>\n",
              "    </tr>\n",
              "    <tr>\n",
              "      <th>2</th>\n",
              "      <td>สิ่งที่ชอบอย่างหนึ่งมากจริงๆคือบุคลากรในโรงพยา...</td>\n",
              "      <td>4</td>\n",
              "      <td>bangkok-christian-hospital</td>\n",
              "      <td>What is really like a lot of people in this ho...</td>\n",
              "    </tr>\n",
              "    <tr>\n",
              "      <th>3</th>\n",
              "      <td>พยาบาล คุณหมอพูดจา ดูแลดีค่ะ โรงพยาบาลมีที่จอด...</td>\n",
              "      <td>5</td>\n",
              "      <td>bangkok-christian-hospital</td>\n",
              "      <td>Hospital doctors speak good care hospital park...</td>\n",
              "    </tr>\n",
              "    <tr>\n",
              "      <th>4</th>\n",
              "      <td>ไปหาคุณหมอด้วยอาการปวดขาคุณหมอถามนิดหน่อยแล้วก...</td>\n",
              "      <td>3</td>\n",
              "      <td>bangkok-christian-hospital</td>\n",
              "      <td>You go to the doctor with symptoms of leg pain...</td>\n",
              "    </tr>\n",
              "    <tr>\n",
              "      <th>5</th>\n",
              "      <td>เป็นโรงพยาบาลที่ทุกคนในครอบครัวใช้บริการ เพราะ...</td>\n",
              "      <td>4</td>\n",
              "      <td>bangkok-christian-hospital</td>\n",
              "      <td>The hospital where the family service. Because...</td>\n",
              "    </tr>\n",
              "    <tr>\n",
              "      <th>6</th>\n",
              "      <td>ป่วยตกบัยฝนไดค่ะเข้ารักษาห้องฉุกเฉินมีประกันสุ...</td>\n",
              "      <td>4</td>\n",
              "      <td>bangkok-christian-hospital</td>\n",
              "      <td>Buffett's rain falls ill treat me into the eme...</td>\n",
              "    </tr>\n",
              "    <tr>\n",
              "      <th>7</th>\n",
              "      <td>เป็นคนไข้ประจำมาตลอด 20 กว่าปี ล่าสุดได้ไปหาหม...</td>\n",
              "      <td>2</td>\n",
              "      <td>bangkok-christian-hospital</td>\n",
              "      <td>Patients are routinely over the last 20 years ...</td>\n",
              "    </tr>\n",
              "    <tr>\n",
              "      <th>8</th>\n",
              "      <td>ไปรับการรักษาโรครูมาตอยด์ที่โรงพยาบาลกรุงเทพคร...</td>\n",
              "      <td>5</td>\n",
              "      <td>bangkok-christian-hospital</td>\n",
              "      <td>To treat rheumatoid at the Bangkok Christian H...</td>\n",
              "    </tr>\n",
              "    <tr>\n",
              "      <th>9</th>\n",
              "      <td>บริการดี อธิบายละเอียด ใส่ใจคนไข้</td>\n",
              "      <td>5</td>\n",
              "      <td>bangkok-christian-hospital</td>\n",
              "      <td>Good service described patient care</td>\n",
              "    </tr>\n",
              "  </tbody>\n",
              "</table>\n",
              "</div>"
            ],
            "text/plain": [
              "                                             comment  ...                                                 en\n",
              "0  สิ่งที่ชอบอย่างหนึ่งมากจริงๆคือบุคลากรในโรงพยา...  ...  What is really like a lot of people in this ho...\n",
              "1  ได้เข้าไปใช้บริกาที่นี่ มีความสะอาดและต้อนรับด...  ...  Riga has to use here. Clean and good reception...\n",
              "2  สิ่งที่ชอบอย่างหนึ่งมากจริงๆคือบุคลากรในโรงพยา...  ...  What is really like a lot of people in this ho...\n",
              "3  พยาบาล คุณหมอพูดจา ดูแลดีค่ะ โรงพยาบาลมีที่จอด...  ...  Hospital doctors speak good care hospital park...\n",
              "4  ไปหาคุณหมอด้วยอาการปวดขาคุณหมอถามนิดหน่อยแล้วก...  ...  You go to the doctor with symptoms of leg pain...\n",
              "5  เป็นโรงพยาบาลที่ทุกคนในครอบครัวใช้บริการ เพราะ...  ...  The hospital where the family service. Because...\n",
              "6  ป่วยตกบัยฝนไดค่ะเข้ารักษาห้องฉุกเฉินมีประกันสุ...  ...  Buffett's rain falls ill treat me into the eme...\n",
              "7  เป็นคนไข้ประจำมาตลอด 20 กว่าปี ล่าสุดได้ไปหาหม...  ...  Patients are routinely over the last 20 years ...\n",
              "8  ไปรับการรักษาโรครูมาตอยด์ที่โรงพยาบาลกรุงเทพคร...  ...  To treat rheumatoid at the Bangkok Christian H...\n",
              "9                  บริการดี อธิบายละเอียด ใส่ใจคนไข้  ...                Good service described patient care\n",
              "\n",
              "[10 rows x 4 columns]"
            ]
          },
          "metadata": {
            "tags": []
          },
          "execution_count": 10
        }
      ]
    },
    {
      "cell_type": "markdown",
      "metadata": {
        "id": "DZdHVdApfLd2",
        "colab_type": "text"
      },
      "source": [
        "Mount Drive เพื่อAuthorize เข้าถึง Folder ในDrive"
      ]
    },
    {
      "cell_type": "code",
      "metadata": {
        "id": "nN6_cE6IfJD6",
        "colab_type": "code",
        "outputId": "a1cd52f7-7173-409d-d6e4-563616b0b601",
        "colab": {
          "base_uri": "https://localhost:8080/",
          "height": 121
        }
      },
      "source": [
        "from google.colab import drive\n",
        "drive.mount('/content/gdrive')\n",
        "\n",
        "import os\n",
        "os.chdir('/content/gdrive/My Drive/DS532_Text_Analytic/Project_Hospital')"
      ],
      "execution_count": 11,
      "outputs": [
        {
          "output_type": "stream",
          "text": [
            "Go to this URL in a browser: https://accounts.google.com/o/oauth2/auth?client_id=947318989803-6bn6qk8qdgf4n4g3pfee6491hc0brc4i.apps.googleusercontent.com&redirect_uri=urn%3aietf%3awg%3aoauth%3a2.0%3aoob&response_type=code&scope=email%20https%3a%2f%2fwww.googleapis.com%2fauth%2fdocs.test%20https%3a%2f%2fwww.googleapis.com%2fauth%2fdrive%20https%3a%2f%2fwww.googleapis.com%2fauth%2fdrive.photos.readonly%20https%3a%2f%2fwww.googleapis.com%2fauth%2fpeopleapi.readonly\n",
            "\n",
            "Enter your authorization code:\n",
            "··········\n",
            "Mounted at /content/gdrive\n"
          ],
          "name": "stdout"
        }
      ]
    },
    {
      "cell_type": "markdown",
      "metadata": {
        "id": "Ol4r4Od3fVxJ",
        "colab_type": "text"
      },
      "source": [
        "Save ข้อมูลเป็น csv"
      ]
    },
    {
      "cell_type": "code",
      "metadata": {
        "id": "_DEiugaafPAE",
        "colab_type": "code",
        "colab": {}
      },
      "source": [
        "#backup data \n",
        "comments.to_csv(\"comment_bangkok-christian-hospital.csv\", index=False)"
      ],
      "execution_count": 0,
      "outputs": []
    },
    {
      "cell_type": "code",
      "metadata": {
        "id": "TyscoVQbfX07",
        "colab_type": "code",
        "colab": {}
      },
      "source": [
        "from tqdm import tqdm_notebook"
      ],
      "execution_count": 0,
      "outputs": []
    },
    {
      "cell_type": "markdown",
      "metadata": {
        "id": "cZ1r5AE3f5Zf",
        "colab_type": "text"
      },
      "source": [
        "**Read data**"
      ]
    },
    {
      "cell_type": "code",
      "metadata": {
        "id": "ey_IAakUf3IA",
        "colab_type": "code",
        "colab": {}
      },
      "source": [
        "rama = pd.read_csv(\"comment_bangkok-christian-hospital.csv\")\n",
        "rama = rama.reset_index()\n",
        "rama = rama.rename(columns={\"index\": \"cid\"})"
      ],
      "execution_count": 0,
      "outputs": []
    },
    {
      "cell_type": "markdown",
      "metadata": {
        "id": "hnE3JinPgC0M",
        "colab_type": "text"
      },
      "source": [
        "Sentence Tokenize"
      ]
    },
    {
      "cell_type": "code",
      "metadata": {
        "id": "cEVRtRLnf-pu",
        "colab_type": "code",
        "outputId": "eabfadd3-55f3-47ae-9dad-71be595fa8f0",
        "colab": {
          "base_uri": "https://localhost:8080/",
          "height": 67
        }
      },
      "source": [
        "import nltk\n",
        "nltk.download('punkt')"
      ],
      "execution_count": 15,
      "outputs": [
        {
          "output_type": "stream",
          "text": [
            "[nltk_data] Downloading package punkt to /root/nltk_data...\n",
            "[nltk_data]   Package punkt is already up-to-date!\n"
          ],
          "name": "stdout"
        },
        {
          "output_type": "execute_result",
          "data": {
            "text/plain": [
              "True"
            ]
          },
          "metadata": {
            "tags": []
          },
          "execution_count": 15
        }
      ]
    },
    {
      "cell_type": "code",
      "metadata": {
        "id": "epk4kCvNgHLq",
        "colab_type": "code",
        "colab": {}
      },
      "source": [
        "from nltk import sent_tokenize\n",
        "\n",
        "sentences = []\n",
        "cids = []\n",
        "for cid in rama[\"cid\"]:\n",
        "    s = sent_tokenize(rama.loc[cid, \"en\"])\n",
        "    sentences = sentences + s\n",
        "    cids = cids + [cid] * len(s)"
      ],
      "execution_count": 0,
      "outputs": []
    },
    {
      "cell_type": "markdown",
      "metadata": {
        "id": "YU3rVJqlgSK2",
        "colab_type": "text"
      },
      "source": [
        "**Sentence-level sentiment**"
      ]
    },
    {
      "cell_type": "code",
      "metadata": {
        "id": "kb6lakXpgg6K",
        "colab_type": "code",
        "outputId": "616d05f9-bb8b-4605-e3ee-d9ccd15f03f2",
        "colab": {
          "base_uri": "https://localhost:8080/",
          "height": 151
        }
      },
      "source": [
        "!pip install twython"
      ],
      "execution_count": 17,
      "outputs": [
        {
          "output_type": "stream",
          "text": [
            "Requirement already satisfied: twython in /usr/local/lib/python3.6/dist-packages (3.8.2)\n",
            "Requirement already satisfied: requests>=2.1.0 in /usr/local/lib/python3.6/dist-packages (from twython) (2.21.0)\n",
            "Requirement already satisfied: requests-oauthlib>=0.4.0 in /usr/local/lib/python3.6/dist-packages (from twython) (1.3.0)\n",
            "Requirement already satisfied: idna<2.9,>=2.5 in /usr/local/lib/python3.6/dist-packages (from requests>=2.1.0->twython) (2.8)\n",
            "Requirement already satisfied: chardet<3.1.0,>=3.0.2 in /usr/local/lib/python3.6/dist-packages (from requests>=2.1.0->twython) (3.0.4)\n",
            "Requirement already satisfied: certifi>=2017.4.17 in /usr/local/lib/python3.6/dist-packages (from requests>=2.1.0->twython) (2020.4.5.1)\n",
            "Requirement already satisfied: urllib3<1.25,>=1.21.1 in /usr/local/lib/python3.6/dist-packages (from requests>=2.1.0->twython) (1.24.3)\n",
            "Requirement already satisfied: oauthlib>=3.0.0 in /usr/local/lib/python3.6/dist-packages (from requests-oauthlib>=0.4.0->twython) (3.1.0)\n"
          ],
          "name": "stdout"
        }
      ]
    },
    {
      "cell_type": "code",
      "metadata": {
        "id": "8bRgMkRWgrh-",
        "colab_type": "code",
        "colab": {}
      },
      "source": [
        "from nltk.sentiment.vader import SentimentIntensityAnalyzer"
      ],
      "execution_count": 0,
      "outputs": []
    },
    {
      "cell_type": "code",
      "metadata": {
        "id": "06HoUcuagwd6",
        "colab_type": "code",
        "colab": {}
      },
      "source": [
        "def predict_sentiment(sentence):\n",
        "  sa = SentimentIntensityAnalyzer()\n",
        "  sentiment_distribution = sa.polarity_scores(sentence)\n",
        "  score = sentiment_distribution.get(\"compound\")\n",
        "  \n",
        "  if score >= 0.05:\n",
        "    return \"positive\"\n",
        "  elif score <= -0.05:\n",
        "    return \"negative\"\n",
        "  else:\n",
        "    return \"neutral\""
      ],
      "execution_count": 0,
      "outputs": []
    },
    {
      "cell_type": "code",
      "metadata": {
        "id": "x-2sj7Swh4Je",
        "colab_type": "code",
        "outputId": "a307d409-4e2a-4fb1-92d0-52f03d7ecbd9",
        "colab": {
          "base_uri": "https://localhost:8080/",
          "height": 67
        }
      },
      "source": [
        "import nltk\n",
        "nltk.download(\"vader_lexicon\")"
      ],
      "execution_count": 20,
      "outputs": [
        {
          "output_type": "stream",
          "text": [
            "[nltk_data] Downloading package vader_lexicon to /root/nltk_data...\n",
            "[nltk_data]   Package vader_lexicon is already up-to-date!\n"
          ],
          "name": "stdout"
        },
        {
          "output_type": "execute_result",
          "data": {
            "text/plain": [
              "True"
            ]
          },
          "metadata": {
            "tags": []
          },
          "execution_count": 20
        }
      ]
    },
    {
      "cell_type": "code",
      "metadata": {
        "id": "zXZmiSfagyWP",
        "colab_type": "code",
        "outputId": "b4bc69c5-28d6-4fd5-da4e-f11f6623684a",
        "colab": {
          "base_uri": "https://localhost:8080/",
          "height": 116,
          "referenced_widgets": [
            "9594ba34ebb846168bed6bbc8e5476d2",
            "cd125e6e508d407b9bfa4bf46c9dd3b1",
            "24e8093b205c4f2a877363762eb795f1",
            "d5d6e1570da4442f81864260ef9a4e30",
            "e8738794251e404eadfa92edac37459c",
            "22ca871c64f64143b51fb297e6725de5",
            "55d14917bc2a434d96a8343373d4ec6c",
            "11bfc141494745dea2e580bb08fc17ad"
          ]
        }
      },
      "source": [
        "sentiments = []\n",
        "for sentence in tqdm_notebook(sentences, total=len(sentences)):\n",
        "    sentiments.append(predict_sentiment(sentence))"
      ],
      "execution_count": 21,
      "outputs": [
        {
          "output_type": "stream",
          "text": [
            "/usr/local/lib/python3.6/dist-packages/ipykernel_launcher.py:2: TqdmDeprecationWarning: This function will be removed in tqdm==5.0.0\n",
            "Please use `tqdm.notebook.tqdm` instead of `tqdm.tqdm_notebook`\n",
            "  \n"
          ],
          "name": "stderr"
        },
        {
          "output_type": "display_data",
          "data": {
            "application/vnd.jupyter.widget-view+json": {
              "model_id": "9594ba34ebb846168bed6bbc8e5476d2",
              "version_minor": 0,
              "version_major": 2
            },
            "text/plain": [
              "HBox(children=(FloatProgress(value=0.0, max=315.0), HTML(value='')))"
            ]
          },
          "metadata": {
            "tags": []
          }
        },
        {
          "output_type": "stream",
          "text": [
            "\n"
          ],
          "name": "stdout"
        }
      ]
    },
    {
      "cell_type": "markdown",
      "metadata": {
        "id": "--0zHQiajGlm",
        "colab_type": "text"
      },
      "source": [
        "Parsing"
      ]
    },
    {
      "cell_type": "code",
      "metadata": {
        "id": "JVefOLf4g0NI",
        "colab_type": "code",
        "outputId": "fc855ace-bc8e-47a8-a497-330fb72eb463",
        "colab": {
          "base_uri": "https://localhost:8080/",
          "height": 101
        }
      },
      "source": [
        "nltk.download('averaged_perceptron_tagger')"
      ],
      "execution_count": 22,
      "outputs": [
        {
          "output_type": "stream",
          "text": [
            "[nltk_data] Downloading package averaged_perceptron_tagger to\n",
            "[nltk_data]     /root/nltk_data...\n",
            "[nltk_data]   Package averaged_perceptron_tagger is already up-to-\n",
            "[nltk_data]       date!\n"
          ],
          "name": "stdout"
        },
        {
          "output_type": "execute_result",
          "data": {
            "text/plain": [
              "True"
            ]
          },
          "metadata": {
            "tags": []
          },
          "execution_count": 22
        }
      ]
    },
    {
      "cell_type": "code",
      "metadata": {
        "id": "2xzxyXyajJR5",
        "colab_type": "code",
        "colab": {}
      },
      "source": [
        "from nltk import word_tokenize, pos_tag, RegexpParser"
      ],
      "execution_count": 0,
      "outputs": []
    },
    {
      "cell_type": "code",
      "metadata": {
        "id": "y301aSNrjRPU",
        "colab_type": "code",
        "colab": {}
      },
      "source": [
        "grammar = \"\"\"NP: {<NN|NNS>+}\n",
        "                 {<NN|NNS>+<CC><NN|NNS>+}\"\"\"\n",
        "chunker = RegexpParser(grammar)\n",
        "parse_trees = []\n",
        "for sentence in sentences:\n",
        "    parse_trees.append(chunker.parse(pos_tag(word_tokenize(sentence))))"
      ],
      "execution_count": 0,
      "outputs": []
    },
    {
      "cell_type": "code",
      "metadata": {
        "id": "OvVa8r19jS4U",
        "colab_type": "code",
        "outputId": "aea98ce5-a02e-4383-afb7-8ed5e15bd267",
        "colab": {
          "base_uri": "https://localhost:8080/",
          "height": 1000
        }
      },
      "source": [
        "parse_trees"
      ],
      "execution_count": 25,
      "outputs": [
        {
          "output_type": "execute_result",
          "data": {
            "text/plain": [
              "[Tree('S', [('What', 'WP'), ('is', 'VBZ'), ('really', 'RB'), ('like', 'IN'), ('a', 'DT'), Tree('NP', [('lot', 'NN')]), ('of', 'IN'), Tree('NP', [('people', 'NNS')]), ('in', 'IN'), ('this', 'DT'), Tree('NP', [('hospital', 'NN')]), ('.', '.')]),\n",
              " Tree('S', [('Most', 'JJS'), ('smiling', 'JJ'), Tree('NP', [('Greetings', 'NNS'), ('care', 'NN'), ('patients', 'NNS')]), ('and', 'CC'), ('those', 'DT'), ('who', 'WP'), ('use', 'VBP'), ('the', 'DT'), Tree('NP', [('service', 'NN')]), ('were', 'VBD'), ('very', 'RB'), ('good', 'JJ'), ('.', '.')]),\n",
              " Tree('S', [('Invite', 'JJ'), Tree('NP', [('people', 'NNS')]), ('to', 'TO'), ('feel', 'VB'), ('relaxed', 'VBN'), ('at', 'IN'), ('all', 'DT'), ('.', '.')]),\n",
              " Tree('S', [('Most', 'JJS'), Tree('NP', [('doctors', 'NNS')]), ('who', 'WP'), ('have', 'VBP'), ('had', 'VBD'), ('the', 'DT'), ('good-hearted', 'JJ'), Tree('NP', [('people', 'NNS')]), ('I', 'PRP'), ('have', 'VBP'), ('ever', 'RB'), ('come', 'VBN'), ('across', 'IN'), Tree('NP', [('someone', 'NN')]), ('who', 'WP'), (\"'s\", 'VBZ'), ('not', 'RB'), ('very', 'RB'), ('much', 'RB'), ('.', '.')]),\n",
              " Tree('S', [('The', 'DT'), ('Department', 'NNP'), ('of', 'IN'), ('Medicine', 'NNP'), ('Private', 'NNP'), Tree('NP', [('rooms', 'NNS')]), ('are', 'VBP'), ('OK', 'JJ'), ('Private', 'NNP'), ('worth', 'IN'), ('the', 'DT'), Tree('NP', [('price', 'NN')]), ('of', 'IN'), ('...', ':')]),\n",
              " Tree('S', [('Riga', 'NNP'), ('has', 'VBZ'), ('to', 'TO'), ('use', 'VB'), ('here', 'RB'), ('.', '.')]),\n",
              " Tree('S', [('Clean', 'JJ'), ('and', 'CC'), ('good', 'JJ'), Tree('NP', [('reception', 'NN')]), ('The', 'DT'), Tree('NP', [('service', 'NN')]), ('was', 'VBD'), ('with', 'IN'), ('the', 'DT'), Tree('NP', [('system', 'NN')]), ('.', '.')]),\n",
              " Tree('S', [('A', 'DT'), Tree('NP', [('nurse', 'NN')]), ('and', 'CC'), Tree('NP', [('doctor', 'NN')]), ('There', 'EX'), ('are', 'VBP'), Tree('NP', [('facilities', 'NNS')]), ('within', 'IN'), ('the', 'DT'), Tree('NP', [('hospital', 'NN')]), ('.', '.')]),\n",
              " Tree('S', [Tree('NP', [('Doctors', 'NNS')]), ('are', 'VBP'), ('competent', 'JJ'), ('The', 'DT'), Tree('NP', [('hospital', 'NN')]), ('is', 'VBZ'), ('a', 'DT'), ('good', 'JJ'), Tree('NP', [('thing', 'NN')]), ('to', 'TO'), ('be', 'VB'), ('able', 'JJ'), ('to', 'TO'), ('use', 'VB'), ('the', 'DT'), Tree('NP', [('service', 'NN')]), ('.', '.')]),\n",
              " Tree('S', [('I', 'PRP'), ('would', 'MD'), ('recommend', 'VB'), ('to', 'TO'), ('use', 'VB'), ('the', 'DT'), Tree('NP', [('service', 'NN')]), ('if', 'IN'), ('they', 'PRP'), ('are', 'VBP'), ('sick', 'JJ'), ('.', '.')]),\n",
              " Tree('S', [('After', 'IN'), ('going', 'VBG'), ('to', 'TO'), ('the', 'DT'), Tree('NP', [('doctor', 'NN')]), ('and', 'CC'), ('the', 'DT'), Tree('NP', [('patient', 'NN'), ('feels', 'NNS')]), ('better', 'RBR'), ('and', 'CC'), ('get', 'VB'), ('well', 'RB'), (',', ','), Tree('NP', [('thank', 'NN')]), ('you', 'PRP'), ('.', '.')]),\n",
              " Tree('S', [('What', 'WP'), ('is', 'VBZ'), ('really', 'RB'), ('like', 'IN'), ('a', 'DT'), Tree('NP', [('lot', 'NN')]), ('of', 'IN'), Tree('NP', [('people', 'NNS')]), ('in', 'IN'), ('this', 'DT'), Tree('NP', [('hospital', 'NN')]), ('.', '.')]),\n",
              " Tree('S', [('Most', 'JJS'), ('smiling', 'JJ'), Tree('NP', [('Greetings', 'NNS'), ('care', 'NN'), ('patients', 'NNS')]), ('and', 'CC'), ('those', 'DT'), ('who', 'WP'), ('use', 'VBP'), ('the', 'DT'), Tree('NP', [('service', 'NN')]), ('were', 'VBD'), ('very', 'RB'), ('good', 'JJ'), ('.', '.')]),\n",
              " Tree('S', [Tree('NP', [('Talk', 'NN'), ('relax', 'NN')]), ('at', 'IN'), ('all', 'DT'), ('.', '.')]),\n",
              " Tree('S', [('Most', 'JJS'), Tree('NP', [('doctors', 'NNS')]), ('who', 'WP'), ('have', 'VBP'), ('had', 'VBD'), ('the', 'DT'), ('good-hearted', 'JJ'), Tree('NP', [('people', 'NNS')]), ('I', 'PRP'), ('have', 'VBP'), ('ever', 'RB'), ('come', 'VBN'), ('across', 'IN'), Tree('NP', [('someone', 'NN')]), ('who', 'WP'), (\"'s\", 'VBZ'), ('not', 'RB'), ('very', 'RB'), ('much', 'RB'), ('.', '.')]),\n",
              " Tree('S', [('The', 'DT'), ('Department', 'NNP'), ('of', 'IN'), ('Medicine', 'NNP'), ('Private', 'NNP'), Tree('NP', [('rooms', 'NNS')]), ('are', 'VBP'), ('OK', 'JJ'), ('Private', 'NNP'), ('is', 'VBZ'), ('worth', 'IN'), ('the', 'DT'), Tree('NP', [('price', 'NN')]), ('Sister', 'NNP'), Tree('NP', [('midwife', 'NN')]), ('came', 'VBD'), ('here', 'RB'), ('it', 'PRP'), ('was', 'VBD'), ('safe', 'JJ'), Tree('NP', [('nursing', 'NN'), ('care', 'NN')]), ('nurse', 'RB'), ('well', 'RB'), ('.', '.')]),\n",
              " Tree('S', [('Stick', 'NNP'), ('to', 'TO'), ('that', 'DT'), Tree('NP', [('price', 'NN')]), ('The', 'DT'), Tree('NP', [('treatment', 'NN')]), ('may', 'MD'), ('be', 'VB'), ('a', 'DT'), Tree('NP', [('bit', 'NN')]), ('high', 'JJ'), ('.', '.')]),\n",
              " Tree('S', [('But', 'CC'), ('because', 'IN'), ('it', 'PRP'), ('is', 'VBZ'), ('a', 'DT'), ('privately', 'RB'), ('held', 'VBN'), ('her', 'PRP'), ('.', '.')]),\n",
              " Tree('S', [('I', 'PRP'), ('understand', 'VBP'), ('some', 'DT')]),\n",
              " Tree('S', [Tree('NP', [('Hospital', 'NN'), ('doctors', 'NNS')]), ('speak', 'VBP'), ('good', 'JJ'), Tree('NP', [('care', 'NN'), ('hospital', 'NN'), ('parking', 'NN'), ('lot', 'NN')]), ('of', 'IN'), ('the', 'DT'), Tree('NP', [('buildings', 'NNS')]), ('are', 'VBP'), ('easy', 'JJ'), ('to', 'TO'), ('maintain', 'VB'), ('affordable', 'JJ'), Tree('NP', [('prices', 'NNS')]), ('.', '.')]),\n",
              " Tree('S', [('The', 'DT'), Tree('NP', [('service', 'NN')]), ('has', 'VBZ'), ('been', 'VBN'), ('available', 'JJ'), ('in', 'IN'), ('the', 'DT'), ('near', 'JJ'), ('BTS', 'NNP'), Tree('NP', [('return', 'NN'), ('service', 'NN')]), ('.', '.')]),\n",
              " Tree('S', [('Check', 'NNP'), Tree('NP', [('queues', 'NNS')]), ('soon', 'RB'), ('doing', 'VBG'), ('a', 'DT'), ('brisk', 'JJ'), Tree('NP', [('mall', 'NN'), ('adjacent', 'NN')]), ('to', 'TO'), ('the', 'DT'), Tree('NP', [('hospital', 'NN')]), ('.', '.')]),\n",
              " Tree('S', [('Make', 'NNP'), Tree('NP', [('time', 'NN')]), ('to', 'TO'), ('wait', 'VB'), ('for', 'IN'), Tree('NP', [('test', 'NN'), ('results', 'NNS')]), ('You', 'PRP'), ('can', 'MD'), ('go', 'VB'), ('out', 'RP'), ('and', 'CC'), ('find', 'VB'), Tree('NP', [('something', 'NN')]), ('to', 'TO'), ('eat', 'VB'), ('before', 'IN'), ('going', 'VBG'), ('to', 'TO'), ('listen', 'VB'), ('to', 'TO'), ('the', 'DT'), Tree('NP', [('results', 'NNS')]), ('.', '.')]),\n",
              " Tree('S', [('Doctor', 'NNP'), ('friendly', 'JJ'), Tree('NP', [('eloquence', 'NN')]), ('generous', 'JJ'), Tree('NP', [('treatment', 'NN')]), ('here', 'RB'), ('since', 'IN'), Tree('NP', [('childhood', 'NN')]), ('.', '.')]),\n",
              " Tree('S', [('The', 'DT'), Tree('NP', [('hospital', 'NN')]), ('has', 'VBZ'), ('always', 'RB'), ('been', 'VBN'), ('good', 'JJ'), ('.', '.')]),\n",
              " Tree('S', [('You', 'PRP'), ('go', 'VBP'), ('to', 'TO'), ('the', 'DT'), Tree('NP', [('doctor', 'NN')]), ('with', 'IN'), Tree('NP', [('symptoms', 'NNS')]), ('of', 'IN'), Tree('NP', [('leg', 'NN'), ('pain', 'NN')]), (',', ','), ('ask', 'VB'), ('your', 'PRP$'), Tree('NP', [('doctor', 'NN')]), ('to', 'TO'), ('prescribe', 'VB'), ('the', 'DT'), Tree('NP', [('medication', 'NN')]), ('is', 'VBZ'), ('ingested', 'VBN'), ('then', 'RB'), ('slightly', 'RB'), ('loosen', 'VBZ'), ('the', 'DT'), Tree('NP', [('line', 'NN')]), ('and', 'CC'), ('paint', 'VB'), ('a', 'DT'), ('little', 'JJ'), (',', ','), ('priced', 'VBN'), ('at', 'IN'), ('1,490', 'CD'), ('as', 'IN'), ('this', 'DT'), ('is', 'VBZ'), ('never', 'RB'), ('less', 'JJR'), ('than', 'IN'), ('1,400', 'CD'), ('now', 'RB'), ('.', '.')]),\n",
              " Tree('S', [('The', 'DT'), Tree('NP', [('hospital', 'NN')]), ('where', 'WRB'), ('the', 'DT'), Tree('NP', [('family', 'NN'), ('service', 'NN')]), ('.', '.')]),\n",
              " Tree('S', [('Because', 'IN'), ('the', 'DT'), Tree('NP', [('price', 'NN')]), ('is', 'VBZ'), ('not', 'RB'), ('too', 'RB'), ('expensive', 'JJ'), Tree('NP', [('home', 'NN'), ('care', 'NN')]), ('and', 'CC'), Tree('NP', [('ease', 'NN')]), ('of', 'IN'), Tree('NP', [('travel', 'NN')]), ('.', '.')]),\n",
              " Tree('S', [('Buffett', 'NNP'), (\"'s\", 'POS'), Tree('NP', [('rain', 'NN')]), ('falls', 'VBZ'), ('ill', 'JJ'), ('treat', 'VB'), ('me', 'PRP'), ('into', 'IN'), ('the', 'DT'), Tree('NP', [('emergency', 'NN'), ('room', 'NN')]), (',', ','), ('a', 'DT'), Tree('NP', [('health', 'NN'), ('insurance', 'NN'), ('claim', 'NN'), ('hospital', 'NN'), ('care', 'NN')]), ('is', 'VBZ'), ('very', 'RB'), ('good', 'JJ'), ('.', '.')]),\n",
              " Tree('S', [Tree('NP', [('Relatives', 'NNS')]), ('and', 'CC'), Tree('NP', [('friends', 'NNS')]), ('keeping', 'VBG'), ('me', 'PRP'), ('here', 'RB'), ('.', '.')]),\n",
              " Tree('S', [Tree('NP', [('Patients', 'NNS')]), ('are', 'VBP'), ('routinely', 'RB'), ('over', 'IN'), ('the', 'DT'), ('last', 'JJ'), ('20', 'CD'), Tree('NP', [('years', 'NNS')]), ('has', 'VBZ'), ('been', 'VBN'), ('to', 'TO'), ('see', 'VB'), ('a', 'DT'), Tree('NP', [('doctor', 'NN')]), ('about', 'IN'), Tree('NP', [('bone', 'NN'), ('pain', 'NN')]), ('.', '.')]),\n",
              " Tree('S', [('Can', 'MD'), ('not', 'RB'), ('move', 'VB'), ('Was', 'NNP'), ('never', 'RB'), ('like', 'IN'), ('this', 'DT'), Tree('NP', [('before', 'NN')]), ('.', '.')]),\n",
              " Tree('S', [('The', 'DT'), Tree('NP', [('doctor', 'NN')]), ('did', 'VBD'), ('not', 'RB'), ('say', 'VB'), Tree('NP', [('anything', 'NN')]), ('more', 'JJR'), ('.', '.')]),\n",
              " Tree('S', [('When', 'WRB'), ('asked', 'VBN'), ('if', 'IN'), ('it', 'PRP'), ('is', 'VBZ'), ('not', 'RB'), ('broken', 'VBN'), ('.', '.')]),\n",
              " Tree('S', [('Or', 'CC'), ('is', 'VBZ'), Tree('NP', [('something', 'NN')]), ('more', 'RBR'), (',', ','), ('right', 'RB'), ('?', '.')]),\n",
              " Tree('S', [('The', 'DT'), Tree('NP', [('doctor', 'NN')]), ('replied', 'VBD'), ('that', 'IN'), ('if', 'IN'), ('this', 'DT'), ('is', 'VBZ'), ('broken', 'VBN'), ('.', '.')]),\n",
              " Tree('S', [('It', 'PRP'), ('is', 'VBZ'), ('now', 'RB'), Tree('NP', [('cancer', 'NN')]), ('The', 'DT'), Tree('NP', [('answer', 'NN')]), ('is', 'VBZ'), ('not', 'RB'), ('worthy', 'JJ'), Tree('NP', [('answer', 'NN')]), ('to', 'TO'), ('this', 'DT'), Tree('NP', [('patient', 'NN')]), ('.', '.')]),\n",
              " Tree('S', [('I', 'PRP'), ('have', 'VBP'), ('been', 'VBN'), ('informed', 'VBN'), ('of', 'IN'), ('the', 'DT'), Tree('NP', [('complaint', 'NN')]), ('to', 'TO'), ('the', 'DT'), Tree('NP', [('hospital', 'NN')]), ('.', '.')]),\n",
              " Tree('S', [('The', 'DT'), Tree('NP', [('doctor', 'NN')]), ('is', 'VBZ'), ('a', 'DT'), ('good', 'JJ'), Tree('NP', [('doctor', 'NN')]), ('and', 'CC'), ('famous', 'JJ'), ('.', '.')]),\n",
              " Tree('S', [('In', 'IN'), Tree('NP', [('conclusion', 'NN')]), (',', ','), ('I', 'PRP'), ('have', 'VBP'), ('muscle', 'VBN'), ('relaxant', 'JJ'), Tree('NP', [('medications', 'NNS')]), ('and', 'CC'), ('topical', 'JJ'), Tree('NP', [('analgesics', 'NNS')]), ('that', 'WDT'), ('.', '.')]),\n",
              " Tree('S', [('Therefore', 'RB'), ('ask', 'VBZ'), ('the', 'DT'), Tree('NP', [('pharmacist', 'NN')]), ('to', 'TO'), ('dispense', 'VB'), ('again', 'RB'), ('.', '.')]),\n",
              " Tree('S', [('OK', 'UH'), (',', ','), ('that', 'DT'), (\"'s\", 'VBZ'), ('what', 'WP')]),\n",
              " Tree('S', [('To', 'TO'), ('treat', 'VB'), Tree('NP', [('rheumatoid', 'NN')]), ('at', 'IN'), ('the', 'DT'), ('Bangkok', 'NNP'), ('Christian', 'NNP'), ('Hospital', 'NNP'), ('here', 'RB'), ('.', '.')]),\n",
              " Tree('S', [('You', 'PRP'), Tree('NP', [('kind', 'NN')]), ('and', 'CC'), Tree('NP', [('caring', 'NN')]), ('very', 'RB'), ('good', 'JJ'), ('.', '.')]),\n",
              " Tree('S', [('Will', 'MD'), ('see', 'VB'), ('the', 'DT'), Tree('NP', [('disease', 'NN')]), ('as', 'RB'), ('well', 'RB'), ('.', '.')]),\n",
              " Tree('S', [('Once', 'RB'), ('selected', 'VBN'), ('the', 'DT'), ('right', 'JJ'), Tree('NP', [('eye', 'NN'), ('capillaries', 'NNS')]), ('in', 'IN'), ('the', 'DT'), Tree('NP', [('eye', 'NN')]), ('.', '.')]),\n",
              " Tree('S', [('It', 'PRP'), ('makes', 'VBZ'), ('the', 'DT'), Tree('NP', [('eyes', 'NNS')]), ('red', 'VBD'), ('Go', 'NNP'), ('to', 'TO'), ('the', 'DT'), Tree('NP', [('doctor', 'NN')]), ('by', 'IN'), Tree('NP', [('appointment', 'NN')]), ('The', 'DT'), Tree('NP', [('doctor', 'NN')]), ('asked', 'VBD'), ('my', 'PRP$'), ('red', 'JJ'), Tree('NP', [('eyes', 'NNS')]), ('.', '.')]),\n",
              " Tree('S', [('Ask', 'VB'), ('the', 'DT'), ('Prophet', 'NNP'), ('.', '.')]),\n",
              " Tree('S', [('But', 'CC'), ('we', 'PRP'), ('go', 'VBP'), ('untreated', 'JJ'), Tree('NP', [('rheumatoid', 'NN')]), ('Grand', 'NNP'), ('.', '.')]),\n",
              " Tree('S', [('Not', 'RB'), ('keeping', 'VBG'), ('an', 'DT'), Tree('NP', [('eye', 'NN')]), ('on', 'IN'), ('The', 'DT'), Tree('NP', [('doctor', 'NN')]), ('also', 'RB'), ('noted', 'VBD'), ('.', '.')]),\n",
              " Tree('S', [Tree('NP', [('Shows', 'NNS')]), ('empathy', 'VBP'), ('for', 'IN'), Tree('NP', [('patients', 'NNS')]), ('.', '.')]),\n",
              " Tree('S', [('Then', 'RB'), ('again', 'RB'), (',', ','), ('the', 'DT'), Tree('NP', [('weather', 'NN')]), ('was', 'VBD'), ('quite', 'RB'), ('cold', 'JJ'), ('.', '.')]),\n",
              " Tree('S', [('I', 'PRP'), ('noticed', 'VBD'), ('that', 'IN'), ('a', 'DT'), Tree('NP', [('leg', 'NN')]), ('up', 'RP'), ('red', 'JJ'), Tree('NP', [('blotches', 'NNS')]), ('.', '.')]),\n",
              " Tree('S', [('He', 'PRP'), ('was', 'VBD'), ('asked', 'VBN'), ('whether', 'IN'), ('or', 'CC'), Tree('NP', [('winter', 'NN')]), ('.', '.')]),\n",
              " Tree('S', [('Dong', 'NNP'), ('remember', 'VB'), ('him', 'PRP'), ('as', 'IN'), ('extraordinary', 'JJ'), ('yet', 'RB'), ('.', '.')]),\n",
              " Tree('S', [('Shows', 'VBZ'), ('the', 'DT'), ('great', 'JJ'), Tree('NP', [('attention', 'NN')]), ('both', 'DT'), ('at', 'IN'), ('about', 'IN'), ('the', 'DT'), Tree('NP', [('disease', 'NN')]), ('that', 'WDT'), ('came', 'VBD'), ('to', 'TO'), ('me', 'PRP'), ('.', '.')]),\n",
              " Tree('S', [('As', 'RB'), ('well', 'RB'), ('as', 'IN'), Tree('NP', [('talk', 'NN')]), ('about', 'IN'), Tree('NP', [('work', 'NN')]), ('Introductions', 'NNP'), ('Encouragement', 'NNP'), ('throughout', 'IN'), ('.', '.')]),\n",
              " Tree('S', [('Good', 'JJ'), Tree('NP', [('service', 'NN')]), ('described', 'VBD'), ('patient', 'JJ'), Tree('NP', [('care', 'NN')])]),\n",
              " Tree('S', [Tree('NP', [('Yesterday', 'NN')]), ('was', 'VBD'), ('a', 'DT'), Tree('NP', [('doctor', 'NN')]), ('at', 'IN'), ('the', 'DT'), Tree('NP', [('hospital', 'NN')]), ('Christians', 'NNPS'), ('.', '.')]),\n",
              " Tree('S', [('Ambulance', 'NNP'), Tree('NP', [('service', 'NN')]), ('here', 'RB'), ('is', 'VBZ'), ('very', 'RB'), ('flattering', 'JJ'), Tree('NP', [('impression', 'NN')]), ('smiling', 'VBG'), ('much', 'JJ'), ('.', '.')]),\n",
              " Tree('S', [('I', 'PRP'), ('had', 'VBD'), ('to', 'TO'), ('give', 'VB'), Tree('NP', [('birth', 'NN')]), ('at', 'IN'), ('the', 'DT'), Tree('NP', [('hospital', 'NN')]), ('in', 'IN'), ('2554', 'CD'), ('when', 'WRB'), ('Bangkok', 'NNP'), Tree('NP', [('แlai', 'NN')]), ('2556', 'CD'), ('.', '.')]),\n",
              " Tree('S', [Tree('NP', [('Nurses', 'NNS'), ('feel', 'NN')]), ('and', 'CC'), ('the', 'DT'), Tree('NP', [('service', 'NN')]), ('is', 'VBZ'), ('very', 'RB'), ('good', 'JJ'), ('.', '.')]),\n",
              " Tree('S', [('The', 'DT'), ('first', 'JJ'), Tree('NP', [('day', 'NN')]), ('she', 'PRP'), ('entered', 'VBD'), ('the', 'DT'), Tree('NP', [('hospital', 'NN')]), ('.', '.')]),\n",
              " Tree('S', [('The', 'DT'), Tree('NP', [('doctor', 'NN')]), ('was', 'VBD'), Tree('NP', [('kind', 'NN'), ('ฝaktgag', 'NN')]), ('.', '.')]),\n",
              " Tree('S', [('And', 'CC'), ('very', 'RB'), ('sociable', 'JJ'), Tree('NP', [('Talk', 'NN')]), ('with', 'IN'), ('the', 'DT'), Tree('NP', [('patient', 'NN')]), (\"'s\", 'POS'), ('very', 'RB'), ('melodic', 'JJ'), ('.', '.')]),\n",
              " Tree('S', [('I', 'PRP'), ('like', 'VBP'), ('this', 'DT'), Tree('NP', [('doctor', 'NN')]), ('because', 'IN'), ('the', 'DT'), Tree('NP', [('doctor', 'NN')]), ('advised', 'VBD'), ('to', 'TO'), ('consult', 'VB'), ('any', 'DT'), ('good', 'JJ'), Tree('NP', [('story', 'NN')]), (',', ','), ('I', 'PRP'), ('asked', 'VBD'), ('.', '.')]),\n",
              " Tree('S', [Tree('NP', [('Today', 'NN')]), (',', ','), ('if', 'IN'), Tree('NP', [('people', 'NNS')]), ('have', 'VBP'), ('more', 'JJR'), Tree('NP', [('children', 'NNS')]), (',', ','), ('ฝaktgag', 'VBP'), ('here', 'RB'), ('like', 'IN'), ('me', 'PRP'), ('.', '.')]),\n",
              " Tree('S', [('Service', 'NNP'), ('is', 'VBZ'), ('fast', 'RB'), ('Medical', 'JJ'), Tree('NP', [('counseling', 'NN')]), ('and', 'CC'), Tree('NP', [('information', 'NN')]), ('about', 'IN'), ('the', 'DT'), Tree('NP', [('disease', 'NN')]), ('as', 'RB'), ('well', 'RB'), ('.', '.')]),\n",
              " Tree('S', [('I', 'PRP'), ('can', 'MD'), ('not', 'RB'), ('find', 'VB'), ('a', 'DT'), Tree('NP', [('diagnosis', 'NN')]), ('for', 'IN'), ('several', 'JJ'), Tree('NP', [('years', 'NNS')]), ('.', '.')]),\n",
              " Tree('S', [('It', 'PRP'), (\"'s\", 'VBZ'), ('worth', 'IN'), ('it', 'PRP'), ('Other', 'JJ'), Tree('NP', [('staff', 'NN')]), ('is', 'VBZ'), ('friendly', 'JJ'), ('and', 'CC'), ('good', 'JJ'), ('free', 'JJ'), Tree('NP', [('wifi', 'NN')]), ('that', 'WDT'), (\"'s\", 'VBZ'), ('hard', 'JJ'), ('to', 'TO'), ('do', 'VB'), ('here', 'RB'), ('.', '.')]),\n",
              " Tree('S', [('My', 'PRP$'), Tree('NP', [('stomach', 'NN'), ('twin', 'NN'), ('gestation', 'NN')]), ('3', 'CD'), ('26-27wk', 'JJ'), Tree('NP', [('diarrhea', 'NN')]), ('from', 'IN'), ('3', 'CD'), ('to', 'TO'), ('9', 'CD'), Tree('NP', [('pm', 'NN')]), (',', ','), ('but', 'CC'), ('a', 'DT'), Tree('NP', [('doctor', 'NN')]), ('at', 'IN'), ('the', 'DT'), Tree('NP', [('hospital', 'NN')]), (',', ','), Tree('NP', [('someone', 'NN')]), ('took', 'VBD'), ('a', 'DT'), Tree('NP', [('wheelchair', 'NN')]), ('to', 'TO'), ('get', 'VB'), ('.', '.')]),\n",
              " Tree('S', [Tree('NP', [('Accelerators', 'NNS')]), ('that', 'WDT'), ('make', 'VBP'), ('it', 'PRP'), Tree('NP', [('convenient', 'NN')]), ('to', 'TO'), ('go', 'VB'), ('to', 'TO'), ('the', 'DT'), Tree('NP', [('bathroom', 'NN')]), ('.', '.')]),\n",
              " Tree('S', [('May', 'NNP'), Tree('NP', [('d.', 'NN')]), ('Nurse', 'NNP'), ('brought', 'VBD'), ('him', 'PRP'), ('willingly', 'RB'), ('.', '.')]),\n",
              " Tree('S', [('That', 'DT'), ('caught', 'VBD'), ('the', 'DT'), Tree('NP', [('brine', 'NN')]), ('admit', 'VBP'), ('one', 'CD'), Tree('NP', [('night', 'NN')]), ('at', 'IN'), ('a', 'DT'), ('Portuguese', 'JJ'), Tree('NP', [('doctor', 'NN')]), (',', ','), Tree('NP', [('specialist', 'NN'), ('doctors', 'NNS')]), ('and', 'CC'), Tree('NP', [('obstetricians', 'NNS')]), ('.', '.')]),\n",
              " Tree('S', [('Doctor', 'NNP'), (\"'s\", 'POS'), Tree('NP', [('disease', 'NN')]), ('and', 'CC'), Tree('NP', [('colon', 'NN'), ('care', 'NN')]), ('close', 'JJ'), ('it', 'PRP'), ('.', '.')]),\n",
              " Tree('S', [('The', 'DT'), ('only', 'JJ'), Tree('NP', [('drawback', 'NN')]), ('I', 'PRP'), ('feel', 'VBP'), ('better', 'RB'), ('.', '.')]),\n",
              " Tree('S', [('And', 'CC'), ('discharged', 'VBD'), ('me', 'PRP'), ('.', '.')]),\n",
              " Tree('S', [Tree('NP', [('Exceptions', 'NNS')]), ('only', 'RB'), ('dislike', 'VBP'), ('is', 'VBZ'), ('the', 'DT'), Tree('NP', [('bed', 'NN')]), ('a', 'DT'), ('little', 'JJ'), ('too', 'RB'), ('hard', 'RB'), ('.', '.')]),\n",
              " Tree('S', [('Women', 'NNP'), ('pregnant', 'JJ'), ('belly', 'RB'), ('grows', 'VBZ'), ('a', 'DT'), ('little', 'JJ'), Tree('NP', [('journey', 'NN')]), ('.', '.')]),\n",
              " Tree('S', [('Rarely', 'RB'), ('liner', 'JJ'), Tree('NP', [('port', 'NN')]), ('ergonomic', 'VBD'), ('us', 'PRP'), ('much', 'RB'), ('good', 'JJ'), (',', ','), ('but', 'CC'), ('I', 'PRP'), ('do', 'VBP'), ('ok', 'RB'), ('.', '.')]),\n",
              " Tree('S', [('You', 'PRP'), (\"'ve\", 'VBP'), ('found', 'VBN'), ('the', 'DT'), Tree('NP', [('maternity', 'NN'), ('ward', 'NN')]), ('of', 'IN'), ('irregular', 'JJ'), ('menstrual', 'JJ'), Tree('NP', [('cycles', 'NNS')]), ('.', '.')]),\n",
              " Tree('S', [('You', 'PRP'), ('are', 'VBP'), ('a', 'DT'), Tree('NP', [('man', 'NN')]), ('Initially', 'NNP'), ('shy', 'JJ'), ('and', 'CC'), ('scared', 'JJ'), ('because', 'IN'), ('it', 'PRP'), ('requires', 'VBZ'), Tree('NP', [('examination', 'NN')]), ('.', '.')]),\n",
              " Tree('S', [('But', 'CC'), Tree('NP', [('doctors', 'NNS')]), ('say', 'VBP'), ('the', 'DT'), ('very', 'RB'), ('friendly', 'JJ'), ('at', 'IN'), Tree('NP', [('check', 'NN')]), ('not', 'RB'), ('scary', 'JJ'), ('at', 'IN'), ('all', 'DT'), ('.', '.')]),\n",
              " Tree('S', [('Woon', 'NNP'), ('has', 'VBZ'), ('Ultrasound', 'VBN'), ('Uterine', 'NNP'), Tree('NP', [('teller', 'NN')]), ('with', 'IN'), ('you', 'PRP'), ('until', 'IN'), ('the', 'DT'), Tree('NP', [('eggs', 'NNS')]), ('are', 'VBP'), Tree('NP', [('eggs', 'NNS')]), ('that', 'WDT'), ('have', 'VBP'), ('little', 'JJ'), Tree('NP', [('egg', 'NN')]), ('with', 'IN'), ('normal', 'JJ'), Tree('NP', [('children', 'NNS')]), ('.', '.')]),\n",
              " Tree('S', [('The', 'DT'), ('uterine', 'JJ'), Tree('NP', [('wall', 'NN')]), ('so', 'RB'), ('strong', 'JJ'), ('that', 'IN'), ('you', 'PRP'), ('have', 'VBP'), ('forgotten', 'VBN'), ('much', 'JJ'), ('.', '.')]),\n",
              " Tree('S', [('I', 'PRP'), ('think', 'VBP'), ('it', 'PRP'), ('cost', 'VBD'), ('dearly', 'RB'), ('.', '.')]),\n",
              " Tree('S', [('I', 'PRP'), ('think', 'VBP'), ('out', 'IN'), ('Thousand', 'NNP'), Tree('NP', [('baht', 'NN')]), ('is', 'VBZ'), ('very', 'RB'), ('cheap', 'JJ'), ('for', 'IN'), ('the', 'DT'), ('internal', 'JJ'), Tree('NP', [('temperature', 'NN')]), ('of', 'IN'), ('the', 'DT'), Tree('NP', [('ultrasound', 'NN')]), ('.', '.')]),\n",
              " Tree('S', [('Doctor', 'NNP'), (',', ','), Tree('NP', [('thank', 'NN')]), ('you', 'PRP'), ('very', 'RB'), ('much', 'RB'), ('!', '.')]),\n",
              " Tree('S', [('On', 'IN'), ('Sunday', 'NNP'), Tree('NP', [('disease', 'NN'), ('recurrence', 'NN')]), ('Ask', 'NNP'), ('your', 'PRP$'), Tree('NP', [('doctor', 'NN')]), (',', ','), Tree('NP', [('hospital', 'NN'), ('bed', 'NN')]), ('.', '.')]),\n",
              " Tree('S', [('But', 'CC'), Tree('NP', [('doctors', 'NNS')]), ('say', 'VBP'), ('that', 'DT'), ('is', 'VBZ'), ('not', 'RB'), ('necessary', 'JJ'), ('.', '.')]),\n",
              " Tree('S', [('Better', 'RBR'), ('to', 'TO'), ('stay', 'VB'), ('at', 'IN'), Tree('NP', [('home', 'NN')]), ('I', 'PRP'), ('was', 'VBD'), ('glad', 'VBN'), ('to', 'TO'), ('put', 'VB'), ('the', 'DT'), Tree('NP', [('interests', 'NNS')]), ('of', 'IN'), Tree('NP', [('patients', 'NNS')]), ('over', 'IN'), ('.', '.')]),\n",
              " Tree('S', [('The', 'DT'), ('hospital', 'JJ'), Tree('NP', [('staff', 'NN')]), ('was', 'VBD'), ('attentive', 'JJ'), (',', ','), ('very', 'RB'), ('patient', 'JJ'), ('.', '.')]),\n",
              " Tree('S', [('A', 'DT'), ('medical', 'JJ'), Tree('NP', [('expert', 'NN')]), ('will', 'MD'), ('go', 'VB'), ('to', 'TO'), ('the', 'DT'), Tree('NP', [('front', 'NN')]), ('of', 'IN'), ('whatever', 'WDT'), Tree('NP', [('experience', 'NN')]), ('it', 'PRP'), (',', ','), ('ENT', 'NNP'), Tree('NP', [('doctors', 'NNS')]), ('and', 'CC'), Tree('NP', [('nurses', 'NNS')]), ('can', 'MD'), ('answer', 'VB'), Tree('NP', [('questions', 'NNS')]), ('better', 'JJR'), ('/', 'NNP'), ('Department', 'NNP'), ('of', 'IN'), ('Ophthalmology', 'NNP'), ('is', 'VBZ'), ('the', 'DT'), ('same', 'JJ'), ('/', 'NNP'), ('internal', 'JJ'), Tree('NP', [('medicine', 'NN'), ('department', 'NN')]), ('.', '.')]),\n",
              " Tree('S', [Tree('NP', [('Doctors', 'NNS')]), ('can', 'MD'), ('interact', 'VB'), ('And', 'CC'), ('knowledge', 'VB'), ('is', 'VBZ'), ('excellent', 'JJ'), ('/', 'NNP'), ('OPD', 'NNP'), Tree('NP', [('department', 'NN')]), ('is', 'VBZ'), ('trying', 'VBG'), ('to', 'TO'), ('use', 'VB'), ('the', 'DT'), Tree('NP', [('material', 'NN')]), ('.', '.')]),\n",
              " Tree('S', [('So', 'RB'), ('as', 'IN'), ('not', 'RB'), ('to', 'TO'), ('break', 'VB'), ('the', 'DT'), Tree('NP', [('load', 'NN')]), ('.', '.')]),\n",
              " Tree('S', [('The', 'DT'), ('recommended', 'JJ'), Tree('NP', [('treatment', 'NN')]), ('for', 'IN'), Tree('NP', [('patients', 'NNS')]), ('with', 'IN'), Tree('NP', [('post', 'NN'), ('hospital', 'NN'), ('services', 'NNS')]), ('is', 'VBZ'), ('a', 'DT'), ('good', 'JJ'), Tree('NP', [('team', 'NN')]), ('of', 'IN'), ('medical', 'JJ'), Tree('NP', [('specialists', 'NNS')]), ('.', '.')]),\n",
              " Tree('S', [('And', 'CC'), ('superfluous', 'JJ')]),\n",
              " Tree('S', [('To', 'TO'), ('treat', 'VB'), ('itching', 'VBG'), ('in', 'IN'), Tree('NP', [('parachute', 'NN')]), ('Since', 'IN'), Tree('NP', [('travel', 'NN'), ('nurses', 'NNS')]), ('and', 'CC'), Tree('NP', [('doctors', 'NNS')]), ('to', 'TO'), ('provide', 'VB'), Tree('NP', [('care', 'NN')]), ('and', 'CC'), Tree('NP', [('guidance', 'NN')]), ('is', 'VBZ'), ('great', 'JJ'), ('.', '.')]),\n",
              " Tree('S', [Tree('NP', [('Reduces', 'NNS'), ('symptoms', 'NNS')]), ('of', 'IN'), ('nervous', 'JJ'), Tree('NP', [('doctors', 'NNS')]), (',', ','), Tree('NP', [('obstetricians', 'NNS')]), ('have', 'VBP'), ('found', 'VBN'), ('the', 'DT'), ('first', 'JJ'), Tree('NP', [('lot', 'NN')]), ('.', '.')]),\n",
              " Tree('S', [('Good', 'JJ'), Tree('NP', [('doctors', 'NNS')]), ('do', 'VBP'), ('not', 'RB'), ('treat', 'VB'), ('it', 'PRP'), ('.', '.')]),\n",
              " Tree('S', [('Dr.', 'NNP'), ('Plernpit', 'NNP'), ('Lertpanya', 'NNP'), Tree('NP', [('children', 'NNS')]), ('were', 'VBD'), ('very', 'RB'), ('good', 'JJ'), Tree('NP', [('doctors', 'NNS')]), ('detect', 'VBP'), Tree('NP', [('diseases', 'NNS')]), ('of', 'IN'), ('new', 'JJ'), ('diagnostic', 'JJ'), Tree('NP', [('accuracy', 'NN')]), ('.', '.')]),\n",
              " Tree('S', [('A', 'DT'), ('clear', 'JJ'), Tree('NP', [('answer', 'NN')])]),\n",
              " Tree('S', [('Son', 'NNP'), ('HIV', 'NNP'), Tree('NP', [('virus', 'NN'), ('rsv', 'NN')]), ('While', 'IN'), ('Ward', 'NNP'), (\"'s\", 'POS'), ('filled', 'VBN'), ('every', 'DT'), Tree('NP', [('room', 'NN')]), ('.', '.')]),\n",
              " Tree('S', [('The', 'DT'), Tree('NP', [('hospital', 'NN')]), ('provides', 'VBZ'), ('a', 'DT'), Tree('NP', [('solution', 'NN')]), ('to', 'TO'), ('the', 'DT'), ('ICU', 'NNP'), Tree('NP', [('waiting', 'NN'), ('room', 'NN')]), ('.', '.')]),\n",
              " Tree('S', [('Nurse', 'NNP'), ('updated', 'VBD'), ('all', 'PDT'), ('the', 'DT'), Tree('NP', [('time', 'NN')]), ('to', 'TO'), ('have', 'VB'), ('the', 'DT'), Tree('NP', [('room', 'NN')]), ('now', 'RB'), ('.', '.')]),\n",
              " Tree('S', [Tree('NP', [('Nursing', 'NN')]), ('and', 'CC'), ('medical', 'JJ'), Tree('NP', [('care', 'NN')]), ('and', 'CC'), Tree('NP', [('attention', 'NN')]), ('to', 'TO'), Tree('NP', [('patients', 'NNS')]), ('very', 'RB'), ('well', 'RB'), ('in', 'IN'), Tree('NP', [('spite', 'NN')]), ('of', 'IN'), ('the', 'DT'), ('many', 'JJ'), ('sick', 'JJ'), Tree('NP', [('children', 'NNS')]), ('are', 'VBP'), ('busy', 'JJ'), ('the', 'DT'), ('whole', 'JJ'), Tree('NP', [('ward', 'NN')]), ('.', '.')]),\n",
              " Tree('S', [('All', 'DT'), Tree('NP', [('patients', 'NNS')]), ('with', 'IN'), ('a', 'DT'), ('smiling', 'VBG'), Tree('NP', [('countenance', 'NN')]), ('.', '.')]),\n",
              " Tree('S', [('Very', 'RB'), ('impressive', 'JJ')]),\n",
              " Tree('S', [('Maternity', 'NNP'), ('leave', 'VBP'), ('and', 'CC'), ('delivered', 'VBN'), ('to', 'TO'), ('the', 'DT'), ('Mayor', 'NNP'), (',', ','), ('Dr.', 'NNP'), ('Siri', 'NNP'), Tree('NP', [('estate', 'NN')]), ('you', 'PRP'), ('are', 'VBP'), ('so', 'RB'), Tree('NP', [('kind', 'NN')]), (',', ','), ('friendly', 'RB'), (',', ','), ('informative', 'JJ'), ('about', 'IN'), ('the', 'DT'), Tree('NP', [('pregnancy', 'NN')]), ('very', 'RB'), ('well', 'RB'), ('.', '.')]),\n",
              " Tree('S', [('You', 'PRP'), ('are', 'VBP'), ('very', 'RB'), ('specialized', 'JJ'), Tree('NP', [('Every', 'NN'), ('time', 'NN')]), ('you', 'PRP'), ('encounter', 'VBP'), ('a', 'DT'), Tree('NP', [('problem', 'NN')]), ('during', 'IN'), Tree('NP', [('pregnancy', 'NN')]), ('.', '.')]),\n",
              " Tree('S', [('Your', 'PRP$'), Tree('NP', [('doctor', 'NN')]), ('will', 'MD'), ('give', 'VB'), ('you', 'PRP'), ('very', 'RB'), ('good', 'JJ'), Tree('NP', [('advice', 'NN')]), ('.', '.')]),\n",
              " Tree('S', [('You', 'PRP'), ('pretty', 'RB'), ('much', 'JJ'), ('caesarean', 'JJ'), Tree('NP', [('stitches', 'NNS')]), ('.', '.')]),\n",
              " Tree('S', [('Walking', 'VBG'), ('out', 'IN'), ('of', 'IN'), Tree('NP', [('bed', 'NN')]), ('after', 'IN'), ('disconnecting', 'VBG'), Tree('NP', [('water', 'NN')]), ('.', '.')]),\n",
              " Tree('S', [('Very', 'RB'), ('sore', 'RB'), ('Doctor', 'NNP'), Tree('NP', [('patient', 'NN'), ('care', 'NN')]), ('as', 'RB'), ('well', 'RB'), ('as', 'IN'), ('your', 'PRP$'), ('regular', 'JJ'), Tree('NP', [('doctor', 'NN')]), ('.', '.')]),\n",
              " Tree('S', [('The', 'DT'), Tree('NP', [('examination', 'NN')]), ('every', 'DT'), Tree('NP', [('year', 'NN')])]),\n",
              " Tree('S', [('Very', 'RB'), ('good', 'JJ'), Tree('NP', [('service', 'NN')])]),\n",
              " Tree('S', [('Often', 'RB'), ('a', 'DT'), ('good', 'JJ'), ('big', 'JJ'), Tree('NP', [('room', 'NN')])]),\n",
              " Tree('S', [('Nursing', 'VBG'), ('a', 'DT'), Tree('NP', [('counter', 'NN')]), ('with', 'IN'), ('about', 'IN'), ('20', 'CD'), Tree('NP', [('people', 'NNS')]), (',', ','), ('but', 'CC'), ('the', 'DT'), Tree('NP', [('doctor', 'NN')]), ('in', 'IN'), ('the', 'DT'), Tree('NP', [('examination', 'NN'), ('room', 'NN')]), (',', ','), ('I', 'PRP'), ('have', 'VBP'), ('concluded', 'VBN'), ('this', 'DT'), ('May', 'NNP'), ('de', 'FW'), ('Blanca', 'NNP'), ('Caballero', 'NNP'), Tree('NP', [('treatment', 'NN')]), ('or', 'CC'), Tree('NP', [('doctor', 'NN')]), (\"'s\", 'POS'), Tree('NP', [('appointment', 'NN')]), ('9:00', 'CD'), ('to', 'TO'), ('10:00', 'CD'), (',', ','), ('thus', 'RB'), ('far', 'RB'), (',', ','), ('has', 'VBZ'), ('not', 'RB'), ('been', 'VBN'), ('reviewed', 'VBN'), ('yet', 'RB'), ('..', 'JJ')]),\n",
              " Tree('S', [('Good', 'JJ'), Tree('NP', [('service', 'NN')]), (',', ','), ('reasonable', 'JJ'), Tree('NP', [('prices', 'NNS')])]),\n",
              " Tree('S', [('Find', 'IN'), ('a', 'DT'), ('Doctor', 'NNP'), ('of', 'IN'), ('Nursing', 'NNP'), ('to', 'TO'), ('pressure', 'VB'), ('weighing', 'VBG'), Tree('NP', [('surgery', 'NN')]), ('when', 'WRB'), ('he', 'PRP'), ('put', 'VBD'), ('his', 'PRP$'), Tree('NP', [('hand', 'NN')]), ('to', 'TO'), Tree('NP', [('pressure', 'NN')]), ('.', '.')]),\n",
              " Tree('S', [Tree('NP', [('Replacement', 'NN'), ('nurses', 'NNS')]), ('will', 'MD'), ('have', 'VB'), ('to', 'TO'), ('press', 'VB'), Tree('NP', [('start', 'NN')]), ('to', 'TO'), ('press', 'VB'), ('it', 'PRP'), ('.', '.')]),\n",
              " Tree('S', [Tree('NP', [('Went', 'NN')]), ('to', 'TO'), ('a', 'DT'), ('dental', 'JJ'), ('x-Ray', 'JJ'), ('done', 'VBN'), ('enough', 'JJ'), Tree('NP', [('nurses', 'NNS')]), ('were', 'VBD'), ('told', 'VBN'), ('to', 'TO'), ('wait', 'VB'), ('outside', 'RB'), (',', ','), ('then', 'RB'), ('.', '.')]),\n",
              " Tree('S', [('The', 'DT'), Tree('NP', [('patients', 'NNS')]), ('then', 'RB'), ('cancel', 'VB'), ('his', 'PRP$'), Tree('NP', [('jacket', 'NN')]), ('to', 'TO'), ('keep', 'VB'), ('the', 'DT'), Tree('NP', [('radiation', 'NN')]), ('itself', 'PRP'), ('.', '.')]),\n",
              " Tree('S', [('OK', 'UH'), (',', ','), ('that', 'DT'), ('private', 'JJ'), Tree('NP', [('hospitals', 'NNS')]), ('The', 'DT'), Tree('NP', [('government', 'NN'), ('hospital', 'NN')]), ('waiting', 'VBG'), ('for', 'IN'), ('me', 'PRP'), ('.', '.')]),\n",
              " Tree('S', [('ICU', 'NNP'), ('9', 'CD'), Tree('NP', [('thanks', 'NNS')]), ('to', 'TO'), ('a', 'DT'), Tree('NP', [('caring', 'NN'), ('mother', 'NN')]), (',', ','), ('I', 'PRP'), (\"'m\", 'VBP'), ('a', 'DT'), ('good', 'JJ'), Tree('NP', [('mother', 'NN')]), ('visited', 'VBD'), ('last', 'JJ'), Tree('NP', [('night', 'NN')]), ('to', 'TO'), ('ask', 'VB'), Tree('NP', [('symptoms', 'NNS')]), ('.', '.')]),\n",
              " Tree('S', [('He', 'PRP'), ('played', 'VBD'), Tree('NP', [('catch', 'NN')]), ('with', 'IN'), Tree('NP', [('cheeks', 'NNS')]), ('like', 'IN'), ('a', 'DT'), ('friendly', 'JJ'), Tree('NP', [('feel', 'NN')]), ('like', 'IN'), Tree('NP', [('grandchildren', 'NNS')]), ('.', '.')]),\n",
              " Tree('S', [Tree('NP', [('Doctors', 'NNS')]), ('and', 'CC'), ('Mar', 'NNP'), ('Bal', 'NNP'), ('very', 'RB'), ('cute', 'RB'), ('.', '.')]),\n",
              " Tree('S', [Tree('NP', [('Doctor', 'NN')]), ('and', 'CC'), Tree('NP', [('nurse', 'NN')]), ('You', 'PRP'), ('are', 'VBP'), ('very', 'RB'), Tree('NP', [('kind', 'NN')]), ('flattering', 'JJ'), Tree('NP', [('look', 'NN')]), ('good', 'JJ'), ('throughout', 'IN'), ('the', 'DT'), Tree('NP', [('surgery', 'NN')]), ('Thank', 'NNP'), ('you', 'PRP'), ('Sai', 'NNP'), ('gold', 'VBD'), ('exemplary', 'JJ'), Tree('NP', [('safety', 'NN')]), ('and', 'CC'), ('well-maintained', 'JJ'), Tree('NP', [('feel', 'NN')]), ('good', 'JJ'), ('that', 'IN'), ('I', 'PRP'), ('do', 'VBP'), ('not', 'RB'), ('care', 'VB'), ('for', 'IN'), ('my', 'PRP$'), Tree('NP', [('recommendations', 'NNS')]), ('.', '.')]),\n",
              " Tree('S', [('I', 'PRP'), ('will', 'MD'), ('not', 'RB'), ('take', 'VB'), Tree('NP', [('care', 'NN')]), ('of', 'IN'), ('themselves', 'PRP'), ('.', '.')]),\n",
              " Tree('S', [Tree('NP', [('Accommodation', 'NN')]), ('near', 'IN'), Tree('NP', [('restaurants', 'NNS')]), (',', ','), Tree('NP', [('hospitals', 'NNS')]), ('and', 'CC'), Tree('NP', [('outpatient', 'NN'), ('care', 'NN')]), ('because', 'IN'), ('her', 'PRP$'), Tree('NP', [('mother', 'NN')]), ('was', 'VBD'), ('being', 'VBG'), ('treated', 'VBN'), ('for', 'IN'), ('the', 'DT'), ('first', 'JJ'), Tree('NP', [('time', 'NN')]), (',', ','), ('really', 'RB'), ('thank', 'VB'), ('you', 'PRP'), ('from', 'IN'), ('my', 'PRP$'), Tree('NP', [('heart', 'NN')]), ('.', '.')]),\n",
              " Tree('S', [('I', 'PRP'), (\"'ve\", 'VBP'), ('come', 'VBN'), ('clean', 'JJ'), (',', ','), ('very', 'RB'), ('well', 'RB'), ('organized', 'VBN'), Tree('NP', [('management', 'NN'), ('system', 'NN')]), (',', ','), ('parking', 'VBG'), Tree('NP', [('lot', 'NN')]), ('renovated', 'VBD'), Tree('NP', [('unit', 'NN')]), ('on', 'IN'), ('even', 'RB'), ('more', 'RBR'), ('.', '.')]),\n",
              " Tree('S', [('Please', 'NNP'), ('clarify', 'VB'), ('the', 'DT'), Tree('NP', [('parking', 'NN')]), ('for', 'IN'), ('the', 'DT'), ('disabled', 'JJ'), (',', ','), Tree('NP', [('seniors', 'NNS')]), ('or', 'CC'), Tree('NP', [('people', 'NNS')]), ('with', 'IN'), Tree('NP', [('car', 'NN'), ('sharing', 'NN')]), (',', ','), ('walking', 'VBG'), Tree('NP', [('distance', 'NN')]), ('Viroqua', 'NNP'), ('not', 'RB'), ('.', '.')]),\n",
              " Tree('S', [('Make', 'VB'), ('it', 'PRP'), ('clear', 'JJ'), ('to', 'TO'), ('the', 'DT'), Tree('NP', [('security', 'NN'), ('guards', 'NNS')]), ('.', '.')]),\n",
              " Tree('S', [('With', 'IN'), ('the', 'DT'), ('.', '.')]),\n",
              " Tree('S', [('Which', 'WDT'), ('is', 'VBZ'), ('the', 'DT'), ('international', 'JJ'), Tree('NP', [('standard', 'NN')]), ('of', 'IN'), ('the', 'DT'), Tree('NP', [('world', 'NN')]), ('And', 'CC'), ('improve', 'VB'), ('the', 'DT'), Tree('NP', [('manners', 'NNS')]), ('of', 'IN'), ('a', 'DT'), Tree('NP', [('statement', 'NN')]), ('asking', 'VBG'), ('for', 'IN'), ('a', 'DT'), ('better', 'JJR'), Tree('NP', [('impression', 'NN')]), ('.', '.')]),\n",
              " Tree('S', [('Yes', 'UH'), (',', ','), ('worse', 'JJR'), ('at', 'IN'), Tree('NP', [('rest', 'NN')]), ('and', 'CC'), ('do', 'VBP'), ('not', 'RB'), ('want', 'VB'), ('to', 'TO'), ('use', 'VB'), ('the', 'DT'), Tree('NP', [('service', 'NN')]), ('again', 'RB'), ('.', '.')]),\n",
              " Tree('S', [('I', 'PRP'), ('regret', 'VBP'), ('very', 'RB'), ('much', 'RB'), ('that', 'IN'), ('the', 'DT'), Tree('NP', [('hospital', 'NN')]), ('does', 'VBZ'), ('not', 'RB'), ('provide', 'VB'), ('the', 'DT'), ('elderly', 'JJ'), ('.', '.')]),\n",
              " Tree('S', [('Very', 'RB'), ('good', 'JJ'), Tree('NP', [('service', 'NN')]), (',', ','), ('clean', 'JJ'), Tree('NP', [('hospitals', 'NNS')]), ('use', 'VBP'), ('the', 'DT'), Tree('NP', [('service', 'NN')]), ('.', '.')]),\n",
              " Tree('S', [('You', 'PRP'), ('are', 'VBP'), ('a', 'DT'), ('good', 'JJ'), Tree('NP', [('man', 'NN')]), (',', ','), ('a', 'DT'), ('24-hour', 'JJ'), Tree('NP', [('office', 'NN')]), ('a', 'DT'), Tree('NP', [('lot', 'NN')]), ('.', '.')]),\n",
              " Tree('S', [('Hospital', 'NNP'), Tree('NP', [('cleanliness', 'NN')]), ('.', '.')]),\n",
              " Tree('S', [('Excellent', 'NNP'), Tree('NP', [('smell', 'NN'), ('drugs', 'NNS')]), ('in', 'IN'), ('the', 'DT'), Tree('NP', [('book', 'NN')]), (',', ','), ('courteous', 'JJ'), Tree('NP', [('staff', 'NN')]), ('and', 'CC'), Tree('NP', [('fast', 'NN')]), ('.', '.')]),\n",
              " Tree('S', [('Home', 'NNP'), ('Monitoring', 'NNP'), ('Officer', 'NNP'), ('I', 'PRP'), ('work', 'VBP'), ('fast', 'RB'), ('Pressure', 'NNP'), ('modern', 'JJ'), ('Time', 'NNP'), ('Doctor', 'NNP'), ('is', 'VBZ'), ('not', 'RB'), ('too', 'RB'), ('long', 'RB'), ('.', '.')]),\n",
              " Tree('S', [('Dr.', 'NNP'), ('thorough', 'JJ'), Tree('NP', [('examination', 'NN')]), ('And', 'CC'), ('provide', 'VB'), ('clear', 'JJ'), Tree('NP', [('information', 'NN')]), ('on', 'IN'), ('the', 'DT')]),\n",
              " Tree('S', [('Was', 'NNP'), ('born', 'VBN'), ('here', 'RB'), ('and', 'CC'), ('ฝaktgag', 'VB'), ('All', 'DT'), Tree('NP', [('staff', 'NN')]), (',', ','), ('from', 'IN'), ('the', 'DT'), ('front', 'JJ'), Tree('NP', [('door', 'NN')]), ('to', 'TO'), ('the', 'DT'), Tree('NP', [('dissection', 'NN'), ('room', 'NN')]), ('.', '.')]),\n",
              " Tree('S', [Tree('NP', [('People', 'NNS')]), ('really', 'RB'), ('enjoy', 'VB'), ('it', 'PRP'), ('.', '.')]),\n",
              " Tree('S', [('1', 'CD'), ('.', '.')]),\n",
              " Tree('S', [('Parking', 'VBG'), ('-', ':'), ('If', 'IN'), Tree('NP', [('holiday', 'NN')]), ('before', 'IN'), ('ten', 'JJ'), Tree('NP', [(\"o'clock\", 'NN')]), ('in', 'IN'), ('the', 'DT'), Tree('NP', [('morning', 'NN')]), ('to', 'TO'), ('find', 'VB'), (',', ','), ('easy', 'JJ'), ('to', 'TO'), ('park', 'VB'), ('as', 'IN'), ('many', 'JJ'), Tree('NP', [('layers', 'NNS')]), ('.', '.')]),\n",
              " Tree('S', [('2', 'CD'), ('.', '.')]),\n",
              " Tree('S', [('The', 'DT'), Tree('NP', [('department', 'NN')]), (\"'s\", 'POS'), ('medical', 'JJ'), Tree('NP', [('records', 'NNS')]), ('-', ':'), Tree('NP', [('coordinator', 'NN'), ('sensitivity', 'NN')]), ('filed', 'VBN'), ('with', 'IN'), Tree('NP', [('patient', 'NN'), ('cards', 'NNS')]), (',', ','), Tree('NP', [('health', 'NN'), ('insurance', 'NN'), ('cards', 'NNS')]), ('allow', 'VBP'), ('up', 'RB'), ('to', 'TO'), ('3', 'CD'), Tree('NP', [('minutes', 'NNS')]), ('can', 'MD'), ('be', 'VB'), ('sent', 'VBN'), ('to', 'TO'), ('the', 'DT'), Tree('NP', [('front', 'NN')]), ('at', 'IN'), ('all', 'DT'), ('.', '.')]),\n",
              " Tree('S', [('3', 'CD'), ('.', '.')]),\n",
              " Tree('S', [('The', 'DT'), Tree('NP', [('services', 'NNS')]), ('provided', 'VBN'), ('by', 'IN'), Tree('NP', [('nurses', 'NNS')]), ('-', ':'), ('a', 'DT'), ('polite', 'JJ'), Tree('NP', [('smile', 'NN')]), ('.', '.')]),\n",
              " Tree('S', [('Gently', 'RB'), ('inject', 'VBP'), ('more', 'JJR'), ('4.', 'CD'), ('the', 'DT'), Tree('NP', [('expertise', 'NN')]), ('of', 'IN'), Tree('NP', [('doctors', 'NNS')]), ('-', ':'), Tree('NP', [('doctors', 'NNS')]), (',', ','), ('most', 'JJS'), ('of', 'IN'), ('the', 'DT'), Tree('NP', [('teachers', 'NNS')]), ('are', 'VBP'), ('proficient', 'JJ'), Tree('NP', [('proficient', 'NN')]), ('.', '.')]),\n",
              " Tree('S', [('But', 'CC'), ('the', 'DT'), Tree('NP', [('deduction', 'NN')]), ('in', 'IN'), Tree('NP', [('respect', 'NN')]), ('of', 'IN'), ('the', 'DT'), Tree('NP', [('issue', 'NN')]), ('of', 'IN'), ('the', 'DT'), ('medical', 'JJ'), Tree('NP', [('examination', 'NN')]), ('.', '.')]),\n",
              " Tree('S', [('Sometimes', 'RB'), ('you', 'PRP'), ('wait', 'VBP'), ('too', 'RB'), ('long', 'RB'), (',', ','), ('because', 'IN'), Tree('NP', [('doctors', 'NNS')]), ('need', 'VBP'), Tree('NP', [('time', 'NN')]), ('to', 'TO'), ('examine', 'VB'), Tree('NP', [('patients', 'NNS')]), ('.', '.')]),\n",
              " Tree('S', [('I', 'PRP'), ('highly', 'RB'), ('mobile', 'JJ'), Tree('NP', [('battery', 'NN')]), ('charging', 'VBG'), Tree('NP', [('backup', 'NN'), ('batteries', 'NNS')]), ('.', '.')]),\n",
              " Tree('S', [('The', 'DT'), Tree('NP', [('nurse', 'NN')]), ('told', 'VBD'), ('me', 'PRP'), ('I', 'PRP'), ('do', 'VBP'), ('not', 'RB'), ('have', 'VB'), ('the', 'DT'), ('financial', 'JJ'), Tree('NP', [('power', 'NN')]), ('to', 'TO'), ('outpatient', 'VB'), Tree('NP', [('department', 'NN')]), ('where', 'WRB'), ('I', 'PRP'), ('want', 'VBP'), ('to', 'TO'), ('come', 'VB'), ('back', 'RB'), (',', ','), ('Mike', 'NNP'), ('.', '.')]),\n",
              " Tree('S', [('But', 'CC'), ('familiar', 'JJ'), ('But', 'CC'), ('pay', 'VB'), Tree('NP', [('money', 'NN')]), ('for', 'IN'), ('Jung', 'NNP'), ('.', '.')]),\n",
              " Tree('S', [('Medical', 'NNP'), Tree('NP', [('care', 'NN')]), ('is', 'VBZ'), ('good', 'JJ'), (',', ','), ('but', 'CC'), ('that', 'IN'), ('does', 'VBZ'), ('not', 'RB'), ('give', 'VB'), ('the', 'DT'), ('full', 'JJ'), ('.', '.')]),\n",
              " Tree('S', [('The', 'DT'), ('Department', 'NNP'), ('of', 'IN'), ('Internal', 'NNP'), ('Medicine', 'NNP'), ('The', 'DT'), Tree('NP', [('lack', 'NN')]), ('of', 'IN'), Tree('NP', [('attention', 'NN')]), ('he', 'PRP'), ('received', 'VBD'), Tree('NP', [('treatment', 'NN')]), ('.', '.')]),\n",
              " Tree('S', [('Take', 'VB'), ('your', 'PRP$'), Tree('NP', [('mom', 'NN')]), ('to', 'TO'), Tree('NP', [('heart', 'NN'), ('disease', 'NN')]), (',', ','), ('was', 'VBD'), ('admitted', 'VBN'), ('to', 'TO'), ('Bangkok', 'NNP'), ('.', '.')]),\n",
              " Tree('S', [Tree('NP', [('Doctors', 'NNS')]), ('and', 'CC'), ('nursing', 'VBG'), Tree('NP', [('care', 'NN')]), ('but', 'CC'), ('ordinary', 'JJ'), Tree('NP', [('room', 'NN')]), ('.', '.')]),\n",
              " Tree('S', [('Not', 'RB'), ('included', 'VBN'), ('Hard', 'NNP'), Tree('NP', [('sleepers', 'NNS')]), ('sleep', 'VBP'), ('poorly', 'RB')]),\n",
              " Tree('S', [('I', 'PRP'), ('was', 'VBD'), ('very', 'RB'), ('impressed', 'JJ'), ('with', 'IN'), ('the', 'DT'), ('Finance', 'NNP'), ('Department', 'NNP'), (',', ','), ('2nd', 'CD'), Tree('NP', [('floor', 'NN'), ('cute', 'NN')]), ('.', '.')]),\n",
              " Tree('S', [('Helps', 'NNP'), ('maintain', 'VB'), ('the', 'DT'), Tree('NP', [('claim', 'NN')]), ('that', 'IN'), ('I', 'PRP'), ('decided', 'VBD'), ('not', 'RB'), ('to', 'TO'), ('have', 'VB'), ('multiple', 'JJ'), Tree('NP', [('insurance', 'NN')]), ('.', '.')]),\n",
              " Tree('S', [('Help', 'VB'), ('me', 'PRP'), ('empathy', 'JJ'), ('and', 'CC'), ('help', 'VB'), ('other', 'JJ'), Tree('NP', [('doctors', 'NNS')]), ('here', 'RB'), Tree('NP', [('thanks', 'NNS')]), ('to', 'TO'), ('the', 'DT'), ('generous', 'JJ'), Tree('NP', [('treatment', 'NN')]), ('of', 'IN'), Tree('NP', [('scalp', 'NN')]), ('even', 'RB'), ('more', 'RBR'), ('.', '.')]),\n",
              " Tree('S', [('exceptionally', 'RB'), ('good', 'JJ')]),\n",
              " Tree('S', [('Sunday', 'NNP'), ('8', 'CD'), ('He', 'PRP'), ('was', 'VBD'), ('admitted', 'VBN'), ('to', 'TO'), ('the', 'DT'), Tree('NP', [('motorcycle', 'NN'), ('accident', 'NN')]), ('.', '.')]),\n",
              " Tree('S', [('Wash', 'IN'), ('the', 'DT'), Tree('NP', [('wound', 'NN')]), ('was', 'VBD'), ('normal', 'JJ'), ('.', '.')]),\n",
              " Tree('S', [('And', 'CC'), ('arranging', 'VBG'), ('to', 'TO'), ('clean', 'VB'), ('the', 'DT'), Tree('NP', [('wound', 'NN')]), ('again', 'RB'), ('on', 'IN'), ('Tuesday', 'NNP'), ('.', '.')]),\n",
              " Tree('S', [('And', 'CC'), ('was', 'VBD'), ('not', 'RB'), ('informed', 'VBN'), ('that', 'IN'), ('the', 'DT'), Tree('NP', [('drug', 'NN'), ('odor', 'NN')]), ('.', '.')]),\n",
              " Tree('S', [Tree('NP', [('Measurements', 'NNS')]), ('made', 'VBN'), ('in', 'IN'), ('the', 'DT'), ('next', 'JJ'), ('(', '('), ('Monday', 'NNP'), (')', ')'), (',', ','), ('I', 'PRP'), ('noticed', 'VBD'), ('a', 'DT'), ('foul', 'JJ'), Tree('NP', [('odor', 'NN')]), ('.', '.')]),\n",
              " Tree('S', [('And', 'CC'), Tree('NP', [('lymph', 'NN'), ('flow', 'NN'), ('outward', 'NN')]), ('.', '.')]),\n",
              " Tree('S', [('He', 'PRP'), ('decided', 'VBD'), ('to', 'TO'), ('make', 'VB'), ('the', 'DT'), Tree('NP', [('wound', 'NN')]), ('again', 'RB'), ('.', '.')]),\n",
              " Tree('S', [('The', 'DT'), Tree('NP', [('drug', 'NN')]), ('is', 'VBZ'), ('made', 'VBN'), ('that', 'IN'), Tree('NP', [('smell', 'NN')]), ('.', '.')]),\n",
              " Tree('S', [('When', 'WRB'), ('changing', 'VBG'), ('the', 'DT'), Tree('NP', [('wound', 'NN')]), ('and', 'CC'), ('finished', 'VBD'), Tree('NP', [('drugs', 'NNS')]), ('.', '.')]),\n",
              " Tree('S', [('For', 'IN'), ('me', 'PRP'), (',', ','), ('therefore', 'RB'), (',', ','), ('that', 'IN'), ('I', 'PRP'), ('need', 'VBP'), ('to', 'TO'), ('follow', 'VB'), ('up', 'RP'), ('the', 'DT'), Tree('NP', [('service', 'NN')]), ('on', 'IN'), ('Tuesday', 'NNP'), ('or', 'CC'), ('not', 'RB'), ('.', '.')]),\n",
              " Tree('S', [('The', 'DT'), Tree('NP', [('nurse', 'NN')]), ('told', 'VBD'), ('the', 'DT'), Tree('NP', [('doctor', 'NN')]), ('to', 'TO'), ('come', 'VB'), ('in', 'IN'), ('at', 'IN'), ('10', 'CD'), ('am', 'VBP'), ('-4', 'JJ'), Tree('NP', [('pm', 'NN')]), ('.', '.')]),\n",
              " Tree('S', [('Which', 'WDT'), ('at', 'IN'), ('that', 'DT'), Tree('NP', [('time', 'NN')]), ('was', 'VBD'), ('2pm', 'CD'), ('.', '.')]),\n",
              " Tree('S', [('Asked', 'VBN'), ('why', 'WRB'), ('not', 'RB'), ('go', 'VB'), ('to', 'TO'), ('the', 'DT'), Tree('NP', [('doctor', 'NN')]), ('.', '.')]),\n",
              " Tree('S', [('Do', 'VBP'), ('not', 'RB'), ('have', 'VB'), ('to', 'TO'), ('waste', 'VB'), Tree('NP', [('time', 'NN')]), ('repeatedly', 'RB'), ('.', '.')]),\n",
              " Tree('S', [('Nurse', 'NNP'), ('said', 'VBD'), ('adhesive', 'JJ'), ('to', 'TO'), ('me', 'PRP'), ('.', '.')]),\n",
              " Tree('S', [('If', 'IN'), ('so', 'RB'), (',', ','), ('will', 'MD'), ('be', 'VB'), ('set', 'VBN'), Tree('NP', [('dresser', 'NN')]), ('again', 'RB'), ('...', ':')]),\n",
              " Tree('S', [('This', 'DT'), Tree('NP', [('hospital', 'NN'), ('patients', 'NNS')]), ('should', 'MD'), ('ask', 'VB'), ('a', 'DT'), Tree('NP', [('doctor', 'NN')]), ('before', 'IN'), ('I', 'PRP'), ('want', 'VBP'), ('to', 'TO'), ('use', 'VB'), ('it', 'PRP'), ('or', 'CC'), ('not', 'RB'), (',', ','), ('or', 'CC'), ('whether', 'IN'), ('I', 'PRP'), ('should', 'MD'), ('just', 'RB'), ('drop', 'VB'), ('me', 'PRP'), Tree('NP', [('tomorrow', 'NN')]), ('.', '.')]),\n",
              " Tree('S', [Tree('NP', [('Nurses', 'NNS')]), ('have', 'VBP'), ('the', 'DT'), Tree('NP', [('right', 'NN')]), ('to', 'TO'), ('decide', 'VB'), ('to', 'TO'), ('replace', 'VB'), ('it', 'PRP'), ('?', '.')]),\n",
              " Tree('S', [Tree('NP', [('Hospital', 'NN')]), ('without', 'IN'), Tree('NP', [('coordination', 'NN')]), ('.', '.')]),\n",
              " Tree('S', [Tree('NP', [('Patients', 'NNS')]), ('need', 'VBP'), ('to', 'TO'), ('make', 'VB'), ('redundant', 'JJ'), Tree('NP', [('fro', 'NN')]), ('.', '.')]),\n",
              " Tree('S', [('I', 'PRP'), ('have', 'VBP'), ('filed', 'VBN'), ('an', 'DT'), Tree('NP', [('appointment', 'NN')]), ('from', 'IN'), ('coming', 'VBG'), ('.', '.')]),\n",
              " Tree('S', [('But', 'CC'), ('it', 'PRP'), ('is', 'VBZ'), ('not', 'RB'), ('a', 'DT'), Tree('NP', [('physician', 'NN')]), ('or', 'CC'), Tree('NP', [('nurse', 'NN')]), ('to', 'TO'), ('a', 'DT'), Tree('NP', [('doctor', 'NN')]), (\"'s\", 'POS'), Tree('NP', [('appointment', 'NN')]), ('in', 'IN'), ('any', 'DT'), Tree('NP', [('way', 'NN')]), ('.', '.')]),\n",
              " Tree('S', [('So', 'RB'), ('I', 'PRP'), ('was', 'VBD'), ('disappointed', 'VBN'), ('with', 'IN'), ('the', 'DT'), Tree('NP', [('standard', 'NN')]), ('.', '.')]),\n",
              " Tree('S', [('May', 'NNP'), ('.', '.')]),\n",
              " Tree('S', [('After', 'IN'), ('not', 'RB'), ('going', 'VBG'), ('to', 'TO'), ('take', 'VB'), ('many', 'JJ'), Tree('NP', [('years', 'NNS')]), ('.', '.')]),\n",
              " Tree('S', [('More', 'RBR'), ('modern', 'JJ'), Tree('NP', [('hospital', 'NN')]), ('But', 'CC'), ('the', 'DT'), Tree('NP', [('distance', 'NN')]), ('of', 'IN'), ('the', 'DT'), ('financial', 'JJ'), ('and', 'CC'), ('dispense', 'VB'), ('too', 'RB'), ('far', 'RB'), ('.', '.')]),\n",
              " Tree('S', [('Will', 'MD'), ('take', 'VB'), ('over', 'RP'), ('the', 'DT'), Tree('NP', [('payments', 'NNS')]), (',', ','), ('but', 'CC'), ('to', 'TO'), ('wait', 'VB'), ('for', 'IN'), ('the', 'DT'), Tree('NP', [('drugs', 'NNS')]), ('from', 'IN'), ('the', 'DT'), Tree('NP', [('pharmacy', 'NN'), ('bag', 'NN')]), ('with', 'IN'), ('as', 'IN'), ('many', 'JJ'), Tree('NP', [('people', 'NNS')]), ('waiting', 'VBG'), ('for', 'IN'), Tree('NP', [('payment', 'NN')]), ('.', '.')]),\n",
              " Tree('S', [('Here', 'RB'), ('are', 'VBP'), ('the', 'DT'), Tree('NP', [('names', 'NNS')]), ('and', 'CC'), Tree('NP', [('information', 'NN')]), ('of', 'IN'), Tree('NP', [('patients', 'NNS'), ('strap', 'NN')]), ('.', '.')]),\n",
              " Tree('S', [('But', 'CC'), ('pay', 'VB'), Tree('NP', [('attention', 'NN')]), ('to', 'TO'), ('see', 'VB'), ('if', 'IN'), ('the', 'DT'), Tree('NP', [('waste', 'NN')]), ('is', 'VBZ'), ('not', 'RB'), ('as', 'RB'), ('good', 'JJ'), ('as', 'IN'), ('it', 'PRP'), ('does', 'VBZ'), ('.', '.')]),\n",
              " Tree('S', [('Your', 'PRP$'), Tree('NP', [('doctor', 'NN')]), (',', ','), ('nurse', 'JJ'), Tree('NP', [('service', 'NN')]), (',', ','), ('great', 'JJ'), Tree('NP', [('eloquence', 'NN')]), ('.', '.')]),\n",
              " Tree('S', [Tree('NP', [('Management', 'NN'), ('system', 'NN')]), (',', ','), ('good', 'JJ'), ('waiting', 'VBG'), Tree('NP', [('staff', 'NN')]), ('a', 'DT'), ('medical', 'JJ'), Tree('NP', [('doctor', 'NN')]), (',', ','), ('beaming', 'VBG'), ('good', 'JJ'), ('.', '.')]),\n",
              " Tree('S', [('Reason', 'NNP'), ('for', 'IN'), ('this', 'DT'), Tree('NP', [('hospital', 'NN')]), ('.', '.')]),\n",
              " Tree('S', [('Near', 'IN'), ('the', 'DT'), Tree('NP', [('house', 'NN')]), ('with', 'IN'), ('your', 'PRP$'), Tree('NP', [('doctor', 'NN')]), ('.', '.')]),\n",
              " Tree('S', [('I', 'PRP'), ('like', 'VBP'), ('this', 'DT'), Tree('NP', [('hospital', 'NN')]), ('A', 'NNP'), Tree('NP', [('hospital', 'NN')]), ('that', 'WDT'), ('is', 'VBZ'), ('not', 'RB'), ('too', 'RB'), ('big', 'JJ'), ('.', '.')]),\n",
              " Tree('S', [('To', 'TO'), ('each', 'DT'), Tree('NP', [('department', 'NN')]), (',', ','), ('not', 'RB'), ('far', 'RB'), ('away', 'RB'), ('.', '.')]),\n",
              " Tree('S', [('Some', 'DT'), Tree('NP', [('departments', 'NNS')]), ('will', 'MD'), ('remain', 'VB'), ('separate', 'JJ'), ('Laminate', 'NNP'), Tree('NP', [('areas', 'NNS')]), ('.', '.')]),\n",
              " Tree('S', [('A', 'DT'), ('private', 'JJ'), Tree('NP', [('hospital', 'NN')]), ('where', 'WRB'), ('the', 'DT'), Tree('NP', [('price', 'NN')]), ('is', 'VBZ'), ('not', 'RB'), ('too', 'RB'), ('high', 'JJ'), ('and', 'CC'), ('the', 'DT'), Tree('NP', [('service', 'NN'), ('good', 'NN')]), ('.', '.')]),\n",
              " Tree('S', [('Nurse', 'NNP'), Tree('NP', [('care', 'NN'), ('patient', 'NN')]), ('and', 'CC'), Tree('NP', [('polite', 'NN')]), ('You', 'PRP'), ('have', 'VBP'), ('enough', 'JJ'), Tree('NP', [('room', 'NN')]), ('to', 'TO'), ('accommodate', 'VB'), ('a', 'DT'), ('large', 'JJ'), Tree('NP', [('number', 'NN')]), ('of', 'IN'), Tree('NP', [('patients', 'NNS')]), ('.', '.')]),\n",
              " Tree('S', [('Some', 'DT'), Tree('NP', [('hospitals', 'NNS')]), ('are', 'VBP'), ('too', 'RB'), ('many', 'JJ'), Tree('NP', [('doctors', 'NNS')]), ('.', '.')]),\n",
              " Tree('S', [('The', 'DT'), Tree('NP', [('need', 'NN')]), ('to', 'TO'), ('wait', 'VB'), ('for', 'IN'), ('the', 'DT'), Tree('NP', [('end', 'NN')]), ('of', 'IN'), ('2016', 'CD'), ('as', 'IN'), Tree('NP', [('dengue', 'NN')]), ('.', '.')]),\n",
              " Tree('S', [('To', 'TO'), ('stay', 'VB'), ('in', 'IN'), ('the', 'DT'), Tree('NP', [('hospital', 'NN')]), ('for', 'IN'), ('4', 'CD'), Tree('NP', [('days', 'NNS')]), (',', ','), Tree('NP', [('doctors', 'NNS')]), ('checked', 'VBD'), Tree('NP', [('everything', 'NN')]), ('thoroughly', 'RB'), ('with', 'IN'), Tree('NP', [('insurance', 'NN'), ('departments', 'NNS')]), ('that', 'WDT'), ('facilitate', 'VBP'), ('us', 'PRP'), ('without', 'IN'), ('much', 'JJ'), Tree('NP', [('hassle', 'NN')]), ('.', '.')]),\n",
              " Tree('S', [('The', 'DT'), Tree('NP', [('disadvantage', 'NN')]), ('of', 'IN'), ('this', 'DT'), Tree('NP', [('hospital', 'NN')]), ('is', 'VBZ'), ('.', '.')]),\n",
              " Tree('S', [Tree('NP', [('Nurses', 'NNS')]), ('walked', 'VBD'), ('out', 'RP'), ('very', 'RB'), ('often', 'RB'), ('during', 'IN'), Tree('NP', [('midday', 'NN')]), ('.', '.')]),\n",
              " Tree('S', [('The', 'DT'), Tree('NP', [('cause', 'NN')]), ('is', 'VBZ'), ('not', 'RB'), ('fully', 'RB'), ('relax', 'VB'), ('But', 'CC'), ('it', 'PRP'), (\"'s\", 'VBZ'), ('understandable', 'JJ'), ('because', 'IN'), ('To', 'TO'), ('monitor', 'VB'), ('the', 'DT'), Tree('NP', [('temperature', 'NN')]), ('The', 'DT'), Tree('NP', [('doctor', 'NN')]), ('came', 'VBD'), ('to', 'TO'), ('check', 'VB'), ('on', 'IN'), ('all', 'PDT'), ('the', 'DT'), Tree('NP', [('time', 'NN')]), (',', ','), ('never', 'RB'), ('late', 'RB'), (',', ','), ('but', 'CC'), ('the', 'DT'), Tree('NP', [('downside', 'NN')]), ('is', 'VBZ'), ('another', 'DT'), Tree('NP', [('hospital', 'NN')]), ('.', '.')]),\n",
              " Tree('S', [('Not', 'RB'), ('clean', 'VB'), ('the', 'DT'), Tree('NP', [('cafeteria', 'NN'), ('food', 'NN')]), ('was', 'VBD'), ('plain', 'VB'), ('how', 'WRB'), ('much', 'JJ'), ('the', 'DT'), ('old', 'JJ'), Tree('NP', [('store', 'NN')]), ('.', '.')]),\n",
              " Tree('S', [('Not', 'RB'), ('very', 'RB'), ('tasty', 'JJ'), ('It', 'PRP'), ('may', 'MD'), ('be', 'VB'), ('in', 'IN'), ('the', 'DT'), ('Silom', 'NNP'), Tree('NP', [('area', 'NN')]), ('.', '.')]),\n",
              " Tree('S', [('I', 'PRP'), ('have', 'VBP'), Tree('NP', [('food', 'NN')]), ('to', 'TO'), ('eat', 'VB'), ('a', 'DT'), Tree('NP', [('lot', 'NN')]), ('.', '.')]),\n",
              " Tree('S', [('However', 'RB'), (',', ','), ('it', 'PRP'), ('should', 'MD'), ('be', 'VB'), ('a', 'DT'), Tree('NP', [('variety', 'NN')]), ('of', 'IN'), Tree('NP', [('food', 'NN')]), ('for', 'IN'), Tree('NP', [('people', 'NNS')]), ('who', 'WP'), ('are', 'VBP'), ('waiting', 'VBG'), ('for', 'IN'), ('the', 'DT'), Tree('NP', [('doctor', 'NN')]), ('or', 'CC'), ('the', 'DT'), Tree('NP', [('patient', 'NN')]), ('came', 'VBD'), ('to', 'TO'), Tree('NP', [('food', 'NN')]), ('is', 'VBZ'), ('very', 'RB'), ('important', 'JJ'), ('.', '.')]),\n",
              " Tree('S', [('At', 'IN'), ('least', 'JJS'), ('it', 'PRP'), ('makes', 'VBZ'), ('the', 'DT'), Tree('NP', [('hospital', 'NN'), ('stay', 'NN')]), ('is', 'VBZ'), ('never', 'RB'), ('boring', 'JJ'), ('.', '.')]),\n",
              " Tree('S', [('Also', 'RB'), (',', ','), ('it', 'PRP'), ('does', 'VBZ'), ('not', 'RB'), ('have', 'VB'), ('a', 'DT'), Tree('NP', [('restaurant', 'NN')]), ('open', 'JJ'), ('to', 'TO'), ('the', 'DT'), ('outside', 'JJ'), (',', ','), ('many', 'JJ'), Tree('NP', [('starbucks', 'NNS')]), ('or', 'CC'), ('S', 'NNP'), ('&', 'CC'), ('P', 'NNP'), ('is', 'VBZ'), ('the', 'DT'), ('only', 'JJ'), ('Au', 'NNP'), ('Bon', 'NNP'), ('Pain', 'NNP'), (',', ','), ('which', 'WDT'), ('makes', 'VBZ'), ('it', 'PRP'), ('a', 'DT'), ('little', 'JJ'), ('less', 'JJR'), Tree('NP', [('choice', 'NN')]), ('for', 'IN'), ('the', 'DT'), Tree('NP', [('consumer', 'NN')]), ('.', '.')]),\n",
              " Tree('S', [('For', 'IN'), Tree('NP', [('rooms', 'NNS')]), ('were', 'VBD'), ('very', 'RB'), ('clean', 'JJ'), ('and', 'CC'), ('cleaned', 'JJ'), ('every', 'DT'), Tree('NP', [('day', 'NN')]), (',', ','), ('rub', 'VB'), ('the', 'DT'), Tree('NP', [('swab', 'NN')]), ('.', '.')]),\n",
              " Tree('S', [('Considered', 'VBN'), ('very', 'RB'), ('good', 'JJ'), ('for', 'IN'), Tree('NP', [('people', 'NNS')]), ('who', 'WP'), ('are', 'VBP'), ('concerned', 'VBN'), ('about', 'IN'), Tree('NP', [('cleanliness', 'NN')]), ('.', '.')]),\n",
              " Tree('S', [('Toilet', 'NNP'), Tree('NP', [('water', 'NN')]), ('was', 'VBD'), ('flowing', 'VBG'), ('quite', 'RB'), ('strongly', 'RB'), ('.', '.')]),\n",
              " Tree('S', [('Do', 'VB'), ('not', 'RB'), ('be', 'VB'), ('afraid', 'VBN'), ('to', 'TO'), ('be', 'VB'), ('a', 'DT'), ('strong', 'JJ'), Tree('NP', [('flow', 'NN')]), ('of', 'IN'), ('warm', 'JJ'), Tree('NP', [('water', 'NN')]), ('is', 'VBZ'), ('great', 'JJ'), ('for', 'IN'), Tree('NP', [('people', 'NNS')]), ('who', 'WP'), ('like', 'IN'), Tree('NP', [('winter', 'NN')]), ('.', '.')]),\n",
              " Tree('S', [('It', 'PRP'), ('offers', 'VBZ'), ('wifi', 'RBR'), ('in', 'IN'), ('the', 'DT'), Tree('NP', [('room', 'NN')]), ('with', 'IN'), ('the', 'DT'), Tree('NP', [('patient', 'NN'), ('registration', 'NN'), ('service', 'NN')]), ('soon', 'RB'), ('.', '.')]),\n",
              " Tree('S', [('But', 'CC'), ('not', 'RB'), ('so', 'RB'), ('fast', 'RB'), ('But', 'CC'), ('better', 'JJR'), ('than', 'IN'), Tree('NP', [('none', 'NN')]), ('Take', 'VB'), ('a', 'DT'), Tree('NP', [('look', 'NN')]), ('at', 'IN'), ('the', 'DT'), Tree('NP', [('series', 'NN')]), (',', ','), ('bored', 'VBN'), ('with', 'IN'), Tree('NP', [('nothing', 'NN')]), ('to', 'TO'), ('do', 'VB'), ('.', '.')]),\n",
              " Tree('S', [('The', 'DT'), Tree('NP', [('rooms', 'NNS')]), ('are', 'VBP'), ('not', 'RB'), ('luxurious', 'JJ'), ('atmosphere', 'RB'), ('BNH', 'NNP'), Tree('NP', [('something', 'NN')]), ('new', 'JJ'), (',', ','), ('but', 'CC'), ('it', 'PRP'), ('is', 'VBZ'), ('not', 'RB'), ('terrible', 'JJ'), Tree('NP', [('light', 'NN')]), (',', ','), ('then', 'RB'), ('the', 'DT'), Tree('NP', [('total', 'NN')]), ('would', 'MD'), ('be', 'VB'), ('8.5', 'CD'), Tree('NP', [('points', 'NNS')]), ('out', 'IN'), ('of', 'IN'), ('a', 'DT'), Tree('NP', [('nursing', 'NN')]), ('often', 'RB'), ('enough', 'RB'), ('.', '.')]),\n",
              " Tree('S', [('The', 'DT'), Tree('NP', [('sound', 'NN')]), ('is', 'VBZ'), ('quite', 'RB'), ('loud', 'JJ'), (',', ','), ('medical', 'JJ'), Tree('NP', [('equipment', 'NN'), ('carts', 'NNS')]), ('.', '.')]),\n",
              " Tree('S', [('And', 'CC'), ('the', 'DT'), Tree('NP', [('food', 'NN')]), ('is', 'VBZ'), ('not', 'RB'), ('much', 'JJ'), ('to', 'TO'), ('choose', 'VB'), ('from', 'IN'), ('.', '.')]),\n",
              " Tree('S', [('Like', 'IN'), ('running', 'VBG'), Tree('NP', [('speed', 'NN')]), ('Hospital', 'NNP'), Tree('NP', [('cleanliness', 'NN')]), ('Doctor', 'NNP'), ('and', 'CC'), ('experienced', 'VBD'), Tree('NP', [('people', 'NNS')])]),\n",
              " Tree('S', [('Food', 'NNP'), Tree('NP', [('poisoning', 'NN')]), (',', ','), Tree('NP', [('diarrhea', 'NN')]), (',', ','), Tree('NP', [('penniless', 'NN')]), ('and', 'CC'), ('without', 'IN'), ('a', 'DT'), Tree('NP', [('doctor', 'NN')]), ('.', '.')]),\n",
              " Tree('S', [('You', 'PRP'), ('need', 'VBP'), ('salt', 'VB'), ('to', 'TO'), ('the', 'DT'), Tree('NP', [('doctor', 'NN')]), ('ordered', 'VBD'), ('.', '.')]),\n",
              " Tree('S', [('Then', 'RB'), ('it', 'PRP'), ('hit', 'VBD'), ('us', 'PRP'), ('to', 'TO'), ('stay', 'VB'), ('an', 'DT'), ('extra', 'JJ'), Tree('NP', [('night', 'NN')]), ('to', 'TO'), ('make', 'VB'), Tree('NP', [('brine', 'NN')]), ('.', '.')]),\n",
              " Tree('S', [('Paul', 'NNP'), ('Brine', 'NNP'), ('out', 'IN'), ('Nursing', 'NNP'), Tree('NP', [('bother', 'NN')]), ('to', 'TO'), ('come', 'VB'), ('overnight', 'RB'), (',', ','), ('adding', 'VBG'), ('to', 'TO'), Tree('NP', [('signs', 'NNS')]), ('.', '.')]),\n",
              " Tree('S', [('We', 'PRP'), ('were', 'VBD'), ('told', 'VBN'), ('that', 'IN'), ('there', 'EX'), ('was', 'VBD'), Tree('NP', [('need', 'NN')]), ('to', 'TO'), ('do', 'VB'), ('so', 'RB'), ('.', '.')]),\n",
              " Tree('S', [('The', 'DT'), Tree('NP', [('drug', 'NN')]), ('was', 'VBD'), ('also', 'RB'), ('another', 'DT'), Tree('NP', [('change', 'NN')]), ('that', 'WDT'), ('came', 'VBD'), ('into', 'IN'), ('Metallica', 'NNP'), ('.', '.')]),\n",
              " Tree('S', [('Let', 'VB'), ('us', 'PRP'), ('find', 'VB'), ('out', 'RP'), ('Langen', 'NNP'), ('is', 'VBZ'), ('a', 'DT'), ('metal', 'JJ'), ('salt-depleted', 'JJ'), Tree('NP', [('hour', 'NN')]), ('ago', 'RB'), ('.', '.')]),\n",
              " Tree('S', [('We', 'PRP'), ('are', 'VBP'), ('outraged', 'VBN'), ('that', 'IN'), ('the', 'DT'), Tree('NP', [('doctor', 'NN')]), ('did', 'VBD'), ('not', 'RB'), ('ask', 'VB'), ('to', 'TO'), ('come', 'VB'), ('here', 'RB'), (',', ','), ('then', 'RB'), ('it', 'PRP'), ('really', 'RB'), ('does', 'VBZ'), ('not', 'RB'), ('require', 'VB'), ('a', 'DT'), ('special', 'JJ'), Tree('NP', [('room', 'NN')]), ('this', 'DT'), Tree('NP', [('time', 'NN')]), (',', ','), Tree('NP', [('eh', 'NN')]), ('.', '.')]),\n",
              " Tree('S', [('Centreline', 'NNP'), ('until', 'IN'), ('we', 'PRP'), ('begin', 'VBP'), ('to', 'TO'), ('pay', 'VB'), ('out', 'RP'), ('.', '.')]),\n",
              " Tree('S', [('The', 'DT'), ('total', 'JJ'), Tree('NP', [('cost', 'NN')]), ('to', 'TO'), ('the', 'DT'), Tree('NP', [('drug', 'NN'), ('charges', 'NNS')]), ('nearly', 'RB'), ('a', 'DT'), Tree('NP', [('thousand', 'NN'), ('rooms', 'NNS')]), ('.', '.')]),\n",
              " Tree('S', [('A', 'DT'), ('cold', 'JJ'), Tree('NP', [('day', 'NN')]), ('Your', 'PRP$'), Tree('NP', [('doctor', 'NN')]), ('much', 'JJ'), ('sooner', 'JJR'), ('than', 'IN'), ('2', 'CD'), Tree('NP', [('minutes', 'NNS')]), (',', ','), ('lift', 'VBZ'), ('the', 'DT'), Tree('NP', [('handset', 'NN')]), ('to', 'TO'), ('listen', 'VB'), ('to', 'TO'), ('the', 'DT'), Tree('NP', [('lungs', 'NNS')]), (',', ','), ('moved', 'VBD'), ('quickly', 'RB'), ('.', '.')]),\n",
              " Tree('S', [('More', 'RBR'), ('important', 'JJ'), (',', ','), ('he', 'PRP'), ('returned', 'VBD'), Tree('NP', [('home', 'NN')]), ('to', 'TO'), ('find', 'VB'), ('the', 'DT'), Tree('NP', [('medicine', 'NN')]), ('the', 'DT'), Tree('NP', [('doctor', 'NN')]), ('ordered', 'VBD'), ('to', 'TO'), ('cough', 'VB'), ('.', '.')]),\n",
              " Tree('S', [('Did', 'NNP'), ('not', 'RB'), Tree('NP', [('order', 'NN')]), ('the', 'DT'), Tree('NP', [('drugs', 'NNS')]), ('by', 'IN'), ('nasal', 'JJ'), Tree('NP', [('congestion', 'NN')]), (',', ','), ('then', 'RB'), ('the', 'DT'), Tree('NP', [('doctor', 'NN')]), ('will', 'MD'), ('prescribe', 'VB'), Tree('NP', [('drugs', 'NNS')]), ('that', 'WDT'), ('should', 'MD'), ('tell', 'VB'), ('you', 'PRP'), Tree('NP', [('something', 'NN')]), ('.', '.')]),\n",
              " Tree('S', [('It', 'PRP'), ('was', 'VBD'), ('late', 'JJ'), ('enough', 'JJ'), Tree('NP', [('medicine', 'NN')]), ('.', '.')]),\n",
              " Tree('S', [('Would', 'MD'), ('not', 'RB'), ('have', 'VB'), ('to', 'TO'), ('ride', 'VB'), ('back', 'RB'), ('to', 'TO'), ('tell', 'VB'), ('the', 'DT'), Tree('NP', [('doctor', 'NN')]), ('ordered', 'VBD'), ('to', 'TO'), ('cure', 'VB'), ('a', 'DT'), Tree('NP', [('stuffy', 'NN'), ('nose', 'NN')]), ('.', '.')]),\n",
              " Tree('S', [('I', 'PRP'), ('feel', 'VBP'), ('that', 'IN'), ('the', 'DT'), Tree('NP', [('state', 'NN'), ('hospital', 'NN')]), ('to', 'TO'), ('see', 'VB'), ('a', 'DT'), Tree('NP', [('doctor', 'NN')]), ('is', 'VBZ'), ('better', 'JJR'), ('than', 'IN'), Tree('NP', [('medicine', 'NN')]), ('correctly', 'RB'), ('.', '.')]),\n",
              " Tree('S', [('You', 'PRP'), ('know', 'VBP'), ('the', 'DT'), Tree('NP', [('signs', 'NNS')]), ('and', 'CC'), ('take', 'VB'), ('the', 'DT'), Tree('NP', [('time', 'NN')]), ('to', 'TO'), Tree('NP', [('treatment', 'NN')]), ('than', 'IN'), ('private', 'JJ'), ('again', 'RB'), ('.', '.')]),\n",
              " Tree('S', [('Service', 'NNP'), ('is', 'VBZ'), ('very', 'RB'), ('good', 'JJ'), Tree('NP', [('People', 'NNS')]), ('took', 'VBD'), ('to', 'TO'), ('the', 'DT'), Tree('NP', [('floor', 'NN')]), ('where', 'WRB'), ('the', 'DT'), Tree('NP', [('doctor', 'NN')]), ('will', 'MD'), ('do', 'VB'), ('a', 'DT'), ('very', 'RB'), ('good', 'JJ'), Tree('NP', [('service', 'NN')]), ('.', '.')]),\n",
              " Tree('S', [('I', 'PRP'), ('waited', 'VBD'), ('quite', 'RB'), ('a', 'DT'), ('long', 'JJ'), Tree('NP', [('time', 'NN')]), (',', ','), ('in', 'IN'), Tree('NP', [('spite', 'NN')]), ('of', 'IN'), Tree('NP', [('appearances', 'NNS')]), ('.', '.')]),\n",
              " Tree('S', [('The', 'DT'), Tree('NP', [('professor', 'NN'), ('doctor', 'NN')])]),\n",
              " Tree('S', [Tree('NP', [('Patients', 'NNS')]), ('are', 'VBP'), ('not', 'RB'), ('paying', 'VBG'), Tree('NP', [('attention', 'NN')]), ('.', '.')]),\n",
              " Tree('S', [('Specific', 'JJ'), Tree('NP', [('stomach', 'NN')]), ('attentive', 'JJ'), ('to', 'TO'), Tree('NP', [('patients', 'NNS')]), ('as', 'IN'), ('well', 'RB'), ('.', '.')]),\n",
              " Tree('S', [('Suggested', 'JJ'), Tree('NP', [('remedy', 'NN')]), ('As', 'NNP'), ('well', 'RB'), ('as', 'IN'), Tree('NP', [('patient', 'NN'), ('care', 'NN')]), ('to', 'TO'), ('recover', 'VB'), ('from', 'IN'), ('the', 'DT'), Tree('NP', [('symptoms', 'NNS')]), ('is', 'VBZ'), ('very', 'RB'), ('good', 'JJ'), ('.', '.')]),\n",
              " Tree('S', [('Until', 'IN'), ('the', 'DT'), Tree('NP', [('card', 'NN')]), ('to', 'TO'), ('the', 'DT'), Tree('NP', [('nurse', 'NN')]), (\"'s\", 'POS'), Tree('NP', [('desk', 'NN')]), ('and', 'CC'), Tree('NP', [('everyone', 'NN')]), ('is', 'VBZ'), ('very', 'RB'), ('lovely', 'RB'), ('.', '.')]),\n",
              " Tree('S', [Tree('NP', [('Today', 'NN')]), (',', ','), ('not', 'RB'), ('a', 'DT'), ('cold', 'JJ'), ('and', 'CC'), ('sore', 'RB'), Tree('NP', [('throat', 'NN')]), ('to', 'TO'), ('the', 'DT'), Tree('NP', [('doctor', 'NN')]), ('to', 'TO'), ('get', 'VB'), Tree('NP', [('medicine', 'NN')]), ('.', '.')]),\n",
              " Tree('S', [('Good', 'JJ'), Tree('NP', [('service', 'NN')]), ('is', 'VBZ'), ('very', 'RB'), ('attentive', 'JJ'), Tree('NP', [('patient', 'NN')]), ('.', '.')]),\n",
              " Tree('S', [('Keeping', 'VBG'), ('a', 'DT'), Tree('NP', [('pet', 'NN')]), ('fever', 'IN'), ('The', 'DT'), ('dry', 'JJ'), Tree('NP', [('bed', 'NN')]), ('was', 'VBD'), ('hard', 'JJ'), ('to', 'TO'), ('sleep', 'VB'), ('.', '.')]),\n",
              " Tree('S', [('Service', 'NNP'), ('quite', 'RB'), ('slow', 'JJ'), Tree('NP', [('time', 'NN')]), ('make', 'VBP'), ('out', 'RP'), ('very', 'RB'), ('slowly', 'RB'), Tree('NP', [('kg', 'NN')]), ('.', '.')]),\n",
              " Tree('S', [('Follow', 'NNP'), ('us', 'PRP'), ('ask', 'VBP'), ('from', 'IN'), Tree('NP', [('morning', 'NN')]), ('got', 'VBD'), ('off', 'RB'), ('again', 'RB'), ('at', 'IN'), ('2pm', 'CD'), ('.', '.')]),\n",
              " Tree('S', [('But', 'CC'), ('every', 'DT'), Tree('NP', [('time', 'NN')]), ('the', 'DT'), Tree('NP', [('maintenance', 'NN'), ('service', 'NN')]), ('of', 'IN'), Tree('NP', [('nurses', 'NNS')]), ('are', 'VBP'), ('excellent', 'JJ'), ('.', '.')]),\n",
              " Tree('S', [('Total', 'JJ'), Tree('NP', [('costs', 'NNS')]), ('of', 'IN'), Tree('NP', [('prizes', 'NNS')]), ('to', 'TO'), ('unfold', 'VB'), ('along', 'IN'), ('the', 'DT'), Tree('NP', [('charge', 'NN')]), ('.', '.')]),\n",
              " Tree('S', [('Almost', 'RB'), ('worth', 'IN'), ('it', 'PRP')]),\n",
              " Tree('S', [Tree('NP', [('Doctors', 'NNS')]), ('and', 'CC'), Tree('NP', [('nurses', 'NNS')]), ('can', 'MD'), ('provide', 'VB'), Tree('NP', [('care', 'NN')]), ('as', 'IN'), ('well', 'RB'), ('.', '.')]),\n",
              " Tree('S', [('Good', 'JJ'), Tree('NP', [('patient', 'NN'), ('care', 'NN'), ('services', 'NNS')]), ('Fee', 'NNP'), ('Affordable', 'NNP')]),\n",
              " Tree('S', [('Hospital', 'NNP'), Tree('NP', [('ward', 'NN'), ('boy', 'NN')]), ('Care', 'NNP'), Tree('NP', [('admit', 'NN')]), ('as', 'RB'), ('much', 'JJ'), ('to', 'TO'), ('clean', 'VB'), ('the', 'DT'), Tree('NP', [('thermometer', 'NN')]), ('as', 'IN'), ('a', 'DT'), ('good', 'JJ'), Tree('NP', [('time', 'NN')]), ('to', 'TO'), ('talk', 'VB'), ('psychological', 'JJ'), Tree('NP', [('smiling', 'NN')]), ('.', '.')]),\n",
              " Tree('S', [('Long', 'JJ'), Tree('NP', [('wait', 'NN')]), (',', ','), ('crowded', 'VBD'), ('waiting', 'VBG'), Tree('NP', [('rooms', 'NNS')]), (',', ','), Tree('NP', [('doctor', 'NN')]), (',', ','), Tree('NP', [('hospital', 'NN'), ('system', 'NN')]), ('does', 'VBZ'), ('not', 'RB'), ('work', 'VB'), ('.', '.')]),\n",
              " Tree('S', [Tree('NP', [('Delays', 'NNS')]), (',', ','), ('high', 'JJ'), Tree('NP', [('prices', 'NNS')]), ('are', 'VBP'), ('not', 'RB'), ('fit', 'JJ'), ('for', 'IN'), Tree('NP', [('service', 'NN')]), ('.', '.')]),\n",
              " Tree('S', [('Usually', 'RB'), ('it', 'PRP'), ('is', 'VBZ'), ('used', 'VBN'), ('at', 'IN'), Tree('NP', [('hospital', 'NN')]), ('near', 'IN'), ('Bangkok', 'NNP'), ('due', 'JJ'), ('.', '.')]),\n",
              " Tree('S', [('The', 'DT'), Tree('NP', [('service', 'NN')]), ('is', 'VBZ'), ('really', 'RB'), ('good', 'JJ'), ('Enough', 'NNP'), Tree('NP', [('staff', 'NN')]), ('for', 'IN'), Tree('NP', [('service', 'NN')])]),\n",
              " Tree('S', [('May', 'NNP'), ('provide', 'VB'), ('medical', 'JJ'), Tree('NP', [('care', 'NN')]), ('as', 'RB'), ('well', 'RB'), ('as', 'IN'), ('friendly', 'JJ'), ('.', '.')]),\n",
              " Tree('S', [('To', 'TO'), ('maintain', 'VB'), Tree('NP', [('eye', 'NN'), ('contact', 'NN')]), ('with', 'IN'), ('Dr.', 'NNP'), ('Orawan', 'NNP'), ('.', '.')]),\n",
              " Tree('S', [('There', 'EX'), ('are', 'VBP'), ('very', 'RB'), ('good', 'JJ'), Tree('NP', [('patients', 'NNS')]), ('Said', 'VBD'), Tree('NP', [('treatment', 'NN'), ('step', 'NN')]), ('to', 'TO'), ('understanding', 'VBG'), Tree('NP', [('simple', 'NN')]), ('.', '.')]),\n",
              " Tree('S', [('And', 'CC'), ('your', 'PRP$'), Tree('NP', [('doctor', 'NN')]), ('beaching', 'VBG'), Tree('NP', [('battle', 'NN')]), ('again', 'RB'), ('.', '.')]),\n",
              " Tree('S', [Tree('NP', [('Doctor', 'NN')]), ('Who', 'WP'), ('is', 'VBZ'), ('my', 'PRP$'), Tree('NP', [('mother', 'NN')]), ('and', 'CC'), ('all', 'PDT'), ('the', 'DT'), Tree('NP', [('family', 'NN')]), ('very', 'RB'), ('impressed', 'JJ'), ('.', '.')]),\n",
              " Tree('S', [('Outpatient', 'NNP'), Tree('NP', [('care', 'NN')]), ('is', 'VBZ'), ('very', 'RB'), ('good', 'JJ'), ('as', 'IN'), ('well', 'RB'), ('.', '.')]),\n",
              " Tree('S', [('Took', 'NNP'), ('her', 'PRP$'), Tree('NP', [('son', 'NN')]), ('to', 'TO'), ('the', 'DT'), Tree('NP', [('doctor', 'NN')]), ('The', 'DT'), ('low', 'JJ'), Tree('NP', [('grade', 'NN'), ('fever', 'NN')]), ('Were', 'NNP'), Tree('NP', [('rash', 'NN')]), ('on', 'IN'), ('the', 'DT'), Tree('NP', [('body', 'NN')]), ('When', 'WRB'), ('the', 'DT'), Tree('NP', [('outdoor', 'NN')]), ('and', 'CC'), ('named', 'VBN'), Tree('NP', [('patient', 'NN')]), ('.', '.')]),\n",
              " Tree('S', [('Check', 'VB'), ('the', 'DT'), Tree('NP', [('pressure', 'NN')]), ('Height', 'NNP'), Tree('NP', [('children', 'NNS')]), ('I', 'PRP'), ('was', 'VBD'), ('waiting', 'VBG'), ('to', 'TO'), ('see', 'VB'), ('Bay', 'NNP'), ('Area', 'NNP'), Tree('NP', [('stage', 'NN')]), ('fast', 'RB'), ('enough', 'RB'), ('.', '.')]),\n",
              " Tree('S', [('It', 'PRP'), ('does', 'VBZ'), ('not', 'RB'), ('have', 'VB'), ('to', 'TO'), ('wait', 'VB'), ('long', 'RB'), ('.', '.')]),\n",
              " Tree('S', [('Staff', 'NNP'), Tree('NP', [('look', 'NN')]), ('after', 'IN'), ('good', 'JJ'), ('I', 'PRP'), ('smiled', 'VBD'), ('at', 'IN'), ('my', 'PRP$'), Tree('NP', [('sink', 'NN'), ('transparent', 'NN'), ('viscose', 'NN')]), ('.', '.')]),\n",
              " Tree('S', [('You', 'PRP'), ('were', 'VBD'), ('described', 'VBN'), ('as', 'IN'), ('benign', 'JJ'), ('genital', 'JJ'), Tree('NP', [('informative', 'NN')]), ('.', '.')]),\n",
              " Tree('S', [('Until', 'IN'), ('then', 'RB'), (',', ','), ('the', 'DT'), ('ANC', 'NNP'), (\"'s\", 'POS'), Tree('NP', [('birth', 'NN')]), (',', ','), ('it', 'PRP'), ('was', 'VBD'), ('2', 'CD'), Tree('NP', [('people', 'NNS')]), (',', ','), ('good', 'JJ'), Tree('NP', [('service', 'NN')]), (',', ','), ('very', 'RB'), ('good', 'JJ'), Tree('NP', [('doctors', 'NNS')]), (',', ','), Tree('NP', [('nurses', 'NNS')]), (',', ','), Tree('NP', [('patients', 'NNS')]), ('are', 'VBP'), ('encouraged', 'VBN'), ('to', 'TO'), ('make', 'VB'), ('good', 'JJ'), Tree('NP', [('things', 'NNS')]), ('better', 'RBR'), ('.', '.')]),\n",
              " Tree('S', [('Officer', 'NNP'), ('and', 'CC'), ('physician', 'JJ'), Tree('NP', [('attention', 'NN')]), ('to', 'TO'), ('patient', 'VB'), ('Despite', 'IN'), ('the', 'DT'), Tree('NP', [('ease', 'NN')]), ('administrative', 'JJ'), Tree('NP', [('chat', 'NN')]), ('.', '.')]),\n",
              " Tree('S', [('As', 'IN'), ('hospital', 'JJ'), Tree('NP', [('patients', 'NNS')]), ('.', '.')]),\n",
              " Tree('S', [('This', 'DT'), ('is', 'VBZ'), ('a', 'DT'), ('25-year-old', 'JJ'), Tree('NP', [('hospital', 'NN')]), ('.', '.')]),\n",
              " Tree('S', [('The', 'DT'), ('old', 'JJ'), Tree('NP', [('tools', 'NNS')]), ('and', 'CC'), ('modern', 'JJ'), Tree('NP', [('medicine', 'NN')]), ('.', '.')]),\n",
              " Tree('S', [('Believe', 'NNP'), ('and', 'CC'), Tree('NP', [('trust', 'NN')]), ('in', 'IN'), ('medical', 'JJ'), Tree('NP', [('treatment', 'NN')]), ('.', '.')]),\n",
              " Tree('S', [('The', 'DT'), Tree('NP', [('clinics', 'NNS'), ('treat', 'NN')]), ('and', 'CC'), Tree('NP', [('consult', 'NN')]), ('with', 'IN'), ('Dr..', 'NNP'), ('Kitsanee', 'NNP'), Tree('NP', [('department', 'NN')]), (\"'s\", 'POS'), ('MD', 'NNP'), ('.', '.')]),\n",
              " Tree('S', [('Ecriiw', 'NNP'), ('Federation', 'NNP'), ('MD', 'NNP'), ('.', '.')]),\n",
              " Tree('S', [('The', 'DT'), ('great', 'JJ'), ('and', 'CC'), ('admirable', 'JJ'), ('in', 'IN'), ('its', 'PRP$'), Tree('NP', [('intention', 'NN')]), ('to', 'TO'), ('maintain', 'VB'), ('it', 'PRP'), ('.', '.')]),\n",
              " Tree('S', [('Dr.', 'NNP'), ('Cho', 'NNP'), ('absolute', 'POS'), ('good', 'JJ'), ('and', 'CC'), ('noble', 'JJ'), ('in', 'IN'), Tree('NP', [('intention', 'NN')]), ('to', 'TO'), ('treat', 'VB'), ('.', '.')]),\n",
              " Tree('S', [('the', 'DT'), Tree('NP', [('patient', 'NN')]), ('recovered', 'VBD'), ('quickly', 'RB'), ('return', 'VB'), ('to', 'TO'), ('normal', 'JJ'), Tree('NP', [('life', 'NN')]), ('.', '.')]),\n",
              " Tree('S', [('Professor', 'NNP'), ('of', 'IN'), ('neurological', 'JJ'), Tree('NP', [('surgery', 'NN')]), ('Medicine', 'NNP'), ('.', '.')]),\n",
              " Tree('S', [('Brain', 'NNP'), ('expert', 'JJ'), Tree('NP', [('spine', 'NN')]), ('I', 'PRP'), ('introduce', 'VBP'), Tree('NP', [('people', 'NNS')]), ('to', 'TO'), ('recognize', 'VB'), ('the', 'DT'), Tree('NP', [('symptoms', 'NNS')]), ('of', 'IN'), ('broken', 'JJ'), Tree('NP', [('blood', 'NN'), ('vessels', 'NNS')]), ('.', '.')]),\n",
              " Tree('S', [('Tea', 'NNP'), Tree('NP', [('leg', 'NN'), ('pain', 'NN')]), ('caused', 'VBN'), ('by', 'IN'), Tree('NP', [('bone', 'NN'), ('nerve', 'NN')]), ('.', '.')]),\n",
              " Tree('S', [('You', 'PRP'), ('may', 'MD'), ('have', 'VB'), ('also', 'RB'), ('been', 'VBN'), ('operating', 'VBG'), ('from', 'IN'), ('.', '.')]),\n",
              " Tree('S', [('7', 'CD'), Tree('NP', [('days', 'NNS')]), ('walking', 'VBG'), ('normally', 'RB'), ('Body', 'NNP'), ('entirely', 'RB'), ('by', 'IN'), ('the', 'DT'), Tree('NP', [('doctors', 'NNS')]), ('here', 'RB'), ('do', 'VBP'), ('not', 'RB'), ('want', 'VB'), ('the', 'DT'), Tree('NP', [('patient', 'NN')]), ('to', 'TO'), ('sleep', 'VB'), ('.', '.')]),\n",
              " Tree('S', [Tree('NP', [('Hospital', 'NN')]), ('is', 'VBZ'), ('not', 'RB'), ('really', 'RB'), ('hard', 'JJ')]),\n",
              " Tree('S', [('Medicine', 'NNP'), ('(', '('), ('Prof.', 'NNP'), ('Dr.', 'NNP'), ('Lifeboats', 'NNP'), ('.', '.')]),\n",
              " Tree('S', [('Cooperative', 'NNP'), Tree('NP', [('prosperity', 'NN')]), (')', ')'), ('are', 'VBP'), ('knowledgeable', 'JJ'), ('and', 'CC'), ('up', 'RB'), ('.', '.')]),\n",
              " Tree('S', [('Cute', 'NNP'), Tree('NP', [('nurse', 'NN')]), (',', ','), ('both', 'DT'), ('in', 'IN'), Tree('NP', [('front', 'NN')]), ('and', 'CC'), ('in', 'IN'), ('the', 'DT'), Tree('NP', [('ward', 'NN')]), ('.', '.')]),\n",
              " Tree('S', [('Operating', 'VBG'), ('herself', 'PRP'), ('an', 'DT'), Tree('NP', [('angel', 'NN')]), ('dressed', 'VBN'), ('in', 'IN'), ('white', 'JJ'), (',', ','), ('good', 'JJ'), Tree('NP', [('food', 'NN')]), (',', ','), Tree('NP', [('airy', 'NN'), ('environment', 'NN')]), ('near', 'IN'), ('the', 'DT'), Tree('NP', [('hospital', 'NN')]), (\"'s\", 'POS'), Tree('NP', [('feeling', 'NN')]), ('good', 'JJ'), (',', ','), ('etc', 'FW'), ('.', '.')]),\n",
              " Tree('S', [('Since', 'IN'), Tree('NP', [('nurses', 'NNS')]), ('are', 'VBP'), ('impressed', 'JJ'), Tree('NP', [('class', 'NN'), ('child', 'NN'), ('care', 'NN')]), ('for', 'IN'), Tree('NP', [('children', 'NNS')]), ('is', 'VBZ'), ('great', 'JJ'), ('to', 'TO'), ('aid', 'VB'), ('wipe', 'JJ'), Tree('NP', [('eloquence', 'NN'), ('child', 'NN'), ('care', 'NN')]), ('until', 'IN'), ('the', 'DT'), Tree('NP', [('doctor', 'NN')]), ('.', '.')]),\n",
              " Tree('S', [('On', 'IN'), ('1', 'CD'), ('January', 'NNP'), ('2560', 'CD'), ('to', 'TO'), ('treat', 'VB'), Tree('NP', [('pain', 'NN')]), ('in', 'IN'), ('the', 'DT'), Tree('NP', [('ankle', 'NN')]), ('from', 'IN'), ('the', 'DT'), Tree('NP', [('crash', 'NN'), ('landing', 'NN')]), ('.', '.')]),\n",
              " Tree('S', [('Since', 'IN'), ('the', 'DT'), Tree('NP', [('car', 'NN')]), ('is', 'VBZ'), ('very', 'RB'), ('good', 'JJ'), Tree('NP', [('service', 'NN'), ('staff', 'NN')]), ('.', '.')]),\n",
              " Tree('S', [('A', 'DT'), Tree('NP', [('nurse', 'NN')]), ('came', 'VBD'), ('into', 'IN'), Tree('NP', [('question', 'NN')]), ('initial', 'JJ'), Tree('NP', [('symptoms', 'NNS')]), ('.', '.')]),\n",
              " Tree('S', [Tree('NP', [('Check', 'NN'), ('records', 'NNS')]), ('quickly', 'RB'), ('.', '.')]),\n",
              " Tree('S', [('Bay', 'NNP'), ('Area', 'NNP'), ('have', 'VBP'), ('empathy', 'VBN'), ('for', 'IN'), Tree('NP', [('diagnosis', 'NN')]), ('carefully', 'RB'), ('.', '.')]),\n",
              " Tree('S', [('Overall', 'VB'), ('a', 'DT'), ('good', 'JJ'), Tree('NP', [('service', 'NN')]), ('impressed', 'VBD'), ('me', 'PRP'), ('.', '.')]),\n",
              " Tree('S', [('Doctor', 'NNP'), (\"'s\", 'POS'), ('Heart', 'NNP')]),\n",
              " Tree('S', [('If', 'IN'), ('we', 'PRP'), ('can', 'MD'), ('not', 'RB'), ('come', 'VB'), ('back', 'RB'), ('to', 'TO'), Tree('NP', [('life', 'NN')]), ('again', 'RB'), ('sustaining', 'VBG'), ('the', 'DT'), ('highly', 'RB'), ('specialized', 'JJ'), Tree('NP', [('doctors', 'NNS')]), (',', ','), Tree('NP', [('teachers', 'NNS')]), ('choose', 'VBP'), ('the', 'DT'), ('regular', 'JJ'), Tree('NP', [('hospital', 'NN')]), (',', ','), ('Bangkok', 'NNP'), ('.', '.')]),\n",
              " Tree('S', [('Only', 'RB'), ('a', 'DT'), Tree('NP', [('doctor', 'NN')])]),\n",
              " Tree('S', [('You', 'PRP'), ('good', 'JJ'), Tree('NP', [('health', 'NN')]), ('until', 'IN'), Tree('NP', [('benign', 'NN')]), ('.', '.')]),\n",
              " Tree('S', [('Lovely', 'RB'), ('.', '.')]),\n",
              " Tree('S', [('Delicious', 'NNP'), Tree('NP', [('food', 'NN')]), (',', ','), ('courteous', 'JJ'), Tree('NP', [('staff', 'NN')]), ('here', 'RB'), ('.', '.')]),\n",
              " Tree('S', [('You', 'PRP'), ('make', 'VBP'), ('little', 'JJ'), Tree('NP', [('treat', 'NN')]), ('.', '.')]),\n",
              " Tree('S', [('Impressive', 'JJ'), ('fast', 'RB'), ('enough', 'RB')]),\n",
              " Tree('S', [('If', 'IN'), ('you', 'PRP'), ('find', 'VBP'), ('a', 'DT'), ('common', 'JJ'), Tree('NP', [('disease', 'NN')]), ('such', 'JJ'), ('as', 'IN'), Tree('NP', [('flu', 'NNS')]), ('usually', 'RB'), ('does', 'VBZ'), ('not', 'RB'), ('need', 'VB'), ('to', 'TO'), ('see', 'VB'), ('a', 'DT'), Tree('NP', [('doctor', 'NN')]), ('at', 'IN'), ('the', 'DT'), Tree('NP', [('hospital', 'NN'), ('channel', 'NN')]), ('.', '.')]),\n",
              " Tree('S', [('Good', 'JJ'), Tree('NP', [('nursing', 'NN'), ('care', 'NN')]), ('is', 'VBZ'), ('a', 'DT'), ('preliminary', 'JJ'), Tree('NP', [('inquiry', 'NN')]), ('.', '.')]),\n",
              " Tree('S', [Tree('NP', [('Doctors', 'NNS')]), ('advise', 'VBP'), ('more', 'JJR'), ('on', 'IN'), Tree('NP', [('prevention', 'NN')]), ('than', 'IN'), Tree('NP', [('treatment', 'NN')]), ('.', '.')])]"
            ]
          },
          "metadata": {
            "tags": []
          },
          "execution_count": 25
        }
      ]
    },
    {
      "cell_type": "markdown",
      "metadata": {
        "id": "18VFBI44jYwV",
        "colab_type": "text"
      },
      "source": [
        "Extract Noun Phrase"
      ]
    },
    {
      "cell_type": "code",
      "metadata": {
        "id": "BCczxqEGjWDf",
        "colab_type": "code",
        "colab": {}
      },
      "source": [
        "def extract_np(parsed_tree):\n",
        "    nps = []\n",
        "    for subtree in parsed_tree.subtrees():\n",
        "        if subtree.label() == 'NP':\n",
        "            t = subtree\n",
        "            t = \" \".join(word for word, tag in t.leaves())\n",
        "            nps.append(t)\n",
        "    return nps"
      ],
      "execution_count": 0,
      "outputs": []
    },
    {
      "cell_type": "code",
      "metadata": {
        "id": "MYEp5fW3jcLQ",
        "colab_type": "code",
        "colab": {}
      },
      "source": [
        "nps = []\n",
        "for parse_tree in parse_trees:\n",
        "    nps.append(extract_np(parse_tree))"
      ],
      "execution_count": 0,
      "outputs": []
    },
    {
      "cell_type": "code",
      "metadata": {
        "id": "Y_iibo7Jjenb",
        "colab_type": "code",
        "outputId": "eaec6f27-5b63-4276-d5ac-60e9921ebfc3",
        "colab": {
          "base_uri": "https://localhost:8080/",
          "height": 1000
        }
      },
      "source": [
        "nps"
      ],
      "execution_count": 28,
      "outputs": [
        {
          "output_type": "execute_result",
          "data": {
            "text/plain": [
              "[['lot', 'people', 'hospital'],\n",
              " ['Greetings care patients', 'service'],\n",
              " ['people'],\n",
              " ['doctors', 'people', 'someone'],\n",
              " ['rooms', 'price'],\n",
              " [],\n",
              " ['reception', 'service', 'system'],\n",
              " ['nurse', 'doctor', 'facilities', 'hospital'],\n",
              " ['Doctors', 'hospital', 'thing', 'service'],\n",
              " ['service'],\n",
              " ['doctor', 'patient feels', 'thank'],\n",
              " ['lot', 'people', 'hospital'],\n",
              " ['Greetings care patients', 'service'],\n",
              " ['Talk relax'],\n",
              " ['doctors', 'people', 'someone'],\n",
              " ['rooms', 'price', 'midwife', 'nursing care'],\n",
              " ['price', 'treatment', 'bit'],\n",
              " [],\n",
              " [],\n",
              " ['Hospital doctors', 'care hospital parking lot', 'buildings', 'prices'],\n",
              " ['service', 'return service'],\n",
              " ['queues', 'mall adjacent', 'hospital'],\n",
              " ['time', 'test results', 'something', 'results'],\n",
              " ['eloquence', 'treatment', 'childhood'],\n",
              " ['hospital'],\n",
              " ['doctor', 'symptoms', 'leg pain', 'doctor', 'medication', 'line'],\n",
              " ['hospital', 'family service'],\n",
              " ['price', 'home care', 'ease', 'travel'],\n",
              " ['rain', 'emergency room', 'health insurance claim hospital care'],\n",
              " ['Relatives', 'friends'],\n",
              " ['Patients', 'years', 'doctor', 'bone pain'],\n",
              " ['before'],\n",
              " ['doctor', 'anything'],\n",
              " [],\n",
              " ['something'],\n",
              " ['doctor'],\n",
              " ['cancer', 'answer', 'answer', 'patient'],\n",
              " ['complaint', 'hospital'],\n",
              " ['doctor', 'doctor'],\n",
              " ['conclusion', 'medications', 'analgesics'],\n",
              " ['pharmacist'],\n",
              " [],\n",
              " ['rheumatoid'],\n",
              " ['kind', 'caring'],\n",
              " ['disease'],\n",
              " ['eye capillaries', 'eye'],\n",
              " ['eyes', 'doctor', 'appointment', 'doctor', 'eyes'],\n",
              " [],\n",
              " ['rheumatoid'],\n",
              " ['eye', 'doctor'],\n",
              " ['Shows', 'patients'],\n",
              " ['weather'],\n",
              " ['leg', 'blotches'],\n",
              " ['winter'],\n",
              " [],\n",
              " ['attention', 'disease'],\n",
              " ['talk', 'work'],\n",
              " ['service', 'care'],\n",
              " ['Yesterday', 'doctor', 'hospital'],\n",
              " ['service', 'impression'],\n",
              " ['birth', 'hospital', 'แlai'],\n",
              " ['Nurses feel', 'service'],\n",
              " ['day', 'hospital'],\n",
              " ['doctor', 'kind ฝaktgag'],\n",
              " ['Talk', 'patient'],\n",
              " ['doctor', 'doctor', 'story'],\n",
              " ['Today', 'people', 'children'],\n",
              " ['counseling', 'information', 'disease'],\n",
              " ['diagnosis', 'years'],\n",
              " ['staff', 'wifi'],\n",
              " ['stomach twin gestation',\n",
              "  'diarrhea',\n",
              "  'pm',\n",
              "  'doctor',\n",
              "  'hospital',\n",
              "  'someone',\n",
              "  'wheelchair'],\n",
              " ['Accelerators', 'convenient', 'bathroom'],\n",
              " ['d.'],\n",
              " ['brine', 'night', 'doctor', 'specialist doctors', 'obstetricians'],\n",
              " ['disease', 'colon care'],\n",
              " ['drawback'],\n",
              " [],\n",
              " ['Exceptions', 'bed'],\n",
              " ['journey'],\n",
              " ['port'],\n",
              " ['maternity ward', 'cycles'],\n",
              " ['man', 'examination'],\n",
              " ['doctors', 'check'],\n",
              " ['teller', 'eggs', 'eggs', 'egg', 'children'],\n",
              " ['wall'],\n",
              " [],\n",
              " ['baht', 'temperature', 'ultrasound'],\n",
              " ['thank'],\n",
              " ['disease recurrence', 'doctor', 'hospital bed'],\n",
              " ['doctors'],\n",
              " ['home', 'interests', 'patients'],\n",
              " ['staff'],\n",
              " ['expert',\n",
              "  'front',\n",
              "  'experience',\n",
              "  'doctors',\n",
              "  'nurses',\n",
              "  'questions',\n",
              "  'medicine department'],\n",
              " ['Doctors', 'department', 'material'],\n",
              " ['load'],\n",
              " ['treatment', 'patients', 'post hospital services', 'team', 'specialists'],\n",
              " [],\n",
              " ['parachute', 'travel nurses', 'doctors', 'care', 'guidance'],\n",
              " ['Reduces symptoms', 'doctors', 'obstetricians', 'lot'],\n",
              " ['doctors'],\n",
              " ['children', 'doctors', 'diseases', 'accuracy'],\n",
              " ['answer'],\n",
              " ['virus rsv', 'room'],\n",
              " ['hospital', 'solution', 'waiting room'],\n",
              " ['time', 'room'],\n",
              " ['Nursing', 'care', 'attention', 'patients', 'spite', 'children', 'ward'],\n",
              " ['patients', 'countenance'],\n",
              " [],\n",
              " ['estate', 'kind', 'pregnancy'],\n",
              " ['Every time', 'problem', 'pregnancy'],\n",
              " ['doctor', 'advice'],\n",
              " ['stitches'],\n",
              " ['bed', 'water'],\n",
              " ['patient care', 'doctor'],\n",
              " ['examination', 'year'],\n",
              " ['service'],\n",
              " ['room'],\n",
              " ['counter',\n",
              "  'people',\n",
              "  'doctor',\n",
              "  'examination room',\n",
              "  'treatment',\n",
              "  'doctor',\n",
              "  'appointment'],\n",
              " ['service', 'prices'],\n",
              " ['surgery', 'hand', 'pressure'],\n",
              " ['Replacement nurses', 'start'],\n",
              " ['Went', 'nurses'],\n",
              " ['patients', 'jacket', 'radiation'],\n",
              " ['hospitals', 'government hospital'],\n",
              " ['thanks', 'caring mother', 'mother', 'night', 'symptoms'],\n",
              " ['catch', 'cheeks', 'feel', 'grandchildren'],\n",
              " ['Doctors'],\n",
              " ['Doctor',\n",
              "  'nurse',\n",
              "  'kind',\n",
              "  'look',\n",
              "  'surgery',\n",
              "  'safety',\n",
              "  'feel',\n",
              "  'recommendations'],\n",
              " ['care'],\n",
              " ['Accommodation',\n",
              "  'restaurants',\n",
              "  'hospitals',\n",
              "  'outpatient care',\n",
              "  'mother',\n",
              "  'time',\n",
              "  'heart'],\n",
              " ['management system', 'lot', 'unit'],\n",
              " ['parking', 'seniors', 'people', 'car sharing', 'distance'],\n",
              " ['security guards'],\n",
              " [],\n",
              " ['standard', 'world', 'manners', 'statement', 'impression'],\n",
              " ['rest', 'service'],\n",
              " ['hospital'],\n",
              " ['service', 'hospitals', 'service'],\n",
              " ['man', 'office', 'lot'],\n",
              " ['cleanliness'],\n",
              " ['smell drugs', 'book', 'staff', 'fast'],\n",
              " [],\n",
              " ['examination', 'information'],\n",
              " ['staff', 'door', 'dissection room'],\n",
              " ['People'],\n",
              " [],\n",
              " ['holiday', \"o'clock\", 'morning', 'layers'],\n",
              " [],\n",
              " ['department',\n",
              "  'records',\n",
              "  'coordinator sensitivity',\n",
              "  'patient cards',\n",
              "  'health insurance cards',\n",
              "  'minutes',\n",
              "  'front'],\n",
              " [],\n",
              " ['services', 'nurses', 'smile'],\n",
              " ['expertise', 'doctors', 'doctors', 'teachers', 'proficient'],\n",
              " ['deduction', 'respect', 'issue', 'examination'],\n",
              " ['doctors', 'time', 'patients'],\n",
              " ['battery', 'backup batteries'],\n",
              " ['nurse', 'power', 'department'],\n",
              " ['money'],\n",
              " ['care'],\n",
              " ['lack', 'attention', 'treatment'],\n",
              " ['mom', 'heart disease'],\n",
              " ['Doctors', 'care', 'room'],\n",
              " ['sleepers'],\n",
              " ['floor cute'],\n",
              " ['claim', 'insurance'],\n",
              " ['doctors', 'thanks', 'treatment', 'scalp'],\n",
              " [],\n",
              " ['motorcycle accident'],\n",
              " ['wound'],\n",
              " ['wound'],\n",
              " ['drug odor'],\n",
              " ['Measurements', 'odor'],\n",
              " ['lymph flow outward'],\n",
              " ['wound'],\n",
              " ['drug', 'smell'],\n",
              " ['wound', 'drugs'],\n",
              " ['service'],\n",
              " ['nurse', 'doctor', 'pm'],\n",
              " ['time'],\n",
              " ['doctor'],\n",
              " ['time'],\n",
              " [],\n",
              " ['dresser'],\n",
              " ['hospital patients', 'doctor', 'tomorrow'],\n",
              " ['Nurses', 'right'],\n",
              " ['Hospital', 'coordination'],\n",
              " ['Patients', 'fro'],\n",
              " ['appointment'],\n",
              " ['physician', 'nurse', 'doctor', 'appointment', 'way'],\n",
              " ['standard'],\n",
              " [],\n",
              " ['years'],\n",
              " ['hospital', 'distance'],\n",
              " ['payments', 'drugs', 'pharmacy bag', 'people', 'payment'],\n",
              " ['names', 'information', 'patients strap'],\n",
              " ['attention', 'waste'],\n",
              " ['doctor', 'service', 'eloquence'],\n",
              " ['Management system', 'staff', 'doctor'],\n",
              " ['hospital'],\n",
              " ['house', 'doctor'],\n",
              " ['hospital', 'hospital'],\n",
              " ['department'],\n",
              " ['departments', 'areas'],\n",
              " ['hospital', 'price', 'service good'],\n",
              " ['care patient', 'polite', 'room', 'number', 'patients'],\n",
              " ['hospitals', 'doctors'],\n",
              " ['need', 'end', 'dengue'],\n",
              " ['hospital',\n",
              "  'days',\n",
              "  'doctors',\n",
              "  'everything',\n",
              "  'insurance departments',\n",
              "  'hassle'],\n",
              " ['disadvantage', 'hospital'],\n",
              " ['Nurses', 'midday'],\n",
              " ['cause', 'temperature', 'doctor', 'time', 'downside', 'hospital'],\n",
              " ['cafeteria food', 'store'],\n",
              " ['area'],\n",
              " ['food', 'lot'],\n",
              " ['variety', 'food', 'people', 'doctor', 'patient', 'food'],\n",
              " ['hospital stay'],\n",
              " ['restaurant', 'starbucks', 'choice', 'consumer'],\n",
              " ['rooms', 'day', 'swab'],\n",
              " ['people', 'cleanliness'],\n",
              " ['water'],\n",
              " ['flow', 'water', 'people', 'winter'],\n",
              " ['room', 'patient registration service'],\n",
              " ['none', 'look', 'series', 'nothing'],\n",
              " ['rooms', 'something', 'light', 'total', 'points', 'nursing'],\n",
              " ['sound', 'equipment carts'],\n",
              " ['food'],\n",
              " ['speed', 'cleanliness', 'people'],\n",
              " ['poisoning', 'diarrhea', 'penniless', 'doctor'],\n",
              " ['doctor'],\n",
              " ['night', 'brine'],\n",
              " ['bother', 'signs'],\n",
              " ['need'],\n",
              " ['drug', 'change'],\n",
              " ['hour'],\n",
              " ['doctor', 'room', 'time', 'eh'],\n",
              " [],\n",
              " ['cost', 'drug charges', 'thousand rooms'],\n",
              " ['day', 'doctor', 'minutes', 'handset', 'lungs'],\n",
              " ['home', 'medicine', 'doctor'],\n",
              " ['order', 'drugs', 'congestion', 'doctor', 'drugs', 'something'],\n",
              " ['medicine'],\n",
              " ['doctor', 'stuffy nose'],\n",
              " ['state hospital', 'doctor', 'medicine'],\n",
              " ['signs', 'time', 'treatment'],\n",
              " ['People', 'floor', 'doctor', 'service'],\n",
              " ['time', 'spite', 'appearances'],\n",
              " ['professor doctor'],\n",
              " ['Patients', 'attention'],\n",
              " ['stomach', 'patients'],\n",
              " ['remedy', 'patient care', 'symptoms'],\n",
              " ['card', 'nurse', 'desk', 'everyone'],\n",
              " ['Today', 'throat', 'doctor', 'medicine'],\n",
              " ['service', 'patient'],\n",
              " ['pet', 'bed'],\n",
              " ['time', 'kg'],\n",
              " ['morning'],\n",
              " ['time', 'maintenance service', 'nurses'],\n",
              " ['costs', 'prizes', 'charge'],\n",
              " [],\n",
              " ['Doctors', 'nurses', 'care'],\n",
              " ['patient care services'],\n",
              " ['ward boy', 'admit', 'thermometer', 'time', 'smiling'],\n",
              " ['wait', 'rooms', 'doctor', 'hospital system'],\n",
              " ['Delays', 'prices', 'service'],\n",
              " ['hospital'],\n",
              " ['service', 'staff', 'service'],\n",
              " ['care'],\n",
              " ['eye contact'],\n",
              " ['patients', 'treatment step', 'simple'],\n",
              " ['doctor', 'battle'],\n",
              " ['Doctor', 'mother', 'family'],\n",
              " ['care'],\n",
              " ['son', 'doctor', 'grade fever', 'rash', 'body', 'outdoor', 'patient'],\n",
              " ['pressure', 'children', 'stage'],\n",
              " [],\n",
              " ['look', 'sink transparent viscose'],\n",
              " ['informative'],\n",
              " ['birth', 'people', 'service', 'doctors', 'nurses', 'patients', 'things'],\n",
              " ['attention', 'ease', 'chat'],\n",
              " ['patients'],\n",
              " ['hospital'],\n",
              " ['tools', 'medicine'],\n",
              " ['trust', 'treatment'],\n",
              " ['clinics treat', 'consult', 'department'],\n",
              " [],\n",
              " ['intention'],\n",
              " ['intention'],\n",
              " ['patient', 'life'],\n",
              " ['surgery'],\n",
              " ['spine', 'people', 'symptoms', 'blood vessels'],\n",
              " ['leg pain', 'bone nerve'],\n",
              " [],\n",
              " ['days', 'doctors', 'patient'],\n",
              " ['Hospital'],\n",
              " [],\n",
              " ['prosperity'],\n",
              " ['nurse', 'front', 'ward'],\n",
              " ['angel', 'food', 'airy environment', 'hospital', 'feeling'],\n",
              " ['nurses', 'class child care', 'children', 'eloquence child care', 'doctor'],\n",
              " ['pain', 'ankle', 'crash landing'],\n",
              " ['car', 'service staff'],\n",
              " ['nurse', 'question', 'symptoms'],\n",
              " ['Check records'],\n",
              " ['diagnosis'],\n",
              " ['service'],\n",
              " [],\n",
              " ['life', 'doctors', 'teachers', 'hospital'],\n",
              " ['doctor'],\n",
              " ['health', 'benign'],\n",
              " [],\n",
              " ['food', 'staff'],\n",
              " ['treat'],\n",
              " [],\n",
              " ['disease', 'flu', 'doctor', 'hospital channel'],\n",
              " ['nursing care', 'inquiry'],\n",
              " ['Doctors', 'prevention', 'treatment']]"
            ]
          },
          "metadata": {
            "tags": []
          },
          "execution_count": 28
        }
      ]
    },
    {
      "cell_type": "markdown",
      "metadata": {
        "id": "v61sVzLojiro",
        "colab_type": "text"
      },
      "source": [
        "**Put information into DataFrame**"
      ]
    },
    {
      "cell_type": "code",
      "metadata": {
        "id": "bq5vTLutjgFq",
        "colab_type": "code",
        "colab": {}
      },
      "source": [
        "df = pd.DataFrame({\"cids\": cids, \n",
        "                   \"sentences\": sentences, \n",
        "                   \"sentiments\": sentiments, \n",
        "                   \"NP\": nps})"
      ],
      "execution_count": 0,
      "outputs": []
    },
    {
      "cell_type": "code",
      "metadata": {
        "id": "2ayIc1ZSj1gh",
        "colab_type": "code",
        "outputId": "cc89babf-883c-42f6-b321-975f3d2aebc2",
        "colab": {
          "base_uri": "https://localhost:8080/",
          "height": 343
        }
      },
      "source": [
        "df.head(10)"
      ],
      "execution_count": 30,
      "outputs": [
        {
          "output_type": "execute_result",
          "data": {
            "text/html": [
              "<div>\n",
              "<style scoped>\n",
              "    .dataframe tbody tr th:only-of-type {\n",
              "        vertical-align: middle;\n",
              "    }\n",
              "\n",
              "    .dataframe tbody tr th {\n",
              "        vertical-align: top;\n",
              "    }\n",
              "\n",
              "    .dataframe thead th {\n",
              "        text-align: right;\n",
              "    }\n",
              "</style>\n",
              "<table border=\"1\" class=\"dataframe\">\n",
              "  <thead>\n",
              "    <tr style=\"text-align: right;\">\n",
              "      <th></th>\n",
              "      <th>cids</th>\n",
              "      <th>sentences</th>\n",
              "      <th>sentiments</th>\n",
              "      <th>NP</th>\n",
              "    </tr>\n",
              "  </thead>\n",
              "  <tbody>\n",
              "    <tr>\n",
              "      <th>0</th>\n",
              "      <td>0</td>\n",
              "      <td>What is really like a lot of people in this ho...</td>\n",
              "      <td>positive</td>\n",
              "      <td>[lot, people, hospital]</td>\n",
              "    </tr>\n",
              "    <tr>\n",
              "      <th>1</th>\n",
              "      <td>0</td>\n",
              "      <td>Most smiling Greetings care patients and those...</td>\n",
              "      <td>positive</td>\n",
              "      <td>[Greetings care patients, service]</td>\n",
              "    </tr>\n",
              "    <tr>\n",
              "      <th>2</th>\n",
              "      <td>0</td>\n",
              "      <td>Invite people to feel relaxed at all.</td>\n",
              "      <td>positive</td>\n",
              "      <td>[people]</td>\n",
              "    </tr>\n",
              "    <tr>\n",
              "      <th>3</th>\n",
              "      <td>0</td>\n",
              "      <td>Most doctors who have had the good-hearted peo...</td>\n",
              "      <td>neutral</td>\n",
              "      <td>[doctors, people, someone]</td>\n",
              "    </tr>\n",
              "    <tr>\n",
              "      <th>4</th>\n",
              "      <td>0</td>\n",
              "      <td>The Department of Medicine Private rooms are O...</td>\n",
              "      <td>positive</td>\n",
              "      <td>[rooms, price]</td>\n",
              "    </tr>\n",
              "    <tr>\n",
              "      <th>5</th>\n",
              "      <td>1</td>\n",
              "      <td>Riga has to use here.</td>\n",
              "      <td>neutral</td>\n",
              "      <td>[]</td>\n",
              "    </tr>\n",
              "    <tr>\n",
              "      <th>6</th>\n",
              "      <td>1</td>\n",
              "      <td>Clean and good reception The service was with ...</td>\n",
              "      <td>positive</td>\n",
              "      <td>[reception, service, system]</td>\n",
              "    </tr>\n",
              "    <tr>\n",
              "      <th>7</th>\n",
              "      <td>1</td>\n",
              "      <td>A nurse and doctor There are facilities within...</td>\n",
              "      <td>neutral</td>\n",
              "      <td>[nurse, doctor, facilities, hospital]</td>\n",
              "    </tr>\n",
              "    <tr>\n",
              "      <th>8</th>\n",
              "      <td>1</td>\n",
              "      <td>Doctors are competent The hospital is a good t...</td>\n",
              "      <td>positive</td>\n",
              "      <td>[Doctors, hospital, thing, service]</td>\n",
              "    </tr>\n",
              "    <tr>\n",
              "      <th>9</th>\n",
              "      <td>1</td>\n",
              "      <td>I would recommend to use the service if they a...</td>\n",
              "      <td>negative</td>\n",
              "      <td>[service]</td>\n",
              "    </tr>\n",
              "  </tbody>\n",
              "</table>\n",
              "</div>"
            ],
            "text/plain": [
              "   cids  ...                                     NP\n",
              "0     0  ...                [lot, people, hospital]\n",
              "1     0  ...     [Greetings care patients, service]\n",
              "2     0  ...                               [people]\n",
              "3     0  ...             [doctors, people, someone]\n",
              "4     0  ...                         [rooms, price]\n",
              "5     1  ...                                     []\n",
              "6     1  ...           [reception, service, system]\n",
              "7     1  ...  [nurse, doctor, facilities, hospital]\n",
              "8     1  ...    [Doctors, hospital, thing, service]\n",
              "9     1  ...                              [service]\n",
              "\n",
              "[10 rows x 4 columns]"
            ]
          },
          "metadata": {
            "tags": []
          },
          "execution_count": 30
        }
      ]
    },
    {
      "cell_type": "code",
      "metadata": {
        "id": "5IirLAzZj26d",
        "colab_type": "code",
        "colab": {}
      },
      "source": [
        "df['sentences'] = df['sentences'].str.replace(\"[^a-zA-Z#]\", \" \")"
      ],
      "execution_count": 0,
      "outputs": []
    },
    {
      "cell_type": "code",
      "metadata": {
        "id": "OK-USNzqj6D2",
        "colab_type": "code",
        "colab": {}
      },
      "source": [
        "df['sentiments'] = df['sentiments'].str.replace(\"[^a-zA-Z#]\", \" \")"
      ],
      "execution_count": 0,
      "outputs": []
    },
    {
      "cell_type": "markdown",
      "metadata": {
        "id": "ZoxJRBB2j-qk",
        "colab_type": "text"
      },
      "source": [
        "Split dataframe into positive and negative sentiment"
      ]
    },
    {
      "cell_type": "code",
      "metadata": {
        "id": "vOMuTnfcj6lB",
        "colab_type": "code",
        "colab": {}
      },
      "source": [
        "pos = df[df[\"sentiments\"] == \"positive\"].reset_index(drop=True)\n",
        "pos_words = sum(pos[\"NP\"].tolist(), [])\n",
        "pos_words = [word.lower() for word in pos_words]\n",
        "poshist = pd.DataFrame({\"words\": pos_words})\n",
        "poshist = poshist.groupby(\"words\").size().reset_index(name=\"#pos\")"
      ],
      "execution_count": 0,
      "outputs": []
    },
    {
      "cell_type": "code",
      "metadata": {
        "id": "dx3gHvVqj6um",
        "colab_type": "code",
        "colab": {}
      },
      "source": [
        "neg = df[df[\"sentiments\"] == \"negative\"].reset_index(drop=True)\n",
        "neg_words = sum(neg[\"NP\"].tolist(), [])\n",
        "neg_words = [word.lower() for word in neg_words]\n",
        "neghist = pd.DataFrame({\"words\": neg_words})\n",
        "neghist = neghist.groupby(\"words\").size().reset_index(name=\"#neg\")"
      ],
      "execution_count": 0,
      "outputs": []
    },
    {
      "cell_type": "markdown",
      "metadata": {
        "id": "mK5gmJDhlAEx",
        "colab_type": "text"
      },
      "source": [
        "**Word Cloud Representation**"
      ]
    },
    {
      "cell_type": "code",
      "metadata": {
        "id": "2Tax0Smmj6zU",
        "colab_type": "code",
        "colab": {}
      },
      "source": [
        "from wordcloud import WordCloud\n",
        "import matplotlib.pyplot as plt"
      ],
      "execution_count": 0,
      "outputs": []
    },
    {
      "cell_type": "code",
      "metadata": {
        "id": "XKXDoOBdj65M",
        "colab_type": "code",
        "colab": {}
      },
      "source": [
        "def vizwordcloud(df):\n",
        "    tuples = [tuple(x) for x in df.values]\n",
        "    wordcloud = WordCloud().generate_from_frequencies(dict(tuples))\n",
        "    plt.figure()\n",
        "    plt.imshow(wordcloud, interpolation=\"bilinear\")\n",
        "    plt.axis(\"off\")\n",
        "    plt.show()"
      ],
      "execution_count": 0,
      "outputs": []
    },
    {
      "cell_type": "code",
      "metadata": {
        "id": "87BnvoVvj6-A",
        "colab_type": "code",
        "outputId": "9c086eb4-6330-4be0-84d9-932d900e9f8d",
        "colab": {
          "base_uri": "https://localhost:8080/",
          "height": 198
        }
      },
      "source": [
        "vizwordcloud(poshist)"
      ],
      "execution_count": 37,
      "outputs": [
        {
          "output_type": "display_data",
          "data": {
            "image/png": "[encoded data removed]",
            "text/plain": [
              "<Figure size 432x288 with 1 Axes>"
            ]
          },
          "metadata": {
            "tags": [],
            "needs_background": "light"
          }
        }
      ]
    },
    {
      "cell_type": "code",
      "metadata": {
        "id": "IpiKxrk3j7Da",
        "colab_type": "code",
        "outputId": "b1bb4795-1e77-4196-cb7a-20920836c515",
        "colab": {
          "base_uri": "https://localhost:8080/",
          "height": 198
        }
      },
      "source": [
        "vizwordcloud(neghist)"
      ],
      "execution_count": 38,
      "outputs": [
        {
          "output_type": "display_data",
          "data": {
            "image/png": "[encoded data removed]",
            "text/plain": [
              "<Figure size 432x288 with 1 Axes>"
            ]
          },
          "metadata": {
            "tags": [],
            "needs_background": "light"
          }
        }
      ]
    },
    {
      "cell_type": "markdown",
      "metadata": {
        "id": "35w1qdrzlK6B",
        "colab_type": "text"
      },
      "source": [
        "We saw 2 problems: 1) Singular and plural words were not combined and 2) words that should not be appeared in the wordcloud such as patients because of the co-reference resolution problem.\n",
        "\n",
        "Let's transfrom selected words to their singular form because at this stage the number of words is not much already then add categories to filter out."
      ]
    },
    {
      "cell_type": "code",
      "metadata": {
        "id": "7PtXvlwuj68b",
        "colab_type": "code",
        "colab": {}
      },
      "source": [
        "def plural2singular(word):\n",
        "  if word == \"doctors\":\n",
        "    return \"doctor\"\n",
        "  elif word == \"nurses\":\n",
        "    return \"nurse\"\n",
        "  elif word == \"clinics\":\n",
        "    return \"clinic\"\n",
        "  elif word == \"hospitals\":\n",
        "    return \"hospital\"\n",
        "  elif word == \"services\":\n",
        "    return \"service\"\n",
        "  elif word == \"staffs\":\n",
        "    return \"staff\"\n",
        "  elif word == \"treatments\":\n",
        "    return \"treatment\"\n",
        "  elif word == \"students\":\n",
        "    return \"student\"\n",
        "  else:\n",
        "    return word"
      ],
      "execution_count": 0,
      "outputs": []
    },
    {
      "cell_type": "code",
      "metadata": {
        "id": "LaPiiBEgj6xr",
        "colab_type": "code",
        "colab": {}
      },
      "source": [
        "pos_words = [plural2singular(word) for word in pos_words]\n",
        "poshist = pd.DataFrame({\"words\": pos_words})\n",
        "poshist = poshist.groupby(\"words\").size().reset_index(name=\"#pos\")\n",
        "\n",
        "neg_words = [plural2singular(word) for word in neg_words]\n",
        "neghist = pd.DataFrame({\"words\": neg_words})\n",
        "neghist = neghist.groupby(\"words\").size().reset_index(name=\"#neg\")"
      ],
      "execution_count": 0,
      "outputs": []
    },
    {
      "cell_type": "code",
      "metadata": {
        "id": "2EV1sdoSj6sT",
        "colab_type": "code",
        "outputId": "0ab4a888-cd8e-4a75-8486-d2ad546cec64",
        "colab": {
          "base_uri": "https://localhost:8080/",
          "height": 198
        }
      },
      "source": [
        "vizwordcloud(poshist)"
      ],
      "execution_count": 41,
      "outputs": [
        {
          "output_type": "display_data",
          "data": {
            "image/png": "[encoded data removed]",
            "text/plain": [
              "<Figure size 432x288 with 1 Axes>"
            ]
          },
          "metadata": {
            "tags": [],
            "needs_background": "light"
          }
        }
      ]
    },
    {
      "cell_type": "code",
      "metadata": {
        "id": "ba5-63Dbj6q0",
        "colab_type": "code",
        "outputId": "a6d58b37-ebbc-4d9e-d09f-5dfcba4dd99e",
        "colab": {
          "base_uri": "https://localhost:8080/",
          "height": 198
        }
      },
      "source": [
        "vizwordcloud(neghist)"
      ],
      "execution_count": 42,
      "outputs": [
        {
          "output_type": "display_data",
          "data": {
            "image/png": "[encoded data removed]",
            "text/plain": [
              "<Figure size 432x288 with 1 Axes>"
            ]
          },
          "metadata": {
            "tags": [],
            "needs_background": "light"
          }
        }
      ]
    },
    {
      "cell_type": "code",
      "metadata": {
        "id": "dzRyADvdj6pB",
        "colab_type": "code",
        "colab": {}
      },
      "source": [
        "def groups(word):\n",
        "    if word in (\"doctor\", \"nurse\", \"student\"):\n",
        "        return \"staff\"\n",
        "    elif word in (\"hospital\", \"clinic\", \"equipment\", \"place\"):\n",
        "        return \"infrastructure\"\n",
        "    elif word in (\"service\", \"care\", \"treatment\", \"surgery\", \"disease\", \"medical care\"):\n",
        "        return \"service\"\n",
        "    elif word in (\"queue\", \"appointment\"):\n",
        "        return \"process\"\n",
        "    elif word in (\"price\", \"claim\"):\n",
        "        return \"finance\"\n",
        "    else:\n",
        "        return \"others\""
      ],
      "execution_count": 0,
      "outputs": []
    },
    {
      "cell_type": "code",
      "metadata": {
        "id": "KugJKZY6lXV4",
        "colab_type": "code",
        "colab": {}
      },
      "source": [
        "poshist[\"category\"] = poshist[\"words\"].apply(lambda x: groups(x))\n",
        "poscount = poshist.groupby(\"category\").size().reset_index(name=\"#\")\n",
        "poscount = poscount[poscount[\"category\"] != \"others\"].reset_index(drop=True)"
      ],
      "execution_count": 0,
      "outputs": []
    },
    {
      "cell_type": "code",
      "metadata": {
        "id": "eIe0De54lbyg",
        "colab_type": "code",
        "colab": {}
      },
      "source": [
        "neghist[\"category\"] = neghist[\"words\"].apply(lambda x: groups(x))\n",
        "negcount = neghist.groupby(\"category\").size().reset_index(name=\"#\")\n",
        "negcount = negcount[negcount[\"category\"] != \"others\"].reset_index(drop=True)"
      ],
      "execution_count": 0,
      "outputs": []
    },
    {
      "cell_type": "markdown",
      "metadata": {
        "id": "bErJdGqHmHlw",
        "colab_type": "text"
      },
      "source": [
        "**Plot Radar Chart**"
      ]
    },
    {
      "cell_type": "code",
      "metadata": {
        "id": "mixYCCCamF3m",
        "colab_type": "code",
        "outputId": "d9907b8b-2bbc-4df7-d537-167ed1f7fdb7",
        "colab": {
          "base_uri": "https://localhost:8080/",
          "height": 166
        }
      },
      "source": [
        "poscount"
      ],
      "execution_count": 46,
      "outputs": [
        {
          "output_type": "execute_result",
          "data": {
            "text/html": [
              "<div>\n",
              "<style scoped>\n",
              "    .dataframe tbody tr th:only-of-type {\n",
              "        vertical-align: middle;\n",
              "    }\n",
              "\n",
              "    .dataframe tbody tr th {\n",
              "        vertical-align: top;\n",
              "    }\n",
              "\n",
              "    .dataframe thead th {\n",
              "        text-align: right;\n",
              "    }\n",
              "</style>\n",
              "<table border=\"1\" class=\"dataframe\">\n",
              "  <thead>\n",
              "    <tr style=\"text-align: right;\">\n",
              "      <th></th>\n",
              "      <th>category</th>\n",
              "      <th>#</th>\n",
              "    </tr>\n",
              "  </thead>\n",
              "  <tbody>\n",
              "    <tr>\n",
              "      <th>0</th>\n",
              "      <td>finance</td>\n",
              "      <td>2</td>\n",
              "    </tr>\n",
              "    <tr>\n",
              "      <th>1</th>\n",
              "      <td>infrastructure</td>\n",
              "      <td>1</td>\n",
              "    </tr>\n",
              "    <tr>\n",
              "      <th>2</th>\n",
              "      <td>service</td>\n",
              "      <td>5</td>\n",
              "    </tr>\n",
              "    <tr>\n",
              "      <th>3</th>\n",
              "      <td>staff</td>\n",
              "      <td>2</td>\n",
              "    </tr>\n",
              "  </tbody>\n",
              "</table>\n",
              "</div>"
            ],
            "text/plain": [
              "         category  #\n",
              "0         finance  2\n",
              "1  infrastructure  1\n",
              "2         service  5\n",
              "3           staff  2"
            ]
          },
          "metadata": {
            "tags": []
          },
          "execution_count": 46
        }
      ]
    },
    {
      "cell_type": "code",
      "metadata": {
        "id": "EucKNvPXmOZU",
        "colab_type": "code",
        "outputId": "8f6f8ce3-0e82-46c1-be74-fa600d75bfc0",
        "colab": {
          "base_uri": "https://localhost:8080/",
          "height": 136
        }
      },
      "source": [
        "negcount"
      ],
      "execution_count": 47,
      "outputs": [
        {
          "output_type": "execute_result",
          "data": {
            "text/html": [
              "<div>\n",
              "<style scoped>\n",
              "    .dataframe tbody tr th:only-of-type {\n",
              "        vertical-align: middle;\n",
              "    }\n",
              "\n",
              "    .dataframe tbody tr th {\n",
              "        vertical-align: top;\n",
              "    }\n",
              "\n",
              "    .dataframe thead th {\n",
              "        text-align: right;\n",
              "    }\n",
              "</style>\n",
              "<table border=\"1\" class=\"dataframe\">\n",
              "  <thead>\n",
              "    <tr style=\"text-align: right;\">\n",
              "      <th></th>\n",
              "      <th>category</th>\n",
              "      <th>#</th>\n",
              "    </tr>\n",
              "  </thead>\n",
              "  <tbody>\n",
              "    <tr>\n",
              "      <th>0</th>\n",
              "      <td>infrastructure</td>\n",
              "      <td>1</td>\n",
              "    </tr>\n",
              "    <tr>\n",
              "      <th>1</th>\n",
              "      <td>service</td>\n",
              "      <td>5</td>\n",
              "    </tr>\n",
              "    <tr>\n",
              "      <th>2</th>\n",
              "      <td>staff</td>\n",
              "      <td>1</td>\n",
              "    </tr>\n",
              "  </tbody>\n",
              "</table>\n",
              "</div>"
            ],
            "text/plain": [
              "         category  #\n",
              "0  infrastructure  1\n",
              "1         service  5\n",
              "2           staff  1"
            ]
          },
          "metadata": {
            "tags": []
          },
          "execution_count": 47
        }
      ]
    },
    {
      "cell_type": "code",
      "metadata": {
        "id": "k_KZPKGHmQNQ",
        "colab_type": "code",
        "colab": {}
      },
      "source": [
        "import plotly.express as px\n",
        "from plotly.offline import download_plotlyjs, init_notebook_mode,  plot"
      ],
      "execution_count": 0,
      "outputs": []
    },
    {
      "cell_type": "code",
      "metadata": {
        "id": "hKBPRaFUmrSI",
        "colab_type": "code",
        "outputId": "91a7361f-032e-4c2d-8625-c4f07b9b89de",
        "colab": {
          "base_uri": "https://localhost:8080/",
          "height": 34
        }
      },
      "source": [
        "fig = px.line_polar(poscount, r=\"#\", theta=\"category\", line_close=True)\n",
        "plot(fig)"
      ],
      "execution_count": 49,
      "outputs": [
        {
          "output_type": "execute_result",
          "data": {
            "text/plain": [
              "'temp-plot.html'"
            ]
          },
          "metadata": {
            "tags": []
          },
          "execution_count": 49
        }
      ]
    },
    {
      "cell_type": "code",
      "metadata": {
        "id": "oRbc-Q4NmsvQ",
        "colab_type": "code",
        "outputId": "a5c2c7e7-ae77-4daa-fd9f-c7d3467d552d",
        "colab": {
          "base_uri": "https://localhost:8080/",
          "height": 34
        }
      },
      "source": [
        "fig_2 = px.line_polar(negcount, r=\"#\", theta=\"category\", line_close=True)\n",
        "plot(fig_2)"
      ],
      "execution_count": 50,
      "outputs": [
        {
          "output_type": "execute_result",
          "data": {
            "text/plain": [
              "'temp-plot.html'"
            ]
          },
          "metadata": {
            "tags": []
          },
          "execution_count": 50
        }
      ]
    },
    {
      "cell_type": "markdown",
      "metadata": {
        "id": "eTV-o3Bbm0M5",
        "colab_type": "text"
      },
      "source": [
        "Extracting Features from cleaned comments"
      ]
    },
    {
      "cell_type": "code",
      "metadata": {
        "id": "uPqbKH0lmuFd",
        "colab_type": "code",
        "colab": {}
      },
      "source": [
        "from wordcloud import WordCloud,ImageColorGenerator\n",
        "from PIL import Image\n",
        "import urllib\n",
        "import requests"
      ],
      "execution_count": 0,
      "outputs": []
    },
    {
      "cell_type": "code",
      "metadata": {
        "id": "nlb9Dvb6m6hr",
        "colab_type": "code",
        "outputId": "d541e940-13e3-41e1-e8bb-1b00dd352445",
        "colab": {
          "base_uri": "https://localhost:8080/",
          "height": 422
        }
      },
      "source": [
        "from sklearn.feature_extraction.text import CountVectorizer\n",
        "\n",
        "bow_vectorizer = CountVectorizer(max_df=0.90, min_df=2, max_features=1000, stop_words='english')\n",
        "\n",
        "# bag-of-words feature matrix\n",
        "bow = bow_vectorizer.fit_transform(df['sentences'])\n",
        "\n",
        "df_bow = pd.DataFrame(bow.todense())\n",
        "\n",
        "df_bow"
      ],
      "execution_count": 52,
      "outputs": [
        {
          "output_type": "execute_result",
          "data": {
            "text/html": [
              "<div>\n",
              "<style scoped>\n",
              "    .dataframe tbody tr th:only-of-type {\n",
              "        vertical-align: middle;\n",
              "    }\n",
              "\n",
              "    .dataframe tbody tr th {\n",
              "        vertical-align: top;\n",
              "    }\n",
              "\n",
              "    .dataframe thead th {\n",
              "        text-align: right;\n",
              "    }\n",
              "</style>\n",
              "<table border=\"1\" class=\"dataframe\">\n",
              "  <thead>\n",
              "    <tr style=\"text-align: right;\">\n",
              "      <th></th>\n",
              "      <th>0</th>\n",
              "      <th>1</th>\n",
              "      <th>2</th>\n",
              "      <th>3</th>\n",
              "      <th>4</th>\n",
              "      <th>5</th>\n",
              "      <th>6</th>\n",
              "      <th>7</th>\n",
              "      <th>8</th>\n",
              "      <th>9</th>\n",
              "      <th>10</th>\n",
              "      <th>11</th>\n",
              "      <th>12</th>\n",
              "      <th>13</th>\n",
              "      <th>14</th>\n",
              "      <th>15</th>\n",
              "      <th>16</th>\n",
              "      <th>17</th>\n",
              "      <th>18</th>\n",
              "      <th>19</th>\n",
              "      <th>20</th>\n",
              "      <th>21</th>\n",
              "      <th>22</th>\n",
              "      <th>23</th>\n",
              "      <th>24</th>\n",
              "      <th>25</th>\n",
              "      <th>26</th>\n",
              "      <th>27</th>\n",
              "      <th>28</th>\n",
              "      <th>29</th>\n",
              "      <th>30</th>\n",
              "      <th>31</th>\n",
              "      <th>32</th>\n",
              "      <th>33</th>\n",
              "      <th>34</th>\n",
              "      <th>35</th>\n",
              "      <th>36</th>\n",
              "      <th>37</th>\n",
              "      <th>38</th>\n",
              "      <th>39</th>\n",
              "      <th>...</th>\n",
              "      <th>197</th>\n",
              "      <th>198</th>\n",
              "      <th>199</th>\n",
              "      <th>200</th>\n",
              "      <th>201</th>\n",
              "      <th>202</th>\n",
              "      <th>203</th>\n",
              "      <th>204</th>\n",
              "      <th>205</th>\n",
              "      <th>206</th>\n",
              "      <th>207</th>\n",
              "      <th>208</th>\n",
              "      <th>209</th>\n",
              "      <th>210</th>\n",
              "      <th>211</th>\n",
              "      <th>212</th>\n",
              "      <th>213</th>\n",
              "      <th>214</th>\n",
              "      <th>215</th>\n",
              "      <th>216</th>\n",
              "      <th>217</th>\n",
              "      <th>218</th>\n",
              "      <th>219</th>\n",
              "      <th>220</th>\n",
              "      <th>221</th>\n",
              "      <th>222</th>\n",
              "      <th>223</th>\n",
              "      <th>224</th>\n",
              "      <th>225</th>\n",
              "      <th>226</th>\n",
              "      <th>227</th>\n",
              "      <th>228</th>\n",
              "      <th>229</th>\n",
              "      <th>230</th>\n",
              "      <th>231</th>\n",
              "      <th>232</th>\n",
              "      <th>233</th>\n",
              "      <th>234</th>\n",
              "      <th>235</th>\n",
              "      <th>236</th>\n",
              "    </tr>\n",
              "  </thead>\n",
              "  <tbody>\n",
              "    <tr>\n",
              "      <th>0</th>\n",
              "      <td>0</td>\n",
              "      <td>0</td>\n",
              "      <td>0</td>\n",
              "      <td>0</td>\n",
              "      <td>0</td>\n",
              "      <td>0</td>\n",
              "      <td>0</td>\n",
              "      <td>0</td>\n",
              "      <td>0</td>\n",
              "      <td>0</td>\n",
              "      <td>0</td>\n",
              "      <td>0</td>\n",
              "      <td>0</td>\n",
              "      <td>0</td>\n",
              "      <td>0</td>\n",
              "      <td>0</td>\n",
              "      <td>0</td>\n",
              "      <td>0</td>\n",
              "      <td>0</td>\n",
              "      <td>0</td>\n",
              "      <td>0</td>\n",
              "      <td>0</td>\n",
              "      <td>0</td>\n",
              "      <td>0</td>\n",
              "      <td>0</td>\n",
              "      <td>0</td>\n",
              "      <td>0</td>\n",
              "      <td>0</td>\n",
              "      <td>0</td>\n",
              "      <td>0</td>\n",
              "      <td>0</td>\n",
              "      <td>0</td>\n",
              "      <td>0</td>\n",
              "      <td>0</td>\n",
              "      <td>0</td>\n",
              "      <td>0</td>\n",
              "      <td>0</td>\n",
              "      <td>0</td>\n",
              "      <td>0</td>\n",
              "      <td>0</td>\n",
              "      <td>...</td>\n",
              "      <td>0</td>\n",
              "      <td>0</td>\n",
              "      <td>0</td>\n",
              "      <td>0</td>\n",
              "      <td>0</td>\n",
              "      <td>0</td>\n",
              "      <td>0</td>\n",
              "      <td>0</td>\n",
              "      <td>0</td>\n",
              "      <td>0</td>\n",
              "      <td>0</td>\n",
              "      <td>0</td>\n",
              "      <td>0</td>\n",
              "      <td>0</td>\n",
              "      <td>0</td>\n",
              "      <td>0</td>\n",
              "      <td>0</td>\n",
              "      <td>0</td>\n",
              "      <td>0</td>\n",
              "      <td>0</td>\n",
              "      <td>0</td>\n",
              "      <td>0</td>\n",
              "      <td>0</td>\n",
              "      <td>0</td>\n",
              "      <td>0</td>\n",
              "      <td>0</td>\n",
              "      <td>0</td>\n",
              "      <td>0</td>\n",
              "      <td>0</td>\n",
              "      <td>0</td>\n",
              "      <td>0</td>\n",
              "      <td>0</td>\n",
              "      <td>0</td>\n",
              "      <td>0</td>\n",
              "      <td>0</td>\n",
              "      <td>0</td>\n",
              "      <td>0</td>\n",
              "      <td>0</td>\n",
              "      <td>0</td>\n",
              "      <td>0</td>\n",
              "    </tr>\n",
              "    <tr>\n",
              "      <th>1</th>\n",
              "      <td>0</td>\n",
              "      <td>0</td>\n",
              "      <td>0</td>\n",
              "      <td>0</td>\n",
              "      <td>0</td>\n",
              "      <td>0</td>\n",
              "      <td>0</td>\n",
              "      <td>0</td>\n",
              "      <td>0</td>\n",
              "      <td>0</td>\n",
              "      <td>0</td>\n",
              "      <td>0</td>\n",
              "      <td>0</td>\n",
              "      <td>0</td>\n",
              "      <td>0</td>\n",
              "      <td>0</td>\n",
              "      <td>0</td>\n",
              "      <td>0</td>\n",
              "      <td>0</td>\n",
              "      <td>0</td>\n",
              "      <td>0</td>\n",
              "      <td>0</td>\n",
              "      <td>0</td>\n",
              "      <td>0</td>\n",
              "      <td>1</td>\n",
              "      <td>0</td>\n",
              "      <td>0</td>\n",
              "      <td>0</td>\n",
              "      <td>0</td>\n",
              "      <td>0</td>\n",
              "      <td>0</td>\n",
              "      <td>0</td>\n",
              "      <td>0</td>\n",
              "      <td>0</td>\n",
              "      <td>0</td>\n",
              "      <td>0</td>\n",
              "      <td>0</td>\n",
              "      <td>0</td>\n",
              "      <td>0</td>\n",
              "      <td>0</td>\n",
              "      <td>...</td>\n",
              "      <td>0</td>\n",
              "      <td>0</td>\n",
              "      <td>0</td>\n",
              "      <td>0</td>\n",
              "      <td>0</td>\n",
              "      <td>0</td>\n",
              "      <td>0</td>\n",
              "      <td>0</td>\n",
              "      <td>0</td>\n",
              "      <td>0</td>\n",
              "      <td>0</td>\n",
              "      <td>0</td>\n",
              "      <td>0</td>\n",
              "      <td>0</td>\n",
              "      <td>0</td>\n",
              "      <td>0</td>\n",
              "      <td>0</td>\n",
              "      <td>0</td>\n",
              "      <td>0</td>\n",
              "      <td>0</td>\n",
              "      <td>0</td>\n",
              "      <td>0</td>\n",
              "      <td>1</td>\n",
              "      <td>0</td>\n",
              "      <td>0</td>\n",
              "      <td>0</td>\n",
              "      <td>0</td>\n",
              "      <td>0</td>\n",
              "      <td>0</td>\n",
              "      <td>0</td>\n",
              "      <td>0</td>\n",
              "      <td>0</td>\n",
              "      <td>0</td>\n",
              "      <td>0</td>\n",
              "      <td>0</td>\n",
              "      <td>0</td>\n",
              "      <td>0</td>\n",
              "      <td>0</td>\n",
              "      <td>0</td>\n",
              "      <td>0</td>\n",
              "    </tr>\n",
              "    <tr>\n",
              "      <th>2</th>\n",
              "      <td>0</td>\n",
              "      <td>0</td>\n",
              "      <td>0</td>\n",
              "      <td>0</td>\n",
              "      <td>0</td>\n",
              "      <td>0</td>\n",
              "      <td>0</td>\n",
              "      <td>0</td>\n",
              "      <td>0</td>\n",
              "      <td>0</td>\n",
              "      <td>0</td>\n",
              "      <td>0</td>\n",
              "      <td>0</td>\n",
              "      <td>0</td>\n",
              "      <td>0</td>\n",
              "      <td>0</td>\n",
              "      <td>0</td>\n",
              "      <td>0</td>\n",
              "      <td>0</td>\n",
              "      <td>0</td>\n",
              "      <td>0</td>\n",
              "      <td>0</td>\n",
              "      <td>0</td>\n",
              "      <td>0</td>\n",
              "      <td>0</td>\n",
              "      <td>0</td>\n",
              "      <td>0</td>\n",
              "      <td>0</td>\n",
              "      <td>0</td>\n",
              "      <td>0</td>\n",
              "      <td>0</td>\n",
              "      <td>0</td>\n",
              "      <td>0</td>\n",
              "      <td>0</td>\n",
              "      <td>0</td>\n",
              "      <td>0</td>\n",
              "      <td>0</td>\n",
              "      <td>0</td>\n",
              "      <td>0</td>\n",
              "      <td>0</td>\n",
              "      <td>...</td>\n",
              "      <td>0</td>\n",
              "      <td>0</td>\n",
              "      <td>0</td>\n",
              "      <td>0</td>\n",
              "      <td>0</td>\n",
              "      <td>0</td>\n",
              "      <td>0</td>\n",
              "      <td>0</td>\n",
              "      <td>0</td>\n",
              "      <td>0</td>\n",
              "      <td>0</td>\n",
              "      <td>0</td>\n",
              "      <td>0</td>\n",
              "      <td>0</td>\n",
              "      <td>0</td>\n",
              "      <td>0</td>\n",
              "      <td>0</td>\n",
              "      <td>0</td>\n",
              "      <td>0</td>\n",
              "      <td>0</td>\n",
              "      <td>0</td>\n",
              "      <td>0</td>\n",
              "      <td>0</td>\n",
              "      <td>0</td>\n",
              "      <td>0</td>\n",
              "      <td>0</td>\n",
              "      <td>0</td>\n",
              "      <td>0</td>\n",
              "      <td>0</td>\n",
              "      <td>0</td>\n",
              "      <td>0</td>\n",
              "      <td>0</td>\n",
              "      <td>0</td>\n",
              "      <td>0</td>\n",
              "      <td>0</td>\n",
              "      <td>0</td>\n",
              "      <td>0</td>\n",
              "      <td>0</td>\n",
              "      <td>0</td>\n",
              "      <td>0</td>\n",
              "    </tr>\n",
              "    <tr>\n",
              "      <th>3</th>\n",
              "      <td>0</td>\n",
              "      <td>0</td>\n",
              "      <td>0</td>\n",
              "      <td>0</td>\n",
              "      <td>0</td>\n",
              "      <td>0</td>\n",
              "      <td>0</td>\n",
              "      <td>0</td>\n",
              "      <td>0</td>\n",
              "      <td>0</td>\n",
              "      <td>0</td>\n",
              "      <td>0</td>\n",
              "      <td>0</td>\n",
              "      <td>0</td>\n",
              "      <td>0</td>\n",
              "      <td>0</td>\n",
              "      <td>0</td>\n",
              "      <td>0</td>\n",
              "      <td>0</td>\n",
              "      <td>0</td>\n",
              "      <td>0</td>\n",
              "      <td>0</td>\n",
              "      <td>0</td>\n",
              "      <td>0</td>\n",
              "      <td>0</td>\n",
              "      <td>0</td>\n",
              "      <td>0</td>\n",
              "      <td>0</td>\n",
              "      <td>0</td>\n",
              "      <td>0</td>\n",
              "      <td>0</td>\n",
              "      <td>0</td>\n",
              "      <td>0</td>\n",
              "      <td>0</td>\n",
              "      <td>1</td>\n",
              "      <td>0</td>\n",
              "      <td>0</td>\n",
              "      <td>0</td>\n",
              "      <td>0</td>\n",
              "      <td>0</td>\n",
              "      <td>...</td>\n",
              "      <td>0</td>\n",
              "      <td>0</td>\n",
              "      <td>0</td>\n",
              "      <td>0</td>\n",
              "      <td>0</td>\n",
              "      <td>0</td>\n",
              "      <td>0</td>\n",
              "      <td>0</td>\n",
              "      <td>0</td>\n",
              "      <td>0</td>\n",
              "      <td>0</td>\n",
              "      <td>0</td>\n",
              "      <td>0</td>\n",
              "      <td>0</td>\n",
              "      <td>0</td>\n",
              "      <td>0</td>\n",
              "      <td>0</td>\n",
              "      <td>0</td>\n",
              "      <td>0</td>\n",
              "      <td>0</td>\n",
              "      <td>0</td>\n",
              "      <td>0</td>\n",
              "      <td>0</td>\n",
              "      <td>0</td>\n",
              "      <td>0</td>\n",
              "      <td>0</td>\n",
              "      <td>0</td>\n",
              "      <td>0</td>\n",
              "      <td>0</td>\n",
              "      <td>0</td>\n",
              "      <td>0</td>\n",
              "      <td>0</td>\n",
              "      <td>0</td>\n",
              "      <td>0</td>\n",
              "      <td>0</td>\n",
              "      <td>0</td>\n",
              "      <td>0</td>\n",
              "      <td>0</td>\n",
              "      <td>0</td>\n",
              "      <td>0</td>\n",
              "    </tr>\n",
              "    <tr>\n",
              "      <th>4</th>\n",
              "      <td>0</td>\n",
              "      <td>0</td>\n",
              "      <td>0</td>\n",
              "      <td>0</td>\n",
              "      <td>0</td>\n",
              "      <td>0</td>\n",
              "      <td>0</td>\n",
              "      <td>0</td>\n",
              "      <td>0</td>\n",
              "      <td>0</td>\n",
              "      <td>0</td>\n",
              "      <td>0</td>\n",
              "      <td>0</td>\n",
              "      <td>0</td>\n",
              "      <td>0</td>\n",
              "      <td>0</td>\n",
              "      <td>0</td>\n",
              "      <td>0</td>\n",
              "      <td>0</td>\n",
              "      <td>0</td>\n",
              "      <td>0</td>\n",
              "      <td>0</td>\n",
              "      <td>0</td>\n",
              "      <td>0</td>\n",
              "      <td>0</td>\n",
              "      <td>0</td>\n",
              "      <td>0</td>\n",
              "      <td>0</td>\n",
              "      <td>0</td>\n",
              "      <td>0</td>\n",
              "      <td>0</td>\n",
              "      <td>0</td>\n",
              "      <td>0</td>\n",
              "      <td>0</td>\n",
              "      <td>0</td>\n",
              "      <td>0</td>\n",
              "      <td>0</td>\n",
              "      <td>0</td>\n",
              "      <td>0</td>\n",
              "      <td>0</td>\n",
              "      <td>...</td>\n",
              "      <td>0</td>\n",
              "      <td>0</td>\n",
              "      <td>0</td>\n",
              "      <td>0</td>\n",
              "      <td>0</td>\n",
              "      <td>0</td>\n",
              "      <td>0</td>\n",
              "      <td>0</td>\n",
              "      <td>0</td>\n",
              "      <td>0</td>\n",
              "      <td>0</td>\n",
              "      <td>0</td>\n",
              "      <td>0</td>\n",
              "      <td>0</td>\n",
              "      <td>0</td>\n",
              "      <td>0</td>\n",
              "      <td>0</td>\n",
              "      <td>0</td>\n",
              "      <td>0</td>\n",
              "      <td>0</td>\n",
              "      <td>0</td>\n",
              "      <td>0</td>\n",
              "      <td>0</td>\n",
              "      <td>0</td>\n",
              "      <td>0</td>\n",
              "      <td>0</td>\n",
              "      <td>0</td>\n",
              "      <td>0</td>\n",
              "      <td>0</td>\n",
              "      <td>0</td>\n",
              "      <td>0</td>\n",
              "      <td>0</td>\n",
              "      <td>0</td>\n",
              "      <td>0</td>\n",
              "      <td>0</td>\n",
              "      <td>0</td>\n",
              "      <td>1</td>\n",
              "      <td>0</td>\n",
              "      <td>0</td>\n",
              "      <td>0</td>\n",
              "    </tr>\n",
              "    <tr>\n",
              "      <th>...</th>\n",
              "      <td>...</td>\n",
              "      <td>...</td>\n",
              "      <td>...</td>\n",
              "      <td>...</td>\n",
              "      <td>...</td>\n",
              "      <td>...</td>\n",
              "      <td>...</td>\n",
              "      <td>...</td>\n",
              "      <td>...</td>\n",
              "      <td>...</td>\n",
              "      <td>...</td>\n",
              "      <td>...</td>\n",
              "      <td>...</td>\n",
              "      <td>...</td>\n",
              "      <td>...</td>\n",
              "      <td>...</td>\n",
              "      <td>...</td>\n",
              "      <td>...</td>\n",
              "      <td>...</td>\n",
              "      <td>...</td>\n",
              "      <td>...</td>\n",
              "      <td>...</td>\n",
              "      <td>...</td>\n",
              "      <td>...</td>\n",
              "      <td>...</td>\n",
              "      <td>...</td>\n",
              "      <td>...</td>\n",
              "      <td>...</td>\n",
              "      <td>...</td>\n",
              "      <td>...</td>\n",
              "      <td>...</td>\n",
              "      <td>...</td>\n",
              "      <td>...</td>\n",
              "      <td>...</td>\n",
              "      <td>...</td>\n",
              "      <td>...</td>\n",
              "      <td>...</td>\n",
              "      <td>...</td>\n",
              "      <td>...</td>\n",
              "      <td>...</td>\n",
              "      <td>...</td>\n",
              "      <td>...</td>\n",
              "      <td>...</td>\n",
              "      <td>...</td>\n",
              "      <td>...</td>\n",
              "      <td>...</td>\n",
              "      <td>...</td>\n",
              "      <td>...</td>\n",
              "      <td>...</td>\n",
              "      <td>...</td>\n",
              "      <td>...</td>\n",
              "      <td>...</td>\n",
              "      <td>...</td>\n",
              "      <td>...</td>\n",
              "      <td>...</td>\n",
              "      <td>...</td>\n",
              "      <td>...</td>\n",
              "      <td>...</td>\n",
              "      <td>...</td>\n",
              "      <td>...</td>\n",
              "      <td>...</td>\n",
              "      <td>...</td>\n",
              "      <td>...</td>\n",
              "      <td>...</td>\n",
              "      <td>...</td>\n",
              "      <td>...</td>\n",
              "      <td>...</td>\n",
              "      <td>...</td>\n",
              "      <td>...</td>\n",
              "      <td>...</td>\n",
              "      <td>...</td>\n",
              "      <td>...</td>\n",
              "      <td>...</td>\n",
              "      <td>...</td>\n",
              "      <td>...</td>\n",
              "      <td>...</td>\n",
              "      <td>...</td>\n",
              "      <td>...</td>\n",
              "      <td>...</td>\n",
              "      <td>...</td>\n",
              "      <td>...</td>\n",
              "    </tr>\n",
              "    <tr>\n",
              "      <th>310</th>\n",
              "      <td>0</td>\n",
              "      <td>0</td>\n",
              "      <td>0</td>\n",
              "      <td>0</td>\n",
              "      <td>0</td>\n",
              "      <td>0</td>\n",
              "      <td>0</td>\n",
              "      <td>0</td>\n",
              "      <td>0</td>\n",
              "      <td>0</td>\n",
              "      <td>0</td>\n",
              "      <td>0</td>\n",
              "      <td>0</td>\n",
              "      <td>0</td>\n",
              "      <td>0</td>\n",
              "      <td>0</td>\n",
              "      <td>0</td>\n",
              "      <td>0</td>\n",
              "      <td>0</td>\n",
              "      <td>0</td>\n",
              "      <td>0</td>\n",
              "      <td>0</td>\n",
              "      <td>0</td>\n",
              "      <td>0</td>\n",
              "      <td>0</td>\n",
              "      <td>0</td>\n",
              "      <td>0</td>\n",
              "      <td>0</td>\n",
              "      <td>0</td>\n",
              "      <td>0</td>\n",
              "      <td>0</td>\n",
              "      <td>0</td>\n",
              "      <td>0</td>\n",
              "      <td>0</td>\n",
              "      <td>0</td>\n",
              "      <td>0</td>\n",
              "      <td>0</td>\n",
              "      <td>0</td>\n",
              "      <td>0</td>\n",
              "      <td>0</td>\n",
              "      <td>...</td>\n",
              "      <td>0</td>\n",
              "      <td>0</td>\n",
              "      <td>0</td>\n",
              "      <td>0</td>\n",
              "      <td>0</td>\n",
              "      <td>0</td>\n",
              "      <td>0</td>\n",
              "      <td>0</td>\n",
              "      <td>0</td>\n",
              "      <td>0</td>\n",
              "      <td>0</td>\n",
              "      <td>0</td>\n",
              "      <td>0</td>\n",
              "      <td>0</td>\n",
              "      <td>0</td>\n",
              "      <td>0</td>\n",
              "      <td>0</td>\n",
              "      <td>0</td>\n",
              "      <td>1</td>\n",
              "      <td>0</td>\n",
              "      <td>0</td>\n",
              "      <td>0</td>\n",
              "      <td>0</td>\n",
              "      <td>0</td>\n",
              "      <td>0</td>\n",
              "      <td>0</td>\n",
              "      <td>0</td>\n",
              "      <td>0</td>\n",
              "      <td>0</td>\n",
              "      <td>0</td>\n",
              "      <td>0</td>\n",
              "      <td>0</td>\n",
              "      <td>0</td>\n",
              "      <td>0</td>\n",
              "      <td>0</td>\n",
              "      <td>0</td>\n",
              "      <td>0</td>\n",
              "      <td>0</td>\n",
              "      <td>0</td>\n",
              "      <td>0</td>\n",
              "    </tr>\n",
              "    <tr>\n",
              "      <th>311</th>\n",
              "      <td>0</td>\n",
              "      <td>0</td>\n",
              "      <td>0</td>\n",
              "      <td>0</td>\n",
              "      <td>0</td>\n",
              "      <td>0</td>\n",
              "      <td>0</td>\n",
              "      <td>0</td>\n",
              "      <td>0</td>\n",
              "      <td>0</td>\n",
              "      <td>0</td>\n",
              "      <td>0</td>\n",
              "      <td>0</td>\n",
              "      <td>0</td>\n",
              "      <td>0</td>\n",
              "      <td>0</td>\n",
              "      <td>0</td>\n",
              "      <td>0</td>\n",
              "      <td>0</td>\n",
              "      <td>0</td>\n",
              "      <td>0</td>\n",
              "      <td>0</td>\n",
              "      <td>0</td>\n",
              "      <td>0</td>\n",
              "      <td>0</td>\n",
              "      <td>0</td>\n",
              "      <td>0</td>\n",
              "      <td>0</td>\n",
              "      <td>0</td>\n",
              "      <td>0</td>\n",
              "      <td>0</td>\n",
              "      <td>0</td>\n",
              "      <td>0</td>\n",
              "      <td>0</td>\n",
              "      <td>0</td>\n",
              "      <td>0</td>\n",
              "      <td>0</td>\n",
              "      <td>0</td>\n",
              "      <td>0</td>\n",
              "      <td>0</td>\n",
              "      <td>...</td>\n",
              "      <td>0</td>\n",
              "      <td>0</td>\n",
              "      <td>0</td>\n",
              "      <td>0</td>\n",
              "      <td>0</td>\n",
              "      <td>0</td>\n",
              "      <td>0</td>\n",
              "      <td>0</td>\n",
              "      <td>0</td>\n",
              "      <td>0</td>\n",
              "      <td>0</td>\n",
              "      <td>0</td>\n",
              "      <td>0</td>\n",
              "      <td>0</td>\n",
              "      <td>0</td>\n",
              "      <td>0</td>\n",
              "      <td>0</td>\n",
              "      <td>0</td>\n",
              "      <td>0</td>\n",
              "      <td>0</td>\n",
              "      <td>0</td>\n",
              "      <td>0</td>\n",
              "      <td>0</td>\n",
              "      <td>0</td>\n",
              "      <td>0</td>\n",
              "      <td>0</td>\n",
              "      <td>0</td>\n",
              "      <td>0</td>\n",
              "      <td>0</td>\n",
              "      <td>0</td>\n",
              "      <td>0</td>\n",
              "      <td>0</td>\n",
              "      <td>0</td>\n",
              "      <td>0</td>\n",
              "      <td>0</td>\n",
              "      <td>0</td>\n",
              "      <td>0</td>\n",
              "      <td>0</td>\n",
              "      <td>0</td>\n",
              "      <td>0</td>\n",
              "    </tr>\n",
              "    <tr>\n",
              "      <th>312</th>\n",
              "      <td>0</td>\n",
              "      <td>0</td>\n",
              "      <td>0</td>\n",
              "      <td>0</td>\n",
              "      <td>0</td>\n",
              "      <td>0</td>\n",
              "      <td>0</td>\n",
              "      <td>0</td>\n",
              "      <td>0</td>\n",
              "      <td>0</td>\n",
              "      <td>0</td>\n",
              "      <td>0</td>\n",
              "      <td>0</td>\n",
              "      <td>0</td>\n",
              "      <td>0</td>\n",
              "      <td>0</td>\n",
              "      <td>0</td>\n",
              "      <td>0</td>\n",
              "      <td>0</td>\n",
              "      <td>0</td>\n",
              "      <td>0</td>\n",
              "      <td>0</td>\n",
              "      <td>0</td>\n",
              "      <td>0</td>\n",
              "      <td>0</td>\n",
              "      <td>0</td>\n",
              "      <td>0</td>\n",
              "      <td>0</td>\n",
              "      <td>0</td>\n",
              "      <td>0</td>\n",
              "      <td>0</td>\n",
              "      <td>0</td>\n",
              "      <td>0</td>\n",
              "      <td>0</td>\n",
              "      <td>0</td>\n",
              "      <td>0</td>\n",
              "      <td>0</td>\n",
              "      <td>0</td>\n",
              "      <td>0</td>\n",
              "      <td>0</td>\n",
              "      <td>...</td>\n",
              "      <td>0</td>\n",
              "      <td>0</td>\n",
              "      <td>0</td>\n",
              "      <td>0</td>\n",
              "      <td>0</td>\n",
              "      <td>0</td>\n",
              "      <td>0</td>\n",
              "      <td>0</td>\n",
              "      <td>0</td>\n",
              "      <td>0</td>\n",
              "      <td>0</td>\n",
              "      <td>0</td>\n",
              "      <td>0</td>\n",
              "      <td>0</td>\n",
              "      <td>0</td>\n",
              "      <td>0</td>\n",
              "      <td>0</td>\n",
              "      <td>0</td>\n",
              "      <td>0</td>\n",
              "      <td>0</td>\n",
              "      <td>0</td>\n",
              "      <td>0</td>\n",
              "      <td>0</td>\n",
              "      <td>1</td>\n",
              "      <td>0</td>\n",
              "      <td>0</td>\n",
              "      <td>0</td>\n",
              "      <td>0</td>\n",
              "      <td>0</td>\n",
              "      <td>0</td>\n",
              "      <td>0</td>\n",
              "      <td>0</td>\n",
              "      <td>0</td>\n",
              "      <td>0</td>\n",
              "      <td>0</td>\n",
              "      <td>0</td>\n",
              "      <td>0</td>\n",
              "      <td>0</td>\n",
              "      <td>0</td>\n",
              "      <td>0</td>\n",
              "    </tr>\n",
              "    <tr>\n",
              "      <th>313</th>\n",
              "      <td>0</td>\n",
              "      <td>0</td>\n",
              "      <td>0</td>\n",
              "      <td>0</td>\n",
              "      <td>0</td>\n",
              "      <td>0</td>\n",
              "      <td>0</td>\n",
              "      <td>0</td>\n",
              "      <td>0</td>\n",
              "      <td>0</td>\n",
              "      <td>0</td>\n",
              "      <td>0</td>\n",
              "      <td>0</td>\n",
              "      <td>0</td>\n",
              "      <td>0</td>\n",
              "      <td>0</td>\n",
              "      <td>0</td>\n",
              "      <td>0</td>\n",
              "      <td>0</td>\n",
              "      <td>0</td>\n",
              "      <td>0</td>\n",
              "      <td>0</td>\n",
              "      <td>0</td>\n",
              "      <td>0</td>\n",
              "      <td>1</td>\n",
              "      <td>0</td>\n",
              "      <td>0</td>\n",
              "      <td>0</td>\n",
              "      <td>0</td>\n",
              "      <td>0</td>\n",
              "      <td>0</td>\n",
              "      <td>0</td>\n",
              "      <td>0</td>\n",
              "      <td>0</td>\n",
              "      <td>0</td>\n",
              "      <td>0</td>\n",
              "      <td>0</td>\n",
              "      <td>0</td>\n",
              "      <td>0</td>\n",
              "      <td>0</td>\n",
              "      <td>...</td>\n",
              "      <td>0</td>\n",
              "      <td>0</td>\n",
              "      <td>0</td>\n",
              "      <td>0</td>\n",
              "      <td>0</td>\n",
              "      <td>0</td>\n",
              "      <td>0</td>\n",
              "      <td>0</td>\n",
              "      <td>0</td>\n",
              "      <td>0</td>\n",
              "      <td>0</td>\n",
              "      <td>0</td>\n",
              "      <td>0</td>\n",
              "      <td>0</td>\n",
              "      <td>0</td>\n",
              "      <td>0</td>\n",
              "      <td>0</td>\n",
              "      <td>0</td>\n",
              "      <td>0</td>\n",
              "      <td>0</td>\n",
              "      <td>0</td>\n",
              "      <td>0</td>\n",
              "      <td>0</td>\n",
              "      <td>0</td>\n",
              "      <td>0</td>\n",
              "      <td>0</td>\n",
              "      <td>0</td>\n",
              "      <td>0</td>\n",
              "      <td>0</td>\n",
              "      <td>0</td>\n",
              "      <td>0</td>\n",
              "      <td>0</td>\n",
              "      <td>0</td>\n",
              "      <td>0</td>\n",
              "      <td>0</td>\n",
              "      <td>0</td>\n",
              "      <td>0</td>\n",
              "      <td>0</td>\n",
              "      <td>0</td>\n",
              "      <td>0</td>\n",
              "    </tr>\n",
              "    <tr>\n",
              "      <th>314</th>\n",
              "      <td>0</td>\n",
              "      <td>0</td>\n",
              "      <td>0</td>\n",
              "      <td>0</td>\n",
              "      <td>0</td>\n",
              "      <td>0</td>\n",
              "      <td>0</td>\n",
              "      <td>0</td>\n",
              "      <td>0</td>\n",
              "      <td>0</td>\n",
              "      <td>0</td>\n",
              "      <td>0</td>\n",
              "      <td>0</td>\n",
              "      <td>0</td>\n",
              "      <td>0</td>\n",
              "      <td>0</td>\n",
              "      <td>0</td>\n",
              "      <td>0</td>\n",
              "      <td>0</td>\n",
              "      <td>0</td>\n",
              "      <td>0</td>\n",
              "      <td>0</td>\n",
              "      <td>0</td>\n",
              "      <td>0</td>\n",
              "      <td>0</td>\n",
              "      <td>0</td>\n",
              "      <td>0</td>\n",
              "      <td>0</td>\n",
              "      <td>0</td>\n",
              "      <td>0</td>\n",
              "      <td>0</td>\n",
              "      <td>0</td>\n",
              "      <td>0</td>\n",
              "      <td>0</td>\n",
              "      <td>0</td>\n",
              "      <td>0</td>\n",
              "      <td>0</td>\n",
              "      <td>0</td>\n",
              "      <td>0</td>\n",
              "      <td>0</td>\n",
              "      <td>...</td>\n",
              "      <td>0</td>\n",
              "      <td>0</td>\n",
              "      <td>0</td>\n",
              "      <td>0</td>\n",
              "      <td>0</td>\n",
              "      <td>0</td>\n",
              "      <td>0</td>\n",
              "      <td>0</td>\n",
              "      <td>0</td>\n",
              "      <td>0</td>\n",
              "      <td>0</td>\n",
              "      <td>0</td>\n",
              "      <td>0</td>\n",
              "      <td>0</td>\n",
              "      <td>0</td>\n",
              "      <td>0</td>\n",
              "      <td>0</td>\n",
              "      <td>0</td>\n",
              "      <td>0</td>\n",
              "      <td>1</td>\n",
              "      <td>0</td>\n",
              "      <td>0</td>\n",
              "      <td>0</td>\n",
              "      <td>0</td>\n",
              "      <td>0</td>\n",
              "      <td>0</td>\n",
              "      <td>0</td>\n",
              "      <td>0</td>\n",
              "      <td>0</td>\n",
              "      <td>0</td>\n",
              "      <td>0</td>\n",
              "      <td>0</td>\n",
              "      <td>0</td>\n",
              "      <td>0</td>\n",
              "      <td>0</td>\n",
              "      <td>0</td>\n",
              "      <td>0</td>\n",
              "      <td>0</td>\n",
              "      <td>0</td>\n",
              "      <td>0</td>\n",
              "    </tr>\n",
              "  </tbody>\n",
              "</table>\n",
              "<p>315 rows × 237 columns</p>\n",
              "</div>"
            ],
            "text/plain": [
              "     0    1    2    3    4    5    6    ...  230  231  232  233  234  235  236\n",
              "0      0    0    0    0    0    0    0  ...    0    0    0    0    0    0    0\n",
              "1      0    0    0    0    0    0    0  ...    0    0    0    0    0    0    0\n",
              "2      0    0    0    0    0    0    0  ...    0    0    0    0    0    0    0\n",
              "3      0    0    0    0    0    0    0  ...    0    0    0    0    0    0    0\n",
              "4      0    0    0    0    0    0    0  ...    0    0    0    1    0    0    0\n",
              "..   ...  ...  ...  ...  ...  ...  ...  ...  ...  ...  ...  ...  ...  ...  ...\n",
              "310    0    0    0    0    0    0    0  ...    0    0    0    0    0    0    0\n",
              "311    0    0    0    0    0    0    0  ...    0    0    0    0    0    0    0\n",
              "312    0    0    0    0    0    0    0  ...    0    0    0    0    0    0    0\n",
              "313    0    0    0    0    0    0    0  ...    0    0    0    0    0    0    0\n",
              "314    0    0    0    0    0    0    0  ...    0    0    0    0    0    0    0\n",
              "\n",
              "[315 rows x 237 columns]"
            ]
          },
          "metadata": {
            "tags": []
          },
          "execution_count": 52
        }
      ]
    },
    {
      "cell_type": "code",
      "metadata": {
        "id": "XLXZEKGvm8Ed",
        "colab_type": "code",
        "outputId": "8abed74c-e50c-4219-9c8d-b8532f3bfdda",
        "colab": {
          "base_uri": "https://localhost:8080/",
          "height": 422
        }
      },
      "source": [
        "#Term Frequency-Inverse Document Frequency (TF-IDF)\n",
        "from sklearn.feature_extraction.text import TfidfVectorizer\n",
        "\n",
        "tfidf=TfidfVectorizer(max_df=0.90, min_df=2,max_features=1000,stop_words='english')\n",
        "\n",
        "tfidf_matrix=tfidf.fit_transform(df['sentences'])\n",
        "\n",
        "df_tfidf = pd.DataFrame(tfidf_matrix.todense())\n",
        "\n",
        "df_tfidf"
      ],
      "execution_count": 53,
      "outputs": [
        {
          "output_type": "execute_result",
          "data": {
            "text/html": [
              "<div>\n",
              "<style scoped>\n",
              "    .dataframe tbody tr th:only-of-type {\n",
              "        vertical-align: middle;\n",
              "    }\n",
              "\n",
              "    .dataframe tbody tr th {\n",
              "        vertical-align: top;\n",
              "    }\n",
              "\n",
              "    .dataframe thead th {\n",
              "        text-align: right;\n",
              "    }\n",
              "</style>\n",
              "<table border=\"1\" class=\"dataframe\">\n",
              "  <thead>\n",
              "    <tr style=\"text-align: right;\">\n",
              "      <th></th>\n",
              "      <th>0</th>\n",
              "      <th>1</th>\n",
              "      <th>2</th>\n",
              "      <th>3</th>\n",
              "      <th>4</th>\n",
              "      <th>5</th>\n",
              "      <th>6</th>\n",
              "      <th>7</th>\n",
              "      <th>8</th>\n",
              "      <th>9</th>\n",
              "      <th>10</th>\n",
              "      <th>11</th>\n",
              "      <th>12</th>\n",
              "      <th>13</th>\n",
              "      <th>14</th>\n",
              "      <th>15</th>\n",
              "      <th>16</th>\n",
              "      <th>17</th>\n",
              "      <th>18</th>\n",
              "      <th>19</th>\n",
              "      <th>20</th>\n",
              "      <th>21</th>\n",
              "      <th>22</th>\n",
              "      <th>23</th>\n",
              "      <th>24</th>\n",
              "      <th>25</th>\n",
              "      <th>26</th>\n",
              "      <th>27</th>\n",
              "      <th>28</th>\n",
              "      <th>29</th>\n",
              "      <th>30</th>\n",
              "      <th>31</th>\n",
              "      <th>32</th>\n",
              "      <th>33</th>\n",
              "      <th>34</th>\n",
              "      <th>35</th>\n",
              "      <th>36</th>\n",
              "      <th>37</th>\n",
              "      <th>38</th>\n",
              "      <th>39</th>\n",
              "      <th>...</th>\n",
              "      <th>197</th>\n",
              "      <th>198</th>\n",
              "      <th>199</th>\n",
              "      <th>200</th>\n",
              "      <th>201</th>\n",
              "      <th>202</th>\n",
              "      <th>203</th>\n",
              "      <th>204</th>\n",
              "      <th>205</th>\n",
              "      <th>206</th>\n",
              "      <th>207</th>\n",
              "      <th>208</th>\n",
              "      <th>209</th>\n",
              "      <th>210</th>\n",
              "      <th>211</th>\n",
              "      <th>212</th>\n",
              "      <th>213</th>\n",
              "      <th>214</th>\n",
              "      <th>215</th>\n",
              "      <th>216</th>\n",
              "      <th>217</th>\n",
              "      <th>218</th>\n",
              "      <th>219</th>\n",
              "      <th>220</th>\n",
              "      <th>221</th>\n",
              "      <th>222</th>\n",
              "      <th>223</th>\n",
              "      <th>224</th>\n",
              "      <th>225</th>\n",
              "      <th>226</th>\n",
              "      <th>227</th>\n",
              "      <th>228</th>\n",
              "      <th>229</th>\n",
              "      <th>230</th>\n",
              "      <th>231</th>\n",
              "      <th>232</th>\n",
              "      <th>233</th>\n",
              "      <th>234</th>\n",
              "      <th>235</th>\n",
              "      <th>236</th>\n",
              "    </tr>\n",
              "  </thead>\n",
              "  <tbody>\n",
              "    <tr>\n",
              "      <th>0</th>\n",
              "      <td>0.0</td>\n",
              "      <td>0.0</td>\n",
              "      <td>0.0</td>\n",
              "      <td>0.0</td>\n",
              "      <td>0.0</td>\n",
              "      <td>0.0</td>\n",
              "      <td>0.0</td>\n",
              "      <td>0.0</td>\n",
              "      <td>0.0</td>\n",
              "      <td>0.0</td>\n",
              "      <td>0.0</td>\n",
              "      <td>0.0</td>\n",
              "      <td>0.0</td>\n",
              "      <td>0.0</td>\n",
              "      <td>0.0</td>\n",
              "      <td>0.0</td>\n",
              "      <td>0.0</td>\n",
              "      <td>0.0</td>\n",
              "      <td>0.0</td>\n",
              "      <td>0.0</td>\n",
              "      <td>0.0</td>\n",
              "      <td>0.0</td>\n",
              "      <td>0.0</td>\n",
              "      <td>0.0</td>\n",
              "      <td>0.000000</td>\n",
              "      <td>0.0</td>\n",
              "      <td>0.0</td>\n",
              "      <td>0.0</td>\n",
              "      <td>0.0</td>\n",
              "      <td>0.0</td>\n",
              "      <td>0.0</td>\n",
              "      <td>0.0</td>\n",
              "      <td>0.0</td>\n",
              "      <td>0.0</td>\n",
              "      <td>0.000000</td>\n",
              "      <td>0.0</td>\n",
              "      <td>0.0</td>\n",
              "      <td>0.0</td>\n",
              "      <td>0.0</td>\n",
              "      <td>0.0</td>\n",
              "      <td>...</td>\n",
              "      <td>0.0</td>\n",
              "      <td>0.0</td>\n",
              "      <td>0.0</td>\n",
              "      <td>0.0</td>\n",
              "      <td>0.0</td>\n",
              "      <td>0.0</td>\n",
              "      <td>0.0</td>\n",
              "      <td>0.0</td>\n",
              "      <td>0.0</td>\n",
              "      <td>0.0</td>\n",
              "      <td>0.0</td>\n",
              "      <td>0.0</td>\n",
              "      <td>0.0</td>\n",
              "      <td>0.0</td>\n",
              "      <td>0.0</td>\n",
              "      <td>0.0</td>\n",
              "      <td>0.0</td>\n",
              "      <td>0.0</td>\n",
              "      <td>0.000000</td>\n",
              "      <td>0.000000</td>\n",
              "      <td>0.0</td>\n",
              "      <td>0.0</td>\n",
              "      <td>0.000000</td>\n",
              "      <td>0.000000</td>\n",
              "      <td>0.0</td>\n",
              "      <td>0.0</td>\n",
              "      <td>0.0</td>\n",
              "      <td>0.0</td>\n",
              "      <td>0.0</td>\n",
              "      <td>0.0</td>\n",
              "      <td>0.0</td>\n",
              "      <td>0.0</td>\n",
              "      <td>0.0</td>\n",
              "      <td>0.0</td>\n",
              "      <td>0.0</td>\n",
              "      <td>0.0</td>\n",
              "      <td>0.000000</td>\n",
              "      <td>0.0</td>\n",
              "      <td>0.0</td>\n",
              "      <td>0.0</td>\n",
              "    </tr>\n",
              "    <tr>\n",
              "      <th>1</th>\n",
              "      <td>0.0</td>\n",
              "      <td>0.0</td>\n",
              "      <td>0.0</td>\n",
              "      <td>0.0</td>\n",
              "      <td>0.0</td>\n",
              "      <td>0.0</td>\n",
              "      <td>0.0</td>\n",
              "      <td>0.0</td>\n",
              "      <td>0.0</td>\n",
              "      <td>0.0</td>\n",
              "      <td>0.0</td>\n",
              "      <td>0.0</td>\n",
              "      <td>0.0</td>\n",
              "      <td>0.0</td>\n",
              "      <td>0.0</td>\n",
              "      <td>0.0</td>\n",
              "      <td>0.0</td>\n",
              "      <td>0.0</td>\n",
              "      <td>0.0</td>\n",
              "      <td>0.0</td>\n",
              "      <td>0.0</td>\n",
              "      <td>0.0</td>\n",
              "      <td>0.0</td>\n",
              "      <td>0.0</td>\n",
              "      <td>0.316126</td>\n",
              "      <td>0.0</td>\n",
              "      <td>0.0</td>\n",
              "      <td>0.0</td>\n",
              "      <td>0.0</td>\n",
              "      <td>0.0</td>\n",
              "      <td>0.0</td>\n",
              "      <td>0.0</td>\n",
              "      <td>0.0</td>\n",
              "      <td>0.0</td>\n",
              "      <td>0.000000</td>\n",
              "      <td>0.0</td>\n",
              "      <td>0.0</td>\n",
              "      <td>0.0</td>\n",
              "      <td>0.0</td>\n",
              "      <td>0.0</td>\n",
              "      <td>...</td>\n",
              "      <td>0.0</td>\n",
              "      <td>0.0</td>\n",
              "      <td>0.0</td>\n",
              "      <td>0.0</td>\n",
              "      <td>0.0</td>\n",
              "      <td>0.0</td>\n",
              "      <td>0.0</td>\n",
              "      <td>0.0</td>\n",
              "      <td>0.0</td>\n",
              "      <td>0.0</td>\n",
              "      <td>0.0</td>\n",
              "      <td>0.0</td>\n",
              "      <td>0.0</td>\n",
              "      <td>0.0</td>\n",
              "      <td>0.0</td>\n",
              "      <td>0.0</td>\n",
              "      <td>0.0</td>\n",
              "      <td>0.0</td>\n",
              "      <td>0.000000</td>\n",
              "      <td>0.000000</td>\n",
              "      <td>0.0</td>\n",
              "      <td>0.0</td>\n",
              "      <td>0.402487</td>\n",
              "      <td>0.000000</td>\n",
              "      <td>0.0</td>\n",
              "      <td>0.0</td>\n",
              "      <td>0.0</td>\n",
              "      <td>0.0</td>\n",
              "      <td>0.0</td>\n",
              "      <td>0.0</td>\n",
              "      <td>0.0</td>\n",
              "      <td>0.0</td>\n",
              "      <td>0.0</td>\n",
              "      <td>0.0</td>\n",
              "      <td>0.0</td>\n",
              "      <td>0.0</td>\n",
              "      <td>0.000000</td>\n",
              "      <td>0.0</td>\n",
              "      <td>0.0</td>\n",
              "      <td>0.0</td>\n",
              "    </tr>\n",
              "    <tr>\n",
              "      <th>2</th>\n",
              "      <td>0.0</td>\n",
              "      <td>0.0</td>\n",
              "      <td>0.0</td>\n",
              "      <td>0.0</td>\n",
              "      <td>0.0</td>\n",
              "      <td>0.0</td>\n",
              "      <td>0.0</td>\n",
              "      <td>0.0</td>\n",
              "      <td>0.0</td>\n",
              "      <td>0.0</td>\n",
              "      <td>0.0</td>\n",
              "      <td>0.0</td>\n",
              "      <td>0.0</td>\n",
              "      <td>0.0</td>\n",
              "      <td>0.0</td>\n",
              "      <td>0.0</td>\n",
              "      <td>0.0</td>\n",
              "      <td>0.0</td>\n",
              "      <td>0.0</td>\n",
              "      <td>0.0</td>\n",
              "      <td>0.0</td>\n",
              "      <td>0.0</td>\n",
              "      <td>0.0</td>\n",
              "      <td>0.0</td>\n",
              "      <td>0.000000</td>\n",
              "      <td>0.0</td>\n",
              "      <td>0.0</td>\n",
              "      <td>0.0</td>\n",
              "      <td>0.0</td>\n",
              "      <td>0.0</td>\n",
              "      <td>0.0</td>\n",
              "      <td>0.0</td>\n",
              "      <td>0.0</td>\n",
              "      <td>0.0</td>\n",
              "      <td>0.000000</td>\n",
              "      <td>0.0</td>\n",
              "      <td>0.0</td>\n",
              "      <td>0.0</td>\n",
              "      <td>0.0</td>\n",
              "      <td>0.0</td>\n",
              "      <td>...</td>\n",
              "      <td>0.0</td>\n",
              "      <td>0.0</td>\n",
              "      <td>0.0</td>\n",
              "      <td>0.0</td>\n",
              "      <td>0.0</td>\n",
              "      <td>0.0</td>\n",
              "      <td>0.0</td>\n",
              "      <td>0.0</td>\n",
              "      <td>0.0</td>\n",
              "      <td>0.0</td>\n",
              "      <td>0.0</td>\n",
              "      <td>0.0</td>\n",
              "      <td>0.0</td>\n",
              "      <td>0.0</td>\n",
              "      <td>0.0</td>\n",
              "      <td>0.0</td>\n",
              "      <td>0.0</td>\n",
              "      <td>0.0</td>\n",
              "      <td>0.000000</td>\n",
              "      <td>0.000000</td>\n",
              "      <td>0.0</td>\n",
              "      <td>0.0</td>\n",
              "      <td>0.000000</td>\n",
              "      <td>0.000000</td>\n",
              "      <td>0.0</td>\n",
              "      <td>0.0</td>\n",
              "      <td>0.0</td>\n",
              "      <td>0.0</td>\n",
              "      <td>0.0</td>\n",
              "      <td>0.0</td>\n",
              "      <td>0.0</td>\n",
              "      <td>0.0</td>\n",
              "      <td>0.0</td>\n",
              "      <td>0.0</td>\n",
              "      <td>0.0</td>\n",
              "      <td>0.0</td>\n",
              "      <td>0.000000</td>\n",
              "      <td>0.0</td>\n",
              "      <td>0.0</td>\n",
              "      <td>0.0</td>\n",
              "    </tr>\n",
              "    <tr>\n",
              "      <th>3</th>\n",
              "      <td>0.0</td>\n",
              "      <td>0.0</td>\n",
              "      <td>0.0</td>\n",
              "      <td>0.0</td>\n",
              "      <td>0.0</td>\n",
              "      <td>0.0</td>\n",
              "      <td>0.0</td>\n",
              "      <td>0.0</td>\n",
              "      <td>0.0</td>\n",
              "      <td>0.0</td>\n",
              "      <td>0.0</td>\n",
              "      <td>0.0</td>\n",
              "      <td>0.0</td>\n",
              "      <td>0.0</td>\n",
              "      <td>0.0</td>\n",
              "      <td>0.0</td>\n",
              "      <td>0.0</td>\n",
              "      <td>0.0</td>\n",
              "      <td>0.0</td>\n",
              "      <td>0.0</td>\n",
              "      <td>0.0</td>\n",
              "      <td>0.0</td>\n",
              "      <td>0.0</td>\n",
              "      <td>0.0</td>\n",
              "      <td>0.000000</td>\n",
              "      <td>0.0</td>\n",
              "      <td>0.0</td>\n",
              "      <td>0.0</td>\n",
              "      <td>0.0</td>\n",
              "      <td>0.0</td>\n",
              "      <td>0.0</td>\n",
              "      <td>0.0</td>\n",
              "      <td>0.0</td>\n",
              "      <td>0.0</td>\n",
              "      <td>0.485817</td>\n",
              "      <td>0.0</td>\n",
              "      <td>0.0</td>\n",
              "      <td>0.0</td>\n",
              "      <td>0.0</td>\n",
              "      <td>0.0</td>\n",
              "      <td>...</td>\n",
              "      <td>0.0</td>\n",
              "      <td>0.0</td>\n",
              "      <td>0.0</td>\n",
              "      <td>0.0</td>\n",
              "      <td>0.0</td>\n",
              "      <td>0.0</td>\n",
              "      <td>0.0</td>\n",
              "      <td>0.0</td>\n",
              "      <td>0.0</td>\n",
              "      <td>0.0</td>\n",
              "      <td>0.0</td>\n",
              "      <td>0.0</td>\n",
              "      <td>0.0</td>\n",
              "      <td>0.0</td>\n",
              "      <td>0.0</td>\n",
              "      <td>0.0</td>\n",
              "      <td>0.0</td>\n",
              "      <td>0.0</td>\n",
              "      <td>0.000000</td>\n",
              "      <td>0.000000</td>\n",
              "      <td>0.0</td>\n",
              "      <td>0.0</td>\n",
              "      <td>0.000000</td>\n",
              "      <td>0.000000</td>\n",
              "      <td>0.0</td>\n",
              "      <td>0.0</td>\n",
              "      <td>0.0</td>\n",
              "      <td>0.0</td>\n",
              "      <td>0.0</td>\n",
              "      <td>0.0</td>\n",
              "      <td>0.0</td>\n",
              "      <td>0.0</td>\n",
              "      <td>0.0</td>\n",
              "      <td>0.0</td>\n",
              "      <td>0.0</td>\n",
              "      <td>0.0</td>\n",
              "      <td>0.000000</td>\n",
              "      <td>0.0</td>\n",
              "      <td>0.0</td>\n",
              "      <td>0.0</td>\n",
              "    </tr>\n",
              "    <tr>\n",
              "      <th>4</th>\n",
              "      <td>0.0</td>\n",
              "      <td>0.0</td>\n",
              "      <td>0.0</td>\n",
              "      <td>0.0</td>\n",
              "      <td>0.0</td>\n",
              "      <td>0.0</td>\n",
              "      <td>0.0</td>\n",
              "      <td>0.0</td>\n",
              "      <td>0.0</td>\n",
              "      <td>0.0</td>\n",
              "      <td>0.0</td>\n",
              "      <td>0.0</td>\n",
              "      <td>0.0</td>\n",
              "      <td>0.0</td>\n",
              "      <td>0.0</td>\n",
              "      <td>0.0</td>\n",
              "      <td>0.0</td>\n",
              "      <td>0.0</td>\n",
              "      <td>0.0</td>\n",
              "      <td>0.0</td>\n",
              "      <td>0.0</td>\n",
              "      <td>0.0</td>\n",
              "      <td>0.0</td>\n",
              "      <td>0.0</td>\n",
              "      <td>0.000000</td>\n",
              "      <td>0.0</td>\n",
              "      <td>0.0</td>\n",
              "      <td>0.0</td>\n",
              "      <td>0.0</td>\n",
              "      <td>0.0</td>\n",
              "      <td>0.0</td>\n",
              "      <td>0.0</td>\n",
              "      <td>0.0</td>\n",
              "      <td>0.0</td>\n",
              "      <td>0.000000</td>\n",
              "      <td>0.0</td>\n",
              "      <td>0.0</td>\n",
              "      <td>0.0</td>\n",
              "      <td>0.0</td>\n",
              "      <td>0.0</td>\n",
              "      <td>...</td>\n",
              "      <td>0.0</td>\n",
              "      <td>0.0</td>\n",
              "      <td>0.0</td>\n",
              "      <td>0.0</td>\n",
              "      <td>0.0</td>\n",
              "      <td>0.0</td>\n",
              "      <td>0.0</td>\n",
              "      <td>0.0</td>\n",
              "      <td>0.0</td>\n",
              "      <td>0.0</td>\n",
              "      <td>0.0</td>\n",
              "      <td>0.0</td>\n",
              "      <td>0.0</td>\n",
              "      <td>0.0</td>\n",
              "      <td>0.0</td>\n",
              "      <td>0.0</td>\n",
              "      <td>0.0</td>\n",
              "      <td>0.0</td>\n",
              "      <td>0.000000</td>\n",
              "      <td>0.000000</td>\n",
              "      <td>0.0</td>\n",
              "      <td>0.0</td>\n",
              "      <td>0.000000</td>\n",
              "      <td>0.000000</td>\n",
              "      <td>0.0</td>\n",
              "      <td>0.0</td>\n",
              "      <td>0.0</td>\n",
              "      <td>0.0</td>\n",
              "      <td>0.0</td>\n",
              "      <td>0.0</td>\n",
              "      <td>0.0</td>\n",
              "      <td>0.0</td>\n",
              "      <td>0.0</td>\n",
              "      <td>0.0</td>\n",
              "      <td>0.0</td>\n",
              "      <td>0.0</td>\n",
              "      <td>0.335925</td>\n",
              "      <td>0.0</td>\n",
              "      <td>0.0</td>\n",
              "      <td>0.0</td>\n",
              "    </tr>\n",
              "    <tr>\n",
              "      <th>...</th>\n",
              "      <td>...</td>\n",
              "      <td>...</td>\n",
              "      <td>...</td>\n",
              "      <td>...</td>\n",
              "      <td>...</td>\n",
              "      <td>...</td>\n",
              "      <td>...</td>\n",
              "      <td>...</td>\n",
              "      <td>...</td>\n",
              "      <td>...</td>\n",
              "      <td>...</td>\n",
              "      <td>...</td>\n",
              "      <td>...</td>\n",
              "      <td>...</td>\n",
              "      <td>...</td>\n",
              "      <td>...</td>\n",
              "      <td>...</td>\n",
              "      <td>...</td>\n",
              "      <td>...</td>\n",
              "      <td>...</td>\n",
              "      <td>...</td>\n",
              "      <td>...</td>\n",
              "      <td>...</td>\n",
              "      <td>...</td>\n",
              "      <td>...</td>\n",
              "      <td>...</td>\n",
              "      <td>...</td>\n",
              "      <td>...</td>\n",
              "      <td>...</td>\n",
              "      <td>...</td>\n",
              "      <td>...</td>\n",
              "      <td>...</td>\n",
              "      <td>...</td>\n",
              "      <td>...</td>\n",
              "      <td>...</td>\n",
              "      <td>...</td>\n",
              "      <td>...</td>\n",
              "      <td>...</td>\n",
              "      <td>...</td>\n",
              "      <td>...</td>\n",
              "      <td>...</td>\n",
              "      <td>...</td>\n",
              "      <td>...</td>\n",
              "      <td>...</td>\n",
              "      <td>...</td>\n",
              "      <td>...</td>\n",
              "      <td>...</td>\n",
              "      <td>...</td>\n",
              "      <td>...</td>\n",
              "      <td>...</td>\n",
              "      <td>...</td>\n",
              "      <td>...</td>\n",
              "      <td>...</td>\n",
              "      <td>...</td>\n",
              "      <td>...</td>\n",
              "      <td>...</td>\n",
              "      <td>...</td>\n",
              "      <td>...</td>\n",
              "      <td>...</td>\n",
              "      <td>...</td>\n",
              "      <td>...</td>\n",
              "      <td>...</td>\n",
              "      <td>...</td>\n",
              "      <td>...</td>\n",
              "      <td>...</td>\n",
              "      <td>...</td>\n",
              "      <td>...</td>\n",
              "      <td>...</td>\n",
              "      <td>...</td>\n",
              "      <td>...</td>\n",
              "      <td>...</td>\n",
              "      <td>...</td>\n",
              "      <td>...</td>\n",
              "      <td>...</td>\n",
              "      <td>...</td>\n",
              "      <td>...</td>\n",
              "      <td>...</td>\n",
              "      <td>...</td>\n",
              "      <td>...</td>\n",
              "      <td>...</td>\n",
              "      <td>...</td>\n",
              "    </tr>\n",
              "    <tr>\n",
              "      <th>310</th>\n",
              "      <td>0.0</td>\n",
              "      <td>0.0</td>\n",
              "      <td>0.0</td>\n",
              "      <td>0.0</td>\n",
              "      <td>0.0</td>\n",
              "      <td>0.0</td>\n",
              "      <td>0.0</td>\n",
              "      <td>0.0</td>\n",
              "      <td>0.0</td>\n",
              "      <td>0.0</td>\n",
              "      <td>0.0</td>\n",
              "      <td>0.0</td>\n",
              "      <td>0.0</td>\n",
              "      <td>0.0</td>\n",
              "      <td>0.0</td>\n",
              "      <td>0.0</td>\n",
              "      <td>0.0</td>\n",
              "      <td>0.0</td>\n",
              "      <td>0.0</td>\n",
              "      <td>0.0</td>\n",
              "      <td>0.0</td>\n",
              "      <td>0.0</td>\n",
              "      <td>0.0</td>\n",
              "      <td>0.0</td>\n",
              "      <td>0.000000</td>\n",
              "      <td>0.0</td>\n",
              "      <td>0.0</td>\n",
              "      <td>0.0</td>\n",
              "      <td>0.0</td>\n",
              "      <td>0.0</td>\n",
              "      <td>0.0</td>\n",
              "      <td>0.0</td>\n",
              "      <td>0.0</td>\n",
              "      <td>0.0</td>\n",
              "      <td>0.000000</td>\n",
              "      <td>0.0</td>\n",
              "      <td>0.0</td>\n",
              "      <td>0.0</td>\n",
              "      <td>0.0</td>\n",
              "      <td>0.0</td>\n",
              "      <td>...</td>\n",
              "      <td>0.0</td>\n",
              "      <td>0.0</td>\n",
              "      <td>0.0</td>\n",
              "      <td>0.0</td>\n",
              "      <td>0.0</td>\n",
              "      <td>0.0</td>\n",
              "      <td>0.0</td>\n",
              "      <td>0.0</td>\n",
              "      <td>0.0</td>\n",
              "      <td>0.0</td>\n",
              "      <td>0.0</td>\n",
              "      <td>0.0</td>\n",
              "      <td>0.0</td>\n",
              "      <td>0.0</td>\n",
              "      <td>0.0</td>\n",
              "      <td>0.0</td>\n",
              "      <td>0.0</td>\n",
              "      <td>0.0</td>\n",
              "      <td>0.570952</td>\n",
              "      <td>0.000000</td>\n",
              "      <td>0.0</td>\n",
              "      <td>0.0</td>\n",
              "      <td>0.000000</td>\n",
              "      <td>0.000000</td>\n",
              "      <td>0.0</td>\n",
              "      <td>0.0</td>\n",
              "      <td>0.0</td>\n",
              "      <td>0.0</td>\n",
              "      <td>0.0</td>\n",
              "      <td>0.0</td>\n",
              "      <td>0.0</td>\n",
              "      <td>0.0</td>\n",
              "      <td>0.0</td>\n",
              "      <td>0.0</td>\n",
              "      <td>0.0</td>\n",
              "      <td>0.0</td>\n",
              "      <td>0.000000</td>\n",
              "      <td>0.0</td>\n",
              "      <td>0.0</td>\n",
              "      <td>0.0</td>\n",
              "    </tr>\n",
              "    <tr>\n",
              "      <th>311</th>\n",
              "      <td>0.0</td>\n",
              "      <td>0.0</td>\n",
              "      <td>0.0</td>\n",
              "      <td>0.0</td>\n",
              "      <td>0.0</td>\n",
              "      <td>0.0</td>\n",
              "      <td>0.0</td>\n",
              "      <td>0.0</td>\n",
              "      <td>0.0</td>\n",
              "      <td>0.0</td>\n",
              "      <td>0.0</td>\n",
              "      <td>0.0</td>\n",
              "      <td>0.0</td>\n",
              "      <td>0.0</td>\n",
              "      <td>0.0</td>\n",
              "      <td>0.0</td>\n",
              "      <td>0.0</td>\n",
              "      <td>0.0</td>\n",
              "      <td>0.0</td>\n",
              "      <td>0.0</td>\n",
              "      <td>0.0</td>\n",
              "      <td>0.0</td>\n",
              "      <td>0.0</td>\n",
              "      <td>0.0</td>\n",
              "      <td>0.000000</td>\n",
              "      <td>0.0</td>\n",
              "      <td>0.0</td>\n",
              "      <td>0.0</td>\n",
              "      <td>0.0</td>\n",
              "      <td>0.0</td>\n",
              "      <td>0.0</td>\n",
              "      <td>0.0</td>\n",
              "      <td>0.0</td>\n",
              "      <td>0.0</td>\n",
              "      <td>0.000000</td>\n",
              "      <td>0.0</td>\n",
              "      <td>0.0</td>\n",
              "      <td>0.0</td>\n",
              "      <td>0.0</td>\n",
              "      <td>0.0</td>\n",
              "      <td>...</td>\n",
              "      <td>0.0</td>\n",
              "      <td>0.0</td>\n",
              "      <td>0.0</td>\n",
              "      <td>0.0</td>\n",
              "      <td>0.0</td>\n",
              "      <td>0.0</td>\n",
              "      <td>0.0</td>\n",
              "      <td>0.0</td>\n",
              "      <td>0.0</td>\n",
              "      <td>0.0</td>\n",
              "      <td>0.0</td>\n",
              "      <td>0.0</td>\n",
              "      <td>0.0</td>\n",
              "      <td>0.0</td>\n",
              "      <td>0.0</td>\n",
              "      <td>0.0</td>\n",
              "      <td>0.0</td>\n",
              "      <td>0.0</td>\n",
              "      <td>0.000000</td>\n",
              "      <td>0.000000</td>\n",
              "      <td>0.0</td>\n",
              "      <td>0.0</td>\n",
              "      <td>0.000000</td>\n",
              "      <td>0.000000</td>\n",
              "      <td>0.0</td>\n",
              "      <td>0.0</td>\n",
              "      <td>0.0</td>\n",
              "      <td>0.0</td>\n",
              "      <td>0.0</td>\n",
              "      <td>0.0</td>\n",
              "      <td>0.0</td>\n",
              "      <td>0.0</td>\n",
              "      <td>0.0</td>\n",
              "      <td>0.0</td>\n",
              "      <td>0.0</td>\n",
              "      <td>0.0</td>\n",
              "      <td>0.000000</td>\n",
              "      <td>0.0</td>\n",
              "      <td>0.0</td>\n",
              "      <td>0.0</td>\n",
              "    </tr>\n",
              "    <tr>\n",
              "      <th>312</th>\n",
              "      <td>0.0</td>\n",
              "      <td>0.0</td>\n",
              "      <td>0.0</td>\n",
              "      <td>0.0</td>\n",
              "      <td>0.0</td>\n",
              "      <td>0.0</td>\n",
              "      <td>0.0</td>\n",
              "      <td>0.0</td>\n",
              "      <td>0.0</td>\n",
              "      <td>0.0</td>\n",
              "      <td>0.0</td>\n",
              "      <td>0.0</td>\n",
              "      <td>0.0</td>\n",
              "      <td>0.0</td>\n",
              "      <td>0.0</td>\n",
              "      <td>0.0</td>\n",
              "      <td>0.0</td>\n",
              "      <td>0.0</td>\n",
              "      <td>0.0</td>\n",
              "      <td>0.0</td>\n",
              "      <td>0.0</td>\n",
              "      <td>0.0</td>\n",
              "      <td>0.0</td>\n",
              "      <td>0.0</td>\n",
              "      <td>0.000000</td>\n",
              "      <td>0.0</td>\n",
              "      <td>0.0</td>\n",
              "      <td>0.0</td>\n",
              "      <td>0.0</td>\n",
              "      <td>0.0</td>\n",
              "      <td>0.0</td>\n",
              "      <td>0.0</td>\n",
              "      <td>0.0</td>\n",
              "      <td>0.0</td>\n",
              "      <td>0.000000</td>\n",
              "      <td>0.0</td>\n",
              "      <td>0.0</td>\n",
              "      <td>0.0</td>\n",
              "      <td>0.0</td>\n",
              "      <td>0.0</td>\n",
              "      <td>...</td>\n",
              "      <td>0.0</td>\n",
              "      <td>0.0</td>\n",
              "      <td>0.0</td>\n",
              "      <td>0.0</td>\n",
              "      <td>0.0</td>\n",
              "      <td>0.0</td>\n",
              "      <td>0.0</td>\n",
              "      <td>0.0</td>\n",
              "      <td>0.0</td>\n",
              "      <td>0.0</td>\n",
              "      <td>0.0</td>\n",
              "      <td>0.0</td>\n",
              "      <td>0.0</td>\n",
              "      <td>0.0</td>\n",
              "      <td>0.0</td>\n",
              "      <td>0.0</td>\n",
              "      <td>0.0</td>\n",
              "      <td>0.0</td>\n",
              "      <td>0.000000</td>\n",
              "      <td>0.000000</td>\n",
              "      <td>0.0</td>\n",
              "      <td>0.0</td>\n",
              "      <td>0.000000</td>\n",
              "      <td>0.532169</td>\n",
              "      <td>0.0</td>\n",
              "      <td>0.0</td>\n",
              "      <td>0.0</td>\n",
              "      <td>0.0</td>\n",
              "      <td>0.0</td>\n",
              "      <td>0.0</td>\n",
              "      <td>0.0</td>\n",
              "      <td>0.0</td>\n",
              "      <td>0.0</td>\n",
              "      <td>0.0</td>\n",
              "      <td>0.0</td>\n",
              "      <td>0.0</td>\n",
              "      <td>0.000000</td>\n",
              "      <td>0.0</td>\n",
              "      <td>0.0</td>\n",
              "      <td>0.0</td>\n",
              "    </tr>\n",
              "    <tr>\n",
              "      <th>313</th>\n",
              "      <td>0.0</td>\n",
              "      <td>0.0</td>\n",
              "      <td>0.0</td>\n",
              "      <td>0.0</td>\n",
              "      <td>0.0</td>\n",
              "      <td>0.0</td>\n",
              "      <td>0.0</td>\n",
              "      <td>0.0</td>\n",
              "      <td>0.0</td>\n",
              "      <td>0.0</td>\n",
              "      <td>0.0</td>\n",
              "      <td>0.0</td>\n",
              "      <td>0.0</td>\n",
              "      <td>0.0</td>\n",
              "      <td>0.0</td>\n",
              "      <td>0.0</td>\n",
              "      <td>0.0</td>\n",
              "      <td>0.0</td>\n",
              "      <td>0.0</td>\n",
              "      <td>0.0</td>\n",
              "      <td>0.0</td>\n",
              "      <td>0.0</td>\n",
              "      <td>0.0</td>\n",
              "      <td>0.0</td>\n",
              "      <td>0.545573</td>\n",
              "      <td>0.0</td>\n",
              "      <td>0.0</td>\n",
              "      <td>0.0</td>\n",
              "      <td>0.0</td>\n",
              "      <td>0.0</td>\n",
              "      <td>0.0</td>\n",
              "      <td>0.0</td>\n",
              "      <td>0.0</td>\n",
              "      <td>0.0</td>\n",
              "      <td>0.000000</td>\n",
              "      <td>0.0</td>\n",
              "      <td>0.0</td>\n",
              "      <td>0.0</td>\n",
              "      <td>0.0</td>\n",
              "      <td>0.0</td>\n",
              "      <td>...</td>\n",
              "      <td>0.0</td>\n",
              "      <td>0.0</td>\n",
              "      <td>0.0</td>\n",
              "      <td>0.0</td>\n",
              "      <td>0.0</td>\n",
              "      <td>0.0</td>\n",
              "      <td>0.0</td>\n",
              "      <td>0.0</td>\n",
              "      <td>0.0</td>\n",
              "      <td>0.0</td>\n",
              "      <td>0.0</td>\n",
              "      <td>0.0</td>\n",
              "      <td>0.0</td>\n",
              "      <td>0.0</td>\n",
              "      <td>0.0</td>\n",
              "      <td>0.0</td>\n",
              "      <td>0.0</td>\n",
              "      <td>0.0</td>\n",
              "      <td>0.000000</td>\n",
              "      <td>0.000000</td>\n",
              "      <td>0.0</td>\n",
              "      <td>0.0</td>\n",
              "      <td>0.000000</td>\n",
              "      <td>0.000000</td>\n",
              "      <td>0.0</td>\n",
              "      <td>0.0</td>\n",
              "      <td>0.0</td>\n",
              "      <td>0.0</td>\n",
              "      <td>0.0</td>\n",
              "      <td>0.0</td>\n",
              "      <td>0.0</td>\n",
              "      <td>0.0</td>\n",
              "      <td>0.0</td>\n",
              "      <td>0.0</td>\n",
              "      <td>0.0</td>\n",
              "      <td>0.0</td>\n",
              "      <td>0.000000</td>\n",
              "      <td>0.0</td>\n",
              "      <td>0.0</td>\n",
              "      <td>0.0</td>\n",
              "    </tr>\n",
              "    <tr>\n",
              "      <th>314</th>\n",
              "      <td>0.0</td>\n",
              "      <td>0.0</td>\n",
              "      <td>0.0</td>\n",
              "      <td>0.0</td>\n",
              "      <td>0.0</td>\n",
              "      <td>0.0</td>\n",
              "      <td>0.0</td>\n",
              "      <td>0.0</td>\n",
              "      <td>0.0</td>\n",
              "      <td>0.0</td>\n",
              "      <td>0.0</td>\n",
              "      <td>0.0</td>\n",
              "      <td>0.0</td>\n",
              "      <td>0.0</td>\n",
              "      <td>0.0</td>\n",
              "      <td>0.0</td>\n",
              "      <td>0.0</td>\n",
              "      <td>0.0</td>\n",
              "      <td>0.0</td>\n",
              "      <td>0.0</td>\n",
              "      <td>0.0</td>\n",
              "      <td>0.0</td>\n",
              "      <td>0.0</td>\n",
              "      <td>0.0</td>\n",
              "      <td>0.000000</td>\n",
              "      <td>0.0</td>\n",
              "      <td>0.0</td>\n",
              "      <td>0.0</td>\n",
              "      <td>0.0</td>\n",
              "      <td>0.0</td>\n",
              "      <td>0.0</td>\n",
              "      <td>0.0</td>\n",
              "      <td>0.0</td>\n",
              "      <td>0.0</td>\n",
              "      <td>0.000000</td>\n",
              "      <td>0.0</td>\n",
              "      <td>0.0</td>\n",
              "      <td>0.0</td>\n",
              "      <td>0.0</td>\n",
              "      <td>0.0</td>\n",
              "      <td>...</td>\n",
              "      <td>0.0</td>\n",
              "      <td>0.0</td>\n",
              "      <td>0.0</td>\n",
              "      <td>0.0</td>\n",
              "      <td>0.0</td>\n",
              "      <td>0.0</td>\n",
              "      <td>0.0</td>\n",
              "      <td>0.0</td>\n",
              "      <td>0.0</td>\n",
              "      <td>0.0</td>\n",
              "      <td>0.0</td>\n",
              "      <td>0.0</td>\n",
              "      <td>0.0</td>\n",
              "      <td>0.0</td>\n",
              "      <td>0.0</td>\n",
              "      <td>0.0</td>\n",
              "      <td>0.0</td>\n",
              "      <td>0.0</td>\n",
              "      <td>0.000000</td>\n",
              "      <td>0.779875</td>\n",
              "      <td>0.0</td>\n",
              "      <td>0.0</td>\n",
              "      <td>0.000000</td>\n",
              "      <td>0.000000</td>\n",
              "      <td>0.0</td>\n",
              "      <td>0.0</td>\n",
              "      <td>0.0</td>\n",
              "      <td>0.0</td>\n",
              "      <td>0.0</td>\n",
              "      <td>0.0</td>\n",
              "      <td>0.0</td>\n",
              "      <td>0.0</td>\n",
              "      <td>0.0</td>\n",
              "      <td>0.0</td>\n",
              "      <td>0.0</td>\n",
              "      <td>0.0</td>\n",
              "      <td>0.000000</td>\n",
              "      <td>0.0</td>\n",
              "      <td>0.0</td>\n",
              "      <td>0.0</td>\n",
              "    </tr>\n",
              "  </tbody>\n",
              "</table>\n",
              "<p>315 rows × 237 columns</p>\n",
              "</div>"
            ],
            "text/plain": [
              "     0    1    2    3    4    5    6    ...  230  231  232       233  234  235  236\n",
              "0    0.0  0.0  0.0  0.0  0.0  0.0  0.0  ...  0.0  0.0  0.0  0.000000  0.0  0.0  0.0\n",
              "1    0.0  0.0  0.0  0.0  0.0  0.0  0.0  ...  0.0  0.0  0.0  0.000000  0.0  0.0  0.0\n",
              "2    0.0  0.0  0.0  0.0  0.0  0.0  0.0  ...  0.0  0.0  0.0  0.000000  0.0  0.0  0.0\n",
              "3    0.0  0.0  0.0  0.0  0.0  0.0  0.0  ...  0.0  0.0  0.0  0.000000  0.0  0.0  0.0\n",
              "4    0.0  0.0  0.0  0.0  0.0  0.0  0.0  ...  0.0  0.0  0.0  0.335925  0.0  0.0  0.0\n",
              "..   ...  ...  ...  ...  ...  ...  ...  ...  ...  ...  ...       ...  ...  ...  ...\n",
              "310  0.0  0.0  0.0  0.0  0.0  0.0  0.0  ...  0.0  0.0  0.0  0.000000  0.0  0.0  0.0\n",
              "311  0.0  0.0  0.0  0.0  0.0  0.0  0.0  ...  0.0  0.0  0.0  0.000000  0.0  0.0  0.0\n",
              "312  0.0  0.0  0.0  0.0  0.0  0.0  0.0  ...  0.0  0.0  0.0  0.000000  0.0  0.0  0.0\n",
              "313  0.0  0.0  0.0  0.0  0.0  0.0  0.0  ...  0.0  0.0  0.0  0.000000  0.0  0.0  0.0\n",
              "314  0.0  0.0  0.0  0.0  0.0  0.0  0.0  ...  0.0  0.0  0.0  0.000000  0.0  0.0  0.0\n",
              "\n",
              "[315 rows x 237 columns]"
            ]
          },
          "metadata": {
            "tags": []
          },
          "execution_count": 53
        }
      ]
    },
    {
      "cell_type": "markdown",
      "metadata": {
        "id": "G7HBxE1rnA1d",
        "colab_type": "text"
      },
      "source": [
        "#Splitting our dataset into Training and Validation Set"
      ]
    },
    {
      "cell_type": "code",
      "metadata": {
        "id": "-oM8qRlIm-DL",
        "colab_type": "code",
        "outputId": "dbf825ee-3963-41e3-ffff-30bee8de79d0",
        "colab": {
          "base_uri": "https://localhost:8080/",
          "height": 134
        }
      },
      "source": [
        "train_bow = bow[:31962]\n",
        "train_bow.todense()"
      ],
      "execution_count": 54,
      "outputs": [
        {
          "output_type": "execute_result",
          "data": {
            "text/plain": [
              "matrix([[0, 0, 0, ..., 0, 0, 0],\n",
              "        [0, 0, 0, ..., 0, 0, 0],\n",
              "        [0, 0, 0, ..., 0, 0, 0],\n",
              "        ...,\n",
              "        [0, 0, 0, ..., 0, 0, 0],\n",
              "        [0, 0, 0, ..., 0, 0, 0],\n",
              "        [0, 0, 0, ..., 0, 0, 0]])"
            ]
          },
          "metadata": {
            "tags": []
          },
          "execution_count": 54
        }
      ]
    },
    {
      "cell_type": "code",
      "metadata": {
        "id": "Uc4I6iSunDkw",
        "colab_type": "code",
        "outputId": "8ef38baa-c51c-44a7-eac9-9043dabc53bc",
        "colab": {
          "base_uri": "https://localhost:8080/",
          "height": 134
        }
      },
      "source": [
        "#Using features from TF-IDF for training set\n",
        "train_tfidf_matrix = tfidf_matrix[:31962]\n",
        "\n",
        "train_tfidf_matrix.todense()"
      ],
      "execution_count": 55,
      "outputs": [
        {
          "output_type": "execute_result",
          "data": {
            "text/plain": [
              "matrix([[0., 0., 0., ..., 0., 0., 0.],\n",
              "        [0., 0., 0., ..., 0., 0., 0.],\n",
              "        [0., 0., 0., ..., 0., 0., 0.],\n",
              "        ...,\n",
              "        [0., 0., 0., ..., 0., 0., 0.],\n",
              "        [0., 0., 0., ..., 0., 0., 0.],\n",
              "        [0., 0., 0., ..., 0., 0., 0.]])"
            ]
          },
          "metadata": {
            "tags": []
          },
          "execution_count": 55
        }
      ]
    },
    {
      "cell_type": "code",
      "metadata": {
        "id": "nOme3EaenFOO",
        "colab_type": "code",
        "outputId": "3477389d-7771-4f5f-d727-47ae26a4c7aa",
        "colab": {
          "base_uri": "https://localhost:8080/",
          "height": 402
        }
      },
      "source": [
        "from sklearn.preprocessing import LabelEncoder\n",
        "number = LabelEncoder ()\n",
        "df['sentiments'] = number.fit_transform(df['sentiments'].astype('str'))\n",
        "df"
      ],
      "execution_count": 56,
      "outputs": [
        {
          "output_type": "execute_result",
          "data": {
            "text/html": [
              "<div>\n",
              "<style scoped>\n",
              "    .dataframe tbody tr th:only-of-type {\n",
              "        vertical-align: middle;\n",
              "    }\n",
              "\n",
              "    .dataframe tbody tr th {\n",
              "        vertical-align: top;\n",
              "    }\n",
              "\n",
              "    .dataframe thead th {\n",
              "        text-align: right;\n",
              "    }\n",
              "</style>\n",
              "<table border=\"1\" class=\"dataframe\">\n",
              "  <thead>\n",
              "    <tr style=\"text-align: right;\">\n",
              "      <th></th>\n",
              "      <th>cids</th>\n",
              "      <th>sentences</th>\n",
              "      <th>sentiments</th>\n",
              "      <th>NP</th>\n",
              "    </tr>\n",
              "  </thead>\n",
              "  <tbody>\n",
              "    <tr>\n",
              "      <th>0</th>\n",
              "      <td>0</td>\n",
              "      <td>What is really like a lot of people in this ho...</td>\n",
              "      <td>2</td>\n",
              "      <td>[lot, people, hospital]</td>\n",
              "    </tr>\n",
              "    <tr>\n",
              "      <th>1</th>\n",
              "      <td>0</td>\n",
              "      <td>Most smiling Greetings care patients and those...</td>\n",
              "      <td>2</td>\n",
              "      <td>[Greetings care patients, service]</td>\n",
              "    </tr>\n",
              "    <tr>\n",
              "      <th>2</th>\n",
              "      <td>0</td>\n",
              "      <td>Invite people to feel relaxed at all</td>\n",
              "      <td>2</td>\n",
              "      <td>[people]</td>\n",
              "    </tr>\n",
              "    <tr>\n",
              "      <th>3</th>\n",
              "      <td>0</td>\n",
              "      <td>Most doctors who have had the good hearted peo...</td>\n",
              "      <td>1</td>\n",
              "      <td>[doctors, people, someone]</td>\n",
              "    </tr>\n",
              "    <tr>\n",
              "      <th>4</th>\n",
              "      <td>0</td>\n",
              "      <td>The Department of Medicine Private rooms are O...</td>\n",
              "      <td>2</td>\n",
              "      <td>[rooms, price]</td>\n",
              "    </tr>\n",
              "    <tr>\n",
              "      <th>...</th>\n",
              "      <td>...</td>\n",
              "      <td>...</td>\n",
              "      <td>...</td>\n",
              "      <td>...</td>\n",
              "    </tr>\n",
              "    <tr>\n",
              "      <th>310</th>\n",
              "      <td>76</td>\n",
              "      <td>You make little treat</td>\n",
              "      <td>2</td>\n",
              "      <td>[treat]</td>\n",
              "    </tr>\n",
              "    <tr>\n",
              "      <th>311</th>\n",
              "      <td>77</td>\n",
              "      <td>Impressive fast enough</td>\n",
              "      <td>2</td>\n",
              "      <td>[]</td>\n",
              "    </tr>\n",
              "    <tr>\n",
              "      <th>312</th>\n",
              "      <td>78</td>\n",
              "      <td>If you find a common disease such as flu usual...</td>\n",
              "      <td>0</td>\n",
              "      <td>[disease, flu, doctor, hospital channel]</td>\n",
              "    </tr>\n",
              "    <tr>\n",
              "      <th>313</th>\n",
              "      <td>79</td>\n",
              "      <td>Good nursing care is a preliminary inquiry</td>\n",
              "      <td>2</td>\n",
              "      <td>[nursing care, inquiry]</td>\n",
              "    </tr>\n",
              "    <tr>\n",
              "      <th>314</th>\n",
              "      <td>79</td>\n",
              "      <td>Doctors advise more on prevention than treatment</td>\n",
              "      <td>1</td>\n",
              "      <td>[Doctors, prevention, treatment]</td>\n",
              "    </tr>\n",
              "  </tbody>\n",
              "</table>\n",
              "<p>315 rows × 4 columns</p>\n",
              "</div>"
            ],
            "text/plain": [
              "     cids  ...                                        NP\n",
              "0       0  ...                   [lot, people, hospital]\n",
              "1       0  ...        [Greetings care patients, service]\n",
              "2       0  ...                                  [people]\n",
              "3       0  ...                [doctors, people, someone]\n",
              "4       0  ...                            [rooms, price]\n",
              "..    ...  ...                                       ...\n",
              "310    76  ...                                   [treat]\n",
              "311    77  ...                                        []\n",
              "312    78  ...  [disease, flu, doctor, hospital channel]\n",
              "313    79  ...                   [nursing care, inquiry]\n",
              "314    79  ...          [Doctors, prevention, treatment]\n",
              "\n",
              "[315 rows x 4 columns]"
            ]
          },
          "metadata": {
            "tags": []
          },
          "execution_count": 56
        }
      ]
    },
    {
      "cell_type": "code",
      "metadata": {
        "id": "De9ausc9tf5U",
        "colab_type": "code",
        "colab": {}
      },
      "source": [
        ""
      ],
      "execution_count": 0,
      "outputs": []
    },
    {
      "cell_type": "code",
      "metadata": {
        "id": "vL1ZSLaenHSR",
        "colab_type": "code",
        "outputId": "b664404e-618e-47ba-bea6-dd5cbfed2961",
        "colab": {
          "base_uri": "https://localhost:8080/",
          "height": 346
        }
      },
      "source": [
        "# Neutral label : 0 , Negative label : 1 , Positive  label : 2\n",
        "import seaborn as sns\n",
        "sns.countplot(df['sentiments'])\n",
        "sns.despine()"
      ],
      "execution_count": 57,
      "outputs": [
        {
          "output_type": "stream",
          "text": [
            "/usr/local/lib/python3.6/dist-packages/statsmodels/tools/_testing.py:19: FutureWarning:\n",
            "\n",
            "pandas.util.testing is deprecated. Use the functions in the public API at pandas.testing instead.\n",
            "\n"
          ],
          "name": "stderr"
        },
        {
          "output_type": "display_data",
          "data": {
            "image/png": "[encoded data removed]",
            "text/plain": [
              "<Figure size 432x288 with 1 Axes>"
            ]
          },
          "metadata": {
            "tags": [],
            "needs_background": "light"
          }
        }
      ]
    },
    {
      "cell_type": "code",
      "metadata": {
        "id": "b9IfcL_lsCNJ",
        "colab_type": "code",
        "colab": {}
      },
      "source": [
        ""
      ],
      "execution_count": 0,
      "outputs": []
    },
    {
      "cell_type": "code",
      "metadata": {
        "id": "rtedGOpTnJ0L",
        "colab_type": "code",
        "colab": {}
      },
      "source": [
        "#Splitting the data into training and validation set\n",
        "from sklearn.model_selection import train_test_split"
      ],
      "execution_count": 0,
      "outputs": []
    },
    {
      "cell_type": "code",
      "metadata": {
        "id": "SzQjr86ipWPW",
        "colab_type": "code",
        "colab": {}
      },
      "source": [
        "x_train_bow, x_valid_bow, y_train_bow, y_valid_bow = train_test_split(train_bow,df['sentiments'],test_size=0.3,random_state=0)"
      ],
      "execution_count": 0,
      "outputs": []
    },
    {
      "cell_type": "code",
      "metadata": {
        "id": "mgefgKXPpYMU",
        "colab_type": "code",
        "colab": {}
      },
      "source": [
        "x_train_tfidf, x_valid_tfidf, y_train_tfidf, y_valid_tfidf = train_test_split(train_tfidf_matrix,df['sentiments'],test_size=0.3,random_state=0)"
      ],
      "execution_count": 0,
      "outputs": []
    },
    {
      "cell_type": "code",
      "metadata": {
        "id": "XWy__UT8pamr",
        "colab_type": "code",
        "outputId": "d72d27cf-9a39-42b4-80da-3148d6b35ec9",
        "colab": {
          "base_uri": "https://localhost:8080/",
          "height": 34
        }
      },
      "source": [
        "x_train_bow.shape"
      ],
      "execution_count": 61,
      "outputs": [
        {
          "output_type": "execute_result",
          "data": {
            "text/plain": [
              "(220, 237)"
            ]
          },
          "metadata": {
            "tags": []
          },
          "execution_count": 61
        }
      ]
    },
    {
      "cell_type": "code",
      "metadata": {
        "id": "-DrLSyuBpc2O",
        "colab_type": "code",
        "outputId": "e6ae7f35-0471-4823-eb0e-17d73fbb53b4",
        "colab": {
          "base_uri": "https://localhost:8080/",
          "height": 34
        }
      },
      "source": [
        "x_valid_bow.shape"
      ],
      "execution_count": 62,
      "outputs": [
        {
          "output_type": "execute_result",
          "data": {
            "text/plain": [
              "(95, 237)"
            ]
          },
          "metadata": {
            "tags": []
          },
          "execution_count": 62
        }
      ]
    },
    {
      "cell_type": "code",
      "metadata": {
        "id": "Gz6-q_t_pee9",
        "colab_type": "code",
        "outputId": "efc78ab7-e8b1-40eb-9852-a9191b3b3cca",
        "colab": {
          "base_uri": "https://localhost:8080/",
          "height": 34
        }
      },
      "source": [
        "y_train_bow.shape"
      ],
      "execution_count": 63,
      "outputs": [
        {
          "output_type": "execute_result",
          "data": {
            "text/plain": [
              "(220,)"
            ]
          },
          "metadata": {
            "tags": []
          },
          "execution_count": 63
        }
      ]
    },
    {
      "cell_type": "code",
      "metadata": {
        "id": "BL59CNAZpgj-",
        "colab_type": "code",
        "outputId": "57b999fd-01cc-41d2-db22-cd018f0d0b09",
        "colab": {
          "base_uri": "https://localhost:8080/",
          "height": 34
        }
      },
      "source": [
        "y_valid_bow.shape"
      ],
      "execution_count": 64,
      "outputs": [
        {
          "output_type": "execute_result",
          "data": {
            "text/plain": [
              "(95,)"
            ]
          },
          "metadata": {
            "tags": []
          },
          "execution_count": 64
        }
      ]
    },
    {
      "cell_type": "markdown",
      "metadata": {
        "id": "RxpzNxgypkuc",
        "colab_type": "text"
      },
      "source": [
        "#Applying Machine Learning Models"
      ]
    },
    {
      "cell_type": "code",
      "metadata": {
        "id": "yjbN2zqmxe1H",
        "colab_type": "code",
        "colab": {}
      },
      "source": [
        "from sklearn.metrics import f1_score"
      ],
      "execution_count": 0,
      "outputs": []
    },
    {
      "cell_type": "code",
      "metadata": {
        "id": "-JaZIX4M0eKG",
        "colab_type": "code",
        "colab": {}
      },
      "source": [
        "#Logistic Regression\n",
        "from sklearn.linear_model import LogisticRegression\n",
        "LR = LogisticRegression()\n",
        "LR = LR.fit(x_train_bow,y_train_bow)"
      ],
      "execution_count": 0,
      "outputs": []
    },
    {
      "cell_type": "code",
      "metadata": {
        "id": "iV313VGj0gDK",
        "colab_type": "code",
        "outputId": "3920e511-ff48-41f8-b2c4-361717f6d5b1",
        "colab": {
          "base_uri": "https://localhost:8080/",
          "height": 1000
        }
      },
      "source": [
        "prediction_bow = LR.predict_proba(x_valid_bow)\n",
        "prediction_bow"
      ],
      "execution_count": 67,
      "outputs": [
        {
          "output_type": "execute_result",
          "data": {
            "text/plain": [
              "array([[0.07062282, 0.05106355, 0.87831363],\n",
              "       [0.06836586, 0.61735885, 0.31427529],\n",
              "       [0.077695  , 0.66120181, 0.26110318],\n",
              "       [0.06253049, 0.72619802, 0.21127149],\n",
              "       [0.11392386, 0.34444278, 0.54163336],\n",
              "       [0.11341231, 0.59316932, 0.29341836],\n",
              "       [0.47305356, 0.11830807, 0.40863837],\n",
              "       [0.02968211, 0.19737767, 0.77294022],\n",
              "       [0.14069576, 0.10010358, 0.75920066],\n",
              "       [0.1327189 , 0.40521866, 0.46206245],\n",
              "       [0.16075463, 0.28105282, 0.55819254],\n",
              "       [0.53006628, 0.36240766, 0.10752606],\n",
              "       [0.15330935, 0.64358539, 0.20310526],\n",
              "       [0.102893  , 0.27202091, 0.62508609],\n",
              "       [0.07066111, 0.71282173, 0.21651716],\n",
              "       [0.11561028, 0.63431409, 0.25007563],\n",
              "       [0.07375753, 0.78973158, 0.13651089],\n",
              "       [0.07000259, 0.75656409, 0.17343333],\n",
              "       [0.05013447, 0.89464363, 0.0552219 ],\n",
              "       [0.21441759, 0.61030848, 0.17527393],\n",
              "       [0.39583023, 0.45780373, 0.14636604],\n",
              "       [0.1282793 , 0.47498784, 0.39673285],\n",
              "       [0.18823866, 0.31326328, 0.49849806],\n",
              "       [0.10174413, 0.66411621, 0.23413966],\n",
              "       [0.11561028, 0.63431409, 0.25007563],\n",
              "       [0.00115886, 0.00445725, 0.9943839 ],\n",
              "       [0.26800441, 0.52351191, 0.20848368],\n",
              "       [0.18253204, 0.58572845, 0.23173951],\n",
              "       [0.1195868 , 0.51969265, 0.36072054],\n",
              "       [0.01734274, 0.00275325, 0.979904  ],\n",
              "       [0.35874385, 0.45540901, 0.18584714],\n",
              "       [0.1012595 , 0.06328097, 0.83545953],\n",
              "       [0.05188602, 0.46494687, 0.48316711],\n",
              "       [0.13749863, 0.5651629 , 0.29733847],\n",
              "       [0.08996663, 0.11208371, 0.79794966],\n",
              "       [0.08822174, 0.74545517, 0.16632309],\n",
              "       [0.02993676, 0.02940998, 0.94065326],\n",
              "       [0.17145799, 0.38687571, 0.44166629],\n",
              "       [0.15568121, 0.27138994, 0.57292885],\n",
              "       [0.14175249, 0.58685352, 0.27139399],\n",
              "       [0.04984197, 0.70910305, 0.24105498],\n",
              "       [0.04340541, 0.17960317, 0.77699142],\n",
              "       [0.09983633, 0.32280786, 0.5773558 ],\n",
              "       [0.09695157, 0.69468231, 0.20836612],\n",
              "       [0.27443995, 0.44319323, 0.28236682],\n",
              "       [0.1101452 , 0.19451124, 0.69534356],\n",
              "       [0.01351267, 0.00296949, 0.98351784],\n",
              "       [0.11406684, 0.20767926, 0.67825389],\n",
              "       [0.01228536, 0.10453497, 0.88317967],\n",
              "       [0.11561028, 0.63431409, 0.25007563],\n",
              "       [0.07225273, 0.77371283, 0.15403444],\n",
              "       [0.06460434, 0.0265259 , 0.90886976],\n",
              "       [0.06077838, 0.32056115, 0.61866047],\n",
              "       [0.20072978, 0.42365771, 0.37561251],\n",
              "       [0.13075037, 0.48654986, 0.38269977],\n",
              "       [0.16119604, 0.59649794, 0.24230602],\n",
              "       [0.05272748, 0.81741695, 0.12985556],\n",
              "       [0.04813548, 0.31743972, 0.63442481],\n",
              "       [0.05539709, 0.65394396, 0.29065895],\n",
              "       [0.14133905, 0.43863173, 0.42002922],\n",
              "       [0.27510855, 0.45760886, 0.2672826 ],\n",
              "       [0.25205523, 0.60545811, 0.14248666],\n",
              "       [0.11464573, 0.61446846, 0.27088581],\n",
              "       [0.16563832, 0.27547257, 0.55888912],\n",
              "       [0.09982813, 0.69692011, 0.20325176],\n",
              "       [0.11528867, 0.29437697, 0.59033436],\n",
              "       [0.07288153, 0.52875054, 0.39836793],\n",
              "       [0.08890655, 0.71031669, 0.20077677],\n",
              "       [0.05688987, 0.83528051, 0.10782962],\n",
              "       [0.10359314, 0.65688814, 0.23951871],\n",
              "       [0.18526825, 0.46623639, 0.34849536],\n",
              "       [0.0664989 , 0.79967295, 0.13382816],\n",
              "       [0.24792579, 0.35966554, 0.39240867],\n",
              "       [0.09771604, 0.4890845 , 0.41319947],\n",
              "       [0.119821  , 0.66068074, 0.21949826],\n",
              "       [0.12300485, 0.63522321, 0.24177193],\n",
              "       [0.28134657, 0.37555376, 0.34309966],\n",
              "       [0.06910726, 0.21465677, 0.71623597],\n",
              "       [0.29617817, 0.33226402, 0.3715578 ],\n",
              "       [0.45128882, 0.30568115, 0.24303003],\n",
              "       [0.11561028, 0.63431409, 0.25007563],\n",
              "       [0.01503616, 0.03589634, 0.94906751],\n",
              "       [0.12500824, 0.41237918, 0.46261258],\n",
              "       [0.22422841, 0.27468723, 0.50108436],\n",
              "       [0.09054755, 0.72047391, 0.18897854],\n",
              "       [0.02266414, 0.01076818, 0.96656768],\n",
              "       [0.13350739, 0.2882113 , 0.57828131],\n",
              "       [0.14636732, 0.68915566, 0.16447702],\n",
              "       [0.16648365, 0.25302805, 0.5804883 ],\n",
              "       [0.15650143, 0.55272039, 0.29077818],\n",
              "       [0.28805005, 0.52862572, 0.18332424],\n",
              "       [0.08441223, 0.56578522, 0.34980255],\n",
              "       [0.13475995, 0.37398379, 0.49125626],\n",
              "       [0.18366983, 0.17570383, 0.64062634],\n",
              "       [0.08109629, 0.65876642, 0.2601373 ]])"
            ]
          },
          "metadata": {
            "tags": []
          },
          "execution_count": 67
        }
      ]
    },
    {
      "cell_type": "code",
      "metadata": {
        "id": "ivUqFLGg-QND",
        "colab_type": "code",
        "outputId": "0b70fa45-eb5c-4840-a0e6-adc7c46550de",
        "colab": {
          "base_uri": "https://localhost:8080/",
          "height": 34
        }
      },
      "source": [
        "#Calculating the F1 score\n",
        "# if prediction is equal to 2 else 1 where 2 is for positive comments and 1 for negative sentiment comments\n",
        "prediction_int = prediction_bow[:,1]>=0.3\n",
        "\n",
        "# converting the results to integer type\n",
        "prediction_int = prediction_int.astype(np.int)\n",
        "prediction_int\n",
        "\n",
        "# calculating f1 score\n",
        "log_bow = f1_score(y_valid_bow, prediction_int,average='micro')\n",
        "\n",
        "log_bow"
      ],
      "execution_count": 68,
      "outputs": [
        {
          "output_type": "execute_result",
          "data": {
            "text/plain": [
              "0.3157894736842105"
            ]
          },
          "metadata": {
            "tags": []
          },
          "execution_count": 68
        }
      ]
    },
    {
      "cell_type": "code",
      "metadata": {
        "id": "bdo8LDvk4QUb",
        "colab_type": "code",
        "outputId": "d4725aad-c345-41c2-8f1d-79000fe89d2b",
        "colab": {
          "base_uri": "https://localhost:8080/",
          "height": 101
        }
      },
      "source": [
        "LR.fit(x_train_tfidf,y_train_tfidf)\n"
      ],
      "execution_count": 69,
      "outputs": [
        {
          "output_type": "execute_result",
          "data": {
            "text/plain": [
              "LogisticRegression(C=1.0, class_weight=None, dual=False, fit_intercept=True,\n",
              "                   intercept_scaling=1, l1_ratio=None, max_iter=100,\n",
              "                   multi_class='auto', n_jobs=None, penalty='l2',\n",
              "                   random_state=None, solver='lbfgs', tol=0.0001, verbose=0,\n",
              "                   warm_start=False)"
            ]
          },
          "metadata": {
            "tags": []
          },
          "execution_count": 69
        }
      ]
    },
    {
      "cell_type": "code",
      "metadata": {
        "id": "TUIuqy52xtX1",
        "colab_type": "code",
        "outputId": "13d879f2-6616-451a-e1a2-fc4cbeaf8110",
        "colab": {
          "base_uri": "https://localhost:8080/",
          "height": 1000
        }
      },
      "source": [
        "prediction_tfidf = LR.predict_proba(x_valid_tfidf)\n",
        "\n",
        "prediction_tfidf"
      ],
      "execution_count": 70,
      "outputs": [
        {
          "output_type": "execute_result",
          "data": {
            "text/plain": [
              "array([[0.1591958 , 0.26576901, 0.57503519],\n",
              "       [0.10056331, 0.47765752, 0.42177917],\n",
              "       [0.11331023, 0.49894167, 0.3877481 ],\n",
              "       [0.12222478, 0.56944691, 0.30832831],\n",
              "       [0.13949247, 0.40369058, 0.45681695],\n",
              "       [0.1360911 , 0.47187601, 0.39203289],\n",
              "       [0.29249597, 0.20965268, 0.49785136],\n",
              "       [0.07757922, 0.28255614, 0.63986464],\n",
              "       [0.20027686, 0.18137283, 0.6183503 ],\n",
              "       [0.12085942, 0.37349697, 0.50564361],\n",
              "       [0.1427643 , 0.32764022, 0.52959547],\n",
              "       [0.28902289, 0.47556141, 0.2354157 ],\n",
              "       [0.1825195 , 0.52410994, 0.29337056],\n",
              "       [0.13485234, 0.39400738, 0.47114028],\n",
              "       [0.10986879, 0.54011505, 0.35001616],\n",
              "       [0.14359344, 0.51713752, 0.33926904],\n",
              "       [0.11137296, 0.64948446, 0.23914258],\n",
              "       [0.1236918 , 0.6052028 , 0.2711054 ],\n",
              "       [0.10967803, 0.69161036, 0.1987116 ],\n",
              "       [0.19197776, 0.54378816, 0.26423407],\n",
              "       [0.2413753 , 0.47718035, 0.28144434],\n",
              "       [0.15813094, 0.40785787, 0.43401119],\n",
              "       [0.14418998, 0.37517977, 0.48063026],\n",
              "       [0.13142807, 0.65927865, 0.20929328],\n",
              "       [0.14359344, 0.51713752, 0.33926904],\n",
              "       [0.06954879, 0.21250677, 0.71794444],\n",
              "       [0.24678543, 0.45272411, 0.30049045],\n",
              "       [0.17343997, 0.52540802, 0.30115201],\n",
              "       [0.14958682, 0.46263796, 0.38777522],\n",
              "       [0.08760109, 0.09236408, 0.82003482],\n",
              "       [0.39348627, 0.3636872 , 0.24282653],\n",
              "       [0.14985546, 0.24148718, 0.60865736],\n",
              "       [0.10715678, 0.45436559, 0.43847763],\n",
              "       [0.15412783, 0.52790502, 0.31796715],\n",
              "       [0.15463109, 0.36150328, 0.48386563],\n",
              "       [0.11721737, 0.65375888, 0.22902374],\n",
              "       [0.11504275, 0.28152081, 0.60343644],\n",
              "       [0.17789399, 0.3841769 , 0.43792911],\n",
              "       [0.17283524, 0.33424606, 0.4929187 ],\n",
              "       [0.15234112, 0.52257599, 0.32508288],\n",
              "       [0.09226117, 0.61303354, 0.29470529],\n",
              "       [0.13052315, 0.3863649 , 0.48311194],\n",
              "       [0.11613393, 0.30640441, 0.57746166],\n",
              "       [0.13166586, 0.5517786 , 0.31655555],\n",
              "       [0.16958967, 0.51535331, 0.31505702],\n",
              "       [0.12039935, 0.30269595, 0.5769047 ],\n",
              "       [0.07306504, 0.09957503, 0.82735993],\n",
              "       [0.14115079, 0.2715907 , 0.58725851],\n",
              "       [0.04865253, 0.19358037, 0.7577671 ],\n",
              "       [0.14359344, 0.51713752, 0.33926904],\n",
              "       [0.09117478, 0.68375762, 0.2250676 ],\n",
              "       [0.10346631, 0.11281461, 0.78371908],\n",
              "       [0.09959909, 0.26116341, 0.6392375 ],\n",
              "       [0.16333293, 0.47456357, 0.3621035 ],\n",
              "       [0.14656583, 0.44865026, 0.40478391],\n",
              "       [0.16368346, 0.53071386, 0.30560268],\n",
              "       [0.10624828, 0.63659719, 0.25715453],\n",
              "       [0.10079532, 0.42100258, 0.47820209],\n",
              "       [0.09479528, 0.45691109, 0.44829363],\n",
              "       [0.13293787, 0.45590979, 0.41115235],\n",
              "       [0.28033241, 0.35629721, 0.36337038],\n",
              "       [0.24474935, 0.53495688, 0.22029378],\n",
              "       [0.13836759, 0.47176961, 0.3898628 ],\n",
              "       [0.15771668, 0.27181197, 0.57047135],\n",
              "       [0.12339855, 0.61119075, 0.26541071],\n",
              "       [0.13613627, 0.36399686, 0.49986687],\n",
              "       [0.10714619, 0.4648266 , 0.42802722],\n",
              "       [0.12299246, 0.55784897, 0.31915857],\n",
              "       [0.11377816, 0.64092059, 0.24530125],\n",
              "       [0.12627028, 0.57768345, 0.29604626],\n",
              "       [0.1809465 , 0.40403724, 0.41501627],\n",
              "       [0.11904293, 0.63690959, 0.24404747],\n",
              "       [0.22451997, 0.38552193, 0.3899581 ],\n",
              "       [0.12439809, 0.44858527, 0.42701663],\n",
              "       [0.15644451, 0.52142763, 0.32212786],\n",
              "       [0.14644543, 0.53298374, 0.32057083],\n",
              "       [0.23051107, 0.36857961, 0.40090932],\n",
              "       [0.12768819, 0.34314833, 0.52916349],\n",
              "       [0.22097597, 0.42084629, 0.35817774],\n",
              "       [0.24977302, 0.41938476, 0.33084221],\n",
              "       [0.14359344, 0.51713752, 0.33926904],\n",
              "       [0.05412246, 0.13490399, 0.81097354],\n",
              "       [0.14067679, 0.37118625, 0.48813695],\n",
              "       [0.1804622 , 0.30445575, 0.51508205],\n",
              "       [0.12049378, 0.61015928, 0.26934693],\n",
              "       [0.09373791, 0.11086065, 0.79540143],\n",
              "       [0.11758817, 0.3742568 , 0.50815503],\n",
              "       [0.15842909, 0.58452701, 0.25704391],\n",
              "       [0.14492381, 0.33432839, 0.5207478 ],\n",
              "       [0.1678312 , 0.48882125, 0.34334755],\n",
              "       [0.17566112, 0.57231107, 0.25202781],\n",
              "       [0.11207781, 0.47507473, 0.41284746],\n",
              "       [0.1474269 , 0.45028132, 0.40229178],\n",
              "       [0.19708363, 0.3287929 , 0.47412347],\n",
              "       [0.1237193 , 0.51562986, 0.36065084]])"
            ]
          },
          "metadata": {
            "tags": []
          },
          "execution_count": 70
        }
      ]
    },
    {
      "cell_type": "code",
      "metadata": {
        "id": "8tzjjrKDyIoR",
        "colab_type": "code",
        "outputId": "c2357347-e46c-41a5-8f9e-878e215ab494",
        "colab": {
          "base_uri": "https://localhost:8080/",
          "height": 34
        }
      },
      "source": [
        "prediction_int_tfidf = prediction_tfidf[:,1]>=0.3\n",
        "\n",
        "prediction_int_tfidf = prediction_int.astype(np.int)\n",
        "prediction_int_tfidf\n",
        "\n",
        "# calculating f1 score\n",
        "log_tfidf = f1_score(y_valid_tfidf, prediction_int_tfidf,average='micro')\n",
        "\n",
        "log_tfidf"
      ],
      "execution_count": 71,
      "outputs": [
        {
          "output_type": "execute_result",
          "data": {
            "text/plain": [
              "0.3157894736842105"
            ]
          },
          "metadata": {
            "tags": []
          },
          "execution_count": 71
        }
      ]
    },
    {
      "cell_type": "code",
      "metadata": {
        "id": "CFEwwstkztuf",
        "colab_type": "code",
        "outputId": "f27e7995-ad61-45fe-e312-2892f69ce699",
        "colab": {
          "base_uri": "https://localhost:8080/",
          "height": 1000
        }
      },
      "source": [
        "#XGBoost\n",
        "from xgboost import XGBClassifier\n",
        "model_bow = XGBClassifier(random_state=0,learning_rate=0.9)\n",
        "model_bow.fit(x_train_bow, y_train_bow)\n",
        "xgb = model_bow.predict_proba(x_valid_bow)\n",
        "\n",
        "xgb"
      ],
      "execution_count": 72,
      "outputs": [
        {
          "output_type": "execute_result",
          "data": {
            "text/plain": [
              "array([[1.52527238e-03, 6.36263052e-03, 9.92112041e-01],\n",
              "       [1.60238408e-02, 8.75207484e-01, 1.08768657e-01],\n",
              "       [4.88135926e-02, 8.05154383e-01, 1.46032035e-01],\n",
              "       [2.47427803e-02, 7.18780875e-01, 2.56476343e-01],\n",
              "       [1.62864681e-02, 1.31227762e-01, 8.52485716e-01],\n",
              "       [8.29937831e-02, 6.68719888e-01, 2.48286352e-01],\n",
              "       [8.51823330e-01, 2.14080457e-02, 1.26768634e-01],\n",
              "       [1.09080074e-03, 3.27787139e-02, 9.66130555e-01],\n",
              "       [1.88279867e-01, 5.41201094e-03, 8.06308150e-01],\n",
              "       [1.68880820e-01, 3.25890958e-01, 5.05228281e-01],\n",
              "       [3.05291891e-01, 2.50485867e-01, 4.44222271e-01],\n",
              "       [5.51770627e-01, 4.42435354e-01, 5.79400454e-03],\n",
              "       [8.29937831e-02, 6.68719888e-01, 2.48286352e-01],\n",
              "       [1.11415144e-02, 1.46709546e-01, 8.42148960e-01],\n",
              "       [6.31042421e-02, 6.83224201e-01, 2.53671587e-01],\n",
              "       [8.29937831e-02, 6.68719888e-01, 2.48286352e-01],\n",
              "       [4.66341414e-02, 8.13853920e-01, 1.39511943e-01],\n",
              "       [9.67743918e-02, 3.74220341e-01, 5.29005289e-01],\n",
              "       [5.73225766e-02, 9.12975013e-01, 2.97024231e-02],\n",
              "       [6.56384304e-02, 6.20511293e-01, 3.13850224e-01],\n",
              "       [1.81703836e-01, 4.45250750e-01, 3.73045415e-01],\n",
              "       [8.29937831e-02, 6.68719888e-01, 2.48286352e-01],\n",
              "       [5.44115543e-01, 1.73943982e-01, 2.81940401e-01],\n",
              "       [5.57894399e-03, 9.13953900e-01, 8.04671422e-02],\n",
              "       [8.29937831e-02, 6.68719888e-01, 2.48286352e-01],\n",
              "       [1.77059276e-03, 3.04193993e-04, 9.97925162e-01],\n",
              "       [8.29937831e-02, 6.68719888e-01, 2.48286352e-01],\n",
              "       [1.70039847e-01, 5.82539558e-01, 2.47420564e-01],\n",
              "       [1.52884871e-01, 9.26205292e-02, 7.54494548e-01],\n",
              "       [1.37868095e-02, 1.05905106e-04, 9.86107349e-01],\n",
              "       [8.29937831e-02, 6.68719888e-01, 2.48286352e-01],\n",
              "       [4.15376164e-02, 9.26317926e-03, 9.49199259e-01],\n",
              "       [1.60238408e-02, 8.75207484e-01, 1.08768657e-01],\n",
              "       [2.32838586e-01, 5.91299891e-01, 1.75861523e-01],\n",
              "       [9.71675366e-02, 3.83142568e-02, 8.64518225e-01],\n",
              "       [7.34868273e-02, 7.71757483e-01, 1.54755712e-01],\n",
              "       [8.13514531e-01, 1.82973128e-03, 1.84655696e-01],\n",
              "       [4.76213582e-02, 5.75830676e-02, 8.94795537e-01],\n",
              "       [2.17790619e-01, 7.81183392e-02, 7.04091012e-01],\n",
              "       [4.66341414e-02, 8.13853920e-01, 1.39511943e-01],\n",
              "       [5.89264836e-03, 8.17421854e-01, 1.76685527e-01],\n",
              "       [6.44451939e-04, 5.56557775e-02, 9.43699837e-01],\n",
              "       [5.43255992e-02, 6.76974952e-01, 2.68699467e-01],\n",
              "       [8.29937831e-02, 6.68719888e-01, 2.48286352e-01],\n",
              "       [6.01410747e-01, 8.69605616e-02, 3.11628640e-01],\n",
              "       [1.68880820e-01, 3.25890958e-01, 5.05228281e-01],\n",
              "       [2.08196533e-03, 7.59001632e-05, 9.97842073e-01],\n",
              "       [1.55253075e-02, 2.05341429e-02, 9.63940561e-01],\n",
              "       [2.01732479e-03, 2.21512187e-02, 9.75831449e-01],\n",
              "       [8.29937831e-02, 6.68719888e-01, 2.48286352e-01],\n",
              "       [4.88135926e-02, 8.05154383e-01, 1.46032035e-01],\n",
              "       [8.40406343e-02, 6.59781322e-03, 9.09361482e-01],\n",
              "       [8.02483037e-03, 5.07962592e-02, 9.41178918e-01],\n",
              "       [1.14701673e-01, 8.45818579e-01, 3.94796915e-02],\n",
              "       [1.70039847e-01, 5.82539558e-01, 2.47420564e-01],\n",
              "       [2.32838586e-01, 5.91299891e-01, 1.75861523e-01],\n",
              "       [1.91189665e-02, 7.89164603e-01, 1.91716477e-01],\n",
              "       [4.14639786e-02, 7.53224313e-01, 2.05311701e-01],\n",
              "       [1.52348084e-02, 8.94772470e-01, 8.99927840e-02],\n",
              "       [1.77902639e-01, 4.47452605e-01, 3.74644727e-01],\n",
              "       [6.15864098e-01, 2.41520554e-01, 1.42615363e-01],\n",
              "       [8.29937831e-02, 6.68719888e-01, 2.48286352e-01],\n",
              "       [8.29937831e-02, 6.68719888e-01, 2.48286352e-01],\n",
              "       [6.20354533e-01, 2.26358443e-01, 1.53286979e-01],\n",
              "       [8.29937831e-02, 6.68719888e-01, 2.48286352e-01],\n",
              "       [2.89516971e-02, 7.79527947e-02, 8.93095553e-01],\n",
              "       [5.51206172e-02, 4.44132775e-01, 5.00746608e-01],\n",
              "       [8.29937831e-02, 6.68719888e-01, 2.48286352e-01],\n",
              "       [8.29937831e-02, 6.68719888e-01, 2.48286352e-01],\n",
              "       [1.91189665e-02, 7.89164603e-01, 1.91716477e-01],\n",
              "       [1.09551914e-01, 5.62709689e-01, 3.27738345e-01],\n",
              "       [2.27317736e-02, 8.33986998e-01, 1.43281221e-01],\n",
              "       [4.58859839e-02, 3.69724900e-01, 5.84389150e-01],\n",
              "       [8.29937831e-02, 6.68719888e-01, 2.48286352e-01],\n",
              "       [8.29937831e-02, 6.68719888e-01, 2.48286352e-01],\n",
              "       [3.61312255e-02, 8.98669600e-01, 6.51992187e-02],\n",
              "       [1.43370435e-01, 4.27718788e-01, 4.28910732e-01],\n",
              "       [1.17695611e-02, 4.85806704e-01, 5.02423763e-01],\n",
              "       [2.35052556e-01, 3.28650534e-01, 4.36296910e-01],\n",
              "       [1.41093045e-01, 6.84191525e-01, 1.74715415e-01],\n",
              "       [8.29937831e-02, 6.68719888e-01, 2.48286352e-01],\n",
              "       [8.89477378e-04, 3.94668942e-03, 9.95163798e-01],\n",
              "       [4.80757318e-02, 7.66801715e-01, 1.85122550e-01],\n",
              "       [1.09551914e-01, 5.62709689e-01, 3.27738345e-01],\n",
              "       [8.29937831e-02, 6.68719888e-01, 2.48286352e-01],\n",
              "       [2.17696046e-03, 3.27463240e-05, 9.97790337e-01],\n",
              "       [1.68880820e-01, 3.25890958e-01, 5.05228281e-01],\n",
              "       [3.44942622e-02, 8.23689580e-01, 1.41816109e-01],\n",
              "       [5.47009945e-01, 2.88151562e-01, 1.64838523e-01],\n",
              "       [1.70039847e-01, 5.82539558e-01, 2.47420564e-01],\n",
              "       [5.65863311e-01, 3.42367053e-01, 9.17696580e-02],\n",
              "       [5.43255992e-02, 6.76974952e-01, 2.68699467e-01],\n",
              "       [9.87994149e-02, 6.19789958e-01, 2.81410635e-01],\n",
              "       [6.70033276e-01, 2.17847135e-02, 3.08182001e-01],\n",
              "       [8.29937831e-02, 6.68719888e-01, 2.48286352e-01]], dtype=float32)"
            ]
          },
          "metadata": {
            "tags": []
          },
          "execution_count": 72
        }
      ]
    },
    {
      "cell_type": "code",
      "metadata": {
        "id": "0SN6kFoH0Xr6",
        "colab_type": "code",
        "outputId": "14aff41c-7114-49d0-9c05-a2c3e0c269e7",
        "colab": {
          "base_uri": "https://localhost:8080/",
          "height": 34
        }
      },
      "source": [
        "xgb = xgb[:,1] >= 0.3\n",
        "\n",
        "# converting the results to integer type\n",
        "xgb_int=xgb.astype(np.int)\n",
        "\n",
        "# calculating f1 score\n",
        "xgb_bow=f1_score(y_valid_bow,xgb_int,average='micro')\n",
        "\n",
        "xgb_bow"
      ],
      "execution_count": 73,
      "outputs": [
        {
          "output_type": "execute_result",
          "data": {
            "text/plain": [
              "0.3157894736842105"
            ]
          },
          "metadata": {
            "tags": []
          },
          "execution_count": 73
        }
      ]
    },
    {
      "cell_type": "code",
      "metadata": {
        "id": "8YBw5FnP0iMP",
        "colab_type": "code",
        "outputId": "424180d1-c98f-4412-f536-d3e7e24fa30a",
        "colab": {
          "base_uri": "https://localhost:8080/",
          "height": 1000
        }
      },
      "source": [
        "model_tfidf = XGBClassifier(random_state=2,learning_rate=0.7)\n",
        "model_tfidf.fit(x_train_tfidf, y_train_tfidf)\n",
        "xgb_tfidf=model_tfidf.predict_proba(x_valid_tfidf)\n",
        "\n",
        "xgb_tfidf"
      ],
      "execution_count": 74,
      "outputs": [
        {
          "output_type": "execute_result",
          "data": {
            "text/plain": [
              "array([[2.25013718e-02, 7.68319666e-02, 9.00666714e-01],\n",
              "       [5.35187172e-03, 9.15841520e-01, 7.88066015e-02],\n",
              "       [5.89693114e-02, 7.71151066e-01, 1.69879615e-01],\n",
              "       [8.53608623e-02, 1.27020314e-01, 7.87618816e-01],\n",
              "       [4.00462411e-02, 2.91181207e-01, 6.68772519e-01],\n",
              "       [8.96705091e-02, 6.52005494e-01, 2.58323997e-01],\n",
              "       [8.46209466e-01, 7.18569234e-02, 8.19336027e-02],\n",
              "       [1.14086969e-03, 1.03018181e-02, 9.88557339e-01],\n",
              "       [2.56449133e-01, 9.88976955e-02, 6.44653141e-01],\n",
              "       [1.36086300e-01, 4.71874535e-01, 3.92039180e-01],\n",
              "       [7.81875312e-01, 8.02557096e-02, 1.37868986e-01],\n",
              "       [3.37102443e-01, 6.56236231e-01, 6.66133221e-03],\n",
              "       [8.96705091e-02, 6.52005494e-01, 2.58323997e-01],\n",
              "       [1.71704311e-02, 7.17674673e-01, 2.65154868e-01],\n",
              "       [8.96705091e-02, 6.52005494e-01, 2.58323997e-01],\n",
              "       [8.96705091e-02, 6.52005494e-01, 2.58323997e-01],\n",
              "       [5.70706427e-02, 7.78519452e-01, 1.64409876e-01],\n",
              "       [9.46436599e-02, 7.15156317e-01, 1.90200001e-01],\n",
              "       [3.86542410e-01, 5.65259457e-01, 4.81981561e-02],\n",
              "       [9.25418437e-02, 7.00395644e-01, 2.07062498e-01],\n",
              "       [1.50055066e-01, 5.29358864e-01, 3.20586026e-01],\n",
              "       [8.96705091e-02, 6.52005494e-01, 2.58323997e-01],\n",
              "       [8.01783979e-01, 8.11363757e-02, 1.17079645e-01],\n",
              "       [4.92968538e-04, 9.98667002e-01, 8.40026827e-04],\n",
              "       [8.96705091e-02, 6.52005494e-01, 2.58323997e-01],\n",
              "       [3.72251467e-04, 1.06965512e-04, 9.99520779e-01],\n",
              "       [8.96705091e-02, 6.52005494e-01, 2.58323997e-01],\n",
              "       [4.63680029e-02, 1.22780904e-01, 8.30851078e-01],\n",
              "       [2.61224896e-01, 3.37257355e-01, 4.01517719e-01],\n",
              "       [3.97328436e-02, 2.10954342e-03, 9.58157659e-01],\n",
              "       [8.96705091e-02, 6.52005494e-01, 2.58323997e-01],\n",
              "       [2.70682663e-01, 2.72227656e-02, 7.02094615e-01],\n",
              "       [1.36698902e-01, 7.22671092e-01, 1.40630022e-01],\n",
              "       [3.55618671e-02, 9.39252436e-01, 2.51857322e-02],\n",
              "       [4.14585173e-01, 6.32162467e-02, 5.22198617e-01],\n",
              "       [5.64392470e-02, 7.80969858e-01, 1.62590936e-01],\n",
              "       [8.97963881e-01, 7.17736874e-03, 9.48587209e-02],\n",
              "       [1.40650962e-02, 1.17646335e-02, 9.74170208e-01],\n",
              "       [5.45219965e-02, 4.79488932e-02, 8.97529125e-01],\n",
              "       [5.70706427e-02, 7.78519452e-01, 1.64409876e-01],\n",
              "       [1.40732080e-02, 9.34907377e-01, 5.10193892e-02],\n",
              "       [3.69207039e-02, 6.46074489e-02, 8.98471892e-01],\n",
              "       [3.30721997e-02, 4.79937911e-01, 4.86989915e-01],\n",
              "       [8.96705091e-02, 6.52005494e-01, 2.58323997e-01],\n",
              "       [7.74943173e-01, 4.54886369e-02, 1.79568231e-01],\n",
              "       [1.36086300e-01, 4.71874535e-01, 3.92039180e-01],\n",
              "       [1.50716333e-02, 4.56786482e-03, 9.80360568e-01],\n",
              "       [4.08797599e-02, 9.81895328e-02, 8.60930741e-01],\n",
              "       [1.94633985e-03, 2.05917843e-03, 9.95994449e-01],\n",
              "       [8.96705091e-02, 6.52005494e-01, 2.58323997e-01],\n",
              "       [5.89693114e-02, 7.71151066e-01, 1.69879615e-01],\n",
              "       [4.80961846e-03, 5.07489953e-04, 9.94682848e-01],\n",
              "       [6.50773123e-02, 2.01631069e-01, 7.33291566e-01],\n",
              "       [3.12450267e-02, 8.07709455e-01, 1.61045521e-01],\n",
              "       [4.63680029e-02, 1.22780904e-01, 8.30851078e-01],\n",
              "       [8.34702671e-01, 1.59720585e-01, 5.57681266e-03],\n",
              "       [1.97391324e-02, 8.71345699e-01, 1.08915173e-01],\n",
              "       [4.12444100e-02, 7.83666909e-01, 1.75088719e-01],\n",
              "       [2.52383966e-02, 9.02054489e-01, 7.27071092e-02],\n",
              "       [9.54235569e-02, 6.29678965e-01, 2.74897456e-01],\n",
              "       [6.26883924e-01, 2.41693720e-01, 1.31422386e-01],\n",
              "       [8.96705091e-02, 6.52005494e-01, 2.58323997e-01],\n",
              "       [8.96705091e-02, 6.52005494e-01, 2.58323997e-01],\n",
              "       [1.84830680e-01, 6.79946482e-01, 1.35222822e-01],\n",
              "       [8.96705091e-02, 6.52005494e-01, 2.58323997e-01],\n",
              "       [2.37841662e-02, 1.72937647e-01, 8.03278148e-01],\n",
              "       [5.49014285e-02, 3.99195164e-01, 5.45903444e-01],\n",
              "       [8.96705091e-02, 6.52005494e-01, 2.58323997e-01],\n",
              "       [8.96705091e-02, 6.52005494e-01, 2.58323997e-01],\n",
              "       [2.41043530e-02, 7.95909226e-01, 1.79986417e-01],\n",
              "       [8.96705091e-02, 6.52005494e-01, 2.58323997e-01],\n",
              "       [3.32070030e-02, 8.71129811e-01, 9.56631675e-02],\n",
              "       [8.03597495e-02, 5.84305763e-01, 3.35334510e-01],\n",
              "       [8.96705091e-02, 6.52005494e-01, 2.58323997e-01],\n",
              "       [8.96705091e-02, 6.52005494e-01, 2.58323997e-01],\n",
              "       [6.39579725e-03, 5.44349909e-01, 4.49254274e-01],\n",
              "       [1.14140503e-01, 5.57042003e-01, 3.28817487e-01],\n",
              "       [2.28659548e-02, 7.94376969e-01, 1.82757065e-01],\n",
              "       [1.41451657e-01, 7.56936252e-01, 1.01612158e-01],\n",
              "       [2.39539206e-01, 6.02796137e-01, 1.57664657e-01],\n",
              "       [8.96705091e-02, 6.52005494e-01, 2.58323997e-01],\n",
              "       [1.15054823e-03, 1.90570496e-03, 9.96943772e-01],\n",
              "       [7.11617246e-02, 7.23834574e-01, 2.05003694e-01],\n",
              "       [8.96705091e-02, 6.52005494e-01, 2.58323997e-01],\n",
              "       [8.96705091e-02, 6.52005494e-01, 2.58323997e-01],\n",
              "       [7.67562911e-03, 4.52057779e-04, 9.91872251e-01],\n",
              "       [1.36086300e-01, 4.71874535e-01, 3.92039180e-01],\n",
              "       [6.56189680e-01, 3.39426219e-01, 4.38413257e-03],\n",
              "       [2.46028602e-01, 5.56972384e-01, 1.96999058e-01],\n",
              "       [1.09233912e-02, 2.26926342e-01, 7.62150288e-01],\n",
              "       [4.57006991e-01, 4.76440132e-01, 6.65529370e-02],\n",
              "       [3.30721997e-02, 4.79937911e-01, 4.86989915e-01],\n",
              "       [2.52960194e-02, 8.31968784e-01, 1.42735198e-01],\n",
              "       [2.67660588e-01, 6.55781478e-02, 6.66761279e-01],\n",
              "       [8.96705091e-02, 6.52005494e-01, 2.58323997e-01]], dtype=float32)"
            ]
          },
          "metadata": {
            "tags": []
          },
          "execution_count": 74
        }
      ]
    },
    {
      "cell_type": "code",
      "metadata": {
        "id": "Xj2bJDxP1qp5",
        "colab_type": "code",
        "outputId": "5025a058-fb1f-4ac9-e821-b5a42170e58c",
        "colab": {
          "base_uri": "https://localhost:8080/",
          "height": 34
        }
      },
      "source": [
        "xgb_tfidf=xgb_tfidf[:,1]>=0.3\n",
        "\n",
        "# converting the results to integer type\n",
        "xgb_int_tfidf=xgb_tfidf.astype(np.int)\n",
        "\n",
        "# calculating f1 score\n",
        "score=f1_score(y_valid_tfidf,xgb_int_tfidf,average='micro')\n",
        "\n",
        "score"
      ],
      "execution_count": 75,
      "outputs": [
        {
          "output_type": "execute_result",
          "data": {
            "text/plain": [
              "0.3157894736842105"
            ]
          },
          "metadata": {
            "tags": []
          },
          "execution_count": 75
        }
      ]
    },
    {
      "cell_type": "markdown",
      "metadata": {
        "id": "Sjf9vWZ0fj8V",
        "colab_type": "text"
      },
      "source": [
        "**To array** "
      ]
    },
    {
      "cell_type": "markdown",
      "metadata": {
        "id": "3Yo94PQMfgk4",
        "colab_type": "text"
      },
      "source": [
        ""
      ]
    },
    {
      "cell_type": "code",
      "metadata": {
        "id": "pr58F5LTYh-N",
        "colab_type": "code",
        "outputId": "18d98f41-8455-49ba-ca3b-77184a0ada4e",
        "colab": {
          "base_uri": "https://localhost:8080/",
          "height": 50
        }
      },
      "source": [
        "import networkx as nx\n",
        "G = nx.Graph([(1,2)])\n",
        "nx.incidence_matrix(G)\n"
      ],
      "execution_count": 76,
      "outputs": [
        {
          "output_type": "execute_result",
          "data": {
            "text/plain": [
              "<2x1 sparse matrix of type '<class 'numpy.float64'>'\n",
              "\twith 2 stored elements in Compressed Sparse Column format>"
            ]
          },
          "metadata": {
            "tags": []
          },
          "execution_count": 76
        }
      ]
    },
    {
      "cell_type": "code",
      "metadata": {
        "id": "NBcUFbXmZfok",
        "colab_type": "code",
        "outputId": "b8fd2f17-abbc-446d-93a2-0e0a80e07e7f",
        "colab": {
          "base_uri": "https://localhost:8080/",
          "height": 50
        }
      },
      "source": [
        "nx.incidence_matrix(G).todense()"
      ],
      "execution_count": 77,
      "outputs": [
        {
          "output_type": "execute_result",
          "data": {
            "text/plain": [
              "matrix([[1.],\n",
              "        [1.]])"
            ]
          },
          "metadata": {
            "tags": []
          },
          "execution_count": 77
        }
      ]
    },
    {
      "cell_type": "code",
      "metadata": {
        "id": "cqLXs7UoZg8r",
        "colab_type": "code",
        "outputId": "3ba0ef1d-f906-4a38-f2a4-01f799ee1a9a",
        "colab": {
          "base_uri": "https://localhost:8080/",
          "height": 50
        }
      },
      "source": [
        "nx.incidence_matrix(G).todense().A"
      ],
      "execution_count": 78,
      "outputs": [
        {
          "output_type": "execute_result",
          "data": {
            "text/plain": [
              "array([[1.],\n",
              "       [1.]])"
            ]
          },
          "metadata": {
            "tags": []
          },
          "execution_count": 78
        }
      ]
    },
    {
      "cell_type": "code",
      "metadata": {
        "id": "cl7Qq_rkb4IK",
        "colab_type": "code",
        "outputId": "4a850e68-a607-4b95-c31e-6c6e71983368",
        "colab": {
          "base_uri": "https://localhost:8080/",
          "height": 1000
        }
      },
      "source": [
        "pip install pipelines\n"
      ],
      "execution_count": 79,
      "outputs": [
        {
          "output_type": "stream",
          "text": [
            "Collecting pipelines\n",
            "\u001b[?25l  Downloading https://files.pythonhosted.org/packages/ee/88/eee8a83e58058094fc3cca7465c0e5fb8815210c258fe35024665f48fded/pipelines-0.0.14.tar.gz (161kB)\n",
            "\r\u001b[K     |██                              | 10kB 8.1MB/s eta 0:00:01\r\u001b[K     |████                            | 20kB 1.7MB/s eta 0:00:01\r\u001b[K     |██████                          | 30kB 2.2MB/s eta 0:00:01\r\u001b[K     |████████                        | 40kB 1.7MB/s eta 0:00:01\r\u001b[K     |██████████▏                     | 51kB 1.9MB/s eta 0:00:01\r\u001b[K     |████████████▏                   | 61kB 2.2MB/s eta 0:00:01\r\u001b[K     |██████████████▏                 | 71kB 2.4MB/s eta 0:00:01\r\u001b[K     |████████████████▏               | 81kB 2.5MB/s eta 0:00:01\r\u001b[K     |██████████████████▏             | 92kB 2.8MB/s eta 0:00:01\r\u001b[K     |████████████████████▎           | 102kB 2.8MB/s eta 0:00:01\r\u001b[K     |██████████████████████▎         | 112kB 2.8MB/s eta 0:00:01\r\u001b[K     |████████████████████████▎       | 122kB 2.8MB/s eta 0:00:01\r\u001b[K     |██████████████████████████▎     | 133kB 2.8MB/s eta 0:00:01\r\u001b[K     |████████████████████████████▎   | 143kB 2.8MB/s eta 0:00:01\r\u001b[K     |██████████████████████████████▍ | 153kB 2.8MB/s eta 0:00:01\r\u001b[K     |████████████████████████████████| 163kB 2.8MB/s \n",
            "\u001b[?25hCollecting futures==3.0.5\n",
            "  Downloading https://files.pythonhosted.org/packages/55/db/97c1ca37edab586a1ae03d6892b6633d8eaa23b23ac40c7e5bbc55423c78/futures-3.0.5.tar.gz\n",
            "Collecting Jinja2==2.8\n",
            "\u001b[?25l  Downloading https://files.pythonhosted.org/packages/96/a1/c56bc4d99dc2663514a8481511e80eba8994133ae75eebdadfc91a5597d9/Jinja2-2.8-py2.py3-none-any.whl (263kB)\n",
            "\r\u001b[K     |█▎                              | 10kB 28.3MB/s eta 0:00:01\r\u001b[K     |██▌                             | 20kB 10.7MB/s eta 0:00:01\r\u001b[K     |███▊                            | 30kB 14.7MB/s eta 0:00:01\r\u001b[K     |█████                           | 40kB 8.8MB/s eta 0:00:01\r\u001b[K     |██████▏                         | 51kB 6.9MB/s eta 0:00:01\r\u001b[K     |███████▌                        | 61kB 8.1MB/s eta 0:00:01\r\u001b[K     |████████▊                       | 71kB 7.1MB/s eta 0:00:01\r\u001b[K     |██████████                      | 81kB 6.4MB/s eta 0:00:01\r\u001b[K     |███████████▏                    | 92kB 7.1MB/s eta 0:00:01\r\u001b[K     |████████████▍                   | 102kB 6.9MB/s eta 0:00:01\r\u001b[K     |█████████████▋                  | 112kB 6.9MB/s eta 0:00:01\r\u001b[K     |███████████████                 | 122kB 6.9MB/s eta 0:00:01\r\u001b[K     |████████████████▏               | 133kB 6.9MB/s eta 0:00:01\r\u001b[K     |█████████████████▍              | 143kB 6.9MB/s eta 0:00:01\r\u001b[K     |██████████████████▋             | 153kB 6.9MB/s eta 0:00:01\r\u001b[K     |███████████████████▉            | 163kB 6.9MB/s eta 0:00:01\r\u001b[K     |█████████████████████           | 174kB 6.9MB/s eta 0:00:01\r\u001b[K     |██████████████████████▍         | 184kB 6.9MB/s eta 0:00:01\r\u001b[K     |███████████████████████▋        | 194kB 6.9MB/s eta 0:00:01\r\u001b[K     |████████████████████████▉       | 204kB 6.9MB/s eta 0:00:01\r\u001b[K     |██████████████████████████      | 215kB 6.9MB/s eta 0:00:01\r\u001b[K     |███████████████████████████▎    | 225kB 6.9MB/s eta 0:00:01\r\u001b[K     |████████████████████████████▋   | 235kB 6.9MB/s eta 0:00:01\r\u001b[K     |█████████████████████████████▉  | 245kB 6.9MB/s eta 0:00:01\r\u001b[K     |███████████████████████████████ | 256kB 6.9MB/s eta 0:00:01\r\u001b[K     |████████████████████████████████| 266kB 6.9MB/s \n",
            "\u001b[?25hCollecting PyYAML==3.11\n",
            "\u001b[?25l  Downloading https://files.pythonhosted.org/packages/75/5e/b84feba55e20f8da46ead76f14a3943c8cb722d40360702b2365b91dec00/PyYAML-3.11.tar.gz (248kB)\n",
            "\r\u001b[K     |█▎                              | 10kB 27.8MB/s eta 0:00:01\r\u001b[K     |██▋                             | 20kB 26.8MB/s eta 0:00:01\r\u001b[K     |████                            | 30kB 33.0MB/s eta 0:00:01\r\u001b[K     |█████▎                          | 40kB 16.5MB/s eta 0:00:01\r\u001b[K     |██████▋                         | 51kB 12.0MB/s eta 0:00:01\r\u001b[K     |████████                        | 61kB 13.7MB/s eta 0:00:01\r\u001b[K     |█████████▎                      | 71kB 11.9MB/s eta 0:00:01\r\u001b[K     |██████████▌                     | 81kB 10.6MB/s eta 0:00:01\r\u001b[K     |███████████▉                    | 92kB 11.7MB/s eta 0:00:01\r\u001b[K     |█████████████▏                  | 102kB 8.4MB/s eta 0:00:01\r\u001b[K     |██████████████▌                 | 112kB 8.4MB/s eta 0:00:01\r\u001b[K     |███████████████▉                | 122kB 8.4MB/s eta 0:00:01\r\u001b[K     |█████████████████▏              | 133kB 8.4MB/s eta 0:00:01\r\u001b[K     |██████████████████▌             | 143kB 8.4MB/s eta 0:00:01\r\u001b[K     |███████████████████▊            | 153kB 8.4MB/s eta 0:00:01\r\u001b[K     |█████████████████████           | 163kB 8.4MB/s eta 0:00:01\r\u001b[K     |██████████████████████▍         | 174kB 8.4MB/s eta 0:00:01\r\u001b[K     |███████████████████████▊        | 184kB 8.4MB/s eta 0:00:01\r\u001b[K     |█████████████████████████       | 194kB 8.4MB/s eta 0:00:01\r\u001b[K     |██████████████████████████▍     | 204kB 8.4MB/s eta 0:00:01\r\u001b[K     |███████████████████████████▊    | 215kB 8.4MB/s eta 0:00:01\r\u001b[K     |█████████████████████████████   | 225kB 8.4MB/s eta 0:00:01\r\u001b[K     |██████████████████████████████▎ | 235kB 8.4MB/s eta 0:00:01\r\u001b[K     |███████████████████████████████▋| 245kB 8.4MB/s eta 0:00:01\r\u001b[K     |████████████████████████████████| 256kB 8.4MB/s \n",
            "\u001b[?25hCollecting requests==2.9.1\n",
            "\u001b[?25l  Downloading https://files.pythonhosted.org/packages/b8/f7/3bb4d18c234a8ce7044d5ee2e1082b7d72bf6c550afb8d51ae266dea56f1/requests-2.9.1-py2.py3-none-any.whl (501kB)\n",
            "\r\u001b[K     |▋                               | 10kB 24.8MB/s eta 0:00:01\r\u001b[K     |█▎                              | 20kB 32.2MB/s eta 0:00:01\r\u001b[K     |██                              | 30kB 39.4MB/s eta 0:00:01\r\u001b[K     |██▋                             | 40kB 18.0MB/s eta 0:00:01\r\u001b[K     |███▎                            | 51kB 12.5MB/s eta 0:00:01\r\u001b[K     |████                            | 61kB 14.3MB/s eta 0:00:01\r\u001b[K     |████▋                           | 71kB 14.1MB/s eta 0:00:01\r\u001b[K     |█████▎                          | 81kB 11.4MB/s eta 0:00:01\r\u001b[K     |█████▉                          | 92kB 12.5MB/s eta 0:00:01\r\u001b[K     |██████▌                         | 102kB 11.6MB/s eta 0:00:01\r\u001b[K     |███████▏                        | 112kB 11.6MB/s eta 0:00:01\r\u001b[K     |███████▉                        | 122kB 11.6MB/s eta 0:00:01\r\u001b[K     |████████▌                       | 133kB 11.6MB/s eta 0:00:01\r\u001b[K     |█████████▏                      | 143kB 11.6MB/s eta 0:00:01\r\u001b[K     |█████████▉                      | 153kB 11.6MB/s eta 0:00:01\r\u001b[K     |██████████▌                     | 163kB 11.6MB/s eta 0:00:01\r\u001b[K     |███████████▏                    | 174kB 11.6MB/s eta 0:00:01\r\u001b[K     |███████████▊                    | 184kB 11.6MB/s eta 0:00:01\r\u001b[K     |████████████▍                   | 194kB 11.6MB/s eta 0:00:01\r\u001b[K     |█████████████                   | 204kB 11.6MB/s eta 0:00:01\r\u001b[K     |█████████████▊                  | 215kB 11.6MB/s eta 0:00:01\r\u001b[K     |██████████████▍                 | 225kB 11.6MB/s eta 0:00:01\r\u001b[K     |███████████████                 | 235kB 11.6MB/s eta 0:00:01\r\u001b[K     |███████████████▊                | 245kB 11.6MB/s eta 0:00:01\r\u001b[K     |████████████████▍               | 256kB 11.6MB/s eta 0:00:01\r\u001b[K     |█████████████████               | 266kB 11.6MB/s eta 0:00:01\r\u001b[K     |█████████████████▋              | 276kB 11.6MB/s eta 0:00:01\r\u001b[K     |██████████████████▎             | 286kB 11.6MB/s eta 0:00:01\r\u001b[K     |███████████████████             | 296kB 11.6MB/s eta 0:00:01\r\u001b[K     |███████████████████▋            | 307kB 11.6MB/s eta 0:00:01\r\u001b[K     |████████████████████▎           | 317kB 11.6MB/s eta 0:00:01\r\u001b[K     |█████████████████████           | 327kB 11.6MB/s eta 0:00:01\r\u001b[K     |█████████████████████▋          | 337kB 11.6MB/s eta 0:00:01\r\u001b[K     |██████████████████████▎         | 348kB 11.6MB/s eta 0:00:01\r\u001b[K     |██████████████████████▉         | 358kB 11.6MB/s eta 0:00:01\r\u001b[K     |███████████████████████▌        | 368kB 11.6MB/s eta 0:00:01\r\u001b[K     |████████████████████████▏       | 378kB 11.6MB/s eta 0:00:01\r\u001b[K     |████████████████████████▉       | 389kB 11.6MB/s eta 0:00:01\r\u001b[K     |█████████████████████████▌      | 399kB 11.6MB/s eta 0:00:01\r\u001b[K     |██████████████████████████▏     | 409kB 11.6MB/s eta 0:00:01\r\u001b[K     |██████████████████████████▉     | 419kB 11.6MB/s eta 0:00:01\r\u001b[K     |███████████████████████████▌    | 430kB 11.6MB/s eta 0:00:01\r\u001b[K     |████████████████████████████▏   | 440kB 11.6MB/s eta 0:00:01\r\u001b[K     |████████████████████████████▊   | 450kB 11.6MB/s eta 0:00:01\r\u001b[K     |█████████████████████████████▍  | 460kB 11.6MB/s eta 0:00:01\r\u001b[K     |██████████████████████████████  | 471kB 11.6MB/s eta 0:00:01\r\u001b[K     |██████████████████████████████▊ | 481kB 11.6MB/s eta 0:00:01\r\u001b[K     |███████████████████████████████▍| 491kB 11.6MB/s eta 0:00:01\r\u001b[K     |████████████████████████████████| 501kB 11.6MB/s \n",
            "\u001b[?25hCollecting sh==1.11\n",
            "  Downloading https://files.pythonhosted.org/packages/39/ca/1db6ebefdde0a7b5fb639ebc0527d8aab1cdc6119a8e4ac7c1c0cc222ec5/sh-1.11.tar.gz\n",
            "Collecting tornado==4.3\n",
            "\u001b[?25l  Downloading https://files.pythonhosted.org/packages/21/29/e64c97013e97d42d93b3d5997234a6f17455f3744847a7c16289289f8fa6/tornado-4.3.tar.gz (450kB)\n",
            "\r\u001b[K     |▊                               | 10kB 30.9MB/s eta 0:00:01\r\u001b[K     |█▌                              | 20kB 33.9MB/s eta 0:00:01\r\u001b[K     |██▏                             | 30kB 40.1MB/s eta 0:00:01\r\u001b[K     |███                             | 40kB 23.8MB/s eta 0:00:01\r\u001b[K     |███▋                            | 51kB 17.4MB/s eta 0:00:01\r\u001b[K     |████▍                           | 61kB 19.6MB/s eta 0:00:01\r\u001b[K     |█████                           | 71kB 18.8MB/s eta 0:00:01\r\u001b[K     |█████▉                          | 81kB 14.3MB/s eta 0:00:01\r\u001b[K     |██████▌                         | 92kB 15.7MB/s eta 0:00:01\r\u001b[K     |███████▎                        | 102kB 15.4MB/s eta 0:00:01\r\u001b[K     |████████                        | 112kB 15.4MB/s eta 0:00:01\r\u001b[K     |████████▊                       | 122kB 15.4MB/s eta 0:00:01\r\u001b[K     |█████████▌                      | 133kB 15.4MB/s eta 0:00:01\r\u001b[K     |██████████▏                     | 143kB 15.4MB/s eta 0:00:01\r\u001b[K     |███████████                     | 153kB 15.4MB/s eta 0:00:01\r\u001b[K     |███████████▋                    | 163kB 15.4MB/s eta 0:00:01\r\u001b[K     |████████████▍                   | 174kB 15.4MB/s eta 0:00:01\r\u001b[K     |█████████████                   | 184kB 15.4MB/s eta 0:00:01\r\u001b[K     |█████████████▉                  | 194kB 15.4MB/s eta 0:00:01\r\u001b[K     |██████████████▌                 | 204kB 15.4MB/s eta 0:00:01\r\u001b[K     |███████████████▎                | 215kB 15.4MB/s eta 0:00:01\r\u001b[K     |████████████████                | 225kB 15.4MB/s eta 0:00:01\r\u001b[K     |████████████████▊               | 235kB 15.4MB/s eta 0:00:01\r\u001b[K     |█████████████████▍              | 245kB 15.4MB/s eta 0:00:01\r\u001b[K     |██████████████████▏             | 256kB 15.4MB/s eta 0:00:01\r\u001b[K     |███████████████████             | 266kB 15.4MB/s eta 0:00:01\r\u001b[K     |███████████████████▋            | 276kB 15.4MB/s eta 0:00:01\r\u001b[K     |████████████████████▍           | 286kB 15.4MB/s eta 0:00:01\r\u001b[K     |█████████████████████           | 296kB 15.4MB/s eta 0:00:01\r\u001b[K     |█████████████████████▉          | 307kB 15.4MB/s eta 0:00:01\r\u001b[K     |██████████████████████▌         | 317kB 15.4MB/s eta 0:00:01\r\u001b[K     |███████████████████████▎        | 327kB 15.4MB/s eta 0:00:01\r\u001b[K     |████████████████████████        | 337kB 15.4MB/s eta 0:00:01\r\u001b[K     |████████████████████████▊       | 348kB 15.4MB/s eta 0:00:01\r\u001b[K     |█████████████████████████▍      | 358kB 15.4MB/s eta 0:00:01\r\u001b[K     |██████████████████████████▏     | 368kB 15.4MB/s eta 0:00:01\r\u001b[K     |██████████████████████████▉     | 378kB 15.4MB/s eta 0:00:01\r\u001b[K     |███████████████████████████▋    | 389kB 15.4MB/s eta 0:00:01\r\u001b[K     |████████████████████████████▍   | 399kB 15.4MB/s eta 0:00:01\r\u001b[K     |█████████████████████████████   | 409kB 15.4MB/s eta 0:00:01\r\u001b[K     |█████████████████████████████▉  | 419kB 15.4MB/s eta 0:00:01\r\u001b[K     |██████████████████████████████▌ | 430kB 15.4MB/s eta 0:00:01\r\u001b[K     |███████████████████████████████▎| 440kB 15.4MB/s eta 0:00:01\r\u001b[K     |████████████████████████████████| 450kB 15.4MB/s eta 0:00:01\r\u001b[K     |████████████████████████████████| 460kB 15.4MB/s \n",
            "\u001b[?25hRequirement already satisfied: docopt==0.6.2 in /usr/local/lib/python3.6/dist-packages (from pipelines) (0.6.2)\n",
            "Collecting dotmap==1.1.16\n",
            "  Downloading https://files.pythonhosted.org/packages/db/3d/6b2bbb4afec07a853525178456050876c5aff2db08608a03a1224dd3440e/dotmap-1.1.16.tar.gz\n",
            "Collecting schema==0.5.0\n",
            "  Downloading https://files.pythonhosted.org/packages/4b/eb/fadd6bc4967fded31495ea70aebd3bdc90b83e3944d08bfd841039062f83/schema-0.5.0.tar.gz\n",
            "Collecting filelock==2.0.6\n",
            "  Downloading https://files.pythonhosted.org/packages/4f/a2/77c853102454005ff1f95417ae7605b445836212ecd99b717a447c7fb668/filelock-2.0.6.tar.gz\n",
            "Requirement already satisfied: MarkupSafe in /usr/local/lib/python3.6/dist-packages (from Jinja2==2.8->pipelines) (1.1.1)\n",
            "Building wheels for collected packages: pipelines, futures, PyYAML, sh, tornado, dotmap, schema, filelock\n",
            "  Building wheel for pipelines (setup.py) ... \u001b[?25l\u001b[?25hdone\n",
            "  Created wheel for pipelines: filename=pipelines-0.0.14-cp36-none-any.whl size=166337 sha256=356801fdbd9003087b0cd7a26f567875d94fd608a1e96db73cc4e8a4a3e21259\n",
            "  Stored in directory: /root/.cache/pip/wheels/05/2c/fd/49cac2307d2db89b1dc67dc4659069b4f8b203d17df3b7f123\n",
            "  Building wheel for futures (setup.py) ... \u001b[?25l\u001b[?25hdone\n",
            "  Created wheel for futures: filename=futures-3.0.5-cp36-none-any.whl size=14080 sha256=46b648a740093e31d32c2a26fcea5f49a393f30849660274f0ad68bdc35fe35c\n",
            "  Stored in directory: /root/.cache/pip/wheels/a6/31/c0/fa0b3a44e765e311118963e0ab35f357afda89872ade7d83f8\n",
            "  Building wheel for PyYAML (setup.py) ... \u001b[?25l\u001b[?25hdone\n",
            "  Created wheel for PyYAML: filename=PyYAML-3.11-cp36-cp36m-linux_x86_64.whl size=42944 sha256=3beae55af1f4f51efdc3b01811464e7fd33796a83099686207dee11635778953\n",
            "  Stored in directory: /root/.cache/pip/wheels/7f/80/f3/ba284da14b9b8528fd957b3a82111f98cbe7310d2913fb514f\n",
            "  Building wheel for sh (setup.py) ... \u001b[?25l\u001b[?25hdone\n",
            "  Created wheel for sh: filename=sh-1.11-cp36-none-any.whl size=25003 sha256=c3a9977805424c8177c6203d397bf2a18ec47a65bf139c62a14d87bb312e4bc1\n",
            "  Stored in directory: /root/.cache/pip/wheels/94/a0/17/d5eb599364415a8a31b7e8ced1e9748e0054a89a6da0f7b665\n",
            "  Building wheel for tornado (setup.py) ... \u001b[?25l\u001b[?25hdone\n",
            "  Created wheel for tornado: filename=tornado-4.3-cp36-cp36m-linux_x86_64.whl size=404152 sha256=2d47df21524f74c0e4dc66769c051e47034be7875225994234824453c160c40e\n",
            "  Stored in directory: /root/.cache/pip/wheels/00/be/0e/5bd46d9f24cf214e295555ff6832782701c836695145413e70\n",
            "  Building wheel for dotmap (setup.py) ... \u001b[?25l\u001b[?25hdone\n",
            "  Created wheel for dotmap: filename=dotmap-1.1.16-cp36-none-any.whl size=2648 sha256=74174d0ced222cd0849c04108fe7766bb56cc8bfd6d86e48b275eba8aa750b83\n",
            "  Stored in directory: /root/.cache/pip/wheels/0f/3e/e7/03b7fc40788e37eebfbb017b3f4e58964ad9d49225b81e4498\n",
            "  Building wheel for schema (setup.py) ... \u001b[?25l\u001b[?25hdone\n",
            "  Created wheel for schema: filename=schema-0.5.0-cp36-none-any.whl size=7913 sha256=8076fe3da9e5d8cc006b8cd6024d59a972b9f88cce96f8232dbfc84edc2ca1a7\n",
            "  Stored in directory: /root/.cache/pip/wheels/da/6f/e5/dc3f5a59d16fd7af433de8819e83ebfb0a3b04773f1c8f0fb8\n",
            "  Building wheel for filelock (setup.py) ... \u001b[?25l\u001b[?25hdone\n",
            "  Created wheel for filelock: filename=filelock-2.0.6-cp36-none-any.whl size=8343 sha256=b9e988afe21ed180fff4dad1ab97721efd2ad0317359d233ce1be824647591c7\n",
            "  Stored in directory: /root/.cache/pip/wheels/9c/d4/21/06189f886eb1d75f31fdedc68b0168fc55a494f3c74a641fae\n",
            "Successfully built pipelines futures PyYAML sh tornado dotmap schema filelock\n",
            "\u001b[31mERROR: tweepy 3.6.0 has requirement requests>=2.11.1, but you'll have requests 2.9.1 which is incompatible.\u001b[0m\n",
            "\u001b[31mERROR: tensorflow-datasets 2.1.0 has requirement requests>=2.19.0, but you'll have requests 2.9.1 which is incompatible.\u001b[0m\n",
            "\u001b[31mERROR: tensorboard 2.2.1 has requirement requests<3,>=2.21.0, but you'll have requests 2.9.1 which is incompatible.\u001b[0m\n",
            "\u001b[31mERROR: spacy 2.2.4 has requirement requests<3.0.0,>=2.13.0, but you'll have requests 2.9.1 which is incompatible.\u001b[0m\n",
            "\u001b[31mERROR: google-colab 1.0.0 has requirement requests~=2.21.0, but you'll have requests 2.9.1 which is incompatible.\u001b[0m\n",
            "\u001b[31mERROR: google-colab 1.0.0 has requirement tornado>=4.5.0, but you'll have tornado 4.3 which is incompatible.\u001b[0m\n",
            "\u001b[31mERROR: google-api-core 1.16.0 has requirement requests<3.0.0dev,>=2.18.0, but you'll have requests 2.9.1 which is incompatible.\u001b[0m\n",
            "\u001b[31mERROR: flask 1.1.2 has requirement Jinja2>=2.10.1, but you'll have jinja2 2.8 which is incompatible.\u001b[0m\n",
            "\u001b[31mERROR: featuretools 0.4.1 has requirement pyyaml>=3.12, but you'll have pyyaml 3.11 which is incompatible.\u001b[0m\n",
            "\u001b[31mERROR: distributed 1.25.3 has requirement tornado>=4.5.1, but you'll have tornado 4.3 which is incompatible.\u001b[0m\n",
            "\u001b[31mERROR: datascience 0.10.6 has requirement folium==0.2.1, but you'll have folium 0.8.3 which is incompatible.\u001b[0m\n",
            "Installing collected packages: futures, Jinja2, PyYAML, requests, sh, tornado, dotmap, schema, filelock, pipelines\n",
            "  Found existing installation: Jinja2 2.11.2\n",
            "    Uninstalling Jinja2-2.11.2:\n",
            "      Successfully uninstalled Jinja2-2.11.2\n",
            "  Found existing installation: PyYAML 3.13\n",
            "    Uninstalling PyYAML-3.13:\n",
            "      Successfully uninstalled PyYAML-3.13\n",
            "  Found existing installation: requests 2.21.0\n",
            "    Uninstalling requests-2.21.0:\n",
            "      Successfully uninstalled requests-2.21.0\n",
            "  Found existing installation: tornado 4.5.3\n",
            "    Uninstalling tornado-4.5.3:\n",
            "      Successfully uninstalled tornado-4.5.3\n",
            "  Found existing installation: filelock 3.0.12\n",
            "    Uninstalling filelock-3.0.12:\n",
            "      Successfully uninstalled filelock-3.0.12\n",
            "Successfully installed Jinja2-2.8 PyYAML-3.11 dotmap-1.1.16 filelock-2.0.6 futures-3.0.5 pipelines-0.0.14 requests-2.9.1 schema-0.5.0 sh-1.11 tornado-4.3\n"
          ],
          "name": "stdout"
        },
        {
          "output_type": "display_data",
          "data": {
            "application/vnd.colab-display-data+json": {
              "pip_warning": {
                "packages": [
                  "concurrent",
                  "requests",
                  "tornado"
                ]
              }
            }
          },
          "metadata": {
            "tags": []
          }
        }
      ]
    },
    {
      "cell_type": "code",
      "metadata": {
        "id": "jeNSNbX2dv_I",
        "colab_type": "code",
        "outputId": "7d0db351-9e01-4b66-b5ce-d20e894b96d4",
        "colab": {
          "base_uri": "https://localhost:8080/",
          "height": 168
        }
      },
      "source": [
        "#support vector machine\n",
        "from sklearn.calibration import CalibratedClassifierCV\n",
        "from sklearn.svm import LinearSVC, SVC\n",
        "svm = SVC(gamma='auto')\n",
        "model_svc = LinearSVC()\n",
        "svm = CalibratedClassifierCV(model_svc) \n",
        "svm.fit(x_train_bow,y_train_bow)"
      ],
      "execution_count": 82,
      "outputs": [
        {
          "output_type": "execute_result",
          "data": {
            "text/plain": [
              "CalibratedClassifierCV(base_estimator=LinearSVC(C=1.0, class_weight=None,\n",
              "                                                dual=True, fit_intercept=True,\n",
              "                                                intercept_scaling=1,\n",
              "                                                loss='squared_hinge',\n",
              "                                                max_iter=1000,\n",
              "                                                multi_class='ovr', penalty='l2',\n",
              "                                                random_state=None, tol=0.0001,\n",
              "                                                verbose=0),\n",
              "                       cv=None, method='sigmoid')"
            ]
          },
          "metadata": {
            "tags": []
          },
          "execution_count": 82
        }
      ]
    },
    {
      "cell_type": "code",
      "metadata": {
        "id": "QTm0Uh-qeIAF",
        "colab_type": "code",
        "colab": {}
      },
      "source": [
        "# แก้ปัญฆา predict_proba ไม่ได้ เนื่องจาก probability=False\n",
        "import pickle\n",
        "filename = 'linearSVC.sav'\n",
        "#pickle.dump(model_svc), open(filename, 'wb'))"
      ],
      "execution_count": 0,
      "outputs": []
    },
    {
      "cell_type": "code",
      "metadata": {
        "id": "FGmwY1z7eJfa",
        "colab_type": "code",
        "outputId": "17be4d76-4d0a-4211-8bc1-ccf1ac6518e6",
        "colab": {
          "base_uri": "https://localhost:8080/",
          "height": 1000
        }
      },
      "source": [
        "svm = pickle.load(open(filename, 'rb'))\n",
        "svm_bow = svm.predict_proba(x_valid_bow)\n",
        "\n",
        "svm_bow\n",
        "\n"
      ],
      "execution_count": 87,
      "outputs": [
        {
          "output_type": "execute_result",
          "data": {
            "text/plain": [
              "array([[0.12176618, 0.05954643, 0.81868739],\n",
              "       [0.09046632, 0.53282723, 0.37670646],\n",
              "       [0.10574564, 0.53379444, 0.36045992],\n",
              "       [0.09248576, 0.69328484, 0.21422941],\n",
              "       [0.11498188, 0.37921507, 0.50580306],\n",
              "       [0.13115745, 0.55963676, 0.30920579],\n",
              "       [0.49107393, 0.13654026, 0.37238581],\n",
              "       [0.03590201, 0.27870561, 0.68539238],\n",
              "       [0.22211226, 0.07894409, 0.69894365],\n",
              "       [0.20287946, 0.43773036, 0.35939018],\n",
              "       [0.20825518, 0.33037988, 0.46136495],\n",
              "       [0.34390631, 0.51199013, 0.14410355],\n",
              "       [0.18862329, 0.55684049, 0.25453622],\n",
              "       [0.10270195, 0.30561774, 0.59168031],\n",
              "       [0.07648186, 0.66177866, 0.26173949],\n",
              "       [0.14444688, 0.56930481, 0.28624831],\n",
              "       [0.11572223, 0.68791066, 0.19636711],\n",
              "       [0.07599256, 0.66040681, 0.26360063],\n",
              "       [0.07419012, 0.78962945, 0.13618043],\n",
              "       [0.25198052, 0.56479806, 0.18322142],\n",
              "       [0.45986867, 0.37821606, 0.16191527],\n",
              "       [0.1317552 , 0.390326  , 0.4779188 ],\n",
              "       [0.18418079, 0.32800858, 0.48781062],\n",
              "       [0.11865932, 0.64034837, 0.24099231],\n",
              "       [0.14444688, 0.56930481, 0.28624831],\n",
              "       [0.02197176, 0.03582249, 0.94220575],\n",
              "       [0.32986589, 0.46743457, 0.20269955],\n",
              "       [0.2025393 , 0.55443506, 0.24302565],\n",
              "       [0.1028197 , 0.4449133 , 0.45226699],\n",
              "       [0.10993957, 0.01493445, 0.87512597],\n",
              "       [0.51508165, 0.33986374, 0.14505461],\n",
              "       [0.25722613, 0.08777737, 0.6549965 ],\n",
              "       [0.07174698, 0.41241694, 0.51583608],\n",
              "       [0.13656449, 0.48303378, 0.38040174],\n",
              "       [0.0844598 , 0.13349976, 0.78204044],\n",
              "       [0.13635828, 0.59006667, 0.27357505],\n",
              "       [0.04910173, 0.10444252, 0.84645576],\n",
              "       [0.21267617, 0.36033213, 0.4269917 ],\n",
              "       [0.27877385, 0.21767358, 0.50355257],\n",
              "       [0.18171754, 0.43584128, 0.38244119],\n",
              "       [0.07462907, 0.65106757, 0.27430336],\n",
              "       [0.07561094, 0.28159917, 0.64278989],\n",
              "       [0.1253072 , 0.25158928, 0.62310351],\n",
              "       [0.20314291, 0.56096106, 0.23589603],\n",
              "       [0.33726812, 0.36807495, 0.29465693],\n",
              "       [0.16426293, 0.18267967, 0.6530574 ],\n",
              "       [0.12408181, 0.02808568, 0.8478325 ],\n",
              "       [0.14412816, 0.20525664, 0.6506152 ],\n",
              "       [0.02368702, 0.23963235, 0.73668063],\n",
              "       [0.14444688, 0.56930481, 0.28624831],\n",
              "       [0.10388652, 0.69029862, 0.20581486],\n",
              "       [0.13664883, 0.0739316 , 0.78941957],\n",
              "       [0.04494381, 0.35929697, 0.59575923],\n",
              "       [0.23224035, 0.37662241, 0.39113724],\n",
              "       [0.13441628, 0.49908205, 0.36650168],\n",
              "       [0.18867309, 0.5288499 , 0.28247701],\n",
              "       [0.06011792, 0.70970682, 0.23017526],\n",
              "       [0.05718317, 0.26959094, 0.67322589],\n",
              "       [0.0601856 , 0.61540026, 0.32441415],\n",
              "       [0.22452723, 0.3629629 , 0.41250987],\n",
              "       [0.31027208, 0.42162015, 0.26810777],\n",
              "       [0.3540201 , 0.49501441, 0.15096549],\n",
              "       [0.14444688, 0.56930481, 0.28624831],\n",
              "       [0.12505091, 0.25194594, 0.62300315],\n",
              "       [0.13893527, 0.60089821, 0.26016652],\n",
              "       [0.15781598, 0.24410157, 0.59808245],\n",
              "       [0.09116122, 0.49449709, 0.4143417 ],\n",
              "       [0.13172953, 0.63106887, 0.2372016 ],\n",
              "       [0.09484201, 0.71763026, 0.18752773],\n",
              "       [0.10646491, 0.56826111, 0.32527398],\n",
              "       [0.24746605, 0.43076711, 0.32176684],\n",
              "       [0.09502272, 0.72174398, 0.1832333 ],\n",
              "       [0.39966679, 0.191821  , 0.4085122 ],\n",
              "       [0.11083346, 0.43136516, 0.45780138],\n",
              "       [0.16468981, 0.63143575, 0.20387444],\n",
              "       [0.13163786, 0.61830666, 0.25005548],\n",
              "       [0.34168522, 0.28355173, 0.37476305],\n",
              "       [0.07893928, 0.1863127 , 0.73474802],\n",
              "       [0.39110194, 0.29074725, 0.31815081],\n",
              "       [0.4719039 , 0.24804225, 0.28005386],\n",
              "       [0.14444688, 0.56930481, 0.28624831],\n",
              "       [0.05274586, 0.09706159, 0.85019255],\n",
              "       [0.19918103, 0.35933063, 0.44148835],\n",
              "       [0.27545161, 0.31429671, 0.41025168],\n",
              "       [0.11762137, 0.64047172, 0.24190691],\n",
              "       [0.07629887, 0.03244789, 0.89125324],\n",
              "       [0.21194442, 0.39655931, 0.39149627],\n",
              "       [0.11948259, 0.57658355, 0.30393386],\n",
              "       [0.17137593, 0.33817523, 0.49044884],\n",
              "       [0.15018693, 0.61160784, 0.23820523],\n",
              "       [0.22558303, 0.40560492, 0.36881205],\n",
              "       [0.07998936, 0.51416116, 0.40584948],\n",
              "       [0.13108174, 0.35282157, 0.5160967 ],\n",
              "       [0.3410888 , 0.15273588, 0.50617532],\n",
              "       [0.09145074, 0.6158438 , 0.29270546]])"
            ]
          },
          "metadata": {
            "tags": []
          },
          "execution_count": 87
        }
      ]
    },
    {
      "cell_type": "code",
      "metadata": {
        "id": "uMzlL1mCePqV",
        "colab_type": "code",
        "outputId": "40e8116f-8337-40c3-a182-9e31f38d5779",
        "colab": {
          "base_uri": "https://localhost:8080/",
          "height": 34
        }
      },
      "source": [
        "\n",
        "\n",
        "svm_bow=svm_bow[:,1]>=0.3\n",
        "# converting the results to integer type\n",
        "svm_int_bow=svm_bow.astype(np.int)\n",
        "# calculating f1 score\n",
        "svm_score_bow=f1_score(y_valid_bow,svm_int_bow,average='micro')\n",
        "\n",
        "svm_score_bow"
      ],
      "execution_count": 88,
      "outputs": [
        {
          "output_type": "execute_result",
          "data": {
            "text/plain": [
              "0.3684210526315789"
            ]
          },
          "metadata": {
            "tags": []
          },
          "execution_count": 88
        }
      ]
    },
    {
      "cell_type": "code",
      "metadata": {
        "id": "pqsl_FObdBUT",
        "colab_type": "code",
        "outputId": "7118383b-cd47-4ff6-c556-2d170858f1aa",
        "colab": {
          "base_uri": "https://localhost:8080/",
          "height": 1000
        }
      },
      "source": [
        "\n",
        "svm.fit(x_train_tfidf,y_train_tfidf)\n",
        "svm_tfidf = svm.predict_proba(x_valid_tfidf)\n",
        "\n",
        "svm_tfidf"
      ],
      "execution_count": 89,
      "outputs": [
        {
          "output_type": "execute_result",
          "data": {
            "text/plain": [
              "array([[0.15313716, 0.17417414, 0.6726887 ],\n",
              "       [0.06658198, 0.48821581, 0.44520221],\n",
              "       [0.09182746, 0.41813802, 0.49003453],\n",
              "       [0.10539766, 0.65715454, 0.2374478 ],\n",
              "       [0.12948809, 0.37424778, 0.49626413],\n",
              "       [0.10799674, 0.52172271, 0.37028055],\n",
              "       [0.5261298 , 0.06751116, 0.40635904],\n",
              "       [0.03653171, 0.28805111, 0.67541718],\n",
              "       [0.24196303, 0.06860848, 0.68942849],\n",
              "       [0.1230005 , 0.40717049, 0.46982901],\n",
              "       [0.14036976, 0.27269996, 0.58693027],\n",
              "       [0.36407317, 0.48047439, 0.15545244],\n",
              "       [0.2309277 , 0.54561114, 0.22346116],\n",
              "       [0.09552598, 0.32980057, 0.57467346],\n",
              "       [0.05391067, 0.62280574, 0.32328359],\n",
              "       [0.12529659, 0.58056934, 0.29413407],\n",
              "       [0.09019285, 0.74620229, 0.16360486],\n",
              "       [0.07143896, 0.67053422, 0.25802682],\n",
              "       [0.07210973, 0.79053182, 0.13735845],\n",
              "       [0.22937598, 0.60293211, 0.16769191],\n",
              "       [0.42463072, 0.41617685, 0.15919243],\n",
              "       [0.15126989, 0.35221981, 0.49651029],\n",
              "       [0.13808947, 0.31044904, 0.55146149],\n",
              "       [0.09704587, 0.7657697 , 0.13718443],\n",
              "       [0.12529659, 0.58056934, 0.29413407],\n",
              "       [0.03810852, 0.11612572, 0.84576576],\n",
              "       [0.43424662, 0.40303697, 0.1627164 ],\n",
              "       [0.19927021, 0.57206346, 0.22866633],\n",
              "       [0.11794369, 0.47150123, 0.41055508],\n",
              "       [0.1055122 , 0.04828979, 0.84619801],\n",
              "       [0.67238292, 0.22825671, 0.09936036],\n",
              "       [0.18760455, 0.17249277, 0.63990268],\n",
              "       [0.0715771 , 0.41799595, 0.51042694],\n",
              "       [0.10337094, 0.55068847, 0.34594059],\n",
              "       [0.13249744, 0.28392338, 0.58357918],\n",
              "       [0.10464726, 0.66693008, 0.22842266],\n",
              "       [0.05916237, 0.21631203, 0.7245256 ],\n",
              "       [0.23278801, 0.36072859, 0.4064834 ],\n",
              "       [0.26438411, 0.28035084, 0.45526506],\n",
              "       [0.18286963, 0.49281099, 0.32431938],\n",
              "       [0.05633277, 0.70717923, 0.236488  ],\n",
              "       [0.14397487, 0.32440155, 0.53162358],\n",
              "       [0.10927078, 0.17219414, 0.71853508],\n",
              "       [0.14134162, 0.61125678, 0.24740159],\n",
              "       [0.27357866, 0.50619579, 0.22022555],\n",
              "       [0.10646436, 0.24064453, 0.65289111],\n",
              "       [0.11100501, 0.05770631, 0.83128868],\n",
              "       [0.14330033, 0.13817736, 0.71852231],\n",
              "       [0.02394674, 0.19598837, 0.78006489],\n",
              "       [0.12529659, 0.58056934, 0.29413407],\n",
              "       [0.0735346 , 0.79164273, 0.13482266],\n",
              "       [0.15296483, 0.06698794, 0.78004724],\n",
              "       [0.04370445, 0.1985703 , 0.75772525],\n",
              "       [0.18469685, 0.40072336, 0.41457979],\n",
              "       [0.11643119, 0.43511319, 0.44845562],\n",
              "       [0.16898062, 0.58330447, 0.24771491],\n",
              "       [0.05160208, 0.74407158, 0.20432634],\n",
              "       [0.05977224, 0.36268153, 0.57754623],\n",
              "       [0.04054968, 0.48440857, 0.47504175],\n",
              "       [0.14557894, 0.40184841, 0.45257265],\n",
              "       [0.48873397, 0.25910733, 0.2521587 ],\n",
              "       [0.4145161 , 0.48908241, 0.09640149],\n",
              "       [0.11935529, 0.51913257, 0.36151215],\n",
              "       [0.11965095, 0.15712713, 0.72322192],\n",
              "       [0.10546528, 0.69068717, 0.20384755],\n",
              "       [0.11764915, 0.24077809, 0.64157276],\n",
              "       [0.07102062, 0.46069026, 0.46828912],\n",
              "       [0.1017446 , 0.62299968, 0.27525572],\n",
              "       [0.08586419, 0.73678797, 0.17734784],\n",
              "       [0.07891883, 0.60178955, 0.31929162],\n",
              "       [0.22366877, 0.33617717, 0.44015406],\n",
              "       [0.09667285, 0.75040158, 0.15292557],\n",
              "       [0.39181338, 0.25476621, 0.3534204 ],\n",
              "       [0.08615276, 0.41779088, 0.49605636],\n",
              "       [0.15495794, 0.59551511, 0.24952695],\n",
              "       [0.1272746 , 0.59759819, 0.27512722],\n",
              "       [0.4023275 , 0.22712283, 0.37054967],\n",
              "       [0.0875256 , 0.20655171, 0.70592269],\n",
              "       [0.32186708, 0.40176578, 0.27636714],\n",
              "       [0.43758462, 0.33096522, 0.23145016],\n",
              "       [0.12529659, 0.58056934, 0.29413407],\n",
              "       [0.04850413, 0.10344606, 0.84804981],\n",
              "       [0.15076245, 0.2823206 , 0.56691695],\n",
              "       [0.20273015, 0.20752063, 0.58974922],\n",
              "       [0.08851218, 0.71252386, 0.19896396],\n",
              "       [0.09367544, 0.04954766, 0.8567769 ],\n",
              "       [0.11295381, 0.41973471, 0.46731148],\n",
              "       [0.12422736, 0.65237852, 0.22339412],\n",
              "       [0.12635911, 0.31198135, 0.56165954],\n",
              "       [0.19716993, 0.48804927, 0.3147808 ],\n",
              "       [0.1847791 , 0.57958754, 0.23563336],\n",
              "       [0.05926764, 0.48454044, 0.45619193],\n",
              "       [0.13345301, 0.39989599, 0.466651  ],\n",
              "       [0.33566727, 0.22799186, 0.43634088],\n",
              "       [0.07292206, 0.56839404, 0.3586839 ]])"
            ]
          },
          "metadata": {
            "tags": []
          },
          "execution_count": 89
        }
      ]
    },
    {
      "cell_type": "code",
      "metadata": {
        "id": "_5pdwCZjy-kZ",
        "colab_type": "code",
        "outputId": "b96b1ca2-ff5e-4be9-8aab-5f69cbfb17c8",
        "colab": {
          "base_uri": "https://localhost:8080/",
          "height": 34
        }
      },
      "source": [
        "svm_tfidf=svm_tfidf[:,1]>=0.3\n",
        "\n",
        "# converting the results to integer type\n",
        "svm_int_tfidf=svm_tfidf.astype(np.int)\n",
        "\n",
        "# calculating f1 score\n",
        "svm_score_tfidf=f1_score(y_valid_tfidf,svm_int_tfidf,average='micro')\n",
        "\n",
        "svm_score_tfidf"
      ],
      "execution_count": 90,
      "outputs": [
        {
          "output_type": "execute_result",
          "data": {
            "text/plain": [
              "0.3368421052631579"
            ]
          },
          "metadata": {
            "tags": []
          },
          "execution_count": 90
        }
      ]
    },
    {
      "cell_type": "markdown",
      "metadata": {
        "id": "oCJPLZkA4xIk",
        "colab_type": "text"
      },
      "source": [
        "**Model Comparison**"
      ]
    },
    {
      "cell_type": "code",
      "metadata": {
        "id": "RCNWUQkW4uNy",
        "colab_type": "code",
        "outputId": "f1e19edd-5a98-4fc5-f220-f8338f739601",
        "colab": {
          "base_uri": "https://localhost:8080/",
          "height": 106
        }
      },
      "source": [
        "# Bag-of-Words\n",
        "Algo_1 = ['LogisticRegression(Bag-of-Words)','XGBoost(Bag-of-Words)','support vector machine(Bag-of-Words)']\n",
        "\n",
        "score_1 = [log_bow,xgb_bow,svm_score_bow]\n",
        "\n",
        "compare_1 = pd.DataFrame({'Model':Algo_1,'F1_Score':score_1},index=[i for i in range(1,4)])\n",
        "\n",
        "compare_1.T"
      ],
      "execution_count": 91,
      "outputs": [
        {
          "output_type": "execute_result",
          "data": {
            "text/html": [
              "<div>\n",
              "<style scoped>\n",
              "    .dataframe tbody tr th:only-of-type {\n",
              "        vertical-align: middle;\n",
              "    }\n",
              "\n",
              "    .dataframe tbody tr th {\n",
              "        vertical-align: top;\n",
              "    }\n",
              "\n",
              "    .dataframe thead th {\n",
              "        text-align: right;\n",
              "    }\n",
              "</style>\n",
              "<table border=\"1\" class=\"dataframe\">\n",
              "  <thead>\n",
              "    <tr style=\"text-align: right;\">\n",
              "      <th></th>\n",
              "      <th>1</th>\n",
              "      <th>2</th>\n",
              "      <th>3</th>\n",
              "    </tr>\n",
              "  </thead>\n",
              "  <tbody>\n",
              "    <tr>\n",
              "      <th>Model</th>\n",
              "      <td>LogisticRegression(Bag-of-Words)</td>\n",
              "      <td>XGBoost(Bag-of-Words)</td>\n",
              "      <td>support vector machine(Bag-of-Words)</td>\n",
              "    </tr>\n",
              "    <tr>\n",
              "      <th>F1_Score</th>\n",
              "      <td>0.315789</td>\n",
              "      <td>0.315789</td>\n",
              "      <td>0.368421</td>\n",
              "    </tr>\n",
              "  </tbody>\n",
              "</table>\n",
              "</div>"
            ],
            "text/plain": [
              "                                         1  ...                                     3\n",
              "Model     LogisticRegression(Bag-of-Words)  ...  support vector machine(Bag-of-Words)\n",
              "F1_Score                          0.315789  ...                              0.368421\n",
              "\n",
              "[2 rows x 3 columns]"
            ]
          },
          "metadata": {
            "tags": []
          },
          "execution_count": 91
        }
      ]
    },
    {
      "cell_type": "code",
      "metadata": {
        "id": "V7ygyr0C5Nb3",
        "colab_type": "code",
        "outputId": "26b7b921-675e-40ee-d222-c70d2f614255",
        "colab": {
          "base_uri": "https://localhost:8080/",
          "height": 106
        }
      },
      "source": [
        "# TF-IDF\n",
        "Algo_2 = ['LogisticRegression(TF-IDF)','XGBoost(TF-IDF)','support vector machine(TF-IDF)']\n",
        "\n",
        "score_2 = [log_tfidf,score,svm_score_tfidf]\n",
        "\n",
        "compare_2 = pd.DataFrame({'Model':Algo_2,'F1_Score':score_2},index=[i for i in range(1,4)])\n",
        "\n",
        "compare_2.T"
      ],
      "execution_count": 92,
      "outputs": [
        {
          "output_type": "execute_result",
          "data": {
            "text/html": [
              "<div>\n",
              "<style scoped>\n",
              "    .dataframe tbody tr th:only-of-type {\n",
              "        vertical-align: middle;\n",
              "    }\n",
              "\n",
              "    .dataframe tbody tr th {\n",
              "        vertical-align: top;\n",
              "    }\n",
              "\n",
              "    .dataframe thead th {\n",
              "        text-align: right;\n",
              "    }\n",
              "</style>\n",
              "<table border=\"1\" class=\"dataframe\">\n",
              "  <thead>\n",
              "    <tr style=\"text-align: right;\">\n",
              "      <th></th>\n",
              "      <th>1</th>\n",
              "      <th>2</th>\n",
              "      <th>3</th>\n",
              "    </tr>\n",
              "  </thead>\n",
              "  <tbody>\n",
              "    <tr>\n",
              "      <th>Model</th>\n",
              "      <td>LogisticRegression(TF-IDF)</td>\n",
              "      <td>XGBoost(TF-IDF)</td>\n",
              "      <td>support vector machine(TF-IDF)</td>\n",
              "    </tr>\n",
              "    <tr>\n",
              "      <th>F1_Score</th>\n",
              "      <td>0.315789</td>\n",
              "      <td>0.315789</td>\n",
              "      <td>0.336842</td>\n",
              "    </tr>\n",
              "  </tbody>\n",
              "</table>\n",
              "</div>"
            ],
            "text/plain": [
              "                                   1  ...                               3\n",
              "Model     LogisticRegression(TF-IDF)  ...  support vector machine(TF-IDF)\n",
              "F1_Score                    0.315789  ...                        0.336842\n",
              "\n",
              "[2 rows x 3 columns]"
            ]
          },
          "metadata": {
            "tags": []
          },
          "execution_count": 92
        }
      ]
    },
    {
      "cell_type": "markdown",
      "metadata": {
        "id": "Hk_7rfiF5iO0",
        "colab_type": "text"
      },
      "source": [
        "Evaluating the model"
      ]
    },
    {
      "cell_type": "code",
      "metadata": {
        "id": "43FKcsQl5dxQ",
        "colab_type": "code",
        "colab": {}
      },
      "source": [
        "from sklearn.metrics import confusion_matrix, classification_report, accuracy_score"
      ],
      "execution_count": 0,
      "outputs": []
    },
    {
      "cell_type": "code",
      "metadata": {
        "id": "SDecLcjz5k5i",
        "colab_type": "code",
        "outputId": "051be396-c727-4308-c0d8-b80ea6a38386",
        "colab": {
          "base_uri": "https://localhost:8080/",
          "height": 218
        }
      },
      "source": [
        "print (y_valid_bow)"
      ],
      "execution_count": 94,
      "outputs": [
        {
          "output_type": "stream",
          "text": [
            "65     2\n",
            "314    1\n",
            "150    2\n",
            "158    0\n",
            "108    2\n",
            "      ..\n",
            "209    0\n",
            "89     1\n",
            "206    1\n",
            "27     2\n",
            "166    0\n",
            "Name: sentiments, Length: 95, dtype: int64\n"
          ],
          "name": "stdout"
        }
      ]
    },
    {
      "cell_type": "code",
      "metadata": {
        "id": "5EyMjfZt5mfa",
        "colab_type": "code",
        "outputId": "84d3f36e-8980-482d-ae88-a782cedaa6c0",
        "colab": {
          "base_uri": "https://localhost:8080/",
          "height": 218
        }
      },
      "source": [
        "print (y_valid_tfidf)"
      ],
      "execution_count": 95,
      "outputs": [
        {
          "output_type": "stream",
          "text": [
            "65     2\n",
            "314    1\n",
            "150    2\n",
            "158    0\n",
            "108    2\n",
            "      ..\n",
            "209    0\n",
            "89     1\n",
            "206    1\n",
            "27     2\n",
            "166    0\n",
            "Name: sentiments, Length: 95, dtype: int64\n"
          ],
          "name": "stdout"
        }
      ]
    },
    {
      "cell_type": "markdown",
      "metadata": {
        "id": "s-JWeqqY5vPH",
        "colab_type": "text"
      },
      "source": [
        "Comparison Graph"
      ]
    },
    {
      "cell_type": "code",
      "metadata": {
        "id": "pwK38Lzp5qSm",
        "colab_type": "code",
        "outputId": "57868d54-0b59-477f-b2e2-54522f5cd6d0",
        "colab": {
          "base_uri": "https://localhost:8080/",
          "height": 350
        }
      },
      "source": [
        "# Bag-of-Words\n",
        "import seaborn as sns\n",
        "plt.figure(figsize=(18,5))\n",
        "\n",
        "sns.pointplot(x='Model',y='F1_Score',data=compare_1)\n",
        "\n",
        "plt.title('Bag-of-Words')\n",
        "plt.xlabel('MODEL')\n",
        "plt.ylabel('SCORE')\n",
        "\n",
        "plt.show()"
      ],
      "execution_count": 96,
      "outputs": [
        {
          "output_type": "display_data",
          "data": {
            "image/png": "[encoded data removed]",
            "text/plain": [
              "<Figure size 1296x360 with 1 Axes>"
            ]
          },
          "metadata": {
            "tags": [],
            "needs_background": "light"
          }
        }
      ]
    },
    {
      "cell_type": "code",
      "metadata": {
        "id": "1vwluQpx52Gt",
        "colab_type": "code",
        "outputId": "2ac586ad-3853-465d-f284-31f37d50834d",
        "colab": {
          "base_uri": "https://localhost:8080/",
          "height": 350
        }
      },
      "source": [
        "# TF-IDF\n",
        "plt.figure(figsize=(18,5))\n",
        "\n",
        "sns.pointplot(x='Model',y='F1_Score',data=compare_2)\n",
        "\n",
        "plt.title('TF-IDF')\n",
        "plt.xlabel('MODEL')\n",
        "plt.ylabel('SCORE')\n",
        "\n",
        "plt.show()"
      ],
      "execution_count": 97,
      "outputs": [
        {
          "output_type": "display_data",
          "data": {
            "image/png": "[encoded data removed]",
            "text/plain": [
              "<Figure size 1296x360 with 1 Axes>"
            ]
          },
          "metadata": {
            "tags": [],
            "needs_background": "light"
          }
        }
      ]
    },
    {
      "cell_type": "code",
      "metadata": {
        "id": "nYveSRRj6Ic0",
        "colab_type": "code",
        "colab": {}
      },
      "source": [
        ""
      ],
      "execution_count": 0,
      "outputs": []
    },
    {
      "cell_type": "code",
      "metadata": {
        "id": "Tm45Xlbg6Ian",
        "colab_type": "code",
        "colab": {}
      },
      "source": [
        ""
      ],
      "execution_count": 0,
      "outputs": []
    },
    {
      "cell_type": "code",
      "metadata": {
        "id": "5yE3LIU_6IWJ",
        "colab_type": "code",
        "colab": {}
      },
      "source": [
        ""
      ],
      "execution_count": 0,
      "outputs": []
    }
  ]
}