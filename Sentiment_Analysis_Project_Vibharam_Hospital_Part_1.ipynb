{
  "nbformat": 4,
  "nbformat_minor": 0,
  "metadata": {
    "colab": {
      "name": "Sentiment_Analysis_Project_Vibharam_Hospital_Part_1",
      "provenance": []
    },
    "kernelspec": {
      "name": "python3",
      "display_name": "Python 3"
    }
  },
  "cells": [
    {
      "cell_type": "markdown",
      "metadata": {
        "id": "GAwiB9IkG2RS",
        "colab_type": "text"
      },
      "source": [
        "# Sentiment Analysis  "
      ]
    },
    {
      "cell_type": "code",
      "metadata": {
        "id": "w2T9XBnMQnhX",
        "colab_type": "code",
        "outputId": "68293ddd-3cdb-4900-f6b1-5fdb2639f650",
        "colab": {
          "base_uri": "https://localhost:8080/",
          "height": 725
        }
      },
      "source": [
        "!pip install googletrans\n",
        "!pip install tqdm --upgrade\n",
        "!pip install twython"
      ],
      "execution_count": 1,
      "outputs": [
        {
          "output_type": "stream",
          "text": [
            "Collecting googletrans\n",
            "  Downloading https://files.pythonhosted.org/packages/fd/f0/a22d41d3846d1f46a4f20086141e0428ccc9c6d644aacbfd30990cf46886/googletrans-2.4.0.tar.gz\n",
            "Requirement already satisfied: requests in /usr/local/lib/python3.6/dist-packages (from googletrans) (2.21.0)\n",
            "Requirement already satisfied: chardet<3.1.0,>=3.0.2 in /usr/local/lib/python3.6/dist-packages (from requests->googletrans) (3.0.4)\n",
            "Requirement already satisfied: certifi>=2017.4.17 in /usr/local/lib/python3.6/dist-packages (from requests->googletrans) (2020.4.5.1)\n",
            "Requirement already satisfied: urllib3<1.25,>=1.21.1 in /usr/local/lib/python3.6/dist-packages (from requests->googletrans) (1.24.3)\n",
            "Requirement already satisfied: idna<2.9,>=2.5 in /usr/local/lib/python3.6/dist-packages (from requests->googletrans) (2.8)\n",
            "Building wheels for collected packages: googletrans\n",
            "  Building wheel for googletrans (setup.py) ... \u001b[?25l\u001b[?25hdone\n",
            "  Created wheel for googletrans: filename=googletrans-2.4.0-cp36-none-any.whl size=15777 sha256=b450c42697bb75ae0d0b43ddfd001fe2c0998acf90cffb766c5ad784835675e3\n",
            "  Stored in directory: /root/.cache/pip/wheels/50/d6/e7/a8efd5f2427d5eb258070048718fa56ee5ac57fd6f53505f95\n",
            "Successfully built googletrans\n",
            "Installing collected packages: googletrans\n",
            "Successfully installed googletrans-2.4.0\n",
            "Collecting tqdm\n",
            "\u001b[?25l  Downloading https://files.pythonhosted.org/packages/4a/1c/6359be64e8301b84160f6f6f7936bbfaaa5e9a4eab6cbc681db07600b949/tqdm-4.45.0-py2.py3-none-any.whl (60kB)\n",
            "\u001b[K     |████████████████████████████████| 61kB 2.1MB/s \n",
            "\u001b[?25hInstalling collected packages: tqdm\n",
            "  Found existing installation: tqdm 4.38.0\n",
            "    Uninstalling tqdm-4.38.0:\n",
            "      Successfully uninstalled tqdm-4.38.0\n",
            "Successfully installed tqdm-4.45.0\n"
          ],
          "name": "stdout"
        },
        {
          "output_type": "display_data",
          "data": {
            "application/vnd.colab-display-data+json": {
              "pip_warning": {
                "packages": [
                  "tqdm"
                ]
              }
            }
          },
          "metadata": {
            "tags": []
          }
        },
        {
          "output_type": "stream",
          "text": [
            "Collecting twython\n",
            "  Downloading https://files.pythonhosted.org/packages/24/80/579b96dfaa9b536efde883d4f0df7ea2598a6f3117a6dd572787f4a2bcfb/twython-3.8.2-py3-none-any.whl\n",
            "Requirement already satisfied: requests>=2.1.0 in /usr/local/lib/python3.6/dist-packages (from twython) (2.21.0)\n",
            "Requirement already satisfied: requests-oauthlib>=0.4.0 in /usr/local/lib/python3.6/dist-packages (from twython) (1.3.0)\n",
            "Requirement already satisfied: urllib3<1.25,>=1.21.1 in /usr/local/lib/python3.6/dist-packages (from requests>=2.1.0->twython) (1.24.3)\n",
            "Requirement already satisfied: idna<2.9,>=2.5 in /usr/local/lib/python3.6/dist-packages (from requests>=2.1.0->twython) (2.8)\n",
            "Requirement already satisfied: chardet<3.1.0,>=3.0.2 in /usr/local/lib/python3.6/dist-packages (from requests>=2.1.0->twython) (3.0.4)\n",
            "Requirement already satisfied: certifi>=2017.4.17 in /usr/local/lib/python3.6/dist-packages (from requests>=2.1.0->twython) (2020.4.5.1)\n",
            "Requirement already satisfied: oauthlib>=3.0.0 in /usr/local/lib/python3.6/dist-packages (from requests-oauthlib>=0.4.0->twython) (3.1.0)\n",
            "Installing collected packages: twython\n",
            "Successfully installed twython-3.8.2\n"
          ],
          "name": "stdout"
        }
      ]
    },
    {
      "cell_type": "markdown",
      "metadata": {
        "id": "IG4KQ6hoHFvN",
        "colab_type": "text"
      },
      "source": [
        "## Import Modules"
      ]
    },
    {
      "cell_type": "code",
      "metadata": {
        "id": "JfZhYbnfGo2V",
        "colab_type": "code",
        "colab": {}
      },
      "source": [
        "# web scraping\n",
        "import requests\n",
        "from bs4 import BeautifulSoup\n",
        "from time import time, sleep\n",
        "from random import randint\n",
        "\n",
        "# Translation\n",
        "from googletrans import Translator\n",
        "\n",
        "# Utilities\n",
        "from tqdm import tqdm\n",
        "import numpy as np\n",
        "import pandas as pd\n",
        "\n",
        "# NLP\n",
        "from nltk import sent_tokenize, word_tokenize, pos_tag, RegexpParser\n",
        "from nltk.sentiment.vader import SentimentIntensityAnalyzer\n",
        "from nltk.sentiment.util import mark_negation"
      ],
      "execution_count": 0,
      "outputs": []
    },
    {
      "cell_type": "code",
      "metadata": {
        "id": "ijQcrF7pjke-",
        "colab_type": "code",
        "outputId": "6701c998-2b35-4dd9-d02f-5ddcc7a8c000",
        "colab": {
          "base_uri": "https://localhost:8080/",
          "height": 160
        }
      },
      "source": [
        "# Download resources\n",
        "import nltk\n",
        "\n",
        "nltk.download(\"punkt\")\n",
        "nltk.download(\"vader_lexicon\")\n",
        "nltk.download('averaged_perceptron_tagger')"
      ],
      "execution_count": 33,
      "outputs": [
        {
          "output_type": "stream",
          "text": [
            "[nltk_data] Downloading package punkt to /root/nltk_data...\n",
            "[nltk_data]   Package punkt is already up-to-date!\n",
            "[nltk_data] Downloading package vader_lexicon to /root/nltk_data...\n",
            "[nltk_data]   Package vader_lexicon is already up-to-date!\n",
            "[nltk_data] Downloading package averaged_perceptron_tagger to\n",
            "[nltk_data]     /root/nltk_data...\n",
            "[nltk_data]   Unzipping taggers/averaged_perceptron_tagger.zip.\n"
          ],
          "name": "stdout"
        },
        {
          "output_type": "execute_result",
          "data": {
            "text/plain": [
              "True"
            ]
          },
          "metadata": {
            "tags": []
          },
          "execution_count": 33
        }
      ]
    },
    {
      "cell_type": "code",
      "metadata": {
        "id": "vyUfm-6vOTIX",
        "colab_type": "code",
        "colab": {}
      },
      "source": [
        "def honestdoc_comment(url):\n",
        "    \"\"\"\n",
        "    This function is to scrap data from a webboard (https://www.honestdocs.co).\n",
        "\n",
        "    INPUT\n",
        "    url : String\n",
        "      URL of the target website\n",
        "    \n",
        "    OUTPUT\n",
        "    comment : List\n",
        "      List of comments\n",
        "    score : List\n",
        "      List of rating score\n",
        "    \"\"\"\n",
        "    #create connection\n",
        "    data = requests.get(url)\n",
        "    print(\"requests code : {}\".format(data.status_code)) \n",
        "    print(\"note\\n2xx: success\\n4xx, 5xx: error\")\n",
        "    \n",
        "    #scrape comment and score\n",
        "    start_time = time() #start scraping data from page1\n",
        "    r = requests.get(url, params=dict(query=\"web scraping\",page=1)) \n",
        "    soup = BeautifulSoup(r.text,\"html.parser\")\n",
        "    n = len(soup.find_all(\"div\",{\"class\":\"comments__content\"})) #find n of items in the page\n",
        "    \n",
        "    #extract each item\n",
        "    comment = [soup.find_all(\"div\",\n",
        "                             {\"class\":\"comments__content\"})[i].get_text().strip() for i in range(0,n)]\n",
        "    score = [soup.find_all(\"span\",\n",
        "                           {\"class\":\"stars star-rating\"})[i].attrs[\"data-score\"] for i in range(0,n)]\n",
        "    elapsed_time = time() - start_time #finish scraping data from page1\n",
        "    print(\"Time used for scraping data from page - 1 : {} s\".format(elapsed_time))\n",
        "    sleep(randint(1,3)) #mimic human behavior\n",
        "           \n",
        "    p = 2 #start scraping data from page2\n",
        "    while n > 0: #until the number of items in a page = 0\n",
        "        start_time = time() \n",
        "        r = requests.get(url, params=dict(query=\"web scraping\",page=p))\n",
        "        soup = BeautifulSoup(r.text,\"html.parser\")\n",
        "        n = len(soup.find_all(\"div\",{\"class\":\"comments__content\"}))\n",
        "        [comment.append(soup.find_all(\"div\",\n",
        "                                      {\"class\":\"comments__content\"})[i].get_text().strip()) for i in range(0,n)]\n",
        "        [score.append(soup.find_all(\"span\",\n",
        "                                    {\"class\":\"stars star-rating\"})[i].attrs[\"data-score\"]) for i in range(0,n)]\n",
        "        elapsed_time = time() - start_time\n",
        "        print(\"Time used for scraping data from page - {} : {} s\".format(p, elapsed_time))\n",
        "        p +=1\n",
        "        sleep(randint(1,3))\n",
        "    \n",
        "    #backup data \n",
        "    pd.DataFrame({\"comment\": comment, \n",
        "                  \"score\": score}).to_csv(\"comment_\"+str(url[url.rfind(\"/\")+1:]) + \".csv\", index=False)\n",
        "    \n",
        "    return comment, score"
      ],
      "execution_count": 0,
      "outputs": []
    },
    {
      "cell_type": "code",
      "metadata": {
        "id": "PhrueDWbMs53",
        "colab_type": "code",
        "outputId": "b5d89096-87f3-49fd-e874-894c4c12eca7",
        "colab": {
          "base_uri": "https://localhost:8080/",
          "height": 445
        }
      },
      "source": [
        "comments, scores = honestdoc_comment(r\"https://www.honestdocs.co/hospitals/vibharam-hospital\")"
      ],
      "execution_count": 0,
      "outputs": [
        {
          "output_type": "stream",
          "text": [
            "requests code : 200\n",
            "note\n",
            "2xx: success\n",
            "4xx, 5xx: error\n",
            "Time used for scraping data from page - 1 : 1.3398418426513672 s\n",
            "Time used for scraping data from page - 2 : 1.0975770950317383 s\n",
            "Time used for scraping data from page - 3 : 1.18644118309021 s\n",
            "Time used for scraping data from page - 4 : 1.0965299606323242 s\n"
          ],
          "name": "stdout"
        },
        {
          "output_type": "error",
          "ename": "KeyboardInterrupt",
          "evalue": "ignored",
          "traceback": [
            "\u001b[0;31m---------------------------------------------------------------------------\u001b[0m",
            "\u001b[0;31mKeyboardInterrupt\u001b[0m                         Traceback (most recent call last)",
            "\u001b[0;32m<ipython-input-5-6592017bb917>\u001b[0m in \u001b[0;36m<module>\u001b[0;34m()\u001b[0m\n\u001b[0;32m----> 1\u001b[0;31m \u001b[0mcomments\u001b[0m\u001b[0;34m,\u001b[0m \u001b[0mscores\u001b[0m \u001b[0;34m=\u001b[0m \u001b[0mhonestdoc_comment\u001b[0m\u001b[0;34m(\u001b[0m\u001b[0;34mr\"https://www.honestdocs.co/hospitals/vibharam-hospital\"\u001b[0m\u001b[0;34m)\u001b[0m\u001b[0;34m\u001b[0m\u001b[0;34m\u001b[0m\u001b[0m\n\u001b[0m",
            "\u001b[0;32m<ipython-input-4-7b0ac18b21be>\u001b[0m in \u001b[0;36mhonestdoc_comment\u001b[0;34m(url)\u001b[0m\n\u001b[1;32m     46\u001b[0m         \u001b[0mprint\u001b[0m\u001b[0;34m(\u001b[0m\u001b[0;34m\"Time used for scraping data from page - {} : {} s\"\u001b[0m\u001b[0;34m.\u001b[0m\u001b[0mformat\u001b[0m\u001b[0;34m(\u001b[0m\u001b[0mp\u001b[0m\u001b[0;34m,\u001b[0m \u001b[0melapsed_time\u001b[0m\u001b[0;34m)\u001b[0m\u001b[0;34m)\u001b[0m\u001b[0;34m\u001b[0m\u001b[0;34m\u001b[0m\u001b[0m\n\u001b[1;32m     47\u001b[0m         \u001b[0mp\u001b[0m \u001b[0;34m+=\u001b[0m\u001b[0;36m1\u001b[0m\u001b[0;34m\u001b[0m\u001b[0;34m\u001b[0m\u001b[0m\n\u001b[0;32m---> 48\u001b[0;31m         \u001b[0msleep\u001b[0m\u001b[0;34m(\u001b[0m\u001b[0mrandint\u001b[0m\u001b[0;34m(\u001b[0m\u001b[0;36m1\u001b[0m\u001b[0;34m,\u001b[0m\u001b[0;36m3\u001b[0m\u001b[0;34m)\u001b[0m\u001b[0;34m)\u001b[0m\u001b[0;34m\u001b[0m\u001b[0;34m\u001b[0m\u001b[0m\n\u001b[0m\u001b[1;32m     49\u001b[0m \u001b[0;34m\u001b[0m\u001b[0m\n\u001b[1;32m     50\u001b[0m     \u001b[0;31m#backup data\u001b[0m\u001b[0;34m\u001b[0m\u001b[0;34m\u001b[0m\u001b[0;34m\u001b[0m\u001b[0m\n",
            "\u001b[0;31mKeyboardInterrupt\u001b[0m: "
          ]
        }
      ]
    },
    {
      "cell_type": "code",
      "metadata": {
        "id": "HPU5Z2hcw4zt",
        "colab_type": "code",
        "outputId": "c7788ce4-093d-4e22-aa8b-099894e6ced4",
        "colab": {
          "base_uri": "https://localhost:8080/",
          "height": 126
        }
      },
      "source": [
        "from google.colab import drive\n",
        "drive.mount('/content/gdrive')"
      ],
      "execution_count": 4,
      "outputs": [
        {
          "output_type": "stream",
          "text": [
            "Go to this URL in a browser: https://accounts.google.com/o/oauth2/auth?client_id=947318989803-6bn6qk8qdgf4n4g3pfee6491hc0brc4i.apps.googleusercontent.com&redirect_uri=urn%3aietf%3awg%3aoauth%3a2.0%3aoob&response_type=code&scope=email%20https%3a%2f%2fwww.googleapis.com%2fauth%2fdocs.test%20https%3a%2f%2fwww.googleapis.com%2fauth%2fdrive%20https%3a%2f%2fwww.googleapis.com%2fauth%2fdrive.photos.readonly%20https%3a%2f%2fwww.googleapis.com%2fauth%2fpeopleapi.readonly\n",
            "\n",
            "Enter your authorization code:\n",
            "··········\n",
            "Mounted at /content/gdrive\n"
          ],
          "name": "stdout"
        }
      ]
    },
    {
      "cell_type": "code",
      "metadata": {
        "id": "dCQ-lxrXxMlL",
        "colab_type": "code",
        "colab": {}
      },
      "source": [
        "import os\n",
        "os.chdir('/content/gdrive/My Drive/')"
      ],
      "execution_count": 0,
      "outputs": []
    },
    {
      "cell_type": "code",
      "metadata": {
        "id": "GGFvI6RqPaRS",
        "colab_type": "code",
        "colab": {}
      },
      "source": [
        "# restore data\n",
        "viram = pd.read_csv(\"comment_vibharam-hospital.csv\")"
      ],
      "execution_count": 0,
      "outputs": []
    },
    {
      "cell_type": "code",
      "metadata": {
        "id": "ycMdaGAAPpYq",
        "colab_type": "code",
        "outputId": "4dbb52b9-69b3-497d-d906-d325961e56c7",
        "colab": {
          "base_uri": "https://localhost:8080/",
          "height": 378
        }
      },
      "source": [
        "viram.head(11)"
      ],
      "execution_count": 8,
      "outputs": [
        {
          "output_type": "execute_result",
          "data": {
            "text/html": [
              "<div>\n",
              "<style scoped>\n",
              "    .dataframe tbody tr th:only-of-type {\n",
              "        vertical-align: middle;\n",
              "    }\n",
              "\n",
              "    .dataframe tbody tr th {\n",
              "        vertical-align: top;\n",
              "    }\n",
              "\n",
              "    .dataframe thead th {\n",
              "        text-align: right;\n",
              "    }\n",
              "</style>\n",
              "<table border=\"1\" class=\"dataframe\">\n",
              "  <thead>\n",
              "    <tr style=\"text-align: right;\">\n",
              "      <th></th>\n",
              "      <th>comment</th>\n",
              "      <th>score</th>\n",
              "    </tr>\n",
              "  </thead>\n",
              "  <tbody>\n",
              "    <tr>\n",
              "      <th>0</th>\n",
              "      <td>หนูเกิดอุบัติเหตุรถชนค่ะ ไม่มีประกันรถยนต์ของค...</td>\n",
              "      <td>5</td>\n",
              "    </tr>\n",
              "    <tr>\n",
              "      <th>1</th>\n",
              "      <td>ใช้บริการของ รพ.วิภารามมาตั้งแต่ฝากครรภ์ คลอดแ...</td>\n",
              "      <td>5</td>\n",
              "    </tr>\n",
              "    <tr>\n",
              "      <th>2</th>\n",
              "      <td>บริการดีมากก คุณหมอก็ใจดีด้วย พยาบาลน่ารัก ทีา...</td>\n",
              "      <td>5</td>\n",
              "    </tr>\n",
              "    <tr>\n",
              "      <th>3</th>\n",
              "      <td>บริการดีมากค่ะใส่ใจดูเเลคนไข้ดี พยาบาล พูดจาดี...</td>\n",
              "      <td>5</td>\n",
              "    </tr>\n",
              "    <tr>\n",
              "      <th>4</th>\n",
              "      <td>ประทับใจมากๆค่ะ คุณหมอบริการดี พยาบาลน่ารัก ที...</td>\n",
              "      <td>4</td>\n",
              "    </tr>\n",
              "    <tr>\n",
              "      <th>5</th>\n",
              "      <td>ไปตรวจหูหมอใจดี ตรวจละเอียดมากมาก ฉันเดินทางเค...</td>\n",
              "      <td>5</td>\n",
              "    </tr>\n",
              "    <tr>\n",
              "      <th>6</th>\n",
              "      <td>หมอเก่งมาครับ ให้ยาดีๆ คอหอยส่วนจมูกอักเสบเฉีย...</td>\n",
              "      <td>4</td>\n",
              "    </tr>\n",
              "    <tr>\n",
              "      <th>7</th>\n",
              "      <td>โรงพยาบาลมีความสวยงาม ทางเดินตามตึกต่างๆมีสภาพ...</td>\n",
              "      <td>5</td>\n",
              "    </tr>\n",
              "    <tr>\n",
              "      <th>8</th>\n",
              "      <td>โรงพยาบาลสะอาด มีน้ำยาค่าเชื้อโรคอยู่ตามจุดต่า...</td>\n",
              "      <td>5</td>\n",
              "    </tr>\n",
              "    <tr>\n",
              "      <th>9</th>\n",
              "      <td>คือเราไม่ได้เป็นผู้ป่วยเองหรอกค่ะ\\nแต่มีโอกาสไ...</td>\n",
              "      <td>5</td>\n",
              "    </tr>\n",
              "    <tr>\n",
              "      <th>10</th>\n",
              "      <td>บริการของหมอและพยาบาลดีมาก ตอนนอนพักฟื้นก็มีพย...</td>\n",
              "      <td>4</td>\n",
              "    </tr>\n",
              "  </tbody>\n",
              "</table>\n",
              "</div>"
            ],
            "text/plain": [
              "                                              comment  score\n",
              "0   หนูเกิดอุบัติเหตุรถชนค่ะ ไม่มีประกันรถยนต์ของค...      5\n",
              "1   ใช้บริการของ รพ.วิภารามมาตั้งแต่ฝากครรภ์ คลอดแ...      5\n",
              "2   บริการดีมากก คุณหมอก็ใจดีด้วย พยาบาลน่ารัก ทีา...      5\n",
              "3   บริการดีมากค่ะใส่ใจดูเเลคนไข้ดี พยาบาล พูดจาดี...      5\n",
              "4   ประทับใจมากๆค่ะ คุณหมอบริการดี พยาบาลน่ารัก ที...      4\n",
              "5   ไปตรวจหูหมอใจดี ตรวจละเอียดมากมาก ฉันเดินทางเค...      5\n",
              "6   หมอเก่งมาครับ ให้ยาดีๆ คอหอยส่วนจมูกอักเสบเฉีย...      4\n",
              "7   โรงพยาบาลมีความสวยงาม ทางเดินตามตึกต่างๆมีสภาพ...      5\n",
              "8   โรงพยาบาลสะอาด มีน้ำยาค่าเชื้อโรคอยู่ตามจุดต่า...      5\n",
              "9   คือเราไม่ได้เป็นผู้ป่วยเองหรอกค่ะ\\nแต่มีโอกาสไ...      5\n",
              "10  บริการของหมอและพยาบาลดีมาก ตอนนอนพักฟื้นก็มีพย...      4"
            ]
          },
          "metadata": {
            "tags": []
          },
          "execution_count": 8
        }
      ]
    },
    {
      "cell_type": "markdown",
      "metadata": {
        "id": "6WUVgnBTQEjO",
        "colab_type": "text"
      },
      "source": [
        "## Comment Translation  \n",
        "\n"
      ]
    },
    {
      "cell_type": "code",
      "metadata": {
        "id": "qKv01P1sXe0L",
        "colab_type": "code",
        "colab": {}
      },
      "source": [
        "def th2en(comment):\n",
        "  return Translator().translate(comment, src=\"th\", dest=\"en\").text"
      ],
      "execution_count": 0,
      "outputs": []
    },
    {
      "cell_type": "code",
      "metadata": {
        "id": "IZNv46j6P8G0",
        "colab_type": "code",
        "outputId": "5153ca89-1dcb-4ffa-ae19-49e8364a033e",
        "colab": {
          "base_uri": "https://localhost:8080/",
          "height": 34
        }
      },
      "source": [
        "tqdm.pandas()\n",
        "\n",
        "viram[\"en\"] = viram.progress_apply(lambda x: th2en(x[\"comment\"]), axis=1)\n"
      ],
      "execution_count": 10,
      "outputs": [
        {
          "output_type": "stream",
          "text": [
            "100%|██████████| 183/183 [04:40<00:00,  1.53s/it]\n"
          ],
          "name": "stderr"
        }
      ]
    },
    {
      "cell_type": "code",
      "metadata": {
        "id": "6nAgmKYPVDdT",
        "colab_type": "code",
        "colab": {
          "base_uri": "https://localhost:8080/",
          "height": 198
        },
        "outputId": "1e1b46c9-136b-44c9-82e8-5b149f9df0c8"
      },
      "source": [
        "viram.head()"
      ],
      "execution_count": 11,
      "outputs": [
        {
          "output_type": "execute_result",
          "data": {
            "text/html": [
              "<div>\n",
              "<style scoped>\n",
              "    .dataframe tbody tr th:only-of-type {\n",
              "        vertical-align: middle;\n",
              "    }\n",
              "\n",
              "    .dataframe tbody tr th {\n",
              "        vertical-align: top;\n",
              "    }\n",
              "\n",
              "    .dataframe thead th {\n",
              "        text-align: right;\n",
              "    }\n",
              "</style>\n",
              "<table border=\"1\" class=\"dataframe\">\n",
              "  <thead>\n",
              "    <tr style=\"text-align: right;\">\n",
              "      <th></th>\n",
              "      <th>comment</th>\n",
              "      <th>score</th>\n",
              "      <th>en</th>\n",
              "    </tr>\n",
              "  </thead>\n",
              "  <tbody>\n",
              "    <tr>\n",
              "      <th>0</th>\n",
              "      <td>หนูเกิดอุบัติเหตุรถชนค่ะ ไม่มีประกันรถยนต์ของค...</td>\n",
              "      <td>5</td>\n",
              "      <td>Took my car crash None of the parties have a c...</td>\n",
              "    </tr>\n",
              "    <tr>\n",
              "      <th>1</th>\n",
              "      <td>ใช้บริการของ รพ.วิภารามมาตั้งแต่ฝากครรภ์ คลอดแ...</td>\n",
              "      <td>5</td>\n",
              "      <td>Using the services of a hospital Vibharam sinc...</td>\n",
              "    </tr>\n",
              "    <tr>\n",
              "      <th>2</th>\n",
              "      <td>บริการดีมากก คุณหมอก็ใจดีด้วย พยาบาลน่ารัก ทีา...</td>\n",
              "      <td>5</td>\n",
              "      <td>The service is great, the doctor was kind of c...</td>\n",
              "    </tr>\n",
              "    <tr>\n",
              "      <th>3</th>\n",
              "      <td>บริการดีมากค่ะใส่ใจดูเเลคนไข้ดี พยาบาล พูดจาดี...</td>\n",
              "      <td>5</td>\n",
              "      <td>Service is very attentive nurses look after pa...</td>\n",
              "    </tr>\n",
              "    <tr>\n",
              "      <th>4</th>\n",
              "      <td>ประทับใจมากๆค่ะ คุณหมอบริการดี พยาบาลน่ารัก ที...</td>\n",
              "      <td>4</td>\n",
              "      <td>Very impressive Doctor of Nursing offers a gre...</td>\n",
              "    </tr>\n",
              "  </tbody>\n",
              "</table>\n",
              "</div>"
            ],
            "text/plain": [
              "                                             comment  ...                                                 en\n",
              "0  หนูเกิดอุบัติเหตุรถชนค่ะ ไม่มีประกันรถยนต์ของค...  ...  Took my car crash None of the parties have a c...\n",
              "1  ใช้บริการของ รพ.วิภารามมาตั้งแต่ฝากครรภ์ คลอดแ...  ...  Using the services of a hospital Vibharam sinc...\n",
              "2  บริการดีมากก คุณหมอก็ใจดีด้วย พยาบาลน่ารัก ทีา...  ...  The service is great, the doctor was kind of c...\n",
              "3  บริการดีมากค่ะใส่ใจดูเเลคนไข้ดี พยาบาล พูดจาดี...  ...  Service is very attentive nurses look after pa...\n",
              "4  ประทับใจมากๆค่ะ คุณหมอบริการดี พยาบาลน่ารัก ที...  ...  Very impressive Doctor of Nursing offers a gre...\n",
              "\n",
              "[5 rows x 3 columns]"
            ]
          },
          "metadata": {
            "tags": []
          },
          "execution_count": 11
        }
      ]
    },
    {
      "cell_type": "markdown",
      "metadata": {
        "id": "G86HuZ_siAq9",
        "colab_type": "text"
      },
      "source": [
        "## Sentence-level Extraction  \n",
        "\n",
        "Classifying sentiment polarity of a whole sentence is not recommended because a comment could be a mixture of sentiment polarities.  We will use the VADOR sentiment analyzer.  Details of the VADOR can be found here https://github.com/cjhutto/vaderSentiment."
      ]
    },
    {
      "cell_type": "code",
      "metadata": {
        "id": "FbMa8ycUZiWe",
        "colab_type": "code",
        "colab": {}
      },
      "source": [
        "def sent_level_polarity(df, target):\n",
        "  sentences = []\n",
        "  scores = []\n",
        "  for i in df.index:\n",
        "    en = df.loc[i, target]\n",
        "    score = df.loc[i, \"score\"]\n",
        "    s = sent_tokenize(en)\n",
        "    sentences = sentences + s\n",
        "    scores = scores + [score]*len(s)\n",
        "  return pd.DataFrame({\"sentences\": sentences, \"scores\": scores})"
      ],
      "execution_count": 0,
      "outputs": []
    },
    {
      "cell_type": "code",
      "metadata": {
        "id": "M-gK1TvYobCg",
        "colab_type": "code",
        "colab": {}
      },
      "source": [
        "def predict_sentiment(sentence):\n",
        "  sa = SentimentIntensityAnalyzer()\n",
        "  sentiment_distribution = sa.polarity_scores(sentence)\n",
        "  score = sentiment_distribution.get(\"compound\")\n",
        "  \n",
        "  if score >= 0.05:\n",
        "    return \"positive\"\n",
        "  elif score <= -0.05:\n",
        "    return \"negative\"\n",
        "  else:\n",
        "    return \"neutral\""
      ],
      "execution_count": 0,
      "outputs": []
    },
    {
      "cell_type": "code",
      "metadata": {
        "id": "BwTy4nhWjexq",
        "colab_type": "code",
        "colab": {}
      },
      "source": [
        "data = sent_level_polarity(df=viram, target=\"en\")\n",
        "data[\"sentiment_polarity\"] = data[\"sentences\"].apply(lambda x: predict_sentiment(x))"
      ],
      "execution_count": 0,
      "outputs": []
    },
    {
      "cell_type": "code",
      "metadata": {
        "id": "A76V8rHXj4zx",
        "colab_type": "code",
        "outputId": "f5dd2075-4f5a-4d1d-e758-b8f4d8023db2",
        "colab": {
          "base_uri": "https://localhost:8080/",
          "height": 378
        }
      },
      "source": [
        "data.head(11)"
      ],
      "execution_count": 15,
      "outputs": [
        {
          "output_type": "execute_result",
          "data": {
            "text/html": [
              "<div>\n",
              "<style scoped>\n",
              "    .dataframe tbody tr th:only-of-type {\n",
              "        vertical-align: middle;\n",
              "    }\n",
              "\n",
              "    .dataframe tbody tr th {\n",
              "        vertical-align: top;\n",
              "    }\n",
              "\n",
              "    .dataframe thead th {\n",
              "        text-align: right;\n",
              "    }\n",
              "</style>\n",
              "<table border=\"1\" class=\"dataframe\">\n",
              "  <thead>\n",
              "    <tr style=\"text-align: right;\">\n",
              "      <th></th>\n",
              "      <th>sentences</th>\n",
              "      <th>scores</th>\n",
              "      <th>sentiment_polarity</th>\n",
              "    </tr>\n",
              "  </thead>\n",
              "  <tbody>\n",
              "    <tr>\n",
              "      <th>0</th>\n",
              "      <td>Took my car crash None of the parties have a c...</td>\n",
              "      <td>5</td>\n",
              "      <td>negative</td>\n",
              "    </tr>\n",
              "    <tr>\n",
              "      <th>1</th>\n",
              "      <td>Fortunately, the surgeon emergency a fast, do ...</td>\n",
              "      <td>5</td>\n",
              "      <td>positive</td>\n",
              "    </tr>\n",
              "    <tr>\n",
              "      <th>2</th>\n",
              "      <td>Min hospital had to calculate the cost to make...</td>\n",
              "      <td>5</td>\n",
              "      <td>neutral</td>\n",
              "    </tr>\n",
              "    <tr>\n",
              "      <th>3</th>\n",
              "      <td>And assistant nursing care was out of time.</td>\n",
              "      <td>5</td>\n",
              "      <td>positive</td>\n",
              "    </tr>\n",
              "    <tr>\n",
              "      <th>4</th>\n",
              "      <td>Appointments made a neat, clean, clear</td>\n",
              "      <td>5</td>\n",
              "      <td>positive</td>\n",
              "    </tr>\n",
              "    <tr>\n",
              "      <th>5</th>\n",
              "      <td>Using the services of a hospital Vibharam sinc...</td>\n",
              "      <td>5</td>\n",
              "      <td>neutral</td>\n",
              "    </tr>\n",
              "    <tr>\n",
              "      <th>6</th>\n",
              "      <td>Maternity and child care or medical doctor's a...</td>\n",
              "      <td>5</td>\n",
              "      <td>positive</td>\n",
              "    </tr>\n",
              "    <tr>\n",
              "      <th>7</th>\n",
              "      <td>The Vibharam it.</td>\n",
              "      <td>5</td>\n",
              "      <td>neutral</td>\n",
              "    </tr>\n",
              "    <tr>\n",
              "      <th>8</th>\n",
              "      <td>Many doctors are able to take care of a good d...</td>\n",
              "      <td>5</td>\n",
              "      <td>positive</td>\n",
              "    </tr>\n",
              "    <tr>\n",
              "      <th>9</th>\n",
              "      <td>PACU delivery room very good especially for a ...</td>\n",
              "      <td>5</td>\n",
              "      <td>positive</td>\n",
              "    </tr>\n",
              "    <tr>\n",
              "      <th>10</th>\n",
              "      <td>The Vibharam see it.</td>\n",
              "      <td>5</td>\n",
              "      <td>neutral</td>\n",
              "    </tr>\n",
              "  </tbody>\n",
              "</table>\n",
              "</div>"
            ],
            "text/plain": [
              "                                            sentences  ...  sentiment_polarity\n",
              "0   Took my car crash None of the parties have a c...  ...            negative\n",
              "1   Fortunately, the surgeon emergency a fast, do ...  ...            positive\n",
              "2   Min hospital had to calculate the cost to make...  ...             neutral\n",
              "3         And assistant nursing care was out of time.  ...            positive\n",
              "4              Appointments made a neat, clean, clear  ...            positive\n",
              "5   Using the services of a hospital Vibharam sinc...  ...             neutral\n",
              "6   Maternity and child care or medical doctor's a...  ...            positive\n",
              "7                                    The Vibharam it.  ...             neutral\n",
              "8   Many doctors are able to take care of a good d...  ...            positive\n",
              "9   PACU delivery room very good especially for a ...  ...            positive\n",
              "10                               The Vibharam see it.  ...             neutral\n",
              "\n",
              "[11 rows x 3 columns]"
            ]
          },
          "metadata": {
            "tags": []
          },
          "execution_count": 15
        }
      ]
    },
    {
      "cell_type": "markdown",
      "metadata": {
        "id": "OjRJExoB4oPI",
        "colab_type": "text"
      },
      "source": [
        "## Exclude Neutral  \n"
      ]
    },
    {
      "cell_type": "code",
      "metadata": {
        "id": "1L4dwl3D40bU",
        "colab_type": "code",
        "colab": {}
      },
      "source": [
        "data = data[data[\"sentiment_polarity\"] != \"neutral\"].reset_index(drop=True)"
      ],
      "execution_count": 0,
      "outputs": []
    },
    {
      "cell_type": "code",
      "metadata": {
        "id": "vfwerrKB49Iq",
        "colab_type": "code",
        "colab": {
          "base_uri": "https://localhost:8080/",
          "height": 378
        },
        "outputId": "bffc5817-2045-472f-8bf8-afed7a5643b5"
      },
      "source": [
        "data.head(11)"
      ],
      "execution_count": 17,
      "outputs": [
        {
          "output_type": "execute_result",
          "data": {
            "text/html": [
              "<div>\n",
              "<style scoped>\n",
              "    .dataframe tbody tr th:only-of-type {\n",
              "        vertical-align: middle;\n",
              "    }\n",
              "\n",
              "    .dataframe tbody tr th {\n",
              "        vertical-align: top;\n",
              "    }\n",
              "\n",
              "    .dataframe thead th {\n",
              "        text-align: right;\n",
              "    }\n",
              "</style>\n",
              "<table border=\"1\" class=\"dataframe\">\n",
              "  <thead>\n",
              "    <tr style=\"text-align: right;\">\n",
              "      <th></th>\n",
              "      <th>sentences</th>\n",
              "      <th>scores</th>\n",
              "      <th>sentiment_polarity</th>\n",
              "    </tr>\n",
              "  </thead>\n",
              "  <tbody>\n",
              "    <tr>\n",
              "      <th>0</th>\n",
              "      <td>Took my car crash None of the parties have a c...</td>\n",
              "      <td>5</td>\n",
              "      <td>negative</td>\n",
              "    </tr>\n",
              "    <tr>\n",
              "      <th>1</th>\n",
              "      <td>Fortunately, the surgeon emergency a fast, do ...</td>\n",
              "      <td>5</td>\n",
              "      <td>positive</td>\n",
              "    </tr>\n",
              "    <tr>\n",
              "      <th>2</th>\n",
              "      <td>And assistant nursing care was out of time.</td>\n",
              "      <td>5</td>\n",
              "      <td>positive</td>\n",
              "    </tr>\n",
              "    <tr>\n",
              "      <th>3</th>\n",
              "      <td>Appointments made a neat, clean, clear</td>\n",
              "      <td>5</td>\n",
              "      <td>positive</td>\n",
              "    </tr>\n",
              "    <tr>\n",
              "      <th>4</th>\n",
              "      <td>Maternity and child care or medical doctor's a...</td>\n",
              "      <td>5</td>\n",
              "      <td>positive</td>\n",
              "    </tr>\n",
              "    <tr>\n",
              "      <th>5</th>\n",
              "      <td>Many doctors are able to take care of a good d...</td>\n",
              "      <td>5</td>\n",
              "      <td>positive</td>\n",
              "    </tr>\n",
              "    <tr>\n",
              "      <th>6</th>\n",
              "      <td>PACU delivery room very good especially for a ...</td>\n",
              "      <td>5</td>\n",
              "      <td>positive</td>\n",
              "    </tr>\n",
              "    <tr>\n",
              "      <th>7</th>\n",
              "      <td>The service is great, the doctor was kind of c...</td>\n",
              "      <td>5</td>\n",
              "      <td>positive</td>\n",
              "    </tr>\n",
              "    <tr>\n",
              "      <th>8</th>\n",
              "      <td>Medical equipment, modern, clean bathrooms Hos...</td>\n",
              "      <td>5</td>\n",
              "      <td>positive</td>\n",
              "    </tr>\n",
              "    <tr>\n",
              "      <th>9</th>\n",
              "      <td>This hospital impresses me good good I can tra...</td>\n",
              "      <td>5</td>\n",
              "      <td>positive</td>\n",
              "    </tr>\n",
              "    <tr>\n",
              "      <th>10</th>\n",
              "      <td>You teller a good specialist.</td>\n",
              "      <td>5</td>\n",
              "      <td>positive</td>\n",
              "    </tr>\n",
              "  </tbody>\n",
              "</table>\n",
              "</div>"
            ],
            "text/plain": [
              "                                            sentences  ...  sentiment_polarity\n",
              "0   Took my car crash None of the parties have a c...  ...            negative\n",
              "1   Fortunately, the surgeon emergency a fast, do ...  ...            positive\n",
              "2         And assistant nursing care was out of time.  ...            positive\n",
              "3              Appointments made a neat, clean, clear  ...            positive\n",
              "4   Maternity and child care or medical doctor's a...  ...            positive\n",
              "5   Many doctors are able to take care of a good d...  ...            positive\n",
              "6   PACU delivery room very good especially for a ...  ...            positive\n",
              "7   The service is great, the doctor was kind of c...  ...            positive\n",
              "8   Medical equipment, modern, clean bathrooms Hos...  ...            positive\n",
              "9   This hospital impresses me good good I can tra...  ...            positive\n",
              "10                      You teller a good specialist.  ...            positive\n",
              "\n",
              "[11 rows x 3 columns]"
            ]
          },
          "metadata": {
            "tags": []
          },
          "execution_count": 17
        }
      ]
    },
    {
      "cell_type": "markdown",
      "metadata": {
        "id": "qL95ELm13uvW",
        "colab_type": "text"
      },
      "source": [
        "## Marking Negation  \n",
        "Negation twists sentiment polarity.  Let's mark them and twist sentiment polarity."
      ]
    },
    {
      "cell_type": "code",
      "metadata": {
        "id": "Yy1lLIxaj7X3",
        "colab_type": "code",
        "colab": {}
      },
      "source": [
        "data[\"neg_mark\"] = data[\"sentences\"].apply(lambda x: \" \".join(mark_negation(x.split())))"
      ],
      "execution_count": 0,
      "outputs": []
    },
    {
      "cell_type": "code",
      "metadata": {
        "id": "2JrTwRzhktyS",
        "colab_type": "code",
        "colab": {}
      },
      "source": [
        "data[\"flag\"] = data[\"neg_mark\"].apply(lambda x: True if \"_NEG\" in x else False)"
      ],
      "execution_count": 0,
      "outputs": []
    },
    {
      "cell_type": "code",
      "metadata": {
        "id": "4_C9LHWL7rPG",
        "colab_type": "code",
        "colab": {}
      },
      "source": [
        "def neg_extract(text):\n",
        "  tokens = word_tokenize(text)\n",
        "  return \" \".join([token[0:-4] if token[-4:] == \"_NEG\" else token for token in tokens])"
      ],
      "execution_count": 0,
      "outputs": []
    },
    {
      "cell_type": "code",
      "metadata": {
        "id": "IwANUi2b8VyK",
        "colab_type": "code",
        "colab": {}
      },
      "source": [
        "data[\"neg_words\"] = data[\"neg_mark\"].apply(lambda x: neg_extract(x))"
      ],
      "execution_count": 0,
      "outputs": []
    },
    {
      "cell_type": "code",
      "metadata": {
        "id": "Snd0ECiK8ytk",
        "colab_type": "code",
        "colab": {}
      },
      "source": [
        "data[\"post_polarity\"] = data[\"neg_words\"].apply(lambda x: predict_sentiment(x))"
      ],
      "execution_count": 0,
      "outputs": []
    },
    {
      "cell_type": "code",
      "metadata": {
        "id": "VXvZk6JxOVaA",
        "colab_type": "code",
        "colab": {
          "base_uri": "https://localhost:8080/",
          "height": 114
        },
        "outputId": "ec7d3bc2-8bf9-47f3-8c42-fcf2bfee24ee"
      },
      "source": [
        "data2 = data[data[\"sentiment_polarity\"] != data[\"post_polarity\"]].reset_index(drop=True)\n",
        "\n",
        "data2.head()\n"
      ],
      "execution_count": 25,
      "outputs": [
        {
          "output_type": "execute_result",
          "data": {
            "text/html": [
              "<div>\n",
              "<style scoped>\n",
              "    .dataframe tbody tr th:only-of-type {\n",
              "        vertical-align: middle;\n",
              "    }\n",
              "\n",
              "    .dataframe tbody tr th {\n",
              "        vertical-align: top;\n",
              "    }\n",
              "\n",
              "    .dataframe thead th {\n",
              "        text-align: right;\n",
              "    }\n",
              "</style>\n",
              "<table border=\"1\" class=\"dataframe\">\n",
              "  <thead>\n",
              "    <tr style=\"text-align: right;\">\n",
              "      <th></th>\n",
              "      <th>sentences</th>\n",
              "      <th>scores</th>\n",
              "      <th>sentiment_polarity</th>\n",
              "      <th>neg_mark</th>\n",
              "      <th>flag</th>\n",
              "      <th>neg_words</th>\n",
              "      <th>post_polarity</th>\n",
              "    </tr>\n",
              "  </thead>\n",
              "  <tbody>\n",
              "    <tr>\n",
              "      <th>0</th>\n",
              "      <td>(I use this term as well) delayed some doctors...</td>\n",
              "      <td>1</td>\n",
              "      <td>negative</td>\n",
              "      <td>(I use this term as well) delayed some doctors...</td>\n",
              "      <td>False</td>\n",
              "      <td>( I use this term as well ) delayed some docto...</td>\n",
              "      <td>positive</td>\n",
              "    </tr>\n",
              "  </tbody>\n",
              "</table>\n",
              "</div>"
            ],
            "text/plain": [
              "                                           sentences  ...  post_polarity\n",
              "0  (I use this term as well) delayed some doctors...  ...       positive\n",
              "\n",
              "[1 rows x 7 columns]"
            ]
          },
          "metadata": {
            "tags": []
          },
          "execution_count": 25
        }
      ]
    },
    {
      "cell_type": "code",
      "metadata": {
        "id": "XovICD3i9Ep7",
        "colab_type": "code",
        "colab": {
          "base_uri": "https://localhost:8080/",
          "height": 714
        },
        "outputId": "4e4c5231-87eb-43e0-f6cf-347d1ab48f3d"
      },
      "source": [
        "data.head(100)"
      ],
      "execution_count": 26,
      "outputs": [
        {
          "output_type": "execute_result",
          "data": {
            "text/html": [
              "<div>\n",
              "<style scoped>\n",
              "    .dataframe tbody tr th:only-of-type {\n",
              "        vertical-align: middle;\n",
              "    }\n",
              "\n",
              "    .dataframe tbody tr th {\n",
              "        vertical-align: top;\n",
              "    }\n",
              "\n",
              "    .dataframe thead th {\n",
              "        text-align: right;\n",
              "    }\n",
              "</style>\n",
              "<table border=\"1\" class=\"dataframe\">\n",
              "  <thead>\n",
              "    <tr style=\"text-align: right;\">\n",
              "      <th></th>\n",
              "      <th>sentences</th>\n",
              "      <th>scores</th>\n",
              "      <th>sentiment_polarity</th>\n",
              "      <th>neg_mark</th>\n",
              "      <th>flag</th>\n",
              "      <th>neg_words</th>\n",
              "      <th>post_polarity</th>\n",
              "    </tr>\n",
              "  </thead>\n",
              "  <tbody>\n",
              "    <tr>\n",
              "      <th>0</th>\n",
              "      <td>Took my car crash None of the parties have a c...</td>\n",
              "      <td>5</td>\n",
              "      <td>negative</td>\n",
              "      <td>Took my car crash None of the parties have a c...</td>\n",
              "      <td>False</td>\n",
              "      <td>Took my car crash None of the parties have a c...</td>\n",
              "      <td>negative</td>\n",
              "    </tr>\n",
              "    <tr>\n",
              "      <th>1</th>\n",
              "      <td>Fortunately, the surgeon emergency a fast, do ...</td>\n",
              "      <td>5</td>\n",
              "      <td>positive</td>\n",
              "      <td>Fortunately, the surgeon emergency a fast, do ...</td>\n",
              "      <td>True</td>\n",
              "      <td>Fortunately , the surgeon emergency a fast , d...</td>\n",
              "      <td>positive</td>\n",
              "    </tr>\n",
              "    <tr>\n",
              "      <th>2</th>\n",
              "      <td>And assistant nursing care was out of time.</td>\n",
              "      <td>5</td>\n",
              "      <td>positive</td>\n",
              "      <td>And assistant nursing care was out of time.</td>\n",
              "      <td>False</td>\n",
              "      <td>And assistant nursing care was out of time .</td>\n",
              "      <td>positive</td>\n",
              "    </tr>\n",
              "    <tr>\n",
              "      <th>3</th>\n",
              "      <td>Appointments made a neat, clean, clear</td>\n",
              "      <td>5</td>\n",
              "      <td>positive</td>\n",
              "      <td>Appointments made a neat, clean, clear</td>\n",
              "      <td>False</td>\n",
              "      <td>Appointments made a neat , clean , clear</td>\n",
              "      <td>positive</td>\n",
              "    </tr>\n",
              "    <tr>\n",
              "      <th>4</th>\n",
              "      <td>Maternity and child care or medical doctor's a...</td>\n",
              "      <td>5</td>\n",
              "      <td>positive</td>\n",
              "      <td>Maternity and child care or medical doctor's a...</td>\n",
              "      <td>False</td>\n",
              "      <td>Maternity and child care or medical doctor 's ...</td>\n",
              "      <td>positive</td>\n",
              "    </tr>\n",
              "    <tr>\n",
              "      <th>...</th>\n",
              "      <td>...</td>\n",
              "      <td>...</td>\n",
              "      <td>...</td>\n",
              "      <td>...</td>\n",
              "      <td>...</td>\n",
              "      <td>...</td>\n",
              "      <td>...</td>\n",
              "    </tr>\n",
              "    <tr>\n",
              "      <th>95</th>\n",
              "      <td>The hospital gave me good advice.</td>\n",
              "      <td>5</td>\n",
              "      <td>positive</td>\n",
              "      <td>The hospital gave me good advice.</td>\n",
              "      <td>False</td>\n",
              "      <td>The hospital gave me good advice .</td>\n",
              "      <td>positive</td>\n",
              "    </tr>\n",
              "    <tr>\n",
              "      <th>96</th>\n",
              "      <td>The hospital gave me good advice.</td>\n",
              "      <td>5</td>\n",
              "      <td>positive</td>\n",
              "      <td>The hospital gave me good advice.</td>\n",
              "      <td>False</td>\n",
              "      <td>The hospital gave me good advice .</td>\n",
              "      <td>positive</td>\n",
              "    </tr>\n",
              "    <tr>\n",
              "      <th>97</th>\n",
              "      <td>The hospital gave me good advice.</td>\n",
              "      <td>5</td>\n",
              "      <td>positive</td>\n",
              "      <td>The hospital gave me good advice.</td>\n",
              "      <td>False</td>\n",
              "      <td>The hospital gave me good advice .</td>\n",
              "      <td>positive</td>\n",
              "    </tr>\n",
              "    <tr>\n",
              "      <th>98</th>\n",
              "      <td>The hospital gave me good advice.</td>\n",
              "      <td>5</td>\n",
              "      <td>positive</td>\n",
              "      <td>The hospital gave me good advice.</td>\n",
              "      <td>False</td>\n",
              "      <td>The hospital gave me good advice .</td>\n",
              "      <td>positive</td>\n",
              "    </tr>\n",
              "    <tr>\n",
              "      <th>99</th>\n",
              "      <td>The hospital gave me good advice.</td>\n",
              "      <td>5</td>\n",
              "      <td>positive</td>\n",
              "      <td>The hospital gave me good advice.</td>\n",
              "      <td>False</td>\n",
              "      <td>The hospital gave me good advice .</td>\n",
              "      <td>positive</td>\n",
              "    </tr>\n",
              "  </tbody>\n",
              "</table>\n",
              "<p>100 rows × 7 columns</p>\n",
              "</div>"
            ],
            "text/plain": [
              "                                            sentences  ...  post_polarity\n",
              "0   Took my car crash None of the parties have a c...  ...       negative\n",
              "1   Fortunately, the surgeon emergency a fast, do ...  ...       positive\n",
              "2         And assistant nursing care was out of time.  ...       positive\n",
              "3              Appointments made a neat, clean, clear  ...       positive\n",
              "4   Maternity and child care or medical doctor's a...  ...       positive\n",
              "..                                                ...  ...            ...\n",
              "95                  The hospital gave me good advice.  ...       positive\n",
              "96                  The hospital gave me good advice.  ...       positive\n",
              "97                  The hospital gave me good advice.  ...       positive\n",
              "98                  The hospital gave me good advice.  ...       positive\n",
              "99                  The hospital gave me good advice.  ...       positive\n",
              "\n",
              "[100 rows x 7 columns]"
            ]
          },
          "metadata": {
            "tags": []
          },
          "execution_count": 26
        }
      ]
    },
    {
      "cell_type": "markdown",
      "metadata": {
        "id": "Z5_8bk3rFhhM",
        "colab_type": "text"
      },
      "source": [
        "## **Parsing**"
      ]
    },
    {
      "cell_type": "code",
      "metadata": {
        "id": "oOS6jWzJywa0",
        "colab_type": "code",
        "colab": {}
      },
      "source": [
        "grammar = \"\"\"NP: {<NN|NNS>+}\n",
        "                {<NN|NNS>+<CC><NN|NNS>+}\"\"\"\n",
        "chunker = RegexpParser(grammar)\n",
        "\n",
        "def parsing_extract(sentence):\n",
        "  parsed_tree = chunker.parse(pos_tag(word_tokenize(sentence)))\n",
        "\n",
        "  nps = []\n",
        "  for subtree in parsed_tree.subtrees():\n",
        "      if subtree.label() == 'NP':\n",
        "          t = subtree\n",
        "          t = \" \".join(word for word, tag in t.leaves())\n",
        "          nps.append(t)\n",
        "  return nps"
      ],
      "execution_count": 0,
      "outputs": []
    },
    {
      "cell_type": "code",
      "metadata": {
        "id": "oIKPmVAjGaoa",
        "colab_type": "code",
        "colab": {}
      },
      "source": [
        "data[\"NP\"] = data[\"sentences\"].apply(lambda x: parsing_extract(x))"
      ],
      "execution_count": 0,
      "outputs": []
    },
    {
      "cell_type": "code",
      "metadata": {
        "id": "wFewSXNAGzcU",
        "colab_type": "code",
        "colab": {
          "base_uri": "https://localhost:8080/",
          "height": 34
        },
        "outputId": "ffd16614-7b10-41d0-f357-275bba0d0484"
      },
      "source": [
        "data.shape"
      ],
      "execution_count": 35,
      "outputs": [
        {
          "output_type": "execute_result",
          "data": {
            "text/plain": [
              "(488, 8)"
            ]
          },
          "metadata": {
            "tags": []
          },
          "execution_count": 35
        }
      ]
    },
    {
      "cell_type": "code",
      "metadata": {
        "id": "IPS3WzbYG3HG",
        "colab_type": "code",
        "colab": {
          "base_uri": "https://localhost:8080/",
          "height": 450
        },
        "outputId": "fa4c4121-226e-4c00-b6ff-b42cbd9c4fb7"
      },
      "source": [
        "data.head()"
      ],
      "execution_count": 36,
      "outputs": [
        {
          "output_type": "execute_result",
          "data": {
            "text/html": [
              "<div>\n",
              "<style scoped>\n",
              "    .dataframe tbody tr th:only-of-type {\n",
              "        vertical-align: middle;\n",
              "    }\n",
              "\n",
              "    .dataframe tbody tr th {\n",
              "        vertical-align: top;\n",
              "    }\n",
              "\n",
              "    .dataframe thead th {\n",
              "        text-align: right;\n",
              "    }\n",
              "</style>\n",
              "<table border=\"1\" class=\"dataframe\">\n",
              "  <thead>\n",
              "    <tr style=\"text-align: right;\">\n",
              "      <th></th>\n",
              "      <th>sentences</th>\n",
              "      <th>scores</th>\n",
              "      <th>sentiment_polarity</th>\n",
              "      <th>neg_mark</th>\n",
              "      <th>flag</th>\n",
              "      <th>neg_words</th>\n",
              "      <th>post_polarity</th>\n",
              "      <th>NP</th>\n",
              "    </tr>\n",
              "  </thead>\n",
              "  <tbody>\n",
              "    <tr>\n",
              "      <th>0</th>\n",
              "      <td>Took my car crash None of the parties have a c...</td>\n",
              "      <td>5</td>\n",
              "      <td>negative</td>\n",
              "      <td>Took my car crash None of the parties have a c...</td>\n",
              "      <td>False</td>\n",
              "      <td>Took my car crash None of the parties have a c...</td>\n",
              "      <td>negative</td>\n",
              "      <td>[car crash None, parties, car insurance]</td>\n",
              "    </tr>\n",
              "    <tr>\n",
              "      <th>1</th>\n",
              "      <td>Fortunately, the surgeon emergency a fast, do ...</td>\n",
              "      <td>5</td>\n",
              "      <td>positive</td>\n",
              "      <td>Fortunately, the surgeon emergency a fast, do ...</td>\n",
              "      <td>True</td>\n",
              "      <td>Fortunately , the surgeon emergency a fast , d...</td>\n",
              "      <td>positive</td>\n",
              "      <td>[surgeon emergency, fast, name, year, bird, ho...</td>\n",
              "    </tr>\n",
              "    <tr>\n",
              "      <th>2</th>\n",
              "      <td>And assistant nursing care was out of time.</td>\n",
              "      <td>5</td>\n",
              "      <td>positive</td>\n",
              "      <td>And assistant nursing care was out of time.</td>\n",
              "      <td>False</td>\n",
              "      <td>And assistant nursing care was out of time .</td>\n",
              "      <td>positive</td>\n",
              "      <td>[assistant nursing care, time]</td>\n",
              "    </tr>\n",
              "    <tr>\n",
              "      <th>3</th>\n",
              "      <td>Appointments made a neat, clean, clear</td>\n",
              "      <td>5</td>\n",
              "      <td>positive</td>\n",
              "      <td>Appointments made a neat, clean, clear</td>\n",
              "      <td>False</td>\n",
              "      <td>Appointments made a neat , clean , clear</td>\n",
              "      <td>positive</td>\n",
              "      <td>[Appointments, neat]</td>\n",
              "    </tr>\n",
              "    <tr>\n",
              "      <th>4</th>\n",
              "      <td>Maternity and child care or medical doctor's a...</td>\n",
              "      <td>5</td>\n",
              "      <td>positive</td>\n",
              "      <td>Maternity and child care or medical doctor's a...</td>\n",
              "      <td>False</td>\n",
              "      <td>Maternity and child care or medical doctor 's ...</td>\n",
              "      <td>positive</td>\n",
              "      <td>[care, doctor, appointment process]</td>\n",
              "    </tr>\n",
              "  </tbody>\n",
              "</table>\n",
              "</div>"
            ],
            "text/plain": [
              "                                           sentences  ...                                                 NP\n",
              "0  Took my car crash None of the parties have a c...  ...           [car crash None, parties, car insurance]\n",
              "1  Fortunately, the surgeon emergency a fast, do ...  ...  [surgeon emergency, fast, name, year, bird, ho...\n",
              "2        And assistant nursing care was out of time.  ...                     [assistant nursing care, time]\n",
              "3             Appointments made a neat, clean, clear  ...                               [Appointments, neat]\n",
              "4  Maternity and child care or medical doctor's a...  ...                [care, doctor, appointment process]\n",
              "\n",
              "[5 rows x 8 columns]"
            ]
          },
          "metadata": {
            "tags": []
          },
          "execution_count": 36
        }
      ]
    },
    {
      "cell_type": "markdown",
      "metadata": {
        "id": "wdINSfVjG6j6",
        "colab_type": "text"
      },
      "source": [
        "# **Split dataframe into positive and negative sentiment**"
      ]
    },
    {
      "cell_type": "code",
      "metadata": {
        "id": "xfxwYnpPHGOP",
        "colab_type": "code",
        "colab": {}
      },
      "source": [
        "pos = data[data[\"sentiment_polarity\"] == \"positive\"].reset_index(drop=True)\n",
        "pos_words = sum(pos[\"NP\"].tolist(), [])\n",
        "pos_words = [word.lower() for word in pos_words]\n",
        "poshist = pd.DataFrame({\"words\": pos_words})\n",
        "poshist = poshist.groupby(\"words\").size().reset_index(name=\"#pos\")"
      ],
      "execution_count": 0,
      "outputs": []
    },
    {
      "cell_type": "code",
      "metadata": {
        "id": "1k2cW16SHJQc",
        "colab_type": "code",
        "colab": {
          "base_uri": "https://localhost:8080/",
          "height": 408
        },
        "outputId": "7fd4f362-7e2d-44a7-8ebe-271debed0586"
      },
      "source": [
        "poshist.sort_values(by='#pos', ascending=False)"
      ],
      "execution_count": 38,
      "outputs": [
        {
          "output_type": "execute_result",
          "data": {
            "text/html": [
              "<div>\n",
              "<style scoped>\n",
              "    .dataframe tbody tr th:only-of-type {\n",
              "        vertical-align: middle;\n",
              "    }\n",
              "\n",
              "    .dataframe tbody tr th {\n",
              "        vertical-align: top;\n",
              "    }\n",
              "\n",
              "    .dataframe thead th {\n",
              "        text-align: right;\n",
              "    }\n",
              "</style>\n",
              "<table border=\"1\" class=\"dataframe\">\n",
              "  <thead>\n",
              "    <tr style=\"text-align: right;\">\n",
              "      <th></th>\n",
              "      <th>words</th>\n",
              "      <th>#pos</th>\n",
              "    </tr>\n",
              "  </thead>\n",
              "  <tbody>\n",
              "    <tr>\n",
              "      <th>137</th>\n",
              "      <td>hospital</td>\n",
              "      <td>61</td>\n",
              "    </tr>\n",
              "    <tr>\n",
              "      <th>79</th>\n",
              "      <td>doctor</td>\n",
              "      <td>37</td>\n",
              "    </tr>\n",
              "    <tr>\n",
              "      <th>6</th>\n",
              "      <td>advice</td>\n",
              "      <td>34</td>\n",
              "    </tr>\n",
              "    <tr>\n",
              "      <th>259</th>\n",
              "      <td>service</td>\n",
              "      <td>25</td>\n",
              "    </tr>\n",
              "    <tr>\n",
              "      <th>44</th>\n",
              "      <td>care</td>\n",
              "      <td>24</td>\n",
              "    </tr>\n",
              "    <tr>\n",
              "      <th>...</th>\n",
              "      <td>...</td>\n",
              "      <td>...</td>\n",
              "    </tr>\n",
              "    <tr>\n",
              "      <th>130</th>\n",
              "      <td>heart doctor</td>\n",
              "      <td>1</td>\n",
              "    </tr>\n",
              "    <tr>\n",
              "      <th>131</th>\n",
              "      <td>heart hospital</td>\n",
              "      <td>1</td>\n",
              "    </tr>\n",
              "    <tr>\n",
              "      <th>132</th>\n",
              "      <td>heck</td>\n",
              "      <td>1</td>\n",
              "    </tr>\n",
              "    <tr>\n",
              "      <th>133</th>\n",
              "      <td>heel</td>\n",
              "      <td>1</td>\n",
              "    </tr>\n",
              "    <tr>\n",
              "      <th>163</th>\n",
              "      <td>lover</td>\n",
              "      <td>1</td>\n",
              "    </tr>\n",
              "  </tbody>\n",
              "</table>\n",
              "<p>327 rows × 2 columns</p>\n",
              "</div>"
            ],
            "text/plain": [
              "              words  #pos\n",
              "137        hospital    61\n",
              "79           doctor    37\n",
              "6            advice    34\n",
              "259         service    25\n",
              "44             care    24\n",
              "..              ...   ...\n",
              "130    heart doctor     1\n",
              "131  heart hospital     1\n",
              "132            heck     1\n",
              "133            heel     1\n",
              "163           lover     1\n",
              "\n",
              "[327 rows x 2 columns]"
            ]
          },
          "metadata": {
            "tags": []
          },
          "execution_count": 38
        }
      ]
    },
    {
      "cell_type": "code",
      "metadata": {
        "id": "4PDmQOJJHLuL",
        "colab_type": "code",
        "colab": {}
      },
      "source": [
        "neg = data[data[\"sentiment_polarity\"] == \"negative\"].reset_index(drop=True)\n",
        "neg_words = sum(neg[\"NP\"].tolist(), [])\n",
        "neg_words = [word.lower() for word in neg_words]\n",
        "neghist = pd.DataFrame({\"words\": neg_words})\n",
        "neghist = neghist.groupby(\"words\").size().reset_index(name=\"#neg\")"
      ],
      "execution_count": 0,
      "outputs": []
    },
    {
      "cell_type": "code",
      "metadata": {
        "id": "KEHZp71QHV_5",
        "colab_type": "code",
        "colab": {
          "base_uri": "https://localhost:8080/",
          "height": 408
        },
        "outputId": "8f6f9512-1572-4c5c-cab6-d8ab3aaf01cb"
      },
      "source": [
        "neghist.sort_values(by='#neg', ascending=False)"
      ],
      "execution_count": 40,
      "outputs": [
        {
          "output_type": "execute_result",
          "data": {
            "text/html": [
              "<div>\n",
              "<style scoped>\n",
              "    .dataframe tbody tr th:only-of-type {\n",
              "        vertical-align: middle;\n",
              "    }\n",
              "\n",
              "    .dataframe tbody tr th {\n",
              "        vertical-align: top;\n",
              "    }\n",
              "\n",
              "    .dataframe thead th {\n",
              "        text-align: right;\n",
              "    }\n",
              "</style>\n",
              "<table border=\"1\" class=\"dataframe\">\n",
              "  <thead>\n",
              "    <tr style=\"text-align: right;\">\n",
              "      <th></th>\n",
              "      <th>words</th>\n",
              "      <th>#neg</th>\n",
              "    </tr>\n",
              "  </thead>\n",
              "  <tbody>\n",
              "    <tr>\n",
              "      <th>81</th>\n",
              "      <td>doctor</td>\n",
              "      <td>33</td>\n",
              "    </tr>\n",
              "    <tr>\n",
              "      <th>135</th>\n",
              "      <td>hospital</td>\n",
              "      <td>19</td>\n",
              "    </tr>\n",
              "    <tr>\n",
              "      <th>245</th>\n",
              "      <td>service</td>\n",
              "      <td>19</td>\n",
              "    </tr>\n",
              "    <tr>\n",
              "      <th>83</th>\n",
              "      <td>doctors</td>\n",
              "      <td>14</td>\n",
              "    </tr>\n",
              "    <tr>\n",
              "      <th>208</th>\n",
              "      <td>patients</td>\n",
              "      <td>13</td>\n",
              "    </tr>\n",
              "    <tr>\n",
              "      <th>...</th>\n",
              "      <td>...</td>\n",
              "      <td>...</td>\n",
              "    </tr>\n",
              "    <tr>\n",
              "      <th>121</th>\n",
              "      <td>games</td>\n",
              "      <td>1</td>\n",
              "    </tr>\n",
              "    <tr>\n",
              "      <th>122</th>\n",
              "      <td>gang</td>\n",
              "      <td>1</td>\n",
              "    </tr>\n",
              "    <tr>\n",
              "      <th>123</th>\n",
              "      <td>glowing smile</td>\n",
              "      <td>1</td>\n",
              "    </tr>\n",
              "    <tr>\n",
              "      <th>124</th>\n",
              "      <td>good</td>\n",
              "      <td>1</td>\n",
              "    </tr>\n",
              "    <tr>\n",
              "      <th>316</th>\n",
              "      <td>years</td>\n",
              "      <td>1</td>\n",
              "    </tr>\n",
              "  </tbody>\n",
              "</table>\n",
              "<p>317 rows × 2 columns</p>\n",
              "</div>"
            ],
            "text/plain": [
              "             words  #neg\n",
              "81          doctor    33\n",
              "135       hospital    19\n",
              "245        service    19\n",
              "83         doctors    14\n",
              "208       patients    13\n",
              "..             ...   ...\n",
              "121          games     1\n",
              "122           gang     1\n",
              "123  glowing smile     1\n",
              "124           good     1\n",
              "316          years     1\n",
              "\n",
              "[317 rows x 2 columns]"
            ]
          },
          "metadata": {
            "tags": []
          },
          "execution_count": 40
        }
      ]
    },
    {
      "cell_type": "code",
      "metadata": {
        "id": "5ORXeo4lHbsq",
        "colab_type": "code",
        "colab": {}
      },
      "source": [
        "from wordcloud import WordCloud\n",
        "import matplotlib.pyplot as plt"
      ],
      "execution_count": 0,
      "outputs": []
    },
    {
      "cell_type": "code",
      "metadata": {
        "id": "j_bLMPTTHe6q",
        "colab_type": "code",
        "colab": {}
      },
      "source": [
        "def vizwordcloud(df):\n",
        "    tuples = [tuple(x) for x in df.values]\n",
        "    wordcloud = WordCloud().generate_from_frequencies(dict(tuples))\n",
        "    plt.figure()\n",
        "    plt.imshow(wordcloud, interpolation=\"bilinear\")\n",
        "    plt.axis(\"off\")\n",
        "    plt.show()"
      ],
      "execution_count": 0,
      "outputs": []
    },
    {
      "cell_type": "code",
      "metadata": {
        "id": "PzPkw7ZdHjNR",
        "colab_type": "code",
        "colab": {
          "base_uri": "https://localhost:8080/",
          "height": 198
        },
        "outputId": "af208dc1-7a45-48ac-d69b-bf94848601a1"
      },
      "source": [
        "vizwordcloud(poshist)"
      ],
      "execution_count": 43,
      "outputs": [
        {
          "output_type": "display_data",
          "data": {
            "image/png": "[encoded data removed]",
            "text/plain": [
              "<Figure size 432x288 with 1 Axes>"
            ]
          },
          "metadata": {
            "tags": [],
            "needs_background": "light"
          }
        }
      ]
    },
    {
      "cell_type": "code",
      "metadata": {
        "id": "uoLklaUuHla_",
        "colab_type": "code",
        "colab": {
          "base_uri": "https://localhost:8080/",
          "height": 198
        },
        "outputId": "59ecae95-baad-4d96-a878-73307ac8c7c7"
      },
      "source": [
        "vizwordcloud(neghist)"
      ],
      "execution_count": 44,
      "outputs": [
        {
          "output_type": "display_data",
          "data": {
            "image/png": "[encoded data removed]",
            "text/plain": [
              "<Figure size 432x288 with 1 Axes>"
            ]
          },
          "metadata": {
            "tags": [],
            "needs_background": "light"
          }
        }
      ]
    }
  ]
}