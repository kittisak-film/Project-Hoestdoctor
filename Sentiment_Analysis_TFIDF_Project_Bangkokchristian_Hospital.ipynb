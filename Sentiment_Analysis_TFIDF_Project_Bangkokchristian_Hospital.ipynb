{
  "nbformat": 4,
  "nbformat_minor": 0,
  "metadata": {
    "colab": {
      "name": "Sentiment_Analysis_TFIDF_Project_bangkok-christian-hospital.ipynb",
      "provenance": [],
      "collapsed_sections": []
    },
    "kernelspec": {
      "name": "python3",
      "display_name": "Python 3"
    },
    "widgets": {
      "application/vnd.jupyter.widget-state+json": {
        "67fe954f86bd48d194112efa8a102e15": {
          "model_module": "@jupyter-widgets/controls",
          "model_name": "HBoxModel",
          "state": {
            "_view_name": "HBoxView",
            "_dom_classes": [],
            "_model_name": "HBoxModel",
            "_view_module": "@jupyter-widgets/controls",
            "_model_module_version": "1.5.0",
            "_view_count": null,
            "_view_module_version": "1.5.0",
            "box_style": "",
            "layout": "IPY_MODEL_fce85487d17c4ce9b8cec3272133db14",
            "_model_module": "@jupyter-widgets/controls",
            "children": [
              "IPY_MODEL_f4c9328e1d364ebba1775fa6f49f65c2",
              "IPY_MODEL_83f517dbb276408893f721983c388dee"
            ]
          }
        },
        "fce85487d17c4ce9b8cec3272133db14": {
          "model_module": "@jupyter-widgets/base",
          "model_name": "LayoutModel",
          "state": {
            "_view_name": "LayoutView",
            "grid_template_rows": null,
            "right": null,
            "justify_content": null,
            "_view_module": "@jupyter-widgets/base",
            "overflow": null,
            "_model_module_version": "1.2.0",
            "_view_count": null,
            "flex_flow": null,
            "width": null,
            "min_width": null,
            "border": null,
            "align_items": null,
            "bottom": null,
            "_model_module": "@jupyter-widgets/base",
            "top": null,
            "grid_column": null,
            "overflow_y": null,
            "overflow_x": null,
            "grid_auto_flow": null,
            "grid_area": null,
            "grid_template_columns": null,
            "flex": null,
            "_model_name": "LayoutModel",
            "justify_items": null,
            "grid_row": null,
            "max_height": null,
            "align_content": null,
            "visibility": null,
            "align_self": null,
            "height": null,
            "min_height": null,
            "padding": null,
            "grid_auto_rows": null,
            "grid_gap": null,
            "max_width": null,
            "order": null,
            "_view_module_version": "1.2.0",
            "grid_template_areas": null,
            "object_position": null,
            "object_fit": null,
            "grid_auto_columns": null,
            "margin": null,
            "display": null,
            "left": null
          }
        },
        "f4c9328e1d364ebba1775fa6f49f65c2": {
          "model_module": "@jupyter-widgets/controls",
          "model_name": "FloatProgressModel",
          "state": {
            "_view_name": "ProgressView",
            "style": "IPY_MODEL_d79451012acb4f769d02f13338445161",
            "_dom_classes": [],
            "description": "100%",
            "_model_name": "FloatProgressModel",
            "bar_style": "success",
            "max": 315,
            "_view_module": "@jupyter-widgets/controls",
            "_model_module_version": "1.5.0",
            "value": 315,
            "_view_count": null,
            "_view_module_version": "1.5.0",
            "orientation": "horizontal",
            "min": 0,
            "description_tooltip": null,
            "_model_module": "@jupyter-widgets/controls",
            "layout": "IPY_MODEL_0796c83b3cff4a28b9b5d9a0ca69444e"
          }
        },
        "83f517dbb276408893f721983c388dee": {
          "model_module": "@jupyter-widgets/controls",
          "model_name": "HTMLModel",
          "state": {
            "_view_name": "HTMLView",
            "style": "IPY_MODEL_99fd61ce5a754594b6d9a1cb884a34c6",
            "_dom_classes": [],
            "description": "",
            "_model_name": "HTMLModel",
            "placeholder": "​",
            "_view_module": "@jupyter-widgets/controls",
            "_model_module_version": "1.5.0",
            "value": " 315/315 [00:02&lt;00:00, 128.53it/s]",
            "_view_count": null,
            "_view_module_version": "1.5.0",
            "description_tooltip": null,
            "_model_module": "@jupyter-widgets/controls",
            "layout": "IPY_MODEL_2e52c0e600eb4974a9c2b2cbb50577cc"
          }
        },
        "d79451012acb4f769d02f13338445161": {
          "model_module": "@jupyter-widgets/controls",
          "model_name": "ProgressStyleModel",
          "state": {
            "_view_name": "StyleView",
            "_model_name": "ProgressStyleModel",
            "description_width": "initial",
            "_view_module": "@jupyter-widgets/base",
            "_model_module_version": "1.5.0",
            "_view_count": null,
            "_view_module_version": "1.2.0",
            "bar_color": null,
            "_model_module": "@jupyter-widgets/controls"
          }
        },
        "0796c83b3cff4a28b9b5d9a0ca69444e": {
          "model_module": "@jupyter-widgets/base",
          "model_name": "LayoutModel",
          "state": {
            "_view_name": "LayoutView",
            "grid_template_rows": null,
            "right": null,
            "justify_content": null,
            "_view_module": "@jupyter-widgets/base",
            "overflow": null,
            "_model_module_version": "1.2.0",
            "_view_count": null,
            "flex_flow": null,
            "width": null,
            "min_width": null,
            "border": null,
            "align_items": null,
            "bottom": null,
            "_model_module": "@jupyter-widgets/base",
            "top": null,
            "grid_column": null,
            "overflow_y": null,
            "overflow_x": null,
            "grid_auto_flow": null,
            "grid_area": null,
            "grid_template_columns": null,
            "flex": null,
            "_model_name": "LayoutModel",
            "justify_items": null,
            "grid_row": null,
            "max_height": null,
            "align_content": null,
            "visibility": null,
            "align_self": null,
            "height": null,
            "min_height": null,
            "padding": null,
            "grid_auto_rows": null,
            "grid_gap": null,
            "max_width": null,
            "order": null,
            "_view_module_version": "1.2.0",
            "grid_template_areas": null,
            "object_position": null,
            "object_fit": null,
            "grid_auto_columns": null,
            "margin": null,
            "display": null,
            "left": null
          }
        },
        "99fd61ce5a754594b6d9a1cb884a34c6": {
          "model_module": "@jupyter-widgets/controls",
          "model_name": "DescriptionStyleModel",
          "state": {
            "_view_name": "StyleView",
            "_model_name": "DescriptionStyleModel",
            "description_width": "",
            "_view_module": "@jupyter-widgets/base",
            "_model_module_version": "1.5.0",
            "_view_count": null,
            "_view_module_version": "1.2.0",
            "_model_module": "@jupyter-widgets/controls"
          }
        },
        "2e52c0e600eb4974a9c2b2cbb50577cc": {
          "model_module": "@jupyter-widgets/base",
          "model_name": "LayoutModel",
          "state": {
            "_view_name": "LayoutView",
            "grid_template_rows": null,
            "right": null,
            "justify_content": null,
            "_view_module": "@jupyter-widgets/base",
            "overflow": null,
            "_model_module_version": "1.2.0",
            "_view_count": null,
            "flex_flow": null,
            "width": null,
            "min_width": null,
            "border": null,
            "align_items": null,
            "bottom": null,
            "_model_module": "@jupyter-widgets/base",
            "top": null,
            "grid_column": null,
            "overflow_y": null,
            "overflow_x": null,
            "grid_auto_flow": null,
            "grid_area": null,
            "grid_template_columns": null,
            "flex": null,
            "_model_name": "LayoutModel",
            "justify_items": null,
            "grid_row": null,
            "max_height": null,
            "align_content": null,
            "visibility": null,
            "align_self": null,
            "height": null,
            "min_height": null,
            "padding": null,
            "grid_auto_rows": null,
            "grid_gap": null,
            "max_width": null,
            "order": null,
            "_view_module_version": "1.2.0",
            "grid_template_areas": null,
            "object_position": null,
            "object_fit": null,
            "grid_auto_columns": null,
            "margin": null,
            "display": null,
            "left": null
          }
        }
      }
    }
  },
  "cells": [
    {
      "cell_type": "code",
      "metadata": {
        "id": "SKbUKdjgFdwU",
        "colab_type": "code",
        "outputId": "a6b6a74d-4a3e-40c8-d2d8-ba83f31485a7",
        "colab": {
          "base_uri": "https://localhost:8080/",
          "height": 136
        }
      },
      "source": [
        "!pip install googletrans\n",
        "!pip install tqdm --upgrade\n",
        "!pip install twython"
      ],
      "execution_count": 265,
      "outputs": [
        {
          "output_type": "stream",
          "text": [
            "Requirement already satisfied: googletrans in /usr/local/lib/python3.6/dist-packages (2.4.0)\n",
            "Requirement already satisfied: requests in /usr/local/lib/python3.6/dist-packages (from googletrans) (2.9.1)\n",
            "Requirement already up-to-date: tqdm in /usr/local/lib/python3.6/dist-packages (4.45.0)\n",
            "Requirement already satisfied: twython in /usr/local/lib/python3.6/dist-packages (3.8.2)\n",
            "Requirement already satisfied: requests>=2.1.0 in /usr/local/lib/python3.6/dist-packages (from twython) (2.9.1)\n",
            "Requirement already satisfied: requests-oauthlib>=0.4.0 in /usr/local/lib/python3.6/dist-packages (from twython) (1.3.0)\n",
            "Requirement already satisfied: oauthlib>=3.0.0 in /usr/local/lib/python3.6/dist-packages (from requests-oauthlib>=0.4.0->twython) (3.1.0)\n"
          ],
          "name": "stdout"
        }
      ]
    },
    {
      "cell_type": "code",
      "metadata": {
        "id": "mf5lDE7wafjr",
        "colab_type": "code",
        "colab": {}
      },
      "source": [
        "# web scraping\n",
        "import requests\n",
        "from bs4 import BeautifulSoup\n",
        "from time import time, sleep\n",
        "from random import randint\n",
        "\n",
        "# Translation\n",
        "from googletrans import Translator\n",
        "\n",
        "# Utilities\n",
        "from tqdm import tqdm\n",
        "from tqdm import tqdm_notebook\n",
        "import numpy as np\n",
        "import pandas as pd\n",
        "\n",
        "# NLP\n",
        "from nltk import sent_tokenize, word_tokenize, pos_tag, RegexpParser\n",
        "from nltk.sentiment.vader import SentimentIntensityAnalyzer\n",
        "from nltk.sentiment.util import mark_negation"
      ],
      "execution_count": 0,
      "outputs": []
    },
    {
      "cell_type": "code",
      "metadata": {
        "id": "KLJxKnwjah8C",
        "colab_type": "code",
        "outputId": "c7a5c91d-a834-4bce-cb4c-48d270d12adc",
        "colab": {
          "base_uri": "https://localhost:8080/",
          "height": 170
        }
      },
      "source": [
        "# Download resources\n",
        "import nltk\n",
        "\n",
        "nltk.download(\"punkt\")\n",
        "nltk.download(\"vader_lexicon\")\n",
        "nltk.download('averaged_perceptron_tagger')"
      ],
      "execution_count": 267,
      "outputs": [
        {
          "output_type": "stream",
          "text": [
            "[nltk_data] Downloading package punkt to /root/nltk_data...\n",
            "[nltk_data]   Package punkt is already up-to-date!\n",
            "[nltk_data] Downloading package vader_lexicon to /root/nltk_data...\n",
            "[nltk_data]   Package vader_lexicon is already up-to-date!\n",
            "[nltk_data] Downloading package averaged_perceptron_tagger to\n",
            "[nltk_data]     /root/nltk_data...\n",
            "[nltk_data]   Package averaged_perceptron_tagger is already up-to-\n",
            "[nltk_data]       date!\n"
          ],
          "name": "stdout"
        },
        {
          "output_type": "execute_result",
          "data": {
            "text/plain": [
              "True"
            ]
          },
          "metadata": {
            "tags": []
          },
          "execution_count": 267
        }
      ]
    },
    {
      "cell_type": "markdown",
      "metadata": {
        "id": "tZ5SQxNQdXAs",
        "colab_type": "text"
      },
      "source": [
        "Web Scrap\n",
        "\n",
        "โรงพยาบาลกรุงเทพคริสเตียน"
      ]
    },
    {
      "cell_type": "code",
      "metadata": {
        "id": "rzBJtKDJdGC6",
        "colab_type": "code",
        "colab": {}
      },
      "source": [
        "def honestdoc_comment(url, hospitalName):\n",
        "    \"\"\"\n",
        "    This function is to scrap data from a webboard (https://www.honestdocs.com).\n",
        "\n",
        "    INPUT\n",
        "    url : String\n",
        "      URL of the target website\n",
        "    \n",
        "    OUTPUT\n",
        "    comment : List\n",
        "      List of comments\n",
        "    score : List\n",
        "      List of rating score\n",
        "    \"\"\"\n",
        "    #create connection\n",
        "    data = requests.get(url)\n",
        "    print(\"requests code : {}\".format(data.status_code)) \n",
        "    print(\"note\\n2xx: success\\n4xx, 5xx: error\")\n",
        "    \n",
        "    #scrape comment and score\n",
        "    start_time = time() #start scraping data from page1\n",
        "    r = requests.get(url, params=dict(query=\"web scraping\",page=1)) \n",
        "    soup = BeautifulSoup(r.text,\"html.parser\")\n",
        "    n = len(soup.find_all(\"div\",{\"class\":\"comments__content\"})) #find n of items in the page\n",
        "    \n",
        "    #extract each item\n",
        "    comment = [soup.find_all(\"div\",\n",
        "                             {\"class\":\"comments__content\"})[i].get_text().strip() for i in range(0,n)]\n",
        "    score = [soup.find_all(\"span\",\n",
        "                           {\"class\":\"stars star-rating\"})[i].attrs[\"data-score\"] for i in range(0,n)]\n",
        "    elapsed_time = time() - start_time #finish scraping data from page1\n",
        "    print(\"Time used for scraping data from page - 1 : {} s\".format(elapsed_time))\n",
        "    sleep(randint(1,3)) #mimic human behavior\n",
        "           \n",
        "    p = 2 #start scraping data from page2\n",
        "    while n > 0: #until the number of items in a page = 0\n",
        "        start_time = time() \n",
        "        r = requests.get(url, params=dict(query=\"web scraping\",page=p))\n",
        "        soup = BeautifulSoup(r.text,\"html.parser\")\n",
        "        n = len(soup.find_all(\"div\",{\"class\":\"comments__content\"}))\n",
        "        [comment.append(soup.find_all(\"div\",\n",
        "                                      {\"class\":\"comments__content\"})[i].get_text().strip()) for i in range(0,n)]\n",
        "        [score.append(soup.find_all(\"span\",\n",
        "                                    {\"class\":\"stars star-rating\"})[i].attrs[\"data-score\"]) for i in range(0,n)]\n",
        "        elapsed_time = time() - start_time\n",
        "        print(\"Time used for scraping data from page - {} : {} s\".format(p, elapsed_time))\n",
        "        p +=1\n",
        "        sleep(randint(1,3))\n",
        "\n",
        "    df = pd.DataFrame({\"comment\": comment, \n",
        "              \"score\": score\n",
        "              })\n",
        "    \n",
        "    df[\"hospital\"] = hospitalName\n",
        "    \n",
        "    return df"
      ],
      "execution_count": 0,
      "outputs": []
    },
    {
      "cell_type": "markdown",
      "metadata": {
        "id": "Nnw4gthuddw6",
        "colab_type": "text"
      },
      "source": [
        "คำสั่งแปลงจากภาษาไทยเป็นภาษาอังกฤษ"
      ]
    },
    {
      "cell_type": "code",
      "metadata": {
        "id": "NZOYhWxhdbMK",
        "colab_type": "code",
        "colab": {}
      },
      "source": [
        "def th2en(comment):\n",
        "  try:\n",
        "    textTrans = Translator().translate(comment, src=\"th\", dest=\"en\").text\n",
        "  except:\n",
        "    textTrans = \"\"\n",
        "    print(\"\\n Can not translate \" + comment)\n",
        "\n",
        "  return textTrans"
      ],
      "execution_count": 0,
      "outputs": []
    },
    {
      "cell_type": "markdown",
      "metadata": {
        "id": "9tMosSLbdjhs",
        "colab_type": "text"
      },
      "source": [
        "ดึง comment โรงพยาบาลกรุงเทพคริสเตียน\n",
        "\n"
      ]
    },
    {
      "cell_type": "code",
      "metadata": {
        "id": "D6xFPzxndgEQ",
        "colab_type": "code",
        "outputId": "b0809b8a-a946-465a-93c7-691ac0ac7a81",
        "colab": {
          "base_uri": "https://localhost:8080/",
          "height": 561
        }
      },
      "source": [
        "df = honestdoc_comment(r\"https://www.honestdocs.co/hospitals/bangkok-christian-hospital\", \"bangkok-christian-hospital\")\n",
        "comments = df"
      ],
      "execution_count": 270,
      "outputs": [
        {
          "output_type": "stream",
          "text": [
            "requests code : 200\n",
            "note\n",
            "2xx: success\n",
            "4xx, 5xx: error\n",
            "Time used for scraping data from page - 1 : 1.242136001586914 s\n",
            "Time used for scraping data from page - 2 : 1.4689140319824219 s\n",
            "Time used for scraping data from page - 3 : 1.2458109855651855 s\n",
            "Time used for scraping data from page - 4 : 1.2619600296020508 s\n",
            "Time used for scraping data from page - 5 : 1.2475183010101318 s\n",
            "Time used for scraping data from page - 6 : 1.247506856918335 s\n",
            "Time used for scraping data from page - 7 : 1.2412643432617188 s\n",
            "Time used for scraping data from page - 8 : 1.3625831604003906 s\n",
            "Time used for scraping data from page - 9 : 1.2343556880950928 s\n",
            "Time used for scraping data from page - 10 : 1.2309379577636719 s\n",
            "Time used for scraping data from page - 11 : 1.233698844909668 s\n",
            "Time used for scraping data from page - 12 : 1.2576844692230225 s\n",
            "Time used for scraping data from page - 13 : 1.2484424114227295 s\n",
            "Time used for scraping data from page - 14 : 1.267143964767456 s\n",
            "Time used for scraping data from page - 15 : 1.2186110019683838 s\n",
            "Time used for scraping data from page - 16 : 1.2551684379577637 s\n",
            "Time used for scraping data from page - 17 : 1.2683236598968506 s\n",
            "Time used for scraping data from page - 18 : 1.2106192111968994 s\n",
            "Time used for scraping data from page - 19 : 1.3495118618011475 s\n",
            "Time used for scraping data from page - 20 : 1.2649500370025635 s\n",
            "Time used for scraping data from page - 21 : 1.2267255783081055 s\n",
            "Time used for scraping data from page - 22 : 1.2435433864593506 s\n",
            "Time used for scraping data from page - 23 : 1.2712061405181885 s\n",
            "Time used for scraping data from page - 24 : 1.2327983379364014 s\n",
            "Time used for scraping data from page - 25 : 1.246751070022583 s\n",
            "Time used for scraping data from page - 26 : 1.379624843597412 s\n",
            "Time used for scraping data from page - 27 : 1.2478904724121094 s\n",
            "Time used for scraping data from page - 28 : 0.9960618019104004 s\n"
          ],
          "name": "stdout"
        }
      ]
    },
    {
      "cell_type": "markdown",
      "metadata": {
        "id": "QoAYf28xev1L",
        "colab_type": "text"
      },
      "source": [
        "นำคอมเม้นท์มาแปลงเป็นภาษาอังกฤษ"
      ]
    },
    {
      "cell_type": "code",
      "metadata": {
        "id": "e4IZiChTewxy",
        "colab_type": "code",
        "outputId": "ff4aa4bf-7413-4789-cda0-459f9b3630be",
        "colab": {
          "base_uri": "https://localhost:8080/",
          "height": 34
        }
      },
      "source": [
        "tqdm.pandas()\n",
        "comments[\"en\"] = comments.progress_apply(lambda x: th2en(x[\"comment\"]), axis=1)\n",
        "\n",
        "comments = df"
      ],
      "execution_count": 271,
      "outputs": [
        {
          "output_type": "stream",
          "text": [
            "100%|██████████| 80/80 [00:10<00:00,  7.84it/s]\n"
          ],
          "name": "stderr"
        }
      ]
    },
    {
      "cell_type": "markdown",
      "metadata": {
        "id": "IReVG-WVeT1K",
        "colab_type": "text"
      },
      "source": [
        "ได้ทั้งหมด 80 แถว 4 column"
      ]
    },
    {
      "cell_type": "code",
      "metadata": {
        "id": "jmXT4LnFdmlv",
        "colab_type": "code",
        "outputId": "7dd1009a-b340-4dbd-a533-f30d593c8242",
        "colab": {
          "base_uri": "https://localhost:8080/",
          "height": 34
        }
      },
      "source": [
        "comments.shape"
      ],
      "execution_count": 272,
      "outputs": [
        {
          "output_type": "execute_result",
          "data": {
            "text/plain": [
              "(80, 4)"
            ]
          },
          "metadata": {
            "tags": []
          },
          "execution_count": 272
        }
      ]
    },
    {
      "cell_type": "markdown",
      "metadata": {
        "id": "31REx1lEfBC8",
        "colab_type": "text"
      },
      "source": [
        "นับจำนวนคอมเม้นท์ได้ทั้งหมด 80 คอมเม้น"
      ]
    },
    {
      "cell_type": "code",
      "metadata": {
        "id": "TcgOYhHbep5t",
        "colab_type": "code",
        "outputId": "6a257252-79e4-46b6-d587-b4744000748b",
        "colab": {
          "base_uri": "https://localhost:8080/",
          "height": 51
        }
      },
      "source": [
        "comments[\"hospital\"].value_counts()"
      ],
      "execution_count": 273,
      "outputs": [
        {
          "output_type": "execute_result",
          "data": {
            "text/plain": [
              "bangkok-christian-hospital    80\n",
              "Name: hospital, dtype: int64"
            ]
          },
          "metadata": {
            "tags": []
          },
          "execution_count": 273
        }
      ]
    },
    {
      "cell_type": "markdown",
      "metadata": {
        "id": "OEQQSkGEfGNi",
        "colab_type": "text"
      },
      "source": [
        "ตรวจสอบ 5 แถวแรกของข้อมูล"
      ]
    },
    {
      "cell_type": "code",
      "metadata": {
        "id": "HhPFZm-wfDOM",
        "colab_type": "code",
        "outputId": "a8f41256-613d-4ada-9ea8-fe63256da07a",
        "colab": {
          "base_uri": "https://localhost:8080/",
          "height": 359
        }
      },
      "source": [
        "comments.head(10)"
      ],
      "execution_count": 274,
      "outputs": [
        {
          "output_type": "execute_result",
          "data": {
            "text/html": [
              "<div>\n",
              "<style scoped>\n",
              "    .dataframe tbody tr th:only-of-type {\n",
              "        vertical-align: middle;\n",
              "    }\n",
              "\n",
              "    .dataframe tbody tr th {\n",
              "        vertical-align: top;\n",
              "    }\n",
              "\n",
              "    .dataframe thead th {\n",
              "        text-align: right;\n",
              "    }\n",
              "</style>\n",
              "<table border=\"1\" class=\"dataframe\">\n",
              "  <thead>\n",
              "    <tr style=\"text-align: right;\">\n",
              "      <th></th>\n",
              "      <th>comment</th>\n",
              "      <th>score</th>\n",
              "      <th>hospital</th>\n",
              "      <th>en</th>\n",
              "    </tr>\n",
              "  </thead>\n",
              "  <tbody>\n",
              "    <tr>\n",
              "      <th>0</th>\n",
              "      <td>สิ่งที่ชอบอย่างหนึ่งมากจริงๆคือบุคลากรในโรงพยา...</td>\n",
              "      <td>5</td>\n",
              "      <td>bangkok-christian-hospital</td>\n",
              "      <td>What is really like a lot of people in this ho...</td>\n",
              "    </tr>\n",
              "    <tr>\n",
              "      <th>1</th>\n",
              "      <td>ได้เข้าไปใช้บริกาที่นี่ มีความสะอาดและต้อนรับด...</td>\n",
              "      <td>5</td>\n",
              "      <td>bangkok-christian-hospital</td>\n",
              "      <td>Riga has to use here. Clean and good reception...</td>\n",
              "    </tr>\n",
              "    <tr>\n",
              "      <th>2</th>\n",
              "      <td>สิ่งที่ชอบอย่างหนึ่งมากจริงๆคือบุคลากรในโรงพยา...</td>\n",
              "      <td>4</td>\n",
              "      <td>bangkok-christian-hospital</td>\n",
              "      <td>What is really like a lot of people in this ho...</td>\n",
              "    </tr>\n",
              "    <tr>\n",
              "      <th>3</th>\n",
              "      <td>พยาบาล คุณหมอพูดจา ดูแลดีค่ะ โรงพยาบาลมีที่จอด...</td>\n",
              "      <td>5</td>\n",
              "      <td>bangkok-christian-hospital</td>\n",
              "      <td>Hospital doctors speak good care hospital park...</td>\n",
              "    </tr>\n",
              "    <tr>\n",
              "      <th>4</th>\n",
              "      <td>ไปหาคุณหมอด้วยอาการปวดขาคุณหมอถามนิดหน่อยแล้วก...</td>\n",
              "      <td>3</td>\n",
              "      <td>bangkok-christian-hospital</td>\n",
              "      <td>You go to the doctor with symptoms of leg pain...</td>\n",
              "    </tr>\n",
              "    <tr>\n",
              "      <th>5</th>\n",
              "      <td>เป็นโรงพยาบาลที่ทุกคนในครอบครัวใช้บริการ เพราะ...</td>\n",
              "      <td>4</td>\n",
              "      <td>bangkok-christian-hospital</td>\n",
              "      <td>The hospital where the family service. Because...</td>\n",
              "    </tr>\n",
              "    <tr>\n",
              "      <th>6</th>\n",
              "      <td>ป่วยตกบัยฝนไดค่ะเข้ารักษาห้องฉุกเฉินมีประกันสุ...</td>\n",
              "      <td>4</td>\n",
              "      <td>bangkok-christian-hospital</td>\n",
              "      <td>Buffett's rain falls ill treat me into the eme...</td>\n",
              "    </tr>\n",
              "    <tr>\n",
              "      <th>7</th>\n",
              "      <td>เป็นคนไข้ประจำมาตลอด 20 กว่าปี ล่าสุดได้ไปหาหม...</td>\n",
              "      <td>2</td>\n",
              "      <td>bangkok-christian-hospital</td>\n",
              "      <td>Patients are routinely over the last 20 years ...</td>\n",
              "    </tr>\n",
              "    <tr>\n",
              "      <th>8</th>\n",
              "      <td>ไปรับการรักษาโรครูมาตอยด์ที่โรงพยาบาลกรุงเทพคร...</td>\n",
              "      <td>5</td>\n",
              "      <td>bangkok-christian-hospital</td>\n",
              "      <td>To treat rheumatoid at the Bangkok Christian H...</td>\n",
              "    </tr>\n",
              "    <tr>\n",
              "      <th>9</th>\n",
              "      <td>บริการดี อธิบายละเอียด ใส่ใจคนไข้</td>\n",
              "      <td>5</td>\n",
              "      <td>bangkok-christian-hospital</td>\n",
              "      <td>Good service described patient care</td>\n",
              "    </tr>\n",
              "  </tbody>\n",
              "</table>\n",
              "</div>"
            ],
            "text/plain": [
              "                                             comment  ...                                                 en\n",
              "0  สิ่งที่ชอบอย่างหนึ่งมากจริงๆคือบุคลากรในโรงพยา...  ...  What is really like a lot of people in this ho...\n",
              "1  ได้เข้าไปใช้บริกาที่นี่ มีความสะอาดและต้อนรับด...  ...  Riga has to use here. Clean and good reception...\n",
              "2  สิ่งที่ชอบอย่างหนึ่งมากจริงๆคือบุคลากรในโรงพยา...  ...  What is really like a lot of people in this ho...\n",
              "3  พยาบาล คุณหมอพูดจา ดูแลดีค่ะ โรงพยาบาลมีที่จอด...  ...  Hospital doctors speak good care hospital park...\n",
              "4  ไปหาคุณหมอด้วยอาการปวดขาคุณหมอถามนิดหน่อยแล้วก...  ...  You go to the doctor with symptoms of leg pain...\n",
              "5  เป็นโรงพยาบาลที่ทุกคนในครอบครัวใช้บริการ เพราะ...  ...  The hospital where the family service. Because...\n",
              "6  ป่วยตกบัยฝนไดค่ะเข้ารักษาห้องฉุกเฉินมีประกันสุ...  ...  Buffett's rain falls ill treat me into the eme...\n",
              "7  เป็นคนไข้ประจำมาตลอด 20 กว่าปี ล่าสุดได้ไปหาหม...  ...  Patients are routinely over the last 20 years ...\n",
              "8  ไปรับการรักษาโรครูมาตอยด์ที่โรงพยาบาลกรุงเทพคร...  ...  To treat rheumatoid at the Bangkok Christian H...\n",
              "9                  บริการดี อธิบายละเอียด ใส่ใจคนไข้  ...                Good service described patient care\n",
              "\n",
              "[10 rows x 4 columns]"
            ]
          },
          "metadata": {
            "tags": []
          },
          "execution_count": 274
        }
      ]
    },
    {
      "cell_type": "markdown",
      "metadata": {
        "id": "DZdHVdApfLd2",
        "colab_type": "text"
      },
      "source": [
        "Mount Drive เพื่อAuthorize เข้าถึง Folder ในDrive"
      ]
    },
    {
      "cell_type": "code",
      "metadata": {
        "id": "nN6_cE6IfJD6",
        "colab_type": "code",
        "outputId": "ecdc53f3-11b7-400a-98a1-1fd08cb89151",
        "colab": {
          "base_uri": "https://localhost:8080/",
          "height": 34
        }
      },
      "source": [
        "from google.colab import drive\n",
        "drive.mount('/content/gdrive')\n",
        "\n",
        "import os\n",
        "os.chdir('/content/gdrive/My Drive/DS532_Text_Analytic/Project_Hospital')"
      ],
      "execution_count": 275,
      "outputs": [
        {
          "output_type": "stream",
          "text": [
            "Drive already mounted at /content/gdrive; to attempt to forcibly remount, call drive.mount(\"/content/gdrive\", force_remount=True).\n"
          ],
          "name": "stdout"
        }
      ]
    },
    {
      "cell_type": "markdown",
      "metadata": {
        "id": "Ol4r4Od3fVxJ",
        "colab_type": "text"
      },
      "source": [
        "Save ข้อมูลเป็น csv"
      ]
    },
    {
      "cell_type": "code",
      "metadata": {
        "id": "_DEiugaafPAE",
        "colab_type": "code",
        "colab": {}
      },
      "source": [
        "#backup data \n",
        "comments.to_csv(\"comment_bangkok-christian-hospital.csv\", index=False)"
      ],
      "execution_count": 0,
      "outputs": []
    },
    {
      "cell_type": "code",
      "metadata": {
        "id": "TyscoVQbfX07",
        "colab_type": "code",
        "colab": {}
      },
      "source": [
        "from tqdm import tqdm_notebook"
      ],
      "execution_count": 0,
      "outputs": []
    },
    {
      "cell_type": "markdown",
      "metadata": {
        "id": "cZ1r5AE3f5Zf",
        "colab_type": "text"
      },
      "source": [
        "**Read data**"
      ]
    },
    {
      "cell_type": "code",
      "metadata": {
        "id": "ey_IAakUf3IA",
        "colab_type": "code",
        "colab": {}
      },
      "source": [
        "rama = pd.read_csv(\"comment_bangkok-christian-hospital.csv\")\n",
        "rama = rama.reset_index()\n",
        "rama = rama.rename(columns={\"index\": \"cid\"})"
      ],
      "execution_count": 0,
      "outputs": []
    },
    {
      "cell_type": "markdown",
      "metadata": {
        "id": "hnE3JinPgC0M",
        "colab_type": "text"
      },
      "source": [
        "Sentence Tokenize"
      ]
    },
    {
      "cell_type": "code",
      "metadata": {
        "id": "cEVRtRLnf-pu",
        "colab_type": "code",
        "outputId": "2fea2abb-064d-449e-8f58-08c6751dfced",
        "colab": {
          "base_uri": "https://localhost:8080/",
          "height": 68
        }
      },
      "source": [
        "import nltk\n",
        "nltk.download('punkt')"
      ],
      "execution_count": 279,
      "outputs": [
        {
          "output_type": "stream",
          "text": [
            "[nltk_data] Downloading package punkt to /root/nltk_data...\n",
            "[nltk_data]   Package punkt is already up-to-date!\n"
          ],
          "name": "stdout"
        },
        {
          "output_type": "execute_result",
          "data": {
            "text/plain": [
              "True"
            ]
          },
          "metadata": {
            "tags": []
          },
          "execution_count": 279
        }
      ]
    },
    {
      "cell_type": "code",
      "metadata": {
        "id": "epk4kCvNgHLq",
        "colab_type": "code",
        "colab": {}
      },
      "source": [
        "from nltk import sent_tokenize\n",
        "\n",
        "sentences = []\n",
        "cids = []\n",
        "for cid in rama[\"cid\"]:\n",
        "    s = sent_tokenize(rama.loc[cid, \"en\"])\n",
        "    sentences = sentences + s\n",
        "    cids = cids + [cid] * len(s)"
      ],
      "execution_count": 0,
      "outputs": []
    },
    {
      "cell_type": "markdown",
      "metadata": {
        "id": "YU3rVJqlgSK2",
        "colab_type": "text"
      },
      "source": [
        "**Sentence-level sentiment**"
      ]
    },
    {
      "cell_type": "code",
      "metadata": {
        "id": "kb6lakXpgg6K",
        "colab_type": "code",
        "outputId": "d76c042c-e972-41d1-eb2e-5d49259a1110",
        "colab": {
          "base_uri": "https://localhost:8080/",
          "height": 85
        }
      },
      "source": [
        "!pip install twython"
      ],
      "execution_count": 281,
      "outputs": [
        {
          "output_type": "stream",
          "text": [
            "Requirement already satisfied: twython in /usr/local/lib/python3.6/dist-packages (3.8.2)\n",
            "Requirement already satisfied: requests>=2.1.0 in /usr/local/lib/python3.6/dist-packages (from twython) (2.9.1)\n",
            "Requirement already satisfied: requests-oauthlib>=0.4.0 in /usr/local/lib/python3.6/dist-packages (from twython) (1.3.0)\n",
            "Requirement already satisfied: oauthlib>=3.0.0 in /usr/local/lib/python3.6/dist-packages (from requests-oauthlib>=0.4.0->twython) (3.1.0)\n"
          ],
          "name": "stdout"
        }
      ]
    },
    {
      "cell_type": "code",
      "metadata": {
        "id": "8bRgMkRWgrh-",
        "colab_type": "code",
        "colab": {}
      },
      "source": [
        "from nltk.sentiment.vader import SentimentIntensityAnalyzer"
      ],
      "execution_count": 0,
      "outputs": []
    },
    {
      "cell_type": "code",
      "metadata": {
        "id": "06HoUcuagwd6",
        "colab_type": "code",
        "colab": {}
      },
      "source": [
        "def predict_sentiment(sentence):\n",
        "  sa = SentimentIntensityAnalyzer()\n",
        "  sentiment_distribution = sa.polarity_scores(sentence)\n",
        "  score = sentiment_distribution.get(\"compound\")\n",
        "  \n",
        "  if score >= 0.05:\n",
        "    return \"positive\"\n",
        "  elif score <= -0.05:\n",
        "    return \"negative\"\n",
        "  else:\n",
        "    return \"neutral\""
      ],
      "execution_count": 0,
      "outputs": []
    },
    {
      "cell_type": "code",
      "metadata": {
        "id": "x-2sj7Swh4Je",
        "colab_type": "code",
        "outputId": "995f1781-173d-4bc1-8e70-01904cfa9632",
        "colab": {
          "base_uri": "https://localhost:8080/",
          "height": 68
        }
      },
      "source": [
        "import nltk\n",
        "nltk.download(\"vader_lexicon\")"
      ],
      "execution_count": 284,
      "outputs": [
        {
          "output_type": "stream",
          "text": [
            "[nltk_data] Downloading package vader_lexicon to /root/nltk_data...\n",
            "[nltk_data]   Package vader_lexicon is already up-to-date!\n"
          ],
          "name": "stdout"
        },
        {
          "output_type": "execute_result",
          "data": {
            "text/plain": [
              "True"
            ]
          },
          "metadata": {
            "tags": []
          },
          "execution_count": 284
        }
      ]
    },
    {
      "cell_type": "code",
      "metadata": {
        "id": "zXZmiSfagyWP",
        "colab_type": "code",
        "outputId": "8c6f4834-1e13-4b82-d450-0304144017c0",
        "colab": {
          "base_uri": "https://localhost:8080/",
          "height": 66,
          "referenced_widgets": [
            "67fe954f86bd48d194112efa8a102e15",
            "fce85487d17c4ce9b8cec3272133db14",
            "f4c9328e1d364ebba1775fa6f49f65c2",
            "83f517dbb276408893f721983c388dee",
            "d79451012acb4f769d02f13338445161",
            "0796c83b3cff4a28b9b5d9a0ca69444e",
            "99fd61ce5a754594b6d9a1cb884a34c6",
            "2e52c0e600eb4974a9c2b2cbb50577cc"
          ]
        }
      },
      "source": [
        "sentiments = []\n",
        "for sentence in tqdm_notebook(sentences, total=len(sentences)):\n",
        "    sentiments.append(predict_sentiment(sentence))"
      ],
      "execution_count": 285,
      "outputs": [
        {
          "output_type": "display_data",
          "data": {
            "application/vnd.jupyter.widget-view+json": {
              "model_id": "67fe954f86bd48d194112efa8a102e15",
              "version_minor": 0,
              "version_major": 2
            },
            "text/plain": [
              "HBox(children=(FloatProgress(value=0.0, max=315.0), HTML(value='')))"
            ]
          },
          "metadata": {
            "tags": []
          }
        },
        {
          "output_type": "stream",
          "text": [
            "\n"
          ],
          "name": "stdout"
        }
      ]
    },
    {
      "cell_type": "markdown",
      "metadata": {
        "id": "--0zHQiajGlm",
        "colab_type": "text"
      },
      "source": [
        "Parsing"
      ]
    },
    {
      "cell_type": "code",
      "metadata": {
        "id": "JVefOLf4g0NI",
        "colab_type": "code",
        "outputId": "ea9d0a8a-03eb-4b71-e582-3728f65c18e7",
        "colab": {
          "base_uri": "https://localhost:8080/",
          "height": 102
        }
      },
      "source": [
        "nltk.download('averaged_perceptron_tagger')"
      ],
      "execution_count": 286,
      "outputs": [
        {
          "output_type": "stream",
          "text": [
            "[nltk_data] Downloading package averaged_perceptron_tagger to\n",
            "[nltk_data]     /root/nltk_data...\n",
            "[nltk_data]   Package averaged_perceptron_tagger is already up-to-\n",
            "[nltk_data]       date!\n"
          ],
          "name": "stdout"
        },
        {
          "output_type": "execute_result",
          "data": {
            "text/plain": [
              "True"
            ]
          },
          "metadata": {
            "tags": []
          },
          "execution_count": 286
        }
      ]
    },
    {
      "cell_type": "code",
      "metadata": {
        "id": "2xzxyXyajJR5",
        "colab_type": "code",
        "colab": {}
      },
      "source": [
        "from nltk import word_tokenize, pos_tag, RegexpParser"
      ],
      "execution_count": 0,
      "outputs": []
    },
    {
      "cell_type": "code",
      "metadata": {
        "id": "y301aSNrjRPU",
        "colab_type": "code",
        "colab": {}
      },
      "source": [
        "grammar = \"\"\"NP: {<NN|NNS>+}\n",
        "                 {<NN|NNS>+<CC><NN|NNS>+}\"\"\"\n",
        "chunker = RegexpParser(grammar)\n",
        "parse_trees = []\n",
        "for sentence in sentences:\n",
        "    parse_trees.append(chunker.parse(pos_tag(word_tokenize(sentence))))"
      ],
      "execution_count": 0,
      "outputs": []
    },
    {
      "cell_type": "code",
      "metadata": {
        "id": "OvVa8r19jS4U",
        "colab_type": "code",
        "outputId": "ce96959e-6226-4eb2-9dcb-96557feed22d",
        "colab": {
          "base_uri": "https://localhost:8080/",
          "height": 1000
        }
      },
      "source": [
        "parse_trees"
      ],
      "execution_count": 289,
      "outputs": [
        {
          "output_type": "execute_result",
          "data": {
            "text/plain": [
              "[Tree('S', [('What', 'WP'), ('is', 'VBZ'), ('really', 'RB'), ('like', 'IN'), ('a', 'DT'), Tree('NP', [('lot', 'NN')]), ('of', 'IN'), Tree('NP', [('people', 'NNS')]), ('in', 'IN'), ('this', 'DT'), Tree('NP', [('hospital', 'NN')]), ('.', '.')]),\n",
              " Tree('S', [('Most', 'JJS'), ('smiling', 'JJ'), Tree('NP', [('Greetings', 'NNS'), ('care', 'NN'), ('patients', 'NNS')]), ('and', 'CC'), ('those', 'DT'), ('who', 'WP'), ('use', 'VBP'), ('the', 'DT'), Tree('NP', [('service', 'NN')]), ('were', 'VBD'), ('very', 'RB'), ('good', 'JJ'), ('.', '.')]),\n",
              " Tree('S', [Tree('NP', [('Talk', 'NN'), ('relax', 'NN')]), ('at', 'IN'), ('all', 'DT'), ('.', '.')]),\n",
              " Tree('S', [('Most', 'JJS'), ('of', 'IN'), ('the', 'DT'), Tree('NP', [('doctors', 'NNS')]), ('I', 'PRP'), ('had', 'VBD'), ('the', 'DT'), ('good-hearted', 'JJ'), Tree('NP', [('people', 'NNS')]), ('I', 'PRP'), ('have', 'VBP'), ('ever', 'RB'), ('come', 'VBN'), ('across', 'IN'), Tree('NP', [('someone', 'NN')]), ('who', 'WP'), (\"'s\", 'VBZ'), ('not', 'RB'), ('very', 'RB'), ('much', 'RB'), ('.', '.')]),\n",
              " Tree('S', [('The', 'DT'), ('Department', 'NNP'), ('of', 'IN'), ('Medicine', 'NNP'), ('Private', 'NNP'), Tree('NP', [('rooms', 'NNS')]), ('are', 'VBP'), ('OK', 'JJ'), ('Private', 'NNP'), ('worth', 'IN'), ('the', 'DT'), Tree('NP', [('price', 'NN')]), ('of', 'IN'), ('...', ':')]),\n",
              " Tree('S', [('Riga', 'NNP'), ('has', 'VBZ'), ('to', 'TO'), ('use', 'VB'), ('here', 'RB'), ('.', '.')]),\n",
              " Tree('S', [('Clean', 'JJ'), ('and', 'CC'), ('good', 'JJ'), Tree('NP', [('reception', 'NN')]), ('The', 'DT'), Tree('NP', [('service', 'NN')]), ('was', 'VBD'), ('with', 'IN'), ('the', 'DT'), Tree('NP', [('system', 'NN')]), ('.', '.')]),\n",
              " Tree('S', [('A', 'DT'), Tree('NP', [('nurse', 'NN')]), ('and', 'CC'), Tree('NP', [('doctor', 'NN')]), ('There', 'EX'), ('are', 'VBP'), Tree('NP', [('facilities', 'NNS')]), ('within', 'IN'), ('the', 'DT'), Tree('NP', [('hospital', 'NN')]), ('.', '.')]),\n",
              " Tree('S', [Tree('NP', [('Doctors', 'NNS')]), ('are', 'VBP'), ('competent', 'JJ'), ('The', 'DT'), Tree('NP', [('hospital', 'NN')]), ('is', 'VBZ'), ('a', 'DT'), ('good', 'JJ'), Tree('NP', [('thing', 'NN')]), ('to', 'TO'), ('be', 'VB'), ('able', 'JJ'), ('to', 'TO'), ('use', 'VB'), ('the', 'DT'), Tree('NP', [('service', 'NN')]), ('.', '.')]),\n",
              " Tree('S', [('I', 'PRP'), ('would', 'MD'), ('recommend', 'VB'), ('to', 'TO'), ('use', 'VB'), ('the', 'DT'), Tree('NP', [('service', 'NN')]), ('if', 'IN'), ('they', 'PRP'), ('are', 'VBP'), ('sick', 'JJ'), ('.', '.')]),\n",
              " Tree('S', [('After', 'IN'), ('going', 'VBG'), ('to', 'TO'), ('the', 'DT'), Tree('NP', [('doctor', 'NN')]), ('and', 'CC'), ('the', 'DT'), Tree('NP', [('patient', 'NN'), ('feels', 'NNS')]), ('better', 'RBR'), ('and', 'CC'), ('get', 'VB'), ('well', 'RB'), (',', ','), Tree('NP', [('thank', 'NN')]), ('you', 'PRP'), ('.', '.')]),\n",
              " Tree('S', [('What', 'WP'), ('is', 'VBZ'), ('really', 'RB'), ('like', 'IN'), ('a', 'DT'), Tree('NP', [('lot', 'NN')]), ('of', 'IN'), Tree('NP', [('people', 'NNS')]), ('in', 'IN'), ('this', 'DT'), Tree('NP', [('hospital', 'NN')]), ('.', '.')]),\n",
              " Tree('S', [('Most', 'JJS'), ('smiling', 'JJ'), Tree('NP', [('Greetings', 'NNS'), ('care', 'NN'), ('patients', 'NNS')]), ('and', 'CC'), ('those', 'DT'), ('who', 'WP'), ('use', 'VBP'), ('the', 'DT'), Tree('NP', [('service', 'NN')]), ('were', 'VBD'), ('very', 'RB'), ('good', 'JJ'), ('.', '.')]),\n",
              " Tree('S', [Tree('NP', [('Talk', 'NN'), ('relax', 'NN')]), ('at', 'IN'), ('all', 'DT'), ('.', '.')]),\n",
              " Tree('S', [('Most', 'JJS'), Tree('NP', [('doctors', 'NNS')]), ('who', 'WP'), ('have', 'VBP'), ('had', 'VBD'), ('the', 'DT'), ('good-hearted', 'JJ'), Tree('NP', [('people', 'NNS')]), ('I', 'PRP'), ('have', 'VBP'), ('ever', 'RB'), ('come', 'VBN'), ('across', 'IN'), Tree('NP', [('someone', 'NN')]), ('who', 'WP'), (\"'s\", 'VBZ'), ('not', 'RB'), ('very', 'RB'), ('much', 'RB'), ('.', '.')]),\n",
              " Tree('S', [('The', 'DT'), ('Department', 'NNP'), ('of', 'IN'), ('Medicine', 'NNP'), ('Private', 'NNP'), Tree('NP', [('rooms', 'NNS')]), ('are', 'VBP'), ('OK', 'JJ'), ('Private', 'NNP'), ('is', 'VBZ'), ('worth', 'IN'), ('the', 'DT'), Tree('NP', [('price', 'NN')]), ('Sister', 'NNP'), Tree('NP', [('midwife', 'NN')]), ('came', 'VBD'), ('here', 'RB'), ('it', 'PRP'), ('was', 'VBD'), ('safe', 'JJ'), Tree('NP', [('nursing', 'NN'), ('care', 'NN')]), ('nurse', 'RB'), ('well', 'RB'), ('.', '.')]),\n",
              " Tree('S', [('Stick', 'NNP'), ('to', 'TO'), ('that', 'DT'), Tree('NP', [('price', 'NN')]), ('The', 'DT'), Tree('NP', [('treatment', 'NN')]), ('may', 'MD'), ('be', 'VB'), ('a', 'DT'), Tree('NP', [('bit', 'NN')]), ('high', 'JJ'), ('.', '.')]),\n",
              " Tree('S', [('But', 'CC'), ('because', 'IN'), ('it', 'PRP'), ('is', 'VBZ'), ('a', 'DT'), ('privately', 'RB'), ('held', 'VBN'), ('her', 'PRP'), ('.', '.')]),\n",
              " Tree('S', [('I', 'PRP'), ('understand', 'VBP'), ('some', 'DT')]),\n",
              " Tree('S', [Tree('NP', [('Hospital', 'NN'), ('doctors', 'NNS')]), ('speak', 'VBP'), ('good', 'JJ'), Tree('NP', [('care', 'NN'), ('hospital', 'NN'), ('parking', 'NN'), ('lot', 'NN')]), ('of', 'IN'), ('the', 'DT'), Tree('NP', [('buildings', 'NNS')]), ('are', 'VBP'), ('easy', 'JJ'), ('to', 'TO'), ('maintain', 'VB'), ('affordable', 'JJ'), Tree('NP', [('prices', 'NNS')]), ('.', '.')]),\n",
              " Tree('S', [('The', 'DT'), Tree('NP', [('service', 'NN')]), ('has', 'VBZ'), ('been', 'VBN'), ('available', 'JJ'), ('in', 'IN'), ('the', 'DT'), ('near', 'JJ'), ('BTS', 'NNP'), Tree('NP', [('return', 'NN'), ('service', 'NN')]), ('.', '.')]),\n",
              " Tree('S', [('Check', 'NNP'), Tree('NP', [('queues', 'NNS')]), ('soon', 'RB'), ('doing', 'VBG'), ('a', 'DT'), ('brisk', 'JJ'), Tree('NP', [('mall', 'NN'), ('adjacent', 'NN')]), ('to', 'TO'), ('the', 'DT'), Tree('NP', [('hospital', 'NN')]), ('.', '.')]),\n",
              " Tree('S', [('Make', 'NNP'), Tree('NP', [('time', 'NN')]), ('to', 'TO'), ('wait', 'VB'), ('for', 'IN'), Tree('NP', [('test', 'NN'), ('results', 'NNS')]), ('You', 'PRP'), ('can', 'MD'), ('go', 'VB'), ('out', 'RP'), ('and', 'CC'), ('find', 'VB'), Tree('NP', [('something', 'NN')]), ('to', 'TO'), ('eat', 'VB'), ('before', 'IN'), ('going', 'VBG'), ('to', 'TO'), ('listen', 'VB'), ('to', 'TO'), ('the', 'DT'), Tree('NP', [('results', 'NNS')]), ('.', '.')]),\n",
              " Tree('S', [('Doctor', 'NNP'), ('friendly', 'JJ'), Tree('NP', [('eloquence', 'NN')]), ('generous', 'JJ'), Tree('NP', [('treatment', 'NN')]), ('here', 'RB'), ('since', 'IN'), Tree('NP', [('childhood', 'NN')]), ('.', '.')]),\n",
              " Tree('S', [('The', 'DT'), Tree('NP', [('hospital', 'NN')]), ('has', 'VBZ'), ('always', 'RB'), ('been', 'VBN'), ('good', 'JJ'), ('.', '.')]),\n",
              " Tree('S', [('You', 'PRP'), ('go', 'VBP'), ('to', 'TO'), ('the', 'DT'), Tree('NP', [('doctor', 'NN')]), ('with', 'IN'), Tree('NP', [('symptoms', 'NNS')]), ('of', 'IN'), Tree('NP', [('leg', 'NN'), ('pain', 'NN')]), (',', ','), ('ask', 'VB'), ('your', 'PRP$'), Tree('NP', [('doctor', 'NN')]), ('to', 'TO'), ('prescribe', 'VB'), ('the', 'DT'), Tree('NP', [('medication', 'NN')]), ('is', 'VBZ'), ('ingested', 'VBN'), ('then', 'RB'), ('slightly', 'RB'), ('loosen', 'VBZ'), ('the', 'DT'), Tree('NP', [('line', 'NN')]), ('and', 'CC'), ('paint', 'VB'), ('a', 'DT'), ('little', 'JJ'), (',', ','), ('priced', 'VBN'), ('at', 'IN'), ('1,490', 'CD'), ('as', 'IN'), ('this', 'DT'), ('is', 'VBZ'), ('never', 'RB'), ('less', 'JJR'), ('than', 'IN'), ('1,400', 'CD'), ('now', 'RB'), ('.', '.')]),\n",
              " Tree('S', [('The', 'DT'), Tree('NP', [('hospital', 'NN')]), ('where', 'WRB'), ('the', 'DT'), Tree('NP', [('family', 'NN'), ('service', 'NN')]), ('.', '.')]),\n",
              " Tree('S', [('Because', 'IN'), ('the', 'DT'), Tree('NP', [('price', 'NN')]), ('is', 'VBZ'), ('not', 'RB'), ('too', 'RB'), ('expensive', 'JJ'), Tree('NP', [('home', 'NN'), ('care', 'NN')]), ('and', 'CC'), Tree('NP', [('ease', 'NN')]), ('of', 'IN'), Tree('NP', [('travel', 'NN')]), ('.', '.')]),\n",
              " Tree('S', [('Buffett', 'NNP'), (\"'s\", 'POS'), Tree('NP', [('rain', 'NN')]), ('falls', 'VBZ'), ('ill', 'JJ'), ('treat', 'VB'), ('me', 'PRP'), ('into', 'IN'), ('the', 'DT'), Tree('NP', [('emergency', 'NN'), ('room', 'NN')]), (',', ','), ('a', 'DT'), Tree('NP', [('health', 'NN'), ('insurance', 'NN'), ('claim', 'NN'), ('hospital', 'NN'), ('care', 'NN')]), ('is', 'VBZ'), ('very', 'RB'), ('good', 'JJ'), ('.', '.')]),\n",
              " Tree('S', [Tree('NP', [('Relatives', 'NNS')]), ('and', 'CC'), Tree('NP', [('friends', 'NNS')]), ('keeping', 'VBG'), ('me', 'PRP'), ('here', 'RB'), ('.', '.')]),\n",
              " Tree('S', [Tree('NP', [('Patients', 'NNS')]), ('are', 'VBP'), ('routinely', 'RB'), ('over', 'IN'), ('the', 'DT'), ('last', 'JJ'), ('20', 'CD'), Tree('NP', [('years', 'NNS')]), ('has', 'VBZ'), ('been', 'VBN'), ('to', 'TO'), ('see', 'VB'), ('a', 'DT'), Tree('NP', [('doctor', 'NN')]), ('about', 'IN'), Tree('NP', [('bone', 'NN'), ('pain', 'NN')]), ('.', '.')]),\n",
              " Tree('S', [('Can', 'MD'), ('not', 'RB'), ('move', 'VB'), ('Was', 'NNP'), ('never', 'RB'), ('like', 'IN'), ('this', 'DT'), Tree('NP', [('before', 'NN')]), ('.', '.')]),\n",
              " Tree('S', [('The', 'DT'), Tree('NP', [('doctor', 'NN')]), ('did', 'VBD'), ('not', 'RB'), ('say', 'VB'), Tree('NP', [('anything', 'NN')]), ('more', 'JJR'), ('.', '.')]),\n",
              " Tree('S', [('When', 'WRB'), ('asked', 'VBN'), ('if', 'IN'), ('it', 'PRP'), ('is', 'VBZ'), ('not', 'RB'), ('broken', 'VBN'), ('.', '.')]),\n",
              " Tree('S', [('Or', 'CC'), ('is', 'VBZ'), Tree('NP', [('something', 'NN')]), ('more', 'RBR'), (',', ','), ('right', 'RB'), ('?', '.')]),\n",
              " Tree('S', [('The', 'DT'), Tree('NP', [('doctor', 'NN')]), ('replied', 'VBD'), ('that', 'IN'), ('if', 'IN'), ('this', 'DT'), ('is', 'VBZ'), ('broken', 'VBN'), ('.', '.')]),\n",
              " Tree('S', [('It', 'PRP'), ('is', 'VBZ'), ('now', 'RB'), Tree('NP', [('cancer', 'NN')]), ('The', 'DT'), Tree('NP', [('answer', 'NN')]), ('is', 'VBZ'), ('not', 'RB'), ('worthy', 'JJ'), Tree('NP', [('answer', 'NN')]), ('to', 'TO'), ('this', 'DT'), Tree('NP', [('patient', 'NN')]), ('.', '.')]),\n",
              " Tree('S', [('I', 'PRP'), ('have', 'VBP'), ('been', 'VBN'), ('informed', 'VBN'), ('of', 'IN'), ('the', 'DT'), Tree('NP', [('complaint', 'NN')]), ('to', 'TO'), ('the', 'DT'), Tree('NP', [('hospital', 'NN')]), ('.', '.')]),\n",
              " Tree('S', [('The', 'DT'), Tree('NP', [('doctor', 'NN')]), ('is', 'VBZ'), ('a', 'DT'), ('good', 'JJ'), Tree('NP', [('doctor', 'NN')]), ('and', 'CC'), ('famous', 'JJ'), ('.', '.')]),\n",
              " Tree('S', [('In', 'IN'), Tree('NP', [('conclusion', 'NN')]), (',', ','), ('I', 'PRP'), ('have', 'VBP'), ('muscle', 'VBN'), ('relaxant', 'JJ'), Tree('NP', [('medications', 'NNS')]), ('and', 'CC'), ('topical', 'JJ'), Tree('NP', [('analgesics', 'NNS')]), ('that', 'WDT'), ('.', '.')]),\n",
              " Tree('S', [('Therefore', 'RB'), ('ask', 'VBZ'), ('the', 'DT'), Tree('NP', [('pharmacist', 'NN')]), ('to', 'TO'), ('dispense', 'VB'), ('again', 'RB'), ('.', '.')]),\n",
              " Tree('S', [('OK', 'UH'), (',', ','), ('that', 'DT'), (\"'s\", 'VBZ'), ('what', 'WP')]),\n",
              " Tree('S', [('To', 'TO'), ('treat', 'VB'), Tree('NP', [('rheumatoid', 'NN')]), ('at', 'IN'), ('the', 'DT'), ('Bangkok', 'NNP'), ('Christian', 'NNP'), ('Hospital', 'NNP'), ('here', 'RB'), ('.', '.')]),\n",
              " Tree('S', [('You', 'PRP'), Tree('NP', [('kind', 'NN')]), ('and', 'CC'), Tree('NP', [('caring', 'NN')]), ('very', 'RB'), ('good', 'JJ'), ('.', '.')]),\n",
              " Tree('S', [('Will', 'MD'), ('see', 'VB'), ('the', 'DT'), Tree('NP', [('disease', 'NN')]), ('as', 'RB'), ('well', 'RB'), ('.', '.')]),\n",
              " Tree('S', [('Once', 'RB'), ('selected', 'VBN'), ('the', 'DT'), ('right', 'JJ'), Tree('NP', [('eye', 'NN'), ('capillaries', 'NNS')]), ('in', 'IN'), ('the', 'DT'), Tree('NP', [('eye', 'NN')]), ('.', '.')]),\n",
              " Tree('S', [('It', 'PRP'), ('makes', 'VBZ'), ('the', 'DT'), Tree('NP', [('eyes', 'NNS')]), ('red', 'VBD'), ('Go', 'NNP'), ('to', 'TO'), ('the', 'DT'), Tree('NP', [('doctor', 'NN')]), ('by', 'IN'), Tree('NP', [('appointment', 'NN')]), ('The', 'DT'), Tree('NP', [('doctor', 'NN')]), ('asked', 'VBD'), ('my', 'PRP$'), ('red', 'JJ'), Tree('NP', [('eyes', 'NNS')]), ('.', '.')]),\n",
              " Tree('S', [('Ask', 'VB'), ('the', 'DT'), ('Prophet', 'NNP'), ('.', '.')]),\n",
              " Tree('S', [('But', 'CC'), ('as', 'IN'), ('we', 'PRP'), ('go', 'VBP'), ('untreated', 'JJ'), Tree('NP', [('rheumatoid', 'NN')]), ('Grand', 'NNP'), ('.', '.')]),\n",
              " Tree('S', [('Not', 'RB'), ('keeping', 'VBG'), ('an', 'DT'), Tree('NP', [('eye', 'NN')]), ('on', 'IN'), ('The', 'DT'), Tree('NP', [('doctor', 'NN')]), ('also', 'RB'), ('noted', 'VBD'), ('.', '.')]),\n",
              " Tree('S', [Tree('NP', [('Shows', 'NNS')]), ('empathy', 'VBP'), ('for', 'IN'), Tree('NP', [('patients', 'NNS')]), ('.', '.')]),\n",
              " Tree('S', [('Then', 'RB'), ('again', 'RB'), (',', ','), ('the', 'DT'), Tree('NP', [('weather', 'NN')]), ('was', 'VBD'), ('quite', 'RB'), ('cold', 'JJ'), ('.', '.')]),\n",
              " Tree('S', [('I', 'PRP'), ('noticed', 'VBD'), ('that', 'IN'), ('a', 'DT'), Tree('NP', [('leg', 'NN')]), ('up', 'RP'), ('red', 'JJ'), Tree('NP', [('blotches', 'NNS')]), ('.', '.')]),\n",
              " Tree('S', [('He', 'PRP'), ('was', 'VBD'), ('asked', 'VBN'), ('whether', 'IN'), ('or', 'CC'), Tree('NP', [('winter', 'NN')]), ('.', '.')]),\n",
              " Tree('S', [('Dong', 'NNP'), ('remember', 'VB'), ('him', 'PRP'), ('as', 'IN'), ('extraordinary', 'JJ'), ('yet', 'RB'), ('.', '.')]),\n",
              " Tree('S', [('Shows', 'VBZ'), ('the', 'DT'), ('great', 'JJ'), Tree('NP', [('attention', 'NN')]), ('both', 'DT'), ('at', 'IN'), ('about', 'IN'), ('the', 'DT'), Tree('NP', [('disease', 'NN')]), ('that', 'WDT'), ('came', 'VBD'), ('to', 'TO'), ('me', 'PRP'), ('.', '.')]),\n",
              " Tree('S', [('As', 'RB'), ('well', 'RB'), ('as', 'IN'), Tree('NP', [('talk', 'NN')]), ('about', 'IN'), Tree('NP', [('work', 'NN')]), ('Introductions', 'NNP'), ('Encouragement', 'NNP'), ('throughout', 'IN'), ('.', '.')]),\n",
              " Tree('S', [('Good', 'JJ'), Tree('NP', [('service', 'NN')]), ('described', 'VBD'), ('patient', 'JJ'), Tree('NP', [('care', 'NN')])]),\n",
              " Tree('S', [Tree('NP', [('Yesterday', 'NN')]), ('was', 'VBD'), ('a', 'DT'), Tree('NP', [('doctor', 'NN')]), ('at', 'IN'), ('the', 'DT'), Tree('NP', [('hospital', 'NN')]), ('Christians', 'NNPS'), ('.', '.')]),\n",
              " Tree('S', [('Ambulance', 'NNP'), Tree('NP', [('service', 'NN')]), ('here', 'RB'), ('is', 'VBZ'), ('very', 'RB'), ('flattering', 'JJ'), Tree('NP', [('impression', 'NN')]), ('smiling', 'VBG'), ('much', 'JJ'), ('.', '.')]),\n",
              " Tree('S', [('I', 'PRP'), ('had', 'VBD'), ('to', 'TO'), ('give', 'VB'), Tree('NP', [('birth', 'NN')]), ('at', 'IN'), ('the', 'DT'), Tree('NP', [('hospital', 'NN')]), ('in', 'IN'), ('2554', 'CD'), ('when', 'WRB'), ('Bangkok', 'NNP'), Tree('NP', [('แlai', 'NN')]), ('2556', 'CD'), ('.', '.')]),\n",
              " Tree('S', [Tree('NP', [('Nurses', 'NNS'), ('feel', 'NN')]), ('and', 'CC'), ('the', 'DT'), Tree('NP', [('service', 'NN')]), ('is', 'VBZ'), ('very', 'RB'), ('good', 'JJ'), ('.', '.')]),\n",
              " Tree('S', [('The', 'DT'), ('first', 'JJ'), Tree('NP', [('day', 'NN')]), ('she', 'PRP'), ('entered', 'VBD'), ('the', 'DT'), Tree('NP', [('hospital', 'NN')]), ('.', '.')]),\n",
              " Tree('S', [('The', 'DT'), Tree('NP', [('doctor', 'NN')]), ('was', 'VBD'), Tree('NP', [('kind', 'NN'), ('ฝaktgag', 'NN')]), ('.', '.')]),\n",
              " Tree('S', [('And', 'CC'), ('very', 'RB'), ('sociable', 'JJ'), Tree('NP', [('Talk', 'NN')]), ('with', 'IN'), ('the', 'DT'), Tree('NP', [('patient', 'NN')]), (\"'s\", 'POS'), ('very', 'RB'), ('melodic', 'JJ'), ('.', '.')]),\n",
              " Tree('S', [('I', 'PRP'), ('like', 'VBP'), ('this', 'DT'), Tree('NP', [('doctor', 'NN')]), ('because', 'IN'), ('the', 'DT'), Tree('NP', [('doctor', 'NN')]), ('advised', 'VBD'), ('to', 'TO'), ('consult', 'VB'), ('any', 'DT'), ('good', 'JJ'), Tree('NP', [('story', 'NN')]), (',', ','), ('I', 'PRP'), ('asked', 'VBD'), ('.', '.')]),\n",
              " Tree('S', [Tree('NP', [('Today', 'NN')]), (',', ','), ('if', 'IN'), Tree('NP', [('people', 'NNS')]), ('have', 'VBP'), ('more', 'JJR'), Tree('NP', [('children', 'NNS')]), (',', ','), ('ฝaktgag', 'VBP'), ('here', 'RB'), ('like', 'IN'), ('me', 'PRP'), ('.', '.')]),\n",
              " Tree('S', [('Service', 'NNP'), ('is', 'VBZ'), ('fast', 'RB'), ('Medical', 'JJ'), Tree('NP', [('counseling', 'NN')]), ('and', 'CC'), Tree('NP', [('information', 'NN')]), ('about', 'IN'), ('the', 'DT'), Tree('NP', [('disease', 'NN')]), ('as', 'RB'), ('well', 'RB'), ('.', '.')]),\n",
              " Tree('S', [('I', 'PRP'), ('can', 'MD'), ('not', 'RB'), ('find', 'VB'), ('a', 'DT'), Tree('NP', [('diagnosis', 'NN')]), ('for', 'IN'), ('several', 'JJ'), Tree('NP', [('years', 'NNS')]), ('.', '.')]),\n",
              " Tree('S', [('It', 'PRP'), (\"'s\", 'VBZ'), ('worth', 'IN'), ('it', 'PRP'), ('Other', 'JJ'), Tree('NP', [('staff', 'NN')]), ('is', 'VBZ'), ('friendly', 'JJ'), ('and', 'CC'), ('good', 'JJ'), ('free', 'JJ'), Tree('NP', [('wifi', 'NN')]), ('that', 'WDT'), (\"'s\", 'VBZ'), ('hard', 'JJ'), ('to', 'TO'), ('do', 'VB'), ('here', 'RB'), ('.', '.')]),\n",
              " Tree('S', [('My', 'PRP$'), Tree('NP', [('stomach', 'NN'), ('twin', 'NN'), ('gestation', 'NN')]), ('3', 'CD'), ('26-27wk', 'JJ'), Tree('NP', [('diarrhea', 'NN')]), ('from', 'IN'), ('3', 'CD'), ('to', 'TO'), ('9', 'CD'), Tree('NP', [('pm', 'NN')]), (',', ','), ('but', 'CC'), ('a', 'DT'), Tree('NP', [('doctor', 'NN')]), ('at', 'IN'), ('the', 'DT'), Tree('NP', [('hospital', 'NN')]), (',', ','), Tree('NP', [('someone', 'NN')]), ('took', 'VBD'), ('a', 'DT'), Tree('NP', [('wheelchair', 'NN')]), ('to', 'TO'), ('get', 'VB'), ('.', '.')]),\n",
              " Tree('S', [Tree('NP', [('Accelerators', 'NNS')]), ('that', 'WDT'), ('make', 'VBP'), ('it', 'PRP'), Tree('NP', [('convenient', 'NN')]), ('to', 'TO'), ('go', 'VB'), ('to', 'TO'), ('the', 'DT'), Tree('NP', [('bathroom', 'NN')]), ('.', '.')]),\n",
              " Tree('S', [('May', 'NNP'), Tree('NP', [('d.', 'NN')]), ('Nurse', 'NNP'), ('brought', 'VBD'), ('him', 'PRP'), ('willingly', 'RB'), ('.', '.')]),\n",
              " Tree('S', [('That', 'DT'), ('caught', 'VBD'), ('the', 'DT'), Tree('NP', [('brine', 'NN')]), ('admit', 'VBP'), ('one', 'CD'), Tree('NP', [('night', 'NN')]), ('at', 'IN'), ('a', 'DT'), ('Portuguese', 'JJ'), Tree('NP', [('doctor', 'NN')]), (',', ','), Tree('NP', [('specialist', 'NN'), ('doctors', 'NNS')]), ('and', 'CC'), Tree('NP', [('obstetricians', 'NNS')]), ('.', '.')]),\n",
              " Tree('S', [('Doctor', 'NNP'), (\"'s\", 'POS'), Tree('NP', [('disease', 'NN')]), ('and', 'CC'), Tree('NP', [('colon', 'NN'), ('care', 'NN')]), ('close', 'JJ'), ('it', 'PRP'), ('.', '.')]),\n",
              " Tree('S', [('The', 'DT'), ('only', 'JJ'), Tree('NP', [('drawback', 'NN')]), ('I', 'PRP'), ('feel', 'VBP'), ('better', 'RB'), ('.', '.')]),\n",
              " Tree('S', [('And', 'CC'), ('discharged', 'VBD'), ('me', 'PRP'), ('.', '.')]),\n",
              " Tree('S', [Tree('NP', [('Exceptions', 'NNS')]), ('only', 'RB'), ('dislike', 'VBP'), ('is', 'VBZ'), ('the', 'DT'), Tree('NP', [('bed', 'NN')]), ('a', 'DT'), ('little', 'JJ'), ('too', 'RB'), ('hard', 'RB'), ('.', '.')]),\n",
              " Tree('S', [('Women', 'NNP'), ('pregnant', 'JJ'), ('belly', 'RB'), ('grows', 'VBZ'), ('a', 'DT'), ('little', 'JJ'), Tree('NP', [('journey', 'NN')]), ('.', '.')]),\n",
              " Tree('S', [('Rarely', 'RB'), ('liner', 'JJ'), Tree('NP', [('port', 'NN')]), ('ergonomic', 'VBD'), ('us', 'PRP'), ('much', 'RB'), ('good', 'JJ'), (',', ','), ('but', 'CC'), ('I', 'PRP'), ('do', 'VBP'), ('ok', 'RB'), ('.', '.')]),\n",
              " Tree('S', [('You', 'PRP'), (\"'ve\", 'VBP'), ('found', 'VBN'), ('the', 'DT'), Tree('NP', [('maternity', 'NN'), ('ward', 'NN')]), ('of', 'IN'), ('irregular', 'JJ'), ('menstrual', 'JJ'), Tree('NP', [('cycles', 'NNS')]), ('.', '.')]),\n",
              " Tree('S', [('You', 'PRP'), ('are', 'VBP'), ('a', 'DT'), Tree('NP', [('man', 'NN')]), ('Initially', 'NNP'), ('shy', 'JJ'), ('and', 'CC'), ('scared', 'JJ'), ('because', 'IN'), ('it', 'PRP'), ('requires', 'VBZ'), Tree('NP', [('examination', 'NN')]), ('.', '.')]),\n",
              " Tree('S', [('But', 'CC'), Tree('NP', [('doctors', 'NNS')]), ('say', 'VBP'), ('the', 'DT'), ('very', 'RB'), ('friendly', 'JJ'), ('at', 'IN'), Tree('NP', [('check', 'NN')]), ('not', 'RB'), ('scary', 'JJ'), ('at', 'IN'), ('all', 'DT'), ('.', '.')]),\n",
              " Tree('S', [('Woon', 'NNP'), ('has', 'VBZ'), ('Ultrasound', 'VBN'), ('Uterine', 'NNP'), Tree('NP', [('teller', 'NN')]), ('with', 'IN'), ('you', 'PRP'), ('until', 'IN'), ('the', 'DT'), Tree('NP', [('eggs', 'NNS')]), ('are', 'VBP'), Tree('NP', [('eggs', 'NNS')]), ('that', 'WDT'), ('have', 'VBP'), ('little', 'JJ'), Tree('NP', [('egg', 'NN')]), ('with', 'IN'), ('normal', 'JJ'), Tree('NP', [('children', 'NNS')]), ('.', '.')]),\n",
              " Tree('S', [('The', 'DT'), ('uterine', 'JJ'), Tree('NP', [('wall', 'NN')]), ('so', 'RB'), ('strong', 'JJ'), ('that', 'IN'), ('you', 'PRP'), ('have', 'VBP'), ('forgotten', 'VBN'), ('much', 'JJ'), ('.', '.')]),\n",
              " Tree('S', [('I', 'PRP'), ('think', 'VBP'), ('it', 'PRP'), ('cost', 'VBD'), ('dearly', 'RB'), ('.', '.')]),\n",
              " Tree('S', [('I', 'PRP'), ('think', 'VBP'), ('out', 'IN'), ('Thousand', 'NNP'), Tree('NP', [('baht', 'NN')]), ('is', 'VBZ'), ('very', 'RB'), ('cheap', 'JJ'), ('for', 'IN'), ('the', 'DT'), ('internal', 'JJ'), Tree('NP', [('temperature', 'NN')]), ('of', 'IN'), ('the', 'DT'), Tree('NP', [('ultrasound', 'NN')]), ('.', '.')]),\n",
              " Tree('S', [('Doctor', 'NNP'), (',', ','), Tree('NP', [('thank', 'NN')]), ('you', 'PRP'), ('very', 'RB'), ('much', 'RB'), ('!', '.')]),\n",
              " Tree('S', [('On', 'IN'), ('Sunday', 'NNP'), Tree('NP', [('disease', 'NN'), ('recurrence', 'NN')]), ('Ask', 'NNP'), ('your', 'PRP$'), Tree('NP', [('doctor', 'NN')]), (',', ','), Tree('NP', [('hospital', 'NN'), ('bed', 'NN')]), ('.', '.')]),\n",
              " Tree('S', [('But', 'CC'), Tree('NP', [('doctors', 'NNS')]), ('say', 'VBP'), ('that', 'DT'), ('is', 'VBZ'), ('not', 'RB'), ('necessary', 'JJ'), ('.', '.')]),\n",
              " Tree('S', [('Better', 'RBR'), ('to', 'TO'), ('stay', 'VB'), ('at', 'IN'), Tree('NP', [('home', 'NN')]), ('I', 'PRP'), ('was', 'VBD'), ('glad', 'VBN'), ('to', 'TO'), ('put', 'VB'), ('the', 'DT'), Tree('NP', [('interests', 'NNS')]), ('of', 'IN'), Tree('NP', [('patients', 'NNS')]), ('over', 'IN'), ('.', '.')]),\n",
              " Tree('S', [('The', 'DT'), ('hospital', 'JJ'), Tree('NP', [('staff', 'NN')]), ('was', 'VBD'), ('attentive', 'JJ'), (',', ','), ('very', 'RB'), ('patient', 'JJ'), ('.', '.')]),\n",
              " Tree('S', [('A', 'DT'), ('medical', 'JJ'), Tree('NP', [('expert', 'NN')]), ('will', 'MD'), ('go', 'VB'), ('to', 'TO'), ('the', 'DT'), Tree('NP', [('front', 'NN')]), ('of', 'IN'), ('whatever', 'WDT'), Tree('NP', [('experience', 'NN')]), ('it', 'PRP'), (',', ','), ('ENT', 'NNP'), Tree('NP', [('doctors', 'NNS')]), ('and', 'CC'), Tree('NP', [('nurses', 'NNS')]), ('can', 'MD'), ('answer', 'VB'), Tree('NP', [('questions', 'NNS')]), ('better', 'JJR'), ('/', 'NNP'), ('Department', 'NNP'), ('of', 'IN'), ('Ophthalmology', 'NNP'), ('is', 'VBZ'), ('the', 'DT'), ('same', 'JJ'), ('/', 'NNP'), ('internal', 'JJ'), Tree('NP', [('medicine', 'NN'), ('department', 'NN')]), ('.', '.')]),\n",
              " Tree('S', [Tree('NP', [('Doctors', 'NNS')]), ('can', 'MD'), ('interact', 'VB'), ('And', 'CC'), ('knowledge', 'VB'), ('is', 'VBZ'), ('excellent', 'JJ'), ('/', 'NNP'), ('OPD', 'NNP'), Tree('NP', [('department', 'NN')]), ('is', 'VBZ'), ('trying', 'VBG'), ('to', 'TO'), ('use', 'VB'), ('the', 'DT'), Tree('NP', [('material', 'NN')]), ('.', '.')]),\n",
              " Tree('S', [('So', 'RB'), ('as', 'IN'), ('not', 'RB'), ('to', 'TO'), ('break', 'VB'), ('the', 'DT'), Tree('NP', [('load', 'NN')]), ('.', '.')]),\n",
              " Tree('S', [('The', 'DT'), ('recommended', 'JJ'), Tree('NP', [('treatment', 'NN')]), ('for', 'IN'), Tree('NP', [('patients', 'NNS')]), ('with', 'IN'), Tree('NP', [('post', 'NN'), ('hospital', 'NN'), ('services', 'NNS')]), ('is', 'VBZ'), ('a', 'DT'), ('good', 'JJ'), Tree('NP', [('team', 'NN')]), ('of', 'IN'), ('medical', 'JJ'), Tree('NP', [('specialists', 'NNS')]), ('.', '.')]),\n",
              " Tree('S', [('And', 'CC'), ('superfluous', 'JJ')]),\n",
              " Tree('S', [('To', 'TO'), ('treat', 'VB'), ('itching', 'VBG'), ('in', 'IN'), Tree('NP', [('parachute', 'NN')]), ('Since', 'IN'), Tree('NP', [('travel', 'NN'), ('nurses', 'NNS')]), ('and', 'CC'), Tree('NP', [('doctors', 'NNS')]), ('to', 'TO'), ('provide', 'VB'), Tree('NP', [('care', 'NN')]), ('and', 'CC'), Tree('NP', [('guidance', 'NN')]), ('is', 'VBZ'), ('great', 'JJ'), ('.', '.')]),\n",
              " Tree('S', [Tree('NP', [('Reduces', 'NNS'), ('symptoms', 'NNS')]), ('of', 'IN'), ('nervous', 'JJ'), Tree('NP', [('doctors', 'NNS')]), (',', ','), Tree('NP', [('obstetricians', 'NNS')]), ('have', 'VBP'), ('found', 'VBN'), ('the', 'DT'), ('first', 'JJ'), Tree('NP', [('lot', 'NN')]), ('.', '.')]),\n",
              " Tree('S', [('Good', 'JJ'), Tree('NP', [('doctors', 'NNS')]), ('do', 'VBP'), ('not', 'RB'), ('treat', 'VB'), ('it', 'PRP'), ('.', '.')]),\n",
              " Tree('S', [('Dr.', 'NNP'), ('Plernpit', 'NNP'), ('Lertpanya', 'NNP'), Tree('NP', [('children', 'NNS')]), ('were', 'VBD'), ('very', 'RB'), ('good', 'JJ'), Tree('NP', [('doctors', 'NNS')]), ('detect', 'VBP'), Tree('NP', [('diseases', 'NNS')]), ('of', 'IN'), ('new', 'JJ'), ('diagnostic', 'JJ'), Tree('NP', [('accuracy', 'NN')]), ('.', '.')]),\n",
              " Tree('S', [('A', 'DT'), ('clear', 'JJ'), Tree('NP', [('answer', 'NN')])]),\n",
              " Tree('S', [('Son', 'NNP'), ('HIV', 'NNP'), Tree('NP', [('virus', 'NN'), ('rsv', 'NN')]), ('While', 'IN'), ('Ward', 'NNP'), (\"'s\", 'POS'), ('full', 'JJ'), ('every', 'DT'), Tree('NP', [('room', 'NN')]), ('.', '.')]),\n",
              " Tree('S', [('The', 'DT'), Tree('NP', [('hospital', 'NN')]), ('provides', 'VBZ'), ('a', 'DT'), Tree('NP', [('solution', 'NN')]), ('to', 'TO'), ('the', 'DT'), ('ICU', 'NNP'), Tree('NP', [('waiting', 'NN'), ('room', 'NN')]), ('.', '.')]),\n",
              " Tree('S', [('Nurse', 'NNP'), ('updated', 'VBD'), ('all', 'PDT'), ('the', 'DT'), Tree('NP', [('time', 'NN')]), ('to', 'TO'), ('have', 'VB'), ('the', 'DT'), Tree('NP', [('room', 'NN')]), ('now', 'RB'), ('.', '.')]),\n",
              " Tree('S', [Tree('NP', [('Nursing', 'NN')]), ('and', 'CC'), ('medical', 'JJ'), Tree('NP', [('care', 'NN')]), ('and', 'CC'), Tree('NP', [('attention', 'NN')]), ('to', 'TO'), Tree('NP', [('patients', 'NNS')]), ('very', 'RB'), ('well', 'RB'), ('in', 'IN'), Tree('NP', [('spite', 'NN')]), ('of', 'IN'), ('the', 'DT'), ('many', 'JJ'), ('sick', 'JJ'), Tree('NP', [('children', 'NNS')]), ('are', 'VBP'), ('busy', 'JJ'), ('the', 'DT'), ('whole', 'JJ'), Tree('NP', [('ward', 'NN')]), ('.', '.')]),\n",
              " Tree('S', [('All', 'DT'), Tree('NP', [('patients', 'NNS')]), ('with', 'IN'), ('a', 'DT'), ('smiling', 'VBG'), Tree('NP', [('countenance', 'NN')]), ('.', '.')]),\n",
              " Tree('S', [('Very', 'RB'), ('impressive', 'JJ')]),\n",
              " Tree('S', [('Maternity', 'NNP'), ('leave', 'VBP'), ('and', 'CC'), ('delivered', 'VBN'), ('to', 'TO'), ('the', 'DT'), ('Mayor', 'NNP'), (',', ','), ('Dr.', 'NNP'), ('Siri', 'NNP'), Tree('NP', [('estate', 'NN')]), ('you', 'PRP'), ('are', 'VBP'), ('so', 'RB'), Tree('NP', [('kind', 'NN')]), (',', ','), ('friendly', 'RB'), (',', ','), ('informative', 'JJ'), ('about', 'IN'), ('the', 'DT'), Tree('NP', [('pregnancy', 'NN')]), ('very', 'RB'), ('well', 'RB'), ('.', '.')]),\n",
              " Tree('S', [('You', 'PRP'), ('are', 'VBP'), ('very', 'RB'), ('specialized', 'JJ'), Tree('NP', [('Every', 'NN'), ('time', 'NN')]), ('you', 'PRP'), ('encounter', 'VBP'), ('a', 'DT'), Tree('NP', [('problem', 'NN')]), ('during', 'IN'), Tree('NP', [('pregnancy', 'NN')]), ('.', '.')]),\n",
              " Tree('S', [('Your', 'PRP$'), Tree('NP', [('doctor', 'NN')]), ('will', 'MD'), ('give', 'VB'), ('you', 'PRP'), ('very', 'RB'), ('good', 'JJ'), Tree('NP', [('advice', 'NN')]), ('.', '.')]),\n",
              " Tree('S', [('You', 'PRP'), ('pretty', 'RB'), ('much', 'JJ'), ('caesarean', 'JJ'), Tree('NP', [('stitches', 'NNS')]), ('.', '.')]),\n",
              " Tree('S', [('Walking', 'VBG'), ('out', 'IN'), ('of', 'IN'), Tree('NP', [('bed', 'NN')]), ('after', 'IN'), ('disconnecting', 'VBG'), Tree('NP', [('water', 'NN')]), ('.', '.')]),\n",
              " Tree('S', [('Very', 'RB'), ('sore', 'RB'), ('Doctor', 'NNP'), Tree('NP', [('patient', 'NN'), ('care', 'NN')]), ('as', 'RB'), ('well', 'RB'), ('as', 'IN'), ('your', 'PRP$'), ('regular', 'JJ'), Tree('NP', [('doctor', 'NN')]), ('.', '.')]),\n",
              " Tree('S', [('The', 'DT'), Tree('NP', [('examination', 'NN')]), ('every', 'DT'), Tree('NP', [('year', 'NN')])]),\n",
              " Tree('S', [('Very', 'RB'), ('good', 'JJ'), Tree('NP', [('service', 'NN')])]),\n",
              " Tree('S', [('Often', 'RB'), ('a', 'DT'), ('good', 'JJ'), ('big', 'JJ'), Tree('NP', [('room', 'NN')])]),\n",
              " Tree('S', [('Nursing', 'VBG'), ('a', 'DT'), Tree('NP', [('counter', 'NN')]), ('with', 'IN'), ('about', 'IN'), ('20', 'CD'), Tree('NP', [('people', 'NNS')]), (',', ','), ('but', 'CC'), ('the', 'DT'), Tree('NP', [('doctor', 'NN')]), ('in', 'IN'), ('the', 'DT'), Tree('NP', [('examination', 'NN'), ('room', 'NN')]), (',', ','), ('I', 'PRP'), ('have', 'VBP'), ('concluded', 'VBN'), ('this', 'DT'), ('May', 'NNP'), ('de', 'FW'), ('Blanca', 'NNP'), ('Caballero', 'NNP'), Tree('NP', [('treatment', 'NN')]), ('or', 'CC'), Tree('NP', [('doctor', 'NN')]), (\"'s\", 'POS'), Tree('NP', [('appointment', 'NN')]), ('9:00', 'CD'), ('to', 'TO'), ('10:00', 'CD'), (',', ','), ('thus', 'RB'), ('far', 'RB'), (',', ','), ('has', 'VBZ'), ('not', 'RB'), ('been', 'VBN'), ('reviewed', 'VBN'), ('yet', 'RB'), ('..', 'JJ')]),\n",
              " Tree('S', [('Good', 'JJ'), Tree('NP', [('service', 'NN')]), (',', ','), ('reasonable', 'JJ'), Tree('NP', [('prices', 'NNS')])]),\n",
              " Tree('S', [('Find', 'IN'), ('a', 'DT'), ('Doctor', 'NNP'), ('of', 'IN'), ('Nursing', 'NNP'), ('to', 'TO'), ('pressure', 'VB'), ('weighing', 'VBG'), Tree('NP', [('surgery', 'NN')]), ('when', 'WRB'), ('he', 'PRP'), ('put', 'VBD'), ('his', 'PRP$'), Tree('NP', [('hand', 'NN')]), ('to', 'TO'), Tree('NP', [('pressure', 'NN')]), ('.', '.')]),\n",
              " Tree('S', [Tree('NP', [('Replacement', 'NN'), ('nurses', 'NNS')]), ('will', 'MD'), ('have', 'VB'), ('to', 'TO'), ('press', 'VB'), Tree('NP', [('start', 'NN')]), ('to', 'TO'), ('press', 'VB'), ('it', 'PRP'), ('.', '.')]),\n",
              " Tree('S', [Tree('NP', [('Went', 'NN')]), ('to', 'TO'), ('a', 'DT'), ('dental', 'JJ'), ('x-Ray', 'JJ'), ('done', 'VBN'), ('enough', 'JJ'), Tree('NP', [('nurses', 'NNS')]), ('were', 'VBD'), ('told', 'VBN'), ('to', 'TO'), ('wait', 'VB'), ('outside', 'RB'), (',', ','), ('then', 'RB'), ('.', '.')]),\n",
              " Tree('S', [('The', 'DT'), Tree('NP', [('patients', 'NNS')]), ('then', 'RB'), ('cancel', 'VB'), ('his', 'PRP$'), Tree('NP', [('jacket', 'NN')]), ('to', 'TO'), ('keep', 'VB'), ('the', 'DT'), Tree('NP', [('radiation', 'NN')]), ('itself', 'PRP'), ('.', '.')]),\n",
              " Tree('S', [('OK', 'UH'), (',', ','), ('that', 'DT'), ('private', 'JJ'), Tree('NP', [('hospitals', 'NNS')]), ('The', 'DT'), Tree('NP', [('government', 'NN'), ('hospital', 'NN')]), ('waiting', 'VBG'), ('for', 'IN'), ('me', 'PRP'), ('.', '.')]),\n",
              " Tree('S', [('ICU', 'NNP'), ('9', 'CD'), Tree('NP', [('thanks', 'NNS')]), ('to', 'TO'), ('a', 'DT'), Tree('NP', [('caring', 'NN'), ('mother', 'NN')]), (',', ','), ('I', 'PRP'), (\"'m\", 'VBP'), ('a', 'DT'), ('good', 'JJ'), Tree('NP', [('mother', 'NN')]), ('visited', 'VBD'), ('last', 'JJ'), Tree('NP', [('night', 'NN')]), ('to', 'TO'), ('ask', 'VB'), Tree('NP', [('symptoms', 'NNS')]), ('.', '.')]),\n",
              " Tree('S', [('He', 'PRP'), ('played', 'VBD'), Tree('NP', [('catch', 'NN')]), ('with', 'IN'), Tree('NP', [('cheeks', 'NNS')]), ('like', 'IN'), ('a', 'DT'), ('friendly', 'JJ'), Tree('NP', [('feel', 'NN')]), ('like', 'IN'), Tree('NP', [('grandchildren', 'NNS')]), ('.', '.')]),\n",
              " Tree('S', [Tree('NP', [('Doctors', 'NNS')]), ('and', 'CC'), ('Mar', 'NNP'), ('Bal', 'NNP'), ('very', 'RB'), ('cute', 'RB'), ('.', '.')]),\n",
              " Tree('S', [Tree('NP', [('Doctor', 'NN')]), ('and', 'CC'), Tree('NP', [('nurse', 'NN')]), ('You', 'PRP'), ('are', 'VBP'), ('very', 'RB'), Tree('NP', [('kind', 'NN')]), ('flattering', 'JJ'), Tree('NP', [('look', 'NN')]), ('good', 'JJ'), ('throughout', 'IN'), ('the', 'DT'), Tree('NP', [('surgery', 'NN')]), ('Thank', 'NNP'), ('you', 'PRP'), ('Sai', 'NNP'), ('gold', 'VBD'), ('exemplary', 'JJ'), Tree('NP', [('safety', 'NN')]), ('and', 'CC'), ('well-maintained', 'JJ'), Tree('NP', [('feel', 'NN')]), ('good', 'JJ'), ('that', 'IN'), ('I', 'PRP'), ('do', 'VBP'), ('not', 'RB'), ('care', 'VB'), ('for', 'IN'), ('my', 'PRP$'), Tree('NP', [('recommendations', 'NNS')]), ('.', '.')]),\n",
              " Tree('S', [('I', 'PRP'), ('will', 'MD'), ('not', 'RB'), ('take', 'VB'), Tree('NP', [('care', 'NN')]), ('of', 'IN'), ('themselves', 'PRP'), ('.', '.')]),\n",
              " Tree('S', [Tree('NP', [('Accommodation', 'NN')]), ('near', 'IN'), Tree('NP', [('restaurants', 'NNS')]), (',', ','), Tree('NP', [('hospitals', 'NNS')]), ('and', 'CC'), Tree('NP', [('outpatient', 'NN'), ('care', 'NN')]), ('because', 'IN'), ('her', 'PRP$'), Tree('NP', [('mother', 'NN')]), ('was', 'VBD'), ('being', 'VBG'), ('treated', 'VBN'), ('for', 'IN'), ('the', 'DT'), ('first', 'JJ'), Tree('NP', [('time', 'NN')]), (',', ','), ('really', 'RB'), ('thank', 'VB'), ('you', 'PRP'), ('from', 'IN'), ('my', 'PRP$'), Tree('NP', [('heart', 'NN')]), ('.', '.')]),\n",
              " Tree('S', [('I', 'PRP'), (\"'ve\", 'VBP'), ('come', 'VBN'), ('clean', 'JJ'), (',', ','), ('very', 'RB'), ('well', 'RB'), ('organized', 'VBN'), Tree('NP', [('management', 'NN'), ('system', 'NN')]), (',', ','), ('parking', 'VBG'), Tree('NP', [('lot', 'NN')]), ('renovated', 'VBD'), Tree('NP', [('unit', 'NN')]), ('on', 'IN'), ('even', 'RB'), ('more', 'RBR'), ('.', '.')]),\n",
              " Tree('S', [('Please', 'NNP'), ('clarify', 'VB'), ('the', 'DT'), Tree('NP', [('parking', 'NN')]), ('for', 'IN'), ('the', 'DT'), ('disabled', 'JJ'), (',', ','), Tree('NP', [('seniors', 'NNS')]), ('or', 'CC'), Tree('NP', [('people', 'NNS')]), ('with', 'IN'), Tree('NP', [('car', 'NN'), ('sharing', 'NN')]), (',', ','), ('walking', 'VBG'), Tree('NP', [('distance', 'NN')]), ('Viroqua', 'NNP'), ('not', 'RB'), ('.', '.')]),\n",
              " Tree('S', [('Make', 'VB'), ('it', 'PRP'), ('clear', 'JJ'), ('to', 'TO'), ('the', 'DT'), Tree('NP', [('security', 'NN'), ('guards', 'NNS')]), ('.', '.')]),\n",
              " Tree('S', [('With', 'IN'), ('the', 'DT'), ('.', '.')]),\n",
              " Tree('S', [('Which', 'WDT'), ('is', 'VBZ'), ('the', 'DT'), ('international', 'JJ'), Tree('NP', [('standard', 'NN')]), ('of', 'IN'), ('the', 'DT'), Tree('NP', [('world', 'NN')]), ('And', 'CC'), ('improve', 'VB'), ('the', 'DT'), Tree('NP', [('manners', 'NNS')]), ('of', 'IN'), ('a', 'DT'), Tree('NP', [('statement', 'NN')]), ('asking', 'VBG'), ('for', 'IN'), ('a', 'DT'), ('better', 'JJR'), Tree('NP', [('impression', 'NN')]), ('.', '.')]),\n",
              " Tree('S', [('Yes', 'UH'), (',', ','), ('worse', 'JJR'), ('at', 'IN'), Tree('NP', [('rest', 'NN')]), ('and', 'CC'), ('do', 'VBP'), ('not', 'RB'), ('want', 'VB'), ('to', 'TO'), ('use', 'VB'), ('the', 'DT'), Tree('NP', [('service', 'NN')]), ('again', 'RB'), ('.', '.')]),\n",
              " Tree('S', [('I', 'PRP'), ('regret', 'VBP'), ('very', 'RB'), ('much', 'RB'), ('that', 'IN'), ('the', 'DT'), Tree('NP', [('hospital', 'NN')]), ('does', 'VBZ'), ('not', 'RB'), ('provide', 'VB'), ('the', 'DT'), ('elderly', 'JJ'), ('.', '.')]),\n",
              " Tree('S', [('Very', 'RB'), ('good', 'JJ'), Tree('NP', [('service', 'NN')]), (',', ','), ('clean', 'JJ'), Tree('NP', [('hospitals', 'NNS')]), ('use', 'VBP'), ('the', 'DT'), Tree('NP', [('service', 'NN')]), ('.', '.')]),\n",
              " Tree('S', [('You', 'PRP'), ('are', 'VBP'), ('a', 'DT'), ('good', 'JJ'), Tree('NP', [('man', 'NN')]), (',', ','), ('a', 'DT'), ('24-hour', 'JJ'), Tree('NP', [('office', 'NN')]), ('a', 'DT'), Tree('NP', [('lot', 'NN')]), ('.', '.')]),\n",
              " Tree('S', [('Hospital', 'NNP'), Tree('NP', [('cleanliness', 'NN')]), ('.', '.')]),\n",
              " Tree('S', [('Excellent', 'NNP'), Tree('NP', [('smell', 'NN'), ('drugs', 'NNS')]), ('in', 'IN'), ('the', 'DT'), Tree('NP', [('book', 'NN')]), (',', ','), ('courteous', 'JJ'), Tree('NP', [('staff', 'NN')]), ('and', 'CC'), Tree('NP', [('fast', 'NN')]), ('.', '.')]),\n",
              " Tree('S', [('Home', 'NNP'), ('Monitoring', 'NNP'), ('Officer', 'NNP'), ('I', 'PRP'), ('work', 'VBP'), ('fast', 'RB'), ('Pressure', 'NNP'), ('modern', 'JJ'), ('Time', 'NNP'), ('Doctor', 'NNP'), ('is', 'VBZ'), ('not', 'RB'), ('too', 'RB'), ('long', 'RB'), ('.', '.')]),\n",
              " Tree('S', [('Dr.', 'NNP'), ('thorough', 'JJ'), Tree('NP', [('examination', 'NN')]), ('And', 'CC'), ('provide', 'VB'), ('clear', 'JJ'), Tree('NP', [('information', 'NN')]), ('on', 'IN'), ('the', 'DT')]),\n",
              " Tree('S', [('Was', 'NNP'), ('born', 'VBN'), ('here', 'RB'), ('and', 'CC'), ('ฝaktgag', 'VB'), ('All', 'DT'), Tree('NP', [('staff', 'NN')]), (',', ','), ('from', 'IN'), ('the', 'DT'), ('front', 'JJ'), Tree('NP', [('door', 'NN')]), ('to', 'TO'), ('the', 'DT'), Tree('NP', [('dissection', 'NN'), ('room', 'NN')]), ('.', '.')]),\n",
              " Tree('S', [Tree('NP', [('People', 'NNS')]), ('really', 'RB'), ('enjoy', 'VB'), ('it', 'PRP'), ('.', '.')]),\n",
              " Tree('S', [('1', 'CD'), ('.', '.')]),\n",
              " Tree('S', [('Parking', 'VBG'), ('-', ':'), ('If', 'IN'), Tree('NP', [('holiday', 'NN')]), ('before', 'IN'), ('ten', 'JJ'), Tree('NP', [(\"o'clock\", 'NN')]), ('in', 'IN'), ('the', 'DT'), Tree('NP', [('morning', 'NN')]), ('to', 'TO'), ('find', 'VB'), (',', ','), ('easy', 'JJ'), ('to', 'TO'), ('park', 'VB'), ('as', 'IN'), ('many', 'JJ'), Tree('NP', [('layers', 'NNS')]), ('.', '.')]),\n",
              " Tree('S', [('2', 'CD'), ('.', '.')]),\n",
              " Tree('S', [('The', 'DT'), Tree('NP', [('department', 'NN')]), (\"'s\", 'POS'), ('medical', 'JJ'), Tree('NP', [('records', 'NNS')]), ('-', ':'), Tree('NP', [('coordinator', 'NN'), ('sensitivity', 'NN')]), ('filed', 'VBN'), ('with', 'IN'), Tree('NP', [('patient', 'NN'), ('cards', 'NNS')]), (',', ','), Tree('NP', [('health', 'NN'), ('insurance', 'NN'), ('cards', 'NNS')]), ('allow', 'VBP'), ('up', 'RB'), ('to', 'TO'), ('3', 'CD'), Tree('NP', [('minutes', 'NNS')]), ('can', 'MD'), ('be', 'VB'), ('sent', 'VBN'), ('to', 'TO'), ('the', 'DT'), Tree('NP', [('front', 'NN')]), ('at', 'IN'), ('all', 'DT'), ('.', '.')]),\n",
              " Tree('S', [('3', 'CD'), ('.', '.')]),\n",
              " Tree('S', [('The', 'DT'), Tree('NP', [('services', 'NNS')]), ('provided', 'VBN'), ('by', 'IN'), Tree('NP', [('nurses', 'NNS')]), ('-', ':'), ('a', 'DT'), ('polite', 'JJ'), Tree('NP', [('smile', 'NN')]), ('.', '.')]),\n",
              " Tree('S', [('Gently', 'RB'), ('inject', 'VBP'), ('more', 'JJR'), ('4.', 'CD'), ('the', 'DT'), Tree('NP', [('expertise', 'NN')]), ('of', 'IN'), Tree('NP', [('doctors', 'NNS')]), ('-', ':'), Tree('NP', [('doctors', 'NNS')]), (',', ','), ('most', 'JJS'), ('of', 'IN'), ('the', 'DT'), Tree('NP', [('teachers', 'NNS')]), ('are', 'VBP'), ('proficient', 'JJ'), Tree('NP', [('proficient', 'NN')]), ('.', '.')]),\n",
              " Tree('S', [('But', 'CC'), ('the', 'DT'), Tree('NP', [('deduction', 'NN')]), ('in', 'IN'), Tree('NP', [('respect', 'NN')]), ('of', 'IN'), ('the', 'DT'), Tree('NP', [('issue', 'NN')]), ('of', 'IN'), ('the', 'DT'), ('medical', 'JJ'), Tree('NP', [('examination', 'NN')]), ('.', '.')]),\n",
              " Tree('S', [('Sometimes', 'RB'), ('you', 'PRP'), ('wait', 'VBP'), ('too', 'RB'), ('long', 'RB'), (',', ','), ('because', 'IN'), Tree('NP', [('doctors', 'NNS')]), ('need', 'VBP'), Tree('NP', [('time', 'NN')]), ('to', 'TO'), ('examine', 'VB'), Tree('NP', [('patients', 'NNS')]), ('.', '.')]),\n",
              " Tree('S', [('I', 'PRP'), ('highly', 'RB'), ('mobile', 'JJ'), Tree('NP', [('battery', 'NN')]), ('charging', 'VBG'), Tree('NP', [('backup', 'NN'), ('batteries', 'NNS')]), ('.', '.')]),\n",
              " Tree('S', [('The', 'DT'), Tree('NP', [('nurse', 'NN')]), ('told', 'VBD'), ('me', 'PRP'), ('I', 'PRP'), ('do', 'VBP'), ('not', 'RB'), ('have', 'VB'), ('the', 'DT'), ('financial', 'JJ'), Tree('NP', [('power', 'NN')]), ('to', 'TO'), ('outpatient', 'VB'), Tree('NP', [('department', 'NN')]), ('where', 'WRB'), ('I', 'PRP'), ('want', 'VBP'), ('to', 'TO'), ('come', 'VB'), ('back', 'RB'), (',', ','), ('Mike', 'NNP'), ('.', '.')]),\n",
              " Tree('S', [('But', 'CC'), ('familiar', 'JJ'), ('But', 'CC'), ('pay', 'VB'), Tree('NP', [('money', 'NN')]), ('for', 'IN'), ('Jung', 'NNP'), ('.', '.')]),\n",
              " Tree('S', [('Medical', 'NNP'), Tree('NP', [('care', 'NN')]), ('is', 'VBZ'), ('good', 'JJ'), (',', ','), ('but', 'CC'), ('that', 'IN'), ('does', 'VBZ'), ('not', 'RB'), ('give', 'VB'), ('the', 'DT'), ('full', 'JJ'), ('.', '.')]),\n",
              " Tree('S', [('The', 'DT'), ('Department', 'NNP'), ('of', 'IN'), ('Internal', 'NNP'), ('Medicine', 'NNP'), ('The', 'DT'), Tree('NP', [('lack', 'NN')]), ('of', 'IN'), Tree('NP', [('attention', 'NN')]), ('he', 'PRP'), ('received', 'VBD'), Tree('NP', [('treatment', 'NN')]), ('.', '.')]),\n",
              " Tree('S', [('Take', 'VB'), ('your', 'PRP$'), Tree('NP', [('mom', 'NN')]), ('to', 'TO'), Tree('NP', [('heart', 'NN'), ('disease', 'NN')]), (',', ','), ('was', 'VBD'), ('admitted', 'VBN'), ('to', 'TO'), ('Bangkok', 'NNP'), ('.', '.')]),\n",
              " Tree('S', [Tree('NP', [('Doctors', 'NNS')]), ('and', 'CC'), ('nursing', 'VBG'), Tree('NP', [('care', 'NN')]), ('but', 'CC'), ('ordinary', 'JJ'), Tree('NP', [('room', 'NN')]), ('.', '.')]),\n",
              " Tree('S', [('Not', 'RB'), ('included', 'VBN'), ('Hard', 'NNP'), Tree('NP', [('sleepers', 'NNS')]), ('sleep', 'VBP'), ('poorly', 'RB')]),\n",
              " Tree('S', [('I', 'PRP'), ('was', 'VBD'), ('very', 'RB'), ('impressed', 'JJ'), ('with', 'IN'), ('the', 'DT'), ('Finance', 'NNP'), ('Department', 'NNP'), (',', ','), ('2nd', 'CD'), Tree('NP', [('floor', 'NN'), ('cute', 'NN')]), ('.', '.')]),\n",
              " Tree('S', [('Helps', 'NNP'), ('maintain', 'VB'), ('the', 'DT'), Tree('NP', [('claim', 'NN')]), ('that', 'IN'), ('I', 'PRP'), ('decided', 'VBD'), ('not', 'RB'), ('to', 'TO'), ('have', 'VB'), ('multiple', 'JJ'), Tree('NP', [('insurance', 'NN')]), ('.', '.')]),\n",
              " Tree('S', [('Help', 'VB'), ('me', 'PRP'), ('empathy', 'JJ'), ('and', 'CC'), ('help', 'VB'), ('other', 'JJ'), Tree('NP', [('doctors', 'NNS')]), ('here', 'RB'), Tree('NP', [('thanks', 'NNS')]), ('to', 'TO'), ('the', 'DT'), ('generous', 'JJ'), Tree('NP', [('treatment', 'NN')]), ('of', 'IN'), Tree('NP', [('scalp', 'NN')]), ('even', 'RB'), ('more', 'RBR'), ('.', '.')]),\n",
              " Tree('S', [('exceptionally', 'RB'), ('good', 'JJ')]),\n",
              " Tree('S', [('Sunday', 'NNP'), ('8', 'CD'), ('He', 'PRP'), ('was', 'VBD'), ('admitted', 'VBN'), ('to', 'TO'), ('the', 'DT'), Tree('NP', [('motorcycle', 'NN'), ('accident', 'NN')]), ('.', '.')]),\n",
              " Tree('S', [('Wash', 'IN'), ('the', 'DT'), Tree('NP', [('wound', 'NN')]), ('was', 'VBD'), ('normal', 'JJ'), ('.', '.')]),\n",
              " Tree('S', [('And', 'CC'), ('arranging', 'VBG'), ('to', 'TO'), ('clean', 'VB'), ('the', 'DT'), Tree('NP', [('wound', 'NN')]), ('again', 'RB'), ('on', 'IN'), ('Tuesday', 'NNP'), ('.', '.')]),\n",
              " Tree('S', [('And', 'CC'), ('was', 'VBD'), ('not', 'RB'), ('informed', 'VBN'), ('that', 'IN'), ('the', 'DT'), Tree('NP', [('drug', 'NN'), ('odor', 'NN')]), ('.', '.')]),\n",
              " Tree('S', [Tree('NP', [('Measurements', 'NNS')]), ('made', 'VBN'), ('in', 'IN'), ('the', 'DT'), ('next', 'JJ'), ('(', '('), ('Monday', 'NNP'), (')', ')'), (',', ','), ('I', 'PRP'), ('noticed', 'VBD'), ('a', 'DT'), ('foul', 'JJ'), Tree('NP', [('odor', 'NN')]), ('.', '.')]),\n",
              " Tree('S', [('And', 'CC'), Tree('NP', [('lymph', 'NN'), ('flow', 'NN'), ('outward', 'NN')]), ('.', '.')]),\n",
              " Tree('S', [('He', 'PRP'), ('decided', 'VBD'), ('to', 'TO'), ('make', 'VB'), ('the', 'DT'), Tree('NP', [('wound', 'NN')]), ('again', 'RB'), ('.', '.')]),\n",
              " Tree('S', [('The', 'DT'), Tree('NP', [('drug', 'NN')]), ('is', 'VBZ'), ('made', 'VBN'), ('that', 'IN'), Tree('NP', [('smell', 'NN')]), ('.', '.')]),\n",
              " Tree('S', [('When', 'WRB'), ('changing', 'VBG'), ('the', 'DT'), Tree('NP', [('wound', 'NN')]), ('and', 'CC'), ('finished', 'VBD'), Tree('NP', [('drugs', 'NNS')]), ('.', '.')]),\n",
              " Tree('S', [('For', 'IN'), ('me', 'PRP'), (',', ','), ('therefore', 'RB'), (',', ','), ('that', 'IN'), ('I', 'PRP'), ('need', 'VBP'), ('to', 'TO'), ('follow', 'VB'), ('up', 'RP'), ('the', 'DT'), Tree('NP', [('service', 'NN')]), ('on', 'IN'), ('Tuesday', 'NNP'), ('or', 'CC'), ('not', 'RB'), ('.', '.')]),\n",
              " Tree('S', [('The', 'DT'), Tree('NP', [('nurse', 'NN')]), ('told', 'VBD'), ('the', 'DT'), Tree('NP', [('doctor', 'NN')]), ('to', 'TO'), ('come', 'VB'), ('in', 'IN'), ('at', 'IN'), ('10', 'CD'), ('am', 'VBP'), ('-4', 'JJ'), Tree('NP', [('pm', 'NN')]), ('.', '.')]),\n",
              " Tree('S', [('Which', 'WDT'), ('at', 'IN'), ('that', 'DT'), Tree('NP', [('time', 'NN')]), ('was', 'VBD'), ('2pm', 'CD'), ('.', '.')]),\n",
              " Tree('S', [('Asked', 'VBN'), ('why', 'WRB'), ('not', 'RB'), ('go', 'VB'), ('to', 'TO'), ('the', 'DT'), Tree('NP', [('doctor', 'NN')]), ('.', '.')]),\n",
              " Tree('S', [('Do', 'VBP'), ('not', 'RB'), ('have', 'VB'), ('to', 'TO'), ('waste', 'VB'), Tree('NP', [('time', 'NN')]), ('repeatedly', 'RB'), ('.', '.')]),\n",
              " Tree('S', [('Nurse', 'NNP'), ('said', 'VBD'), ('adhesive', 'JJ'), ('to', 'TO'), ('me', 'PRP'), ('.', '.')]),\n",
              " Tree('S', [('If', 'IN'), ('so', 'RB'), (',', ','), ('will', 'MD'), ('be', 'VB'), ('set', 'VBN'), Tree('NP', [('dresser', 'NN')]), ('again', 'RB'), ('...', ':')]),\n",
              " Tree('S', [('This', 'DT'), Tree('NP', [('hospital', 'NN'), ('patients', 'NNS')]), ('should', 'MD'), ('ask', 'VB'), ('a', 'DT'), Tree('NP', [('doctor', 'NN')]), ('before', 'IN'), ('I', 'PRP'), ('want', 'VBP'), ('to', 'TO'), ('use', 'VB'), ('it', 'PRP'), ('or', 'CC'), ('not', 'RB'), (',', ','), ('or', 'CC'), ('whether', 'IN'), ('I', 'PRP'), ('should', 'MD'), ('just', 'RB'), ('drop', 'VB'), ('me', 'PRP'), Tree('NP', [('tomorrow', 'NN')]), ('.', '.')]),\n",
              " Tree('S', [Tree('NP', [('Nurses', 'NNS')]), ('have', 'VBP'), ('the', 'DT'), Tree('NP', [('right', 'NN')]), ('to', 'TO'), ('decide', 'VB'), ('to', 'TO'), ('replace', 'VB'), ('it', 'PRP'), ('?', '.')]),\n",
              " Tree('S', [Tree('NP', [('Hospital', 'NN')]), ('without', 'IN'), Tree('NP', [('coordination', 'NN')]), ('.', '.')]),\n",
              " Tree('S', [Tree('NP', [('Patients', 'NNS')]), ('need', 'VBP'), ('to', 'TO'), ('make', 'VB'), ('redundant', 'JJ'), Tree('NP', [('fro', 'NN')]), ('.', '.')]),\n",
              " Tree('S', [('I', 'PRP'), ('have', 'VBP'), ('filed', 'VBN'), ('an', 'DT'), Tree('NP', [('appointment', 'NN')]), ('from', 'IN'), ('coming', 'VBG'), ('.', '.')]),\n",
              " Tree('S', [('But', 'CC'), ('it', 'PRP'), ('is', 'VBZ'), ('not', 'RB'), ('a', 'DT'), Tree('NP', [('physician', 'NN')]), ('or', 'CC'), Tree('NP', [('nurse', 'NN')]), ('to', 'TO'), ('a', 'DT'), Tree('NP', [('doctor', 'NN')]), (\"'s\", 'POS'), Tree('NP', [('appointment', 'NN')]), ('in', 'IN'), ('any', 'DT'), Tree('NP', [('way', 'NN')]), ('.', '.')]),\n",
              " Tree('S', [('So', 'RB'), ('I', 'PRP'), ('was', 'VBD'), ('disappointed', 'VBN'), ('with', 'IN'), ('the', 'DT'), Tree('NP', [('standard', 'NN')]), ('.', '.')]),\n",
              " Tree('S', [('May', 'NNP'), ('.', '.')]),\n",
              " Tree('S', [('After', 'IN'), ('not', 'RB'), ('going', 'VBG'), ('to', 'TO'), ('take', 'VB'), ('many', 'JJ'), Tree('NP', [('years', 'NNS')]), ('.', '.')]),\n",
              " Tree('S', [('More', 'RBR'), ('modern', 'JJ'), Tree('NP', [('hospital', 'NN')]), ('But', 'CC'), ('the', 'DT'), Tree('NP', [('distance', 'NN')]), ('of', 'IN'), ('the', 'DT'), ('financial', 'JJ'), ('and', 'CC'), ('dispense', 'VB'), ('too', 'RB'), ('far', 'RB'), ('.', '.')]),\n",
              " Tree('S', [('Will', 'MD'), ('take', 'VB'), ('over', 'RP'), ('the', 'DT'), Tree('NP', [('payments', 'NNS')]), (',', ','), ('but', 'CC'), ('to', 'TO'), ('wait', 'VB'), ('for', 'IN'), ('the', 'DT'), Tree('NP', [('drugs', 'NNS')]), ('from', 'IN'), ('the', 'DT'), Tree('NP', [('pharmacy', 'NN'), ('bag', 'NN')]), ('with', 'IN'), ('as', 'IN'), ('many', 'JJ'), Tree('NP', [('people', 'NNS')]), ('waiting', 'VBG'), ('for', 'IN'), Tree('NP', [('payment', 'NN')]), ('.', '.')]),\n",
              " Tree('S', [('Here', 'RB'), ('are', 'VBP'), ('the', 'DT'), Tree('NP', [('names', 'NNS')]), ('and', 'CC'), Tree('NP', [('information', 'NN')]), ('of', 'IN'), Tree('NP', [('patients', 'NNS'), ('strap', 'NN')]), ('.', '.')]),\n",
              " Tree('S', [('But', 'CC'), ('pay', 'VB'), Tree('NP', [('attention', 'NN')]), ('to', 'TO'), ('see', 'VB'), ('if', 'IN'), ('the', 'DT'), Tree('NP', [('waste', 'NN')]), ('is', 'VBZ'), ('not', 'RB'), ('as', 'RB'), ('good', 'JJ'), ('as', 'IN'), ('it', 'PRP'), ('does', 'VBZ'), ('.', '.')]),\n",
              " Tree('S', [('Your', 'PRP$'), Tree('NP', [('doctor', 'NN')]), (',', ','), ('nurse', 'JJ'), Tree('NP', [('service', 'NN')]), (',', ','), ('great', 'JJ'), Tree('NP', [('eloquence', 'NN')]), ('.', '.')]),\n",
              " Tree('S', [Tree('NP', [('Management', 'NN'), ('system', 'NN')]), (',', ','), ('good', 'JJ'), ('waiting', 'VBG'), Tree('NP', [('staff', 'NN')]), ('a', 'DT'), ('medical', 'JJ'), Tree('NP', [('doctor', 'NN')]), (',', ','), ('beaming', 'VBG'), ('good', 'JJ'), ('.', '.')]),\n",
              " Tree('S', [('Reason', 'NNP'), ('for', 'IN'), ('this', 'DT'), Tree('NP', [('hospital', 'NN')]), ('.', '.')]),\n",
              " Tree('S', [('Near', 'IN'), ('the', 'DT'), Tree('NP', [('house', 'NN')]), ('with', 'IN'), ('your', 'PRP$'), Tree('NP', [('doctor', 'NN')]), ('.', '.')]),\n",
              " Tree('S', [('I', 'PRP'), ('like', 'VBP'), ('this', 'DT'), Tree('NP', [('hospital', 'NN')]), ('A', 'NNP'), Tree('NP', [('hospital', 'NN')]), ('that', 'WDT'), ('is', 'VBZ'), ('not', 'RB'), ('too', 'RB'), ('big', 'JJ'), ('.', '.')]),\n",
              " Tree('S', [('To', 'TO'), ('each', 'DT'), Tree('NP', [('department', 'NN')]), (',', ','), ('not', 'RB'), ('far', 'RB'), ('away', 'RB'), ('.', '.')]),\n",
              " Tree('S', [('Some', 'DT'), Tree('NP', [('departments', 'NNS')]), ('will', 'MD'), ('remain', 'VB'), ('separate', 'JJ'), ('Laminate', 'NNP'), Tree('NP', [('areas', 'NNS')]), ('.', '.')]),\n",
              " Tree('S', [('A', 'DT'), ('private', 'JJ'), Tree('NP', [('hospital', 'NN')]), ('where', 'WRB'), ('the', 'DT'), Tree('NP', [('price', 'NN')]), ('is', 'VBZ'), ('not', 'RB'), ('too', 'RB'), ('high', 'JJ'), ('and', 'CC'), ('the', 'DT'), Tree('NP', [('service', 'NN'), ('good', 'NN')]), ('.', '.')]),\n",
              " Tree('S', [('Nurse', 'NNP'), Tree('NP', [('care', 'NN'), ('patient', 'NN')]), ('and', 'CC'), Tree('NP', [('polite', 'NN')]), ('You', 'PRP'), ('have', 'VBP'), ('enough', 'JJ'), Tree('NP', [('room', 'NN')]), ('to', 'TO'), ('accommodate', 'VB'), ('a', 'DT'), ('large', 'JJ'), Tree('NP', [('number', 'NN')]), ('of', 'IN'), Tree('NP', [('patients', 'NNS')]), ('.', '.')]),\n",
              " Tree('S', [('Some', 'DT'), Tree('NP', [('hospitals', 'NNS')]), ('are', 'VBP'), ('too', 'RB'), ('many', 'JJ'), Tree('NP', [('doctors', 'NNS')]), ('.', '.')]),\n",
              " Tree('S', [('The', 'DT'), Tree('NP', [('need', 'NN')]), ('to', 'TO'), ('wait', 'VB'), ('for', 'IN'), ('the', 'DT'), Tree('NP', [('end', 'NN')]), ('of', 'IN'), ('2016', 'CD'), ('as', 'IN'), Tree('NP', [('dengue', 'NN')]), ('.', '.')]),\n",
              " Tree('S', [('To', 'TO'), ('stay', 'VB'), ('in', 'IN'), ('the', 'DT'), Tree('NP', [('hospital', 'NN')]), ('for', 'IN'), ('4', 'CD'), Tree('NP', [('days', 'NNS')]), (',', ','), Tree('NP', [('doctors', 'NNS')]), ('checked', 'VBD'), Tree('NP', [('everything', 'NN')]), ('thoroughly', 'RB'), ('with', 'IN'), Tree('NP', [('insurance', 'NN'), ('departments', 'NNS')]), ('that', 'WDT'), ('facilitate', 'VBP'), ('us', 'PRP'), ('without', 'IN'), ('much', 'JJ'), Tree('NP', [('hassle', 'NN')]), ('.', '.')]),\n",
              " Tree('S', [('The', 'DT'), Tree('NP', [('disadvantage', 'NN')]), ('of', 'IN'), ('this', 'DT'), Tree('NP', [('hospital', 'NN')]), ('is', 'VBZ'), ('.', '.')]),\n",
              " Tree('S', [Tree('NP', [('Nurses', 'NNS')]), ('walked', 'VBD'), ('out', 'RP'), ('very', 'RB'), ('often', 'RB'), ('during', 'IN'), Tree('NP', [('midday', 'NN')]), ('.', '.')]),\n",
              " Tree('S', [('The', 'DT'), Tree('NP', [('cause', 'NN')]), ('is', 'VBZ'), ('not', 'RB'), ('fully', 'RB'), ('relax', 'VB'), ('But', 'CC'), ('it', 'PRP'), (\"'s\", 'VBZ'), ('understandable', 'JJ'), ('because', 'IN'), ('To', 'TO'), ('monitor', 'VB'), ('the', 'DT'), Tree('NP', [('temperature', 'NN')]), ('The', 'DT'), Tree('NP', [('doctor', 'NN')]), ('came', 'VBD'), ('to', 'TO'), ('check', 'VB'), ('on', 'IN'), ('all', 'PDT'), ('the', 'DT'), Tree('NP', [('time', 'NN')]), (',', ','), ('never', 'RB'), ('late', 'RB'), (',', ','), ('but', 'CC'), ('the', 'DT'), Tree('NP', [('downside', 'NN')]), ('is', 'VBZ'), ('another', 'DT'), Tree('NP', [('hospital', 'NN')]), ('.', '.')]),\n",
              " Tree('S', [('Not', 'RB'), ('clean', 'VB'), ('the', 'DT'), Tree('NP', [('cafeteria', 'NN'), ('food', 'NN')]), ('was', 'VBD'), ('plain', 'VB'), ('how', 'WRB'), ('much', 'JJ'), ('the', 'DT'), ('old', 'JJ'), Tree('NP', [('store', 'NN')]), ('.', '.')]),\n",
              " Tree('S', [('Not', 'RB'), ('very', 'RB'), ('tasty', 'JJ'), ('It', 'PRP'), ('may', 'MD'), ('be', 'VB'), ('in', 'IN'), ('the', 'DT'), ('Silom', 'NNP'), Tree('NP', [('area', 'NN')]), ('.', '.')]),\n",
              " Tree('S', [('I', 'PRP'), ('have', 'VBP'), Tree('NP', [('food', 'NN')]), ('to', 'TO'), ('eat', 'VB'), ('a', 'DT'), Tree('NP', [('lot', 'NN')]), ('.', '.')]),\n",
              " Tree('S', [('However', 'RB'), (',', ','), ('it', 'PRP'), ('should', 'MD'), ('be', 'VB'), ('a', 'DT'), Tree('NP', [('variety', 'NN')]), ('of', 'IN'), Tree('NP', [('food', 'NN')]), ('for', 'IN'), Tree('NP', [('people', 'NNS')]), ('who', 'WP'), ('are', 'VBP'), ('waiting', 'VBG'), ('for', 'IN'), ('the', 'DT'), Tree('NP', [('doctor', 'NN')]), ('or', 'CC'), ('the', 'DT'), Tree('NP', [('patient', 'NN')]), ('came', 'VBD'), ('to', 'TO'), Tree('NP', [('food', 'NN')]), ('is', 'VBZ'), ('very', 'RB'), ('important', 'JJ'), ('.', '.')]),\n",
              " Tree('S', [('At', 'IN'), ('least', 'JJS'), ('it', 'PRP'), ('makes', 'VBZ'), ('the', 'DT'), Tree('NP', [('hospital', 'NN'), ('stay', 'NN')]), ('is', 'VBZ'), ('never', 'RB'), ('boring', 'JJ'), ('.', '.')]),\n",
              " Tree('S', [('Also', 'RB'), (',', ','), ('it', 'PRP'), ('does', 'VBZ'), ('not', 'RB'), ('have', 'VB'), ('a', 'DT'), Tree('NP', [('restaurant', 'NN')]), ('open', 'JJ'), ('to', 'TO'), ('the', 'DT'), ('outside', 'JJ'), (',', ','), ('many', 'JJ'), Tree('NP', [('starbucks', 'NNS')]), ('or', 'CC'), ('S', 'NNP'), ('&', 'CC'), ('P', 'NNP'), ('is', 'VBZ'), ('the', 'DT'), ('only', 'JJ'), ('Au', 'NNP'), ('Bon', 'NNP'), ('Pain', 'NNP'), (',', ','), ('which', 'WDT'), ('makes', 'VBZ'), ('it', 'PRP'), ('a', 'DT'), ('little', 'JJ'), ('less', 'JJR'), Tree('NP', [('choice', 'NN')]), ('for', 'IN'), ('the', 'DT'), Tree('NP', [('consumer', 'NN')]), ('.', '.')]),\n",
              " Tree('S', [('For', 'IN'), Tree('NP', [('rooms', 'NNS')]), ('were', 'VBD'), ('very', 'RB'), ('clean', 'JJ'), ('and', 'CC'), ('cleaned', 'JJ'), ('every', 'DT'), Tree('NP', [('day', 'NN')]), (',', ','), ('rub', 'VB'), ('the', 'DT'), Tree('NP', [('swab', 'NN')]), ('.', '.')]),\n",
              " Tree('S', [('Considered', 'VBN'), ('very', 'RB'), ('good', 'JJ'), ('for', 'IN'), Tree('NP', [('people', 'NNS')]), ('who', 'WP'), ('are', 'VBP'), ('concerned', 'VBN'), ('about', 'IN'), Tree('NP', [('cleanliness', 'NN')]), ('.', '.')]),\n",
              " Tree('S', [('Toilet', 'NNP'), Tree('NP', [('water', 'NN')]), ('was', 'VBD'), ('flowing', 'VBG'), ('quite', 'RB'), ('strongly', 'RB'), ('.', '.')]),\n",
              " Tree('S', [('Do', 'VB'), ('not', 'RB'), ('be', 'VB'), ('afraid', 'VBN'), ('to', 'TO'), ('be', 'VB'), ('a', 'DT'), ('strong', 'JJ'), Tree('NP', [('flow', 'NN')]), ('of', 'IN'), ('warm', 'JJ'), Tree('NP', [('water', 'NN')]), ('is', 'VBZ'), ('great', 'JJ'), ('for', 'IN'), Tree('NP', [('people', 'NNS')]), ('who', 'WP'), ('like', 'IN'), Tree('NP', [('winter', 'NN')]), ('.', '.')]),\n",
              " Tree('S', [('It', 'PRP'), ('offers', 'VBZ'), ('wifi', 'RBR'), ('in', 'IN'), ('the', 'DT'), Tree('NP', [('room', 'NN')]), ('with', 'IN'), ('the', 'DT'), Tree('NP', [('patient', 'NN'), ('registration', 'NN'), ('service', 'NN')]), ('soon', 'RB'), ('.', '.')]),\n",
              " Tree('S', [('But', 'CC'), ('not', 'RB'), ('so', 'RB'), ('fast', 'RB'), ('But', 'CC'), ('better', 'JJR'), ('than', 'IN'), Tree('NP', [('none', 'NN')]), ('Take', 'VB'), ('a', 'DT'), Tree('NP', [('look', 'NN')]), ('at', 'IN'), ('the', 'DT'), Tree('NP', [('series', 'NN')]), (',', ','), ('bored', 'VBN'), ('with', 'IN'), Tree('NP', [('nothing', 'NN')]), ('to', 'TO'), ('do', 'VB'), ('.', '.')]),\n",
              " Tree('S', [('The', 'DT'), Tree('NP', [('rooms', 'NNS')]), ('are', 'VBP'), ('not', 'RB'), ('luxurious', 'JJ'), ('atmosphere', 'RB'), ('BNH', 'NNP'), Tree('NP', [('something', 'NN')]), ('new', 'JJ'), (',', ','), ('but', 'CC'), ('it', 'PRP'), ('is', 'VBZ'), ('not', 'RB'), ('terrible', 'JJ'), Tree('NP', [('light', 'NN')]), (',', ','), ('then', 'RB'), ('the', 'DT'), Tree('NP', [('total', 'NN')]), ('would', 'MD'), ('be', 'VB'), ('8.5', 'CD'), Tree('NP', [('points', 'NNS')]), ('out', 'IN'), ('of', 'IN'), ('a', 'DT'), Tree('NP', [('nursing', 'NN')]), ('often', 'RB'), ('enough', 'RB'), ('.', '.')]),\n",
              " Tree('S', [('The', 'DT'), Tree('NP', [('sound', 'NN')]), ('is', 'VBZ'), ('quite', 'RB'), ('loud', 'JJ'), (',', ','), ('medical', 'JJ'), Tree('NP', [('equipment', 'NN'), ('carts', 'NNS')]), ('.', '.')]),\n",
              " Tree('S', [('And', 'CC'), ('the', 'DT'), Tree('NP', [('food', 'NN')]), ('is', 'VBZ'), ('not', 'RB'), ('much', 'JJ'), ('to', 'TO'), ('choose', 'VB'), ('from', 'IN'), ('.', '.')]),\n",
              " Tree('S', [('Like', 'IN'), ('running', 'VBG'), Tree('NP', [('speed', 'NN')]), ('Hospital', 'NNP'), Tree('NP', [('cleanliness', 'NN')]), ('Doctor', 'NNP'), ('and', 'CC'), ('experienced', 'VBD'), Tree('NP', [('people', 'NNS')])]),\n",
              " Tree('S', [('Food', 'NNP'), Tree('NP', [('poisoning', 'NN')]), (',', ','), Tree('NP', [('diarrhea', 'NN')]), (',', ','), Tree('NP', [('penniless', 'NN')]), ('and', 'CC'), ('without', 'IN'), ('a', 'DT'), Tree('NP', [('doctor', 'NN')]), ('.', '.')]),\n",
              " Tree('S', [('You', 'PRP'), ('need', 'VBP'), ('salt', 'VB'), ('to', 'TO'), ('the', 'DT'), Tree('NP', [('doctor', 'NN')]), ('ordered', 'VBD'), ('.', '.')]),\n",
              " Tree('S', [('Then', 'RB'), ('it', 'PRP'), ('hit', 'VBD'), ('us', 'PRP'), ('to', 'TO'), ('stay', 'VB'), ('an', 'DT'), ('extra', 'JJ'), Tree('NP', [('night', 'NN')]), ('to', 'TO'), ('make', 'VB'), Tree('NP', [('brine', 'NN')]), ('.', '.')]),\n",
              " Tree('S', [('Paul', 'NNP'), ('Brine', 'NNP'), ('out', 'IN'), ('Nursing', 'NNP'), Tree('NP', [('bother', 'NN')]), ('to', 'TO'), ('come', 'VB'), ('overnight', 'RB'), (',', ','), ('adding', 'VBG'), ('to', 'TO'), Tree('NP', [('signs', 'NNS')]), ('.', '.')]),\n",
              " Tree('S', [('We', 'PRP'), ('were', 'VBD'), ('told', 'VBN'), ('that', 'IN'), ('there', 'EX'), ('was', 'VBD'), Tree('NP', [('need', 'NN')]), ('to', 'TO'), ('do', 'VB'), ('so', 'RB'), ('.', '.')]),\n",
              " Tree('S', [('The', 'DT'), Tree('NP', [('drug', 'NN')]), ('was', 'VBD'), ('also', 'RB'), ('another', 'DT'), Tree('NP', [('change', 'NN')]), ('that', 'WDT'), ('came', 'VBD'), ('into', 'IN'), ('Metallica', 'NNP'), ('.', '.')]),\n",
              " Tree('S', [('Let', 'VB'), ('us', 'PRP'), ('find', 'VB'), ('out', 'RP'), ('Langen', 'NNP'), ('is', 'VBZ'), ('a', 'DT'), ('metal', 'JJ'), ('salt-depleted', 'JJ'), Tree('NP', [('hour', 'NN')]), ('ago', 'RB'), ('.', '.')]),\n",
              " Tree('S', [('We', 'PRP'), ('are', 'VBP'), ('outraged', 'VBN'), ('that', 'IN'), ('the', 'DT'), Tree('NP', [('doctor', 'NN')]), ('did', 'VBD'), ('not', 'RB'), ('ask', 'VB'), ('to', 'TO'), ('come', 'VB'), ('here', 'RB'), (',', ','), ('then', 'RB'), ('it', 'PRP'), ('really', 'RB'), ('does', 'VBZ'), ('not', 'RB'), ('require', 'VB'), ('a', 'DT'), ('special', 'JJ'), Tree('NP', [('room', 'NN')]), ('this', 'DT'), Tree('NP', [('time', 'NN')]), (',', ','), Tree('NP', [('eh', 'NN')]), ('.', '.')]),\n",
              " Tree('S', [('Centreline', 'NNP'), ('until', 'IN'), ('we', 'PRP'), ('begin', 'VBP'), ('to', 'TO'), ('pay', 'VB'), ('out', 'RP'), ('.', '.')]),\n",
              " Tree('S', [('The', 'DT'), ('total', 'JJ'), Tree('NP', [('cost', 'NN')]), ('to', 'TO'), ('the', 'DT'), Tree('NP', [('drug', 'NN'), ('charges', 'NNS')]), ('nearly', 'RB'), ('a', 'DT'), Tree('NP', [('thousand', 'NN'), ('rooms', 'NNS')]), ('.', '.')]),\n",
              " Tree('S', [('A', 'DT'), ('cold', 'JJ'), Tree('NP', [('day', 'NN')]), ('Your', 'PRP$'), Tree('NP', [('doctor', 'NN')]), ('much', 'JJ'), ('sooner', 'JJR'), ('than', 'IN'), ('2', 'CD'), Tree('NP', [('minutes', 'NNS')]), (',', ','), ('lift', 'VBZ'), ('the', 'DT'), Tree('NP', [('handset', 'NN')]), ('to', 'TO'), ('listen', 'VB'), ('to', 'TO'), ('the', 'DT'), Tree('NP', [('lungs', 'NNS')]), (',', ','), ('moved', 'VBD'), ('quickly', 'RB'), ('.', '.')]),\n",
              " Tree('S', [('More', 'RBR'), ('important', 'JJ'), (',', ','), ('he', 'PRP'), ('returned', 'VBD'), Tree('NP', [('home', 'NN')]), ('to', 'TO'), ('find', 'VB'), ('the', 'DT'), Tree('NP', [('medicine', 'NN')]), ('the', 'DT'), Tree('NP', [('doctor', 'NN')]), ('ordered', 'VBD'), ('to', 'TO'), ('cough', 'VB'), ('.', '.')]),\n",
              " Tree('S', [('Did', 'NNP'), ('not', 'RB'), Tree('NP', [('order', 'NN')]), ('the', 'DT'), Tree('NP', [('drugs', 'NNS')]), ('by', 'IN'), ('nasal', 'JJ'), Tree('NP', [('congestion', 'NN')]), (',', ','), ('then', 'RB'), ('the', 'DT'), Tree('NP', [('doctor', 'NN')]), ('will', 'MD'), ('prescribe', 'VB'), Tree('NP', [('drugs', 'NNS')]), ('that', 'WDT'), ('should', 'MD'), ('tell', 'VB'), ('you', 'PRP'), Tree('NP', [('something', 'NN')]), ('.', '.')]),\n",
              " Tree('S', [('It', 'PRP'), ('was', 'VBD'), ('late', 'JJ'), ('enough', 'JJ'), Tree('NP', [('medicine', 'NN')]), ('.', '.')]),\n",
              " Tree('S', [('Would', 'MD'), ('not', 'RB'), ('have', 'VB'), ('to', 'TO'), ('ride', 'VB'), ('back', 'RB'), ('to', 'TO'), ('tell', 'VB'), ('the', 'DT'), Tree('NP', [('doctor', 'NN')]), ('ordered', 'VBD'), ('to', 'TO'), ('cure', 'VB'), ('a', 'DT'), Tree('NP', [('stuffy', 'NN'), ('nose', 'NN')]), ('.', '.')]),\n",
              " Tree('S', [('I', 'PRP'), ('feel', 'VBP'), ('that', 'IN'), ('the', 'DT'), Tree('NP', [('state', 'NN'), ('hospital', 'NN')]), ('to', 'TO'), ('see', 'VB'), ('a', 'DT'), Tree('NP', [('doctor', 'NN')]), ('is', 'VBZ'), ('better', 'JJR'), ('than', 'IN'), Tree('NP', [('medicine', 'NN')]), ('correctly', 'RB'), ('.', '.')]),\n",
              " Tree('S', [('You', 'PRP'), ('know', 'VBP'), ('the', 'DT'), Tree('NP', [('signs', 'NNS')]), ('and', 'CC'), ('take', 'VB'), ('the', 'DT'), Tree('NP', [('time', 'NN')]), ('to', 'TO'), Tree('NP', [('treatment', 'NN')]), ('than', 'IN'), ('private', 'JJ'), ('again', 'RB'), ('.', '.')]),\n",
              " Tree('S', [('Service', 'NNP'), ('is', 'VBZ'), ('very', 'RB'), ('good', 'JJ'), Tree('NP', [('People', 'NNS')]), ('took', 'VBD'), ('to', 'TO'), ('the', 'DT'), Tree('NP', [('floor', 'NN')]), ('where', 'WRB'), ('the', 'DT'), Tree('NP', [('doctor', 'NN')]), ('will', 'MD'), ('do', 'VB'), ('a', 'DT'), ('very', 'RB'), ('good', 'JJ'), Tree('NP', [('service', 'NN')]), ('.', '.')]),\n",
              " Tree('S', [('I', 'PRP'), ('waited', 'VBD'), ('quite', 'RB'), ('a', 'DT'), ('long', 'JJ'), Tree('NP', [('time', 'NN')]), (',', ','), ('in', 'IN'), Tree('NP', [('spite', 'NN')]), ('of', 'IN'), Tree('NP', [('appearances', 'NNS')]), ('.', '.')]),\n",
              " Tree('S', [('The', 'DT'), Tree('NP', [('professor', 'NN'), ('doctor', 'NN')])]),\n",
              " Tree('S', [Tree('NP', [('Patients', 'NNS')]), ('are', 'VBP'), ('not', 'RB'), ('paying', 'VBG'), Tree('NP', [('attention', 'NN')]), ('.', '.')]),\n",
              " Tree('S', [('Specific', 'JJ'), Tree('NP', [('stomach', 'NN')]), ('attentive', 'JJ'), ('to', 'TO'), Tree('NP', [('patients', 'NNS')]), ('as', 'IN'), ('well', 'RB'), ('.', '.')]),\n",
              " Tree('S', [('Suggested', 'JJ'), Tree('NP', [('remedy', 'NN')]), ('As', 'NNP'), ('well', 'RB'), ('as', 'IN'), Tree('NP', [('patient', 'NN'), ('care', 'NN')]), ('to', 'TO'), ('recover', 'VB'), ('from', 'IN'), ('the', 'DT'), Tree('NP', [('symptoms', 'NNS')]), ('is', 'VBZ'), ('very', 'RB'), ('good', 'JJ'), ('.', '.')]),\n",
              " Tree('S', [('Until', 'IN'), ('the', 'DT'), Tree('NP', [('card', 'NN')]), ('to', 'TO'), ('the', 'DT'), Tree('NP', [('nurse', 'NN')]), (\"'s\", 'POS'), Tree('NP', [('desk', 'NN')]), ('and', 'CC'), Tree('NP', [('everyone', 'NN')]), ('is', 'VBZ'), ('very', 'RB'), ('lovely', 'RB'), ('.', '.')]),\n",
              " Tree('S', [Tree('NP', [('Today', 'NN')]), (',', ','), ('not', 'RB'), ('a', 'DT'), ('cold', 'JJ'), ('and', 'CC'), ('sore', 'RB'), Tree('NP', [('throat', 'NN')]), ('to', 'TO'), ('the', 'DT'), Tree('NP', [('doctor', 'NN')]), ('to', 'TO'), ('get', 'VB'), Tree('NP', [('medicine', 'NN')]), ('.', '.')]),\n",
              " Tree('S', [('Good', 'JJ'), Tree('NP', [('service', 'NN')]), ('is', 'VBZ'), ('very', 'RB'), ('attentive', 'JJ'), Tree('NP', [('patient', 'NN')]), ('.', '.')]),\n",
              " Tree('S', [('Keeping', 'VBG'), ('a', 'DT'), Tree('NP', [('pet', 'NN')]), ('fever', 'IN'), ('The', 'DT'), ('dry', 'JJ'), Tree('NP', [('bed', 'NN')]), ('was', 'VBD'), ('hard', 'JJ'), ('to', 'TO'), ('sleep', 'VB'), ('.', '.')]),\n",
              " Tree('S', [('Service', 'NNP'), ('quite', 'RB'), ('slow', 'JJ'), Tree('NP', [('time', 'NN')]), ('make', 'VBP'), ('out', 'RP'), ('very', 'RB'), ('slowly', 'RB'), Tree('NP', [('kg', 'NN')]), ('.', '.')]),\n",
              " Tree('S', [('Follow', 'NNP'), ('us', 'PRP'), ('ask', 'VBP'), ('from', 'IN'), Tree('NP', [('morning', 'NN')]), ('got', 'VBD'), ('off', 'RB'), ('again', 'RB'), ('at', 'IN'), ('2pm', 'CD'), ('.', '.')]),\n",
              " Tree('S', [('But', 'CC'), ('every', 'DT'), Tree('NP', [('time', 'NN')]), ('the', 'DT'), Tree('NP', [('maintenance', 'NN'), ('service', 'NN')]), ('of', 'IN'), Tree('NP', [('nurses', 'NNS')]), ('are', 'VBP'), ('excellent', 'JJ'), ('.', '.')]),\n",
              " Tree('S', [('Total', 'JJ'), Tree('NP', [('costs', 'NNS')]), ('of', 'IN'), Tree('NP', [('prizes', 'NNS')]), ('to', 'TO'), ('unfold', 'VB'), ('along', 'IN'), ('the', 'DT'), Tree('NP', [('charge', 'NN')]), ('.', '.')]),\n",
              " Tree('S', [('Almost', 'RB'), ('worth', 'IN'), ('it', 'PRP')]),\n",
              " Tree('S', [Tree('NP', [('Doctors', 'NNS')]), ('and', 'CC'), Tree('NP', [('nurses', 'NNS')]), ('can', 'MD'), ('provide', 'VB'), Tree('NP', [('care', 'NN')]), ('as', 'IN'), ('well', 'RB'), ('.', '.')]),\n",
              " Tree('S', [('Good', 'JJ'), Tree('NP', [('patient', 'NN'), ('care', 'NN'), ('services', 'NNS')]), ('Fee', 'NNP'), ('Affordable', 'NNP')]),\n",
              " Tree('S', [('Hospital', 'NNP'), Tree('NP', [('ward', 'NN'), ('boy', 'NN')]), ('Care', 'NNP'), Tree('NP', [('admit', 'NN')]), ('as', 'RB'), ('much', 'JJ'), ('to', 'TO'), ('clean', 'VB'), ('the', 'DT'), Tree('NP', [('thermometer', 'NN')]), ('as', 'IN'), ('a', 'DT'), ('good', 'JJ'), Tree('NP', [('time', 'NN')]), ('to', 'TO'), ('talk', 'VB'), ('psychological', 'JJ'), Tree('NP', [('smiling', 'NN')]), ('.', '.')]),\n",
              " Tree('S', [('Long', 'JJ'), Tree('NP', [('wait', 'NN')]), (',', ','), ('crowded', 'VBD'), ('waiting', 'VBG'), Tree('NP', [('rooms', 'NNS')]), (',', ','), Tree('NP', [('doctor', 'NN')]), (',', ','), Tree('NP', [('hospital', 'NN'), ('system', 'NN')]), ('does', 'VBZ'), ('not', 'RB'), ('work', 'VB'), ('.', '.')]),\n",
              " Tree('S', [Tree('NP', [('Delays', 'NNS')]), (',', ','), ('high', 'JJ'), Tree('NP', [('prices', 'NNS')]), ('are', 'VBP'), ('not', 'RB'), ('fit', 'JJ'), ('for', 'IN'), Tree('NP', [('service', 'NN')]), ('.', '.')]),\n",
              " Tree('S', [('Usually', 'RB'), ('it', 'PRP'), ('is', 'VBZ'), ('used', 'VBN'), ('at', 'IN'), Tree('NP', [('hospital', 'NN')]), ('near', 'IN'), ('Bangkok', 'NNP'), ('due', 'JJ'), ('.', '.')]),\n",
              " Tree('S', [('The', 'DT'), Tree('NP', [('service', 'NN')]), ('is', 'VBZ'), ('really', 'RB'), ('good', 'JJ'), ('Enough', 'NNP'), Tree('NP', [('staff', 'NN')]), ('for', 'IN'), Tree('NP', [('service', 'NN')])]),\n",
              " Tree('S', [('May', 'NNP'), ('provide', 'VB'), ('medical', 'JJ'), Tree('NP', [('care', 'NN')]), ('as', 'RB'), ('well', 'RB'), ('as', 'IN'), ('friendly', 'JJ'), ('.', '.')]),\n",
              " Tree('S', [('To', 'TO'), ('maintain', 'VB'), Tree('NP', [('eye', 'NN'), ('contact', 'NN')]), ('with', 'IN'), ('Dr.', 'NNP'), ('Orawan', 'NNP'), ('.', '.')]),\n",
              " Tree('S', [('There', 'EX'), ('are', 'VBP'), ('very', 'RB'), ('good', 'JJ'), Tree('NP', [('patients', 'NNS')]), ('Said', 'VBD'), Tree('NP', [('treatment', 'NN'), ('step', 'NN')]), ('to', 'TO'), ('understanding', 'VBG'), Tree('NP', [('simple', 'NN')]), ('.', '.')]),\n",
              " Tree('S', [('And', 'CC'), ('your', 'PRP$'), Tree('NP', [('doctor', 'NN')]), ('beaching', 'VBG'), Tree('NP', [('battle', 'NN')]), ('again', 'RB'), ('.', '.')]),\n",
              " Tree('S', [Tree('NP', [('Doctor', 'NN')]), ('Who', 'WP'), ('is', 'VBZ'), ('my', 'PRP$'), Tree('NP', [('mother', 'NN')]), ('and', 'CC'), ('all', 'PDT'), ('the', 'DT'), Tree('NP', [('family', 'NN')]), ('very', 'RB'), ('impressed', 'JJ'), ('.', '.')]),\n",
              " Tree('S', [('Outpatient', 'NNP'), Tree('NP', [('care', 'NN')]), ('is', 'VBZ'), ('very', 'RB'), ('good', 'JJ'), ('as', 'IN'), ('well', 'RB'), ('.', '.')]),\n",
              " Tree('S', [('Took', 'NNP'), ('her', 'PRP$'), Tree('NP', [('son', 'NN')]), ('to', 'TO'), ('the', 'DT'), Tree('NP', [('doctor', 'NN')]), ('The', 'DT'), ('low', 'JJ'), Tree('NP', [('grade', 'NN'), ('fever', 'NN')]), ('Were', 'NNP'), Tree('NP', [('rash', 'NN')]), ('on', 'IN'), ('the', 'DT'), Tree('NP', [('body', 'NN')]), ('When', 'WRB'), ('the', 'DT'), Tree('NP', [('outdoor', 'NN')]), ('and', 'CC'), ('named', 'VBN'), Tree('NP', [('patient', 'NN')]), ('.', '.')]),\n",
              " Tree('S', [('Check', 'VB'), ('the', 'DT'), Tree('NP', [('pressure', 'NN')]), ('Height', 'NNP'), Tree('NP', [('children', 'NNS')]), ('I', 'PRP'), ('was', 'VBD'), ('waiting', 'VBG'), ('to', 'TO'), ('see', 'VB'), ('Bay', 'NNP'), ('Area', 'NNP'), Tree('NP', [('stage', 'NN')]), ('fast', 'RB'), ('enough', 'RB'), ('.', '.')]),\n",
              " Tree('S', [('It', 'PRP'), ('does', 'VBZ'), ('not', 'RB'), ('have', 'VB'), ('to', 'TO'), ('wait', 'VB'), ('long', 'RB'), ('.', '.')]),\n",
              " Tree('S', [('Staff', 'NNP'), Tree('NP', [('look', 'NN')]), ('after', 'IN'), ('good', 'JJ'), ('I', 'PRP'), ('smiled', 'VBD'), ('at', 'IN'), ('my', 'PRP$'), Tree('NP', [('sink', 'NN'), ('transparent', 'NN'), ('viscose', 'NN')]), ('.', '.')]),\n",
              " Tree('S', [('You', 'PRP'), ('were', 'VBD'), ('described', 'VBN'), ('as', 'IN'), ('benign', 'JJ'), ('genital', 'JJ'), Tree('NP', [('informative', 'NN')]), ('.', '.')]),\n",
              " Tree('S', [('Until', 'IN'), ('then', 'RB'), (',', ','), ('the', 'DT'), ('ANC', 'NNP'), (\"'s\", 'POS'), Tree('NP', [('birth', 'NN')]), (',', ','), ('it', 'PRP'), ('was', 'VBD'), ('2', 'CD'), Tree('NP', [('people', 'NNS')]), (',', ','), ('good', 'JJ'), Tree('NP', [('service', 'NN')]), (',', ','), ('very', 'RB'), ('good', 'JJ'), Tree('NP', [('doctors', 'NNS')]), (',', ','), Tree('NP', [('nurses', 'NNS')]), (',', ','), Tree('NP', [('patients', 'NNS')]), ('are', 'VBP'), ('encouraged', 'VBN'), ('to', 'TO'), ('make', 'VB'), ('good', 'JJ'), Tree('NP', [('things', 'NNS')]), ('better', 'RBR'), ('.', '.')]),\n",
              " Tree('S', [('Officer', 'NNP'), ('and', 'CC'), ('physician', 'JJ'), Tree('NP', [('attention', 'NN')]), ('to', 'TO'), ('patient', 'VB'), ('Despite', 'IN'), ('the', 'DT'), Tree('NP', [('ease', 'NN')]), ('administrative', 'JJ'), Tree('NP', [('chat', 'NN')]), ('.', '.')]),\n",
              " Tree('S', [('As', 'IN'), ('hospital', 'JJ'), Tree('NP', [('patients', 'NNS')]), ('.', '.')]),\n",
              " Tree('S', [('This', 'DT'), ('is', 'VBZ'), ('a', 'DT'), ('25-year-old', 'JJ'), Tree('NP', [('hospital', 'NN')]), ('.', '.')]),\n",
              " Tree('S', [('The', 'DT'), ('old', 'JJ'), Tree('NP', [('tools', 'NNS')]), ('and', 'CC'), ('modern', 'JJ'), Tree('NP', [('medicine', 'NN')]), ('.', '.')]),\n",
              " Tree('S', [('Believe', 'NNP'), ('and', 'CC'), Tree('NP', [('trust', 'NN')]), ('in', 'IN'), ('medical', 'JJ'), Tree('NP', [('treatment', 'NN')]), ('.', '.')]),\n",
              " Tree('S', [('The', 'DT'), Tree('NP', [('clinics', 'NNS'), ('treat', 'NN')]), ('and', 'CC'), Tree('NP', [('consult', 'NN')]), ('with', 'IN'), ('Dr..', 'NNP'), ('Kitsanee', 'NNP'), Tree('NP', [('department', 'NN')]), (\"'s\", 'POS'), ('MD', 'NNP'), ('.', '.')]),\n",
              " Tree('S', [('Ecriiw', 'NNP'), ('Federation', 'NNP'), ('MD', 'NNP'), ('.', '.')]),\n",
              " Tree('S', [('The', 'DT'), ('great', 'JJ'), ('and', 'CC'), ('admirable', 'JJ'), ('in', 'IN'), ('its', 'PRP$'), Tree('NP', [('intention', 'NN')]), ('to', 'TO'), ('maintain', 'VB'), ('it', 'PRP'), ('.', '.')]),\n",
              " Tree('S', [('Dr.', 'NNP'), ('Cho', 'NNP'), ('absolute', 'POS'), ('good', 'JJ'), ('and', 'CC'), ('noble', 'JJ'), ('in', 'IN'), Tree('NP', [('intention', 'NN')]), ('to', 'TO'), ('treat', 'VB'), ('.', '.')]),\n",
              " Tree('S', [('the', 'DT'), Tree('NP', [('patient', 'NN')]), ('recovered', 'VBD'), ('quickly', 'RB'), ('return', 'VB'), ('to', 'TO'), ('normal', 'JJ'), Tree('NP', [('life', 'NN')]), ('.', '.')]),\n",
              " Tree('S', [('Professor', 'NNP'), ('of', 'IN'), ('neurological', 'JJ'), Tree('NP', [('surgery', 'NN')]), ('Medicine', 'NNP'), ('.', '.')]),\n",
              " Tree('S', [('Brain', 'NNP'), ('expert', 'JJ'), Tree('NP', [('spine', 'NN')]), ('I', 'PRP'), ('introduce', 'VBP'), Tree('NP', [('people', 'NNS')]), ('to', 'TO'), ('recognize', 'VB'), ('the', 'DT'), Tree('NP', [('symptoms', 'NNS')]), ('of', 'IN'), ('broken', 'JJ'), Tree('NP', [('blood', 'NN'), ('vessels', 'NNS')]), ('.', '.')]),\n",
              " Tree('S', [('Tea', 'NNP'), Tree('NP', [('leg', 'NN'), ('pain', 'NN')]), ('caused', 'VBN'), ('by', 'IN'), Tree('NP', [('bone', 'NN'), ('nerve', 'NN')]), ('.', '.')]),\n",
              " Tree('S', [('You', 'PRP'), ('may', 'MD'), ('have', 'VB'), ('also', 'RB'), ('been', 'VBN'), ('operating', 'VBG'), ('from', 'IN'), ('.', '.')]),\n",
              " Tree('S', [('7', 'CD'), Tree('NP', [('days', 'NNS')]), ('walking', 'VBG'), ('normally', 'RB'), ('Body', 'NNP'), ('entirely', 'RB'), ('by', 'IN'), ('the', 'DT'), Tree('NP', [('doctors', 'NNS')]), ('here', 'RB'), ('do', 'VBP'), ('not', 'RB'), ('want', 'VB'), ('the', 'DT'), Tree('NP', [('patient', 'NN')]), ('to', 'TO'), ('sleep', 'VB'), ('.', '.')]),\n",
              " Tree('S', [Tree('NP', [('Hospital', 'NN')]), ('is', 'VBZ'), ('not', 'RB'), ('really', 'RB'), ('hard', 'JJ')]),\n",
              " Tree('S', [('Medicine', 'NNP'), ('(', '('), ('Prof.', 'NNP'), ('Dr.', 'NNP'), ('Lifeboats', 'NNP'), ('.', '.')]),\n",
              " Tree('S', [('Cooperative', 'NNP'), Tree('NP', [('prosperity', 'NN')]), (')', ')'), ('are', 'VBP'), ('knowledgeable', 'JJ'), ('and', 'CC'), ('up', 'RB'), ('.', '.')]),\n",
              " Tree('S', [('Cute', 'NNP'), Tree('NP', [('nurse', 'NN')]), (',', ','), ('both', 'DT'), ('in', 'IN'), Tree('NP', [('front', 'NN')]), ('and', 'CC'), ('in', 'IN'), ('the', 'DT'), Tree('NP', [('ward', 'NN')]), ('.', '.')]),\n",
              " Tree('S', [('Operating', 'VBG'), ('herself', 'PRP'), ('an', 'DT'), Tree('NP', [('angel', 'NN')]), ('dressed', 'VBN'), ('in', 'IN'), ('white', 'JJ'), (',', ','), ('good', 'JJ'), Tree('NP', [('food', 'NN')]), (',', ','), Tree('NP', [('airy', 'NN'), ('environment', 'NN')]), ('near', 'IN'), ('the', 'DT'), Tree('NP', [('hospital', 'NN')]), (\"'s\", 'POS'), Tree('NP', [('feeling', 'NN')]), ('good', 'JJ'), (',', ','), ('etc', 'FW'), ('.', '.')]),\n",
              " Tree('S', [('Since', 'IN'), Tree('NP', [('nurses', 'NNS')]), ('are', 'VBP'), ('impressed', 'JJ'), Tree('NP', [('class', 'NN'), ('child', 'NN'), ('care', 'NN')]), ('for', 'IN'), Tree('NP', [('children', 'NNS')]), ('is', 'VBZ'), ('great', 'JJ'), ('to', 'TO'), ('aid', 'VB'), ('wipe', 'JJ'), Tree('NP', [('eloquence', 'NN'), ('child', 'NN'), ('care', 'NN')]), ('until', 'IN'), ('the', 'DT'), Tree('NP', [('doctor', 'NN')]), ('.', '.')]),\n",
              " Tree('S', [('On', 'IN'), ('1', 'CD'), ('January', 'NNP'), ('2560', 'CD'), ('to', 'TO'), ('treat', 'VB'), Tree('NP', [('pain', 'NN')]), ('in', 'IN'), ('the', 'DT'), Tree('NP', [('ankle', 'NN')]), ('from', 'IN'), ('the', 'DT'), Tree('NP', [('crash', 'NN'), ('landing', 'NN')]), ('.', '.')]),\n",
              " Tree('S', [('Since', 'IN'), ('the', 'DT'), Tree('NP', [('car', 'NN')]), ('is', 'VBZ'), ('very', 'RB'), ('good', 'JJ'), Tree('NP', [('service', 'NN'), ('staff', 'NN')]), ('.', '.')]),\n",
              " Tree('S', [('A', 'DT'), Tree('NP', [('nurse', 'NN')]), ('came', 'VBD'), ('into', 'IN'), Tree('NP', [('question', 'NN')]), ('initial', 'JJ'), Tree('NP', [('symptoms', 'NNS')]), ('.', '.')]),\n",
              " Tree('S', [Tree('NP', [('Check', 'NN'), ('records', 'NNS')]), ('quickly', 'RB'), ('.', '.')]),\n",
              " Tree('S', [('Bay', 'NNP'), ('Area', 'NNP'), ('have', 'VBP'), ('empathy', 'VBN'), ('for', 'IN'), Tree('NP', [('diagnosis', 'NN')]), ('carefully', 'RB'), ('.', '.')]),\n",
              " Tree('S', [('Overall', 'VB'), ('a', 'DT'), ('good', 'JJ'), Tree('NP', [('service', 'NN')]), ('impressed', 'VBD'), ('me', 'PRP'), ('.', '.')]),\n",
              " Tree('S', [('Doctor', 'NNP'), (\"'s\", 'POS'), ('Heart', 'NNP')]),\n",
              " Tree('S', [('If', 'IN'), ('we', 'PRP'), ('can', 'MD'), ('not', 'RB'), ('come', 'VB'), ('back', 'RB'), ('to', 'TO'), Tree('NP', [('life', 'NN')]), ('again', 'RB'), ('sustaining', 'VBG'), ('the', 'DT'), ('highly', 'RB'), ('specialized', 'JJ'), Tree('NP', [('doctors', 'NNS')]), (',', ','), Tree('NP', [('teachers', 'NNS')]), ('choose', 'VBP'), ('the', 'DT'), ('regular', 'JJ'), Tree('NP', [('hospital', 'NN')]), (',', ','), ('Bangkok', 'NNP'), ('.', '.')]),\n",
              " Tree('S', [('Only', 'RB'), ('a', 'DT'), Tree('NP', [('doctor', 'NN')])]),\n",
              " Tree('S', [('You', 'PRP'), ('good', 'JJ'), Tree('NP', [('health', 'NN')]), ('until', 'IN'), Tree('NP', [('benign', 'NN')]), ('.', '.')]),\n",
              " Tree('S', [('Lovely', 'RB'), ('.', '.')]),\n",
              " Tree('S', [('Delicious', 'NNP'), Tree('NP', [('food', 'NN')]), (',', ','), ('courteous', 'JJ'), Tree('NP', [('staff', 'NN')]), ('here', 'RB'), ('.', '.')]),\n",
              " Tree('S', [('You', 'PRP'), ('make', 'VBP'), ('little', 'JJ'), Tree('NP', [('treat', 'NN')]), ('.', '.')]),\n",
              " Tree('S', [('Impressive', 'JJ'), ('fast', 'RB'), ('enough', 'RB')]),\n",
              " Tree('S', [('If', 'IN'), ('you', 'PRP'), ('find', 'VBP'), ('a', 'DT'), ('common', 'JJ'), Tree('NP', [('disease', 'NN')]), ('such', 'JJ'), ('as', 'IN'), Tree('NP', [('flu', 'NNS')]), ('usually', 'RB'), ('does', 'VBZ'), ('not', 'RB'), ('need', 'VB'), ('to', 'TO'), ('see', 'VB'), ('a', 'DT'), Tree('NP', [('doctor', 'NN')]), ('at', 'IN'), ('the', 'DT'), Tree('NP', [('hospital', 'NN'), ('channel', 'NN')]), ('.', '.')]),\n",
              " Tree('S', [('Good', 'JJ'), Tree('NP', [('nursing', 'NN'), ('care', 'NN')]), ('is', 'VBZ'), ('a', 'DT'), ('preliminary', 'JJ'), Tree('NP', [('inquiry', 'NN')]), ('.', '.')]),\n",
              " Tree('S', [Tree('NP', [('Doctors', 'NNS')]), ('advise', 'VBP'), ('more', 'JJR'), ('on', 'IN'), Tree('NP', [('prevention', 'NN')]), ('than', 'IN'), Tree('NP', [('treatment', 'NN')]), ('.', '.')])]"
            ]
          },
          "metadata": {
            "tags": []
          },
          "execution_count": 289
        }
      ]
    },
    {
      "cell_type": "markdown",
      "metadata": {
        "id": "18VFBI44jYwV",
        "colab_type": "text"
      },
      "source": [
        "Extract Noun Phrase"
      ]
    },
    {
      "cell_type": "code",
      "metadata": {
        "id": "BCczxqEGjWDf",
        "colab_type": "code",
        "colab": {}
      },
      "source": [
        "def extract_np(parsed_tree):\n",
        "    nps = []\n",
        "    for subtree in parsed_tree.subtrees():\n",
        "        if subtree.label() == 'NP':\n",
        "            t = subtree\n",
        "            t = \" \".join(word for word, tag in t.leaves())\n",
        "            nps.append(t)\n",
        "    return nps"
      ],
      "execution_count": 0,
      "outputs": []
    },
    {
      "cell_type": "code",
      "metadata": {
        "id": "MYEp5fW3jcLQ",
        "colab_type": "code",
        "colab": {}
      },
      "source": [
        "nps = []\n",
        "for parse_tree in parse_trees:\n",
        "    nps.append(extract_np(parse_tree))"
      ],
      "execution_count": 0,
      "outputs": []
    },
    {
      "cell_type": "code",
      "metadata": {
        "id": "Y_iibo7Jjenb",
        "colab_type": "code",
        "outputId": "fc95ff15-8f29-4653-bfea-76eec7c1394c",
        "colab": {
          "base_uri": "https://localhost:8080/",
          "height": 1000
        }
      },
      "source": [
        "nps"
      ],
      "execution_count": 292,
      "outputs": [
        {
          "output_type": "execute_result",
          "data": {
            "text/plain": [
              "[['lot', 'people', 'hospital'],\n",
              " ['Greetings care patients', 'service'],\n",
              " ['Talk relax'],\n",
              " ['doctors', 'people', 'someone'],\n",
              " ['rooms', 'price'],\n",
              " [],\n",
              " ['reception', 'service', 'system'],\n",
              " ['nurse', 'doctor', 'facilities', 'hospital'],\n",
              " ['Doctors', 'hospital', 'thing', 'service'],\n",
              " ['service'],\n",
              " ['doctor', 'patient feels', 'thank'],\n",
              " ['lot', 'people', 'hospital'],\n",
              " ['Greetings care patients', 'service'],\n",
              " ['Talk relax'],\n",
              " ['doctors', 'people', 'someone'],\n",
              " ['rooms', 'price', 'midwife', 'nursing care'],\n",
              " ['price', 'treatment', 'bit'],\n",
              " [],\n",
              " [],\n",
              " ['Hospital doctors', 'care hospital parking lot', 'buildings', 'prices'],\n",
              " ['service', 'return service'],\n",
              " ['queues', 'mall adjacent', 'hospital'],\n",
              " ['time', 'test results', 'something', 'results'],\n",
              " ['eloquence', 'treatment', 'childhood'],\n",
              " ['hospital'],\n",
              " ['doctor', 'symptoms', 'leg pain', 'doctor', 'medication', 'line'],\n",
              " ['hospital', 'family service'],\n",
              " ['price', 'home care', 'ease', 'travel'],\n",
              " ['rain', 'emergency room', 'health insurance claim hospital care'],\n",
              " ['Relatives', 'friends'],\n",
              " ['Patients', 'years', 'doctor', 'bone pain'],\n",
              " ['before'],\n",
              " ['doctor', 'anything'],\n",
              " [],\n",
              " ['something'],\n",
              " ['doctor'],\n",
              " ['cancer', 'answer', 'answer', 'patient'],\n",
              " ['complaint', 'hospital'],\n",
              " ['doctor', 'doctor'],\n",
              " ['conclusion', 'medications', 'analgesics'],\n",
              " ['pharmacist'],\n",
              " [],\n",
              " ['rheumatoid'],\n",
              " ['kind', 'caring'],\n",
              " ['disease'],\n",
              " ['eye capillaries', 'eye'],\n",
              " ['eyes', 'doctor', 'appointment', 'doctor', 'eyes'],\n",
              " [],\n",
              " ['rheumatoid'],\n",
              " ['eye', 'doctor'],\n",
              " ['Shows', 'patients'],\n",
              " ['weather'],\n",
              " ['leg', 'blotches'],\n",
              " ['winter'],\n",
              " [],\n",
              " ['attention', 'disease'],\n",
              " ['talk', 'work'],\n",
              " ['service', 'care'],\n",
              " ['Yesterday', 'doctor', 'hospital'],\n",
              " ['service', 'impression'],\n",
              " ['birth', 'hospital', 'แlai'],\n",
              " ['Nurses feel', 'service'],\n",
              " ['day', 'hospital'],\n",
              " ['doctor', 'kind ฝaktgag'],\n",
              " ['Talk', 'patient'],\n",
              " ['doctor', 'doctor', 'story'],\n",
              " ['Today', 'people', 'children'],\n",
              " ['counseling', 'information', 'disease'],\n",
              " ['diagnosis', 'years'],\n",
              " ['staff', 'wifi'],\n",
              " ['stomach twin gestation',\n",
              "  'diarrhea',\n",
              "  'pm',\n",
              "  'doctor',\n",
              "  'hospital',\n",
              "  'someone',\n",
              "  'wheelchair'],\n",
              " ['Accelerators', 'convenient', 'bathroom'],\n",
              " ['d.'],\n",
              " ['brine', 'night', 'doctor', 'specialist doctors', 'obstetricians'],\n",
              " ['disease', 'colon care'],\n",
              " ['drawback'],\n",
              " [],\n",
              " ['Exceptions', 'bed'],\n",
              " ['journey'],\n",
              " ['port'],\n",
              " ['maternity ward', 'cycles'],\n",
              " ['man', 'examination'],\n",
              " ['doctors', 'check'],\n",
              " ['teller', 'eggs', 'eggs', 'egg', 'children'],\n",
              " ['wall'],\n",
              " [],\n",
              " ['baht', 'temperature', 'ultrasound'],\n",
              " ['thank'],\n",
              " ['disease recurrence', 'doctor', 'hospital bed'],\n",
              " ['doctors'],\n",
              " ['home', 'interests', 'patients'],\n",
              " ['staff'],\n",
              " ['expert',\n",
              "  'front',\n",
              "  'experience',\n",
              "  'doctors',\n",
              "  'nurses',\n",
              "  'questions',\n",
              "  'medicine department'],\n",
              " ['Doctors', 'department', 'material'],\n",
              " ['load'],\n",
              " ['treatment', 'patients', 'post hospital services', 'team', 'specialists'],\n",
              " [],\n",
              " ['parachute', 'travel nurses', 'doctors', 'care', 'guidance'],\n",
              " ['Reduces symptoms', 'doctors', 'obstetricians', 'lot'],\n",
              " ['doctors'],\n",
              " ['children', 'doctors', 'diseases', 'accuracy'],\n",
              " ['answer'],\n",
              " ['virus rsv', 'room'],\n",
              " ['hospital', 'solution', 'waiting room'],\n",
              " ['time', 'room'],\n",
              " ['Nursing', 'care', 'attention', 'patients', 'spite', 'children', 'ward'],\n",
              " ['patients', 'countenance'],\n",
              " [],\n",
              " ['estate', 'kind', 'pregnancy'],\n",
              " ['Every time', 'problem', 'pregnancy'],\n",
              " ['doctor', 'advice'],\n",
              " ['stitches'],\n",
              " ['bed', 'water'],\n",
              " ['patient care', 'doctor'],\n",
              " ['examination', 'year'],\n",
              " ['service'],\n",
              " ['room'],\n",
              " ['counter',\n",
              "  'people',\n",
              "  'doctor',\n",
              "  'examination room',\n",
              "  'treatment',\n",
              "  'doctor',\n",
              "  'appointment'],\n",
              " ['service', 'prices'],\n",
              " ['surgery', 'hand', 'pressure'],\n",
              " ['Replacement nurses', 'start'],\n",
              " ['Went', 'nurses'],\n",
              " ['patients', 'jacket', 'radiation'],\n",
              " ['hospitals', 'government hospital'],\n",
              " ['thanks', 'caring mother', 'mother', 'night', 'symptoms'],\n",
              " ['catch', 'cheeks', 'feel', 'grandchildren'],\n",
              " ['Doctors'],\n",
              " ['Doctor',\n",
              "  'nurse',\n",
              "  'kind',\n",
              "  'look',\n",
              "  'surgery',\n",
              "  'safety',\n",
              "  'feel',\n",
              "  'recommendations'],\n",
              " ['care'],\n",
              " ['Accommodation',\n",
              "  'restaurants',\n",
              "  'hospitals',\n",
              "  'outpatient care',\n",
              "  'mother',\n",
              "  'time',\n",
              "  'heart'],\n",
              " ['management system', 'lot', 'unit'],\n",
              " ['parking', 'seniors', 'people', 'car sharing', 'distance'],\n",
              " ['security guards'],\n",
              " [],\n",
              " ['standard', 'world', 'manners', 'statement', 'impression'],\n",
              " ['rest', 'service'],\n",
              " ['hospital'],\n",
              " ['service', 'hospitals', 'service'],\n",
              " ['man', 'office', 'lot'],\n",
              " ['cleanliness'],\n",
              " ['smell drugs', 'book', 'staff', 'fast'],\n",
              " [],\n",
              " ['examination', 'information'],\n",
              " ['staff', 'door', 'dissection room'],\n",
              " ['People'],\n",
              " [],\n",
              " ['holiday', \"o'clock\", 'morning', 'layers'],\n",
              " [],\n",
              " ['department',\n",
              "  'records',\n",
              "  'coordinator sensitivity',\n",
              "  'patient cards',\n",
              "  'health insurance cards',\n",
              "  'minutes',\n",
              "  'front'],\n",
              " [],\n",
              " ['services', 'nurses', 'smile'],\n",
              " ['expertise', 'doctors', 'doctors', 'teachers', 'proficient'],\n",
              " ['deduction', 'respect', 'issue', 'examination'],\n",
              " ['doctors', 'time', 'patients'],\n",
              " ['battery', 'backup batteries'],\n",
              " ['nurse', 'power', 'department'],\n",
              " ['money'],\n",
              " ['care'],\n",
              " ['lack', 'attention', 'treatment'],\n",
              " ['mom', 'heart disease'],\n",
              " ['Doctors', 'care', 'room'],\n",
              " ['sleepers'],\n",
              " ['floor cute'],\n",
              " ['claim', 'insurance'],\n",
              " ['doctors', 'thanks', 'treatment', 'scalp'],\n",
              " [],\n",
              " ['motorcycle accident'],\n",
              " ['wound'],\n",
              " ['wound'],\n",
              " ['drug odor'],\n",
              " ['Measurements', 'odor'],\n",
              " ['lymph flow outward'],\n",
              " ['wound'],\n",
              " ['drug', 'smell'],\n",
              " ['wound', 'drugs'],\n",
              " ['service'],\n",
              " ['nurse', 'doctor', 'pm'],\n",
              " ['time'],\n",
              " ['doctor'],\n",
              " ['time'],\n",
              " [],\n",
              " ['dresser'],\n",
              " ['hospital patients', 'doctor', 'tomorrow'],\n",
              " ['Nurses', 'right'],\n",
              " ['Hospital', 'coordination'],\n",
              " ['Patients', 'fro'],\n",
              " ['appointment'],\n",
              " ['physician', 'nurse', 'doctor', 'appointment', 'way'],\n",
              " ['standard'],\n",
              " [],\n",
              " ['years'],\n",
              " ['hospital', 'distance'],\n",
              " ['payments', 'drugs', 'pharmacy bag', 'people', 'payment'],\n",
              " ['names', 'information', 'patients strap'],\n",
              " ['attention', 'waste'],\n",
              " ['doctor', 'service', 'eloquence'],\n",
              " ['Management system', 'staff', 'doctor'],\n",
              " ['hospital'],\n",
              " ['house', 'doctor'],\n",
              " ['hospital', 'hospital'],\n",
              " ['department'],\n",
              " ['departments', 'areas'],\n",
              " ['hospital', 'price', 'service good'],\n",
              " ['care patient', 'polite', 'room', 'number', 'patients'],\n",
              " ['hospitals', 'doctors'],\n",
              " ['need', 'end', 'dengue'],\n",
              " ['hospital',\n",
              "  'days',\n",
              "  'doctors',\n",
              "  'everything',\n",
              "  'insurance departments',\n",
              "  'hassle'],\n",
              " ['disadvantage', 'hospital'],\n",
              " ['Nurses', 'midday'],\n",
              " ['cause', 'temperature', 'doctor', 'time', 'downside', 'hospital'],\n",
              " ['cafeteria food', 'store'],\n",
              " ['area'],\n",
              " ['food', 'lot'],\n",
              " ['variety', 'food', 'people', 'doctor', 'patient', 'food'],\n",
              " ['hospital stay'],\n",
              " ['restaurant', 'starbucks', 'choice', 'consumer'],\n",
              " ['rooms', 'day', 'swab'],\n",
              " ['people', 'cleanliness'],\n",
              " ['water'],\n",
              " ['flow', 'water', 'people', 'winter'],\n",
              " ['room', 'patient registration service'],\n",
              " ['none', 'look', 'series', 'nothing'],\n",
              " ['rooms', 'something', 'light', 'total', 'points', 'nursing'],\n",
              " ['sound', 'equipment carts'],\n",
              " ['food'],\n",
              " ['speed', 'cleanliness', 'people'],\n",
              " ['poisoning', 'diarrhea', 'penniless', 'doctor'],\n",
              " ['doctor'],\n",
              " ['night', 'brine'],\n",
              " ['bother', 'signs'],\n",
              " ['need'],\n",
              " ['drug', 'change'],\n",
              " ['hour'],\n",
              " ['doctor', 'room', 'time', 'eh'],\n",
              " [],\n",
              " ['cost', 'drug charges', 'thousand rooms'],\n",
              " ['day', 'doctor', 'minutes', 'handset', 'lungs'],\n",
              " ['home', 'medicine', 'doctor'],\n",
              " ['order', 'drugs', 'congestion', 'doctor', 'drugs', 'something'],\n",
              " ['medicine'],\n",
              " ['doctor', 'stuffy nose'],\n",
              " ['state hospital', 'doctor', 'medicine'],\n",
              " ['signs', 'time', 'treatment'],\n",
              " ['People', 'floor', 'doctor', 'service'],\n",
              " ['time', 'spite', 'appearances'],\n",
              " ['professor doctor'],\n",
              " ['Patients', 'attention'],\n",
              " ['stomach', 'patients'],\n",
              " ['remedy', 'patient care', 'symptoms'],\n",
              " ['card', 'nurse', 'desk', 'everyone'],\n",
              " ['Today', 'throat', 'doctor', 'medicine'],\n",
              " ['service', 'patient'],\n",
              " ['pet', 'bed'],\n",
              " ['time', 'kg'],\n",
              " ['morning'],\n",
              " ['time', 'maintenance service', 'nurses'],\n",
              " ['costs', 'prizes', 'charge'],\n",
              " [],\n",
              " ['Doctors', 'nurses', 'care'],\n",
              " ['patient care services'],\n",
              " ['ward boy', 'admit', 'thermometer', 'time', 'smiling'],\n",
              " ['wait', 'rooms', 'doctor', 'hospital system'],\n",
              " ['Delays', 'prices', 'service'],\n",
              " ['hospital'],\n",
              " ['service', 'staff', 'service'],\n",
              " ['care'],\n",
              " ['eye contact'],\n",
              " ['patients', 'treatment step', 'simple'],\n",
              " ['doctor', 'battle'],\n",
              " ['Doctor', 'mother', 'family'],\n",
              " ['care'],\n",
              " ['son', 'doctor', 'grade fever', 'rash', 'body', 'outdoor', 'patient'],\n",
              " ['pressure', 'children', 'stage'],\n",
              " [],\n",
              " ['look', 'sink transparent viscose'],\n",
              " ['informative'],\n",
              " ['birth', 'people', 'service', 'doctors', 'nurses', 'patients', 'things'],\n",
              " ['attention', 'ease', 'chat'],\n",
              " ['patients'],\n",
              " ['hospital'],\n",
              " ['tools', 'medicine'],\n",
              " ['trust', 'treatment'],\n",
              " ['clinics treat', 'consult', 'department'],\n",
              " [],\n",
              " ['intention'],\n",
              " ['intention'],\n",
              " ['patient', 'life'],\n",
              " ['surgery'],\n",
              " ['spine', 'people', 'symptoms', 'blood vessels'],\n",
              " ['leg pain', 'bone nerve'],\n",
              " [],\n",
              " ['days', 'doctors', 'patient'],\n",
              " ['Hospital'],\n",
              " [],\n",
              " ['prosperity'],\n",
              " ['nurse', 'front', 'ward'],\n",
              " ['angel', 'food', 'airy environment', 'hospital', 'feeling'],\n",
              " ['nurses', 'class child care', 'children', 'eloquence child care', 'doctor'],\n",
              " ['pain', 'ankle', 'crash landing'],\n",
              " ['car', 'service staff'],\n",
              " ['nurse', 'question', 'symptoms'],\n",
              " ['Check records'],\n",
              " ['diagnosis'],\n",
              " ['service'],\n",
              " [],\n",
              " ['life', 'doctors', 'teachers', 'hospital'],\n",
              " ['doctor'],\n",
              " ['health', 'benign'],\n",
              " [],\n",
              " ['food', 'staff'],\n",
              " ['treat'],\n",
              " [],\n",
              " ['disease', 'flu', 'doctor', 'hospital channel'],\n",
              " ['nursing care', 'inquiry'],\n",
              " ['Doctors', 'prevention', 'treatment']]"
            ]
          },
          "metadata": {
            "tags": []
          },
          "execution_count": 292
        }
      ]
    },
    {
      "cell_type": "markdown",
      "metadata": {
        "id": "v61sVzLojiro",
        "colab_type": "text"
      },
      "source": [
        "**Put information into DataFrame**"
      ]
    },
    {
      "cell_type": "code",
      "metadata": {
        "id": "bq5vTLutjgFq",
        "colab_type": "code",
        "colab": {}
      },
      "source": [
        "df = pd.DataFrame({\"cids\": cids, \n",
        "                   \"sentences\": sentences, \n",
        "                   \"sentiments\": sentiments, \n",
        "                   \"NP\": nps})"
      ],
      "execution_count": 0,
      "outputs": []
    },
    {
      "cell_type": "code",
      "metadata": {
        "id": "2ayIc1ZSj1gh",
        "colab_type": "code",
        "outputId": "37efbfc8-b961-4479-aa43-387c01bb17c5",
        "colab": {
          "base_uri": "https://localhost:8080/",
          "height": 359
        }
      },
      "source": [
        "df.head(10)"
      ],
      "execution_count": 294,
      "outputs": [
        {
          "output_type": "execute_result",
          "data": {
            "text/html": [
              "<div>\n",
              "<style scoped>\n",
              "    .dataframe tbody tr th:only-of-type {\n",
              "        vertical-align: middle;\n",
              "    }\n",
              "\n",
              "    .dataframe tbody tr th {\n",
              "        vertical-align: top;\n",
              "    }\n",
              "\n",
              "    .dataframe thead th {\n",
              "        text-align: right;\n",
              "    }\n",
              "</style>\n",
              "<table border=\"1\" class=\"dataframe\">\n",
              "  <thead>\n",
              "    <tr style=\"text-align: right;\">\n",
              "      <th></th>\n",
              "      <th>cids</th>\n",
              "      <th>sentences</th>\n",
              "      <th>sentiments</th>\n",
              "      <th>NP</th>\n",
              "    </tr>\n",
              "  </thead>\n",
              "  <tbody>\n",
              "    <tr>\n",
              "      <th>0</th>\n",
              "      <td>0</td>\n",
              "      <td>What is really like a lot of people in this ho...</td>\n",
              "      <td>positive</td>\n",
              "      <td>[lot, people, hospital]</td>\n",
              "    </tr>\n",
              "    <tr>\n",
              "      <th>1</th>\n",
              "      <td>0</td>\n",
              "      <td>Most smiling Greetings care patients and those...</td>\n",
              "      <td>positive</td>\n",
              "      <td>[Greetings care patients, service]</td>\n",
              "    </tr>\n",
              "    <tr>\n",
              "      <th>2</th>\n",
              "      <td>0</td>\n",
              "      <td>Talk relax at all.</td>\n",
              "      <td>positive</td>\n",
              "      <td>[Talk relax]</td>\n",
              "    </tr>\n",
              "    <tr>\n",
              "      <th>3</th>\n",
              "      <td>0</td>\n",
              "      <td>Most of the doctors I had the good-hearted peo...</td>\n",
              "      <td>neutral</td>\n",
              "      <td>[doctors, people, someone]</td>\n",
              "    </tr>\n",
              "    <tr>\n",
              "      <th>4</th>\n",
              "      <td>0</td>\n",
              "      <td>The Department of Medicine Private rooms are O...</td>\n",
              "      <td>positive</td>\n",
              "      <td>[rooms, price]</td>\n",
              "    </tr>\n",
              "    <tr>\n",
              "      <th>5</th>\n",
              "      <td>1</td>\n",
              "      <td>Riga has to use here.</td>\n",
              "      <td>neutral</td>\n",
              "      <td>[]</td>\n",
              "    </tr>\n",
              "    <tr>\n",
              "      <th>6</th>\n",
              "      <td>1</td>\n",
              "      <td>Clean and good reception The service was with ...</td>\n",
              "      <td>positive</td>\n",
              "      <td>[reception, service, system]</td>\n",
              "    </tr>\n",
              "    <tr>\n",
              "      <th>7</th>\n",
              "      <td>1</td>\n",
              "      <td>A nurse and doctor There are facilities within...</td>\n",
              "      <td>neutral</td>\n",
              "      <td>[nurse, doctor, facilities, hospital]</td>\n",
              "    </tr>\n",
              "    <tr>\n",
              "      <th>8</th>\n",
              "      <td>1</td>\n",
              "      <td>Doctors are competent The hospital is a good t...</td>\n",
              "      <td>positive</td>\n",
              "      <td>[Doctors, hospital, thing, service]</td>\n",
              "    </tr>\n",
              "    <tr>\n",
              "      <th>9</th>\n",
              "      <td>1</td>\n",
              "      <td>I would recommend to use the service if they a...</td>\n",
              "      <td>negative</td>\n",
              "      <td>[service]</td>\n",
              "    </tr>\n",
              "  </tbody>\n",
              "</table>\n",
              "</div>"
            ],
            "text/plain": [
              "   cids  ...                                     NP\n",
              "0     0  ...                [lot, people, hospital]\n",
              "1     0  ...     [Greetings care patients, service]\n",
              "2     0  ...                           [Talk relax]\n",
              "3     0  ...             [doctors, people, someone]\n",
              "4     0  ...                         [rooms, price]\n",
              "5     1  ...                                     []\n",
              "6     1  ...           [reception, service, system]\n",
              "7     1  ...  [nurse, doctor, facilities, hospital]\n",
              "8     1  ...    [Doctors, hospital, thing, service]\n",
              "9     1  ...                              [service]\n",
              "\n",
              "[10 rows x 4 columns]"
            ]
          },
          "metadata": {
            "tags": []
          },
          "execution_count": 294
        }
      ]
    },
    {
      "cell_type": "code",
      "metadata": {
        "id": "5IirLAzZj26d",
        "colab_type": "code",
        "colab": {}
      },
      "source": [
        "df['sentences'] = df['sentences'].str.replace(\"[^a-zA-Z#]\", \" \")"
      ],
      "execution_count": 0,
      "outputs": []
    },
    {
      "cell_type": "code",
      "metadata": {
        "id": "OK-USNzqj6D2",
        "colab_type": "code",
        "colab": {}
      },
      "source": [
        "df['sentiments'] = df['sentiments'].str.replace(\"[^a-zA-Z#]\", \" \")"
      ],
      "execution_count": 0,
      "outputs": []
    },
    {
      "cell_type": "markdown",
      "metadata": {
        "id": "ZoxJRBB2j-qk",
        "colab_type": "text"
      },
      "source": [
        "Split dataframe into positive and negative sentiment"
      ]
    },
    {
      "cell_type": "code",
      "metadata": {
        "id": "vOMuTnfcj6lB",
        "colab_type": "code",
        "colab": {}
      },
      "source": [
        "pos = df[df[\"sentiments\"] == \"positive\"].reset_index(drop=True)\n",
        "pos_words = sum(pos[\"NP\"].tolist(), [])\n",
        "pos_words = [word.lower() for word in pos_words]\n",
        "poshist = pd.DataFrame({\"words\": pos_words})\n",
        "poshist = poshist.groupby(\"words\").size().reset_index(name=\"#pos\")"
      ],
      "execution_count": 0,
      "outputs": []
    },
    {
      "cell_type": "code",
      "metadata": {
        "id": "dx3gHvVqj6um",
        "colab_type": "code",
        "colab": {}
      },
      "source": [
        "neg = df[df[\"sentiments\"] == \"negative\"].reset_index(drop=True)\n",
        "neg_words = sum(neg[\"NP\"].tolist(), [])\n",
        "neg_words = [word.lower() for word in neg_words]\n",
        "neghist = pd.DataFrame({\"words\": neg_words})\n",
        "neghist = neghist.groupby(\"words\").size().reset_index(name=\"#neg\")"
      ],
      "execution_count": 0,
      "outputs": []
    },
    {
      "cell_type": "markdown",
      "metadata": {
        "id": "mK5gmJDhlAEx",
        "colab_type": "text"
      },
      "source": [
        "**Word Cloud Representation**"
      ]
    },
    {
      "cell_type": "code",
      "metadata": {
        "id": "2Tax0Smmj6zU",
        "colab_type": "code",
        "colab": {}
      },
      "source": [
        "from wordcloud import WordCloud\n",
        "import matplotlib.pyplot as plt"
      ],
      "execution_count": 0,
      "outputs": []
    },
    {
      "cell_type": "code",
      "metadata": {
        "id": "XKXDoOBdj65M",
        "colab_type": "code",
        "colab": {}
      },
      "source": [
        "def vizwordcloud(df):\n",
        "    tuples = [tuple(x) for x in df.values]\n",
        "    wordcloud = WordCloud().generate_from_frequencies(dict(tuples))\n",
        "    plt.figure()\n",
        "    plt.imshow(wordcloud, interpolation=\"bilinear\")\n",
        "    plt.axis(\"off\")\n",
        "    plt.show()"
      ],
      "execution_count": 0,
      "outputs": []
    },
    {
      "cell_type": "code",
      "metadata": {
        "id": "87BnvoVvj6-A",
        "colab_type": "code",
        "outputId": "bbbc47b4-3c55-4a48-ed89-c6bb1dff0e7a",
        "colab": {
          "base_uri": "https://localhost:8080/",
          "height": 198
        }
      },
      "source": [
        "vizwordcloud(poshist)"
      ],
      "execution_count": 301,
      "outputs": [
        {
          "output_type": "display_data",
          "data": {
            "image/png": "[encoded data removed]",
            "text/plain": [
              "<Figure size 432x288 with 1 Axes>"
            ]
          },
          "metadata": {
            "tags": [],
            "needs_background": "light"
          }
        }
      ]
    },
    {
      "cell_type": "code",
      "metadata": {
        "id": "IpiKxrk3j7Da",
        "colab_type": "code",
        "outputId": "3cf7cef2-4dcc-4334-8268-aceab414cf1b",
        "colab": {
          "base_uri": "https://localhost:8080/",
          "height": 198
        }
      },
      "source": [
        "vizwordcloud(neghist)"
      ],
      "execution_count": 302,
      "outputs": [
        {
          "output_type": "display_data",
          "data": {
            "image/png": "[encoded data removed]",
            "text/plain": [
              "<Figure size 432x288 with 1 Axes>"
            ]
          },
          "metadata": {
            "tags": [],
            "needs_background": "light"
          }
        }
      ]
    },
    {
      "cell_type": "markdown",
      "metadata": {
        "id": "35w1qdrzlK6B",
        "colab_type": "text"
      },
      "source": [
        "We saw 2 problems: 1) Singular and plural words were not combined and 2) words that should not be appeared in the wordcloud such as patients because of the co-reference resolution problem.\n",
        "\n",
        "Let's transfrom selected words to their singular form because at this stage the number of words is not much already then add categories to filter out."
      ]
    },
    {
      "cell_type": "code",
      "metadata": {
        "id": "7PtXvlwuj68b",
        "colab_type": "code",
        "colab": {}
      },
      "source": [
        "def plural2singular(word):\n",
        "  if word == \"doctors\":\n",
        "    return \"doctor\"\n",
        "  elif word == \"nurses\":\n",
        "    return \"nurse\"\n",
        "  elif word == \"clinics\":\n",
        "    return \"clinic\"\n",
        "  elif word == \"hospitals\":\n",
        "    return \"hospital\"\n",
        "  elif word == \"services\":\n",
        "    return \"service\"\n",
        "  elif word == \"staffs\":\n",
        "    return \"staff\"\n",
        "  elif word == \"treatments\":\n",
        "    return \"treatment\"\n",
        "  elif word == \"students\":\n",
        "    return \"student\"\n",
        "  else:\n",
        "    return word"
      ],
      "execution_count": 0,
      "outputs": []
    },
    {
      "cell_type": "code",
      "metadata": {
        "id": "LaPiiBEgj6xr",
        "colab_type": "code",
        "colab": {}
      },
      "source": [
        "pos_words = [plural2singular(word) for word in pos_words]\n",
        "poshist = pd.DataFrame({\"words\": pos_words})\n",
        "poshist = poshist.groupby(\"words\").size().reset_index(name=\"#pos\")\n",
        "\n",
        "neg_words = [plural2singular(word) for word in neg_words]\n",
        "neghist = pd.DataFrame({\"words\": neg_words})\n",
        "neghist = neghist.groupby(\"words\").size().reset_index(name=\"#neg\")"
      ],
      "execution_count": 0,
      "outputs": []
    },
    {
      "cell_type": "code",
      "metadata": {
        "id": "2EV1sdoSj6sT",
        "colab_type": "code",
        "outputId": "fbf007b9-7237-4770-ce78-00ae878a5a56",
        "colab": {
          "base_uri": "https://localhost:8080/",
          "height": 198
        }
      },
      "source": [
        "vizwordcloud(poshist)"
      ],
      "execution_count": 305,
      "outputs": [
        {
          "output_type": "display_data",
          "data": {
            "image/png": "[encoded data removed]",
            "text/plain": [
              "<Figure size 432x288 with 1 Axes>"
            ]
          },
          "metadata": {
            "tags": [],
            "needs_background": "light"
          }
        }
      ]
    },
    {
      "cell_type": "code",
      "metadata": {
        "id": "ba5-63Dbj6q0",
        "colab_type": "code",
        "outputId": "ddc65733-93ee-4287-ab70-8cb9f842ae12",
        "colab": {
          "base_uri": "https://localhost:8080/",
          "height": 198
        }
      },
      "source": [
        "vizwordcloud(neghist)"
      ],
      "execution_count": 306,
      "outputs": [
        {
          "output_type": "display_data",
          "data": {
            "image/png": "[encoded data removed]",
            "text/plain": [
              "<Figure size 432x288 with 1 Axes>"
            ]
          },
          "metadata": {
            "tags": [],
            "needs_background": "light"
          }
        }
      ]
    },
    {
      "cell_type": "code",
      "metadata": {
        "id": "dzRyADvdj6pB",
        "colab_type": "code",
        "colab": {}
      },
      "source": [
        "def groups(word):\n",
        "    if word in (\"doctor\", \"nurse\", \"student\"):\n",
        "        return \"staff\"\n",
        "    elif word in (\"hospital\", \"clinic\", \"equipment\", \"place\"):\n",
        "        return \"infrastructure\"\n",
        "    elif word in (\"service\", \"care\", \"treatment\", \"surgery\", \"disease\", \"medical care\"):\n",
        "        return \"service\"\n",
        "    elif word in (\"queue\", \"appointment\"):\n",
        "        return \"process\"\n",
        "    elif word in (\"price\", \"claim\"):\n",
        "        return \"finance\"\n",
        "    else:\n",
        "        return \"others\""
      ],
      "execution_count": 0,
      "outputs": []
    },
    {
      "cell_type": "code",
      "metadata": {
        "id": "KugJKZY6lXV4",
        "colab_type": "code",
        "colab": {}
      },
      "source": [
        "poshist[\"category\"] = poshist[\"words\"].apply(lambda x: groups(x))\n",
        "poscount = poshist.groupby(\"category\").size().reset_index(name=\"#\")\n",
        "poscount = poscount[poscount[\"category\"] != \"others\"].reset_index(drop=True)"
      ],
      "execution_count": 0,
      "outputs": []
    },
    {
      "cell_type": "code",
      "metadata": {
        "id": "eIe0De54lbyg",
        "colab_type": "code",
        "colab": {}
      },
      "source": [
        "neghist[\"category\"] = neghist[\"words\"].apply(lambda x: groups(x))\n",
        "negcount = neghist.groupby(\"category\").size().reset_index(name=\"#\")\n",
        "negcount = negcount[negcount[\"category\"] != \"others\"].reset_index(drop=True)"
      ],
      "execution_count": 0,
      "outputs": []
    },
    {
      "cell_type": "markdown",
      "metadata": {
        "id": "bErJdGqHmHlw",
        "colab_type": "text"
      },
      "source": [
        "**Plot Radar Chart**"
      ]
    },
    {
      "cell_type": "code",
      "metadata": {
        "id": "mixYCCCamF3m",
        "colab_type": "code",
        "outputId": "409d7ed4-bf1d-4939-cc3f-fb0b066424e9",
        "colab": {
          "base_uri": "https://localhost:8080/",
          "height": 173
        }
      },
      "source": [
        "poscount"
      ],
      "execution_count": 310,
      "outputs": [
        {
          "output_type": "execute_result",
          "data": {
            "text/html": [
              "<div>\n",
              "<style scoped>\n",
              "    .dataframe tbody tr th:only-of-type {\n",
              "        vertical-align: middle;\n",
              "    }\n",
              "\n",
              "    .dataframe tbody tr th {\n",
              "        vertical-align: top;\n",
              "    }\n",
              "\n",
              "    .dataframe thead th {\n",
              "        text-align: right;\n",
              "    }\n",
              "</style>\n",
              "<table border=\"1\" class=\"dataframe\">\n",
              "  <thead>\n",
              "    <tr style=\"text-align: right;\">\n",
              "      <th></th>\n",
              "      <th>category</th>\n",
              "      <th>#</th>\n",
              "    </tr>\n",
              "  </thead>\n",
              "  <tbody>\n",
              "    <tr>\n",
              "      <th>0</th>\n",
              "      <td>finance</td>\n",
              "      <td>2</td>\n",
              "    </tr>\n",
              "    <tr>\n",
              "      <th>1</th>\n",
              "      <td>infrastructure</td>\n",
              "      <td>1</td>\n",
              "    </tr>\n",
              "    <tr>\n",
              "      <th>2</th>\n",
              "      <td>service</td>\n",
              "      <td>5</td>\n",
              "    </tr>\n",
              "    <tr>\n",
              "      <th>3</th>\n",
              "      <td>staff</td>\n",
              "      <td>2</td>\n",
              "    </tr>\n",
              "  </tbody>\n",
              "</table>\n",
              "</div>"
            ],
            "text/plain": [
              "         category  #\n",
              "0         finance  2\n",
              "1  infrastructure  1\n",
              "2         service  5\n",
              "3           staff  2"
            ]
          },
          "metadata": {
            "tags": []
          },
          "execution_count": 310
        }
      ]
    },
    {
      "cell_type": "code",
      "metadata": {
        "id": "EucKNvPXmOZU",
        "colab_type": "code",
        "outputId": "9955b575-efc6-4671-8453-134a7b92ec2d",
        "colab": {
          "base_uri": "https://localhost:8080/",
          "height": 142
        }
      },
      "source": [
        "negcount"
      ],
      "execution_count": 311,
      "outputs": [
        {
          "output_type": "execute_result",
          "data": {
            "text/html": [
              "<div>\n",
              "<style scoped>\n",
              "    .dataframe tbody tr th:only-of-type {\n",
              "        vertical-align: middle;\n",
              "    }\n",
              "\n",
              "    .dataframe tbody tr th {\n",
              "        vertical-align: top;\n",
              "    }\n",
              "\n",
              "    .dataframe thead th {\n",
              "        text-align: right;\n",
              "    }\n",
              "</style>\n",
              "<table border=\"1\" class=\"dataframe\">\n",
              "  <thead>\n",
              "    <tr style=\"text-align: right;\">\n",
              "      <th></th>\n",
              "      <th>category</th>\n",
              "      <th>#</th>\n",
              "    </tr>\n",
              "  </thead>\n",
              "  <tbody>\n",
              "    <tr>\n",
              "      <th>0</th>\n",
              "      <td>infrastructure</td>\n",
              "      <td>1</td>\n",
              "    </tr>\n",
              "    <tr>\n",
              "      <th>1</th>\n",
              "      <td>service</td>\n",
              "      <td>5</td>\n",
              "    </tr>\n",
              "    <tr>\n",
              "      <th>2</th>\n",
              "      <td>staff</td>\n",
              "      <td>1</td>\n",
              "    </tr>\n",
              "  </tbody>\n",
              "</table>\n",
              "</div>"
            ],
            "text/plain": [
              "         category  #\n",
              "0  infrastructure  1\n",
              "1         service  5\n",
              "2           staff  1"
            ]
          },
          "metadata": {
            "tags": []
          },
          "execution_count": 311
        }
      ]
    },
    {
      "cell_type": "code",
      "metadata": {
        "id": "k_KZPKGHmQNQ",
        "colab_type": "code",
        "colab": {}
      },
      "source": [
        "import plotly.express as px\n",
        "from plotly.offline import download_plotlyjs, init_notebook_mode,  plot"
      ],
      "execution_count": 0,
      "outputs": []
    },
    {
      "cell_type": "code",
      "metadata": {
        "id": "hKBPRaFUmrSI",
        "colab_type": "code",
        "outputId": "7377570b-2d93-4821-cef9-77b824c32783",
        "colab": {
          "base_uri": "https://localhost:8080/",
          "height": 34
        }
      },
      "source": [
        "fig = px.line_polar(poscount, r=\"#\", theta=\"category\", line_close=True)\n",
        "plot(fig)"
      ],
      "execution_count": 313,
      "outputs": [
        {
          "output_type": "execute_result",
          "data": {
            "text/plain": [
              "'temp-plot.html'"
            ]
          },
          "metadata": {
            "tags": []
          },
          "execution_count": 313
        }
      ]
    },
    {
      "cell_type": "code",
      "metadata": {
        "id": "oRbc-Q4NmsvQ",
        "colab_type": "code",
        "outputId": "d359ec87-a4e8-4ab1-f4f4-bd855d1bd458",
        "colab": {
          "base_uri": "https://localhost:8080/",
          "height": 34
        }
      },
      "source": [
        "fig_2 = px.line_polar(negcount, r=\"#\", theta=\"category\", line_close=True)\n",
        "plot(fig_2)"
      ],
      "execution_count": 314,
      "outputs": [
        {
          "output_type": "execute_result",
          "data": {
            "text/plain": [
              "'temp-plot.html'"
            ]
          },
          "metadata": {
            "tags": []
          },
          "execution_count": 314
        }
      ]
    },
    {
      "cell_type": "markdown",
      "metadata": {
        "id": "eTV-o3Bbm0M5",
        "colab_type": "text"
      },
      "source": [
        "Extracting Features from cleaned comments"
      ]
    },
    {
      "cell_type": "code",
      "metadata": {
        "id": "uPqbKH0lmuFd",
        "colab_type": "code",
        "colab": {}
      },
      "source": [
        "from wordcloud import WordCloud,ImageColorGenerator\n",
        "from PIL import Image\n",
        "import urllib\n",
        "import requests"
      ],
      "execution_count": 0,
      "outputs": []
    },
    {
      "cell_type": "code",
      "metadata": {
        "id": "nlb9Dvb6m6hr",
        "colab_type": "code",
        "outputId": "d10a940e-4658-4ca8-eacf-ffe62a56b140",
        "colab": {
          "base_uri": "https://localhost:8080/",
          "height": 439
        }
      },
      "source": [
        "from sklearn.feature_extraction.text import CountVectorizer\n",
        "\n",
        "bow_vectorizer = CountVectorizer(max_df=0.90, min_df=2, max_features=1000, stop_words='english')\n",
        "\n",
        "# bag-of-words feature matrix\n",
        "bow = bow_vectorizer.fit_transform(df['sentences'])\n",
        "\n",
        "df_bow = pd.DataFrame(bow.todense())\n",
        "\n",
        "df_bow"
      ],
      "execution_count": 316,
      "outputs": [
        {
          "output_type": "execute_result",
          "data": {
            "text/html": [
              "<div>\n",
              "<style scoped>\n",
              "    .dataframe tbody tr th:only-of-type {\n",
              "        vertical-align: middle;\n",
              "    }\n",
              "\n",
              "    .dataframe tbody tr th {\n",
              "        vertical-align: top;\n",
              "    }\n",
              "\n",
              "    .dataframe thead th {\n",
              "        text-align: right;\n",
              "    }\n",
              "</style>\n",
              "<table border=\"1\" class=\"dataframe\">\n",
              "  <thead>\n",
              "    <tr style=\"text-align: right;\">\n",
              "      <th></th>\n",
              "      <th>0</th>\n",
              "      <th>1</th>\n",
              "      <th>2</th>\n",
              "      <th>3</th>\n",
              "      <th>4</th>\n",
              "      <th>5</th>\n",
              "      <th>6</th>\n",
              "      <th>7</th>\n",
              "      <th>8</th>\n",
              "      <th>9</th>\n",
              "      <th>10</th>\n",
              "      <th>11</th>\n",
              "      <th>12</th>\n",
              "      <th>13</th>\n",
              "      <th>14</th>\n",
              "      <th>15</th>\n",
              "      <th>16</th>\n",
              "      <th>17</th>\n",
              "      <th>18</th>\n",
              "      <th>19</th>\n",
              "      <th>20</th>\n",
              "      <th>21</th>\n",
              "      <th>22</th>\n",
              "      <th>23</th>\n",
              "      <th>24</th>\n",
              "      <th>25</th>\n",
              "      <th>26</th>\n",
              "      <th>27</th>\n",
              "      <th>28</th>\n",
              "      <th>29</th>\n",
              "      <th>30</th>\n",
              "      <th>31</th>\n",
              "      <th>32</th>\n",
              "      <th>33</th>\n",
              "      <th>34</th>\n",
              "      <th>35</th>\n",
              "      <th>36</th>\n",
              "      <th>37</th>\n",
              "      <th>38</th>\n",
              "      <th>39</th>\n",
              "      <th>...</th>\n",
              "      <th>197</th>\n",
              "      <th>198</th>\n",
              "      <th>199</th>\n",
              "      <th>200</th>\n",
              "      <th>201</th>\n",
              "      <th>202</th>\n",
              "      <th>203</th>\n",
              "      <th>204</th>\n",
              "      <th>205</th>\n",
              "      <th>206</th>\n",
              "      <th>207</th>\n",
              "      <th>208</th>\n",
              "      <th>209</th>\n",
              "      <th>210</th>\n",
              "      <th>211</th>\n",
              "      <th>212</th>\n",
              "      <th>213</th>\n",
              "      <th>214</th>\n",
              "      <th>215</th>\n",
              "      <th>216</th>\n",
              "      <th>217</th>\n",
              "      <th>218</th>\n",
              "      <th>219</th>\n",
              "      <th>220</th>\n",
              "      <th>221</th>\n",
              "      <th>222</th>\n",
              "      <th>223</th>\n",
              "      <th>224</th>\n",
              "      <th>225</th>\n",
              "      <th>226</th>\n",
              "      <th>227</th>\n",
              "      <th>228</th>\n",
              "      <th>229</th>\n",
              "      <th>230</th>\n",
              "      <th>231</th>\n",
              "      <th>232</th>\n",
              "      <th>233</th>\n",
              "      <th>234</th>\n",
              "      <th>235</th>\n",
              "      <th>236</th>\n",
              "    </tr>\n",
              "  </thead>\n",
              "  <tbody>\n",
              "    <tr>\n",
              "      <th>0</th>\n",
              "      <td>0</td>\n",
              "      <td>0</td>\n",
              "      <td>0</td>\n",
              "      <td>0</td>\n",
              "      <td>0</td>\n",
              "      <td>0</td>\n",
              "      <td>0</td>\n",
              "      <td>0</td>\n",
              "      <td>0</td>\n",
              "      <td>0</td>\n",
              "      <td>0</td>\n",
              "      <td>0</td>\n",
              "      <td>0</td>\n",
              "      <td>0</td>\n",
              "      <td>0</td>\n",
              "      <td>0</td>\n",
              "      <td>0</td>\n",
              "      <td>0</td>\n",
              "      <td>0</td>\n",
              "      <td>0</td>\n",
              "      <td>0</td>\n",
              "      <td>0</td>\n",
              "      <td>0</td>\n",
              "      <td>0</td>\n",
              "      <td>0</td>\n",
              "      <td>0</td>\n",
              "      <td>0</td>\n",
              "      <td>0</td>\n",
              "      <td>0</td>\n",
              "      <td>0</td>\n",
              "      <td>0</td>\n",
              "      <td>0</td>\n",
              "      <td>0</td>\n",
              "      <td>0</td>\n",
              "      <td>0</td>\n",
              "      <td>0</td>\n",
              "      <td>0</td>\n",
              "      <td>0</td>\n",
              "      <td>0</td>\n",
              "      <td>0</td>\n",
              "      <td>...</td>\n",
              "      <td>0</td>\n",
              "      <td>0</td>\n",
              "      <td>0</td>\n",
              "      <td>0</td>\n",
              "      <td>0</td>\n",
              "      <td>0</td>\n",
              "      <td>0</td>\n",
              "      <td>0</td>\n",
              "      <td>0</td>\n",
              "      <td>0</td>\n",
              "      <td>0</td>\n",
              "      <td>0</td>\n",
              "      <td>0</td>\n",
              "      <td>0</td>\n",
              "      <td>0</td>\n",
              "      <td>0</td>\n",
              "      <td>0</td>\n",
              "      <td>0</td>\n",
              "      <td>0</td>\n",
              "      <td>0</td>\n",
              "      <td>0</td>\n",
              "      <td>0</td>\n",
              "      <td>0</td>\n",
              "      <td>0</td>\n",
              "      <td>0</td>\n",
              "      <td>0</td>\n",
              "      <td>0</td>\n",
              "      <td>0</td>\n",
              "      <td>0</td>\n",
              "      <td>0</td>\n",
              "      <td>0</td>\n",
              "      <td>0</td>\n",
              "      <td>0</td>\n",
              "      <td>0</td>\n",
              "      <td>0</td>\n",
              "      <td>0</td>\n",
              "      <td>0</td>\n",
              "      <td>0</td>\n",
              "      <td>0</td>\n",
              "      <td>0</td>\n",
              "    </tr>\n",
              "    <tr>\n",
              "      <th>1</th>\n",
              "      <td>0</td>\n",
              "      <td>0</td>\n",
              "      <td>0</td>\n",
              "      <td>0</td>\n",
              "      <td>0</td>\n",
              "      <td>0</td>\n",
              "      <td>0</td>\n",
              "      <td>0</td>\n",
              "      <td>0</td>\n",
              "      <td>0</td>\n",
              "      <td>0</td>\n",
              "      <td>0</td>\n",
              "      <td>0</td>\n",
              "      <td>0</td>\n",
              "      <td>0</td>\n",
              "      <td>0</td>\n",
              "      <td>0</td>\n",
              "      <td>0</td>\n",
              "      <td>0</td>\n",
              "      <td>0</td>\n",
              "      <td>0</td>\n",
              "      <td>0</td>\n",
              "      <td>0</td>\n",
              "      <td>0</td>\n",
              "      <td>1</td>\n",
              "      <td>0</td>\n",
              "      <td>0</td>\n",
              "      <td>0</td>\n",
              "      <td>0</td>\n",
              "      <td>0</td>\n",
              "      <td>0</td>\n",
              "      <td>0</td>\n",
              "      <td>0</td>\n",
              "      <td>0</td>\n",
              "      <td>0</td>\n",
              "      <td>0</td>\n",
              "      <td>0</td>\n",
              "      <td>0</td>\n",
              "      <td>0</td>\n",
              "      <td>0</td>\n",
              "      <td>...</td>\n",
              "      <td>0</td>\n",
              "      <td>0</td>\n",
              "      <td>0</td>\n",
              "      <td>0</td>\n",
              "      <td>0</td>\n",
              "      <td>0</td>\n",
              "      <td>0</td>\n",
              "      <td>0</td>\n",
              "      <td>0</td>\n",
              "      <td>0</td>\n",
              "      <td>0</td>\n",
              "      <td>0</td>\n",
              "      <td>0</td>\n",
              "      <td>0</td>\n",
              "      <td>0</td>\n",
              "      <td>0</td>\n",
              "      <td>0</td>\n",
              "      <td>0</td>\n",
              "      <td>0</td>\n",
              "      <td>0</td>\n",
              "      <td>0</td>\n",
              "      <td>0</td>\n",
              "      <td>1</td>\n",
              "      <td>0</td>\n",
              "      <td>0</td>\n",
              "      <td>0</td>\n",
              "      <td>0</td>\n",
              "      <td>0</td>\n",
              "      <td>0</td>\n",
              "      <td>0</td>\n",
              "      <td>0</td>\n",
              "      <td>0</td>\n",
              "      <td>0</td>\n",
              "      <td>0</td>\n",
              "      <td>0</td>\n",
              "      <td>0</td>\n",
              "      <td>0</td>\n",
              "      <td>0</td>\n",
              "      <td>0</td>\n",
              "      <td>0</td>\n",
              "    </tr>\n",
              "    <tr>\n",
              "      <th>2</th>\n",
              "      <td>0</td>\n",
              "      <td>0</td>\n",
              "      <td>0</td>\n",
              "      <td>0</td>\n",
              "      <td>0</td>\n",
              "      <td>0</td>\n",
              "      <td>0</td>\n",
              "      <td>0</td>\n",
              "      <td>0</td>\n",
              "      <td>0</td>\n",
              "      <td>0</td>\n",
              "      <td>0</td>\n",
              "      <td>0</td>\n",
              "      <td>0</td>\n",
              "      <td>0</td>\n",
              "      <td>0</td>\n",
              "      <td>0</td>\n",
              "      <td>0</td>\n",
              "      <td>0</td>\n",
              "      <td>0</td>\n",
              "      <td>0</td>\n",
              "      <td>0</td>\n",
              "      <td>0</td>\n",
              "      <td>0</td>\n",
              "      <td>0</td>\n",
              "      <td>0</td>\n",
              "      <td>0</td>\n",
              "      <td>0</td>\n",
              "      <td>0</td>\n",
              "      <td>0</td>\n",
              "      <td>0</td>\n",
              "      <td>0</td>\n",
              "      <td>0</td>\n",
              "      <td>0</td>\n",
              "      <td>0</td>\n",
              "      <td>0</td>\n",
              "      <td>0</td>\n",
              "      <td>0</td>\n",
              "      <td>0</td>\n",
              "      <td>0</td>\n",
              "      <td>...</td>\n",
              "      <td>0</td>\n",
              "      <td>0</td>\n",
              "      <td>0</td>\n",
              "      <td>0</td>\n",
              "      <td>1</td>\n",
              "      <td>0</td>\n",
              "      <td>0</td>\n",
              "      <td>0</td>\n",
              "      <td>0</td>\n",
              "      <td>0</td>\n",
              "      <td>0</td>\n",
              "      <td>0</td>\n",
              "      <td>0</td>\n",
              "      <td>0</td>\n",
              "      <td>0</td>\n",
              "      <td>0</td>\n",
              "      <td>0</td>\n",
              "      <td>0</td>\n",
              "      <td>0</td>\n",
              "      <td>0</td>\n",
              "      <td>0</td>\n",
              "      <td>0</td>\n",
              "      <td>0</td>\n",
              "      <td>0</td>\n",
              "      <td>0</td>\n",
              "      <td>0</td>\n",
              "      <td>0</td>\n",
              "      <td>0</td>\n",
              "      <td>0</td>\n",
              "      <td>0</td>\n",
              "      <td>0</td>\n",
              "      <td>0</td>\n",
              "      <td>0</td>\n",
              "      <td>0</td>\n",
              "      <td>0</td>\n",
              "      <td>0</td>\n",
              "      <td>0</td>\n",
              "      <td>0</td>\n",
              "      <td>0</td>\n",
              "      <td>0</td>\n",
              "    </tr>\n",
              "    <tr>\n",
              "      <th>3</th>\n",
              "      <td>0</td>\n",
              "      <td>0</td>\n",
              "      <td>0</td>\n",
              "      <td>0</td>\n",
              "      <td>0</td>\n",
              "      <td>0</td>\n",
              "      <td>0</td>\n",
              "      <td>0</td>\n",
              "      <td>0</td>\n",
              "      <td>0</td>\n",
              "      <td>0</td>\n",
              "      <td>0</td>\n",
              "      <td>0</td>\n",
              "      <td>0</td>\n",
              "      <td>0</td>\n",
              "      <td>0</td>\n",
              "      <td>0</td>\n",
              "      <td>0</td>\n",
              "      <td>0</td>\n",
              "      <td>0</td>\n",
              "      <td>0</td>\n",
              "      <td>0</td>\n",
              "      <td>0</td>\n",
              "      <td>0</td>\n",
              "      <td>0</td>\n",
              "      <td>0</td>\n",
              "      <td>0</td>\n",
              "      <td>0</td>\n",
              "      <td>0</td>\n",
              "      <td>0</td>\n",
              "      <td>0</td>\n",
              "      <td>0</td>\n",
              "      <td>0</td>\n",
              "      <td>0</td>\n",
              "      <td>1</td>\n",
              "      <td>0</td>\n",
              "      <td>0</td>\n",
              "      <td>0</td>\n",
              "      <td>0</td>\n",
              "      <td>0</td>\n",
              "      <td>...</td>\n",
              "      <td>0</td>\n",
              "      <td>0</td>\n",
              "      <td>0</td>\n",
              "      <td>0</td>\n",
              "      <td>0</td>\n",
              "      <td>0</td>\n",
              "      <td>0</td>\n",
              "      <td>0</td>\n",
              "      <td>0</td>\n",
              "      <td>0</td>\n",
              "      <td>0</td>\n",
              "      <td>0</td>\n",
              "      <td>0</td>\n",
              "      <td>0</td>\n",
              "      <td>0</td>\n",
              "      <td>0</td>\n",
              "      <td>0</td>\n",
              "      <td>0</td>\n",
              "      <td>0</td>\n",
              "      <td>0</td>\n",
              "      <td>0</td>\n",
              "      <td>0</td>\n",
              "      <td>0</td>\n",
              "      <td>0</td>\n",
              "      <td>0</td>\n",
              "      <td>0</td>\n",
              "      <td>0</td>\n",
              "      <td>0</td>\n",
              "      <td>0</td>\n",
              "      <td>0</td>\n",
              "      <td>0</td>\n",
              "      <td>0</td>\n",
              "      <td>0</td>\n",
              "      <td>0</td>\n",
              "      <td>0</td>\n",
              "      <td>0</td>\n",
              "      <td>0</td>\n",
              "      <td>0</td>\n",
              "      <td>0</td>\n",
              "      <td>0</td>\n",
              "    </tr>\n",
              "    <tr>\n",
              "      <th>4</th>\n",
              "      <td>0</td>\n",
              "      <td>0</td>\n",
              "      <td>0</td>\n",
              "      <td>0</td>\n",
              "      <td>0</td>\n",
              "      <td>0</td>\n",
              "      <td>0</td>\n",
              "      <td>0</td>\n",
              "      <td>0</td>\n",
              "      <td>0</td>\n",
              "      <td>0</td>\n",
              "      <td>0</td>\n",
              "      <td>0</td>\n",
              "      <td>0</td>\n",
              "      <td>0</td>\n",
              "      <td>0</td>\n",
              "      <td>0</td>\n",
              "      <td>0</td>\n",
              "      <td>0</td>\n",
              "      <td>0</td>\n",
              "      <td>0</td>\n",
              "      <td>0</td>\n",
              "      <td>0</td>\n",
              "      <td>0</td>\n",
              "      <td>0</td>\n",
              "      <td>0</td>\n",
              "      <td>0</td>\n",
              "      <td>0</td>\n",
              "      <td>0</td>\n",
              "      <td>0</td>\n",
              "      <td>0</td>\n",
              "      <td>0</td>\n",
              "      <td>0</td>\n",
              "      <td>0</td>\n",
              "      <td>0</td>\n",
              "      <td>0</td>\n",
              "      <td>0</td>\n",
              "      <td>0</td>\n",
              "      <td>0</td>\n",
              "      <td>0</td>\n",
              "      <td>...</td>\n",
              "      <td>0</td>\n",
              "      <td>0</td>\n",
              "      <td>0</td>\n",
              "      <td>0</td>\n",
              "      <td>0</td>\n",
              "      <td>0</td>\n",
              "      <td>0</td>\n",
              "      <td>0</td>\n",
              "      <td>0</td>\n",
              "      <td>0</td>\n",
              "      <td>0</td>\n",
              "      <td>0</td>\n",
              "      <td>0</td>\n",
              "      <td>0</td>\n",
              "      <td>0</td>\n",
              "      <td>0</td>\n",
              "      <td>0</td>\n",
              "      <td>0</td>\n",
              "      <td>0</td>\n",
              "      <td>0</td>\n",
              "      <td>0</td>\n",
              "      <td>0</td>\n",
              "      <td>0</td>\n",
              "      <td>0</td>\n",
              "      <td>0</td>\n",
              "      <td>0</td>\n",
              "      <td>0</td>\n",
              "      <td>0</td>\n",
              "      <td>0</td>\n",
              "      <td>0</td>\n",
              "      <td>0</td>\n",
              "      <td>0</td>\n",
              "      <td>0</td>\n",
              "      <td>0</td>\n",
              "      <td>0</td>\n",
              "      <td>0</td>\n",
              "      <td>1</td>\n",
              "      <td>0</td>\n",
              "      <td>0</td>\n",
              "      <td>0</td>\n",
              "    </tr>\n",
              "    <tr>\n",
              "      <th>...</th>\n",
              "      <td>...</td>\n",
              "      <td>...</td>\n",
              "      <td>...</td>\n",
              "      <td>...</td>\n",
              "      <td>...</td>\n",
              "      <td>...</td>\n",
              "      <td>...</td>\n",
              "      <td>...</td>\n",
              "      <td>...</td>\n",
              "      <td>...</td>\n",
              "      <td>...</td>\n",
              "      <td>...</td>\n",
              "      <td>...</td>\n",
              "      <td>...</td>\n",
              "      <td>...</td>\n",
              "      <td>...</td>\n",
              "      <td>...</td>\n",
              "      <td>...</td>\n",
              "      <td>...</td>\n",
              "      <td>...</td>\n",
              "      <td>...</td>\n",
              "      <td>...</td>\n",
              "      <td>...</td>\n",
              "      <td>...</td>\n",
              "      <td>...</td>\n",
              "      <td>...</td>\n",
              "      <td>...</td>\n",
              "      <td>...</td>\n",
              "      <td>...</td>\n",
              "      <td>...</td>\n",
              "      <td>...</td>\n",
              "      <td>...</td>\n",
              "      <td>...</td>\n",
              "      <td>...</td>\n",
              "      <td>...</td>\n",
              "      <td>...</td>\n",
              "      <td>...</td>\n",
              "      <td>...</td>\n",
              "      <td>...</td>\n",
              "      <td>...</td>\n",
              "      <td>...</td>\n",
              "      <td>...</td>\n",
              "      <td>...</td>\n",
              "      <td>...</td>\n",
              "      <td>...</td>\n",
              "      <td>...</td>\n",
              "      <td>...</td>\n",
              "      <td>...</td>\n",
              "      <td>...</td>\n",
              "      <td>...</td>\n",
              "      <td>...</td>\n",
              "      <td>...</td>\n",
              "      <td>...</td>\n",
              "      <td>...</td>\n",
              "      <td>...</td>\n",
              "      <td>...</td>\n",
              "      <td>...</td>\n",
              "      <td>...</td>\n",
              "      <td>...</td>\n",
              "      <td>...</td>\n",
              "      <td>...</td>\n",
              "      <td>...</td>\n",
              "      <td>...</td>\n",
              "      <td>...</td>\n",
              "      <td>...</td>\n",
              "      <td>...</td>\n",
              "      <td>...</td>\n",
              "      <td>...</td>\n",
              "      <td>...</td>\n",
              "      <td>...</td>\n",
              "      <td>...</td>\n",
              "      <td>...</td>\n",
              "      <td>...</td>\n",
              "      <td>...</td>\n",
              "      <td>...</td>\n",
              "      <td>...</td>\n",
              "      <td>...</td>\n",
              "      <td>...</td>\n",
              "      <td>...</td>\n",
              "      <td>...</td>\n",
              "      <td>...</td>\n",
              "    </tr>\n",
              "    <tr>\n",
              "      <th>310</th>\n",
              "      <td>0</td>\n",
              "      <td>0</td>\n",
              "      <td>0</td>\n",
              "      <td>0</td>\n",
              "      <td>0</td>\n",
              "      <td>0</td>\n",
              "      <td>0</td>\n",
              "      <td>0</td>\n",
              "      <td>0</td>\n",
              "      <td>0</td>\n",
              "      <td>0</td>\n",
              "      <td>0</td>\n",
              "      <td>0</td>\n",
              "      <td>0</td>\n",
              "      <td>0</td>\n",
              "      <td>0</td>\n",
              "      <td>0</td>\n",
              "      <td>0</td>\n",
              "      <td>0</td>\n",
              "      <td>0</td>\n",
              "      <td>0</td>\n",
              "      <td>0</td>\n",
              "      <td>0</td>\n",
              "      <td>0</td>\n",
              "      <td>0</td>\n",
              "      <td>0</td>\n",
              "      <td>0</td>\n",
              "      <td>0</td>\n",
              "      <td>0</td>\n",
              "      <td>0</td>\n",
              "      <td>0</td>\n",
              "      <td>0</td>\n",
              "      <td>0</td>\n",
              "      <td>0</td>\n",
              "      <td>0</td>\n",
              "      <td>0</td>\n",
              "      <td>0</td>\n",
              "      <td>0</td>\n",
              "      <td>0</td>\n",
              "      <td>0</td>\n",
              "      <td>...</td>\n",
              "      <td>0</td>\n",
              "      <td>0</td>\n",
              "      <td>0</td>\n",
              "      <td>0</td>\n",
              "      <td>0</td>\n",
              "      <td>0</td>\n",
              "      <td>0</td>\n",
              "      <td>0</td>\n",
              "      <td>0</td>\n",
              "      <td>0</td>\n",
              "      <td>0</td>\n",
              "      <td>0</td>\n",
              "      <td>0</td>\n",
              "      <td>0</td>\n",
              "      <td>0</td>\n",
              "      <td>0</td>\n",
              "      <td>0</td>\n",
              "      <td>0</td>\n",
              "      <td>1</td>\n",
              "      <td>0</td>\n",
              "      <td>0</td>\n",
              "      <td>0</td>\n",
              "      <td>0</td>\n",
              "      <td>0</td>\n",
              "      <td>0</td>\n",
              "      <td>0</td>\n",
              "      <td>0</td>\n",
              "      <td>0</td>\n",
              "      <td>0</td>\n",
              "      <td>0</td>\n",
              "      <td>0</td>\n",
              "      <td>0</td>\n",
              "      <td>0</td>\n",
              "      <td>0</td>\n",
              "      <td>0</td>\n",
              "      <td>0</td>\n",
              "      <td>0</td>\n",
              "      <td>0</td>\n",
              "      <td>0</td>\n",
              "      <td>0</td>\n",
              "    </tr>\n",
              "    <tr>\n",
              "      <th>311</th>\n",
              "      <td>0</td>\n",
              "      <td>0</td>\n",
              "      <td>0</td>\n",
              "      <td>0</td>\n",
              "      <td>0</td>\n",
              "      <td>0</td>\n",
              "      <td>0</td>\n",
              "      <td>0</td>\n",
              "      <td>0</td>\n",
              "      <td>0</td>\n",
              "      <td>0</td>\n",
              "      <td>0</td>\n",
              "      <td>0</td>\n",
              "      <td>0</td>\n",
              "      <td>0</td>\n",
              "      <td>0</td>\n",
              "      <td>0</td>\n",
              "      <td>0</td>\n",
              "      <td>0</td>\n",
              "      <td>0</td>\n",
              "      <td>0</td>\n",
              "      <td>0</td>\n",
              "      <td>0</td>\n",
              "      <td>0</td>\n",
              "      <td>0</td>\n",
              "      <td>0</td>\n",
              "      <td>0</td>\n",
              "      <td>0</td>\n",
              "      <td>0</td>\n",
              "      <td>0</td>\n",
              "      <td>0</td>\n",
              "      <td>0</td>\n",
              "      <td>0</td>\n",
              "      <td>0</td>\n",
              "      <td>0</td>\n",
              "      <td>0</td>\n",
              "      <td>0</td>\n",
              "      <td>0</td>\n",
              "      <td>0</td>\n",
              "      <td>0</td>\n",
              "      <td>...</td>\n",
              "      <td>0</td>\n",
              "      <td>0</td>\n",
              "      <td>0</td>\n",
              "      <td>0</td>\n",
              "      <td>0</td>\n",
              "      <td>0</td>\n",
              "      <td>0</td>\n",
              "      <td>0</td>\n",
              "      <td>0</td>\n",
              "      <td>0</td>\n",
              "      <td>0</td>\n",
              "      <td>0</td>\n",
              "      <td>0</td>\n",
              "      <td>0</td>\n",
              "      <td>0</td>\n",
              "      <td>0</td>\n",
              "      <td>0</td>\n",
              "      <td>0</td>\n",
              "      <td>0</td>\n",
              "      <td>0</td>\n",
              "      <td>0</td>\n",
              "      <td>0</td>\n",
              "      <td>0</td>\n",
              "      <td>0</td>\n",
              "      <td>0</td>\n",
              "      <td>0</td>\n",
              "      <td>0</td>\n",
              "      <td>0</td>\n",
              "      <td>0</td>\n",
              "      <td>0</td>\n",
              "      <td>0</td>\n",
              "      <td>0</td>\n",
              "      <td>0</td>\n",
              "      <td>0</td>\n",
              "      <td>0</td>\n",
              "      <td>0</td>\n",
              "      <td>0</td>\n",
              "      <td>0</td>\n",
              "      <td>0</td>\n",
              "      <td>0</td>\n",
              "    </tr>\n",
              "    <tr>\n",
              "      <th>312</th>\n",
              "      <td>0</td>\n",
              "      <td>0</td>\n",
              "      <td>0</td>\n",
              "      <td>0</td>\n",
              "      <td>0</td>\n",
              "      <td>0</td>\n",
              "      <td>0</td>\n",
              "      <td>0</td>\n",
              "      <td>0</td>\n",
              "      <td>0</td>\n",
              "      <td>0</td>\n",
              "      <td>0</td>\n",
              "      <td>0</td>\n",
              "      <td>0</td>\n",
              "      <td>0</td>\n",
              "      <td>0</td>\n",
              "      <td>0</td>\n",
              "      <td>0</td>\n",
              "      <td>0</td>\n",
              "      <td>0</td>\n",
              "      <td>0</td>\n",
              "      <td>0</td>\n",
              "      <td>0</td>\n",
              "      <td>0</td>\n",
              "      <td>0</td>\n",
              "      <td>0</td>\n",
              "      <td>0</td>\n",
              "      <td>0</td>\n",
              "      <td>0</td>\n",
              "      <td>0</td>\n",
              "      <td>0</td>\n",
              "      <td>0</td>\n",
              "      <td>0</td>\n",
              "      <td>0</td>\n",
              "      <td>0</td>\n",
              "      <td>0</td>\n",
              "      <td>0</td>\n",
              "      <td>0</td>\n",
              "      <td>0</td>\n",
              "      <td>0</td>\n",
              "      <td>...</td>\n",
              "      <td>0</td>\n",
              "      <td>0</td>\n",
              "      <td>0</td>\n",
              "      <td>0</td>\n",
              "      <td>0</td>\n",
              "      <td>0</td>\n",
              "      <td>0</td>\n",
              "      <td>0</td>\n",
              "      <td>0</td>\n",
              "      <td>0</td>\n",
              "      <td>0</td>\n",
              "      <td>0</td>\n",
              "      <td>0</td>\n",
              "      <td>0</td>\n",
              "      <td>0</td>\n",
              "      <td>0</td>\n",
              "      <td>0</td>\n",
              "      <td>0</td>\n",
              "      <td>0</td>\n",
              "      <td>0</td>\n",
              "      <td>0</td>\n",
              "      <td>0</td>\n",
              "      <td>0</td>\n",
              "      <td>1</td>\n",
              "      <td>0</td>\n",
              "      <td>0</td>\n",
              "      <td>0</td>\n",
              "      <td>0</td>\n",
              "      <td>0</td>\n",
              "      <td>0</td>\n",
              "      <td>0</td>\n",
              "      <td>0</td>\n",
              "      <td>0</td>\n",
              "      <td>0</td>\n",
              "      <td>0</td>\n",
              "      <td>0</td>\n",
              "      <td>0</td>\n",
              "      <td>0</td>\n",
              "      <td>0</td>\n",
              "      <td>0</td>\n",
              "    </tr>\n",
              "    <tr>\n",
              "      <th>313</th>\n",
              "      <td>0</td>\n",
              "      <td>0</td>\n",
              "      <td>0</td>\n",
              "      <td>0</td>\n",
              "      <td>0</td>\n",
              "      <td>0</td>\n",
              "      <td>0</td>\n",
              "      <td>0</td>\n",
              "      <td>0</td>\n",
              "      <td>0</td>\n",
              "      <td>0</td>\n",
              "      <td>0</td>\n",
              "      <td>0</td>\n",
              "      <td>0</td>\n",
              "      <td>0</td>\n",
              "      <td>0</td>\n",
              "      <td>0</td>\n",
              "      <td>0</td>\n",
              "      <td>0</td>\n",
              "      <td>0</td>\n",
              "      <td>0</td>\n",
              "      <td>0</td>\n",
              "      <td>0</td>\n",
              "      <td>0</td>\n",
              "      <td>1</td>\n",
              "      <td>0</td>\n",
              "      <td>0</td>\n",
              "      <td>0</td>\n",
              "      <td>0</td>\n",
              "      <td>0</td>\n",
              "      <td>0</td>\n",
              "      <td>0</td>\n",
              "      <td>0</td>\n",
              "      <td>0</td>\n",
              "      <td>0</td>\n",
              "      <td>0</td>\n",
              "      <td>0</td>\n",
              "      <td>0</td>\n",
              "      <td>0</td>\n",
              "      <td>0</td>\n",
              "      <td>...</td>\n",
              "      <td>0</td>\n",
              "      <td>0</td>\n",
              "      <td>0</td>\n",
              "      <td>0</td>\n",
              "      <td>0</td>\n",
              "      <td>0</td>\n",
              "      <td>0</td>\n",
              "      <td>0</td>\n",
              "      <td>0</td>\n",
              "      <td>0</td>\n",
              "      <td>0</td>\n",
              "      <td>0</td>\n",
              "      <td>0</td>\n",
              "      <td>0</td>\n",
              "      <td>0</td>\n",
              "      <td>0</td>\n",
              "      <td>0</td>\n",
              "      <td>0</td>\n",
              "      <td>0</td>\n",
              "      <td>0</td>\n",
              "      <td>0</td>\n",
              "      <td>0</td>\n",
              "      <td>0</td>\n",
              "      <td>0</td>\n",
              "      <td>0</td>\n",
              "      <td>0</td>\n",
              "      <td>0</td>\n",
              "      <td>0</td>\n",
              "      <td>0</td>\n",
              "      <td>0</td>\n",
              "      <td>0</td>\n",
              "      <td>0</td>\n",
              "      <td>0</td>\n",
              "      <td>0</td>\n",
              "      <td>0</td>\n",
              "      <td>0</td>\n",
              "      <td>0</td>\n",
              "      <td>0</td>\n",
              "      <td>0</td>\n",
              "      <td>0</td>\n",
              "    </tr>\n",
              "    <tr>\n",
              "      <th>314</th>\n",
              "      <td>0</td>\n",
              "      <td>0</td>\n",
              "      <td>0</td>\n",
              "      <td>0</td>\n",
              "      <td>0</td>\n",
              "      <td>0</td>\n",
              "      <td>0</td>\n",
              "      <td>0</td>\n",
              "      <td>0</td>\n",
              "      <td>0</td>\n",
              "      <td>0</td>\n",
              "      <td>0</td>\n",
              "      <td>0</td>\n",
              "      <td>0</td>\n",
              "      <td>0</td>\n",
              "      <td>0</td>\n",
              "      <td>0</td>\n",
              "      <td>0</td>\n",
              "      <td>0</td>\n",
              "      <td>0</td>\n",
              "      <td>0</td>\n",
              "      <td>0</td>\n",
              "      <td>0</td>\n",
              "      <td>0</td>\n",
              "      <td>0</td>\n",
              "      <td>0</td>\n",
              "      <td>0</td>\n",
              "      <td>0</td>\n",
              "      <td>0</td>\n",
              "      <td>0</td>\n",
              "      <td>0</td>\n",
              "      <td>0</td>\n",
              "      <td>0</td>\n",
              "      <td>0</td>\n",
              "      <td>0</td>\n",
              "      <td>0</td>\n",
              "      <td>0</td>\n",
              "      <td>0</td>\n",
              "      <td>0</td>\n",
              "      <td>0</td>\n",
              "      <td>...</td>\n",
              "      <td>0</td>\n",
              "      <td>0</td>\n",
              "      <td>0</td>\n",
              "      <td>0</td>\n",
              "      <td>0</td>\n",
              "      <td>0</td>\n",
              "      <td>0</td>\n",
              "      <td>0</td>\n",
              "      <td>0</td>\n",
              "      <td>0</td>\n",
              "      <td>0</td>\n",
              "      <td>0</td>\n",
              "      <td>0</td>\n",
              "      <td>0</td>\n",
              "      <td>0</td>\n",
              "      <td>0</td>\n",
              "      <td>0</td>\n",
              "      <td>0</td>\n",
              "      <td>0</td>\n",
              "      <td>1</td>\n",
              "      <td>0</td>\n",
              "      <td>0</td>\n",
              "      <td>0</td>\n",
              "      <td>0</td>\n",
              "      <td>0</td>\n",
              "      <td>0</td>\n",
              "      <td>0</td>\n",
              "      <td>0</td>\n",
              "      <td>0</td>\n",
              "      <td>0</td>\n",
              "      <td>0</td>\n",
              "      <td>0</td>\n",
              "      <td>0</td>\n",
              "      <td>0</td>\n",
              "      <td>0</td>\n",
              "      <td>0</td>\n",
              "      <td>0</td>\n",
              "      <td>0</td>\n",
              "      <td>0</td>\n",
              "      <td>0</td>\n",
              "    </tr>\n",
              "  </tbody>\n",
              "</table>\n",
              "<p>315 rows × 237 columns</p>\n",
              "</div>"
            ],
            "text/plain": [
              "     0    1    2    3    4    5    6    ...  230  231  232  233  234  235  236\n",
              "0      0    0    0    0    0    0    0  ...    0    0    0    0    0    0    0\n",
              "1      0    0    0    0    0    0    0  ...    0    0    0    0    0    0    0\n",
              "2      0    0    0    0    0    0    0  ...    0    0    0    0    0    0    0\n",
              "3      0    0    0    0    0    0    0  ...    0    0    0    0    0    0    0\n",
              "4      0    0    0    0    0    0    0  ...    0    0    0    1    0    0    0\n",
              "..   ...  ...  ...  ...  ...  ...  ...  ...  ...  ...  ...  ...  ...  ...  ...\n",
              "310    0    0    0    0    0    0    0  ...    0    0    0    0    0    0    0\n",
              "311    0    0    0    0    0    0    0  ...    0    0    0    0    0    0    0\n",
              "312    0    0    0    0    0    0    0  ...    0    0    0    0    0    0    0\n",
              "313    0    0    0    0    0    0    0  ...    0    0    0    0    0    0    0\n",
              "314    0    0    0    0    0    0    0  ...    0    0    0    0    0    0    0\n",
              "\n",
              "[315 rows x 237 columns]"
            ]
          },
          "metadata": {
            "tags": []
          },
          "execution_count": 316
        }
      ]
    },
    {
      "cell_type": "code",
      "metadata": {
        "id": "XLXZEKGvm8Ed",
        "colab_type": "code",
        "outputId": "11944e77-4a7f-4b63-a11d-2f333a9d64ce",
        "colab": {
          "base_uri": "https://localhost:8080/",
          "height": 439
        }
      },
      "source": [
        "#Term Frequency-Inverse Document Frequency (TF-IDF)\n",
        "from sklearn.feature_extraction.text import TfidfVectorizer\n",
        "\n",
        "tfidf=TfidfVectorizer(max_df=0.90, min_df=2,max_features=1000,stop_words='english')\n",
        "\n",
        "tfidf_matrix=tfidf.fit_transform(df['sentences'])\n",
        "\n",
        "df_tfidf = pd.DataFrame(tfidf_matrix.todense())\n",
        "\n",
        "df_tfidf"
      ],
      "execution_count": 317,
      "outputs": [
        {
          "output_type": "execute_result",
          "data": {
            "text/html": [
              "<div>\n",
              "<style scoped>\n",
              "    .dataframe tbody tr th:only-of-type {\n",
              "        vertical-align: middle;\n",
              "    }\n",
              "\n",
              "    .dataframe tbody tr th {\n",
              "        vertical-align: top;\n",
              "    }\n",
              "\n",
              "    .dataframe thead th {\n",
              "        text-align: right;\n",
              "    }\n",
              "</style>\n",
              "<table border=\"1\" class=\"dataframe\">\n",
              "  <thead>\n",
              "    <tr style=\"text-align: right;\">\n",
              "      <th></th>\n",
              "      <th>0</th>\n",
              "      <th>1</th>\n",
              "      <th>2</th>\n",
              "      <th>3</th>\n",
              "      <th>4</th>\n",
              "      <th>5</th>\n",
              "      <th>6</th>\n",
              "      <th>7</th>\n",
              "      <th>8</th>\n",
              "      <th>9</th>\n",
              "      <th>10</th>\n",
              "      <th>11</th>\n",
              "      <th>12</th>\n",
              "      <th>13</th>\n",
              "      <th>14</th>\n",
              "      <th>15</th>\n",
              "      <th>16</th>\n",
              "      <th>17</th>\n",
              "      <th>18</th>\n",
              "      <th>19</th>\n",
              "      <th>20</th>\n",
              "      <th>21</th>\n",
              "      <th>22</th>\n",
              "      <th>23</th>\n",
              "      <th>24</th>\n",
              "      <th>25</th>\n",
              "      <th>26</th>\n",
              "      <th>27</th>\n",
              "      <th>28</th>\n",
              "      <th>29</th>\n",
              "      <th>30</th>\n",
              "      <th>31</th>\n",
              "      <th>32</th>\n",
              "      <th>33</th>\n",
              "      <th>34</th>\n",
              "      <th>35</th>\n",
              "      <th>36</th>\n",
              "      <th>37</th>\n",
              "      <th>38</th>\n",
              "      <th>39</th>\n",
              "      <th>...</th>\n",
              "      <th>197</th>\n",
              "      <th>198</th>\n",
              "      <th>199</th>\n",
              "      <th>200</th>\n",
              "      <th>201</th>\n",
              "      <th>202</th>\n",
              "      <th>203</th>\n",
              "      <th>204</th>\n",
              "      <th>205</th>\n",
              "      <th>206</th>\n",
              "      <th>207</th>\n",
              "      <th>208</th>\n",
              "      <th>209</th>\n",
              "      <th>210</th>\n",
              "      <th>211</th>\n",
              "      <th>212</th>\n",
              "      <th>213</th>\n",
              "      <th>214</th>\n",
              "      <th>215</th>\n",
              "      <th>216</th>\n",
              "      <th>217</th>\n",
              "      <th>218</th>\n",
              "      <th>219</th>\n",
              "      <th>220</th>\n",
              "      <th>221</th>\n",
              "      <th>222</th>\n",
              "      <th>223</th>\n",
              "      <th>224</th>\n",
              "      <th>225</th>\n",
              "      <th>226</th>\n",
              "      <th>227</th>\n",
              "      <th>228</th>\n",
              "      <th>229</th>\n",
              "      <th>230</th>\n",
              "      <th>231</th>\n",
              "      <th>232</th>\n",
              "      <th>233</th>\n",
              "      <th>234</th>\n",
              "      <th>235</th>\n",
              "      <th>236</th>\n",
              "    </tr>\n",
              "  </thead>\n",
              "  <tbody>\n",
              "    <tr>\n",
              "      <th>0</th>\n",
              "      <td>0.0</td>\n",
              "      <td>0.0</td>\n",
              "      <td>0.0</td>\n",
              "      <td>0.0</td>\n",
              "      <td>0.0</td>\n",
              "      <td>0.0</td>\n",
              "      <td>0.0</td>\n",
              "      <td>0.0</td>\n",
              "      <td>0.0</td>\n",
              "      <td>0.0</td>\n",
              "      <td>0.0</td>\n",
              "      <td>0.0</td>\n",
              "      <td>0.0</td>\n",
              "      <td>0.0</td>\n",
              "      <td>0.0</td>\n",
              "      <td>0.0</td>\n",
              "      <td>0.0</td>\n",
              "      <td>0.0</td>\n",
              "      <td>0.0</td>\n",
              "      <td>0.0</td>\n",
              "      <td>0.0</td>\n",
              "      <td>0.0</td>\n",
              "      <td>0.0</td>\n",
              "      <td>0.0</td>\n",
              "      <td>0.000000</td>\n",
              "      <td>0.0</td>\n",
              "      <td>0.0</td>\n",
              "      <td>0.0</td>\n",
              "      <td>0.0</td>\n",
              "      <td>0.0</td>\n",
              "      <td>0.0</td>\n",
              "      <td>0.0</td>\n",
              "      <td>0.0</td>\n",
              "      <td>0.0</td>\n",
              "      <td>0.000000</td>\n",
              "      <td>0.0</td>\n",
              "      <td>0.0</td>\n",
              "      <td>0.0</td>\n",
              "      <td>0.0</td>\n",
              "      <td>0.0</td>\n",
              "      <td>...</td>\n",
              "      <td>0.0</td>\n",
              "      <td>0.0</td>\n",
              "      <td>0.0</td>\n",
              "      <td>0.0</td>\n",
              "      <td>0.000000</td>\n",
              "      <td>0.0</td>\n",
              "      <td>0.0</td>\n",
              "      <td>0.0</td>\n",
              "      <td>0.0</td>\n",
              "      <td>0.0</td>\n",
              "      <td>0.0</td>\n",
              "      <td>0.0</td>\n",
              "      <td>0.0</td>\n",
              "      <td>0.0</td>\n",
              "      <td>0.0</td>\n",
              "      <td>0.0</td>\n",
              "      <td>0.0</td>\n",
              "      <td>0.0</td>\n",
              "      <td>0.000000</td>\n",
              "      <td>0.000000</td>\n",
              "      <td>0.0</td>\n",
              "      <td>0.0</td>\n",
              "      <td>0.000000</td>\n",
              "      <td>0.000000</td>\n",
              "      <td>0.0</td>\n",
              "      <td>0.0</td>\n",
              "      <td>0.0</td>\n",
              "      <td>0.0</td>\n",
              "      <td>0.0</td>\n",
              "      <td>0.0</td>\n",
              "      <td>0.0</td>\n",
              "      <td>0.0</td>\n",
              "      <td>0.0</td>\n",
              "      <td>0.0</td>\n",
              "      <td>0.0</td>\n",
              "      <td>0.0</td>\n",
              "      <td>0.000000</td>\n",
              "      <td>0.0</td>\n",
              "      <td>0.0</td>\n",
              "      <td>0.0</td>\n",
              "    </tr>\n",
              "    <tr>\n",
              "      <th>1</th>\n",
              "      <td>0.0</td>\n",
              "      <td>0.0</td>\n",
              "      <td>0.0</td>\n",
              "      <td>0.0</td>\n",
              "      <td>0.0</td>\n",
              "      <td>0.0</td>\n",
              "      <td>0.0</td>\n",
              "      <td>0.0</td>\n",
              "      <td>0.0</td>\n",
              "      <td>0.0</td>\n",
              "      <td>0.0</td>\n",
              "      <td>0.0</td>\n",
              "      <td>0.0</td>\n",
              "      <td>0.0</td>\n",
              "      <td>0.0</td>\n",
              "      <td>0.0</td>\n",
              "      <td>0.0</td>\n",
              "      <td>0.0</td>\n",
              "      <td>0.0</td>\n",
              "      <td>0.0</td>\n",
              "      <td>0.0</td>\n",
              "      <td>0.0</td>\n",
              "      <td>0.0</td>\n",
              "      <td>0.0</td>\n",
              "      <td>0.316126</td>\n",
              "      <td>0.0</td>\n",
              "      <td>0.0</td>\n",
              "      <td>0.0</td>\n",
              "      <td>0.0</td>\n",
              "      <td>0.0</td>\n",
              "      <td>0.0</td>\n",
              "      <td>0.0</td>\n",
              "      <td>0.0</td>\n",
              "      <td>0.0</td>\n",
              "      <td>0.000000</td>\n",
              "      <td>0.0</td>\n",
              "      <td>0.0</td>\n",
              "      <td>0.0</td>\n",
              "      <td>0.0</td>\n",
              "      <td>0.0</td>\n",
              "      <td>...</td>\n",
              "      <td>0.0</td>\n",
              "      <td>0.0</td>\n",
              "      <td>0.0</td>\n",
              "      <td>0.0</td>\n",
              "      <td>0.000000</td>\n",
              "      <td>0.0</td>\n",
              "      <td>0.0</td>\n",
              "      <td>0.0</td>\n",
              "      <td>0.0</td>\n",
              "      <td>0.0</td>\n",
              "      <td>0.0</td>\n",
              "      <td>0.0</td>\n",
              "      <td>0.0</td>\n",
              "      <td>0.0</td>\n",
              "      <td>0.0</td>\n",
              "      <td>0.0</td>\n",
              "      <td>0.0</td>\n",
              "      <td>0.0</td>\n",
              "      <td>0.000000</td>\n",
              "      <td>0.000000</td>\n",
              "      <td>0.0</td>\n",
              "      <td>0.0</td>\n",
              "      <td>0.402487</td>\n",
              "      <td>0.000000</td>\n",
              "      <td>0.0</td>\n",
              "      <td>0.0</td>\n",
              "      <td>0.0</td>\n",
              "      <td>0.0</td>\n",
              "      <td>0.0</td>\n",
              "      <td>0.0</td>\n",
              "      <td>0.0</td>\n",
              "      <td>0.0</td>\n",
              "      <td>0.0</td>\n",
              "      <td>0.0</td>\n",
              "      <td>0.0</td>\n",
              "      <td>0.0</td>\n",
              "      <td>0.000000</td>\n",
              "      <td>0.0</td>\n",
              "      <td>0.0</td>\n",
              "      <td>0.0</td>\n",
              "    </tr>\n",
              "    <tr>\n",
              "      <th>2</th>\n",
              "      <td>0.0</td>\n",
              "      <td>0.0</td>\n",
              "      <td>0.0</td>\n",
              "      <td>0.0</td>\n",
              "      <td>0.0</td>\n",
              "      <td>0.0</td>\n",
              "      <td>0.0</td>\n",
              "      <td>0.0</td>\n",
              "      <td>0.0</td>\n",
              "      <td>0.0</td>\n",
              "      <td>0.0</td>\n",
              "      <td>0.0</td>\n",
              "      <td>0.0</td>\n",
              "      <td>0.0</td>\n",
              "      <td>0.0</td>\n",
              "      <td>0.0</td>\n",
              "      <td>0.0</td>\n",
              "      <td>0.0</td>\n",
              "      <td>0.0</td>\n",
              "      <td>0.0</td>\n",
              "      <td>0.0</td>\n",
              "      <td>0.0</td>\n",
              "      <td>0.0</td>\n",
              "      <td>0.0</td>\n",
              "      <td>0.000000</td>\n",
              "      <td>0.0</td>\n",
              "      <td>0.0</td>\n",
              "      <td>0.0</td>\n",
              "      <td>0.0</td>\n",
              "      <td>0.0</td>\n",
              "      <td>0.0</td>\n",
              "      <td>0.0</td>\n",
              "      <td>0.0</td>\n",
              "      <td>0.0</td>\n",
              "      <td>0.000000</td>\n",
              "      <td>0.0</td>\n",
              "      <td>0.0</td>\n",
              "      <td>0.0</td>\n",
              "      <td>0.0</td>\n",
              "      <td>0.0</td>\n",
              "      <td>...</td>\n",
              "      <td>0.0</td>\n",
              "      <td>0.0</td>\n",
              "      <td>0.0</td>\n",
              "      <td>0.0</td>\n",
              "      <td>0.678839</td>\n",
              "      <td>0.0</td>\n",
              "      <td>0.0</td>\n",
              "      <td>0.0</td>\n",
              "      <td>0.0</td>\n",
              "      <td>0.0</td>\n",
              "      <td>0.0</td>\n",
              "      <td>0.0</td>\n",
              "      <td>0.0</td>\n",
              "      <td>0.0</td>\n",
              "      <td>0.0</td>\n",
              "      <td>0.0</td>\n",
              "      <td>0.0</td>\n",
              "      <td>0.0</td>\n",
              "      <td>0.000000</td>\n",
              "      <td>0.000000</td>\n",
              "      <td>0.0</td>\n",
              "      <td>0.0</td>\n",
              "      <td>0.000000</td>\n",
              "      <td>0.000000</td>\n",
              "      <td>0.0</td>\n",
              "      <td>0.0</td>\n",
              "      <td>0.0</td>\n",
              "      <td>0.0</td>\n",
              "      <td>0.0</td>\n",
              "      <td>0.0</td>\n",
              "      <td>0.0</td>\n",
              "      <td>0.0</td>\n",
              "      <td>0.0</td>\n",
              "      <td>0.0</td>\n",
              "      <td>0.0</td>\n",
              "      <td>0.0</td>\n",
              "      <td>0.000000</td>\n",
              "      <td>0.0</td>\n",
              "      <td>0.0</td>\n",
              "      <td>0.0</td>\n",
              "    </tr>\n",
              "    <tr>\n",
              "      <th>3</th>\n",
              "      <td>0.0</td>\n",
              "      <td>0.0</td>\n",
              "      <td>0.0</td>\n",
              "      <td>0.0</td>\n",
              "      <td>0.0</td>\n",
              "      <td>0.0</td>\n",
              "      <td>0.0</td>\n",
              "      <td>0.0</td>\n",
              "      <td>0.0</td>\n",
              "      <td>0.0</td>\n",
              "      <td>0.0</td>\n",
              "      <td>0.0</td>\n",
              "      <td>0.0</td>\n",
              "      <td>0.0</td>\n",
              "      <td>0.0</td>\n",
              "      <td>0.0</td>\n",
              "      <td>0.0</td>\n",
              "      <td>0.0</td>\n",
              "      <td>0.0</td>\n",
              "      <td>0.0</td>\n",
              "      <td>0.0</td>\n",
              "      <td>0.0</td>\n",
              "      <td>0.0</td>\n",
              "      <td>0.0</td>\n",
              "      <td>0.000000</td>\n",
              "      <td>0.0</td>\n",
              "      <td>0.0</td>\n",
              "      <td>0.0</td>\n",
              "      <td>0.0</td>\n",
              "      <td>0.0</td>\n",
              "      <td>0.0</td>\n",
              "      <td>0.0</td>\n",
              "      <td>0.0</td>\n",
              "      <td>0.0</td>\n",
              "      <td>0.484593</td>\n",
              "      <td>0.0</td>\n",
              "      <td>0.0</td>\n",
              "      <td>0.0</td>\n",
              "      <td>0.0</td>\n",
              "      <td>0.0</td>\n",
              "      <td>...</td>\n",
              "      <td>0.0</td>\n",
              "      <td>0.0</td>\n",
              "      <td>0.0</td>\n",
              "      <td>0.0</td>\n",
              "      <td>0.000000</td>\n",
              "      <td>0.0</td>\n",
              "      <td>0.0</td>\n",
              "      <td>0.0</td>\n",
              "      <td>0.0</td>\n",
              "      <td>0.0</td>\n",
              "      <td>0.0</td>\n",
              "      <td>0.0</td>\n",
              "      <td>0.0</td>\n",
              "      <td>0.0</td>\n",
              "      <td>0.0</td>\n",
              "      <td>0.0</td>\n",
              "      <td>0.0</td>\n",
              "      <td>0.0</td>\n",
              "      <td>0.000000</td>\n",
              "      <td>0.000000</td>\n",
              "      <td>0.0</td>\n",
              "      <td>0.0</td>\n",
              "      <td>0.000000</td>\n",
              "      <td>0.000000</td>\n",
              "      <td>0.0</td>\n",
              "      <td>0.0</td>\n",
              "      <td>0.0</td>\n",
              "      <td>0.0</td>\n",
              "      <td>0.0</td>\n",
              "      <td>0.0</td>\n",
              "      <td>0.0</td>\n",
              "      <td>0.0</td>\n",
              "      <td>0.0</td>\n",
              "      <td>0.0</td>\n",
              "      <td>0.0</td>\n",
              "      <td>0.0</td>\n",
              "      <td>0.000000</td>\n",
              "      <td>0.0</td>\n",
              "      <td>0.0</td>\n",
              "      <td>0.0</td>\n",
              "    </tr>\n",
              "    <tr>\n",
              "      <th>4</th>\n",
              "      <td>0.0</td>\n",
              "      <td>0.0</td>\n",
              "      <td>0.0</td>\n",
              "      <td>0.0</td>\n",
              "      <td>0.0</td>\n",
              "      <td>0.0</td>\n",
              "      <td>0.0</td>\n",
              "      <td>0.0</td>\n",
              "      <td>0.0</td>\n",
              "      <td>0.0</td>\n",
              "      <td>0.0</td>\n",
              "      <td>0.0</td>\n",
              "      <td>0.0</td>\n",
              "      <td>0.0</td>\n",
              "      <td>0.0</td>\n",
              "      <td>0.0</td>\n",
              "      <td>0.0</td>\n",
              "      <td>0.0</td>\n",
              "      <td>0.0</td>\n",
              "      <td>0.0</td>\n",
              "      <td>0.0</td>\n",
              "      <td>0.0</td>\n",
              "      <td>0.0</td>\n",
              "      <td>0.0</td>\n",
              "      <td>0.000000</td>\n",
              "      <td>0.0</td>\n",
              "      <td>0.0</td>\n",
              "      <td>0.0</td>\n",
              "      <td>0.0</td>\n",
              "      <td>0.0</td>\n",
              "      <td>0.0</td>\n",
              "      <td>0.0</td>\n",
              "      <td>0.0</td>\n",
              "      <td>0.0</td>\n",
              "      <td>0.000000</td>\n",
              "      <td>0.0</td>\n",
              "      <td>0.0</td>\n",
              "      <td>0.0</td>\n",
              "      <td>0.0</td>\n",
              "      <td>0.0</td>\n",
              "      <td>...</td>\n",
              "      <td>0.0</td>\n",
              "      <td>0.0</td>\n",
              "      <td>0.0</td>\n",
              "      <td>0.0</td>\n",
              "      <td>0.000000</td>\n",
              "      <td>0.0</td>\n",
              "      <td>0.0</td>\n",
              "      <td>0.0</td>\n",
              "      <td>0.0</td>\n",
              "      <td>0.0</td>\n",
              "      <td>0.0</td>\n",
              "      <td>0.0</td>\n",
              "      <td>0.0</td>\n",
              "      <td>0.0</td>\n",
              "      <td>0.0</td>\n",
              "      <td>0.0</td>\n",
              "      <td>0.0</td>\n",
              "      <td>0.0</td>\n",
              "      <td>0.000000</td>\n",
              "      <td>0.000000</td>\n",
              "      <td>0.0</td>\n",
              "      <td>0.0</td>\n",
              "      <td>0.000000</td>\n",
              "      <td>0.000000</td>\n",
              "      <td>0.0</td>\n",
              "      <td>0.0</td>\n",
              "      <td>0.0</td>\n",
              "      <td>0.0</td>\n",
              "      <td>0.0</td>\n",
              "      <td>0.0</td>\n",
              "      <td>0.0</td>\n",
              "      <td>0.0</td>\n",
              "      <td>0.0</td>\n",
              "      <td>0.0</td>\n",
              "      <td>0.0</td>\n",
              "      <td>0.0</td>\n",
              "      <td>0.335925</td>\n",
              "      <td>0.0</td>\n",
              "      <td>0.0</td>\n",
              "      <td>0.0</td>\n",
              "    </tr>\n",
              "    <tr>\n",
              "      <th>...</th>\n",
              "      <td>...</td>\n",
              "      <td>...</td>\n",
              "      <td>...</td>\n",
              "      <td>...</td>\n",
              "      <td>...</td>\n",
              "      <td>...</td>\n",
              "      <td>...</td>\n",
              "      <td>...</td>\n",
              "      <td>...</td>\n",
              "      <td>...</td>\n",
              "      <td>...</td>\n",
              "      <td>...</td>\n",
              "      <td>...</td>\n",
              "      <td>...</td>\n",
              "      <td>...</td>\n",
              "      <td>...</td>\n",
              "      <td>...</td>\n",
              "      <td>...</td>\n",
              "      <td>...</td>\n",
              "      <td>...</td>\n",
              "      <td>...</td>\n",
              "      <td>...</td>\n",
              "      <td>...</td>\n",
              "      <td>...</td>\n",
              "      <td>...</td>\n",
              "      <td>...</td>\n",
              "      <td>...</td>\n",
              "      <td>...</td>\n",
              "      <td>...</td>\n",
              "      <td>...</td>\n",
              "      <td>...</td>\n",
              "      <td>...</td>\n",
              "      <td>...</td>\n",
              "      <td>...</td>\n",
              "      <td>...</td>\n",
              "      <td>...</td>\n",
              "      <td>...</td>\n",
              "      <td>...</td>\n",
              "      <td>...</td>\n",
              "      <td>...</td>\n",
              "      <td>...</td>\n",
              "      <td>...</td>\n",
              "      <td>...</td>\n",
              "      <td>...</td>\n",
              "      <td>...</td>\n",
              "      <td>...</td>\n",
              "      <td>...</td>\n",
              "      <td>...</td>\n",
              "      <td>...</td>\n",
              "      <td>...</td>\n",
              "      <td>...</td>\n",
              "      <td>...</td>\n",
              "      <td>...</td>\n",
              "      <td>...</td>\n",
              "      <td>...</td>\n",
              "      <td>...</td>\n",
              "      <td>...</td>\n",
              "      <td>...</td>\n",
              "      <td>...</td>\n",
              "      <td>...</td>\n",
              "      <td>...</td>\n",
              "      <td>...</td>\n",
              "      <td>...</td>\n",
              "      <td>...</td>\n",
              "      <td>...</td>\n",
              "      <td>...</td>\n",
              "      <td>...</td>\n",
              "      <td>...</td>\n",
              "      <td>...</td>\n",
              "      <td>...</td>\n",
              "      <td>...</td>\n",
              "      <td>...</td>\n",
              "      <td>...</td>\n",
              "      <td>...</td>\n",
              "      <td>...</td>\n",
              "      <td>...</td>\n",
              "      <td>...</td>\n",
              "      <td>...</td>\n",
              "      <td>...</td>\n",
              "      <td>...</td>\n",
              "      <td>...</td>\n",
              "    </tr>\n",
              "    <tr>\n",
              "      <th>310</th>\n",
              "      <td>0.0</td>\n",
              "      <td>0.0</td>\n",
              "      <td>0.0</td>\n",
              "      <td>0.0</td>\n",
              "      <td>0.0</td>\n",
              "      <td>0.0</td>\n",
              "      <td>0.0</td>\n",
              "      <td>0.0</td>\n",
              "      <td>0.0</td>\n",
              "      <td>0.0</td>\n",
              "      <td>0.0</td>\n",
              "      <td>0.0</td>\n",
              "      <td>0.0</td>\n",
              "      <td>0.0</td>\n",
              "      <td>0.0</td>\n",
              "      <td>0.0</td>\n",
              "      <td>0.0</td>\n",
              "      <td>0.0</td>\n",
              "      <td>0.0</td>\n",
              "      <td>0.0</td>\n",
              "      <td>0.0</td>\n",
              "      <td>0.0</td>\n",
              "      <td>0.0</td>\n",
              "      <td>0.0</td>\n",
              "      <td>0.000000</td>\n",
              "      <td>0.0</td>\n",
              "      <td>0.0</td>\n",
              "      <td>0.0</td>\n",
              "      <td>0.0</td>\n",
              "      <td>0.0</td>\n",
              "      <td>0.0</td>\n",
              "      <td>0.0</td>\n",
              "      <td>0.0</td>\n",
              "      <td>0.0</td>\n",
              "      <td>0.000000</td>\n",
              "      <td>0.0</td>\n",
              "      <td>0.0</td>\n",
              "      <td>0.0</td>\n",
              "      <td>0.0</td>\n",
              "      <td>0.0</td>\n",
              "      <td>...</td>\n",
              "      <td>0.0</td>\n",
              "      <td>0.0</td>\n",
              "      <td>0.0</td>\n",
              "      <td>0.0</td>\n",
              "      <td>0.000000</td>\n",
              "      <td>0.0</td>\n",
              "      <td>0.0</td>\n",
              "      <td>0.0</td>\n",
              "      <td>0.0</td>\n",
              "      <td>0.0</td>\n",
              "      <td>0.0</td>\n",
              "      <td>0.0</td>\n",
              "      <td>0.0</td>\n",
              "      <td>0.0</td>\n",
              "      <td>0.0</td>\n",
              "      <td>0.0</td>\n",
              "      <td>0.0</td>\n",
              "      <td>0.0</td>\n",
              "      <td>0.570952</td>\n",
              "      <td>0.000000</td>\n",
              "      <td>0.0</td>\n",
              "      <td>0.0</td>\n",
              "      <td>0.000000</td>\n",
              "      <td>0.000000</td>\n",
              "      <td>0.0</td>\n",
              "      <td>0.0</td>\n",
              "      <td>0.0</td>\n",
              "      <td>0.0</td>\n",
              "      <td>0.0</td>\n",
              "      <td>0.0</td>\n",
              "      <td>0.0</td>\n",
              "      <td>0.0</td>\n",
              "      <td>0.0</td>\n",
              "      <td>0.0</td>\n",
              "      <td>0.0</td>\n",
              "      <td>0.0</td>\n",
              "      <td>0.000000</td>\n",
              "      <td>0.0</td>\n",
              "      <td>0.0</td>\n",
              "      <td>0.0</td>\n",
              "    </tr>\n",
              "    <tr>\n",
              "      <th>311</th>\n",
              "      <td>0.0</td>\n",
              "      <td>0.0</td>\n",
              "      <td>0.0</td>\n",
              "      <td>0.0</td>\n",
              "      <td>0.0</td>\n",
              "      <td>0.0</td>\n",
              "      <td>0.0</td>\n",
              "      <td>0.0</td>\n",
              "      <td>0.0</td>\n",
              "      <td>0.0</td>\n",
              "      <td>0.0</td>\n",
              "      <td>0.0</td>\n",
              "      <td>0.0</td>\n",
              "      <td>0.0</td>\n",
              "      <td>0.0</td>\n",
              "      <td>0.0</td>\n",
              "      <td>0.0</td>\n",
              "      <td>0.0</td>\n",
              "      <td>0.0</td>\n",
              "      <td>0.0</td>\n",
              "      <td>0.0</td>\n",
              "      <td>0.0</td>\n",
              "      <td>0.0</td>\n",
              "      <td>0.0</td>\n",
              "      <td>0.000000</td>\n",
              "      <td>0.0</td>\n",
              "      <td>0.0</td>\n",
              "      <td>0.0</td>\n",
              "      <td>0.0</td>\n",
              "      <td>0.0</td>\n",
              "      <td>0.0</td>\n",
              "      <td>0.0</td>\n",
              "      <td>0.0</td>\n",
              "      <td>0.0</td>\n",
              "      <td>0.000000</td>\n",
              "      <td>0.0</td>\n",
              "      <td>0.0</td>\n",
              "      <td>0.0</td>\n",
              "      <td>0.0</td>\n",
              "      <td>0.0</td>\n",
              "      <td>...</td>\n",
              "      <td>0.0</td>\n",
              "      <td>0.0</td>\n",
              "      <td>0.0</td>\n",
              "      <td>0.0</td>\n",
              "      <td>0.000000</td>\n",
              "      <td>0.0</td>\n",
              "      <td>0.0</td>\n",
              "      <td>0.0</td>\n",
              "      <td>0.0</td>\n",
              "      <td>0.0</td>\n",
              "      <td>0.0</td>\n",
              "      <td>0.0</td>\n",
              "      <td>0.0</td>\n",
              "      <td>0.0</td>\n",
              "      <td>0.0</td>\n",
              "      <td>0.0</td>\n",
              "      <td>0.0</td>\n",
              "      <td>0.0</td>\n",
              "      <td>0.000000</td>\n",
              "      <td>0.000000</td>\n",
              "      <td>0.0</td>\n",
              "      <td>0.0</td>\n",
              "      <td>0.000000</td>\n",
              "      <td>0.000000</td>\n",
              "      <td>0.0</td>\n",
              "      <td>0.0</td>\n",
              "      <td>0.0</td>\n",
              "      <td>0.0</td>\n",
              "      <td>0.0</td>\n",
              "      <td>0.0</td>\n",
              "      <td>0.0</td>\n",
              "      <td>0.0</td>\n",
              "      <td>0.0</td>\n",
              "      <td>0.0</td>\n",
              "      <td>0.0</td>\n",
              "      <td>0.0</td>\n",
              "      <td>0.000000</td>\n",
              "      <td>0.0</td>\n",
              "      <td>0.0</td>\n",
              "      <td>0.0</td>\n",
              "    </tr>\n",
              "    <tr>\n",
              "      <th>312</th>\n",
              "      <td>0.0</td>\n",
              "      <td>0.0</td>\n",
              "      <td>0.0</td>\n",
              "      <td>0.0</td>\n",
              "      <td>0.0</td>\n",
              "      <td>0.0</td>\n",
              "      <td>0.0</td>\n",
              "      <td>0.0</td>\n",
              "      <td>0.0</td>\n",
              "      <td>0.0</td>\n",
              "      <td>0.0</td>\n",
              "      <td>0.0</td>\n",
              "      <td>0.0</td>\n",
              "      <td>0.0</td>\n",
              "      <td>0.0</td>\n",
              "      <td>0.0</td>\n",
              "      <td>0.0</td>\n",
              "      <td>0.0</td>\n",
              "      <td>0.0</td>\n",
              "      <td>0.0</td>\n",
              "      <td>0.0</td>\n",
              "      <td>0.0</td>\n",
              "      <td>0.0</td>\n",
              "      <td>0.0</td>\n",
              "      <td>0.000000</td>\n",
              "      <td>0.0</td>\n",
              "      <td>0.0</td>\n",
              "      <td>0.0</td>\n",
              "      <td>0.0</td>\n",
              "      <td>0.0</td>\n",
              "      <td>0.0</td>\n",
              "      <td>0.0</td>\n",
              "      <td>0.0</td>\n",
              "      <td>0.0</td>\n",
              "      <td>0.000000</td>\n",
              "      <td>0.0</td>\n",
              "      <td>0.0</td>\n",
              "      <td>0.0</td>\n",
              "      <td>0.0</td>\n",
              "      <td>0.0</td>\n",
              "      <td>...</td>\n",
              "      <td>0.0</td>\n",
              "      <td>0.0</td>\n",
              "      <td>0.0</td>\n",
              "      <td>0.0</td>\n",
              "      <td>0.000000</td>\n",
              "      <td>0.0</td>\n",
              "      <td>0.0</td>\n",
              "      <td>0.0</td>\n",
              "      <td>0.0</td>\n",
              "      <td>0.0</td>\n",
              "      <td>0.0</td>\n",
              "      <td>0.0</td>\n",
              "      <td>0.0</td>\n",
              "      <td>0.0</td>\n",
              "      <td>0.0</td>\n",
              "      <td>0.0</td>\n",
              "      <td>0.0</td>\n",
              "      <td>0.0</td>\n",
              "      <td>0.000000</td>\n",
              "      <td>0.000000</td>\n",
              "      <td>0.0</td>\n",
              "      <td>0.0</td>\n",
              "      <td>0.000000</td>\n",
              "      <td>0.532169</td>\n",
              "      <td>0.0</td>\n",
              "      <td>0.0</td>\n",
              "      <td>0.0</td>\n",
              "      <td>0.0</td>\n",
              "      <td>0.0</td>\n",
              "      <td>0.0</td>\n",
              "      <td>0.0</td>\n",
              "      <td>0.0</td>\n",
              "      <td>0.0</td>\n",
              "      <td>0.0</td>\n",
              "      <td>0.0</td>\n",
              "      <td>0.0</td>\n",
              "      <td>0.000000</td>\n",
              "      <td>0.0</td>\n",
              "      <td>0.0</td>\n",
              "      <td>0.0</td>\n",
              "    </tr>\n",
              "    <tr>\n",
              "      <th>313</th>\n",
              "      <td>0.0</td>\n",
              "      <td>0.0</td>\n",
              "      <td>0.0</td>\n",
              "      <td>0.0</td>\n",
              "      <td>0.0</td>\n",
              "      <td>0.0</td>\n",
              "      <td>0.0</td>\n",
              "      <td>0.0</td>\n",
              "      <td>0.0</td>\n",
              "      <td>0.0</td>\n",
              "      <td>0.0</td>\n",
              "      <td>0.0</td>\n",
              "      <td>0.0</td>\n",
              "      <td>0.0</td>\n",
              "      <td>0.0</td>\n",
              "      <td>0.0</td>\n",
              "      <td>0.0</td>\n",
              "      <td>0.0</td>\n",
              "      <td>0.0</td>\n",
              "      <td>0.0</td>\n",
              "      <td>0.0</td>\n",
              "      <td>0.0</td>\n",
              "      <td>0.0</td>\n",
              "      <td>0.0</td>\n",
              "      <td>0.545573</td>\n",
              "      <td>0.0</td>\n",
              "      <td>0.0</td>\n",
              "      <td>0.0</td>\n",
              "      <td>0.0</td>\n",
              "      <td>0.0</td>\n",
              "      <td>0.0</td>\n",
              "      <td>0.0</td>\n",
              "      <td>0.0</td>\n",
              "      <td>0.0</td>\n",
              "      <td>0.000000</td>\n",
              "      <td>0.0</td>\n",
              "      <td>0.0</td>\n",
              "      <td>0.0</td>\n",
              "      <td>0.0</td>\n",
              "      <td>0.0</td>\n",
              "      <td>...</td>\n",
              "      <td>0.0</td>\n",
              "      <td>0.0</td>\n",
              "      <td>0.0</td>\n",
              "      <td>0.0</td>\n",
              "      <td>0.000000</td>\n",
              "      <td>0.0</td>\n",
              "      <td>0.0</td>\n",
              "      <td>0.0</td>\n",
              "      <td>0.0</td>\n",
              "      <td>0.0</td>\n",
              "      <td>0.0</td>\n",
              "      <td>0.0</td>\n",
              "      <td>0.0</td>\n",
              "      <td>0.0</td>\n",
              "      <td>0.0</td>\n",
              "      <td>0.0</td>\n",
              "      <td>0.0</td>\n",
              "      <td>0.0</td>\n",
              "      <td>0.000000</td>\n",
              "      <td>0.000000</td>\n",
              "      <td>0.0</td>\n",
              "      <td>0.0</td>\n",
              "      <td>0.000000</td>\n",
              "      <td>0.000000</td>\n",
              "      <td>0.0</td>\n",
              "      <td>0.0</td>\n",
              "      <td>0.0</td>\n",
              "      <td>0.0</td>\n",
              "      <td>0.0</td>\n",
              "      <td>0.0</td>\n",
              "      <td>0.0</td>\n",
              "      <td>0.0</td>\n",
              "      <td>0.0</td>\n",
              "      <td>0.0</td>\n",
              "      <td>0.0</td>\n",
              "      <td>0.0</td>\n",
              "      <td>0.000000</td>\n",
              "      <td>0.0</td>\n",
              "      <td>0.0</td>\n",
              "      <td>0.0</td>\n",
              "    </tr>\n",
              "    <tr>\n",
              "      <th>314</th>\n",
              "      <td>0.0</td>\n",
              "      <td>0.0</td>\n",
              "      <td>0.0</td>\n",
              "      <td>0.0</td>\n",
              "      <td>0.0</td>\n",
              "      <td>0.0</td>\n",
              "      <td>0.0</td>\n",
              "      <td>0.0</td>\n",
              "      <td>0.0</td>\n",
              "      <td>0.0</td>\n",
              "      <td>0.0</td>\n",
              "      <td>0.0</td>\n",
              "      <td>0.0</td>\n",
              "      <td>0.0</td>\n",
              "      <td>0.0</td>\n",
              "      <td>0.0</td>\n",
              "      <td>0.0</td>\n",
              "      <td>0.0</td>\n",
              "      <td>0.0</td>\n",
              "      <td>0.0</td>\n",
              "      <td>0.0</td>\n",
              "      <td>0.0</td>\n",
              "      <td>0.0</td>\n",
              "      <td>0.0</td>\n",
              "      <td>0.000000</td>\n",
              "      <td>0.0</td>\n",
              "      <td>0.0</td>\n",
              "      <td>0.0</td>\n",
              "      <td>0.0</td>\n",
              "      <td>0.0</td>\n",
              "      <td>0.0</td>\n",
              "      <td>0.0</td>\n",
              "      <td>0.0</td>\n",
              "      <td>0.0</td>\n",
              "      <td>0.000000</td>\n",
              "      <td>0.0</td>\n",
              "      <td>0.0</td>\n",
              "      <td>0.0</td>\n",
              "      <td>0.0</td>\n",
              "      <td>0.0</td>\n",
              "      <td>...</td>\n",
              "      <td>0.0</td>\n",
              "      <td>0.0</td>\n",
              "      <td>0.0</td>\n",
              "      <td>0.0</td>\n",
              "      <td>0.000000</td>\n",
              "      <td>0.0</td>\n",
              "      <td>0.0</td>\n",
              "      <td>0.0</td>\n",
              "      <td>0.0</td>\n",
              "      <td>0.0</td>\n",
              "      <td>0.0</td>\n",
              "      <td>0.0</td>\n",
              "      <td>0.0</td>\n",
              "      <td>0.0</td>\n",
              "      <td>0.0</td>\n",
              "      <td>0.0</td>\n",
              "      <td>0.0</td>\n",
              "      <td>0.0</td>\n",
              "      <td>0.000000</td>\n",
              "      <td>0.779875</td>\n",
              "      <td>0.0</td>\n",
              "      <td>0.0</td>\n",
              "      <td>0.000000</td>\n",
              "      <td>0.000000</td>\n",
              "      <td>0.0</td>\n",
              "      <td>0.0</td>\n",
              "      <td>0.0</td>\n",
              "      <td>0.0</td>\n",
              "      <td>0.0</td>\n",
              "      <td>0.0</td>\n",
              "      <td>0.0</td>\n",
              "      <td>0.0</td>\n",
              "      <td>0.0</td>\n",
              "      <td>0.0</td>\n",
              "      <td>0.0</td>\n",
              "      <td>0.0</td>\n",
              "      <td>0.000000</td>\n",
              "      <td>0.0</td>\n",
              "      <td>0.0</td>\n",
              "      <td>0.0</td>\n",
              "    </tr>\n",
              "  </tbody>\n",
              "</table>\n",
              "<p>315 rows × 237 columns</p>\n",
              "</div>"
            ],
            "text/plain": [
              "     0    1    2    3    4    5    6    ...  230  231  232       233  234  235  236\n",
              "0    0.0  0.0  0.0  0.0  0.0  0.0  0.0  ...  0.0  0.0  0.0  0.000000  0.0  0.0  0.0\n",
              "1    0.0  0.0  0.0  0.0  0.0  0.0  0.0  ...  0.0  0.0  0.0  0.000000  0.0  0.0  0.0\n",
              "2    0.0  0.0  0.0  0.0  0.0  0.0  0.0  ...  0.0  0.0  0.0  0.000000  0.0  0.0  0.0\n",
              "3    0.0  0.0  0.0  0.0  0.0  0.0  0.0  ...  0.0  0.0  0.0  0.000000  0.0  0.0  0.0\n",
              "4    0.0  0.0  0.0  0.0  0.0  0.0  0.0  ...  0.0  0.0  0.0  0.335925  0.0  0.0  0.0\n",
              "..   ...  ...  ...  ...  ...  ...  ...  ...  ...  ...  ...       ...  ...  ...  ...\n",
              "310  0.0  0.0  0.0  0.0  0.0  0.0  0.0  ...  0.0  0.0  0.0  0.000000  0.0  0.0  0.0\n",
              "311  0.0  0.0  0.0  0.0  0.0  0.0  0.0  ...  0.0  0.0  0.0  0.000000  0.0  0.0  0.0\n",
              "312  0.0  0.0  0.0  0.0  0.0  0.0  0.0  ...  0.0  0.0  0.0  0.000000  0.0  0.0  0.0\n",
              "313  0.0  0.0  0.0  0.0  0.0  0.0  0.0  ...  0.0  0.0  0.0  0.000000  0.0  0.0  0.0\n",
              "314  0.0  0.0  0.0  0.0  0.0  0.0  0.0  ...  0.0  0.0  0.0  0.000000  0.0  0.0  0.0\n",
              "\n",
              "[315 rows x 237 columns]"
            ]
          },
          "metadata": {
            "tags": []
          },
          "execution_count": 317
        }
      ]
    },
    {
      "cell_type": "markdown",
      "metadata": {
        "id": "G7HBxE1rnA1d",
        "colab_type": "text"
      },
      "source": [
        "#Splitting our dataset into Training and Validation Set"
      ]
    },
    {
      "cell_type": "code",
      "metadata": {
        "id": "-oM8qRlIm-DL",
        "colab_type": "code",
        "outputId": "3a2ed2d6-add4-4d4f-939e-4e4d33433a22",
        "colab": {
          "base_uri": "https://localhost:8080/",
          "height": 136
        }
      },
      "source": [
        "train_bow = bow[:31962]\n",
        "train_bow.todense()"
      ],
      "execution_count": 318,
      "outputs": [
        {
          "output_type": "execute_result",
          "data": {
            "text/plain": [
              "matrix([[0, 0, 0, ..., 0, 0, 0],\n",
              "        [0, 0, 0, ..., 0, 0, 0],\n",
              "        [0, 0, 0, ..., 0, 0, 0],\n",
              "        ...,\n",
              "        [0, 0, 0, ..., 0, 0, 0],\n",
              "        [0, 0, 0, ..., 0, 0, 0],\n",
              "        [0, 0, 0, ..., 0, 0, 0]])"
            ]
          },
          "metadata": {
            "tags": []
          },
          "execution_count": 318
        }
      ]
    },
    {
      "cell_type": "code",
      "metadata": {
        "id": "Uc4I6iSunDkw",
        "colab_type": "code",
        "outputId": "adc4f426-bd71-45e3-c90a-d94144125456",
        "colab": {
          "base_uri": "https://localhost:8080/",
          "height": 136
        }
      },
      "source": [
        "#Using features from TF-IDF for training set\n",
        "train_tfidf_matrix = tfidf_matrix[:31962]\n",
        "\n",
        "train_tfidf_matrix.todense()"
      ],
      "execution_count": 319,
      "outputs": [
        {
          "output_type": "execute_result",
          "data": {
            "text/plain": [
              "matrix([[0., 0., 0., ..., 0., 0., 0.],\n",
              "        [0., 0., 0., ..., 0., 0., 0.],\n",
              "        [0., 0., 0., ..., 0., 0., 0.],\n",
              "        ...,\n",
              "        [0., 0., 0., ..., 0., 0., 0.],\n",
              "        [0., 0., 0., ..., 0., 0., 0.],\n",
              "        [0., 0., 0., ..., 0., 0., 0.]])"
            ]
          },
          "metadata": {
            "tags": []
          },
          "execution_count": 319
        }
      ]
    },
    {
      "cell_type": "code",
      "metadata": {
        "id": "nOme3EaenFOO",
        "colab_type": "code",
        "outputId": "7a9e3315-5587-4f75-cd9c-768a639af4b9",
        "colab": {
          "base_uri": "https://localhost:8080/",
          "height": 419
        }
      },
      "source": [
        "from sklearn.preprocessing import LabelEncoder\n",
        "number = LabelEncoder ()\n",
        "df['sentiments'] = number.fit_transform(df['sentiments'].astype('str'))\n",
        "df"
      ],
      "execution_count": 320,
      "outputs": [
        {
          "output_type": "execute_result",
          "data": {
            "text/html": [
              "<div>\n",
              "<style scoped>\n",
              "    .dataframe tbody tr th:only-of-type {\n",
              "        vertical-align: middle;\n",
              "    }\n",
              "\n",
              "    .dataframe tbody tr th {\n",
              "        vertical-align: top;\n",
              "    }\n",
              "\n",
              "    .dataframe thead th {\n",
              "        text-align: right;\n",
              "    }\n",
              "</style>\n",
              "<table border=\"1\" class=\"dataframe\">\n",
              "  <thead>\n",
              "    <tr style=\"text-align: right;\">\n",
              "      <th></th>\n",
              "      <th>cids</th>\n",
              "      <th>sentences</th>\n",
              "      <th>sentiments</th>\n",
              "      <th>NP</th>\n",
              "    </tr>\n",
              "  </thead>\n",
              "  <tbody>\n",
              "    <tr>\n",
              "      <th>0</th>\n",
              "      <td>0</td>\n",
              "      <td>What is really like a lot of people in this ho...</td>\n",
              "      <td>2</td>\n",
              "      <td>[lot, people, hospital]</td>\n",
              "    </tr>\n",
              "    <tr>\n",
              "      <th>1</th>\n",
              "      <td>0</td>\n",
              "      <td>Most smiling Greetings care patients and those...</td>\n",
              "      <td>2</td>\n",
              "      <td>[Greetings care patients, service]</td>\n",
              "    </tr>\n",
              "    <tr>\n",
              "      <th>2</th>\n",
              "      <td>0</td>\n",
              "      <td>Talk relax at all</td>\n",
              "      <td>2</td>\n",
              "      <td>[Talk relax]</td>\n",
              "    </tr>\n",
              "    <tr>\n",
              "      <th>3</th>\n",
              "      <td>0</td>\n",
              "      <td>Most of the doctors I had the good hearted peo...</td>\n",
              "      <td>1</td>\n",
              "      <td>[doctors, people, someone]</td>\n",
              "    </tr>\n",
              "    <tr>\n",
              "      <th>4</th>\n",
              "      <td>0</td>\n",
              "      <td>The Department of Medicine Private rooms are O...</td>\n",
              "      <td>2</td>\n",
              "      <td>[rooms, price]</td>\n",
              "    </tr>\n",
              "    <tr>\n",
              "      <th>...</th>\n",
              "      <td>...</td>\n",
              "      <td>...</td>\n",
              "      <td>...</td>\n",
              "      <td>...</td>\n",
              "    </tr>\n",
              "    <tr>\n",
              "      <th>310</th>\n",
              "      <td>76</td>\n",
              "      <td>You make little treat</td>\n",
              "      <td>2</td>\n",
              "      <td>[treat]</td>\n",
              "    </tr>\n",
              "    <tr>\n",
              "      <th>311</th>\n",
              "      <td>77</td>\n",
              "      <td>Impressive fast enough</td>\n",
              "      <td>2</td>\n",
              "      <td>[]</td>\n",
              "    </tr>\n",
              "    <tr>\n",
              "      <th>312</th>\n",
              "      <td>78</td>\n",
              "      <td>If you find a common disease such as flu usual...</td>\n",
              "      <td>0</td>\n",
              "      <td>[disease, flu, doctor, hospital channel]</td>\n",
              "    </tr>\n",
              "    <tr>\n",
              "      <th>313</th>\n",
              "      <td>79</td>\n",
              "      <td>Good nursing care is a preliminary inquiry</td>\n",
              "      <td>2</td>\n",
              "      <td>[nursing care, inquiry]</td>\n",
              "    </tr>\n",
              "    <tr>\n",
              "      <th>314</th>\n",
              "      <td>79</td>\n",
              "      <td>Doctors advise more on prevention than treatment</td>\n",
              "      <td>1</td>\n",
              "      <td>[Doctors, prevention, treatment]</td>\n",
              "    </tr>\n",
              "  </tbody>\n",
              "</table>\n",
              "<p>315 rows × 4 columns</p>\n",
              "</div>"
            ],
            "text/plain": [
              "     cids  ...                                        NP\n",
              "0       0  ...                   [lot, people, hospital]\n",
              "1       0  ...        [Greetings care patients, service]\n",
              "2       0  ...                              [Talk relax]\n",
              "3       0  ...                [doctors, people, someone]\n",
              "4       0  ...                            [rooms, price]\n",
              "..    ...  ...                                       ...\n",
              "310    76  ...                                   [treat]\n",
              "311    77  ...                                        []\n",
              "312    78  ...  [disease, flu, doctor, hospital channel]\n",
              "313    79  ...                   [nursing care, inquiry]\n",
              "314    79  ...          [Doctors, prevention, treatment]\n",
              "\n",
              "[315 rows x 4 columns]"
            ]
          },
          "metadata": {
            "tags": []
          },
          "execution_count": 320
        }
      ]
    },
    {
      "cell_type": "code",
      "metadata": {
        "id": "De9ausc9tf5U",
        "colab_type": "code",
        "colab": {}
      },
      "source": [
        ""
      ],
      "execution_count": 0,
      "outputs": []
    },
    {
      "cell_type": "code",
      "metadata": {
        "id": "vL1ZSLaenHSR",
        "colab_type": "code",
        "outputId": "2b06963e-163e-41e4-8c89-18855688bfe8",
        "colab": {
          "base_uri": "https://localhost:8080/",
          "height": 279
        }
      },
      "source": [
        "# Neutral label : 0 , Negative label : 1 , Positive  label : 2\n",
        "import seaborn as sns\n",
        "sns.countplot(df['sentiments'])\n",
        "sns.despine()"
      ],
      "execution_count": 321,
      "outputs": [
        {
          "output_type": "display_data",
          "data": {
            "image/png": "[encoded data removed]",
            "text/plain": [
              "<Figure size 432x288 with 1 Axes>"
            ]
          },
          "metadata": {
            "tags": [],
            "needs_background": "light"
          }
        }
      ]
    },
    {
      "cell_type": "code",
      "metadata": {
        "id": "b9IfcL_lsCNJ",
        "colab_type": "code",
        "colab": {}
      },
      "source": [
        ""
      ],
      "execution_count": 0,
      "outputs": []
    },
    {
      "cell_type": "code",
      "metadata": {
        "id": "rtedGOpTnJ0L",
        "colab_type": "code",
        "colab": {}
      },
      "source": [
        "#Splitting the data into training and validation set\n",
        "from sklearn.model_selection import train_test_split"
      ],
      "execution_count": 0,
      "outputs": []
    },
    {
      "cell_type": "code",
      "metadata": {
        "id": "SzQjr86ipWPW",
        "colab_type": "code",
        "colab": {}
      },
      "source": [
        "x_train_bow, x_valid_bow, y_train_bow, y_valid_bow = train_test_split(train_bow,df['sentiments'],test_size=0.3,random_state=0)"
      ],
      "execution_count": 0,
      "outputs": []
    },
    {
      "cell_type": "code",
      "metadata": {
        "id": "mgefgKXPpYMU",
        "colab_type": "code",
        "colab": {}
      },
      "source": [
        "x_train_tfidf, x_valid_tfidf, y_train_tfidf, y_valid_tfidf = train_test_split(train_tfidf_matrix,df['sentiments'],test_size=0.3,random_state=0)"
      ],
      "execution_count": 0,
      "outputs": []
    },
    {
      "cell_type": "code",
      "metadata": {
        "id": "XWy__UT8pamr",
        "colab_type": "code",
        "outputId": "56d64c86-8953-41c0-a14e-ecc1a5b7992c",
        "colab": {
          "base_uri": "https://localhost:8080/",
          "height": 34
        }
      },
      "source": [
        "x_train_bow.shape"
      ],
      "execution_count": 325,
      "outputs": [
        {
          "output_type": "execute_result",
          "data": {
            "text/plain": [
              "(220, 237)"
            ]
          },
          "metadata": {
            "tags": []
          },
          "execution_count": 325
        }
      ]
    },
    {
      "cell_type": "code",
      "metadata": {
        "id": "-DrLSyuBpc2O",
        "colab_type": "code",
        "outputId": "4737d843-cba0-488f-ee15-229d3c9cebf8",
        "colab": {
          "base_uri": "https://localhost:8080/",
          "height": 34
        }
      },
      "source": [
        "x_valid_bow.shape"
      ],
      "execution_count": 326,
      "outputs": [
        {
          "output_type": "execute_result",
          "data": {
            "text/plain": [
              "(95, 237)"
            ]
          },
          "metadata": {
            "tags": []
          },
          "execution_count": 326
        }
      ]
    },
    {
      "cell_type": "code",
      "metadata": {
        "id": "Gz6-q_t_pee9",
        "colab_type": "code",
        "outputId": "16cb2280-ff49-48ed-8961-93b48817287d",
        "colab": {
          "base_uri": "https://localhost:8080/",
          "height": 34
        }
      },
      "source": [
        "y_train_bow.shape"
      ],
      "execution_count": 327,
      "outputs": [
        {
          "output_type": "execute_result",
          "data": {
            "text/plain": [
              "(220,)"
            ]
          },
          "metadata": {
            "tags": []
          },
          "execution_count": 327
        }
      ]
    },
    {
      "cell_type": "code",
      "metadata": {
        "id": "BL59CNAZpgj-",
        "colab_type": "code",
        "outputId": "c3ad81bb-4292-45b2-b96b-996ebac58a07",
        "colab": {
          "base_uri": "https://localhost:8080/",
          "height": 34
        }
      },
      "source": [
        "y_valid_bow.shape"
      ],
      "execution_count": 328,
      "outputs": [
        {
          "output_type": "execute_result",
          "data": {
            "text/plain": [
              "(95,)"
            ]
          },
          "metadata": {
            "tags": []
          },
          "execution_count": 328
        }
      ]
    },
    {
      "cell_type": "markdown",
      "metadata": {
        "id": "RxpzNxgypkuc",
        "colab_type": "text"
      },
      "source": [
        "#Applying Machine Learning Models"
      ]
    },
    {
      "cell_type": "code",
      "metadata": {
        "id": "yjbN2zqmxe1H",
        "colab_type": "code",
        "colab": {}
      },
      "source": [
        "from sklearn.metrics import f1_score"
      ],
      "execution_count": 0,
      "outputs": []
    },
    {
      "cell_type": "code",
      "metadata": {
        "id": "-JaZIX4M0eKG",
        "colab_type": "code",
        "colab": {}
      },
      "source": [
        "#Logistic Regression\n",
        "from sklearn.linear_model import LogisticRegression\n",
        "LR = LogisticRegression()\n",
        "LR = LR.fit(x_train_bow,y_train_bow)"
      ],
      "execution_count": 0,
      "outputs": []
    },
    {
      "cell_type": "code",
      "metadata": {
        "id": "iV313VGj0gDK",
        "colab_type": "code",
        "colab": {
          "base_uri": "https://localhost:8080/",
          "height": 1000
        },
        "outputId": "0aeae1a4-b70b-4146-afa1-fc91d68bb2a1"
      },
      "source": [
        "prediction_bow = LR.predict_proba(x_valid_bow)\n",
        "prediction_bow"
      ],
      "execution_count": 331,
      "outputs": [
        {
          "output_type": "execute_result",
          "data": {
            "text/plain": [
              "array([[0.06476952, 0.04478725, 0.89044323],\n",
              "       [0.0688247 , 0.6114077 , 0.3197676 ],\n",
              "       [0.07741902, 0.65965246, 0.26292851],\n",
              "       [0.06285499, 0.7248907 , 0.21225431],\n",
              "       [0.11313012, 0.34475001, 0.54211987],\n",
              "       [0.11315154, 0.59554496, 0.2913035 ],\n",
              "       [0.4736922 , 0.11873475, 0.40757304],\n",
              "       [0.02949456, 0.19258661, 0.77791883],\n",
              "       [0.14105645, 0.10005252, 0.75889103],\n",
              "       [0.1326155 , 0.40589756, 0.46148694],\n",
              "       [0.15981589, 0.27861653, 0.56156758],\n",
              "       [0.53292881, 0.35255255, 0.11451865],\n",
              "       [0.15292865, 0.64498628, 0.20208507],\n",
              "       [0.11236727, 0.33592959, 0.55170315],\n",
              "       [0.0708516 , 0.71063443, 0.21851397],\n",
              "       [0.11531886, 0.63604669, 0.24863445],\n",
              "       [0.07362187, 0.79042248, 0.13595566],\n",
              "       [0.07014628, 0.75568909, 0.17416463],\n",
              "       [0.05048472, 0.89388511, 0.05563017],\n",
              "       [0.21448722, 0.61051497, 0.17499781],\n",
              "       [0.39532545, 0.46101468, 0.14365987],\n",
              "       [0.12011475, 0.41742097, 0.46246428],\n",
              "       [0.18682005, 0.30951562, 0.50366433],\n",
              "       [0.10169322, 0.66212558, 0.2361812 ],\n",
              "       [0.11531886, 0.63604669, 0.24863445],\n",
              "       [0.00116519, 0.00450578, 0.99432903],\n",
              "       [0.26757895, 0.52484568, 0.20757537],\n",
              "       [0.18225446, 0.58639944, 0.2313461 ],\n",
              "       [0.11882319, 0.51531138, 0.36586543],\n",
              "       [0.01730419, 0.00269727, 0.97999854],\n",
              "       [0.35837728, 0.45668435, 0.18493837],\n",
              "       [0.09963523, 0.06101962, 0.83934515],\n",
              "       [0.05203945, 0.45851874, 0.48944181],\n",
              "       [0.13730561, 0.56626806, 0.29642633],\n",
              "       [0.08915764, 0.10906396, 0.8017784 ],\n",
              "       [0.0874165 , 0.74957468, 0.16300882],\n",
              "       [0.03015835, 0.03003033, 0.93981132],\n",
              "       [0.17356889, 0.42740304, 0.39902807],\n",
              "       [0.15489774, 0.26556188, 0.57954038],\n",
              "       [0.14133232, 0.58962815, 0.26903953],\n",
              "       [0.04965204, 0.71164731, 0.23870065],\n",
              "       [0.04031643, 0.15361445, 0.80606913],\n",
              "       [0.09959712, 0.31887094, 0.58153194],\n",
              "       [0.09758396, 0.69133294, 0.2110831 ],\n",
              "       [0.2746882 , 0.44102319, 0.28428861],\n",
              "       [0.10995063, 0.19365978, 0.69638958],\n",
              "       [0.01347198, 0.00291152, 0.9836165 ],\n",
              "       [0.11036283, 0.1920037 , 0.69763347],\n",
              "       [0.01395324, 0.12795852, 0.85808825],\n",
              "       [0.11531886, 0.63604669, 0.24863445],\n",
              "       [0.0721745 , 0.77200721, 0.15581829],\n",
              "       [0.06288724, 0.02496985, 0.9121429 ],\n",
              "       [0.06460618, 0.37787404, 0.55751978],\n",
              "       [0.20012561, 0.40924272, 0.39063166],\n",
              "       [0.13042287, 0.48589644, 0.38368069],\n",
              "       [0.16111088, 0.59608651, 0.24280262],\n",
              "       [0.05245859, 0.81916064, 0.12838077],\n",
              "       [0.04810104, 0.3169272 , 0.63497176],\n",
              "       [0.05545076, 0.65378095, 0.29076829],\n",
              "       [0.14100403, 0.43780568, 0.4211903 ],\n",
              "       [0.27485807, 0.45963522, 0.26550671],\n",
              "       [0.25237856, 0.60310324, 0.1445182 ],\n",
              "       [0.11443508, 0.61355795, 0.27200698],\n",
              "       [0.14789712, 0.23085603, 0.62124685],\n",
              "       [0.09948163, 0.69889065, 0.20162772],\n",
              "       [0.11396946, 0.29179875, 0.59423179],\n",
              "       [0.07282979, 0.53102167, 0.39614854],\n",
              "       [0.08923071, 0.70836679, 0.2024025 ],\n",
              "       [0.05658759, 0.83673093, 0.10668148],\n",
              "       [0.10324033, 0.65914523, 0.23761445],\n",
              "       [0.18321113, 0.46293249, 0.35385638],\n",
              "       [0.06632034, 0.80075159, 0.13292807],\n",
              "       [0.24561504, 0.33944798, 0.41493698],\n",
              "       [0.09773075, 0.48305925, 0.41920999],\n",
              "       [0.11962589, 0.66482655, 0.21554756],\n",
              "       [0.12357817, 0.62333035, 0.25309147],\n",
              "       [0.28210402, 0.37838774, 0.33950824],\n",
              "       [0.06680098, 0.19859848, 0.73460054],\n",
              "       [0.28776697, 0.31604235, 0.39619068],\n",
              "       [0.45221048, 0.30382653, 0.24396299],\n",
              "       [0.11531886, 0.63604669, 0.24863445],\n",
              "       [0.01450033, 0.0333987 , 0.95210096],\n",
              "       [0.1234115 , 0.40973751, 0.46685098],\n",
              "       [0.21948594, 0.27007285, 0.51044121],\n",
              "       [0.09024279, 0.72210498, 0.18765223],\n",
              "       [0.02275541, 0.01071   , 0.96653459],\n",
              "       [0.13294262, 0.28597449, 0.58108289],\n",
              "       [0.14778199, 0.68321601, 0.169002  ],\n",
              "       [0.16572345, 0.25036922, 0.58390733],\n",
              "       [0.15626306, 0.55296546, 0.29077148],\n",
              "       [0.2836974 , 0.48485892, 0.23144368],\n",
              "       [0.08465199, 0.56288898, 0.35245903],\n",
              "       [0.1344895 , 0.36849503, 0.49701547],\n",
              "       [0.18510952, 0.17824635, 0.63664413],\n",
              "       [0.08088325, 0.66051502, 0.25860173]])"
            ]
          },
          "metadata": {
            "tags": []
          },
          "execution_count": 331
        }
      ]
    },
    {
      "cell_type": "code",
      "metadata": {
        "id": "ivUqFLGg-QND",
        "colab_type": "code",
        "colab": {
          "base_uri": "https://localhost:8080/",
          "height": 34
        },
        "outputId": "e5918059-496c-4382-f442-c0792bb42165"
      },
      "source": [
        "#Calculating the F1 score\n",
        "# if prediction is equal to 2 else 1 where 2 is for positive comments and 1 for negative sentiment comments\n",
        "prediction_int = prediction_bow[:,1]>=0.3\n",
        "\n",
        "# converting the results to integer type\n",
        "prediction_int = prediction_int.astype(np.int)\n",
        "prediction_int\n",
        "\n",
        "# calculating f1 score\n",
        "log_bow = f1_score(y_valid_bow, prediction_int,average='micro')\n",
        "\n",
        "log_bow"
      ],
      "execution_count": 332,
      "outputs": [
        {
          "output_type": "execute_result",
          "data": {
            "text/plain": [
              "0.3157894736842105"
            ]
          },
          "metadata": {
            "tags": []
          },
          "execution_count": 332
        }
      ]
    },
    {
      "cell_type": "code",
      "metadata": {
        "id": "bdo8LDvk4QUb",
        "colab_type": "code",
        "colab": {
          "base_uri": "https://localhost:8080/",
          "height": 102
        },
        "outputId": "92ea9731-f4ae-49c9-b45a-219e576ff9ef"
      },
      "source": [
        "LR.fit(x_train_tfidf,y_train_tfidf)\n"
      ],
      "execution_count": 333,
      "outputs": [
        {
          "output_type": "execute_result",
          "data": {
            "text/plain": [
              "LogisticRegression(C=1.0, class_weight=None, dual=False, fit_intercept=True,\n",
              "                   intercept_scaling=1, l1_ratio=None, max_iter=100,\n",
              "                   multi_class='auto', n_jobs=None, penalty='l2',\n",
              "                   random_state=None, solver='lbfgs', tol=0.0001, verbose=0,\n",
              "                   warm_start=False)"
            ]
          },
          "metadata": {
            "tags": []
          },
          "execution_count": 333
        }
      ]
    },
    {
      "cell_type": "code",
      "metadata": {
        "id": "TUIuqy52xtX1",
        "colab_type": "code",
        "outputId": "12d00d40-a784-47ff-a7cc-c1f8f56ee2b3",
        "colab": {
          "base_uri": "https://localhost:8080/",
          "height": 1000
        }
      },
      "source": [
        "prediction_tfidf = LR.predict_proba(x_valid_tfidf)\n",
        "\n",
        "prediction_tfidf"
      ],
      "execution_count": 334,
      "outputs": [
        {
          "output_type": "execute_result",
          "data": {
            "text/plain": [
              "array([[0.15795424, 0.26168902, 0.58035674],\n",
              "       [0.1004615 , 0.47510799, 0.42443051],\n",
              "       [0.11299884, 0.49708521, 0.38991596],\n",
              "       [0.12213513, 0.56911635, 0.30874852],\n",
              "       [0.13909105, 0.40237131, 0.45853763],\n",
              "       [0.13588329, 0.4715015 , 0.39261521],\n",
              "       [0.2917903 , 0.20890461, 0.49930509],\n",
              "       [0.07731372, 0.28066458, 0.64202169],\n",
              "       [0.20036562, 0.18148581, 0.61814858],\n",
              "       [0.12058307, 0.37248348, 0.50693345],\n",
              "       [0.14232076, 0.32603105, 0.53164818],\n",
              "       [0.28911904, 0.4734963 , 0.23738467],\n",
              "       [0.18229461, 0.52371124, 0.29399415],\n",
              "       [0.13888684, 0.42264919, 0.43846396],\n",
              "       [0.10978168, 0.53890821, 0.35131011],\n",
              "       [0.1433703 , 0.51655213, 0.34007757],\n",
              "       [0.1112435 , 0.64892307, 0.23983344],\n",
              "       [0.12358472, 0.60476438, 0.2716509 ],\n",
              "       [0.10966749, 0.69112039, 0.19921212],\n",
              "       [0.19182472, 0.54363241, 0.26454287],\n",
              "       [0.24115215, 0.47725788, 0.28158997],\n",
              "       [0.15060173, 0.37093713, 0.47846113],\n",
              "       [0.14372308, 0.37312933, 0.48314759],\n",
              "       [0.13135491, 0.65888004, 0.20976505],\n",
              "       [0.1433703 , 0.51655213, 0.34007757],\n",
              "       [0.06951613, 0.2126712 , 0.71781268],\n",
              "       [0.24648982, 0.45235046, 0.30115973],\n",
              "       [0.17323923, 0.52521988, 0.30154089],\n",
              "       [0.14934649, 0.461697  , 0.38895651],\n",
              "       [0.08748446, 0.09208948, 0.82042605],\n",
              "       [0.39319488, 0.3635343 , 0.24327082],\n",
              "       [0.14933189, 0.24005036, 0.61061775],\n",
              "       [0.10701236, 0.45297067, 0.44001697],\n",
              "       [0.15395953, 0.52755793, 0.31848254],\n",
              "       [0.15431317, 0.36042845, 0.48525838],\n",
              "       [0.11697576, 0.65414832, 0.22887592],\n",
              "       [0.11484315, 0.28134581, 0.60381104],\n",
              "       [0.17999184, 0.39734462, 0.42266353],\n",
              "       [0.17232661, 0.33214703, 0.49552636],\n",
              "       [0.1521211 , 0.52225612, 0.32562278],\n",
              "       [0.09210825, 0.61261595, 0.2952758 ],\n",
              "       [0.12981549, 0.38156304, 0.48862147],\n",
              "       [0.11580501, 0.30473296, 0.57946204],\n",
              "       [0.13156174, 0.55096651, 0.31747175],\n",
              "       [0.16948559, 0.51460155, 0.31591285],\n",
              "       [0.12004172, 0.30137457, 0.57858371],\n",
              "       [0.07276532, 0.09891117, 0.82832351],\n",
              "       [0.13982096, 0.26666178, 0.59351726],\n",
              "       [0.05168991, 0.21248494, 0.73582514],\n",
              "       [0.1433703 , 0.51655213, 0.34007757],\n",
              "       [0.09107302, 0.68087282, 0.22805416],\n",
              "       [0.1027017 , 0.11125308, 0.78604523],\n",
              "       [0.10499083, 0.28817715, 0.60683201],\n",
              "       [0.16313498, 0.4725686 , 0.36429642],\n",
              "       [0.14632019, 0.44777841, 0.4059014 ],\n",
              "       [0.16348233, 0.52967761, 0.30684005],\n",
              "       [0.10612993, 0.63640168, 0.25746839],\n",
              "       [0.10064642, 0.42066897, 0.47868461],\n",
              "       [0.09469959, 0.45626461, 0.4490358 ],\n",
              "       [0.13265681, 0.45456906, 0.41277413],\n",
              "       [0.28006099, 0.35620807, 0.36373093],\n",
              "       [0.24445965, 0.53369853, 0.22184181],\n",
              "       [0.13804225, 0.46977764, 0.39218011],\n",
              "       [0.14442108, 0.23346252, 0.6221164 ],\n",
              "       [0.12319975, 0.61115215, 0.2656481 ],\n",
              "       [0.13593632, 0.36351995, 0.50054373],\n",
              "       [0.10700311, 0.46470744, 0.42828945],\n",
              "       [0.12288696, 0.55676013, 0.32035291],\n",
              "       [0.11361678, 0.64071725, 0.24566597],\n",
              "       [0.1261211 , 0.57745289, 0.29642601],\n",
              "       [0.1804352 , 0.40241222, 0.41715258],\n",
              "       [0.11890107, 0.63608271, 0.24501622],\n",
              "       [0.22365358, 0.38100904, 0.39533739],\n",
              "       [0.12416032, 0.44714924, 0.42869044],\n",
              "       [0.15626542, 0.52153897, 0.32219561],\n",
              "       [0.14639515, 0.53020583, 0.32339902],\n",
              "       [0.2302885 , 0.36856178, 0.40114972],\n",
              "       [0.12689361, 0.33848477, 0.53462162],\n",
              "       [0.22012828, 0.41671573, 0.36315599],\n",
              "       [0.24978918, 0.41943973, 0.33077109],\n",
              "       [0.1433703 , 0.51655213, 0.34007757],\n",
              "       [0.05363512, 0.13285118, 0.8135137 ],\n",
              "       [0.14032697, 0.37027682, 0.48939621],\n",
              "       [0.17939742, 0.30192096, 0.51868162],\n",
              "       [0.12033474, 0.60973124, 0.26993402],\n",
              "       [0.09361053, 0.11060294, 0.79578652],\n",
              "       [0.11719279, 0.37215625, 0.51065096],\n",
              "       [0.15836449, 0.58370947, 0.25792604],\n",
              "       [0.14458678, 0.33293247, 0.52248075],\n",
              "       [0.16763101, 0.48857345, 0.34379554],\n",
              "       [0.1741275 , 0.5527506 , 0.2731219 ],\n",
              "       [0.11194132, 0.47356063, 0.41449806],\n",
              "       [0.14725384, 0.44931685, 0.40342932],\n",
              "       [0.19691771, 0.32885944, 0.47422285],\n",
              "       [0.12352968, 0.51507168, 0.36139863]])"
            ]
          },
          "metadata": {
            "tags": []
          },
          "execution_count": 334
        }
      ]
    },
    {
      "cell_type": "code",
      "metadata": {
        "id": "8tzjjrKDyIoR",
        "colab_type": "code",
        "outputId": "4627e3bf-20bb-4c80-ca0a-1240ef52110f",
        "colab": {
          "base_uri": "https://localhost:8080/",
          "height": 34
        }
      },
      "source": [
        "prediction_int_tfidf = prediction_tfidf[:,1]>=0.3\n",
        "\n",
        "prediction_int_tfidf = prediction_int.astype(np.int)\n",
        "prediction_int_tfidf\n",
        "\n",
        "# calculating f1 score\n",
        "log_tfidf = f1_score(y_valid_tfidf, prediction_int_tfidf,average='micro')\n",
        "\n",
        "log_tfidf"
      ],
      "execution_count": 335,
      "outputs": [
        {
          "output_type": "execute_result",
          "data": {
            "text/plain": [
              "0.3157894736842105"
            ]
          },
          "metadata": {
            "tags": []
          },
          "execution_count": 335
        }
      ]
    },
    {
      "cell_type": "code",
      "metadata": {
        "id": "CFEwwstkztuf",
        "colab_type": "code",
        "outputId": "77576397-961d-4b28-a43e-8c4cfeb493ec",
        "colab": {
          "base_uri": "https://localhost:8080/",
          "height": 1000
        }
      },
      "source": [
        "#XGBoost\n",
        "from xgboost import XGBClassifier\n",
        "model_bow = XGBClassifier(random_state=0,learning_rate=0.9)\n",
        "model_bow.fit(x_train_bow, y_train_bow)\n",
        "xgb = model_bow.predict_proba(x_valid_bow)\n",
        "\n",
        "xgb"
      ],
      "execution_count": 336,
      "outputs": [
        {
          "output_type": "execute_result",
          "data": {
            "text/plain": [
              "array([[2.61838315e-03, 9.79261659e-03, 9.87589061e-01],\n",
              "       [1.29186902e-02, 9.02924180e-01, 8.41571465e-02],\n",
              "       [4.80738878e-02, 8.03489327e-01, 1.48436755e-01],\n",
              "       [2.49560047e-02, 7.65258372e-01, 2.09785566e-01],\n",
              "       [1.47378389e-02, 1.21445768e-01, 8.63816381e-01],\n",
              "       [8.11155885e-02, 6.68425500e-01, 2.50458926e-01],\n",
              "       [7.81121790e-01, 3.43009531e-02, 1.84577271e-01],\n",
              "       [9.74369177e-04, 4.56950814e-02, 9.53330517e-01],\n",
              "       [2.63031453e-01, 3.72933736e-03, 7.33239233e-01],\n",
              "       [1.65743202e-01, 3.22494924e-01, 5.11761844e-01],\n",
              "       [3.04958582e-01, 2.45619342e-01, 4.49422032e-01],\n",
              "       [5.25468290e-01, 4.69311535e-01, 5.22015383e-03],\n",
              "       [8.11155885e-02, 6.68425500e-01, 2.50458926e-01],\n",
              "       [2.63828021e-02, 2.76656359e-01, 6.96960807e-01],\n",
              "       [7.58188069e-02, 6.24777853e-01, 2.99403310e-01],\n",
              "       [8.11155885e-02, 6.68425500e-01, 2.50458926e-01],\n",
              "       [3.89174186e-02, 8.40918124e-01, 1.20164491e-01],\n",
              "       [1.19722947e-01, 4.07841355e-01, 4.72435713e-01],\n",
              "       [4.30214964e-02, 9.33027565e-01, 2.39509623e-02],\n",
              "       [9.95505676e-02, 5.82492232e-01, 3.17957193e-01],\n",
              "       [1.68986484e-01, 4.52587247e-01, 3.78426254e-01],\n",
              "       [5.83134629e-02, 3.01706821e-01, 6.39979661e-01],\n",
              "       [5.49440801e-01, 1.44674033e-01, 3.05885166e-01],\n",
              "       [8.20112415e-03, 9.31422174e-01, 6.03767075e-02],\n",
              "       [8.11155885e-02, 6.68425500e-01, 2.50458926e-01],\n",
              "       [7.04179984e-04, 1.02255995e-04, 9.99193609e-01],\n",
              "       [8.11155885e-02, 6.68425500e-01, 2.50458926e-01],\n",
              "       [1.69931427e-01, 5.79638064e-01, 2.50430495e-01],\n",
              "       [1.88953117e-01, 1.09957933e-01, 7.01088965e-01],\n",
              "       [2.53018569e-02, 9.64101855e-05, 9.74601805e-01],\n",
              "       [8.11155885e-02, 6.68425500e-01, 2.50458926e-01],\n",
              "       [3.81507799e-02, 4.34766617e-03, 9.57501590e-01],\n",
              "       [1.29186902e-02, 9.02924180e-01, 8.41571465e-02],\n",
              "       [2.34845340e-01, 5.81335783e-01, 1.83818892e-01],\n",
              "       [1.20560296e-01, 5.15496135e-02, 8.27890098e-01],\n",
              "       [7.02265948e-02, 7.62753189e-01, 1.67020202e-01],\n",
              "       [7.31093705e-01, 1.75496947e-03, 2.67151356e-01],\n",
              "       [5.24844155e-02, 5.72182760e-02, 8.90297294e-01],\n",
              "       [1.60114631e-01, 4.14982624e-02, 7.98387110e-01],\n",
              "       [3.89174186e-02, 8.40918124e-01, 1.20164491e-01],\n",
              "       [7.01558217e-03, 8.04170251e-01, 1.88814178e-01],\n",
              "       [4.40413802e-04, 5.90029024e-02, 9.40556705e-01],\n",
              "       [4.95911762e-02, 6.93763077e-01, 2.56645709e-01],\n",
              "       [8.11155885e-02, 6.68425500e-01, 2.50458926e-01],\n",
              "       [6.81665003e-01, 1.09632336e-01, 2.08702609e-01],\n",
              "       [1.65743202e-01, 3.22494924e-01, 5.11761844e-01],\n",
              "       [5.64475171e-03, 1.30480767e-04, 9.94224727e-01],\n",
              "       [1.03445975e-02, 1.94246639e-02, 9.70230699e-01],\n",
              "       [3.25666089e-03, 2.85731908e-02, 9.68170166e-01],\n",
              "       [8.11155885e-02, 6.68425500e-01, 2.50458926e-01],\n",
              "       [4.80738878e-02, 8.03489327e-01, 1.48436755e-01],\n",
              "       [9.96966511e-02, 3.27108591e-03, 8.97032261e-01],\n",
              "       [1.31698614e-02, 7.79398233e-02, 9.08890367e-01],\n",
              "       [1.50664464e-01, 7.65589178e-01, 8.37463588e-02],\n",
              "       [1.69931427e-01, 5.79638064e-01, 2.50430495e-01],\n",
              "       [2.34845340e-01, 5.81335783e-01, 1.83818892e-01],\n",
              "       [1.61822513e-02, 7.82743216e-01, 2.01074556e-01],\n",
              "       [3.94873992e-02, 7.37247169e-01, 2.23265365e-01],\n",
              "       [2.20182482e-02, 8.68534386e-01, 1.09447435e-01],\n",
              "       [1.68267667e-01, 4.31540638e-01, 4.00191635e-01],\n",
              "       [6.63917422e-01, 1.79200411e-01, 1.56882152e-01],\n",
              "       [8.11155885e-02, 6.68425500e-01, 2.50458926e-01],\n",
              "       [8.11155885e-02, 6.68425500e-01, 2.50458926e-01],\n",
              "       [5.03017247e-01, 1.04500331e-01, 3.92482430e-01],\n",
              "       [8.11155885e-02, 6.68425500e-01, 2.50458926e-01],\n",
              "       [2.25536563e-02, 1.35818616e-01, 8.41627717e-01],\n",
              "       [5.41211106e-02, 4.45980042e-01, 4.99898881e-01],\n",
              "       [8.11155885e-02, 6.68425500e-01, 2.50458926e-01],\n",
              "       [8.11155885e-02, 6.68425500e-01, 2.50458926e-01],\n",
              "       [1.61822513e-02, 7.82743216e-01, 2.01074556e-01],\n",
              "       [8.11155885e-02, 6.68425500e-01, 2.50458926e-01],\n",
              "       [2.23516654e-02, 8.20490599e-01, 1.57157719e-01],\n",
              "       [3.24009582e-02, 2.66997099e-01, 7.00601995e-01],\n",
              "       [8.11155885e-02, 6.68425500e-01, 2.50458926e-01],\n",
              "       [8.11155885e-02, 6.68425500e-01, 2.50458926e-01],\n",
              "       [2.95236390e-02, 9.05637741e-01, 6.48386627e-02],\n",
              "       [1.38737515e-01, 4.32885468e-01, 4.28376973e-01],\n",
              "       [7.33210100e-03, 3.54657203e-01, 6.38010740e-01],\n",
              "       [2.76896775e-01, 3.13030630e-01, 4.10072535e-01],\n",
              "       [1.30016878e-01, 6.98037028e-01, 1.71946123e-01],\n",
              "       [8.11155885e-02, 6.68425500e-01, 2.50458926e-01],\n",
              "       [1.20430894e-03, 4.50799335e-03, 9.94287670e-01],\n",
              "       [3.28849219e-02, 8.23774338e-01, 1.43340766e-01],\n",
              "       [1.13813989e-01, 5.34764886e-01, 3.51421148e-01],\n",
              "       [8.11155885e-02, 6.68425500e-01, 2.50458926e-01],\n",
              "       [1.78937835e-03, 5.83819383e-05, 9.98152196e-01],\n",
              "       [1.65743202e-01, 3.22494924e-01, 5.11761844e-01],\n",
              "       [3.03930528e-02, 8.45120251e-01, 1.24486662e-01],\n",
              "       [5.56857169e-01, 2.38638580e-01, 2.04504266e-01],\n",
              "       [1.69931427e-01, 5.79638064e-01, 2.50430495e-01],\n",
              "       [5.47256291e-01, 3.90373975e-01, 6.23696893e-02],\n",
              "       [4.95911762e-02, 6.93763077e-01, 2.56645709e-01],\n",
              "       [1.02599248e-01, 5.94135106e-01, 3.03265661e-01],\n",
              "       [6.50896847e-01, 1.87626388e-02, 3.30340534e-01],\n",
              "       [8.11155885e-02, 6.68425500e-01, 2.50458926e-01]], dtype=float32)"
            ]
          },
          "metadata": {
            "tags": []
          },
          "execution_count": 336
        }
      ]
    },
    {
      "cell_type": "code",
      "metadata": {
        "id": "0SN6kFoH0Xr6",
        "colab_type": "code",
        "outputId": "102ef433-c8e5-4b7f-bf2a-ffc3f6c0cefc",
        "colab": {
          "base_uri": "https://localhost:8080/",
          "height": 34
        }
      },
      "source": [
        "xgb = xgb[:,1] >= 0.3\n",
        "\n",
        "# converting the results to integer type\n",
        "xgb_int=xgb.astype(np.int)\n",
        "\n",
        "# calculating f1 score\n",
        "xgb_bow=f1_score(y_valid_bow,xgb_int,average='micro')\n",
        "\n",
        "xgb_bow"
      ],
      "execution_count": 337,
      "outputs": [
        {
          "output_type": "execute_result",
          "data": {
            "text/plain": [
              "0.3157894736842105"
            ]
          },
          "metadata": {
            "tags": []
          },
          "execution_count": 337
        }
      ]
    },
    {
      "cell_type": "code",
      "metadata": {
        "id": "8YBw5FnP0iMP",
        "colab_type": "code",
        "outputId": "8e3fcc00-2830-40af-ae70-de1e3bf2fe7a",
        "colab": {
          "base_uri": "https://localhost:8080/",
          "height": 1000
        }
      },
      "source": [
        "model_tfidf = XGBClassifier(random_state=2,learning_rate=0.7)\n",
        "model_tfidf.fit(x_train_tfidf, y_train_tfidf)\n",
        "xgb_tfidf=model_tfidf.predict_proba(x_valid_tfidf)\n",
        "\n",
        "xgb_tfidf"
      ],
      "execution_count": 338,
      "outputs": [
        {
          "output_type": "execute_result",
          "data": {
            "text/plain": [
              "array([[2.81518195e-02, 7.34860748e-02, 8.98362100e-01],\n",
              "       [6.33304240e-03, 9.36939657e-01, 5.67273311e-02],\n",
              "       [6.73106536e-02, 7.56653905e-01, 1.76035464e-01],\n",
              "       [1.08966731e-01, 2.27875188e-01, 6.63158119e-01],\n",
              "       [4.46525291e-02, 2.80094326e-01, 6.75253153e-01],\n",
              "       [1.01132452e-01, 6.34379029e-01, 2.64488518e-01],\n",
              "       [3.01911950e-01, 3.22040826e-01, 3.76047254e-01],\n",
              "       [1.10619003e-03, 1.11678354e-02, 9.87726033e-01],\n",
              "       [6.58259094e-02, 4.78980243e-02, 8.86276007e-01],\n",
              "       [1.70795873e-01, 3.82527053e-01, 4.46677089e-01],\n",
              "       [8.24474812e-01, 5.66101559e-02, 1.18915074e-01],\n",
              "       [2.62610525e-01, 7.31612206e-01, 5.77727985e-03],\n",
              "       [1.01132452e-01, 6.34379029e-01, 2.64488518e-01],\n",
              "       [2.94183642e-02, 8.10936987e-01, 1.59644634e-01],\n",
              "       [1.01132452e-01, 6.34379029e-01, 2.64488518e-01],\n",
              "       [1.01132452e-01, 6.34379029e-01, 2.64488518e-01],\n",
              "       [6.52170926e-02, 7.64222682e-01, 1.70560241e-01],\n",
              "       [9.04208422e-02, 7.27022469e-01, 1.82556674e-01],\n",
              "       [4.84909862e-01, 4.61512417e-01, 5.35777137e-02],\n",
              "       [8.22020695e-02, 7.11053073e-01, 2.06744879e-01],\n",
              "       [1.72071770e-01, 4.86120254e-01, 3.41807932e-01],\n",
              "       [4.70423400e-02, 2.95085013e-01, 6.57872617e-01],\n",
              "       [8.10792804e-01, 5.94630390e-02, 1.29744157e-01],\n",
              "       [3.01554886e-04, 9.98985112e-01, 7.13300309e-04],\n",
              "       [1.01132452e-01, 6.34379029e-01, 2.64488518e-01],\n",
              "       [2.50672252e-04, 1.45482525e-04, 9.99603808e-01],\n",
              "       [1.01132452e-01, 6.34379029e-01, 2.64488518e-01],\n",
              "       [4.78357412e-02, 1.42407373e-01, 8.09756815e-01],\n",
              "       [3.11846048e-01, 3.34245354e-01, 3.53908539e-01],\n",
              "       [2.29399540e-02, 2.28418852e-03, 9.74775851e-01],\n",
              "       [1.01132452e-01, 6.34379029e-01, 2.64488518e-01],\n",
              "       [3.38763654e-01, 3.07732373e-02, 6.30463123e-01],\n",
              "       [1.33145437e-01, 7.97666073e-01, 6.91884831e-02],\n",
              "       [3.03192176e-02, 9.50250685e-01, 1.94300171e-02],\n",
              "       [4.79274303e-01, 1.02259487e-01, 4.18466181e-01],\n",
              "       [5.51627129e-02, 8.00571978e-01, 1.44265309e-01],\n",
              "       [8.63344133e-01, 8.23646411e-03, 1.28419444e-01],\n",
              "       [1.78957004e-02, 1.51707940e-02, 9.66933429e-01],\n",
              "       [6.66047037e-02, 5.49286753e-02, 8.78466666e-01],\n",
              "       [6.52170926e-02, 7.64222682e-01, 1.70560241e-01],\n",
              "       [1.17371436e-02, 9.38839912e-01, 4.94229384e-02],\n",
              "       [1.00952543e-01, 1.54821768e-01, 7.44225740e-01],\n",
              "       [4.90692817e-02, 5.11399627e-01, 4.39531147e-01],\n",
              "       [1.01132452e-01, 6.34379029e-01, 2.64488518e-01],\n",
              "       [7.49396086e-01, 3.61374803e-02, 2.14466453e-01],\n",
              "       [1.70795873e-01, 3.82527053e-01, 4.46677089e-01],\n",
              "       [3.72963236e-03, 4.46319347e-03, 9.91807163e-01],\n",
              "       [5.77665493e-02, 1.21917807e-01, 8.20315599e-01],\n",
              "       [2.13764864e-03, 5.58185112e-03, 9.92280483e-01],\n",
              "       [1.01132452e-01, 6.34379029e-01, 2.64488518e-01],\n",
              "       [6.73106536e-02, 7.56653905e-01, 1.76035464e-01],\n",
              "       [4.22882091e-04, 1.05259754e-03, 9.98524487e-01],\n",
              "       [7.66885504e-02, 4.01384741e-01, 5.21926761e-01],\n",
              "       [2.98363417e-02, 8.66438746e-01, 1.03724860e-01],\n",
              "       [4.78357412e-02, 1.42407373e-01, 8.09756815e-01],\n",
              "       [8.33544612e-01, 1.61274672e-01, 5.18070674e-03],\n",
              "       [2.25848779e-02, 8.57762456e-01, 1.19652681e-01],\n",
              "       [4.72362339e-02, 7.70651579e-01, 1.82112202e-01],\n",
              "       [2.33985074e-02, 9.15408134e-01, 6.11933917e-02],\n",
              "       [1.13674082e-01, 5.89037657e-01, 2.97288269e-01],\n",
              "       [1.01132452e-01, 6.34379029e-01, 2.64488518e-01],\n",
              "       [1.01132452e-01, 6.34379029e-01, 2.64488518e-01],\n",
              "       [1.01132452e-01, 6.34379029e-01, 2.64488518e-01],\n",
              "       [9.85429063e-02, 4.04030293e-01, 4.97426778e-01],\n",
              "       [1.01132452e-01, 6.34379029e-01, 2.64488518e-01],\n",
              "       [2.21249256e-02, 1.38784215e-01, 8.39090884e-01],\n",
              "       [6.12219907e-02, 3.84030461e-01, 5.54747581e-01],\n",
              "       [1.01132452e-01, 6.34379029e-01, 2.64488518e-01],\n",
              "       [1.01132452e-01, 6.34379029e-01, 2.64488518e-01],\n",
              "       [2.72172242e-02, 7.73930430e-01, 1.98852301e-01],\n",
              "       [1.01132452e-01, 6.34379029e-01, 2.64488518e-01],\n",
              "       [3.45867909e-02, 8.74959469e-01, 9.04537514e-02],\n",
              "       [1.01132452e-01, 6.34379029e-01, 2.64488518e-01],\n",
              "       [1.01132452e-01, 6.34379029e-01, 2.64488518e-01],\n",
              "       [1.01132452e-01, 6.34379029e-01, 2.64488518e-01],\n",
              "       [1.49814747e-02, 4.17017251e-01, 5.68001211e-01],\n",
              "       [1.50520936e-01, 4.55826402e-01, 3.93652707e-01],\n",
              "       [2.58579515e-02, 8.37148905e-01, 1.36993125e-01],\n",
              "       [1.56299651e-01, 7.39372849e-01, 1.04327485e-01],\n",
              "       [2.92179555e-01, 5.93993962e-01, 1.13826476e-01],\n",
              "       [1.01132452e-01, 6.34379029e-01, 2.64488518e-01],\n",
              "       [1.11667486e-03, 1.79533428e-03, 9.97088015e-01],\n",
              "       [7.91079104e-02, 7.14003623e-01, 2.06888452e-01],\n",
              "       [1.16091847e-01, 5.80296814e-01, 3.03611368e-01],\n",
              "       [1.01132452e-01, 6.34379029e-01, 2.64488518e-01],\n",
              "       [1.71214913e-03, 3.24600027e-04, 9.97963309e-01],\n",
              "       [1.70795873e-01, 3.82527053e-01, 4.46677089e-01],\n",
              "       [6.63791597e-01, 3.32082778e-01, 4.12564585e-03],\n",
              "       [2.86538064e-01, 3.99455249e-01, 3.14006686e-01],\n",
              "       [1.73654947e-02, 1.76340491e-01, 8.06294024e-01],\n",
              "       [6.60172582e-01, 3.19955498e-01, 1.98719725e-02],\n",
              "       [4.90692817e-02, 5.11399627e-01, 4.39531147e-01],\n",
              "       [2.73568090e-02, 8.77538323e-01, 9.51048806e-02],\n",
              "       [1.95014179e-01, 5.40147908e-02, 7.50971079e-01],\n",
              "       [1.01132452e-01, 6.34379029e-01, 2.64488518e-01]], dtype=float32)"
            ]
          },
          "metadata": {
            "tags": []
          },
          "execution_count": 338
        }
      ]
    },
    {
      "cell_type": "code",
      "metadata": {
        "id": "Xj2bJDxP1qp5",
        "colab_type": "code",
        "outputId": "53af9708-49da-465d-b6ab-db9a2b1c0c19",
        "colab": {
          "base_uri": "https://localhost:8080/",
          "height": 34
        }
      },
      "source": [
        "xgb_tfidf=xgb_tfidf[:,1]>=0.3\n",
        "\n",
        "# converting the results to integer type\n",
        "xgb_int_tfidf=xgb_tfidf.astype(np.int)\n",
        "\n",
        "# calculating f1 score\n",
        "score=f1_score(y_valid_tfidf,xgb_int_tfidf,average='micro')\n",
        "\n",
        "score"
      ],
      "execution_count": 339,
      "outputs": [
        {
          "output_type": "execute_result",
          "data": {
            "text/plain": [
              "0.3157894736842105"
            ]
          },
          "metadata": {
            "tags": []
          },
          "execution_count": 339
        }
      ]
    },
    {
      "cell_type": "markdown",
      "metadata": {
        "id": "Sjf9vWZ0fj8V",
        "colab_type": "text"
      },
      "source": [
        "**To array** "
      ]
    },
    {
      "cell_type": "markdown",
      "metadata": {
        "id": "3Yo94PQMfgk4",
        "colab_type": "text"
      },
      "source": [
        ""
      ]
    },
    {
      "cell_type": "code",
      "metadata": {
        "id": "pr58F5LTYh-N",
        "colab_type": "code",
        "colab": {
          "base_uri": "https://localhost:8080/",
          "height": 51
        },
        "outputId": "af7bcabb-cbc6-4346-aea1-a6dc2edd2ea4"
      },
      "source": [
        "import networkx as nx\n",
        "G = nx.Graph([(1,2)])\n",
        "nx.incidence_matrix(G)\n"
      ],
      "execution_count": 340,
      "outputs": [
        {
          "output_type": "execute_result",
          "data": {
            "text/plain": [
              "<2x1 sparse matrix of type '<class 'numpy.float64'>'\n",
              "\twith 2 stored elements in Compressed Sparse Column format>"
            ]
          },
          "metadata": {
            "tags": []
          },
          "execution_count": 340
        }
      ]
    },
    {
      "cell_type": "code",
      "metadata": {
        "id": "NBcUFbXmZfok",
        "colab_type": "code",
        "colab": {
          "base_uri": "https://localhost:8080/",
          "height": 51
        },
        "outputId": "0885e6d6-6ca2-40ce-81bc-55ea591da40f"
      },
      "source": [
        "nx.incidence_matrix(G).todense()"
      ],
      "execution_count": 341,
      "outputs": [
        {
          "output_type": "execute_result",
          "data": {
            "text/plain": [
              "matrix([[1.],\n",
              "        [1.]])"
            ]
          },
          "metadata": {
            "tags": []
          },
          "execution_count": 341
        }
      ]
    },
    {
      "cell_type": "code",
      "metadata": {
        "id": "cqLXs7UoZg8r",
        "colab_type": "code",
        "colab": {
          "base_uri": "https://localhost:8080/",
          "height": 51
        },
        "outputId": "32483d99-12d7-466e-bee4-fedd500528c6"
      },
      "source": [
        "nx.incidence_matrix(G).todense().A"
      ],
      "execution_count": 342,
      "outputs": [
        {
          "output_type": "execute_result",
          "data": {
            "text/plain": [
              "array([[1.],\n",
              "       [1.]])"
            ]
          },
          "metadata": {
            "tags": []
          },
          "execution_count": 342
        }
      ]
    },
    {
      "cell_type": "code",
      "metadata": {
        "id": "cl7Qq_rkb4IK",
        "colab_type": "code",
        "colab": {
          "base_uri": "https://localhost:8080/",
          "height": 221
        },
        "outputId": "4d359811-09c5-4379-e7f9-2e7d5a93eb3b"
      },
      "source": [
        "pip install pipelines\n"
      ],
      "execution_count": 343,
      "outputs": [
        {
          "output_type": "stream",
          "text": [
            "Requirement already satisfied: pipelines in /usr/local/lib/python3.6/dist-packages (0.0.14)\n",
            "Requirement already satisfied: PyYAML==3.11 in /usr/local/lib/python3.6/dist-packages (from pipelines) (3.11)\n",
            "Requirement already satisfied: filelock==2.0.6 in /usr/local/lib/python3.6/dist-packages (from pipelines) (2.0.6)\n",
            "Requirement already satisfied: schema==0.5.0 in /usr/local/lib/python3.6/dist-packages (from pipelines) (0.5.0)\n",
            "Requirement already satisfied: requests==2.9.1 in /usr/local/lib/python3.6/dist-packages (from pipelines) (2.9.1)\n",
            "Requirement already satisfied: docopt==0.6.2 in /usr/local/lib/python3.6/dist-packages (from pipelines) (0.6.2)\n",
            "Requirement already satisfied: dotmap==1.1.16 in /usr/local/lib/python3.6/dist-packages (from pipelines) (1.1.16)\n",
            "Requirement already satisfied: tornado==4.3 in /usr/local/lib/python3.6/dist-packages (from pipelines) (4.3)\n",
            "Requirement already satisfied: sh==1.11 in /usr/local/lib/python3.6/dist-packages (from pipelines) (1.11)\n",
            "Requirement already satisfied: Jinja2==2.8 in /usr/local/lib/python3.6/dist-packages (from pipelines) (2.8)\n",
            "Requirement already satisfied: futures==3.0.5 in /usr/local/lib/python3.6/dist-packages (from pipelines) (3.0.5)\n",
            "Requirement already satisfied: MarkupSafe in /usr/local/lib/python3.6/dist-packages (from Jinja2==2.8->pipelines) (1.1.1)\n"
          ],
          "name": "stdout"
        }
      ]
    },
    {
      "cell_type": "code",
      "metadata": {
        "id": "jeNSNbX2dv_I",
        "colab_type": "code",
        "colab": {
          "base_uri": "https://localhost:8080/",
          "height": 170
        },
        "outputId": "3168f5de-81f2-41e4-db00-a0ace25df2bd"
      },
      "source": [
        "#support vector machine\n",
        "from sklearn.calibration import CalibratedClassifierCV\n",
        "from sklearn.svm import SVC\n",
        "svm = SVC(gamma='auto')\n",
        "model_svc = LinearSVC()\n",
        "svm = CalibratedClassifierCV(model_svc) \n",
        "svm.fit(x_train_bow,y_train_bow)"
      ],
      "execution_count": 344,
      "outputs": [
        {
          "output_type": "execute_result",
          "data": {
            "text/plain": [
              "CalibratedClassifierCV(base_estimator=LinearSVC(C=1.0, class_weight=None,\n",
              "                                                dual=True, fit_intercept=True,\n",
              "                                                intercept_scaling=1,\n",
              "                                                loss='squared_hinge',\n",
              "                                                max_iter=1000,\n",
              "                                                multi_class='ovr', penalty='l2',\n",
              "                                                random_state=None, tol=0.0001,\n",
              "                                                verbose=0),\n",
              "                       cv=None, method='sigmoid')"
            ]
          },
          "metadata": {
            "tags": []
          },
          "execution_count": 344
        }
      ]
    },
    {
      "cell_type": "code",
      "metadata": {
        "id": "QTm0Uh-qeIAF",
        "colab_type": "code",
        "colab": {}
      },
      "source": [
        "# แก้ปัญฆา predict_proba ไม่ได้ เนื่องจาก probability=False\n",
        "import pickle\n",
        "filename = 'linearSVC.sav'\n",
        "pickle.dump(model, open(filename, 'wb'))"
      ],
      "execution_count": 0,
      "outputs": []
    },
    {
      "cell_type": "code",
      "metadata": {
        "id": "FGmwY1z7eJfa",
        "colab_type": "code",
        "colab": {
          "base_uri": "https://localhost:8080/",
          "height": 1000
        },
        "outputId": "935e4ed9-3f5b-4cd9-99da-233e6330ed6e"
      },
      "source": [
        "svm = pickle.load(open(filename, 'rb'))\n",
        "svm_bow = svm.predict_proba(x_valid_bow)\n",
        "\n",
        "svm_bow\n",
        "\n"
      ],
      "execution_count": 346,
      "outputs": [
        {
          "output_type": "execute_result",
          "data": {
            "text/plain": [
              "array([[0.12176618, 0.05954643, 0.81868739],\n",
              "       [0.09046632, 0.53282723, 0.37670646],\n",
              "       [0.10574564, 0.53379444, 0.36045992],\n",
              "       [0.09248576, 0.69328484, 0.21422941],\n",
              "       [0.11498188, 0.37921507, 0.50580306],\n",
              "       [0.13115745, 0.55963676, 0.30920579],\n",
              "       [0.49107393, 0.13654026, 0.37238581],\n",
              "       [0.03590201, 0.27870561, 0.68539238],\n",
              "       [0.22211226, 0.07894409, 0.69894365],\n",
              "       [0.20287946, 0.43773036, 0.35939018],\n",
              "       [0.20825518, 0.33037988, 0.46136495],\n",
              "       [0.34390631, 0.51199013, 0.14410355],\n",
              "       [0.18862329, 0.55684049, 0.25453622],\n",
              "       [0.10270195, 0.30561774, 0.59168031],\n",
              "       [0.07648186, 0.66177866, 0.26173949],\n",
              "       [0.14444688, 0.56930481, 0.28624831],\n",
              "       [0.11572223, 0.68791066, 0.19636711],\n",
              "       [0.07599256, 0.66040681, 0.26360063],\n",
              "       [0.07419012, 0.78962945, 0.13618043],\n",
              "       [0.25198052, 0.56479806, 0.18322142],\n",
              "       [0.45986867, 0.37821606, 0.16191527],\n",
              "       [0.1317552 , 0.390326  , 0.4779188 ],\n",
              "       [0.18418079, 0.32800858, 0.48781062],\n",
              "       [0.11865932, 0.64034837, 0.24099231],\n",
              "       [0.14444688, 0.56930481, 0.28624831],\n",
              "       [0.02197176, 0.03582249, 0.94220575],\n",
              "       [0.32986589, 0.46743457, 0.20269955],\n",
              "       [0.2025393 , 0.55443506, 0.24302565],\n",
              "       [0.1028197 , 0.4449133 , 0.45226699],\n",
              "       [0.10993957, 0.01493445, 0.87512597],\n",
              "       [0.51508165, 0.33986374, 0.14505461],\n",
              "       [0.25722613, 0.08777737, 0.6549965 ],\n",
              "       [0.07174698, 0.41241694, 0.51583608],\n",
              "       [0.13656449, 0.48303378, 0.38040174],\n",
              "       [0.0844598 , 0.13349976, 0.78204044],\n",
              "       [0.13635828, 0.59006667, 0.27357505],\n",
              "       [0.04910173, 0.10444252, 0.84645576],\n",
              "       [0.21267617, 0.36033213, 0.4269917 ],\n",
              "       [0.27877385, 0.21767358, 0.50355257],\n",
              "       [0.18171754, 0.43584128, 0.38244119],\n",
              "       [0.07462907, 0.65106757, 0.27430336],\n",
              "       [0.07561094, 0.28159917, 0.64278989],\n",
              "       [0.1253072 , 0.25158928, 0.62310351],\n",
              "       [0.20314291, 0.56096106, 0.23589603],\n",
              "       [0.33726812, 0.36807495, 0.29465693],\n",
              "       [0.16426293, 0.18267967, 0.6530574 ],\n",
              "       [0.12408181, 0.02808568, 0.8478325 ],\n",
              "       [0.14412816, 0.20525664, 0.6506152 ],\n",
              "       [0.02368702, 0.23963235, 0.73668063],\n",
              "       [0.14444688, 0.56930481, 0.28624831],\n",
              "       [0.10388652, 0.69029862, 0.20581486],\n",
              "       [0.13664883, 0.0739316 , 0.78941957],\n",
              "       [0.04494381, 0.35929697, 0.59575923],\n",
              "       [0.23224035, 0.37662241, 0.39113724],\n",
              "       [0.13441628, 0.49908205, 0.36650168],\n",
              "       [0.18867309, 0.5288499 , 0.28247701],\n",
              "       [0.06011792, 0.70970682, 0.23017526],\n",
              "       [0.05718317, 0.26959094, 0.67322589],\n",
              "       [0.0601856 , 0.61540026, 0.32441415],\n",
              "       [0.22452723, 0.3629629 , 0.41250987],\n",
              "       [0.31027208, 0.42162015, 0.26810777],\n",
              "       [0.3540201 , 0.49501441, 0.15096549],\n",
              "       [0.14444688, 0.56930481, 0.28624831],\n",
              "       [0.12505091, 0.25194594, 0.62300315],\n",
              "       [0.13893527, 0.60089821, 0.26016652],\n",
              "       [0.15781598, 0.24410157, 0.59808245],\n",
              "       [0.09116122, 0.49449709, 0.4143417 ],\n",
              "       [0.13172953, 0.63106887, 0.2372016 ],\n",
              "       [0.09484201, 0.71763026, 0.18752773],\n",
              "       [0.10646491, 0.56826111, 0.32527398],\n",
              "       [0.24746605, 0.43076711, 0.32176684],\n",
              "       [0.09502272, 0.72174398, 0.1832333 ],\n",
              "       [0.39966679, 0.191821  , 0.4085122 ],\n",
              "       [0.11083346, 0.43136516, 0.45780138],\n",
              "       [0.16468981, 0.63143575, 0.20387444],\n",
              "       [0.13163786, 0.61830666, 0.25005548],\n",
              "       [0.34168522, 0.28355173, 0.37476305],\n",
              "       [0.07893928, 0.1863127 , 0.73474802],\n",
              "       [0.39110194, 0.29074725, 0.31815081],\n",
              "       [0.4719039 , 0.24804225, 0.28005386],\n",
              "       [0.14444688, 0.56930481, 0.28624831],\n",
              "       [0.05274586, 0.09706159, 0.85019255],\n",
              "       [0.19918103, 0.35933063, 0.44148835],\n",
              "       [0.27545161, 0.31429671, 0.41025168],\n",
              "       [0.11762137, 0.64047172, 0.24190691],\n",
              "       [0.07629887, 0.03244789, 0.89125324],\n",
              "       [0.21194442, 0.39655931, 0.39149627],\n",
              "       [0.11948259, 0.57658355, 0.30393386],\n",
              "       [0.17137593, 0.33817523, 0.49044884],\n",
              "       [0.15018693, 0.61160784, 0.23820523],\n",
              "       [0.22558303, 0.40560492, 0.36881205],\n",
              "       [0.07998936, 0.51416116, 0.40584948],\n",
              "       [0.13108174, 0.35282157, 0.5160967 ],\n",
              "       [0.3410888 , 0.15273588, 0.50617532],\n",
              "       [0.09145074, 0.6158438 , 0.29270546]])"
            ]
          },
          "metadata": {
            "tags": []
          },
          "execution_count": 346
        }
      ]
    },
    {
      "cell_type": "code",
      "metadata": {
        "id": "uMzlL1mCePqV",
        "colab_type": "code",
        "colab": {
          "base_uri": "https://localhost:8080/",
          "height": 34
        },
        "outputId": "39c76deb-b317-4118-de84-b9bb602633b9"
      },
      "source": [
        "\n",
        "\n",
        "svm_bow=svm_bow[:,1]>=0.3\n",
        "# converting the results to integer type\n",
        "svm_int_bow=svm_bow.astype(np.int)\n",
        "# calculating f1 score\n",
        "svm_score_bow=f1_score(y_valid_bow,svm_int_bow,average='micro')\n",
        "\n",
        "svm_score_bow"
      ],
      "execution_count": 347,
      "outputs": [
        {
          "output_type": "execute_result",
          "data": {
            "text/plain": [
              "0.3684210526315789"
            ]
          },
          "metadata": {
            "tags": []
          },
          "execution_count": 347
        }
      ]
    },
    {
      "cell_type": "code",
      "metadata": {
        "id": "pqsl_FObdBUT",
        "colab_type": "code",
        "colab": {
          "base_uri": "https://localhost:8080/",
          "height": 1000
        },
        "outputId": "89cbb1b9-5727-4e18-e510-74d17f88334e"
      },
      "source": [
        "\n",
        "svm.fit(x_train_tfidf,y_train_tfidf)\n",
        "svm_tfidf = svm.predict_proba(x_valid_tfidf)\n",
        "\n",
        "svm_tfidf"
      ],
      "execution_count": 348,
      "outputs": [
        {
          "output_type": "execute_result",
          "data": {
            "text/plain": [
              "array([[0.15258255, 0.16988066, 0.67753678],\n",
              "       [0.06675369, 0.4824024 , 0.45084391],\n",
              "       [0.091846  , 0.41465722, 0.49349678],\n",
              "       [0.10531967, 0.65215012, 0.24253021],\n",
              "       [0.12923112, 0.37366459, 0.49710428],\n",
              "       [0.10762634, 0.52005268, 0.37232098],\n",
              "       [0.52283018, 0.06731734, 0.40985248],\n",
              "       [0.03659956, 0.28690546, 0.67649498],\n",
              "       [0.24210875, 0.07073183, 0.68715943],\n",
              "       [0.12273402, 0.40601708, 0.4712489 ],\n",
              "       [0.14031594, 0.26847645, 0.59120761],\n",
              "       [0.36385946, 0.47216895, 0.16397159],\n",
              "       [0.22974367, 0.54317076, 0.22708557],\n",
              "       [0.09411072, 0.37059013, 0.53529915],\n",
              "       [0.05376931, 0.61776279, 0.3284679 ],\n",
              "       [0.12489201, 0.57799767, 0.29711032],\n",
              "       [0.09013468, 0.74195002, 0.16791531],\n",
              "       [0.07132355, 0.66733455, 0.2613419 ],\n",
              "       [0.07211579, 0.78716561, 0.1407186 ],\n",
              "       [0.22899062, 0.59910647, 0.17190291],\n",
              "       [0.42207642, 0.41647926, 0.16144432],\n",
              "       [0.14800317, 0.32074288, 0.53125395],\n",
              "       [0.13822383, 0.30135646, 0.56041972],\n",
              "       [0.09697065, 0.76137743, 0.14165192],\n",
              "       [0.12489201, 0.57799767, 0.29711032],\n",
              "       [0.03813422, 0.11834539, 0.84352039],\n",
              "       [0.43183692, 0.40217738, 0.1659857 ],\n",
              "       [0.19882306, 0.56982147, 0.23135548],\n",
              "       [0.11791064, 0.46623082, 0.41585855],\n",
              "       [0.10562807, 0.04900848, 0.84536345],\n",
              "       [0.67041862, 0.22678768, 0.1027937 ],\n",
              "       [0.18774199, 0.170785  , 0.64147301],\n",
              "       [0.07172694, 0.41454516, 0.5137279 ],\n",
              "       [0.10315713, 0.55001369, 0.34682919],\n",
              "       [0.13247126, 0.28328347, 0.58424527],\n",
              "       [0.10436703, 0.66655683, 0.22907614],\n",
              "       [0.05923993, 0.21860821, 0.72215186],\n",
              "       [0.22997485, 0.3811959 , 0.38882925],\n",
              "       [0.26454013, 0.27462993, 0.46082994],\n",
              "       [0.18190231, 0.49237455, 0.32572314],\n",
              "       [0.05620229, 0.7038337 , 0.23996401],\n",
              "       [0.14380707, 0.30894084, 0.54725209],\n",
              "       [0.10929642, 0.17219527, 0.71850832],\n",
              "       [0.14150228, 0.6060781 , 0.25241962],\n",
              "       [0.27388572, 0.49956107, 0.22655321],\n",
              "       [0.1064889 , 0.23890472, 0.65460638],\n",
              "       [0.11111662, 0.05732114, 0.83156225],\n",
              "       [0.14288451, 0.13189638, 0.72521911],\n",
              "       [0.02390992, 0.21749003, 0.75860005],\n",
              "       [0.12489201, 0.57799767, 0.29711032],\n",
              "       [0.07367707, 0.78281019, 0.14351274],\n",
              "       [0.15307407, 0.06577149, 0.78115444],\n",
              "       [0.04349494, 0.22763523, 0.72886982],\n",
              "       [0.18480811, 0.39693614, 0.41825575],\n",
              "       [0.11617354, 0.43318736, 0.4506391 ],\n",
              "       [0.16842093, 0.58027232, 0.25130675],\n",
              "       [0.05152081, 0.74067179, 0.2078074 ],\n",
              "       [0.05981064, 0.36387491, 0.57631445],\n",
              "       [0.04053619, 0.48421651, 0.47524729],\n",
              "       [0.14527764, 0.39651161, 0.45821075],\n",
              "       [0.48565754, 0.26136968, 0.25297278],\n",
              "       [0.41477154, 0.48350563, 0.10172283],\n",
              "       [0.1194034 , 0.51042579, 0.37017081],\n",
              "       [0.11648194, 0.14018115, 0.74333691],\n",
              "       [0.10520125, 0.68910327, 0.20569548],\n",
              "       [0.1178898 , 0.23943786, 0.64267234],\n",
              "       [0.0709473 , 0.46198192, 0.46707078],\n",
              "       [0.10172637, 0.61794795, 0.28032567],\n",
              "       [0.08574163, 0.73365669, 0.18060168],\n",
              "       [0.07877185, 0.59907266, 0.32215549],\n",
              "       [0.22320522, 0.33069892, 0.44609585],\n",
              "       [0.09635282, 0.74667136, 0.15697583],\n",
              "       [0.39005779, 0.24158884, 0.36835337],\n",
              "       [0.08609949, 0.41625335, 0.49764716],\n",
              "       [0.15426962, 0.59756363, 0.24816675],\n",
              "       [0.12757532, 0.58686434, 0.28556034],\n",
              "       [0.40012052, 0.22994608, 0.3699334 ],\n",
              "       [0.08792803, 0.19624551, 0.71582646],\n",
              "       [0.3204787 , 0.39002716, 0.28949414],\n",
              "       [0.43514129, 0.33158088, 0.23327783],\n",
              "       [0.12489201, 0.57799767, 0.29711032],\n",
              "       [0.04855997, 0.1009427 , 0.85049732],\n",
              "       [0.15062039, 0.2794155 , 0.56996411],\n",
              "       [0.20188255, 0.20347156, 0.59464589],\n",
              "       [0.08836205, 0.70862057, 0.20301738],\n",
              "       [0.09376578, 0.05151165, 0.85472257],\n",
              "       [0.11278834, 0.41289637, 0.47431528],\n",
              "       [0.12416844, 0.64691642, 0.22891514],\n",
              "       [0.12623087, 0.30928549, 0.56448364],\n",
              "       [0.19585244, 0.48708117, 0.31706639],\n",
              "       [0.18396167, 0.56056084, 0.25547749],\n",
              "       [0.05937455, 0.48091056, 0.45971489],\n",
              "       [0.13326724, 0.39800385, 0.46872891],\n",
              "       [0.33458616, 0.23060952, 0.43480432],\n",
              "       [0.07279343, 0.56529903, 0.36190753]])"
            ]
          },
          "metadata": {
            "tags": []
          },
          "execution_count": 348
        }
      ]
    },
    {
      "cell_type": "code",
      "metadata": {
        "id": "_5pdwCZjy-kZ",
        "colab_type": "code",
        "colab": {
          "base_uri": "https://localhost:8080/",
          "height": 34
        },
        "outputId": "4a6e4d0a-7c25-4fe2-c3a2-894f709787ae"
      },
      "source": [
        "svm_tfidf=svm_tfidf[:,1]>=0.3\n",
        "\n",
        "# converting the results to integer type\n",
        "svm_int_tfidf=svm_tfidf.astype(np.int)\n",
        "\n",
        "# calculating f1 score\n",
        "svm_score_tfidf=f1_score(y_valid_tfidf,svm_int_tfidf,average='micro')\n",
        "\n",
        "svm_score_tfidf"
      ],
      "execution_count": 349,
      "outputs": [
        {
          "output_type": "execute_result",
          "data": {
            "text/plain": [
              "0.3368421052631579"
            ]
          },
          "metadata": {
            "tags": []
          },
          "execution_count": 349
        }
      ]
    },
    {
      "cell_type": "markdown",
      "metadata": {
        "id": "oCJPLZkA4xIk",
        "colab_type": "text"
      },
      "source": [
        "**Model Comparison**"
      ]
    },
    {
      "cell_type": "code",
      "metadata": {
        "id": "RCNWUQkW4uNy",
        "colab_type": "code",
        "outputId": "cdab6bba-d417-4191-eedb-1a418f021223",
        "colab": {
          "base_uri": "https://localhost:8080/",
          "height": 111
        }
      },
      "source": [
        "# Bag-of-Words\n",
        "Algo_1 = ['LogisticRegression(Bag-of-Words)','XGBoost(Bag-of-Words)','support vector machine(Bag-of-Words)']\n",
        "\n",
        "score_1 = [log_bow,xgb_bow,svm_score_bow]\n",
        "\n",
        "compare_1 = pd.DataFrame({'Model':Algo_1,'F1_Score':score_1},index=[i for i in range(1,4)])\n",
        "\n",
        "compare_1.T"
      ],
      "execution_count": 350,
      "outputs": [
        {
          "output_type": "execute_result",
          "data": {
            "text/html": [
              "<div>\n",
              "<style scoped>\n",
              "    .dataframe tbody tr th:only-of-type {\n",
              "        vertical-align: middle;\n",
              "    }\n",
              "\n",
              "    .dataframe tbody tr th {\n",
              "        vertical-align: top;\n",
              "    }\n",
              "\n",
              "    .dataframe thead th {\n",
              "        text-align: right;\n",
              "    }\n",
              "</style>\n",
              "<table border=\"1\" class=\"dataframe\">\n",
              "  <thead>\n",
              "    <tr style=\"text-align: right;\">\n",
              "      <th></th>\n",
              "      <th>1</th>\n",
              "      <th>2</th>\n",
              "      <th>3</th>\n",
              "    </tr>\n",
              "  </thead>\n",
              "  <tbody>\n",
              "    <tr>\n",
              "      <th>Model</th>\n",
              "      <td>LogisticRegression(Bag-of-Words)</td>\n",
              "      <td>XGBoost(Bag-of-Words)</td>\n",
              "      <td>support vector machine(Bag-of-Words)</td>\n",
              "    </tr>\n",
              "    <tr>\n",
              "      <th>F1_Score</th>\n",
              "      <td>0.315789</td>\n",
              "      <td>0.315789</td>\n",
              "      <td>0.368421</td>\n",
              "    </tr>\n",
              "  </tbody>\n",
              "</table>\n",
              "</div>"
            ],
            "text/plain": [
              "                                         1  ...                                     3\n",
              "Model     LogisticRegression(Bag-of-Words)  ...  support vector machine(Bag-of-Words)\n",
              "F1_Score                          0.315789  ...                              0.368421\n",
              "\n",
              "[2 rows x 3 columns]"
            ]
          },
          "metadata": {
            "tags": []
          },
          "execution_count": 350
        }
      ]
    },
    {
      "cell_type": "code",
      "metadata": {
        "id": "V7ygyr0C5Nb3",
        "colab_type": "code",
        "outputId": "1c98f4da-e65a-4a76-b6c6-5d9b2375d5b7",
        "colab": {
          "base_uri": "https://localhost:8080/",
          "height": 111
        }
      },
      "source": [
        "# TF-IDF\n",
        "Algo_2 = ['LogisticRegression(TF-IDF)','XGBoost(TF-IDF)','support vector machine(TF-IDF)']\n",
        "\n",
        "score_2 = [log_tfidf,score,svm_score_tfidf]\n",
        "\n",
        "compare_2 = pd.DataFrame({'Model':Algo_2,'F1_Score':score_2},index=[i for i in range(1,4)])\n",
        "\n",
        "compare_2.T"
      ],
      "execution_count": 351,
      "outputs": [
        {
          "output_type": "execute_result",
          "data": {
            "text/html": [
              "<div>\n",
              "<style scoped>\n",
              "    .dataframe tbody tr th:only-of-type {\n",
              "        vertical-align: middle;\n",
              "    }\n",
              "\n",
              "    .dataframe tbody tr th {\n",
              "        vertical-align: top;\n",
              "    }\n",
              "\n",
              "    .dataframe thead th {\n",
              "        text-align: right;\n",
              "    }\n",
              "</style>\n",
              "<table border=\"1\" class=\"dataframe\">\n",
              "  <thead>\n",
              "    <tr style=\"text-align: right;\">\n",
              "      <th></th>\n",
              "      <th>1</th>\n",
              "      <th>2</th>\n",
              "      <th>3</th>\n",
              "    </tr>\n",
              "  </thead>\n",
              "  <tbody>\n",
              "    <tr>\n",
              "      <th>Model</th>\n",
              "      <td>LogisticRegression(TF-IDF)</td>\n",
              "      <td>XGBoost(TF-IDF)</td>\n",
              "      <td>support vector machine(TF-IDF)</td>\n",
              "    </tr>\n",
              "    <tr>\n",
              "      <th>F1_Score</th>\n",
              "      <td>0.315789</td>\n",
              "      <td>0.315789</td>\n",
              "      <td>0.336842</td>\n",
              "    </tr>\n",
              "  </tbody>\n",
              "</table>\n",
              "</div>"
            ],
            "text/plain": [
              "                                   1  ...                               3\n",
              "Model     LogisticRegression(TF-IDF)  ...  support vector machine(TF-IDF)\n",
              "F1_Score                    0.315789  ...                        0.336842\n",
              "\n",
              "[2 rows x 3 columns]"
            ]
          },
          "metadata": {
            "tags": []
          },
          "execution_count": 351
        }
      ]
    },
    {
      "cell_type": "markdown",
      "metadata": {
        "id": "Hk_7rfiF5iO0",
        "colab_type": "text"
      },
      "source": [
        "Evaluating the model"
      ]
    },
    {
      "cell_type": "code",
      "metadata": {
        "id": "43FKcsQl5dxQ",
        "colab_type": "code",
        "colab": {}
      },
      "source": [
        "from sklearn.metrics import confusion_matrix, classification_report, accuracy_score"
      ],
      "execution_count": 0,
      "outputs": []
    },
    {
      "cell_type": "code",
      "metadata": {
        "id": "SDecLcjz5k5i",
        "colab_type": "code",
        "outputId": "eec17fa0-8457-4c49-cec3-a59a507359cb",
        "colab": {
          "base_uri": "https://localhost:8080/",
          "height": 221
        }
      },
      "source": [
        "print (y_valid_bow)"
      ],
      "execution_count": 353,
      "outputs": [
        {
          "output_type": "stream",
          "text": [
            "65     2\n",
            "314    1\n",
            "150    2\n",
            "158    0\n",
            "108    2\n",
            "      ..\n",
            "209    0\n",
            "89     1\n",
            "206    1\n",
            "27     2\n",
            "166    0\n",
            "Name: sentiments, Length: 95, dtype: int64\n"
          ],
          "name": "stdout"
        }
      ]
    },
    {
      "cell_type": "code",
      "metadata": {
        "id": "5EyMjfZt5mfa",
        "colab_type": "code",
        "outputId": "d80e9c2b-6b8b-4020-b8aa-b97637a43b84",
        "colab": {
          "base_uri": "https://localhost:8080/",
          "height": 221
        }
      },
      "source": [
        "print (y_valid_tfidf)"
      ],
      "execution_count": 354,
      "outputs": [
        {
          "output_type": "stream",
          "text": [
            "65     2\n",
            "314    1\n",
            "150    2\n",
            "158    0\n",
            "108    2\n",
            "      ..\n",
            "209    0\n",
            "89     1\n",
            "206    1\n",
            "27     2\n",
            "166    0\n",
            "Name: sentiments, Length: 95, dtype: int64\n"
          ],
          "name": "stdout"
        }
      ]
    },
    {
      "cell_type": "markdown",
      "metadata": {
        "id": "s-JWeqqY5vPH",
        "colab_type": "text"
      },
      "source": [
        "Comparison Graph"
      ]
    },
    {
      "cell_type": "code",
      "metadata": {
        "id": "pwK38Lzp5qSm",
        "colab_type": "code",
        "outputId": "d66ce46f-2e34-49bb-f808-21d32f982a48",
        "colab": {
          "base_uri": "https://localhost:8080/",
          "height": 350
        }
      },
      "source": [
        "# Bag-of-Words\n",
        "import seaborn as sns\n",
        "plt.figure(figsize=(18,5))\n",
        "\n",
        "sns.pointplot(x='Model',y='F1_Score',data=compare_1)\n",
        "\n",
        "plt.title('Bag-of-Words')\n",
        "plt.xlabel('MODEL')\n",
        "plt.ylabel('SCORE')\n",
        "\n",
        "plt.show()"
      ],
      "execution_count": 355,
      "outputs": [
        {
          "output_type": "display_data",
          "data": {
            "image/png": "[encoded data removed]",
            "text/plain": [
              "<Figure size 1296x360 with 1 Axes>"
            ]
          },
          "metadata": {
            "tags": [],
            "needs_background": "light"
          }
        }
      ]
    },
    {
      "cell_type": "code",
      "metadata": {
        "id": "1vwluQpx52Gt",
        "colab_type": "code",
        "outputId": "65e3b1ee-2e6b-4fd3-84bf-270ff9563c4c",
        "colab": {
          "base_uri": "https://localhost:8080/",
          "height": 350
        }
      },
      "source": [
        "# TF-IDF\n",
        "plt.figure(figsize=(18,5))\n",
        "\n",
        "sns.pointplot(x='Model',y='F1_Score',data=compare_2)\n",
        "\n",
        "plt.title('TF-IDF')\n",
        "plt.xlabel('MODEL')\n",
        "plt.ylabel('SCORE')\n",
        "\n",
        "plt.show()"
      ],
      "execution_count": 356,
      "outputs": [
        {
          "output_type": "display_data",
          "data": {
            "image/png": "[encoded data removed]",
            "text/plain": [
              "<Figure size 1296x360 with 1 Axes>"
            ]
          },
          "metadata": {
            "tags": [],
            "needs_background": "light"
          }
        }
      ]
    },
    {
      "cell_type": "markdown",
      "metadata": {
        "id": "kLKoZZa358Mp",
        "colab_type": "text"
      },
      "source": [
        "Playing around with auto-sklearn"
      ]
    },
    {
      "cell_type": "code",
      "metadata": {
        "id": "5VG65vfE54-I",
        "colab_type": "code",
        "outputId": "c113a8ad-9983-4655-a5bc-a41760677d87",
        "colab": {
          "base_uri": "https://localhost:8080/",
          "height": 731
        }
      },
      "source": [
        "!apt-get install swig -y\n",
        "!pip install Cython numpy\n",
        "\n",
        "# sometimes you have to run the next command twice on colab\n",
        "# I haven't figured out why\n",
        "!pip install auto-sklearn\n",
        "# ignore some annoying warnings for demonstrating auto-sklearn \n",
        "# shouldn't be done in real production\n",
        "import numpy as np\n",
        "np.warnings.filterwarnings('ignore')"
      ],
      "execution_count": 357,
      "outputs": [
        {
          "output_type": "stream",
          "text": [
            "Reading package lists... Done\n",
            "Building dependency tree       \n",
            "Reading state information... Done\n",
            "swig is already the newest version (3.0.12-1).\n",
            "0 upgraded, 0 newly installed, 0 to remove and 25 not upgraded.\n",
            "Requirement already satisfied: Cython in /usr/local/lib/python3.6/dist-packages (0.29.16)\n",
            "Requirement already satisfied: numpy in /usr/local/lib/python3.6/dist-packages (1.18.3)\n",
            "Requirement already satisfied: auto-sklearn in /usr/local/lib/python3.6/dist-packages (0.6.0)\n",
            "Requirement already satisfied: scipy>=0.14.1 in /usr/local/lib/python3.6/dist-packages (from auto-sklearn) (1.4.1)\n",
            "Requirement already satisfied: nose in /usr/local/lib/python3.6/dist-packages (from auto-sklearn) (1.3.7)\n",
            "Requirement already satisfied: pynisher>=0.4.2 in /usr/local/lib/python3.6/dist-packages (from auto-sklearn) (0.5.0)\n",
            "Requirement already satisfied: numpy>=1.9.0 in /usr/local/lib/python3.6/dist-packages (from auto-sklearn) (1.18.3)\n",
            "Requirement already satisfied: joblib in /usr/local/lib/python3.6/dist-packages (from auto-sklearn) (0.14.1)\n",
            "Requirement already satisfied: ConfigSpace<0.5,>=0.4.0 in /usr/local/lib/python3.6/dist-packages (from auto-sklearn) (0.4.12)\n",
            "Requirement already satisfied: lockfile in /usr/local/lib/python3.6/dist-packages (from auto-sklearn) (0.12.2)\n",
            "Requirement already satisfied: psutil in /usr/local/lib/python3.6/dist-packages (from auto-sklearn) (5.4.8)\n",
            "Requirement already satisfied: Cython in /usr/local/lib/python3.6/dist-packages (from auto-sklearn) (0.29.16)\n",
            "Requirement already satisfied: scikit-learn<0.22,>=0.21.0 in /usr/local/lib/python3.6/dist-packages (from auto-sklearn) (0.21.3)\n",
            "Requirement already satisfied: pyyaml in /usr/local/lib/python3.6/dist-packages (from auto-sklearn) (3.11)\n",
            "Requirement already satisfied: pandas in /usr/local/lib/python3.6/dist-packages (from auto-sklearn) (1.0.3)\n",
            "Requirement already satisfied: smac==0.8 in /usr/local/lib/python3.6/dist-packages (from auto-sklearn) (0.8.0)\n",
            "Requirement already satisfied: setuptools in /usr/local/lib/python3.6/dist-packages (from auto-sklearn) (46.1.3)\n",
            "Requirement already satisfied: liac-arff in /usr/local/lib/python3.6/dist-packages (from auto-sklearn) (2.4.0)\n",
            "Requirement already satisfied: pyrfr<0.9,>=0.7 in /usr/local/lib/python3.6/dist-packages (from auto-sklearn) (0.8.0)\n",
            "Requirement already satisfied: docutils>=0.3 in /usr/local/lib/python3.6/dist-packages (from pynisher>=0.4.2->auto-sklearn) (0.15.2)\n",
            "Requirement already satisfied: pyparsing in /usr/local/lib/python3.6/dist-packages (from ConfigSpace<0.5,>=0.4.0->auto-sklearn) (2.4.7)\n",
            "Requirement already satisfied: python-dateutil>=2.6.1 in /usr/local/lib/python3.6/dist-packages (from pandas->auto-sklearn) (2.8.1)\n",
            "Requirement already satisfied: pytz>=2017.2 in /usr/local/lib/python3.6/dist-packages (from pandas->auto-sklearn) (2018.9)\n",
            "Requirement already satisfied: typing in /usr/local/lib/python3.6/dist-packages (from smac==0.8->auto-sklearn) (3.6.6)\n",
            "Requirement already satisfied: sphinx in /usr/local/lib/python3.6/dist-packages (from smac==0.8->auto-sklearn) (1.8.5)\n",
            "Requirement already satisfied: sphinx-rtd-theme in /usr/local/lib/python3.6/dist-packages (from smac==0.8->auto-sklearn) (0.4.3)\n",
            "Requirement already satisfied: six in /usr/local/lib/python3.6/dist-packages (from smac==0.8->auto-sklearn) (1.12.0)\n",
            "Requirement already satisfied: babel!=2.0,>=1.3 in /usr/local/lib/python3.6/dist-packages (from sphinx->smac==0.8->auto-sklearn) (2.8.0)\n",
            "Requirement already satisfied: imagesize in /usr/local/lib/python3.6/dist-packages (from sphinx->smac==0.8->auto-sklearn) (1.2.0)\n",
            "Requirement already satisfied: sphinxcontrib-websupport in /usr/local/lib/python3.6/dist-packages (from sphinx->smac==0.8->auto-sklearn) (1.2.1)\n",
            "Requirement already satisfied: packaging in /usr/local/lib/python3.6/dist-packages (from sphinx->smac==0.8->auto-sklearn) (20.3)\n",
            "Requirement already satisfied: Jinja2>=2.3 in /usr/local/lib/python3.6/dist-packages (from sphinx->smac==0.8->auto-sklearn) (2.8)\n",
            "Requirement already satisfied: Pygments>=2.0 in /usr/local/lib/python3.6/dist-packages (from sphinx->smac==0.8->auto-sklearn) (2.1.3)\n",
            "Requirement already satisfied: alabaster<0.8,>=0.7 in /usr/local/lib/python3.6/dist-packages (from sphinx->smac==0.8->auto-sklearn) (0.7.12)\n",
            "Requirement already satisfied: snowballstemmer>=1.1 in /usr/local/lib/python3.6/dist-packages (from sphinx->smac==0.8->auto-sklearn) (2.0.0)\n",
            "Requirement already satisfied: requests>=2.0.0 in /usr/local/lib/python3.6/dist-packages (from sphinx->smac==0.8->auto-sklearn) (2.9.1)\n",
            "Requirement already satisfied: MarkupSafe in /usr/local/lib/python3.6/dist-packages (from Jinja2>=2.3->sphinx->smac==0.8->auto-sklearn) (1.1.1)\n"
          ],
          "name": "stdout"
        }
      ]
    },
    {
      "cell_type": "code",
      "metadata": {
        "id": "gu4EIbyr6Acj",
        "colab_type": "code",
        "colab": {}
      },
      "source": [
        "import autosklearn.classification\n",
        "import sklearn.model_selection\n",
        "import sklearn.datasets\n",
        "from sklearn.metrics import confusion_matrix, classification_report, accuracy_score"
      ],
      "execution_count": 0,
      "outputs": []
    },
    {
      "cell_type": "code",
      "metadata": {
        "id": "x6ysyr416If1",
        "colab_type": "code",
        "colab": {}
      },
      "source": [
        "#bag-of-words\n",
        "x_train_bow, x_valid_bow, y_train_bow, y_valid_bow = sklearn.model_selection.train_test_split(df_bow,df['sentiments'],test_size=0.3,random_state=0)"
      ],
      "execution_count": 0,
      "outputs": []
    },
    {
      "cell_type": "code",
      "metadata": {
        "id": "Btbd4s766I4E",
        "colab_type": "code",
        "colab": {}
      },
      "source": [
        "#tfidf\n",
        "x_train_tfidf, x_valid_tfidf, y_train_tfidf, y_valid_tfidf = sklearn.model_selection.train_test_split(df_tfidf,df['sentiments'],test_size=0.3,random_state=0)"
      ],
      "execution_count": 0,
      "outputs": []
    },
    {
      "cell_type": "code",
      "metadata": {
        "id": "C1TVv-NK6I1M",
        "colab_type": "code",
        "colab": {}
      },
      "source": [
        "import autosklearn.classification\n",
        "\n",
        "# configure auto-sklearn\n",
        "automl = autosklearn.classification.AutoSklearnClassifier(\n",
        "          time_left_for_this_task=120, # run auto-sklearn for at most 2min\n",
        "          per_run_time_limit=30, # spend at most 30 sec for each model training\n",
        "          )\n",
        "\n",
        "# train model(s)\n",
        "automl.fit = (x_train_tfidf,y_train_tfidf)\n",
        "\n"
      ],
      "execution_count": 0,
      "outputs": []
    },
    {
      "cell_type": "code",
      "metadata": {
        "id": "Q2XCL4CyG_Hl",
        "colab_type": "code",
        "colab": {
          "base_uri": "https://localhost:8080/",
          "height": 375
        },
        "outputId": "efdf3d03-00a0-4e3b-ada1-4751b55cfab0"
      },
      "source": [
        "# evaluate\n",
        "y_hat = automl.predict(x_valid_tfidf)\n",
        "test_acc = sklearn.metrics.accuracy_score(y_valid_tfidf, y_hat)\n",
        "print(\"Accuracy score {0}\".format(test_acc))\n",
        "print(\"\", sklearn.metrics.confusion_matrix(y_valid_tfidf, y_hat))\n",
        "print(\"\", sklearn.metrics.classification_report(y_valid_tfidf, y_hat))\n"
      ],
      "execution_count": 362,
      "outputs": [
        {
          "output_type": "error",
          "ename": "TypeError",
          "evalue": "ignored",
          "traceback": [
            "\u001b[0;31m---------------------------------------------------------------------------\u001b[0m",
            "\u001b[0;31mTypeError\u001b[0m                                 Traceback (most recent call last)",
            "\u001b[0;32m<ipython-input-362-588f0ea560dd>\u001b[0m in \u001b[0;36m<module>\u001b[0;34m()\u001b[0m\n\u001b[0;32m----> 1\u001b[0;31m \u001b[0my_hat\u001b[0m \u001b[0;34m=\u001b[0m \u001b[0mautoml\u001b[0m\u001b[0;34m.\u001b[0m\u001b[0mpredict\u001b[0m\u001b[0;34m(\u001b[0m\u001b[0mx_valid_tfidf\u001b[0m\u001b[0;34m)\u001b[0m\u001b[0;34m\u001b[0m\u001b[0;34m\u001b[0m\u001b[0m\n\u001b[0m\u001b[1;32m      2\u001b[0m \u001b[0mtest_acc\u001b[0m \u001b[0;34m=\u001b[0m \u001b[0msklearn\u001b[0m\u001b[0;34m.\u001b[0m\u001b[0mmetrics\u001b[0m\u001b[0;34m.\u001b[0m\u001b[0maccuracy_score\u001b[0m\u001b[0;34m(\u001b[0m\u001b[0my_valid_tfidf\u001b[0m\u001b[0;34m,\u001b[0m \u001b[0my_hat\u001b[0m\u001b[0;34m)\u001b[0m\u001b[0;34m\u001b[0m\u001b[0;34m\u001b[0m\u001b[0m\n\u001b[1;32m      3\u001b[0m \u001b[0mprint\u001b[0m\u001b[0;34m(\u001b[0m\u001b[0;34m\"Accuracy score {0}\"\u001b[0m\u001b[0;34m.\u001b[0m\u001b[0mformat\u001b[0m\u001b[0;34m(\u001b[0m\u001b[0mtest_acc\u001b[0m\u001b[0;34m)\u001b[0m\u001b[0;34m)\u001b[0m\u001b[0;34m\u001b[0m\u001b[0;34m\u001b[0m\u001b[0m\n\u001b[1;32m      4\u001b[0m \u001b[0mprint\u001b[0m\u001b[0;34m(\u001b[0m\u001b[0;34m\"\"\u001b[0m\u001b[0;34m,\u001b[0m \u001b[0msklearn\u001b[0m\u001b[0;34m.\u001b[0m\u001b[0mmetrics\u001b[0m\u001b[0;34m.\u001b[0m\u001b[0mconfusion_matrix\u001b[0m\u001b[0;34m(\u001b[0m\u001b[0my_valid_tfidf\u001b[0m\u001b[0;34m,\u001b[0m \u001b[0my_hat\u001b[0m\u001b[0;34m)\u001b[0m\u001b[0;34m)\u001b[0m\u001b[0;34m\u001b[0m\u001b[0;34m\u001b[0m\u001b[0m\n\u001b[1;32m      5\u001b[0m \u001b[0mprint\u001b[0m\u001b[0;34m(\u001b[0m\u001b[0;34m\"\"\u001b[0m\u001b[0;34m,\u001b[0m \u001b[0msklearn\u001b[0m\u001b[0;34m.\u001b[0m\u001b[0mmetrics\u001b[0m\u001b[0;34m.\u001b[0m\u001b[0mclassification_report\u001b[0m\u001b[0;34m(\u001b[0m\u001b[0my_valid_tfidf\u001b[0m\u001b[0;34m,\u001b[0m \u001b[0my_hat\u001b[0m\u001b[0;34m)\u001b[0m\u001b[0;34m)\u001b[0m\u001b[0;34m\u001b[0m\u001b[0;34m\u001b[0m\u001b[0m\n",
            "\u001b[0;32m/usr/local/lib/python3.6/dist-packages/autosklearn/estimators.py\u001b[0m in \u001b[0;36mpredict\u001b[0;34m(self, X, batch_size, n_jobs)\u001b[0m\n\u001b[1;32m    680\u001b[0m \u001b[0;34m\u001b[0m\u001b[0m\n\u001b[1;32m    681\u001b[0m         \"\"\"\n\u001b[0;32m--> 682\u001b[0;31m         \u001b[0;32mreturn\u001b[0m \u001b[0msuper\u001b[0m\u001b[0;34m(\u001b[0m\u001b[0;34m)\u001b[0m\u001b[0;34m.\u001b[0m\u001b[0mpredict\u001b[0m\u001b[0;34m(\u001b[0m\u001b[0mX\u001b[0m\u001b[0;34m,\u001b[0m \u001b[0mbatch_size\u001b[0m\u001b[0;34m=\u001b[0m\u001b[0mbatch_size\u001b[0m\u001b[0;34m,\u001b[0m \u001b[0mn_jobs\u001b[0m\u001b[0;34m=\u001b[0m\u001b[0mn_jobs\u001b[0m\u001b[0;34m)\u001b[0m\u001b[0;34m\u001b[0m\u001b[0;34m\u001b[0m\u001b[0m\n\u001b[0m\u001b[1;32m    683\u001b[0m \u001b[0;34m\u001b[0m\u001b[0m\n\u001b[1;32m    684\u001b[0m     \u001b[0;32mdef\u001b[0m \u001b[0mpredict_proba\u001b[0m\u001b[0;34m(\u001b[0m\u001b[0mself\u001b[0m\u001b[0;34m,\u001b[0m \u001b[0mX\u001b[0m\u001b[0;34m,\u001b[0m \u001b[0mbatch_size\u001b[0m\u001b[0;34m=\u001b[0m\u001b[0;32mNone\u001b[0m\u001b[0;34m,\u001b[0m \u001b[0mn_jobs\u001b[0m\u001b[0;34m=\u001b[0m\u001b[0;36m1\u001b[0m\u001b[0;34m)\u001b[0m\u001b[0;34m:\u001b[0m\u001b[0;34m\u001b[0m\u001b[0;34m\u001b[0m\u001b[0m\n",
            "\u001b[0;32m/usr/local/lib/python3.6/dist-packages/autosklearn/estimators.py\u001b[0m in \u001b[0;36mpredict\u001b[0;34m(self, X, batch_size, n_jobs)\u001b[0m\n\u001b[1;32m    511\u001b[0m \u001b[0;34m\u001b[0m\u001b[0m\n\u001b[1;32m    512\u001b[0m     \u001b[0;32mdef\u001b[0m \u001b[0mpredict\u001b[0m\u001b[0;34m(\u001b[0m\u001b[0mself\u001b[0m\u001b[0;34m,\u001b[0m \u001b[0mX\u001b[0m\u001b[0;34m,\u001b[0m \u001b[0mbatch_size\u001b[0m\u001b[0;34m=\u001b[0m\u001b[0;32mNone\u001b[0m\u001b[0;34m,\u001b[0m \u001b[0mn_jobs\u001b[0m\u001b[0;34m=\u001b[0m\u001b[0;36m1\u001b[0m\u001b[0;34m)\u001b[0m\u001b[0;34m:\u001b[0m\u001b[0;34m\u001b[0m\u001b[0;34m\u001b[0m\u001b[0m\n\u001b[0;32m--> 513\u001b[0;31m         \u001b[0;32mreturn\u001b[0m \u001b[0mself\u001b[0m\u001b[0;34m.\u001b[0m\u001b[0m_automl\u001b[0m\u001b[0;34m[\u001b[0m\u001b[0;36m0\u001b[0m\u001b[0;34m]\u001b[0m\u001b[0;34m.\u001b[0m\u001b[0mpredict\u001b[0m\u001b[0;34m(\u001b[0m\u001b[0mX\u001b[0m\u001b[0;34m,\u001b[0m \u001b[0mbatch_size\u001b[0m\u001b[0;34m=\u001b[0m\u001b[0mbatch_size\u001b[0m\u001b[0;34m,\u001b[0m \u001b[0mn_jobs\u001b[0m\u001b[0;34m=\u001b[0m\u001b[0mn_jobs\u001b[0m\u001b[0;34m)\u001b[0m\u001b[0;34m\u001b[0m\u001b[0;34m\u001b[0m\u001b[0m\n\u001b[0m\u001b[1;32m    514\u001b[0m \u001b[0;34m\u001b[0m\u001b[0m\n\u001b[1;32m    515\u001b[0m     \u001b[0;32mdef\u001b[0m \u001b[0mpredict_proba\u001b[0m\u001b[0;34m(\u001b[0m\u001b[0mself\u001b[0m\u001b[0;34m,\u001b[0m \u001b[0mX\u001b[0m\u001b[0;34m,\u001b[0m \u001b[0mbatch_size\u001b[0m\u001b[0;34m=\u001b[0m\u001b[0;32mNone\u001b[0m\u001b[0;34m,\u001b[0m \u001b[0mn_jobs\u001b[0m\u001b[0;34m=\u001b[0m\u001b[0;36m1\u001b[0m\u001b[0;34m)\u001b[0m\u001b[0;34m:\u001b[0m\u001b[0;34m\u001b[0m\u001b[0;34m\u001b[0m\u001b[0m\n",
            "\u001b[0;31mTypeError\u001b[0m: 'NoneType' object is not subscriptable"
          ]
        }
      ]
    },
    {
      "cell_type": "code",
      "metadata": {
        "id": "nYveSRRj6Ic0",
        "colab_type": "code",
        "colab": {}
      },
      "source": [
        ""
      ],
      "execution_count": 0,
      "outputs": []
    },
    {
      "cell_type": "code",
      "metadata": {
        "id": "Tm45Xlbg6Ian",
        "colab_type": "code",
        "colab": {}
      },
      "source": [
        ""
      ],
      "execution_count": 0,
      "outputs": []
    },
    {
      "cell_type": "code",
      "metadata": {
        "id": "5yE3LIU_6IWJ",
        "colab_type": "code",
        "colab": {}
      },
      "source": [
        ""
      ],
      "execution_count": 0,
      "outputs": []
    }
  ]
}