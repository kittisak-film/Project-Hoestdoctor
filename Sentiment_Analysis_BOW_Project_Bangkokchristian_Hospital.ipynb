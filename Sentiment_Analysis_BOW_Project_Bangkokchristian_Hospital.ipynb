{
  "nbformat": 4,
  "nbformat_minor": 0,
  "metadata": {
    "colab": {
      "name": "Sentiment_Analysis_BOW_Project_bangkok-christian-hospital.ipynb",
      "provenance": [],
      "collapsed_sections": []
    },
    "kernelspec": {
      "name": "python3",
      "display_name": "Python 3"
    },
    "widgets": {
      "application/vnd.jupyter.widget-state+json": {
        "41aec53a124b4978af0979859e19536f": {
          "model_module": "@jupyter-widgets/controls",
          "model_name": "HBoxModel",
          "state": {
            "_view_name": "HBoxView",
            "_dom_classes": [],
            "_model_name": "HBoxModel",
            "_view_module": "@jupyter-widgets/controls",
            "_model_module_version": "1.5.0",
            "_view_count": null,
            "_view_module_version": "1.5.0",
            "box_style": "",
            "layout": "IPY_MODEL_cc0f561861b24ad996f9d89731ec5716",
            "_model_module": "@jupyter-widgets/controls",
            "children": [
              "IPY_MODEL_acb9506970fe49f6a02c9327a518c2dc",
              "IPY_MODEL_6c681ceb5bfc4cb3ab98e094e385eefb"
            ]
          }
        },
        "cc0f561861b24ad996f9d89731ec5716": {
          "model_module": "@jupyter-widgets/base",
          "model_name": "LayoutModel",
          "state": {
            "_view_name": "LayoutView",
            "grid_template_rows": null,
            "right": null,
            "justify_content": null,
            "_view_module": "@jupyter-widgets/base",
            "overflow": null,
            "_model_module_version": "1.2.0",
            "_view_count": null,
            "flex_flow": null,
            "width": null,
            "min_width": null,
            "border": null,
            "align_items": null,
            "bottom": null,
            "_model_module": "@jupyter-widgets/base",
            "top": null,
            "grid_column": null,
            "overflow_y": null,
            "overflow_x": null,
            "grid_auto_flow": null,
            "grid_area": null,
            "grid_template_columns": null,
            "flex": null,
            "_model_name": "LayoutModel",
            "justify_items": null,
            "grid_row": null,
            "max_height": null,
            "align_content": null,
            "visibility": null,
            "align_self": null,
            "height": null,
            "min_height": null,
            "padding": null,
            "grid_auto_rows": null,
            "grid_gap": null,
            "max_width": null,
            "order": null,
            "_view_module_version": "1.2.0",
            "grid_template_areas": null,
            "object_position": null,
            "object_fit": null,
            "grid_auto_columns": null,
            "margin": null,
            "display": null,
            "left": null
          }
        },
        "acb9506970fe49f6a02c9327a518c2dc": {
          "model_module": "@jupyter-widgets/controls",
          "model_name": "FloatProgressModel",
          "state": {
            "_view_name": "ProgressView",
            "style": "IPY_MODEL_17896bea402b4fa9b5d7b0f7b5a8fc7e",
            "_dom_classes": [],
            "description": "100%",
            "_model_name": "FloatProgressModel",
            "bar_style": "success",
            "max": 315,
            "_view_module": "@jupyter-widgets/controls",
            "_model_module_version": "1.5.0",
            "value": 315,
            "_view_count": null,
            "_view_module_version": "1.5.0",
            "orientation": "horizontal",
            "min": 0,
            "description_tooltip": null,
            "_model_module": "@jupyter-widgets/controls",
            "layout": "IPY_MODEL_e23d845f960c49e2b740913deee34428"
          }
        },
        "6c681ceb5bfc4cb3ab98e094e385eefb": {
          "model_module": "@jupyter-widgets/controls",
          "model_name": "HTMLModel",
          "state": {
            "_view_name": "HTMLView",
            "style": "IPY_MODEL_89c58e98de8a47a989dcc5890f1dce4e",
            "_dom_classes": [],
            "description": "",
            "_model_name": "HTMLModel",
            "placeholder": "​",
            "_view_module": "@jupyter-widgets/controls",
            "_model_module_version": "1.5.0",
            "value": " 315/315 [00:02&lt;00:00, 123.33it/s]",
            "_view_count": null,
            "_view_module_version": "1.5.0",
            "description_tooltip": null,
            "_model_module": "@jupyter-widgets/controls",
            "layout": "IPY_MODEL_057e643c27f74677a9cb34d5ca50739b"
          }
        },
        "17896bea402b4fa9b5d7b0f7b5a8fc7e": {
          "model_module": "@jupyter-widgets/controls",
          "model_name": "ProgressStyleModel",
          "state": {
            "_view_name": "StyleView",
            "_model_name": "ProgressStyleModel",
            "description_width": "initial",
            "_view_module": "@jupyter-widgets/base",
            "_model_module_version": "1.5.0",
            "_view_count": null,
            "_view_module_version": "1.2.0",
            "bar_color": null,
            "_model_module": "@jupyter-widgets/controls"
          }
        },
        "e23d845f960c49e2b740913deee34428": {
          "model_module": "@jupyter-widgets/base",
          "model_name": "LayoutModel",
          "state": {
            "_view_name": "LayoutView",
            "grid_template_rows": null,
            "right": null,
            "justify_content": null,
            "_view_module": "@jupyter-widgets/base",
            "overflow": null,
            "_model_module_version": "1.2.0",
            "_view_count": null,
            "flex_flow": null,
            "width": null,
            "min_width": null,
            "border": null,
            "align_items": null,
            "bottom": null,
            "_model_module": "@jupyter-widgets/base",
            "top": null,
            "grid_column": null,
            "overflow_y": null,
            "overflow_x": null,
            "grid_auto_flow": null,
            "grid_area": null,
            "grid_template_columns": null,
            "flex": null,
            "_model_name": "LayoutModel",
            "justify_items": null,
            "grid_row": null,
            "max_height": null,
            "align_content": null,
            "visibility": null,
            "align_self": null,
            "height": null,
            "min_height": null,
            "padding": null,
            "grid_auto_rows": null,
            "grid_gap": null,
            "max_width": null,
            "order": null,
            "_view_module_version": "1.2.0",
            "grid_template_areas": null,
            "object_position": null,
            "object_fit": null,
            "grid_auto_columns": null,
            "margin": null,
            "display": null,
            "left": null
          }
        },
        "89c58e98de8a47a989dcc5890f1dce4e": {
          "model_module": "@jupyter-widgets/controls",
          "model_name": "DescriptionStyleModel",
          "state": {
            "_view_name": "StyleView",
            "_model_name": "DescriptionStyleModel",
            "description_width": "",
            "_view_module": "@jupyter-widgets/base",
            "_model_module_version": "1.5.0",
            "_view_count": null,
            "_view_module_version": "1.2.0",
            "_model_module": "@jupyter-widgets/controls"
          }
        },
        "057e643c27f74677a9cb34d5ca50739b": {
          "model_module": "@jupyter-widgets/base",
          "model_name": "LayoutModel",
          "state": {
            "_view_name": "LayoutView",
            "grid_template_rows": null,
            "right": null,
            "justify_content": null,
            "_view_module": "@jupyter-widgets/base",
            "overflow": null,
            "_model_module_version": "1.2.0",
            "_view_count": null,
            "flex_flow": null,
            "width": null,
            "min_width": null,
            "border": null,
            "align_items": null,
            "bottom": null,
            "_model_module": "@jupyter-widgets/base",
            "top": null,
            "grid_column": null,
            "overflow_y": null,
            "overflow_x": null,
            "grid_auto_flow": null,
            "grid_area": null,
            "grid_template_columns": null,
            "flex": null,
            "_model_name": "LayoutModel",
            "justify_items": null,
            "grid_row": null,
            "max_height": null,
            "align_content": null,
            "visibility": null,
            "align_self": null,
            "height": null,
            "min_height": null,
            "padding": null,
            "grid_auto_rows": null,
            "grid_gap": null,
            "max_width": null,
            "order": null,
            "_view_module_version": "1.2.0",
            "grid_template_areas": null,
            "object_position": null,
            "object_fit": null,
            "grid_auto_columns": null,
            "margin": null,
            "display": null,
            "left": null
          }
        }
      }
    }
  },
  "cells": [
    {
      "cell_type": "code",
      "metadata": {
        "id": "SKbUKdjgFdwU",
        "colab_type": "code",
        "outputId": "6098db53-7a98-4d2e-cf62-96bb9afd9f74",
        "colab": {
          "base_uri": "https://localhost:8080/",
          "height": 136
        }
      },
      "source": [
        "!pip install googletrans\n",
        "!pip install tqdm --upgrade\n",
        "!pip install twython"
      ],
      "execution_count": 198,
      "outputs": [
        {
          "output_type": "stream",
          "text": [
            "Requirement already satisfied: googletrans in /usr/local/lib/python3.6/dist-packages (2.4.0)\n",
            "Requirement already satisfied: requests in /usr/local/lib/python3.6/dist-packages (from googletrans) (2.9.1)\n",
            "Requirement already up-to-date: tqdm in /usr/local/lib/python3.6/dist-packages (4.45.0)\n",
            "Requirement already satisfied: twython in /usr/local/lib/python3.6/dist-packages (3.8.2)\n",
            "Requirement already satisfied: requests-oauthlib>=0.4.0 in /usr/local/lib/python3.6/dist-packages (from twython) (1.3.0)\n",
            "Requirement already satisfied: requests>=2.1.0 in /usr/local/lib/python3.6/dist-packages (from twython) (2.9.1)\n",
            "Requirement already satisfied: oauthlib>=3.0.0 in /usr/local/lib/python3.6/dist-packages (from requests-oauthlib>=0.4.0->twython) (3.1.0)\n"
          ],
          "name": "stdout"
        }
      ]
    },
    {
      "cell_type": "code",
      "metadata": {
        "id": "mf5lDE7wafjr",
        "colab_type": "code",
        "colab": {}
      },
      "source": [
        "# web scraping\n",
        "import requests\n",
        "from bs4 import BeautifulSoup\n",
        "from time import time, sleep\n",
        "from random import randint\n",
        "\n",
        "# Translation\n",
        "from googletrans import Translator\n",
        "\n",
        "# Utilities\n",
        "from tqdm import tqdm\n",
        "from tqdm import tqdm_notebook\n",
        "import numpy as np\n",
        "import pandas as pd\n",
        "\n",
        "# NLP\n",
        "from nltk import sent_tokenize, word_tokenize, pos_tag, RegexpParser\n",
        "from nltk.sentiment.vader import SentimentIntensityAnalyzer\n",
        "from nltk.sentiment.util import mark_negation"
      ],
      "execution_count": 0,
      "outputs": []
    },
    {
      "cell_type": "code",
      "metadata": {
        "id": "KLJxKnwjah8C",
        "colab_type": "code",
        "outputId": "b410a28a-22d0-4526-f0e0-3aed4156ca54",
        "colab": {
          "base_uri": "https://localhost:8080/",
          "height": 170
        }
      },
      "source": [
        "# Download resources\n",
        "import nltk\n",
        "\n",
        "nltk.download(\"punkt\")\n",
        "nltk.download(\"vader_lexicon\")\n",
        "nltk.download('averaged_perceptron_tagger')"
      ],
      "execution_count": 200,
      "outputs": [
        {
          "output_type": "stream",
          "text": [
            "[nltk_data] Downloading package punkt to /root/nltk_data...\n",
            "[nltk_data]   Package punkt is already up-to-date!\n",
            "[nltk_data] Downloading package vader_lexicon to /root/nltk_data...\n",
            "[nltk_data]   Package vader_lexicon is already up-to-date!\n",
            "[nltk_data] Downloading package averaged_perceptron_tagger to\n",
            "[nltk_data]     /root/nltk_data...\n",
            "[nltk_data]   Package averaged_perceptron_tagger is already up-to-\n",
            "[nltk_data]       date!\n"
          ],
          "name": "stdout"
        },
        {
          "output_type": "execute_result",
          "data": {
            "text/plain": [
              "True"
            ]
          },
          "metadata": {
            "tags": []
          },
          "execution_count": 200
        }
      ]
    },
    {
      "cell_type": "markdown",
      "metadata": {
        "id": "tZ5SQxNQdXAs",
        "colab_type": "text"
      },
      "source": [
        "Web Scrap\n",
        "\n",
        "โรงพยาบาลกรุงเทพคริสเตียน"
      ]
    },
    {
      "cell_type": "code",
      "metadata": {
        "id": "rzBJtKDJdGC6",
        "colab_type": "code",
        "colab": {}
      },
      "source": [
        "def honestdoc_comment(url, hospitalName):\n",
        "    \"\"\"\n",
        "    This function is to scrap data from a webboard (https://www.honestdocs.com).\n",
        "\n",
        "    INPUT\n",
        "    url : String\n",
        "      URL of the target website\n",
        "    \n",
        "    OUTPUT\n",
        "    comment : List\n",
        "      List of comments\n",
        "    score : List\n",
        "      List of rating score\n",
        "    \"\"\"\n",
        "    #create connection\n",
        "    data = requests.get(url)\n",
        "    print(\"requests code : {}\".format(data.status_code)) \n",
        "    print(\"note\\n2xx: success\\n4xx, 5xx: error\")\n",
        "    \n",
        "    #scrape comment and score\n",
        "    start_time = time() #start scraping data from page1\n",
        "    r = requests.get(url, params=dict(query=\"web scraping\",page=1)) \n",
        "    soup = BeautifulSoup(r.text,\"html.parser\")\n",
        "    n = len(soup.find_all(\"div\",{\"class\":\"comments__content\"})) #find n of items in the page\n",
        "    \n",
        "    #extract each item\n",
        "    comment = [soup.find_all(\"div\",\n",
        "                             {\"class\":\"comments__content\"})[i].get_text().strip() for i in range(0,n)]\n",
        "    score = [soup.find_all(\"span\",\n",
        "                           {\"class\":\"stars star-rating\"})[i].attrs[\"data-score\"] for i in range(0,n)]\n",
        "    elapsed_time = time() - start_time #finish scraping data from page1\n",
        "    print(\"Time used for scraping data from page - 1 : {} s\".format(elapsed_time))\n",
        "    sleep(randint(1,3)) #mimic human behavior\n",
        "           \n",
        "    p = 2 #start scraping data from page2\n",
        "    while n > 0: #until the number of items in a page = 0\n",
        "        start_time = time() \n",
        "        r = requests.get(url, params=dict(query=\"web scraping\",page=p))\n",
        "        soup = BeautifulSoup(r.text,\"html.parser\")\n",
        "        n = len(soup.find_all(\"div\",{\"class\":\"comments__content\"}))\n",
        "        [comment.append(soup.find_all(\"div\",\n",
        "                                      {\"class\":\"comments__content\"})[i].get_text().strip()) for i in range(0,n)]\n",
        "        [score.append(soup.find_all(\"span\",\n",
        "                                    {\"class\":\"stars star-rating\"})[i].attrs[\"data-score\"]) for i in range(0,n)]\n",
        "        elapsed_time = time() - start_time\n",
        "        print(\"Time used for scraping data from page - {} : {} s\".format(p, elapsed_time))\n",
        "        p +=1\n",
        "        sleep(randint(1,3))\n",
        "\n",
        "    df = pd.DataFrame({\"comment\": comment, \n",
        "              \"score\": score\n",
        "              })\n",
        "    \n",
        "    df[\"hospital\"] = hospitalName\n",
        "    \n",
        "    return df"
      ],
      "execution_count": 0,
      "outputs": []
    },
    {
      "cell_type": "markdown",
      "metadata": {
        "id": "Nnw4gthuddw6",
        "colab_type": "text"
      },
      "source": [
        "คำสั่งแปลงจากภาษาไทยเป็นภาษาอังกฤษ"
      ]
    },
    {
      "cell_type": "code",
      "metadata": {
        "id": "NZOYhWxhdbMK",
        "colab_type": "code",
        "colab": {}
      },
      "source": [
        "def th2en(comment):\n",
        "  try:\n",
        "    textTrans = Translator().translate(comment, src=\"th\", dest=\"en\").text\n",
        "  except:\n",
        "    textTrans = \"\"\n",
        "    print(\"\\n Can not translate \" + comment)\n",
        "\n",
        "  return textTrans"
      ],
      "execution_count": 0,
      "outputs": []
    },
    {
      "cell_type": "markdown",
      "metadata": {
        "id": "9tMosSLbdjhs",
        "colab_type": "text"
      },
      "source": [
        "\n",
        "\n",
        "\n",
        "ดึง comment จากโรงพยาบาลพระราม9"
      ]
    },
    {
      "cell_type": "code",
      "metadata": {
        "id": "D6xFPzxndgEQ",
        "colab_type": "code",
        "outputId": "e5f82ee8-32af-49b8-99e8-4a0ea829e325",
        "colab": {
          "base_uri": "https://localhost:8080/",
          "height": 561
        }
      },
      "source": [
        "df = honestdoc_comment(r\"https://www.honestdocs.co/hospitals/bangkok-christian-hospital\", \"bangkok-christian-hospital\")\n",
        "comments = df"
      ],
      "execution_count": 203,
      "outputs": [
        {
          "output_type": "stream",
          "text": [
            "requests code : 200\n",
            "note\n",
            "2xx: success\n",
            "4xx, 5xx: error\n",
            "Time used for scraping data from page - 1 : 0.39247846603393555 s\n",
            "Time used for scraping data from page - 2 : 0.45721936225891113 s\n",
            "Time used for scraping data from page - 3 : 0.42501330375671387 s\n",
            "Time used for scraping data from page - 4 : 0.45900630950927734 s\n",
            "Time used for scraping data from page - 5 : 0.39813661575317383 s\n",
            "Time used for scraping data from page - 6 : 0.4381897449493408 s\n",
            "Time used for scraping data from page - 7 : 0.37100696563720703 s\n",
            "Time used for scraping data from page - 8 : 0.43073320388793945 s\n",
            "Time used for scraping data from page - 9 : 0.37108755111694336 s\n",
            "Time used for scraping data from page - 10 : 0.37471652030944824 s\n",
            "Time used for scraping data from page - 11 : 0.5524148941040039 s\n",
            "Time used for scraping data from page - 12 : 0.3687174320220947 s\n",
            "Time used for scraping data from page - 13 : 0.3921060562133789 s\n",
            "Time used for scraping data from page - 14 : 0.39066481590270996 s\n",
            "Time used for scraping data from page - 15 : 0.3819916248321533 s\n",
            "Time used for scraping data from page - 16 : 0.40624427795410156 s\n",
            "Time used for scraping data from page - 17 : 0.393477201461792 s\n",
            "Time used for scraping data from page - 18 : 0.3720357418060303 s\n",
            "Time used for scraping data from page - 19 : 0.46720409393310547 s\n",
            "Time used for scraping data from page - 20 : 0.5164027214050293 s\n",
            "Time used for scraping data from page - 21 : 0.40259361267089844 s\n",
            "Time used for scraping data from page - 22 : 0.3740077018737793 s\n",
            "Time used for scraping data from page - 23 : 0.4436476230621338 s\n",
            "Time used for scraping data from page - 24 : 0.36850547790527344 s\n",
            "Time used for scraping data from page - 25 : 0.36866092681884766 s\n",
            "Time used for scraping data from page - 26 : 0.37811732292175293 s\n",
            "Time used for scraping data from page - 27 : 0.38282227516174316 s\n",
            "Time used for scraping data from page - 28 : 0.2997257709503174 s\n"
          ],
          "name": "stdout"
        }
      ]
    },
    {
      "cell_type": "markdown",
      "metadata": {
        "id": "QoAYf28xev1L",
        "colab_type": "text"
      },
      "source": [
        "นำคอมเม้นท์มาแปลงเป็นภาษาอังกฤษ"
      ]
    },
    {
      "cell_type": "code",
      "metadata": {
        "id": "e4IZiChTewxy",
        "colab_type": "code",
        "outputId": "6435e065-474f-466b-ff24-5797668f5c0f",
        "colab": {
          "base_uri": "https://localhost:8080/",
          "height": 34
        }
      },
      "source": [
        "tqdm.pandas()\n",
        "comments[\"en\"] = comments.progress_apply(lambda x: th2en(x[\"comment\"]), axis=1)\n",
        "\n",
        "comments = df"
      ],
      "execution_count": 204,
      "outputs": [
        {
          "output_type": "stream",
          "text": [
            "100%|██████████| 80/80 [00:09<00:00,  8.72it/s]\n"
          ],
          "name": "stderr"
        }
      ]
    },
    {
      "cell_type": "markdown",
      "metadata": {
        "id": "IReVG-WVeT1K",
        "colab_type": "text"
      },
      "source": [
        "ได้ทั้งหมด 80 แถว 4 column"
      ]
    },
    {
      "cell_type": "code",
      "metadata": {
        "id": "jmXT4LnFdmlv",
        "colab_type": "code",
        "outputId": "1b379dfe-bb1b-41f3-f0c3-3ed480185d88",
        "colab": {
          "base_uri": "https://localhost:8080/",
          "height": 34
        }
      },
      "source": [
        "comments.shape"
      ],
      "execution_count": 205,
      "outputs": [
        {
          "output_type": "execute_result",
          "data": {
            "text/plain": [
              "(80, 4)"
            ]
          },
          "metadata": {
            "tags": []
          },
          "execution_count": 205
        }
      ]
    },
    {
      "cell_type": "markdown",
      "metadata": {
        "id": "31REx1lEfBC8",
        "colab_type": "text"
      },
      "source": [
        "นับจำนวนคอมเม้นท์ได้ทั้งหมด 80 คอมเม้น"
      ]
    },
    {
      "cell_type": "code",
      "metadata": {
        "id": "TcgOYhHbep5t",
        "colab_type": "code",
        "outputId": "59507efb-7b0f-435d-f92a-99e0d532d78c",
        "colab": {
          "base_uri": "https://localhost:8080/",
          "height": 51
        }
      },
      "source": [
        "comments[\"hospital\"].value_counts()"
      ],
      "execution_count": 206,
      "outputs": [
        {
          "output_type": "execute_result",
          "data": {
            "text/plain": [
              "bangkok-christian-hospital    80\n",
              "Name: hospital, dtype: int64"
            ]
          },
          "metadata": {
            "tags": []
          },
          "execution_count": 206
        }
      ]
    },
    {
      "cell_type": "markdown",
      "metadata": {
        "id": "OEQQSkGEfGNi",
        "colab_type": "text"
      },
      "source": [
        "ตรวจสอบ 5 แถวแรกของข้อมูล"
      ]
    },
    {
      "cell_type": "code",
      "metadata": {
        "id": "HhPFZm-wfDOM",
        "colab_type": "code",
        "outputId": "d7f3fa49-2aff-4210-8f16-9498cf5c1a86",
        "colab": {
          "base_uri": "https://localhost:8080/",
          "height": 359
        }
      },
      "source": [
        "comments.head(10)"
      ],
      "execution_count": 207,
      "outputs": [
        {
          "output_type": "execute_result",
          "data": {
            "text/html": [
              "<div>\n",
              "<style scoped>\n",
              "    .dataframe tbody tr th:only-of-type {\n",
              "        vertical-align: middle;\n",
              "    }\n",
              "\n",
              "    .dataframe tbody tr th {\n",
              "        vertical-align: top;\n",
              "    }\n",
              "\n",
              "    .dataframe thead th {\n",
              "        text-align: right;\n",
              "    }\n",
              "</style>\n",
              "<table border=\"1\" class=\"dataframe\">\n",
              "  <thead>\n",
              "    <tr style=\"text-align: right;\">\n",
              "      <th></th>\n",
              "      <th>comment</th>\n",
              "      <th>score</th>\n",
              "      <th>hospital</th>\n",
              "      <th>en</th>\n",
              "    </tr>\n",
              "  </thead>\n",
              "  <tbody>\n",
              "    <tr>\n",
              "      <th>0</th>\n",
              "      <td>สิ่งที่ชอบอย่างหนึ่งมากจริงๆคือบุคลากรในโรงพยา...</td>\n",
              "      <td>5</td>\n",
              "      <td>bangkok-christian-hospital</td>\n",
              "      <td>What is really like a lot of people in this ho...</td>\n",
              "    </tr>\n",
              "    <tr>\n",
              "      <th>1</th>\n",
              "      <td>ได้เข้าไปใช้บริกาที่นี่ มีความสะอาดและต้อนรับด...</td>\n",
              "      <td>5</td>\n",
              "      <td>bangkok-christian-hospital</td>\n",
              "      <td>Riga has to use here. Clean and good reception...</td>\n",
              "    </tr>\n",
              "    <tr>\n",
              "      <th>2</th>\n",
              "      <td>สิ่งที่ชอบอย่างหนึ่งมากจริงๆคือบุคลากรในโรงพยา...</td>\n",
              "      <td>4</td>\n",
              "      <td>bangkok-christian-hospital</td>\n",
              "      <td>What is really like a lot of people in this ho...</td>\n",
              "    </tr>\n",
              "    <tr>\n",
              "      <th>3</th>\n",
              "      <td>พยาบาล คุณหมอพูดจา ดูแลดีค่ะ โรงพยาบาลมีที่จอด...</td>\n",
              "      <td>5</td>\n",
              "      <td>bangkok-christian-hospital</td>\n",
              "      <td>Hospital doctors speak good care hospital park...</td>\n",
              "    </tr>\n",
              "    <tr>\n",
              "      <th>4</th>\n",
              "      <td>ไปหาคุณหมอด้วยอาการปวดขาคุณหมอถามนิดหน่อยแล้วก...</td>\n",
              "      <td>3</td>\n",
              "      <td>bangkok-christian-hospital</td>\n",
              "      <td>You go to the doctor with symptoms of leg pain...</td>\n",
              "    </tr>\n",
              "    <tr>\n",
              "      <th>5</th>\n",
              "      <td>เป็นโรงพยาบาลที่ทุกคนในครอบครัวใช้บริการ เพราะ...</td>\n",
              "      <td>4</td>\n",
              "      <td>bangkok-christian-hospital</td>\n",
              "      <td>The hospital where the family service. Because...</td>\n",
              "    </tr>\n",
              "    <tr>\n",
              "      <th>6</th>\n",
              "      <td>ป่วยตกบัยฝนไดค่ะเข้ารักษาห้องฉุกเฉินมีประกันสุ...</td>\n",
              "      <td>4</td>\n",
              "      <td>bangkok-christian-hospital</td>\n",
              "      <td>Buffett's rain falls ill treat me into the eme...</td>\n",
              "    </tr>\n",
              "    <tr>\n",
              "      <th>7</th>\n",
              "      <td>เป็นคนไข้ประจำมาตลอด 20 กว่าปี ล่าสุดได้ไปหาหม...</td>\n",
              "      <td>2</td>\n",
              "      <td>bangkok-christian-hospital</td>\n",
              "      <td>Patients are routinely over the last 20 years ...</td>\n",
              "    </tr>\n",
              "    <tr>\n",
              "      <th>8</th>\n",
              "      <td>ไปรับการรักษาโรครูมาตอยด์ที่โรงพยาบาลกรุงเทพคร...</td>\n",
              "      <td>5</td>\n",
              "      <td>bangkok-christian-hospital</td>\n",
              "      <td>To treat rheumatoid at the Bangkok Christian H...</td>\n",
              "    </tr>\n",
              "    <tr>\n",
              "      <th>9</th>\n",
              "      <td>บริการดี อธิบายละเอียด ใส่ใจคนไข้</td>\n",
              "      <td>5</td>\n",
              "      <td>bangkok-christian-hospital</td>\n",
              "      <td>Good service described patient care</td>\n",
              "    </tr>\n",
              "  </tbody>\n",
              "</table>\n",
              "</div>"
            ],
            "text/plain": [
              "                                             comment  ...                                                 en\n",
              "0  สิ่งที่ชอบอย่างหนึ่งมากจริงๆคือบุคลากรในโรงพยา...  ...  What is really like a lot of people in this ho...\n",
              "1  ได้เข้าไปใช้บริกาที่นี่ มีความสะอาดและต้อนรับด...  ...  Riga has to use here. Clean and good reception...\n",
              "2  สิ่งที่ชอบอย่างหนึ่งมากจริงๆคือบุคลากรในโรงพยา...  ...  What is really like a lot of people in this ho...\n",
              "3  พยาบาล คุณหมอพูดจา ดูแลดีค่ะ โรงพยาบาลมีที่จอด...  ...  Hospital doctors speak good care hospital park...\n",
              "4  ไปหาคุณหมอด้วยอาการปวดขาคุณหมอถามนิดหน่อยแล้วก...  ...  You go to the doctor with symptoms of leg pain...\n",
              "5  เป็นโรงพยาบาลที่ทุกคนในครอบครัวใช้บริการ เพราะ...  ...  The hospital where the family service. Because...\n",
              "6  ป่วยตกบัยฝนไดค่ะเข้ารักษาห้องฉุกเฉินมีประกันสุ...  ...  Buffett's rain falls ill treat me into the eme...\n",
              "7  เป็นคนไข้ประจำมาตลอด 20 กว่าปี ล่าสุดได้ไปหาหม...  ...  Patients are routinely over the last 20 years ...\n",
              "8  ไปรับการรักษาโรครูมาตอยด์ที่โรงพยาบาลกรุงเทพคร...  ...  To treat rheumatoid at the Bangkok Christian H...\n",
              "9                  บริการดี อธิบายละเอียด ใส่ใจคนไข้  ...                Good service described patient care\n",
              "\n",
              "[10 rows x 4 columns]"
            ]
          },
          "metadata": {
            "tags": []
          },
          "execution_count": 207
        }
      ]
    },
    {
      "cell_type": "markdown",
      "metadata": {
        "id": "DZdHVdApfLd2",
        "colab_type": "text"
      },
      "source": [
        "Mount Drive เพื่อAuthorize เข้าถึง Folder ในDrive"
      ]
    },
    {
      "cell_type": "code",
      "metadata": {
        "id": "nN6_cE6IfJD6",
        "colab_type": "code",
        "outputId": "09896bfe-1294-44f0-d4ff-066007b3849d",
        "colab": {
          "base_uri": "https://localhost:8080/",
          "height": 34
        }
      },
      "source": [
        "from google.colab import drive\n",
        "drive.mount('/content/gdrive')\n",
        "\n",
        "import os\n",
        "os.chdir('/content/gdrive/My Drive/DS532_Text_Analytic/Project_Hospital')"
      ],
      "execution_count": 208,
      "outputs": [
        {
          "output_type": "stream",
          "text": [
            "Drive already mounted at /content/gdrive; to attempt to forcibly remount, call drive.mount(\"/content/gdrive\", force_remount=True).\n"
          ],
          "name": "stdout"
        }
      ]
    },
    {
      "cell_type": "markdown",
      "metadata": {
        "id": "Ol4r4Od3fVxJ",
        "colab_type": "text"
      },
      "source": [
        "Save ข้อมูลเป็น csv"
      ]
    },
    {
      "cell_type": "code",
      "metadata": {
        "id": "_DEiugaafPAE",
        "colab_type": "code",
        "colab": {}
      },
      "source": [
        "#backup data \n",
        "comments.to_csv(\"comment_bangkok-christian-hospital.csv\", index=False)"
      ],
      "execution_count": 0,
      "outputs": []
    },
    {
      "cell_type": "code",
      "metadata": {
        "id": "TyscoVQbfX07",
        "colab_type": "code",
        "colab": {}
      },
      "source": [
        "from tqdm import tqdm_notebook"
      ],
      "execution_count": 0,
      "outputs": []
    },
    {
      "cell_type": "markdown",
      "metadata": {
        "id": "cZ1r5AE3f5Zf",
        "colab_type": "text"
      },
      "source": [
        "**Read data**"
      ]
    },
    {
      "cell_type": "code",
      "metadata": {
        "id": "ey_IAakUf3IA",
        "colab_type": "code",
        "colab": {}
      },
      "source": [
        "rama = pd.read_csv(\"comment_bangkok-christian-hospital.csv\")\n",
        "rama = rama.reset_index()\n",
        "rama = rama.rename(columns={\"index\": \"cid\"})"
      ],
      "execution_count": 0,
      "outputs": []
    },
    {
      "cell_type": "markdown",
      "metadata": {
        "id": "hnE3JinPgC0M",
        "colab_type": "text"
      },
      "source": [
        "Sentence Tokenize"
      ]
    },
    {
      "cell_type": "code",
      "metadata": {
        "id": "cEVRtRLnf-pu",
        "colab_type": "code",
        "outputId": "2a4f6070-c8e9-4d9c-8211-941354c88728",
        "colab": {
          "base_uri": "https://localhost:8080/",
          "height": 68
        }
      },
      "source": [
        "import nltk\n",
        "nltk.download('punkt')"
      ],
      "execution_count": 212,
      "outputs": [
        {
          "output_type": "stream",
          "text": [
            "[nltk_data] Downloading package punkt to /root/nltk_data...\n",
            "[nltk_data]   Package punkt is already up-to-date!\n"
          ],
          "name": "stdout"
        },
        {
          "output_type": "execute_result",
          "data": {
            "text/plain": [
              "True"
            ]
          },
          "metadata": {
            "tags": []
          },
          "execution_count": 212
        }
      ]
    },
    {
      "cell_type": "code",
      "metadata": {
        "id": "epk4kCvNgHLq",
        "colab_type": "code",
        "colab": {}
      },
      "source": [
        "from nltk import sent_tokenize\n",
        "\n",
        "sentences = []\n",
        "cids = []\n",
        "for cid in rama[\"cid\"]:\n",
        "    s = sent_tokenize(rama.loc[cid, \"en\"])\n",
        "    sentences = sentences + s\n",
        "    cids = cids + [cid] * len(s)"
      ],
      "execution_count": 0,
      "outputs": []
    },
    {
      "cell_type": "markdown",
      "metadata": {
        "id": "YU3rVJqlgSK2",
        "colab_type": "text"
      },
      "source": [
        "**Sentence-level sentiment**"
      ]
    },
    {
      "cell_type": "code",
      "metadata": {
        "id": "kb6lakXpgg6K",
        "colab_type": "code",
        "outputId": "b1e39a06-d9ff-4f25-a19b-a8342a7ae726",
        "colab": {
          "base_uri": "https://localhost:8080/",
          "height": 85
        }
      },
      "source": [
        "!pip install twython"
      ],
      "execution_count": 214,
      "outputs": [
        {
          "output_type": "stream",
          "text": [
            "Requirement already satisfied: twython in /usr/local/lib/python3.6/dist-packages (3.8.2)\n",
            "Requirement already satisfied: requests-oauthlib>=0.4.0 in /usr/local/lib/python3.6/dist-packages (from twython) (1.3.0)\n",
            "Requirement already satisfied: requests>=2.1.0 in /usr/local/lib/python3.6/dist-packages (from twython) (2.9.1)\n",
            "Requirement already satisfied: oauthlib>=3.0.0 in /usr/local/lib/python3.6/dist-packages (from requests-oauthlib>=0.4.0->twython) (3.1.0)\n"
          ],
          "name": "stdout"
        }
      ]
    },
    {
      "cell_type": "code",
      "metadata": {
        "id": "8bRgMkRWgrh-",
        "colab_type": "code",
        "colab": {}
      },
      "source": [
        "from nltk.sentiment.vader import SentimentIntensityAnalyzer"
      ],
      "execution_count": 0,
      "outputs": []
    },
    {
      "cell_type": "code",
      "metadata": {
        "id": "06HoUcuagwd6",
        "colab_type": "code",
        "colab": {}
      },
      "source": [
        "def predict_sentiment(sentence):\n",
        "  sa = SentimentIntensityAnalyzer()\n",
        "  sentiment_distribution = sa.polarity_scores(sentence)\n",
        "  score = sentiment_distribution.get(\"compound\")\n",
        "  \n",
        "  if score >= 0.05:\n",
        "    return \"positive\"\n",
        "  elif score <= -0.05:\n",
        "    return \"negative\"\n",
        "  else:\n",
        "    return \"neutral\""
      ],
      "execution_count": 0,
      "outputs": []
    },
    {
      "cell_type": "code",
      "metadata": {
        "id": "x-2sj7Swh4Je",
        "colab_type": "code",
        "outputId": "d5bdf354-20e9-4e66-eea5-95792c1e948d",
        "colab": {
          "base_uri": "https://localhost:8080/",
          "height": 68
        }
      },
      "source": [
        "import nltk\n",
        "nltk.download(\"vader_lexicon\")"
      ],
      "execution_count": 217,
      "outputs": [
        {
          "output_type": "stream",
          "text": [
            "[nltk_data] Downloading package vader_lexicon to /root/nltk_data...\n",
            "[nltk_data]   Package vader_lexicon is already up-to-date!\n"
          ],
          "name": "stdout"
        },
        {
          "output_type": "execute_result",
          "data": {
            "text/plain": [
              "True"
            ]
          },
          "metadata": {
            "tags": []
          },
          "execution_count": 217
        }
      ]
    },
    {
      "cell_type": "code",
      "metadata": {
        "id": "zXZmiSfagyWP",
        "colab_type": "code",
        "outputId": "fbc213d5-084f-49d1-c0c4-9b1109809835",
        "colab": {
          "base_uri": "https://localhost:8080/",
          "height": 66,
          "referenced_widgets": [
            "41aec53a124b4978af0979859e19536f",
            "cc0f561861b24ad996f9d89731ec5716",
            "acb9506970fe49f6a02c9327a518c2dc",
            "6c681ceb5bfc4cb3ab98e094e385eefb",
            "17896bea402b4fa9b5d7b0f7b5a8fc7e",
            "e23d845f960c49e2b740913deee34428",
            "89c58e98de8a47a989dcc5890f1dce4e",
            "057e643c27f74677a9cb34d5ca50739b"
          ]
        }
      },
      "source": [
        "sentiments = []\n",
        "for sentence in tqdm_notebook(sentences, total=len(sentences)):\n",
        "    sentiments.append(predict_sentiment(sentence))"
      ],
      "execution_count": 218,
      "outputs": [
        {
          "output_type": "display_data",
          "data": {
            "application/vnd.jupyter.widget-view+json": {
              "model_id": "41aec53a124b4978af0979859e19536f",
              "version_minor": 0,
              "version_major": 2
            },
            "text/plain": [
              "HBox(children=(FloatProgress(value=0.0, max=315.0), HTML(value='')))"
            ]
          },
          "metadata": {
            "tags": []
          }
        },
        {
          "output_type": "stream",
          "text": [
            "\n"
          ],
          "name": "stdout"
        }
      ]
    },
    {
      "cell_type": "markdown",
      "metadata": {
        "id": "--0zHQiajGlm",
        "colab_type": "text"
      },
      "source": [
        "Parsing"
      ]
    },
    {
      "cell_type": "code",
      "metadata": {
        "id": "JVefOLf4g0NI",
        "colab_type": "code",
        "outputId": "9ebe1ba2-6dc4-4835-dba9-bb4081625941",
        "colab": {
          "base_uri": "https://localhost:8080/",
          "height": 102
        }
      },
      "source": [
        "nltk.download('averaged_perceptron_tagger')"
      ],
      "execution_count": 219,
      "outputs": [
        {
          "output_type": "stream",
          "text": [
            "[nltk_data] Downloading package averaged_perceptron_tagger to\n",
            "[nltk_data]     /root/nltk_data...\n",
            "[nltk_data]   Package averaged_perceptron_tagger is already up-to-\n",
            "[nltk_data]       date!\n"
          ],
          "name": "stdout"
        },
        {
          "output_type": "execute_result",
          "data": {
            "text/plain": [
              "True"
            ]
          },
          "metadata": {
            "tags": []
          },
          "execution_count": 219
        }
      ]
    },
    {
      "cell_type": "code",
      "metadata": {
        "id": "2xzxyXyajJR5",
        "colab_type": "code",
        "colab": {}
      },
      "source": [
        "from nltk import word_tokenize, pos_tag, RegexpParser"
      ],
      "execution_count": 0,
      "outputs": []
    },
    {
      "cell_type": "code",
      "metadata": {
        "id": "y301aSNrjRPU",
        "colab_type": "code",
        "colab": {}
      },
      "source": [
        "grammar = \"\"\"NP: {<NN|NNS>+}\n",
        "                 {<NN|NNS>+<CC><NN|NNS>+}\"\"\"\n",
        "chunker = RegexpParser(grammar)\n",
        "parse_trees = []\n",
        "for sentence in sentences:\n",
        "    parse_trees.append(chunker.parse(pos_tag(word_tokenize(sentence))))"
      ],
      "execution_count": 0,
      "outputs": []
    },
    {
      "cell_type": "code",
      "metadata": {
        "id": "OvVa8r19jS4U",
        "colab_type": "code",
        "outputId": "86b2fc31-1f67-44b5-f398-4528cfcacad7",
        "colab": {
          "base_uri": "https://localhost:8080/",
          "height": 1000
        }
      },
      "source": [
        "parse_trees"
      ],
      "execution_count": 222,
      "outputs": [
        {
          "output_type": "execute_result",
          "data": {
            "text/plain": [
              "[Tree('S', [('What', 'WP'), ('is', 'VBZ'), ('really', 'RB'), ('like', 'IN'), ('a', 'DT'), Tree('NP', [('lot', 'NN')]), ('of', 'IN'), Tree('NP', [('people', 'NNS')]), ('in', 'IN'), ('this', 'DT'), Tree('NP', [('hospital', 'NN')]), ('.', '.')]),\n",
              " Tree('S', [('Most', 'JJS'), ('smiling', 'JJ'), Tree('NP', [('Greetings', 'NNS'), ('care', 'NN'), ('patients', 'NNS')]), ('and', 'CC'), ('those', 'DT'), ('who', 'WP'), ('use', 'VBP'), ('the', 'DT'), Tree('NP', [('service', 'NN')]), ('were', 'VBD'), ('very', 'RB'), ('good', 'JJ'), ('.', '.')]),\n",
              " Tree('S', [Tree('NP', [('Talk', 'NN'), ('relax', 'NN')]), ('at', 'IN'), ('all', 'DT'), ('.', '.')]),\n",
              " Tree('S', [('Most', 'JJS'), Tree('NP', [('doctors', 'NNS')]), ('who', 'WP'), ('have', 'VBP'), ('had', 'VBD'), ('the', 'DT'), ('good-hearted', 'JJ'), Tree('NP', [('people', 'NNS')]), ('I', 'PRP'), ('have', 'VBP'), ('ever', 'RB'), ('come', 'VBN'), ('across', 'IN'), Tree('NP', [('someone', 'NN')]), ('who', 'WP'), (\"'s\", 'VBZ'), ('not', 'RB'), ('very', 'RB'), ('much', 'RB'), ('.', '.')]),\n",
              " Tree('S', [('The', 'DT'), ('Department', 'NNP'), ('of', 'IN'), ('Medicine', 'NNP'), ('Private', 'NNP'), Tree('NP', [('rooms', 'NNS')]), ('are', 'VBP'), ('OK', 'JJ'), ('Private', 'NNP'), ('worth', 'IN'), ('the', 'DT'), Tree('NP', [('price', 'NN')]), ('of', 'IN'), ('...', ':')]),\n",
              " Tree('S', [('Riga', 'NNP'), ('has', 'VBZ'), ('to', 'TO'), ('use', 'VB'), ('here', 'RB'), ('.', '.')]),\n",
              " Tree('S', [('Clean', 'JJ'), ('and', 'CC'), ('good', 'JJ'), Tree('NP', [('reception', 'NN')]), ('The', 'DT'), Tree('NP', [('service', 'NN')]), ('was', 'VBD'), ('with', 'IN'), ('the', 'DT'), Tree('NP', [('system', 'NN')]), ('.', '.')]),\n",
              " Tree('S', [('A', 'DT'), Tree('NP', [('nurse', 'NN')]), ('and', 'CC'), Tree('NP', [('doctor', 'NN')]), ('There', 'EX'), ('are', 'VBP'), Tree('NP', [('facilities', 'NNS')]), ('within', 'IN'), ('the', 'DT'), Tree('NP', [('hospital', 'NN')]), ('.', '.')]),\n",
              " Tree('S', [Tree('NP', [('Doctors', 'NNS')]), ('are', 'VBP'), ('competent', 'JJ'), ('The', 'DT'), Tree('NP', [('hospital', 'NN')]), ('is', 'VBZ'), ('a', 'DT'), ('good', 'JJ'), Tree('NP', [('thing', 'NN')]), ('to', 'TO'), ('be', 'VB'), ('able', 'JJ'), ('to', 'TO'), ('use', 'VB'), ('the', 'DT'), Tree('NP', [('service', 'NN')]), ('.', '.')]),\n",
              " Tree('S', [('I', 'PRP'), ('would', 'MD'), ('recommend', 'VB'), ('to', 'TO'), ('use', 'VB'), ('the', 'DT'), Tree('NP', [('service', 'NN')]), ('if', 'IN'), ('they', 'PRP'), ('are', 'VBP'), ('sick', 'JJ'), ('.', '.')]),\n",
              " Tree('S', [('After', 'IN'), ('going', 'VBG'), ('to', 'TO'), ('the', 'DT'), Tree('NP', [('doctor', 'NN')]), ('and', 'CC'), ('the', 'DT'), Tree('NP', [('patient', 'NN'), ('feels', 'NNS')]), ('better', 'RBR'), ('and', 'CC'), ('get', 'VB'), ('well', 'RB'), (',', ','), Tree('NP', [('thank', 'NN')]), ('you', 'PRP'), ('.', '.')]),\n",
              " Tree('S', [('What', 'WP'), ('is', 'VBZ'), ('really', 'RB'), ('like', 'IN'), ('a', 'DT'), Tree('NP', [('lot', 'NN')]), ('of', 'IN'), Tree('NP', [('people', 'NNS')]), ('in', 'IN'), ('this', 'DT'), Tree('NP', [('hospital', 'NN')]), ('.', '.')]),\n",
              " Tree('S', [('Most', 'JJS'), ('smiling', 'JJ'), Tree('NP', [('Greetings', 'NNS'), ('care', 'NN'), ('patients', 'NNS')]), ('and', 'CC'), ('those', 'DT'), ('who', 'WP'), ('use', 'VBP'), ('the', 'DT'), Tree('NP', [('service', 'NN')]), ('were', 'VBD'), ('very', 'RB'), ('good', 'JJ'), ('.', '.')]),\n",
              " Tree('S', [Tree('NP', [('Talk', 'NN'), ('relax', 'NN')]), ('at', 'IN'), ('all', 'DT'), ('.', '.')]),\n",
              " Tree('S', [('Most', 'JJS'), Tree('NP', [('doctors', 'NNS')]), ('who', 'WP'), ('have', 'VBP'), ('had', 'VBD'), ('the', 'DT'), ('good-hearted', 'JJ'), Tree('NP', [('people', 'NNS')]), ('I', 'PRP'), ('have', 'VBP'), ('ever', 'RB'), ('come', 'VBN'), ('across', 'IN'), Tree('NP', [('someone', 'NN')]), ('who', 'WP'), (\"'s\", 'VBZ'), ('not', 'RB'), ('very', 'RB'), ('much', 'RB'), ('.', '.')]),\n",
              " Tree('S', [('The', 'DT'), ('Department', 'NNP'), ('of', 'IN'), ('Medicine', 'NNP'), ('Private', 'NNP'), Tree('NP', [('rooms', 'NNS')]), ('are', 'VBP'), ('OK', 'JJ'), ('Private', 'NNP'), ('is', 'VBZ'), ('worth', 'IN'), ('the', 'DT'), Tree('NP', [('price', 'NN')]), ('Sister', 'NNP'), Tree('NP', [('midwife', 'NN')]), ('came', 'VBD'), ('here', 'RB'), ('it', 'PRP'), ('was', 'VBD'), ('safe', 'JJ'), Tree('NP', [('nursing', 'NN'), ('care', 'NN')]), ('nurse', 'RB'), ('well', 'RB'), ('.', '.')]),\n",
              " Tree('S', [('Stick', 'NNP'), ('to', 'TO'), ('that', 'DT'), Tree('NP', [('price', 'NN')]), ('The', 'DT'), Tree('NP', [('treatment', 'NN')]), ('may', 'MD'), ('be', 'VB'), ('a', 'DT'), Tree('NP', [('bit', 'NN')]), ('high', 'JJ'), ('.', '.')]),\n",
              " Tree('S', [('But', 'CC'), ('because', 'IN'), ('it', 'PRP'), ('is', 'VBZ'), ('a', 'DT'), ('privately', 'RB'), ('held', 'VBN'), ('her', 'PRP'), ('.', '.')]),\n",
              " Tree('S', [('I', 'PRP'), ('understand', 'VBP'), ('some', 'DT')]),\n",
              " Tree('S', [Tree('NP', [('Hospital', 'NN'), ('doctors', 'NNS')]), ('speak', 'VBP'), ('good', 'JJ'), Tree('NP', [('care', 'NN'), ('hospital', 'NN'), ('parking', 'NN'), ('lot', 'NN')]), ('of', 'IN'), ('the', 'DT'), Tree('NP', [('buildings', 'NNS')]), ('are', 'VBP'), ('easy', 'JJ'), ('to', 'TO'), ('maintain', 'VB'), ('affordable', 'JJ'), Tree('NP', [('prices', 'NNS')]), ('.', '.')]),\n",
              " Tree('S', [('The', 'DT'), Tree('NP', [('service', 'NN')]), ('has', 'VBZ'), ('been', 'VBN'), ('available', 'JJ'), ('in', 'IN'), ('the', 'DT'), ('near', 'JJ'), ('BTS', 'NNP'), Tree('NP', [('return', 'NN'), ('service', 'NN')]), ('.', '.')]),\n",
              " Tree('S', [('Check', 'NNP'), Tree('NP', [('queues', 'NNS')]), ('soon', 'RB'), ('doing', 'VBG'), ('a', 'DT'), ('brisk', 'JJ'), Tree('NP', [('mall', 'NN'), ('adjacent', 'NN')]), ('to', 'TO'), ('the', 'DT'), Tree('NP', [('hospital', 'NN')]), ('.', '.')]),\n",
              " Tree('S', [('Make', 'NNP'), Tree('NP', [('time', 'NN')]), ('to', 'TO'), ('wait', 'VB'), ('for', 'IN'), Tree('NP', [('test', 'NN'), ('results', 'NNS')]), ('You', 'PRP'), ('can', 'MD'), ('go', 'VB'), ('out', 'RP'), ('and', 'CC'), ('find', 'VB'), Tree('NP', [('something', 'NN')]), ('to', 'TO'), ('eat', 'VB'), ('before', 'IN'), ('going', 'VBG'), ('to', 'TO'), ('listen', 'VB'), ('to', 'TO'), ('the', 'DT'), Tree('NP', [('results', 'NNS')]), ('.', '.')]),\n",
              " Tree('S', [('Doctor', 'NNP'), ('friendly', 'JJ'), Tree('NP', [('eloquence', 'NN')]), ('generous', 'JJ'), Tree('NP', [('treatment', 'NN')]), ('here', 'RB'), ('since', 'IN'), Tree('NP', [('childhood', 'NN')]), ('.', '.')]),\n",
              " Tree('S', [('The', 'DT'), Tree('NP', [('hospital', 'NN')]), ('has', 'VBZ'), ('always', 'RB'), ('been', 'VBN'), ('good', 'JJ'), ('.', '.')]),\n",
              " Tree('S', [('You', 'PRP'), ('go', 'VBP'), ('to', 'TO'), ('the', 'DT'), Tree('NP', [('doctor', 'NN')]), ('with', 'IN'), Tree('NP', [('symptoms', 'NNS')]), ('of', 'IN'), Tree('NP', [('leg', 'NN'), ('pain', 'NN')]), (',', ','), ('ask', 'VB'), ('your', 'PRP$'), Tree('NP', [('doctor', 'NN')]), ('to', 'TO'), ('prescribe', 'VB'), ('the', 'DT'), Tree('NP', [('medication', 'NN')]), ('is', 'VBZ'), ('ingested', 'VBN'), ('then', 'RB'), ('slightly', 'RB'), ('loosen', 'VBZ'), ('the', 'DT'), Tree('NP', [('line', 'NN')]), ('and', 'CC'), ('paint', 'VB'), ('a', 'DT'), ('little', 'JJ'), (',', ','), ('priced', 'VBN'), ('at', 'IN'), ('1,490', 'CD'), ('as', 'IN'), ('this', 'DT'), ('is', 'VBZ'), ('never', 'RB'), ('less', 'JJR'), ('than', 'IN'), ('1,400', 'CD'), ('now', 'RB'), ('.', '.')]),\n",
              " Tree('S', [('The', 'DT'), Tree('NP', [('hospital', 'NN')]), ('where', 'WRB'), ('the', 'DT'), Tree('NP', [('family', 'NN'), ('service', 'NN')]), ('.', '.')]),\n",
              " Tree('S', [('Because', 'IN'), ('the', 'DT'), Tree('NP', [('price', 'NN')]), ('is', 'VBZ'), ('not', 'RB'), ('too', 'RB'), ('expensive', 'JJ'), Tree('NP', [('home', 'NN'), ('care', 'NN')]), ('and', 'CC'), Tree('NP', [('ease', 'NN')]), ('of', 'IN'), Tree('NP', [('travel', 'NN')]), ('.', '.')]),\n",
              " Tree('S', [('Buffett', 'NNP'), (\"'s\", 'POS'), Tree('NP', [('rain', 'NN')]), ('falls', 'VBZ'), ('ill', 'JJ'), ('treat', 'VB'), ('me', 'PRP'), ('into', 'IN'), ('the', 'DT'), Tree('NP', [('emergency', 'NN'), ('room', 'NN')]), (',', ','), ('a', 'DT'), Tree('NP', [('health', 'NN'), ('insurance', 'NN'), ('claim', 'NN'), ('hospital', 'NN'), ('care', 'NN')]), ('is', 'VBZ'), ('very', 'RB'), ('good', 'JJ'), ('.', '.')]),\n",
              " Tree('S', [Tree('NP', [('Relatives', 'NNS')]), ('and', 'CC'), Tree('NP', [('friends', 'NNS')]), ('keeping', 'VBG'), ('me', 'PRP'), ('here', 'RB'), ('.', '.')]),\n",
              " Tree('S', [Tree('NP', [('Patients', 'NNS')]), ('are', 'VBP'), ('routinely', 'RB'), ('over', 'IN'), ('the', 'DT'), ('last', 'JJ'), ('20', 'CD'), Tree('NP', [('years', 'NNS')]), ('has', 'VBZ'), ('been', 'VBN'), ('to', 'TO'), ('see', 'VB'), ('a', 'DT'), Tree('NP', [('doctor', 'NN')]), ('about', 'IN'), Tree('NP', [('bone', 'NN'), ('pain', 'NN')]), ('.', '.')]),\n",
              " Tree('S', [('Can', 'MD'), ('not', 'RB'), ('move', 'VB'), ('Was', 'NNP'), ('never', 'RB'), ('like', 'IN'), ('this', 'DT'), Tree('NP', [('before', 'NN')]), ('.', '.')]),\n",
              " Tree('S', [('The', 'DT'), Tree('NP', [('doctor', 'NN')]), ('did', 'VBD'), ('not', 'RB'), ('say', 'VB'), Tree('NP', [('anything', 'NN')]), ('more', 'JJR'), ('.', '.')]),\n",
              " Tree('S', [('When', 'WRB'), ('asked', 'VBN'), ('if', 'IN'), ('it', 'PRP'), ('is', 'VBZ'), ('not', 'RB'), ('broken', 'VBN'), ('.', '.')]),\n",
              " Tree('S', [('Or', 'CC'), ('is', 'VBZ'), Tree('NP', [('something', 'NN')]), ('more', 'RBR'), (',', ','), ('right', 'RB'), ('?', '.')]),\n",
              " Tree('S', [('The', 'DT'), Tree('NP', [('doctor', 'NN')]), ('replied', 'VBD'), ('that', 'IN'), ('if', 'IN'), ('this', 'DT'), ('is', 'VBZ'), ('broken', 'VBN'), ('.', '.')]),\n",
              " Tree('S', [('It', 'PRP'), ('is', 'VBZ'), ('now', 'RB'), Tree('NP', [('cancer', 'NN')]), ('The', 'DT'), Tree('NP', [('answer', 'NN')]), ('is', 'VBZ'), ('not', 'RB'), ('worthy', 'JJ'), Tree('NP', [('answer', 'NN')]), ('to', 'TO'), ('this', 'DT'), Tree('NP', [('patient', 'NN')]), ('.', '.')]),\n",
              " Tree('S', [('I', 'PRP'), ('have', 'VBP'), ('been', 'VBN'), ('informed', 'VBN'), ('of', 'IN'), ('the', 'DT'), Tree('NP', [('complaint', 'NN')]), ('to', 'TO'), ('the', 'DT'), Tree('NP', [('hospital', 'NN')]), ('.', '.')]),\n",
              " Tree('S', [('The', 'DT'), Tree('NP', [('doctor', 'NN')]), ('is', 'VBZ'), ('a', 'DT'), ('good', 'JJ'), Tree('NP', [('doctor', 'NN')]), ('and', 'CC'), ('famous', 'JJ'), ('.', '.')]),\n",
              " Tree('S', [('In', 'IN'), Tree('NP', [('conclusion', 'NN')]), (',', ','), ('I', 'PRP'), ('have', 'VBP'), ('muscle', 'VBN'), ('relaxant', 'JJ'), Tree('NP', [('medications', 'NNS')]), ('and', 'CC'), ('topical', 'JJ'), Tree('NP', [('analgesics', 'NNS')]), ('that', 'WDT'), ('.', '.')]),\n",
              " Tree('S', [('Therefore', 'RB'), ('ask', 'VBZ'), ('the', 'DT'), Tree('NP', [('pharmacist', 'NN')]), ('to', 'TO'), ('dispense', 'VB'), ('again', 'RB'), ('.', '.')]),\n",
              " Tree('S', [('OK', 'UH'), (',', ','), ('that', 'DT'), (\"'s\", 'VBZ'), ('what', 'WP')]),\n",
              " Tree('S', [('To', 'TO'), ('treat', 'VB'), Tree('NP', [('rheumatoid', 'NN')]), ('at', 'IN'), ('the', 'DT'), ('Bangkok', 'NNP'), ('Christian', 'NNP'), ('Hospital', 'NNP'), ('here', 'RB'), ('.', '.')]),\n",
              " Tree('S', [('You', 'PRP'), Tree('NP', [('kind', 'NN')]), ('and', 'CC'), Tree('NP', [('caring', 'NN')]), ('very', 'RB'), ('good', 'JJ'), ('.', '.')]),\n",
              " Tree('S', [('Will', 'MD'), ('see', 'VB'), ('the', 'DT'), Tree('NP', [('disease', 'NN')]), ('as', 'RB'), ('well', 'RB'), ('.', '.')]),\n",
              " Tree('S', [('Once', 'RB'), ('selected', 'VBN'), ('the', 'DT'), ('right', 'JJ'), Tree('NP', [('eye', 'NN'), ('capillaries', 'NNS')]), ('in', 'IN'), ('the', 'DT'), Tree('NP', [('eye', 'NN')]), ('.', '.')]),\n",
              " Tree('S', [('It', 'PRP'), ('makes', 'VBZ'), ('the', 'DT'), Tree('NP', [('eyes', 'NNS')]), ('red', 'VBD'), ('Go', 'NNP'), ('to', 'TO'), ('the', 'DT'), Tree('NP', [('doctor', 'NN')]), ('by', 'IN'), Tree('NP', [('appointment', 'NN')]), ('The', 'DT'), Tree('NP', [('doctor', 'NN')]), ('asked', 'VBD'), ('my', 'PRP$'), ('red', 'JJ'), Tree('NP', [('eyes', 'NNS')]), ('.', '.')]),\n",
              " Tree('S', [('Ask', 'VB'), ('the', 'DT'), ('Prophet', 'NNP'), ('.', '.')]),\n",
              " Tree('S', [('But', 'CC'), ('we', 'PRP'), ('go', 'VBP'), ('untreated', 'JJ'), Tree('NP', [('rheumatoid', 'NN')]), ('Grand', 'NNP'), ('.', '.')]),\n",
              " Tree('S', [('Not', 'RB'), ('keeping', 'VBG'), ('an', 'DT'), Tree('NP', [('eye', 'NN')]), ('on', 'IN'), ('The', 'DT'), Tree('NP', [('doctor', 'NN')]), ('also', 'RB'), ('noted', 'VBD'), ('.', '.')]),\n",
              " Tree('S', [Tree('NP', [('Shows', 'NNS')]), ('empathy', 'VBP'), ('for', 'IN'), Tree('NP', [('patients', 'NNS')]), ('.', '.')]),\n",
              " Tree('S', [('Then', 'RB'), ('again', 'RB'), (',', ','), ('the', 'DT'), Tree('NP', [('weather', 'NN')]), ('was', 'VBD'), ('quite', 'RB'), ('cold', 'JJ'), ('.', '.')]),\n",
              " Tree('S', [('I', 'PRP'), ('noticed', 'VBD'), ('that', 'IN'), ('a', 'DT'), Tree('NP', [('leg', 'NN')]), ('up', 'RP'), ('red', 'JJ'), Tree('NP', [('blotches', 'NNS')]), ('.', '.')]),\n",
              " Tree('S', [('He', 'PRP'), ('was', 'VBD'), ('asked', 'VBN'), ('whether', 'IN'), ('or', 'CC'), Tree('NP', [('winter', 'NN')]), ('.', '.')]),\n",
              " Tree('S', [('Dong', 'NNP'), ('remember', 'VB'), ('him', 'PRP'), ('as', 'IN'), ('extraordinary', 'JJ'), ('yet', 'RB'), ('.', '.')]),\n",
              " Tree('S', [('Shows', 'VBZ'), ('the', 'DT'), ('great', 'JJ'), Tree('NP', [('attention', 'NN')]), ('both', 'DT'), ('at', 'IN'), ('about', 'IN'), ('the', 'DT'), Tree('NP', [('disease', 'NN')]), ('that', 'WDT'), ('came', 'VBD'), ('to', 'TO'), ('me', 'PRP'), ('.', '.')]),\n",
              " Tree('S', [('As', 'RB'), ('well', 'RB'), ('as', 'IN'), Tree('NP', [('talk', 'NN')]), ('about', 'IN'), Tree('NP', [('work', 'NN')]), ('Introductions', 'NNP'), ('Encouragement', 'NNP'), ('throughout', 'IN'), ('.', '.')]),\n",
              " Tree('S', [('Good', 'JJ'), Tree('NP', [('service', 'NN')]), ('described', 'VBD'), ('patient', 'JJ'), Tree('NP', [('care', 'NN')])]),\n",
              " Tree('S', [Tree('NP', [('Yesterday', 'NN')]), ('was', 'VBD'), ('a', 'DT'), Tree('NP', [('doctor', 'NN')]), ('at', 'IN'), ('the', 'DT'), Tree('NP', [('hospital', 'NN')]), ('Christians', 'NNPS'), ('.', '.')]),\n",
              " Tree('S', [('Ambulance', 'NNP'), Tree('NP', [('service', 'NN')]), ('here', 'RB'), ('is', 'VBZ'), ('very', 'RB'), ('flattering', 'JJ'), Tree('NP', [('impression', 'NN')]), ('smiling', 'VBG'), ('much', 'JJ'), ('.', '.')]),\n",
              " Tree('S', [('I', 'PRP'), ('had', 'VBD'), ('to', 'TO'), ('give', 'VB'), Tree('NP', [('birth', 'NN')]), ('at', 'IN'), ('the', 'DT'), Tree('NP', [('hospital', 'NN')]), ('in', 'IN'), ('2554', 'CD'), ('when', 'WRB'), ('Bangkok', 'NNP'), Tree('NP', [('แlai', 'NN')]), ('2556', 'CD'), ('.', '.')]),\n",
              " Tree('S', [Tree('NP', [('Nurses', 'NNS'), ('feel', 'NN')]), ('and', 'CC'), ('the', 'DT'), Tree('NP', [('service', 'NN')]), ('is', 'VBZ'), ('very', 'RB'), ('good', 'JJ'), ('.', '.')]),\n",
              " Tree('S', [('The', 'DT'), ('first', 'JJ'), Tree('NP', [('day', 'NN')]), ('she', 'PRP'), ('entered', 'VBD'), ('the', 'DT'), Tree('NP', [('hospital', 'NN')]), ('.', '.')]),\n",
              " Tree('S', [('The', 'DT'), Tree('NP', [('doctor', 'NN')]), ('was', 'VBD'), Tree('NP', [('kind', 'NN'), ('ฝaktgag', 'NN')]), ('.', '.')]),\n",
              " Tree('S', [('And', 'CC'), ('very', 'RB'), ('sociable', 'JJ'), Tree('NP', [('Talk', 'NN')]), ('with', 'IN'), ('the', 'DT'), Tree('NP', [('patient', 'NN')]), (\"'s\", 'POS'), ('very', 'RB'), ('melodic', 'JJ'), ('.', '.')]),\n",
              " Tree('S', [('I', 'PRP'), ('like', 'VBP'), ('this', 'DT'), Tree('NP', [('doctor', 'NN')]), ('because', 'IN'), ('the', 'DT'), Tree('NP', [('doctor', 'NN')]), ('advised', 'VBD'), ('to', 'TO'), ('consult', 'VB'), ('any', 'DT'), ('good', 'JJ'), Tree('NP', [('story', 'NN')]), (',', ','), ('I', 'PRP'), ('asked', 'VBD'), ('.', '.')]),\n",
              " Tree('S', [Tree('NP', [('Today', 'NN')]), (',', ','), ('if', 'IN'), Tree('NP', [('people', 'NNS')]), ('have', 'VBP'), ('more', 'JJR'), Tree('NP', [('children', 'NNS')]), (',', ','), ('ฝaktgag', 'VBP'), ('here', 'RB'), ('like', 'IN'), ('me', 'PRP'), ('.', '.')]),\n",
              " Tree('S', [('Service', 'NNP'), ('is', 'VBZ'), ('fast', 'RB'), ('Medical', 'JJ'), Tree('NP', [('counseling', 'NN')]), ('and', 'CC'), Tree('NP', [('information', 'NN')]), ('about', 'IN'), ('the', 'DT'), Tree('NP', [('disease', 'NN')]), ('as', 'RB'), ('well', 'RB'), ('.', '.')]),\n",
              " Tree('S', [('I', 'PRP'), ('can', 'MD'), ('not', 'RB'), ('find', 'VB'), ('a', 'DT'), Tree('NP', [('diagnosis', 'NN')]), ('for', 'IN'), ('several', 'JJ'), Tree('NP', [('years', 'NNS')]), ('.', '.')]),\n",
              " Tree('S', [('It', 'PRP'), (\"'s\", 'VBZ'), ('worth', 'IN'), ('it', 'PRP'), ('Other', 'JJ'), Tree('NP', [('staff', 'NN')]), ('is', 'VBZ'), ('friendly', 'JJ'), ('and', 'CC'), ('good', 'JJ'), ('free', 'JJ'), Tree('NP', [('wifi', 'NN')]), ('that', 'WDT'), (\"'s\", 'VBZ'), ('hard', 'JJ'), ('to', 'TO'), ('do', 'VB'), ('here', 'RB'), ('.', '.')]),\n",
              " Tree('S', [('My', 'PRP$'), Tree('NP', [('stomach', 'NN'), ('twin', 'NN'), ('gestation', 'NN')]), ('3', 'CD'), ('26-27wk', 'JJ'), Tree('NP', [('diarrhea', 'NN')]), ('from', 'IN'), ('3', 'CD'), ('to', 'TO'), ('9', 'CD'), Tree('NP', [('pm', 'NN')]), (',', ','), ('but', 'CC'), ('a', 'DT'), Tree('NP', [('doctor', 'NN')]), ('at', 'IN'), ('the', 'DT'), Tree('NP', [('hospital', 'NN')]), (',', ','), Tree('NP', [('someone', 'NN')]), ('took', 'VBD'), ('a', 'DT'), Tree('NP', [('wheelchair', 'NN')]), ('to', 'TO'), ('get', 'VB'), ('.', '.')]),\n",
              " Tree('S', [Tree('NP', [('Accelerators', 'NNS')]), ('that', 'WDT'), ('make', 'VBP'), ('it', 'PRP'), Tree('NP', [('convenient', 'NN')]), ('to', 'TO'), ('go', 'VB'), ('to', 'TO'), ('the', 'DT'), Tree('NP', [('bathroom', 'NN')]), ('.', '.')]),\n",
              " Tree('S', [('May', 'NNP'), Tree('NP', [('d.', 'NN')]), ('Nurse', 'NNP'), ('brought', 'VBD'), ('him', 'PRP'), ('willingly', 'RB'), ('.', '.')]),\n",
              " Tree('S', [('That', 'DT'), ('caught', 'VBD'), ('the', 'DT'), Tree('NP', [('brine', 'NN')]), ('admit', 'VBP'), ('one', 'CD'), Tree('NP', [('night', 'NN')]), ('at', 'IN'), ('a', 'DT'), ('Portuguese', 'JJ'), Tree('NP', [('doctor', 'NN')]), (',', ','), Tree('NP', [('specialist', 'NN'), ('doctors', 'NNS')]), ('and', 'CC'), Tree('NP', [('obstetricians', 'NNS')]), ('.', '.')]),\n",
              " Tree('S', [('Doctor', 'NNP'), (\"'s\", 'POS'), Tree('NP', [('disease', 'NN')]), ('and', 'CC'), Tree('NP', [('colon', 'NN'), ('care', 'NN')]), ('close', 'JJ'), ('it', 'PRP'), ('.', '.')]),\n",
              " Tree('S', [('The', 'DT'), ('only', 'JJ'), Tree('NP', [('drawback', 'NN')]), ('I', 'PRP'), ('feel', 'VBP'), ('better', 'RB'), ('.', '.')]),\n",
              " Tree('S', [('And', 'CC'), ('discharged', 'VBD'), ('me', 'PRP'), ('.', '.')]),\n",
              " Tree('S', [Tree('NP', [('Exceptions', 'NNS')]), ('only', 'RB'), ('dislike', 'VBP'), ('is', 'VBZ'), ('the', 'DT'), Tree('NP', [('bed', 'NN')]), ('a', 'DT'), ('little', 'JJ'), ('too', 'RB'), ('hard', 'RB'), ('.', '.')]),\n",
              " Tree('S', [('Women', 'NNP'), ('pregnant', 'JJ'), ('belly', 'RB'), ('grows', 'VBZ'), ('a', 'DT'), ('little', 'JJ'), Tree('NP', [('journey', 'NN')]), ('.', '.')]),\n",
              " Tree('S', [('Rarely', 'RB'), ('liner', 'JJ'), Tree('NP', [('port', 'NN')]), ('ergonomic', 'VBD'), ('us', 'PRP'), ('much', 'RB'), ('good', 'JJ'), (',', ','), ('but', 'CC'), ('I', 'PRP'), ('do', 'VBP'), ('ok', 'RB'), ('.', '.')]),\n",
              " Tree('S', [('You', 'PRP'), (\"'ve\", 'VBP'), ('found', 'VBN'), ('the', 'DT'), Tree('NP', [('maternity', 'NN'), ('ward', 'NN')]), ('of', 'IN'), ('irregular', 'JJ'), ('menstrual', 'JJ'), Tree('NP', [('cycles', 'NNS')]), ('.', '.')]),\n",
              " Tree('S', [('You', 'PRP'), ('are', 'VBP'), ('a', 'DT'), Tree('NP', [('man', 'NN')]), ('Initially', 'NNP'), ('shy', 'JJ'), ('and', 'CC'), ('scared', 'JJ'), ('because', 'IN'), ('it', 'PRP'), ('requires', 'VBZ'), Tree('NP', [('examination', 'NN')]), ('.', '.')]),\n",
              " Tree('S', [('But', 'CC'), Tree('NP', [('doctors', 'NNS')]), ('say', 'VBP'), ('the', 'DT'), ('very', 'RB'), ('friendly', 'JJ'), ('at', 'IN'), Tree('NP', [('check', 'NN')]), ('not', 'RB'), ('scary', 'JJ'), ('at', 'IN'), ('all', 'DT'), ('.', '.')]),\n",
              " Tree('S', [('Woon', 'NNP'), ('has', 'VBZ'), ('Ultrasound', 'VBN'), ('Uterine', 'NNP'), Tree('NP', [('teller', 'NN')]), ('with', 'IN'), ('you', 'PRP'), ('until', 'IN'), ('the', 'DT'), Tree('NP', [('eggs', 'NNS')]), ('are', 'VBP'), Tree('NP', [('eggs', 'NNS')]), ('that', 'WDT'), ('have', 'VBP'), ('little', 'JJ'), Tree('NP', [('egg', 'NN')]), ('with', 'IN'), ('normal', 'JJ'), Tree('NP', [('children', 'NNS')]), ('.', '.')]),\n",
              " Tree('S', [('The', 'DT'), ('uterine', 'JJ'), Tree('NP', [('wall', 'NN')]), ('so', 'RB'), ('strong', 'JJ'), ('that', 'IN'), ('you', 'PRP'), ('have', 'VBP'), ('forgotten', 'VBN'), ('much', 'JJ'), ('.', '.')]),\n",
              " Tree('S', [('I', 'PRP'), ('think', 'VBP'), ('it', 'PRP'), ('cost', 'VBD'), ('dearly', 'RB'), ('.', '.')]),\n",
              " Tree('S', [('I', 'PRP'), ('think', 'VBP'), ('out', 'IN'), ('Thousand', 'NNP'), Tree('NP', [('baht', 'NN')]), ('is', 'VBZ'), ('very', 'RB'), ('cheap', 'JJ'), ('for', 'IN'), ('the', 'DT'), ('internal', 'JJ'), Tree('NP', [('temperature', 'NN')]), ('of', 'IN'), ('the', 'DT'), Tree('NP', [('ultrasound', 'NN')]), ('.', '.')]),\n",
              " Tree('S', [('Doctor', 'NNP'), (',', ','), Tree('NP', [('thank', 'NN')]), ('you', 'PRP'), ('very', 'RB'), ('much', 'RB'), ('!', '.')]),\n",
              " Tree('S', [('On', 'IN'), ('Sunday', 'NNP'), Tree('NP', [('disease', 'NN'), ('recurrence', 'NN')]), ('Ask', 'NNP'), ('your', 'PRP$'), Tree('NP', [('doctor', 'NN')]), (',', ','), Tree('NP', [('hospital', 'NN'), ('bed', 'NN')]), ('.', '.')]),\n",
              " Tree('S', [('But', 'CC'), Tree('NP', [('doctors', 'NNS')]), ('say', 'VBP'), ('that', 'DT'), ('is', 'VBZ'), ('not', 'RB'), ('necessary', 'JJ'), ('.', '.')]),\n",
              " Tree('S', [('Better', 'RBR'), ('to', 'TO'), ('stay', 'VB'), ('at', 'IN'), Tree('NP', [('home', 'NN')]), ('I', 'PRP'), ('was', 'VBD'), ('glad', 'VBN'), ('to', 'TO'), ('put', 'VB'), ('the', 'DT'), Tree('NP', [('interests', 'NNS')]), ('of', 'IN'), Tree('NP', [('patients', 'NNS')]), ('over', 'IN'), ('.', '.')]),\n",
              " Tree('S', [('The', 'DT'), ('hospital', 'JJ'), Tree('NP', [('staff', 'NN')]), ('was', 'VBD'), ('attentive', 'JJ'), (',', ','), ('very', 'RB'), ('patient', 'JJ'), ('.', '.')]),\n",
              " Tree('S', [('A', 'DT'), ('medical', 'JJ'), Tree('NP', [('expert', 'NN')]), ('will', 'MD'), ('go', 'VB'), ('to', 'TO'), ('the', 'DT'), Tree('NP', [('front', 'NN')]), ('of', 'IN'), ('whatever', 'WDT'), Tree('NP', [('experience', 'NN')]), ('it', 'PRP'), (',', ','), ('ENT', 'NNP'), Tree('NP', [('doctors', 'NNS')]), ('and', 'CC'), Tree('NP', [('nurses', 'NNS')]), ('can', 'MD'), ('answer', 'VB'), Tree('NP', [('questions', 'NNS')]), ('better', 'JJR'), ('/', 'NNP'), ('Department', 'NNP'), ('of', 'IN'), ('Ophthalmology', 'NNP'), ('is', 'VBZ'), ('the', 'DT'), ('same', 'JJ'), ('/', 'NNP'), ('internal', 'JJ'), Tree('NP', [('medicine', 'NN'), ('department', 'NN')]), ('.', '.')]),\n",
              " Tree('S', [Tree('NP', [('Doctors', 'NNS')]), ('can', 'MD'), ('interact', 'VB'), ('And', 'CC'), ('knowledge', 'VB'), ('is', 'VBZ'), ('excellent', 'JJ'), ('/', 'NNP'), ('OPD', 'NNP'), Tree('NP', [('department', 'NN')]), ('is', 'VBZ'), ('trying', 'VBG'), ('to', 'TO'), ('use', 'VB'), ('the', 'DT'), Tree('NP', [('material', 'NN')]), ('.', '.')]),\n",
              " Tree('S', [('So', 'RB'), ('as', 'IN'), ('not', 'RB'), ('to', 'TO'), ('break', 'VB'), ('the', 'DT'), Tree('NP', [('load', 'NN')]), ('.', '.')]),\n",
              " Tree('S', [('The', 'DT'), ('recommended', 'JJ'), Tree('NP', [('treatment', 'NN')]), ('for', 'IN'), Tree('NP', [('patients', 'NNS')]), ('with', 'IN'), Tree('NP', [('post', 'NN'), ('hospital', 'NN'), ('services', 'NNS')]), ('is', 'VBZ'), ('a', 'DT'), ('good', 'JJ'), Tree('NP', [('team', 'NN')]), ('of', 'IN'), ('medical', 'JJ'), Tree('NP', [('specialists', 'NNS')]), ('.', '.')]),\n",
              " Tree('S', [('And', 'CC'), ('superfluous', 'JJ')]),\n",
              " Tree('S', [('To', 'TO'), ('treat', 'VB'), ('itching', 'VBG'), ('in', 'IN'), Tree('NP', [('parachute', 'NN')]), ('Since', 'IN'), Tree('NP', [('travel', 'NN'), ('nurses', 'NNS')]), ('and', 'CC'), Tree('NP', [('doctors', 'NNS')]), ('to', 'TO'), ('provide', 'VB'), Tree('NP', [('care', 'NN')]), ('and', 'CC'), Tree('NP', [('guidance', 'NN')]), ('is', 'VBZ'), ('great', 'JJ'), ('.', '.')]),\n",
              " Tree('S', [Tree('NP', [('Reduces', 'NNS'), ('symptoms', 'NNS')]), ('of', 'IN'), ('nervous', 'JJ'), Tree('NP', [('doctors', 'NNS')]), (',', ','), Tree('NP', [('obstetricians', 'NNS')]), ('have', 'VBP'), ('found', 'VBN'), ('the', 'DT'), ('first', 'JJ'), Tree('NP', [('lot', 'NN')]), ('.', '.')]),\n",
              " Tree('S', [('Good', 'JJ'), Tree('NP', [('doctors', 'NNS')]), ('do', 'VBP'), ('not', 'RB'), ('treat', 'VB'), ('it', 'PRP'), ('.', '.')]),\n",
              " Tree('S', [('Dr.', 'NNP'), ('Plernpit', 'NNP'), ('Lertpanya', 'NNP'), Tree('NP', [('children', 'NNS')]), ('were', 'VBD'), ('very', 'RB'), ('good', 'JJ'), Tree('NP', [('doctors', 'NNS')]), ('detect', 'VBP'), Tree('NP', [('diseases', 'NNS')]), ('of', 'IN'), ('new', 'JJ'), ('diagnostic', 'JJ'), Tree('NP', [('accuracy', 'NN')]), ('.', '.')]),\n",
              " Tree('S', [('A', 'DT'), ('clear', 'JJ'), Tree('NP', [('answer', 'NN')])]),\n",
              " Tree('S', [('Son', 'NNP'), ('HIV', 'NNP'), Tree('NP', [('virus', 'NN'), ('rsv', 'NN')]), ('While', 'IN'), ('Ward', 'NNP'), (\"'s\", 'POS'), ('filled', 'VBN'), ('every', 'DT'), Tree('NP', [('room', 'NN')]), ('.', '.')]),\n",
              " Tree('S', [('The', 'DT'), Tree('NP', [('hospital', 'NN')]), ('provides', 'VBZ'), ('a', 'DT'), Tree('NP', [('solution', 'NN')]), ('to', 'TO'), ('the', 'DT'), ('ICU', 'NNP'), Tree('NP', [('waiting', 'NN'), ('room', 'NN')]), ('.', '.')]),\n",
              " Tree('S', [('Nurse', 'NNP'), ('updated', 'VBD'), ('all', 'PDT'), ('the', 'DT'), Tree('NP', [('time', 'NN')]), ('to', 'TO'), ('have', 'VB'), ('the', 'DT'), Tree('NP', [('room', 'NN')]), ('now', 'RB'), ('.', '.')]),\n",
              " Tree('S', [Tree('NP', [('Nursing', 'NN')]), ('and', 'CC'), ('medical', 'JJ'), Tree('NP', [('care', 'NN')]), ('and', 'CC'), Tree('NP', [('attention', 'NN')]), ('to', 'TO'), Tree('NP', [('patients', 'NNS')]), ('very', 'RB'), ('well', 'RB'), ('in', 'IN'), Tree('NP', [('spite', 'NN')]), ('of', 'IN'), ('the', 'DT'), ('many', 'JJ'), ('sick', 'JJ'), Tree('NP', [('children', 'NNS')]), ('are', 'VBP'), ('busy', 'JJ'), ('the', 'DT'), ('whole', 'JJ'), Tree('NP', [('ward', 'NN')]), ('.', '.')]),\n",
              " Tree('S', [('All', 'DT'), Tree('NP', [('patients', 'NNS')]), ('with', 'IN'), ('a', 'DT'), ('smiling', 'VBG'), Tree('NP', [('countenance', 'NN')]), ('.', '.')]),\n",
              " Tree('S', [('Very', 'RB'), ('impressive', 'JJ')]),\n",
              " Tree('S', [('Maternity', 'NNP'), ('leave', 'VBP'), ('and', 'CC'), ('delivered', 'VBN'), ('to', 'TO'), ('the', 'DT'), ('Mayor', 'NNP'), (',', ','), ('Dr.', 'NNP'), ('Siri', 'NNP'), Tree('NP', [('estate', 'NN')]), ('you', 'PRP'), ('are', 'VBP'), ('so', 'RB'), Tree('NP', [('kind', 'NN')]), (',', ','), ('friendly', 'RB'), (',', ','), ('informative', 'JJ'), ('about', 'IN'), ('the', 'DT'), Tree('NP', [('pregnancy', 'NN')]), ('very', 'RB'), ('well', 'RB'), ('.', '.')]),\n",
              " Tree('S', [('You', 'PRP'), ('are', 'VBP'), ('very', 'RB'), ('specialized', 'JJ'), Tree('NP', [('Every', 'NN'), ('time', 'NN')]), ('you', 'PRP'), ('encounter', 'VBP'), ('a', 'DT'), Tree('NP', [('problem', 'NN')]), ('during', 'IN'), Tree('NP', [('pregnancy', 'NN')]), ('.', '.')]),\n",
              " Tree('S', [('Your', 'PRP$'), Tree('NP', [('doctor', 'NN')]), ('will', 'MD'), ('give', 'VB'), ('you', 'PRP'), ('very', 'RB'), ('good', 'JJ'), Tree('NP', [('advice', 'NN')]), ('.', '.')]),\n",
              " Tree('S', [('You', 'PRP'), ('pretty', 'RB'), ('much', 'JJ'), ('caesarean', 'JJ'), Tree('NP', [('stitches', 'NNS')]), ('.', '.')]),\n",
              " Tree('S', [('Walking', 'VBG'), ('out', 'IN'), ('of', 'IN'), Tree('NP', [('bed', 'NN')]), ('after', 'IN'), ('disconnecting', 'VBG'), Tree('NP', [('water', 'NN')]), ('.', '.')]),\n",
              " Tree('S', [('Very', 'RB'), ('sore', 'RB'), ('Doctor', 'NNP'), Tree('NP', [('patient', 'NN'), ('care', 'NN')]), ('as', 'RB'), ('well', 'RB'), ('as', 'IN'), ('your', 'PRP$'), ('regular', 'JJ'), Tree('NP', [('doctor', 'NN')]), ('.', '.')]),\n",
              " Tree('S', [('The', 'DT'), Tree('NP', [('examination', 'NN')]), ('every', 'DT'), Tree('NP', [('year', 'NN')])]),\n",
              " Tree('S', [('Very', 'RB'), ('good', 'JJ'), Tree('NP', [('service', 'NN')])]),\n",
              " Tree('S', [('Often', 'RB'), ('a', 'DT'), ('good', 'JJ'), ('big', 'JJ'), Tree('NP', [('room', 'NN')])]),\n",
              " Tree('S', [('Nursing', 'VBG'), ('a', 'DT'), Tree('NP', [('counter', 'NN')]), ('with', 'IN'), ('about', 'IN'), ('20', 'CD'), Tree('NP', [('people', 'NNS')]), (',', ','), ('but', 'CC'), ('the', 'DT'), Tree('NP', [('doctor', 'NN')]), ('in', 'IN'), ('the', 'DT'), Tree('NP', [('examination', 'NN'), ('room', 'NN')]), (',', ','), ('I', 'PRP'), ('have', 'VBP'), ('concluded', 'VBN'), ('this', 'DT'), ('May', 'NNP'), ('de', 'FW'), ('Blanca', 'NNP'), ('Caballero', 'NNP'), Tree('NP', [('treatment', 'NN')]), ('or', 'CC'), Tree('NP', [('doctor', 'NN')]), (\"'s\", 'POS'), Tree('NP', [('appointment', 'NN')]), ('9:00', 'CD'), ('to', 'TO'), ('10:00', 'CD'), (',', ','), ('thus', 'RB'), ('far', 'RB'), (',', ','), ('has', 'VBZ'), ('not', 'RB'), ('been', 'VBN'), ('reviewed', 'VBN'), ('yet', 'RB'), ('..', 'JJ')]),\n",
              " Tree('S', [('Good', 'JJ'), Tree('NP', [('service', 'NN')]), (',', ','), ('reasonable', 'JJ'), Tree('NP', [('prices', 'NNS')])]),\n",
              " Tree('S', [('Find', 'IN'), ('a', 'DT'), ('Doctor', 'NNP'), ('of', 'IN'), ('Nursing', 'NNP'), ('to', 'TO'), ('pressure', 'VB'), ('weighing', 'VBG'), Tree('NP', [('surgery', 'NN')]), ('when', 'WRB'), ('he', 'PRP'), ('put', 'VBD'), ('his', 'PRP$'), Tree('NP', [('hand', 'NN')]), ('to', 'TO'), Tree('NP', [('pressure', 'NN')]), ('.', '.')]),\n",
              " Tree('S', [Tree('NP', [('Replacement', 'NN'), ('nurses', 'NNS')]), ('will', 'MD'), ('have', 'VB'), ('to', 'TO'), ('press', 'VB'), Tree('NP', [('start', 'NN')]), ('to', 'TO'), ('press', 'VB'), ('it', 'PRP'), ('.', '.')]),\n",
              " Tree('S', [Tree('NP', [('Went', 'NN')]), ('to', 'TO'), ('a', 'DT'), ('dental', 'JJ'), ('x-Ray', 'JJ'), ('done', 'VBN'), ('enough', 'JJ'), Tree('NP', [('nurses', 'NNS')]), ('were', 'VBD'), ('told', 'VBN'), ('to', 'TO'), ('wait', 'VB'), ('outside', 'RB'), (',', ','), ('then', 'RB'), ('.', '.')]),\n",
              " Tree('S', [('The', 'DT'), Tree('NP', [('patients', 'NNS')]), ('then', 'RB'), ('cancel', 'VB'), ('his', 'PRP$'), Tree('NP', [('jacket', 'NN')]), ('to', 'TO'), ('keep', 'VB'), ('the', 'DT'), Tree('NP', [('radiation', 'NN')]), ('itself', 'PRP'), ('.', '.')]),\n",
              " Tree('S', [('OK', 'UH'), (',', ','), ('that', 'DT'), ('private', 'JJ'), Tree('NP', [('hospitals', 'NNS')]), ('The', 'DT'), Tree('NP', [('government', 'NN'), ('hospital', 'NN')]), ('waiting', 'VBG'), ('for', 'IN'), ('me', 'PRP'), ('.', '.')]),\n",
              " Tree('S', [('ICU', 'NNP'), ('9', 'CD'), Tree('NP', [('thanks', 'NNS')]), ('to', 'TO'), ('a', 'DT'), Tree('NP', [('caring', 'NN'), ('mother', 'NN')]), (',', ','), ('I', 'PRP'), (\"'m\", 'VBP'), ('a', 'DT'), ('good', 'JJ'), Tree('NP', [('mother', 'NN')]), ('visited', 'VBD'), ('last', 'JJ'), Tree('NP', [('night', 'NN')]), ('to', 'TO'), ('ask', 'VB'), Tree('NP', [('symptoms', 'NNS')]), ('.', '.')]),\n",
              " Tree('S', [('He', 'PRP'), ('played', 'VBD'), Tree('NP', [('catch', 'NN')]), ('with', 'IN'), Tree('NP', [('cheeks', 'NNS')]), ('like', 'IN'), ('a', 'DT'), ('friendly', 'JJ'), Tree('NP', [('feel', 'NN')]), ('like', 'IN'), Tree('NP', [('grandchildren', 'NNS')]), ('.', '.')]),\n",
              " Tree('S', [Tree('NP', [('Doctors', 'NNS')]), ('and', 'CC'), ('Mar', 'NNP'), ('Bal', 'NNP'), ('very', 'RB'), ('cute', 'RB'), ('.', '.')]),\n",
              " Tree('S', [Tree('NP', [('Doctor', 'NN')]), ('and', 'CC'), Tree('NP', [('nurse', 'NN')]), ('You', 'PRP'), ('are', 'VBP'), ('very', 'RB'), Tree('NP', [('kind', 'NN')]), ('flattering', 'JJ'), Tree('NP', [('look', 'NN')]), ('good', 'JJ'), ('throughout', 'IN'), ('the', 'DT'), Tree('NP', [('surgery', 'NN')]), ('Thank', 'NNP'), ('you', 'PRP'), ('Sai', 'NNP'), ('gold', 'VBD'), ('exemplary', 'JJ'), Tree('NP', [('safety', 'NN')]), ('and', 'CC'), ('well-maintained', 'JJ'), Tree('NP', [('feel', 'NN')]), ('good', 'JJ'), ('that', 'IN'), ('I', 'PRP'), ('do', 'VBP'), ('not', 'RB'), ('care', 'VB'), ('for', 'IN'), ('my', 'PRP$'), Tree('NP', [('recommendations', 'NNS')]), ('.', '.')]),\n",
              " Tree('S', [('I', 'PRP'), ('will', 'MD'), ('not', 'RB'), ('take', 'VB'), Tree('NP', [('care', 'NN')]), ('of', 'IN'), ('themselves', 'PRP'), ('.', '.')]),\n",
              " Tree('S', [Tree('NP', [('Accommodation', 'NN')]), ('near', 'IN'), Tree('NP', [('restaurants', 'NNS')]), (',', ','), Tree('NP', [('hospitals', 'NNS')]), ('and', 'CC'), Tree('NP', [('outpatient', 'NN'), ('care', 'NN')]), ('because', 'IN'), ('her', 'PRP$'), Tree('NP', [('mother', 'NN')]), ('was', 'VBD'), ('being', 'VBG'), ('treated', 'VBN'), ('for', 'IN'), ('the', 'DT'), ('first', 'JJ'), Tree('NP', [('time', 'NN')]), (',', ','), ('really', 'RB'), ('thank', 'VB'), ('you', 'PRP'), ('from', 'IN'), ('my', 'PRP$'), Tree('NP', [('heart', 'NN')]), ('.', '.')]),\n",
              " Tree('S', [('I', 'PRP'), (\"'ve\", 'VBP'), ('come', 'VBN'), ('clean', 'JJ'), (',', ','), ('very', 'RB'), ('well', 'RB'), ('organized', 'VBN'), Tree('NP', [('management', 'NN'), ('system', 'NN')]), (',', ','), ('parking', 'VBG'), Tree('NP', [('lot', 'NN')]), ('renovated', 'VBD'), Tree('NP', [('unit', 'NN')]), ('on', 'IN'), ('even', 'RB'), ('more', 'RBR'), ('.', '.')]),\n",
              " Tree('S', [('Please', 'NNP'), ('clarify', 'VB'), ('the', 'DT'), Tree('NP', [('parking', 'NN')]), ('for', 'IN'), ('the', 'DT'), ('disabled', 'JJ'), (',', ','), Tree('NP', [('seniors', 'NNS')]), ('or', 'CC'), Tree('NP', [('people', 'NNS')]), ('with', 'IN'), Tree('NP', [('car', 'NN'), ('sharing', 'NN')]), (',', ','), ('walking', 'VBG'), Tree('NP', [('distance', 'NN')]), ('Viroqua', 'NNP'), ('not', 'RB'), ('.', '.')]),\n",
              " Tree('S', [('Make', 'VB'), ('it', 'PRP'), ('clear', 'JJ'), ('to', 'TO'), ('the', 'DT'), Tree('NP', [('security', 'NN'), ('guards', 'NNS')]), ('.', '.')]),\n",
              " Tree('S', [('With', 'IN'), ('the', 'DT'), ('.', '.')]),\n",
              " Tree('S', [('Which', 'WDT'), ('is', 'VBZ'), ('the', 'DT'), ('international', 'JJ'), Tree('NP', [('standard', 'NN')]), ('of', 'IN'), ('the', 'DT'), Tree('NP', [('world', 'NN')]), ('And', 'CC'), ('improve', 'VB'), ('the', 'DT'), Tree('NP', [('manners', 'NNS')]), ('of', 'IN'), ('a', 'DT'), Tree('NP', [('statement', 'NN')]), ('asking', 'VBG'), ('for', 'IN'), ('a', 'DT'), ('better', 'JJR'), Tree('NP', [('impression', 'NN')]), ('.', '.')]),\n",
              " Tree('S', [('Yes', 'UH'), (',', ','), ('worse', 'JJR'), ('at', 'IN'), Tree('NP', [('rest', 'NN')]), ('and', 'CC'), ('do', 'VBP'), ('not', 'RB'), ('want', 'VB'), ('to', 'TO'), ('use', 'VB'), ('the', 'DT'), Tree('NP', [('service', 'NN')]), ('again', 'RB'), ('.', '.')]),\n",
              " Tree('S', [('I', 'PRP'), ('regret', 'VBP'), ('very', 'RB'), ('much', 'RB'), ('that', 'IN'), ('the', 'DT'), Tree('NP', [('hospital', 'NN')]), ('does', 'VBZ'), ('not', 'RB'), ('provide', 'VB'), ('the', 'DT'), ('elderly', 'JJ'), ('.', '.')]),\n",
              " Tree('S', [('Very', 'RB'), ('good', 'JJ'), Tree('NP', [('service', 'NN')]), (',', ','), ('clean', 'JJ'), Tree('NP', [('hospitals', 'NNS')]), ('use', 'VBP'), ('the', 'DT'), Tree('NP', [('service', 'NN')]), ('.', '.')]),\n",
              " Tree('S', [('You', 'PRP'), ('are', 'VBP'), ('a', 'DT'), ('good', 'JJ'), Tree('NP', [('man', 'NN')]), (',', ','), ('a', 'DT'), ('24-hour', 'JJ'), Tree('NP', [('office', 'NN')]), ('a', 'DT'), Tree('NP', [('lot', 'NN')]), ('.', '.')]),\n",
              " Tree('S', [('Hospital', 'NNP'), Tree('NP', [('cleanliness', 'NN')]), ('.', '.')]),\n",
              " Tree('S', [('Excellent', 'NNP'), Tree('NP', [('smell', 'NN'), ('drugs', 'NNS')]), ('in', 'IN'), ('the', 'DT'), Tree('NP', [('book', 'NN')]), (',', ','), ('courteous', 'JJ'), Tree('NP', [('staff', 'NN')]), ('and', 'CC'), Tree('NP', [('fast', 'NN')]), ('.', '.')]),\n",
              " Tree('S', [('Home', 'NNP'), ('Monitoring', 'NNP'), ('Officer', 'NNP'), ('I', 'PRP'), ('work', 'VBP'), ('fast', 'RB'), ('Pressure', 'NNP'), ('modern', 'JJ'), ('Time', 'NNP'), ('Doctor', 'NNP'), ('is', 'VBZ'), ('not', 'RB'), ('too', 'RB'), ('long', 'RB'), ('.', '.')]),\n",
              " Tree('S', [('Dr.', 'NNP'), ('thorough', 'JJ'), Tree('NP', [('examination', 'NN')]), ('And', 'CC'), ('provide', 'VB'), ('clear', 'JJ'), Tree('NP', [('information', 'NN')]), ('on', 'IN'), ('the', 'DT')]),\n",
              " Tree('S', [('Was', 'NNP'), ('born', 'VBN'), ('here', 'RB'), ('and', 'CC'), ('ฝaktgag', 'VB'), ('All', 'DT'), Tree('NP', [('staff', 'NN')]), (',', ','), ('from', 'IN'), ('the', 'DT'), ('front', 'JJ'), Tree('NP', [('door', 'NN')]), ('to', 'TO'), ('the', 'DT'), Tree('NP', [('dissection', 'NN'), ('room', 'NN')]), ('.', '.')]),\n",
              " Tree('S', [Tree('NP', [('People', 'NNS')]), ('really', 'RB'), ('enjoy', 'VB'), ('it', 'PRP'), ('.', '.')]),\n",
              " Tree('S', [('1', 'CD'), ('.', '.')]),\n",
              " Tree('S', [('Parking', 'VBG'), ('-', ':'), ('If', 'IN'), Tree('NP', [('holiday', 'NN')]), ('before', 'IN'), ('ten', 'JJ'), Tree('NP', [(\"o'clock\", 'NN')]), ('in', 'IN'), ('the', 'DT'), Tree('NP', [('morning', 'NN')]), ('to', 'TO'), ('find', 'VB'), (',', ','), ('easy', 'JJ'), ('to', 'TO'), ('park', 'VB'), ('as', 'IN'), ('many', 'JJ'), Tree('NP', [('layers', 'NNS')]), ('.', '.')]),\n",
              " Tree('S', [('2', 'CD'), ('.', '.')]),\n",
              " Tree('S', [('The', 'DT'), Tree('NP', [('department', 'NN')]), (\"'s\", 'POS'), ('medical', 'JJ'), Tree('NP', [('records', 'NNS')]), ('-', ':'), Tree('NP', [('coordinator', 'NN'), ('sensitivity', 'NN')]), ('filed', 'VBN'), ('with', 'IN'), Tree('NP', [('patient', 'NN'), ('cards', 'NNS')]), (',', ','), Tree('NP', [('health', 'NN'), ('insurance', 'NN'), ('cards', 'NNS')]), ('allow', 'VBP'), ('up', 'RB'), ('to', 'TO'), ('3', 'CD'), Tree('NP', [('minutes', 'NNS')]), ('can', 'MD'), ('be', 'VB'), ('sent', 'VBN'), ('to', 'TO'), ('the', 'DT'), Tree('NP', [('front', 'NN')]), ('at', 'IN'), ('all', 'DT'), ('.', '.')]),\n",
              " Tree('S', [('3', 'CD'), ('.', '.')]),\n",
              " Tree('S', [('The', 'DT'), Tree('NP', [('services', 'NNS')]), ('provided', 'VBN'), ('by', 'IN'), Tree('NP', [('nurses', 'NNS')]), ('-', ':'), ('a', 'DT'), ('polite', 'JJ'), Tree('NP', [('smile', 'NN')]), ('.', '.')]),\n",
              " Tree('S', [('Gently', 'RB'), ('inject', 'VBP'), ('more', 'JJR'), ('4.', 'CD'), ('the', 'DT'), Tree('NP', [('expertise', 'NN')]), ('of', 'IN'), Tree('NP', [('doctors', 'NNS')]), ('-', ':'), Tree('NP', [('doctors', 'NNS')]), (',', ','), ('most', 'JJS'), ('of', 'IN'), ('the', 'DT'), Tree('NP', [('teachers', 'NNS')]), ('are', 'VBP'), ('proficient', 'JJ'), Tree('NP', [('proficient', 'NN')]), ('.', '.')]),\n",
              " Tree('S', [('But', 'CC'), ('the', 'DT'), Tree('NP', [('deduction', 'NN')]), ('in', 'IN'), Tree('NP', [('respect', 'NN')]), ('of', 'IN'), ('the', 'DT'), Tree('NP', [('issue', 'NN')]), ('of', 'IN'), ('the', 'DT'), ('medical', 'JJ'), Tree('NP', [('examination', 'NN')]), ('.', '.')]),\n",
              " Tree('S', [('Sometimes', 'RB'), ('you', 'PRP'), ('wait', 'VBP'), ('too', 'RB'), ('long', 'RB'), (',', ','), ('because', 'IN'), Tree('NP', [('doctors', 'NNS')]), ('need', 'VBP'), Tree('NP', [('time', 'NN')]), ('to', 'TO'), ('examine', 'VB'), Tree('NP', [('patients', 'NNS')]), ('.', '.')]),\n",
              " Tree('S', [('I', 'PRP'), ('highly', 'RB'), ('mobile', 'JJ'), Tree('NP', [('battery', 'NN')]), ('charging', 'VBG'), Tree('NP', [('backup', 'NN'), ('batteries', 'NNS')]), ('.', '.')]),\n",
              " Tree('S', [('The', 'DT'), Tree('NP', [('nurse', 'NN')]), ('told', 'VBD'), ('me', 'PRP'), ('I', 'PRP'), ('do', 'VBP'), ('not', 'RB'), ('have', 'VB'), ('the', 'DT'), ('financial', 'JJ'), Tree('NP', [('power', 'NN')]), ('to', 'TO'), ('outpatient', 'VB'), Tree('NP', [('department', 'NN')]), ('where', 'WRB'), ('I', 'PRP'), ('want', 'VBP'), ('to', 'TO'), ('come', 'VB'), ('back', 'RB'), (',', ','), ('Mike', 'NNP'), ('.', '.')]),\n",
              " Tree('S', [('But', 'CC'), ('familiar', 'JJ'), ('But', 'CC'), ('pay', 'VB'), Tree('NP', [('money', 'NN')]), ('for', 'IN'), ('Jung', 'NNP'), ('.', '.')]),\n",
              " Tree('S', [('Medical', 'NNP'), Tree('NP', [('care', 'NN')]), ('is', 'VBZ'), ('good', 'JJ'), (',', ','), ('but', 'CC'), ('that', 'IN'), ('does', 'VBZ'), ('not', 'RB'), ('give', 'VB'), ('the', 'DT'), ('full', 'JJ'), ('.', '.')]),\n",
              " Tree('S', [('The', 'DT'), ('Department', 'NNP'), ('of', 'IN'), ('Internal', 'NNP'), ('Medicine', 'NNP'), ('The', 'DT'), Tree('NP', [('lack', 'NN')]), ('of', 'IN'), Tree('NP', [('attention', 'NN')]), ('he', 'PRP'), ('received', 'VBD'), Tree('NP', [('treatment', 'NN')]), ('.', '.')]),\n",
              " Tree('S', [('Take', 'VB'), ('your', 'PRP$'), Tree('NP', [('mom', 'NN')]), ('to', 'TO'), Tree('NP', [('heart', 'NN'), ('disease', 'NN')]), (',', ','), ('was', 'VBD'), ('admitted', 'VBN'), ('to', 'TO'), ('Bangkok', 'NNP'), ('.', '.')]),\n",
              " Tree('S', [Tree('NP', [('Doctors', 'NNS')]), ('and', 'CC'), ('nursing', 'VBG'), Tree('NP', [('care', 'NN')]), ('but', 'CC'), ('ordinary', 'JJ'), Tree('NP', [('room', 'NN')]), ('.', '.')]),\n",
              " Tree('S', [('Not', 'RB'), ('included', 'VBN'), ('Hard', 'NNP'), Tree('NP', [('sleepers', 'NNS')]), ('sleep', 'VBP'), ('poorly', 'RB')]),\n",
              " Tree('S', [('I', 'PRP'), ('was', 'VBD'), ('very', 'RB'), ('impressed', 'JJ'), ('with', 'IN'), ('the', 'DT'), ('Finance', 'NNP'), ('Department', 'NNP'), (',', ','), ('2nd', 'CD'), Tree('NP', [('floor', 'NN'), ('cute', 'NN')]), ('.', '.')]),\n",
              " Tree('S', [('Helps', 'NNP'), ('maintain', 'VB'), ('the', 'DT'), Tree('NP', [('claim', 'NN')]), ('that', 'IN'), ('I', 'PRP'), ('decided', 'VBD'), ('not', 'RB'), ('to', 'TO'), ('have', 'VB'), ('multiple', 'JJ'), Tree('NP', [('insurance', 'NN')]), ('.', '.')]),\n",
              " Tree('S', [('Help', 'VB'), ('me', 'PRP'), ('empathy', 'JJ'), ('and', 'CC'), ('help', 'VB'), ('other', 'JJ'), Tree('NP', [('doctors', 'NNS')]), ('here', 'RB'), Tree('NP', [('thanks', 'NNS')]), ('to', 'TO'), ('the', 'DT'), ('generous', 'JJ'), Tree('NP', [('treatment', 'NN')]), ('of', 'IN'), Tree('NP', [('scalp', 'NN')]), ('even', 'RB'), ('more', 'RBR'), ('.', '.')]),\n",
              " Tree('S', [('exceptionally', 'RB'), ('good', 'JJ')]),\n",
              " Tree('S', [('Sunday', 'NNP'), ('8', 'CD'), ('He', 'PRP'), ('was', 'VBD'), ('admitted', 'VBN'), ('to', 'TO'), ('the', 'DT'), Tree('NP', [('motorcycle', 'NN'), ('accident', 'NN')]), ('.', '.')]),\n",
              " Tree('S', [('Wash', 'IN'), ('the', 'DT'), Tree('NP', [('wound', 'NN')]), ('was', 'VBD'), ('normal', 'JJ'), ('.', '.')]),\n",
              " Tree('S', [('And', 'CC'), ('arranging', 'VBG'), ('to', 'TO'), ('clean', 'VB'), ('the', 'DT'), Tree('NP', [('wound', 'NN')]), ('again', 'RB'), ('on', 'IN'), ('Tuesday', 'NNP'), ('.', '.')]),\n",
              " Tree('S', [('And', 'CC'), ('was', 'VBD'), ('not', 'RB'), ('informed', 'VBN'), ('that', 'IN'), ('the', 'DT'), Tree('NP', [('drug', 'NN'), ('odor', 'NN')]), ('.', '.')]),\n",
              " Tree('S', [Tree('NP', [('Measurements', 'NNS')]), ('made', 'VBN'), ('in', 'IN'), ('the', 'DT'), ('next', 'JJ'), ('(', '('), ('Monday', 'NNP'), (')', ')'), (',', ','), ('I', 'PRP'), ('noticed', 'VBD'), ('a', 'DT'), ('foul', 'JJ'), Tree('NP', [('odor', 'NN')]), ('.', '.')]),\n",
              " Tree('S', [('And', 'CC'), Tree('NP', [('lymph', 'NN'), ('flow', 'NN'), ('outward', 'NN')]), ('.', '.')]),\n",
              " Tree('S', [('He', 'PRP'), ('decided', 'VBD'), ('to', 'TO'), ('make', 'VB'), ('the', 'DT'), Tree('NP', [('wound', 'NN')]), ('again', 'RB'), ('.', '.')]),\n",
              " Tree('S', [('The', 'DT'), Tree('NP', [('drug', 'NN')]), ('is', 'VBZ'), ('made', 'VBN'), ('that', 'IN'), Tree('NP', [('smell', 'NN')]), ('.', '.')]),\n",
              " Tree('S', [('When', 'WRB'), ('changing', 'VBG'), ('the', 'DT'), Tree('NP', [('wound', 'NN')]), ('and', 'CC'), ('finished', 'VBD'), Tree('NP', [('drugs', 'NNS')]), ('.', '.')]),\n",
              " Tree('S', [('For', 'IN'), ('me', 'PRP'), (',', ','), ('therefore', 'RB'), (',', ','), ('that', 'IN'), ('I', 'PRP'), ('need', 'VBP'), ('to', 'TO'), ('follow', 'VB'), ('up', 'RP'), ('the', 'DT'), Tree('NP', [('service', 'NN')]), ('on', 'IN'), ('Tuesday', 'NNP'), ('or', 'CC'), ('not', 'RB'), ('.', '.')]),\n",
              " Tree('S', [('The', 'DT'), Tree('NP', [('nurse', 'NN')]), ('told', 'VBD'), ('the', 'DT'), Tree('NP', [('doctor', 'NN')]), ('to', 'TO'), ('come', 'VB'), ('in', 'IN'), ('at', 'IN'), ('10', 'CD'), ('am', 'VBP'), ('-4', 'JJ'), Tree('NP', [('pm', 'NN')]), ('.', '.')]),\n",
              " Tree('S', [('Which', 'WDT'), ('at', 'IN'), ('that', 'DT'), Tree('NP', [('time', 'NN')]), ('was', 'VBD'), ('2pm', 'CD'), ('.', '.')]),\n",
              " Tree('S', [('Asked', 'VBN'), ('why', 'WRB'), ('not', 'RB'), ('go', 'VB'), ('to', 'TO'), ('the', 'DT'), Tree('NP', [('doctor', 'NN')]), ('.', '.')]),\n",
              " Tree('S', [('Do', 'VBP'), ('not', 'RB'), ('have', 'VB'), ('to', 'TO'), ('waste', 'VB'), Tree('NP', [('time', 'NN')]), ('repeatedly', 'RB'), ('.', '.')]),\n",
              " Tree('S', [('Nurse', 'NNP'), ('said', 'VBD'), ('adhesive', 'JJ'), ('to', 'TO'), ('me', 'PRP'), ('.', '.')]),\n",
              " Tree('S', [('If', 'IN'), ('so', 'RB'), (',', ','), ('will', 'MD'), ('be', 'VB'), ('set', 'VBN'), Tree('NP', [('dresser', 'NN')]), ('again', 'RB'), ('...', ':')]),\n",
              " Tree('S', [('This', 'DT'), Tree('NP', [('hospital', 'NN'), ('patients', 'NNS')]), ('should', 'MD'), ('ask', 'VB'), ('a', 'DT'), Tree('NP', [('doctor', 'NN')]), ('before', 'IN'), ('I', 'PRP'), ('want', 'VBP'), ('to', 'TO'), ('use', 'VB'), ('it', 'PRP'), ('or', 'CC'), ('not', 'RB'), (',', ','), ('or', 'CC'), ('whether', 'IN'), ('I', 'PRP'), ('should', 'MD'), ('just', 'RB'), ('drop', 'VB'), ('me', 'PRP'), Tree('NP', [('tomorrow', 'NN')]), ('.', '.')]),\n",
              " Tree('S', [Tree('NP', [('Nurses', 'NNS')]), ('have', 'VBP'), ('the', 'DT'), Tree('NP', [('right', 'NN')]), ('to', 'TO'), ('decide', 'VB'), ('to', 'TO'), ('replace', 'VB'), ('it', 'PRP'), ('?', '.')]),\n",
              " Tree('S', [Tree('NP', [('Hospital', 'NN')]), ('without', 'IN'), Tree('NP', [('coordination', 'NN')]), ('.', '.')]),\n",
              " Tree('S', [Tree('NP', [('Patients', 'NNS')]), ('need', 'VBP'), ('to', 'TO'), ('make', 'VB'), ('redundant', 'JJ'), Tree('NP', [('fro', 'NN')]), ('.', '.')]),\n",
              " Tree('S', [('I', 'PRP'), ('have', 'VBP'), ('filed', 'VBN'), ('an', 'DT'), Tree('NP', [('appointment', 'NN')]), ('from', 'IN'), ('coming', 'VBG'), ('.', '.')]),\n",
              " Tree('S', [('But', 'CC'), ('it', 'PRP'), ('is', 'VBZ'), ('not', 'RB'), ('a', 'DT'), Tree('NP', [('physician', 'NN')]), ('or', 'CC'), Tree('NP', [('nurse', 'NN')]), ('to', 'TO'), ('a', 'DT'), Tree('NP', [('doctor', 'NN')]), (\"'s\", 'POS'), Tree('NP', [('appointment', 'NN')]), ('in', 'IN'), ('any', 'DT'), Tree('NP', [('way', 'NN')]), ('.', '.')]),\n",
              " Tree('S', [('So', 'RB'), ('I', 'PRP'), ('was', 'VBD'), ('disappointed', 'VBN'), ('with', 'IN'), ('the', 'DT'), Tree('NP', [('standard', 'NN')]), ('.', '.')]),\n",
              " Tree('S', [('May', 'NNP'), ('.', '.')]),\n",
              " Tree('S', [('After', 'IN'), ('not', 'RB'), ('going', 'VBG'), ('to', 'TO'), ('take', 'VB'), ('many', 'JJ'), Tree('NP', [('years', 'NNS')]), ('.', '.')]),\n",
              " Tree('S', [('More', 'RBR'), ('modern', 'JJ'), Tree('NP', [('hospital', 'NN')]), ('But', 'CC'), ('the', 'DT'), Tree('NP', [('distance', 'NN')]), ('of', 'IN'), ('the', 'DT'), ('financial', 'JJ'), ('and', 'CC'), ('dispense', 'VB'), ('too', 'RB'), ('far', 'RB'), ('.', '.')]),\n",
              " Tree('S', [('Will', 'MD'), ('take', 'VB'), ('over', 'RP'), ('the', 'DT'), Tree('NP', [('payments', 'NNS')]), (',', ','), ('but', 'CC'), ('to', 'TO'), ('wait', 'VB'), ('for', 'IN'), ('the', 'DT'), Tree('NP', [('drugs', 'NNS')]), ('from', 'IN'), ('the', 'DT'), Tree('NP', [('pharmacy', 'NN'), ('bag', 'NN')]), ('with', 'IN'), ('as', 'IN'), ('many', 'JJ'), Tree('NP', [('people', 'NNS')]), ('waiting', 'VBG'), ('for', 'IN'), Tree('NP', [('payment', 'NN')]), ('.', '.')]),\n",
              " Tree('S', [('Here', 'RB'), ('are', 'VBP'), ('the', 'DT'), Tree('NP', [('names', 'NNS')]), ('and', 'CC'), Tree('NP', [('information', 'NN')]), ('of', 'IN'), Tree('NP', [('patients', 'NNS'), ('strap', 'NN')]), ('.', '.')]),\n",
              " Tree('S', [('But', 'CC'), ('pay', 'VB'), Tree('NP', [('attention', 'NN')]), ('to', 'TO'), ('see', 'VB'), ('if', 'IN'), ('the', 'DT'), Tree('NP', [('waste', 'NN')]), ('is', 'VBZ'), ('not', 'RB'), ('as', 'RB'), ('good', 'JJ'), ('as', 'IN'), ('it', 'PRP'), ('does', 'VBZ'), ('.', '.')]),\n",
              " Tree('S', [('Your', 'PRP$'), Tree('NP', [('doctor', 'NN')]), (',', ','), ('nurse', 'JJ'), Tree('NP', [('service', 'NN')]), (',', ','), ('great', 'JJ'), Tree('NP', [('eloquence', 'NN')]), ('.', '.')]),\n",
              " Tree('S', [Tree('NP', [('Management', 'NN'), ('system', 'NN')]), (',', ','), ('good', 'JJ'), ('waiting', 'VBG'), Tree('NP', [('staff', 'NN')]), ('a', 'DT'), ('medical', 'JJ'), Tree('NP', [('doctor', 'NN')]), (',', ','), ('beaming', 'VBG'), ('good', 'JJ'), ('.', '.')]),\n",
              " Tree('S', [('Reason', 'NNP'), ('for', 'IN'), ('this', 'DT'), Tree('NP', [('hospital', 'NN')]), ('.', '.')]),\n",
              " Tree('S', [('Near', 'IN'), ('the', 'DT'), Tree('NP', [('house', 'NN')]), ('with', 'IN'), ('your', 'PRP$'), Tree('NP', [('doctor', 'NN')]), ('.', '.')]),\n",
              " Tree('S', [('I', 'PRP'), ('like', 'VBP'), ('this', 'DT'), Tree('NP', [('hospital', 'NN')]), ('A', 'NNP'), Tree('NP', [('hospital', 'NN')]), ('that', 'WDT'), ('is', 'VBZ'), ('not', 'RB'), ('too', 'RB'), ('big', 'JJ'), ('.', '.')]),\n",
              " Tree('S', [('To', 'TO'), ('each', 'DT'), Tree('NP', [('department', 'NN')]), (',', ','), ('not', 'RB'), ('far', 'RB'), ('away', 'RB'), ('.', '.')]),\n",
              " Tree('S', [('Some', 'DT'), Tree('NP', [('departments', 'NNS')]), ('will', 'MD'), ('remain', 'VB'), ('separate', 'JJ'), ('Laminate', 'NNP'), Tree('NP', [('areas', 'NNS')]), ('.', '.')]),\n",
              " Tree('S', [('A', 'DT'), ('private', 'JJ'), Tree('NP', [('hospital', 'NN')]), ('where', 'WRB'), ('the', 'DT'), Tree('NP', [('price', 'NN')]), ('is', 'VBZ'), ('not', 'RB'), ('too', 'RB'), ('high', 'JJ'), ('and', 'CC'), ('the', 'DT'), Tree('NP', [('service', 'NN'), ('good', 'NN')]), ('.', '.')]),\n",
              " Tree('S', [('Nurse', 'NNP'), Tree('NP', [('care', 'NN'), ('patient', 'NN')]), ('and', 'CC'), Tree('NP', [('polite', 'NN')]), ('You', 'PRP'), ('have', 'VBP'), ('enough', 'JJ'), Tree('NP', [('room', 'NN')]), ('to', 'TO'), ('accommodate', 'VB'), ('a', 'DT'), ('large', 'JJ'), Tree('NP', [('number', 'NN')]), ('of', 'IN'), Tree('NP', [('patients', 'NNS')]), ('.', '.')]),\n",
              " Tree('S', [('Some', 'DT'), Tree('NP', [('hospitals', 'NNS')]), ('are', 'VBP'), ('too', 'RB'), ('many', 'JJ'), Tree('NP', [('doctors', 'NNS')]), ('.', '.')]),\n",
              " Tree('S', [('The', 'DT'), Tree('NP', [('need', 'NN')]), ('to', 'TO'), ('wait', 'VB'), ('for', 'IN'), ('the', 'DT'), Tree('NP', [('end', 'NN')]), ('of', 'IN'), ('2016', 'CD'), ('as', 'IN'), Tree('NP', [('dengue', 'NN')]), ('.', '.')]),\n",
              " Tree('S', [('To', 'TO'), ('stay', 'VB'), ('in', 'IN'), ('the', 'DT'), Tree('NP', [('hospital', 'NN')]), ('for', 'IN'), ('4', 'CD'), Tree('NP', [('days', 'NNS')]), (',', ','), Tree('NP', [('doctors', 'NNS')]), ('checked', 'VBD'), Tree('NP', [('everything', 'NN')]), ('thoroughly', 'RB'), ('with', 'IN'), Tree('NP', [('insurance', 'NN'), ('departments', 'NNS')]), ('that', 'WDT'), ('facilitate', 'VBP'), ('us', 'PRP'), ('without', 'IN'), ('much', 'JJ'), Tree('NP', [('hassle', 'NN')]), ('.', '.')]),\n",
              " Tree('S', [('The', 'DT'), Tree('NP', [('disadvantage', 'NN')]), ('of', 'IN'), ('this', 'DT'), Tree('NP', [('hospital', 'NN')]), ('is', 'VBZ'), ('.', '.')]),\n",
              " Tree('S', [Tree('NP', [('Nurses', 'NNS')]), ('walked', 'VBD'), ('out', 'RP'), ('very', 'RB'), ('often', 'RB'), ('during', 'IN'), Tree('NP', [('midday', 'NN')]), ('.', '.')]),\n",
              " Tree('S', [('The', 'DT'), Tree('NP', [('cause', 'NN')]), ('is', 'VBZ'), ('not', 'RB'), ('fully', 'RB'), ('relax', 'VB'), ('But', 'CC'), ('it', 'PRP'), (\"'s\", 'VBZ'), ('understandable', 'JJ'), ('because', 'IN'), ('To', 'TO'), ('monitor', 'VB'), ('the', 'DT'), Tree('NP', [('temperature', 'NN')]), ('The', 'DT'), Tree('NP', [('doctor', 'NN')]), ('came', 'VBD'), ('to', 'TO'), ('check', 'VB'), ('on', 'IN'), ('all', 'PDT'), ('the', 'DT'), Tree('NP', [('time', 'NN')]), (',', ','), ('never', 'RB'), ('late', 'RB'), (',', ','), ('but', 'CC'), ('the', 'DT'), Tree('NP', [('downside', 'NN')]), ('is', 'VBZ'), ('another', 'DT'), Tree('NP', [('hospital', 'NN')]), ('.', '.')]),\n",
              " Tree('S', [('Not', 'RB'), ('clean', 'VB'), ('the', 'DT'), Tree('NP', [('cafeteria', 'NN'), ('food', 'NN')]), ('was', 'VBD'), ('plain', 'VB'), ('how', 'WRB'), ('much', 'JJ'), ('the', 'DT'), ('old', 'JJ'), Tree('NP', [('store', 'NN')]), ('.', '.')]),\n",
              " Tree('S', [('Not', 'RB'), ('very', 'RB'), ('tasty', 'JJ'), ('It', 'PRP'), ('may', 'MD'), ('be', 'VB'), ('in', 'IN'), ('the', 'DT'), ('Silom', 'NNP'), Tree('NP', [('area', 'NN')]), ('.', '.')]),\n",
              " Tree('S', [('I', 'PRP'), ('have', 'VBP'), Tree('NP', [('food', 'NN')]), ('to', 'TO'), ('eat', 'VB'), ('a', 'DT'), Tree('NP', [('lot', 'NN')]), ('.', '.')]),\n",
              " Tree('S', [('However', 'RB'), (',', ','), ('it', 'PRP'), ('should', 'MD'), ('be', 'VB'), ('a', 'DT'), Tree('NP', [('variety', 'NN')]), ('of', 'IN'), Tree('NP', [('food', 'NN')]), ('for', 'IN'), Tree('NP', [('people', 'NNS')]), ('who', 'WP'), ('are', 'VBP'), ('waiting', 'VBG'), ('for', 'IN'), ('the', 'DT'), Tree('NP', [('doctor', 'NN')]), ('or', 'CC'), ('the', 'DT'), Tree('NP', [('patient', 'NN')]), ('came', 'VBD'), ('to', 'TO'), Tree('NP', [('food', 'NN')]), ('is', 'VBZ'), ('very', 'RB'), ('important', 'JJ'), ('.', '.')]),\n",
              " Tree('S', [('At', 'IN'), ('least', 'JJS'), ('it', 'PRP'), ('makes', 'VBZ'), ('the', 'DT'), Tree('NP', [('hospital', 'NN'), ('stay', 'NN')]), ('is', 'VBZ'), ('never', 'RB'), ('boring', 'JJ'), ('.', '.')]),\n",
              " Tree('S', [('Also', 'RB'), (',', ','), ('it', 'PRP'), ('does', 'VBZ'), ('not', 'RB'), ('have', 'VB'), ('a', 'DT'), Tree('NP', [('restaurant', 'NN')]), ('open', 'JJ'), ('to', 'TO'), ('the', 'DT'), ('outside', 'JJ'), (',', ','), ('many', 'JJ'), Tree('NP', [('starbucks', 'NNS')]), ('or', 'CC'), ('S', 'NNP'), ('&', 'CC'), ('P', 'NNP'), ('is', 'VBZ'), ('the', 'DT'), ('only', 'JJ'), ('Au', 'NNP'), ('Bon', 'NNP'), ('Pain', 'NNP'), (',', ','), ('which', 'WDT'), ('makes', 'VBZ'), ('it', 'PRP'), ('a', 'DT'), ('little', 'JJ'), ('less', 'JJR'), Tree('NP', [('choice', 'NN')]), ('for', 'IN'), ('the', 'DT'), Tree('NP', [('consumer', 'NN')]), ('.', '.')]),\n",
              " Tree('S', [('For', 'IN'), Tree('NP', [('rooms', 'NNS')]), ('were', 'VBD'), ('very', 'RB'), ('clean', 'JJ'), ('and', 'CC'), ('cleaned', 'JJ'), ('every', 'DT'), Tree('NP', [('day', 'NN')]), (',', ','), ('rub', 'VB'), ('the', 'DT'), Tree('NP', [('swab', 'NN')]), ('.', '.')]),\n",
              " Tree('S', [('Considered', 'VBN'), ('very', 'RB'), ('good', 'JJ'), ('for', 'IN'), Tree('NP', [('people', 'NNS')]), ('who', 'WP'), ('are', 'VBP'), ('concerned', 'VBN'), ('about', 'IN'), Tree('NP', [('cleanliness', 'NN')]), ('.', '.')]),\n",
              " Tree('S', [('Toilet', 'NNP'), Tree('NP', [('water', 'NN')]), ('was', 'VBD'), ('flowing', 'VBG'), ('quite', 'RB'), ('strongly', 'RB'), ('.', '.')]),\n",
              " Tree('S', [('Do', 'VB'), ('not', 'RB'), ('be', 'VB'), ('afraid', 'VBN'), ('to', 'TO'), ('be', 'VB'), ('a', 'DT'), ('strong', 'JJ'), Tree('NP', [('flow', 'NN')]), ('of', 'IN'), ('warm', 'JJ'), Tree('NP', [('water', 'NN')]), ('is', 'VBZ'), ('great', 'JJ'), ('for', 'IN'), Tree('NP', [('people', 'NNS')]), ('who', 'WP'), ('like', 'IN'), Tree('NP', [('winter', 'NN')]), ('.', '.')]),\n",
              " Tree('S', [('It', 'PRP'), ('offers', 'VBZ'), ('wifi', 'RBR'), ('in', 'IN'), ('the', 'DT'), Tree('NP', [('room', 'NN')]), ('with', 'IN'), ('the', 'DT'), Tree('NP', [('patient', 'NN'), ('registration', 'NN'), ('service', 'NN')]), ('soon', 'RB'), ('.', '.')]),\n",
              " Tree('S', [('But', 'CC'), ('not', 'RB'), ('so', 'RB'), ('fast', 'RB'), ('But', 'CC'), ('better', 'JJR'), ('than', 'IN'), Tree('NP', [('none', 'NN')]), ('Take', 'VB'), ('a', 'DT'), Tree('NP', [('look', 'NN')]), ('at', 'IN'), ('the', 'DT'), Tree('NP', [('series', 'NN')]), (',', ','), ('bored', 'VBN'), ('with', 'IN'), Tree('NP', [('nothing', 'NN')]), ('to', 'TO'), ('do', 'VB'), ('.', '.')]),\n",
              " Tree('S', [('The', 'DT'), Tree('NP', [('rooms', 'NNS')]), ('are', 'VBP'), ('not', 'RB'), ('luxurious', 'JJ'), ('atmosphere', 'RB'), ('BNH', 'NNP'), Tree('NP', [('something', 'NN')]), ('new', 'JJ'), (',', ','), ('but', 'CC'), ('it', 'PRP'), ('is', 'VBZ'), ('not', 'RB'), ('terrible', 'JJ'), Tree('NP', [('light', 'NN')]), (',', ','), ('then', 'RB'), ('the', 'DT'), Tree('NP', [('total', 'NN')]), ('would', 'MD'), ('be', 'VB'), ('8.5', 'CD'), Tree('NP', [('points', 'NNS')]), ('out', 'IN'), ('of', 'IN'), ('a', 'DT'), Tree('NP', [('nursing', 'NN')]), ('often', 'RB'), ('enough', 'RB'), ('.', '.')]),\n",
              " Tree('S', [('The', 'DT'), Tree('NP', [('sound', 'NN')]), ('is', 'VBZ'), ('quite', 'RB'), ('loud', 'JJ'), (',', ','), ('medical', 'JJ'), Tree('NP', [('equipment', 'NN'), ('carts', 'NNS')]), ('.', '.')]),\n",
              " Tree('S', [('And', 'CC'), ('the', 'DT'), Tree('NP', [('food', 'NN')]), ('is', 'VBZ'), ('not', 'RB'), ('much', 'JJ'), ('to', 'TO'), ('choose', 'VB'), ('from', 'IN'), ('.', '.')]),\n",
              " Tree('S', [('Like', 'IN'), ('running', 'VBG'), Tree('NP', [('speed', 'NN')]), ('Hospital', 'NNP'), Tree('NP', [('cleanliness', 'NN')]), ('Doctor', 'NNP'), ('and', 'CC'), ('experienced', 'VBD'), Tree('NP', [('people', 'NNS')])]),\n",
              " Tree('S', [('Food', 'NNP'), Tree('NP', [('poisoning', 'NN')]), (',', ','), Tree('NP', [('diarrhea', 'NN')]), (',', ','), Tree('NP', [('penniless', 'NN')]), ('and', 'CC'), ('without', 'IN'), ('a', 'DT'), Tree('NP', [('doctor', 'NN')]), ('.', '.')]),\n",
              " Tree('S', [('You', 'PRP'), ('need', 'VBP'), ('salt', 'VB'), ('to', 'TO'), ('the', 'DT'), Tree('NP', [('doctor', 'NN')]), ('ordered', 'VBD'), ('.', '.')]),\n",
              " Tree('S', [('Then', 'RB'), ('it', 'PRP'), ('hit', 'VBD'), ('us', 'PRP'), ('to', 'TO'), ('stay', 'VB'), ('an', 'DT'), ('extra', 'JJ'), Tree('NP', [('night', 'NN')]), ('to', 'TO'), ('make', 'VB'), Tree('NP', [('brine', 'NN')]), ('.', '.')]),\n",
              " Tree('S', [('Paul', 'NNP'), ('Brine', 'NNP'), ('out', 'IN'), ('Nursing', 'NNP'), Tree('NP', [('bother', 'NN')]), ('to', 'TO'), ('come', 'VB'), ('overnight', 'RB'), (',', ','), ('adding', 'VBG'), ('to', 'TO'), Tree('NP', [('signs', 'NNS')]), ('.', '.')]),\n",
              " Tree('S', [('We', 'PRP'), ('were', 'VBD'), ('told', 'VBN'), ('that', 'IN'), ('there', 'EX'), ('was', 'VBD'), Tree('NP', [('need', 'NN')]), ('to', 'TO'), ('do', 'VB'), ('so', 'RB'), ('.', '.')]),\n",
              " Tree('S', [('The', 'DT'), Tree('NP', [('drug', 'NN')]), ('was', 'VBD'), ('also', 'RB'), ('another', 'DT'), Tree('NP', [('change', 'NN')]), ('that', 'WDT'), ('came', 'VBD'), ('into', 'IN'), ('Metallica', 'NNP'), ('.', '.')]),\n",
              " Tree('S', [('Let', 'VB'), ('us', 'PRP'), ('find', 'VB'), ('out', 'RP'), ('Langen', 'NNP'), ('is', 'VBZ'), ('a', 'DT'), ('metal', 'JJ'), ('salt-depleted', 'JJ'), Tree('NP', [('hour', 'NN')]), ('ago', 'RB'), ('.', '.')]),\n",
              " Tree('S', [('We', 'PRP'), ('are', 'VBP'), ('outraged', 'VBN'), ('that', 'IN'), ('the', 'DT'), Tree('NP', [('doctor', 'NN')]), ('did', 'VBD'), ('not', 'RB'), ('ask', 'VB'), ('to', 'TO'), ('come', 'VB'), ('here', 'RB'), (',', ','), ('then', 'RB'), ('it', 'PRP'), ('really', 'RB'), ('does', 'VBZ'), ('not', 'RB'), ('require', 'VB'), ('a', 'DT'), ('special', 'JJ'), Tree('NP', [('room', 'NN')]), ('this', 'DT'), Tree('NP', [('time', 'NN')]), (',', ','), Tree('NP', [('eh', 'NN')]), ('.', '.')]),\n",
              " Tree('S', [('Centreline', 'NNP'), ('until', 'IN'), ('we', 'PRP'), ('begin', 'VBP'), ('to', 'TO'), ('pay', 'VB'), ('out', 'RP'), ('.', '.')]),\n",
              " Tree('S', [('The', 'DT'), ('total', 'JJ'), Tree('NP', [('cost', 'NN')]), ('to', 'TO'), ('the', 'DT'), Tree('NP', [('drug', 'NN'), ('charges', 'NNS')]), ('nearly', 'RB'), ('a', 'DT'), Tree('NP', [('thousand', 'NN'), ('rooms', 'NNS')]), ('.', '.')]),\n",
              " Tree('S', [('A', 'DT'), ('cold', 'JJ'), Tree('NP', [('day', 'NN')]), ('Your', 'PRP$'), Tree('NP', [('doctor', 'NN')]), ('much', 'JJ'), ('sooner', 'JJR'), ('than', 'IN'), ('2', 'CD'), Tree('NP', [('minutes', 'NNS')]), (',', ','), ('lift', 'VBZ'), ('the', 'DT'), Tree('NP', [('handset', 'NN')]), ('to', 'TO'), ('listen', 'VB'), ('to', 'TO'), ('the', 'DT'), Tree('NP', [('lungs', 'NNS')]), (',', ','), ('moved', 'VBD'), ('quickly', 'RB'), ('.', '.')]),\n",
              " Tree('S', [('More', 'RBR'), ('important', 'JJ'), (',', ','), ('he', 'PRP'), ('returned', 'VBD'), Tree('NP', [('home', 'NN')]), ('to', 'TO'), ('find', 'VB'), ('the', 'DT'), Tree('NP', [('medicine', 'NN')]), ('the', 'DT'), Tree('NP', [('doctor', 'NN')]), ('ordered', 'VBD'), ('to', 'TO'), ('cough', 'VB'), ('.', '.')]),\n",
              " Tree('S', [('Did', 'NNP'), ('not', 'RB'), Tree('NP', [('order', 'NN')]), ('the', 'DT'), Tree('NP', [('drugs', 'NNS')]), ('by', 'IN'), ('nasal', 'JJ'), Tree('NP', [('congestion', 'NN')]), (',', ','), ('then', 'RB'), ('the', 'DT'), Tree('NP', [('doctor', 'NN')]), ('will', 'MD'), ('prescribe', 'VB'), Tree('NP', [('drugs', 'NNS')]), ('that', 'WDT'), ('should', 'MD'), ('tell', 'VB'), ('you', 'PRP'), Tree('NP', [('something', 'NN')]), ('.', '.')]),\n",
              " Tree('S', [('It', 'PRP'), ('was', 'VBD'), ('late', 'JJ'), ('enough', 'JJ'), Tree('NP', [('medicine', 'NN')]), ('.', '.')]),\n",
              " Tree('S', [('Would', 'MD'), ('not', 'RB'), ('have', 'VB'), ('to', 'TO'), ('ride', 'VB'), ('back', 'RB'), ('to', 'TO'), ('tell', 'VB'), ('the', 'DT'), Tree('NP', [('doctor', 'NN')]), ('ordered', 'VBD'), ('to', 'TO'), ('cure', 'VB'), ('a', 'DT'), Tree('NP', [('stuffy', 'NN'), ('nose', 'NN')]), ('.', '.')]),\n",
              " Tree('S', [('I', 'PRP'), ('feel', 'VBP'), ('that', 'IN'), ('the', 'DT'), Tree('NP', [('state', 'NN'), ('hospital', 'NN')]), ('to', 'TO'), ('see', 'VB'), ('a', 'DT'), Tree('NP', [('doctor', 'NN')]), ('is', 'VBZ'), ('better', 'JJR'), ('than', 'IN'), Tree('NP', [('medicine', 'NN')]), ('correctly', 'RB'), ('.', '.')]),\n",
              " Tree('S', [('You', 'PRP'), ('know', 'VBP'), ('the', 'DT'), Tree('NP', [('signs', 'NNS')]), ('and', 'CC'), ('take', 'VB'), ('the', 'DT'), Tree('NP', [('time', 'NN')]), ('to', 'TO'), Tree('NP', [('treatment', 'NN')]), ('than', 'IN'), ('private', 'JJ'), ('again', 'RB'), ('.', '.')]),\n",
              " Tree('S', [('Service', 'NNP'), ('is', 'VBZ'), ('very', 'RB'), ('good', 'JJ'), Tree('NP', [('People', 'NNS')]), ('took', 'VBD'), ('to', 'TO'), ('the', 'DT'), Tree('NP', [('floor', 'NN')]), ('where', 'WRB'), ('the', 'DT'), Tree('NP', [('doctor', 'NN')]), ('will', 'MD'), ('do', 'VB'), ('a', 'DT'), ('very', 'RB'), ('good', 'JJ'), Tree('NP', [('service', 'NN')]), ('.', '.')]),\n",
              " Tree('S', [('I', 'PRP'), ('waited', 'VBD'), ('quite', 'RB'), ('a', 'DT'), ('long', 'JJ'), Tree('NP', [('time', 'NN')]), (',', ','), ('in', 'IN'), Tree('NP', [('spite', 'NN')]), ('of', 'IN'), Tree('NP', [('appearances', 'NNS')]), ('.', '.')]),\n",
              " Tree('S', [('The', 'DT'), Tree('NP', [('professor', 'NN'), ('doctor', 'NN')])]),\n",
              " Tree('S', [Tree('NP', [('Patients', 'NNS')]), ('are', 'VBP'), ('not', 'RB'), ('paying', 'VBG'), Tree('NP', [('attention', 'NN')]), ('.', '.')]),\n",
              " Tree('S', [('Specific', 'JJ'), Tree('NP', [('stomach', 'NN')]), ('attentive', 'JJ'), ('to', 'TO'), Tree('NP', [('patients', 'NNS')]), ('as', 'IN'), ('well', 'RB'), ('.', '.')]),\n",
              " Tree('S', [('Suggested', 'JJ'), Tree('NP', [('remedy', 'NN')]), ('As', 'NNP'), ('well', 'RB'), ('as', 'IN'), Tree('NP', [('patient', 'NN'), ('care', 'NN')]), ('to', 'TO'), ('recover', 'VB'), ('from', 'IN'), ('the', 'DT'), Tree('NP', [('symptoms', 'NNS')]), ('is', 'VBZ'), ('very', 'RB'), ('good', 'JJ'), ('.', '.')]),\n",
              " Tree('S', [('Until', 'IN'), ('the', 'DT'), Tree('NP', [('card', 'NN')]), ('to', 'TO'), ('the', 'DT'), Tree('NP', [('nurse', 'NN')]), (\"'s\", 'POS'), Tree('NP', [('desk', 'NN')]), ('and', 'CC'), Tree('NP', [('everyone', 'NN')]), ('is', 'VBZ'), ('very', 'RB'), ('lovely', 'RB'), ('.', '.')]),\n",
              " Tree('S', [Tree('NP', [('Today', 'NN')]), (',', ','), ('not', 'RB'), ('a', 'DT'), ('cold', 'JJ'), ('and', 'CC'), ('sore', 'RB'), Tree('NP', [('throat', 'NN')]), ('to', 'TO'), ('the', 'DT'), Tree('NP', [('doctor', 'NN')]), ('to', 'TO'), ('get', 'VB'), Tree('NP', [('medicine', 'NN')]), ('.', '.')]),\n",
              " Tree('S', [('Good', 'JJ'), Tree('NP', [('service', 'NN')]), ('is', 'VBZ'), ('very', 'RB'), ('attentive', 'JJ'), Tree('NP', [('patient', 'NN')]), ('.', '.')]),\n",
              " Tree('S', [('Keeping', 'VBG'), ('a', 'DT'), Tree('NP', [('pet', 'NN')]), ('fever', 'IN'), ('The', 'DT'), ('dry', 'JJ'), Tree('NP', [('bed', 'NN')]), ('was', 'VBD'), ('hard', 'JJ'), ('to', 'TO'), ('sleep', 'VB'), ('.', '.')]),\n",
              " Tree('S', [('Service', 'NNP'), ('quite', 'RB'), ('slow', 'JJ'), Tree('NP', [('time', 'NN')]), ('make', 'VBP'), ('out', 'RP'), ('very', 'RB'), ('slowly', 'RB'), Tree('NP', [('kg', 'NN')]), ('.', '.')]),\n",
              " Tree('S', [('Follow', 'NNP'), ('us', 'PRP'), ('ask', 'VBP'), ('from', 'IN'), Tree('NP', [('morning', 'NN')]), ('got', 'VBD'), ('off', 'RB'), ('again', 'RB'), ('at', 'IN'), ('2pm', 'CD'), ('.', '.')]),\n",
              " Tree('S', [('But', 'CC'), ('every', 'DT'), Tree('NP', [('time', 'NN')]), ('the', 'DT'), Tree('NP', [('maintenance', 'NN'), ('service', 'NN')]), ('of', 'IN'), Tree('NP', [('nurses', 'NNS')]), ('are', 'VBP'), ('excellent', 'JJ'), ('.', '.')]),\n",
              " Tree('S', [('Total', 'JJ'), Tree('NP', [('costs', 'NNS')]), ('of', 'IN'), Tree('NP', [('prizes', 'NNS')]), ('to', 'TO'), ('unfold', 'VB'), ('along', 'IN'), ('the', 'DT'), Tree('NP', [('charge', 'NN')]), ('.', '.')]),\n",
              " Tree('S', [('Almost', 'RB'), ('worth', 'IN'), ('it', 'PRP')]),\n",
              " Tree('S', [Tree('NP', [('Doctors', 'NNS')]), ('and', 'CC'), Tree('NP', [('nurses', 'NNS')]), ('can', 'MD'), ('provide', 'VB'), Tree('NP', [('care', 'NN')]), ('as', 'IN'), ('well', 'RB'), ('.', '.')]),\n",
              " Tree('S', [('Good', 'JJ'), Tree('NP', [('patient', 'NN'), ('care', 'NN'), ('services', 'NNS')]), ('Fee', 'NNP'), ('Affordable', 'NNP')]),\n",
              " Tree('S', [('Hospital', 'NNP'), Tree('NP', [('ward', 'NN'), ('boy', 'NN')]), ('Care', 'NNP'), Tree('NP', [('admit', 'NN')]), ('as', 'RB'), ('much', 'JJ'), ('to', 'TO'), ('clean', 'VB'), ('the', 'DT'), Tree('NP', [('thermometer', 'NN')]), ('as', 'IN'), ('a', 'DT'), ('good', 'JJ'), Tree('NP', [('time', 'NN')]), ('to', 'TO'), ('talk', 'VB'), ('psychological', 'JJ'), Tree('NP', [('smiling', 'NN')]), ('.', '.')]),\n",
              " Tree('S', [('Long', 'JJ'), Tree('NP', [('wait', 'NN')]), (',', ','), ('crowded', 'VBD'), ('waiting', 'VBG'), Tree('NP', [('rooms', 'NNS')]), (',', ','), Tree('NP', [('doctor', 'NN')]), (',', ','), Tree('NP', [('hospital', 'NN'), ('system', 'NN')]), ('does', 'VBZ'), ('not', 'RB'), ('work', 'VB'), ('.', '.')]),\n",
              " Tree('S', [Tree('NP', [('Delays', 'NNS')]), (',', ','), ('high', 'JJ'), Tree('NP', [('prices', 'NNS')]), ('are', 'VBP'), ('not', 'RB'), ('fit', 'JJ'), ('for', 'IN'), Tree('NP', [('service', 'NN')]), ('.', '.')]),\n",
              " Tree('S', [('Usually', 'RB'), ('it', 'PRP'), ('is', 'VBZ'), ('used', 'VBN'), ('at', 'IN'), Tree('NP', [('hospital', 'NN')]), ('near', 'IN'), ('Bangkok', 'NNP'), ('due', 'JJ'), ('.', '.')]),\n",
              " Tree('S', [('The', 'DT'), Tree('NP', [('service', 'NN')]), ('is', 'VBZ'), ('really', 'RB'), ('good', 'JJ'), ('Enough', 'NNP'), Tree('NP', [('staff', 'NN')]), ('for', 'IN'), Tree('NP', [('service', 'NN')])]),\n",
              " Tree('S', [('May', 'NNP'), ('provide', 'VB'), ('medical', 'JJ'), Tree('NP', [('care', 'NN')]), ('as', 'RB'), ('well', 'RB'), ('as', 'IN'), ('friendly', 'JJ'), ('.', '.')]),\n",
              " Tree('S', [('To', 'TO'), ('maintain', 'VB'), Tree('NP', [('eye', 'NN'), ('contact', 'NN')]), ('with', 'IN'), ('Dr.', 'NNP'), ('Orawan', 'NNP'), ('.', '.')]),\n",
              " Tree('S', [('There', 'EX'), ('are', 'VBP'), ('very', 'RB'), ('good', 'JJ'), Tree('NP', [('patients', 'NNS')]), ('Said', 'VBD'), Tree('NP', [('treatment', 'NN'), ('step', 'NN')]), ('to', 'TO'), ('understanding', 'VBG'), Tree('NP', [('simple', 'NN')]), ('.', '.')]),\n",
              " Tree('S', [('And', 'CC'), ('your', 'PRP$'), Tree('NP', [('doctor', 'NN')]), ('beaching', 'VBG'), Tree('NP', [('battle', 'NN')]), ('again', 'RB'), ('.', '.')]),\n",
              " Tree('S', [Tree('NP', [('Doctor', 'NN')]), ('Who', 'WP'), ('is', 'VBZ'), ('my', 'PRP$'), Tree('NP', [('mother', 'NN')]), ('and', 'CC'), ('all', 'PDT'), ('the', 'DT'), Tree('NP', [('family', 'NN')]), ('very', 'RB'), ('impressed', 'JJ'), ('.', '.')]),\n",
              " Tree('S', [('Outpatient', 'NNP'), Tree('NP', [('care', 'NN')]), ('is', 'VBZ'), ('very', 'RB'), ('good', 'JJ'), ('as', 'IN'), ('well', 'RB'), ('.', '.')]),\n",
              " Tree('S', [('Took', 'NNP'), ('her', 'PRP$'), Tree('NP', [('son', 'NN')]), ('to', 'TO'), ('the', 'DT'), Tree('NP', [('doctor', 'NN')]), ('The', 'DT'), ('low', 'JJ'), Tree('NP', [('grade', 'NN'), ('fever', 'NN')]), ('Were', 'NNP'), Tree('NP', [('rash', 'NN')]), ('on', 'IN'), ('the', 'DT'), Tree('NP', [('body', 'NN')]), ('When', 'WRB'), ('the', 'DT'), Tree('NP', [('outdoor', 'NN')]), ('and', 'CC'), ('named', 'VBN'), Tree('NP', [('patient', 'NN')]), ('.', '.')]),\n",
              " Tree('S', [('Check', 'VB'), ('the', 'DT'), Tree('NP', [('pressure', 'NN')]), ('Height', 'NNP'), Tree('NP', [('children', 'NNS')]), ('I', 'PRP'), ('was', 'VBD'), ('waiting', 'VBG'), ('to', 'TO'), ('see', 'VB'), ('Bay', 'NNP'), ('Area', 'NNP'), Tree('NP', [('stage', 'NN')]), ('fast', 'RB'), ('enough', 'RB'), ('.', '.')]),\n",
              " Tree('S', [('It', 'PRP'), ('does', 'VBZ'), ('not', 'RB'), ('have', 'VB'), ('to', 'TO'), ('wait', 'VB'), ('long', 'RB'), ('.', '.')]),\n",
              " Tree('S', [('Staff', 'NNP'), Tree('NP', [('look', 'NN')]), ('after', 'IN'), ('good', 'JJ'), ('I', 'PRP'), ('smiled', 'VBD'), ('at', 'IN'), ('my', 'PRP$'), Tree('NP', [('sink', 'NN'), ('transparent', 'NN'), ('viscose', 'NN')]), ('.', '.')]),\n",
              " Tree('S', [('You', 'PRP'), ('were', 'VBD'), ('described', 'VBN'), ('as', 'IN'), ('benign', 'JJ'), ('genital', 'JJ'), Tree('NP', [('informative', 'NN')]), ('.', '.')]),\n",
              " Tree('S', [('Until', 'IN'), ('then', 'RB'), (',', ','), ('the', 'DT'), ('ANC', 'NNP'), (\"'s\", 'POS'), Tree('NP', [('birth', 'NN')]), (',', ','), ('it', 'PRP'), ('was', 'VBD'), ('2', 'CD'), Tree('NP', [('people', 'NNS')]), (',', ','), ('good', 'JJ'), Tree('NP', [('service', 'NN')]), (',', ','), ('very', 'RB'), ('good', 'JJ'), Tree('NP', [('doctors', 'NNS')]), (',', ','), Tree('NP', [('nurses', 'NNS')]), (',', ','), Tree('NP', [('patients', 'NNS')]), ('are', 'VBP'), ('encouraged', 'VBN'), ('to', 'TO'), ('make', 'VB'), ('good', 'JJ'), Tree('NP', [('things', 'NNS')]), ('better', 'RBR'), ('.', '.')]),\n",
              " Tree('S', [('Officer', 'NNP'), ('and', 'CC'), ('physician', 'JJ'), Tree('NP', [('attention', 'NN')]), ('to', 'TO'), ('patient', 'VB'), ('Despite', 'IN'), ('the', 'DT'), Tree('NP', [('ease', 'NN')]), ('administrative', 'JJ'), Tree('NP', [('chat', 'NN')]), ('.', '.')]),\n",
              " Tree('S', [('As', 'IN'), ('hospital', 'JJ'), Tree('NP', [('patients', 'NNS')]), ('.', '.')]),\n",
              " Tree('S', [('This', 'DT'), ('is', 'VBZ'), ('a', 'DT'), ('25-year-old', 'JJ'), Tree('NP', [('hospital', 'NN')]), ('.', '.')]),\n",
              " Tree('S', [('The', 'DT'), ('old', 'JJ'), Tree('NP', [('tools', 'NNS')]), ('and', 'CC'), ('modern', 'JJ'), Tree('NP', [('medicine', 'NN')]), ('.', '.')]),\n",
              " Tree('S', [('Believe', 'NNP'), ('and', 'CC'), Tree('NP', [('trust', 'NN')]), ('in', 'IN'), ('medical', 'JJ'), Tree('NP', [('treatment', 'NN')]), ('.', '.')]),\n",
              " Tree('S', [('The', 'DT'), Tree('NP', [('clinics', 'NNS'), ('treat', 'NN')]), ('and', 'CC'), Tree('NP', [('consult', 'NN')]), ('with', 'IN'), ('Dr..', 'NNP'), ('Kitsanee', 'NNP'), Tree('NP', [('department', 'NN')]), (\"'s\", 'POS'), ('MD', 'NNP'), ('.', '.')]),\n",
              " Tree('S', [('Ecriiw', 'NNP'), ('Federation', 'NNP'), ('MD', 'NNP'), ('.', '.')]),\n",
              " Tree('S', [('The', 'DT'), ('great', 'JJ'), ('and', 'CC'), ('admirable', 'JJ'), ('in', 'IN'), ('its', 'PRP$'), Tree('NP', [('intention', 'NN')]), ('to', 'TO'), ('maintain', 'VB'), ('it', 'PRP'), ('.', '.')]),\n",
              " Tree('S', [('Dr.', 'NNP'), ('Cho', 'NNP'), ('absolute', 'POS'), ('good', 'JJ'), ('and', 'CC'), ('noble', 'JJ'), ('in', 'IN'), Tree('NP', [('intention', 'NN')]), ('to', 'TO'), ('treat', 'VB'), ('.', '.')]),\n",
              " Tree('S', [('the', 'DT'), Tree('NP', [('patient', 'NN')]), ('recovered', 'VBD'), ('quickly', 'RB'), ('return', 'VB'), ('to', 'TO'), ('normal', 'JJ'), Tree('NP', [('life', 'NN')]), ('.', '.')]),\n",
              " Tree('S', [('Professor', 'NNP'), ('of', 'IN'), ('neurological', 'JJ'), Tree('NP', [('surgery', 'NN')]), ('Medicine', 'NNP'), ('.', '.')]),\n",
              " Tree('S', [('Brain', 'NNP'), ('expert', 'JJ'), Tree('NP', [('spine', 'NN')]), ('I', 'PRP'), ('introduce', 'VBP'), Tree('NP', [('people', 'NNS')]), ('to', 'TO'), ('recognize', 'VB'), ('the', 'DT'), Tree('NP', [('symptoms', 'NNS')]), ('of', 'IN'), ('broken', 'JJ'), Tree('NP', [('blood', 'NN'), ('vessels', 'NNS')]), ('.', '.')]),\n",
              " Tree('S', [('Tea', 'NNP'), Tree('NP', [('leg', 'NN'), ('pain', 'NN')]), ('caused', 'VBN'), ('by', 'IN'), Tree('NP', [('bone', 'NN'), ('nerve', 'NN')]), ('.', '.')]),\n",
              " Tree('S', [('You', 'PRP'), ('may', 'MD'), ('have', 'VB'), ('also', 'RB'), ('been', 'VBN'), ('operating', 'VBG'), ('from', 'IN'), ('.', '.')]),\n",
              " Tree('S', [('7', 'CD'), Tree('NP', [('days', 'NNS')]), ('walking', 'VBG'), ('normally', 'RB'), ('Body', 'NNP'), ('entirely', 'RB'), ('by', 'IN'), ('the', 'DT'), Tree('NP', [('doctors', 'NNS')]), ('here', 'RB'), ('do', 'VBP'), ('not', 'RB'), ('want', 'VB'), ('the', 'DT'), Tree('NP', [('patient', 'NN')]), ('to', 'TO'), ('sleep', 'VB'), ('.', '.')]),\n",
              " Tree('S', [Tree('NP', [('Hospital', 'NN')]), ('is', 'VBZ'), ('not', 'RB'), ('really', 'RB'), ('hard', 'JJ')]),\n",
              " Tree('S', [('Medicine', 'NNP'), ('(', '('), ('Prof.', 'NNP'), ('Dr.', 'NNP'), ('Lifeboats', 'NNP'), ('.', '.')]),\n",
              " Tree('S', [('Cooperative', 'NNP'), Tree('NP', [('prosperity', 'NN')]), (')', ')'), ('are', 'VBP'), ('knowledgeable', 'JJ'), ('and', 'CC'), ('up', 'RB'), ('.', '.')]),\n",
              " Tree('S', [('Cute', 'NNP'), Tree('NP', [('nurse', 'NN')]), (',', ','), ('both', 'DT'), ('in', 'IN'), Tree('NP', [('front', 'NN')]), ('and', 'CC'), ('in', 'IN'), ('the', 'DT'), Tree('NP', [('ward', 'NN')]), ('.', '.')]),\n",
              " Tree('S', [('Operating', 'VBG'), ('herself', 'PRP'), ('an', 'DT'), Tree('NP', [('angel', 'NN')]), ('dressed', 'VBN'), ('in', 'IN'), ('white', 'JJ'), (',', ','), ('good', 'JJ'), Tree('NP', [('food', 'NN')]), (',', ','), Tree('NP', [('airy', 'NN'), ('environment', 'NN')]), ('near', 'IN'), ('the', 'DT'), Tree('NP', [('hospital', 'NN')]), (\"'s\", 'POS'), Tree('NP', [('feeling', 'NN')]), ('good', 'JJ'), (',', ','), ('etc', 'FW'), ('.', '.')]),\n",
              " Tree('S', [('Since', 'IN'), Tree('NP', [('nurses', 'NNS')]), ('are', 'VBP'), ('impressed', 'JJ'), Tree('NP', [('class', 'NN'), ('child', 'NN'), ('care', 'NN')]), ('for', 'IN'), Tree('NP', [('children', 'NNS')]), ('is', 'VBZ'), ('great', 'JJ'), ('to', 'TO'), ('aid', 'VB'), ('wipe', 'JJ'), Tree('NP', [('eloquence', 'NN'), ('child', 'NN'), ('care', 'NN')]), ('until', 'IN'), ('the', 'DT'), Tree('NP', [('doctor', 'NN')]), ('.', '.')]),\n",
              " Tree('S', [('On', 'IN'), ('1', 'CD'), ('January', 'NNP'), ('2560', 'CD'), ('to', 'TO'), ('treat', 'VB'), Tree('NP', [('pain', 'NN')]), ('in', 'IN'), ('the', 'DT'), Tree('NP', [('ankle', 'NN')]), ('from', 'IN'), ('the', 'DT'), Tree('NP', [('crash', 'NN'), ('landing', 'NN')]), ('.', '.')]),\n",
              " Tree('S', [('Since', 'IN'), ('the', 'DT'), Tree('NP', [('car', 'NN')]), ('is', 'VBZ'), ('very', 'RB'), ('good', 'JJ'), Tree('NP', [('service', 'NN'), ('staff', 'NN')]), ('.', '.')]),\n",
              " Tree('S', [('A', 'DT'), Tree('NP', [('nurse', 'NN')]), ('came', 'VBD'), ('into', 'IN'), Tree('NP', [('question', 'NN')]), ('initial', 'JJ'), Tree('NP', [('symptoms', 'NNS')]), ('.', '.')]),\n",
              " Tree('S', [Tree('NP', [('Check', 'NN'), ('records', 'NNS')]), ('quickly', 'RB'), ('.', '.')]),\n",
              " Tree('S', [('Bay', 'NNP'), ('Area', 'NNP'), ('have', 'VBP'), ('empathy', 'VBN'), ('for', 'IN'), Tree('NP', [('diagnosis', 'NN')]), ('carefully', 'RB'), ('.', '.')]),\n",
              " Tree('S', [('Overall', 'VB'), ('a', 'DT'), ('good', 'JJ'), Tree('NP', [('service', 'NN')]), ('impressed', 'VBD'), ('me', 'PRP'), ('.', '.')]),\n",
              " Tree('S', [('Doctor', 'NNP'), (\"'s\", 'POS'), ('Heart', 'NNP')]),\n",
              " Tree('S', [('If', 'IN'), ('we', 'PRP'), ('can', 'MD'), ('not', 'RB'), ('come', 'VB'), ('back', 'RB'), ('to', 'TO'), Tree('NP', [('life', 'NN')]), ('again', 'RB'), ('sustaining', 'VBG'), ('the', 'DT'), ('highly', 'RB'), ('specialized', 'JJ'), Tree('NP', [('doctors', 'NNS')]), (',', ','), Tree('NP', [('teachers', 'NNS')]), ('choose', 'VBP'), ('the', 'DT'), ('regular', 'JJ'), Tree('NP', [('hospital', 'NN')]), (',', ','), ('Bangkok', 'NNP'), ('.', '.')]),\n",
              " Tree('S', [('Only', 'RB'), ('a', 'DT'), Tree('NP', [('doctor', 'NN')])]),\n",
              " Tree('S', [('You', 'PRP'), ('good', 'JJ'), Tree('NP', [('health', 'NN')]), ('until', 'IN'), Tree('NP', [('benign', 'NN')]), ('.', '.')]),\n",
              " Tree('S', [('Lovely', 'RB'), ('.', '.')]),\n",
              " Tree('S', [('Delicious', 'NNP'), Tree('NP', [('food', 'NN')]), (',', ','), ('courteous', 'JJ'), Tree('NP', [('staff', 'NN')]), ('here', 'RB'), ('.', '.')]),\n",
              " Tree('S', [('You', 'PRP'), ('make', 'VBP'), ('little', 'JJ'), Tree('NP', [('treat', 'NN')]), ('.', '.')]),\n",
              " Tree('S', [('Impressive', 'JJ'), ('fast', 'RB'), ('enough', 'RB')]),\n",
              " Tree('S', [('If', 'IN'), ('you', 'PRP'), ('find', 'VBP'), ('a', 'DT'), ('common', 'JJ'), Tree('NP', [('disease', 'NN')]), ('such', 'JJ'), ('as', 'IN'), Tree('NP', [('flu', 'NNS')]), ('usually', 'RB'), ('does', 'VBZ'), ('not', 'RB'), ('need', 'VB'), ('to', 'TO'), ('see', 'VB'), ('a', 'DT'), Tree('NP', [('doctor', 'NN')]), ('at', 'IN'), ('the', 'DT'), Tree('NP', [('hospital', 'NN'), ('channel', 'NN')]), ('.', '.')]),\n",
              " Tree('S', [('Good', 'JJ'), Tree('NP', [('nursing', 'NN'), ('care', 'NN')]), ('is', 'VBZ'), ('a', 'DT'), ('preliminary', 'JJ'), Tree('NP', [('inquiry', 'NN')]), ('.', '.')]),\n",
              " Tree('S', [Tree('NP', [('Doctors', 'NNS')]), ('advise', 'VBP'), ('more', 'JJR'), ('on', 'IN'), Tree('NP', [('prevention', 'NN')]), ('than', 'IN'), Tree('NP', [('treatment', 'NN')]), ('.', '.')])]"
            ]
          },
          "metadata": {
            "tags": []
          },
          "execution_count": 222
        }
      ]
    },
    {
      "cell_type": "markdown",
      "metadata": {
        "id": "18VFBI44jYwV",
        "colab_type": "text"
      },
      "source": [
        "Extract Noun Phrase"
      ]
    },
    {
      "cell_type": "code",
      "metadata": {
        "id": "BCczxqEGjWDf",
        "colab_type": "code",
        "colab": {}
      },
      "source": [
        "def extract_np(parsed_tree):\n",
        "    nps = []\n",
        "    for subtree in parsed_tree.subtrees():\n",
        "        if subtree.label() == 'NP':\n",
        "            t = subtree\n",
        "            t = \" \".join(word for word, tag in t.leaves())\n",
        "            nps.append(t)\n",
        "    return nps"
      ],
      "execution_count": 0,
      "outputs": []
    },
    {
      "cell_type": "code",
      "metadata": {
        "id": "MYEp5fW3jcLQ",
        "colab_type": "code",
        "colab": {}
      },
      "source": [
        "nps = []\n",
        "for parse_tree in parse_trees:\n",
        "    nps.append(extract_np(parse_tree))"
      ],
      "execution_count": 0,
      "outputs": []
    },
    {
      "cell_type": "code",
      "metadata": {
        "id": "Y_iibo7Jjenb",
        "colab_type": "code",
        "outputId": "24867f3e-69d5-42af-be4a-ccd2ffd69faa",
        "colab": {
          "base_uri": "https://localhost:8080/",
          "height": 1000
        }
      },
      "source": [
        "nps"
      ],
      "execution_count": 225,
      "outputs": [
        {
          "output_type": "execute_result",
          "data": {
            "text/plain": [
              "[['lot', 'people', 'hospital'],\n",
              " ['Greetings care patients', 'service'],\n",
              " ['Talk relax'],\n",
              " ['doctors', 'people', 'someone'],\n",
              " ['rooms', 'price'],\n",
              " [],\n",
              " ['reception', 'service', 'system'],\n",
              " ['nurse', 'doctor', 'facilities', 'hospital'],\n",
              " ['Doctors', 'hospital', 'thing', 'service'],\n",
              " ['service'],\n",
              " ['doctor', 'patient feels', 'thank'],\n",
              " ['lot', 'people', 'hospital'],\n",
              " ['Greetings care patients', 'service'],\n",
              " ['Talk relax'],\n",
              " ['doctors', 'people', 'someone'],\n",
              " ['rooms', 'price', 'midwife', 'nursing care'],\n",
              " ['price', 'treatment', 'bit'],\n",
              " [],\n",
              " [],\n",
              " ['Hospital doctors', 'care hospital parking lot', 'buildings', 'prices'],\n",
              " ['service', 'return service'],\n",
              " ['queues', 'mall adjacent', 'hospital'],\n",
              " ['time', 'test results', 'something', 'results'],\n",
              " ['eloquence', 'treatment', 'childhood'],\n",
              " ['hospital'],\n",
              " ['doctor', 'symptoms', 'leg pain', 'doctor', 'medication', 'line'],\n",
              " ['hospital', 'family service'],\n",
              " ['price', 'home care', 'ease', 'travel'],\n",
              " ['rain', 'emergency room', 'health insurance claim hospital care'],\n",
              " ['Relatives', 'friends'],\n",
              " ['Patients', 'years', 'doctor', 'bone pain'],\n",
              " ['before'],\n",
              " ['doctor', 'anything'],\n",
              " [],\n",
              " ['something'],\n",
              " ['doctor'],\n",
              " ['cancer', 'answer', 'answer', 'patient'],\n",
              " ['complaint', 'hospital'],\n",
              " ['doctor', 'doctor'],\n",
              " ['conclusion', 'medications', 'analgesics'],\n",
              " ['pharmacist'],\n",
              " [],\n",
              " ['rheumatoid'],\n",
              " ['kind', 'caring'],\n",
              " ['disease'],\n",
              " ['eye capillaries', 'eye'],\n",
              " ['eyes', 'doctor', 'appointment', 'doctor', 'eyes'],\n",
              " [],\n",
              " ['rheumatoid'],\n",
              " ['eye', 'doctor'],\n",
              " ['Shows', 'patients'],\n",
              " ['weather'],\n",
              " ['leg', 'blotches'],\n",
              " ['winter'],\n",
              " [],\n",
              " ['attention', 'disease'],\n",
              " ['talk', 'work'],\n",
              " ['service', 'care'],\n",
              " ['Yesterday', 'doctor', 'hospital'],\n",
              " ['service', 'impression'],\n",
              " ['birth', 'hospital', 'แlai'],\n",
              " ['Nurses feel', 'service'],\n",
              " ['day', 'hospital'],\n",
              " ['doctor', 'kind ฝaktgag'],\n",
              " ['Talk', 'patient'],\n",
              " ['doctor', 'doctor', 'story'],\n",
              " ['Today', 'people', 'children'],\n",
              " ['counseling', 'information', 'disease'],\n",
              " ['diagnosis', 'years'],\n",
              " ['staff', 'wifi'],\n",
              " ['stomach twin gestation',\n",
              "  'diarrhea',\n",
              "  'pm',\n",
              "  'doctor',\n",
              "  'hospital',\n",
              "  'someone',\n",
              "  'wheelchair'],\n",
              " ['Accelerators', 'convenient', 'bathroom'],\n",
              " ['d.'],\n",
              " ['brine', 'night', 'doctor', 'specialist doctors', 'obstetricians'],\n",
              " ['disease', 'colon care'],\n",
              " ['drawback'],\n",
              " [],\n",
              " ['Exceptions', 'bed'],\n",
              " ['journey'],\n",
              " ['port'],\n",
              " ['maternity ward', 'cycles'],\n",
              " ['man', 'examination'],\n",
              " ['doctors', 'check'],\n",
              " ['teller', 'eggs', 'eggs', 'egg', 'children'],\n",
              " ['wall'],\n",
              " [],\n",
              " ['baht', 'temperature', 'ultrasound'],\n",
              " ['thank'],\n",
              " ['disease recurrence', 'doctor', 'hospital bed'],\n",
              " ['doctors'],\n",
              " ['home', 'interests', 'patients'],\n",
              " ['staff'],\n",
              " ['expert',\n",
              "  'front',\n",
              "  'experience',\n",
              "  'doctors',\n",
              "  'nurses',\n",
              "  'questions',\n",
              "  'medicine department'],\n",
              " ['Doctors', 'department', 'material'],\n",
              " ['load'],\n",
              " ['treatment', 'patients', 'post hospital services', 'team', 'specialists'],\n",
              " [],\n",
              " ['parachute', 'travel nurses', 'doctors', 'care', 'guidance'],\n",
              " ['Reduces symptoms', 'doctors', 'obstetricians', 'lot'],\n",
              " ['doctors'],\n",
              " ['children', 'doctors', 'diseases', 'accuracy'],\n",
              " ['answer'],\n",
              " ['virus rsv', 'room'],\n",
              " ['hospital', 'solution', 'waiting room'],\n",
              " ['time', 'room'],\n",
              " ['Nursing', 'care', 'attention', 'patients', 'spite', 'children', 'ward'],\n",
              " ['patients', 'countenance'],\n",
              " [],\n",
              " ['estate', 'kind', 'pregnancy'],\n",
              " ['Every time', 'problem', 'pregnancy'],\n",
              " ['doctor', 'advice'],\n",
              " ['stitches'],\n",
              " ['bed', 'water'],\n",
              " ['patient care', 'doctor'],\n",
              " ['examination', 'year'],\n",
              " ['service'],\n",
              " ['room'],\n",
              " ['counter',\n",
              "  'people',\n",
              "  'doctor',\n",
              "  'examination room',\n",
              "  'treatment',\n",
              "  'doctor',\n",
              "  'appointment'],\n",
              " ['service', 'prices'],\n",
              " ['surgery', 'hand', 'pressure'],\n",
              " ['Replacement nurses', 'start'],\n",
              " ['Went', 'nurses'],\n",
              " ['patients', 'jacket', 'radiation'],\n",
              " ['hospitals', 'government hospital'],\n",
              " ['thanks', 'caring mother', 'mother', 'night', 'symptoms'],\n",
              " ['catch', 'cheeks', 'feel', 'grandchildren'],\n",
              " ['Doctors'],\n",
              " ['Doctor',\n",
              "  'nurse',\n",
              "  'kind',\n",
              "  'look',\n",
              "  'surgery',\n",
              "  'safety',\n",
              "  'feel',\n",
              "  'recommendations'],\n",
              " ['care'],\n",
              " ['Accommodation',\n",
              "  'restaurants',\n",
              "  'hospitals',\n",
              "  'outpatient care',\n",
              "  'mother',\n",
              "  'time',\n",
              "  'heart'],\n",
              " ['management system', 'lot', 'unit'],\n",
              " ['parking', 'seniors', 'people', 'car sharing', 'distance'],\n",
              " ['security guards'],\n",
              " [],\n",
              " ['standard', 'world', 'manners', 'statement', 'impression'],\n",
              " ['rest', 'service'],\n",
              " ['hospital'],\n",
              " ['service', 'hospitals', 'service'],\n",
              " ['man', 'office', 'lot'],\n",
              " ['cleanliness'],\n",
              " ['smell drugs', 'book', 'staff', 'fast'],\n",
              " [],\n",
              " ['examination', 'information'],\n",
              " ['staff', 'door', 'dissection room'],\n",
              " ['People'],\n",
              " [],\n",
              " ['holiday', \"o'clock\", 'morning', 'layers'],\n",
              " [],\n",
              " ['department',\n",
              "  'records',\n",
              "  'coordinator sensitivity',\n",
              "  'patient cards',\n",
              "  'health insurance cards',\n",
              "  'minutes',\n",
              "  'front'],\n",
              " [],\n",
              " ['services', 'nurses', 'smile'],\n",
              " ['expertise', 'doctors', 'doctors', 'teachers', 'proficient'],\n",
              " ['deduction', 'respect', 'issue', 'examination'],\n",
              " ['doctors', 'time', 'patients'],\n",
              " ['battery', 'backup batteries'],\n",
              " ['nurse', 'power', 'department'],\n",
              " ['money'],\n",
              " ['care'],\n",
              " ['lack', 'attention', 'treatment'],\n",
              " ['mom', 'heart disease'],\n",
              " ['Doctors', 'care', 'room'],\n",
              " ['sleepers'],\n",
              " ['floor cute'],\n",
              " ['claim', 'insurance'],\n",
              " ['doctors', 'thanks', 'treatment', 'scalp'],\n",
              " [],\n",
              " ['motorcycle accident'],\n",
              " ['wound'],\n",
              " ['wound'],\n",
              " ['drug odor'],\n",
              " ['Measurements', 'odor'],\n",
              " ['lymph flow outward'],\n",
              " ['wound'],\n",
              " ['drug', 'smell'],\n",
              " ['wound', 'drugs'],\n",
              " ['service'],\n",
              " ['nurse', 'doctor', 'pm'],\n",
              " ['time'],\n",
              " ['doctor'],\n",
              " ['time'],\n",
              " [],\n",
              " ['dresser'],\n",
              " ['hospital patients', 'doctor', 'tomorrow'],\n",
              " ['Nurses', 'right'],\n",
              " ['Hospital', 'coordination'],\n",
              " ['Patients', 'fro'],\n",
              " ['appointment'],\n",
              " ['physician', 'nurse', 'doctor', 'appointment', 'way'],\n",
              " ['standard'],\n",
              " [],\n",
              " ['years'],\n",
              " ['hospital', 'distance'],\n",
              " ['payments', 'drugs', 'pharmacy bag', 'people', 'payment'],\n",
              " ['names', 'information', 'patients strap'],\n",
              " ['attention', 'waste'],\n",
              " ['doctor', 'service', 'eloquence'],\n",
              " ['Management system', 'staff', 'doctor'],\n",
              " ['hospital'],\n",
              " ['house', 'doctor'],\n",
              " ['hospital', 'hospital'],\n",
              " ['department'],\n",
              " ['departments', 'areas'],\n",
              " ['hospital', 'price', 'service good'],\n",
              " ['care patient', 'polite', 'room', 'number', 'patients'],\n",
              " ['hospitals', 'doctors'],\n",
              " ['need', 'end', 'dengue'],\n",
              " ['hospital',\n",
              "  'days',\n",
              "  'doctors',\n",
              "  'everything',\n",
              "  'insurance departments',\n",
              "  'hassle'],\n",
              " ['disadvantage', 'hospital'],\n",
              " ['Nurses', 'midday'],\n",
              " ['cause', 'temperature', 'doctor', 'time', 'downside', 'hospital'],\n",
              " ['cafeteria food', 'store'],\n",
              " ['area'],\n",
              " ['food', 'lot'],\n",
              " ['variety', 'food', 'people', 'doctor', 'patient', 'food'],\n",
              " ['hospital stay'],\n",
              " ['restaurant', 'starbucks', 'choice', 'consumer'],\n",
              " ['rooms', 'day', 'swab'],\n",
              " ['people', 'cleanliness'],\n",
              " ['water'],\n",
              " ['flow', 'water', 'people', 'winter'],\n",
              " ['room', 'patient registration service'],\n",
              " ['none', 'look', 'series', 'nothing'],\n",
              " ['rooms', 'something', 'light', 'total', 'points', 'nursing'],\n",
              " ['sound', 'equipment carts'],\n",
              " ['food'],\n",
              " ['speed', 'cleanliness', 'people'],\n",
              " ['poisoning', 'diarrhea', 'penniless', 'doctor'],\n",
              " ['doctor'],\n",
              " ['night', 'brine'],\n",
              " ['bother', 'signs'],\n",
              " ['need'],\n",
              " ['drug', 'change'],\n",
              " ['hour'],\n",
              " ['doctor', 'room', 'time', 'eh'],\n",
              " [],\n",
              " ['cost', 'drug charges', 'thousand rooms'],\n",
              " ['day', 'doctor', 'minutes', 'handset', 'lungs'],\n",
              " ['home', 'medicine', 'doctor'],\n",
              " ['order', 'drugs', 'congestion', 'doctor', 'drugs', 'something'],\n",
              " ['medicine'],\n",
              " ['doctor', 'stuffy nose'],\n",
              " ['state hospital', 'doctor', 'medicine'],\n",
              " ['signs', 'time', 'treatment'],\n",
              " ['People', 'floor', 'doctor', 'service'],\n",
              " ['time', 'spite', 'appearances'],\n",
              " ['professor doctor'],\n",
              " ['Patients', 'attention'],\n",
              " ['stomach', 'patients'],\n",
              " ['remedy', 'patient care', 'symptoms'],\n",
              " ['card', 'nurse', 'desk', 'everyone'],\n",
              " ['Today', 'throat', 'doctor', 'medicine'],\n",
              " ['service', 'patient'],\n",
              " ['pet', 'bed'],\n",
              " ['time', 'kg'],\n",
              " ['morning'],\n",
              " ['time', 'maintenance service', 'nurses'],\n",
              " ['costs', 'prizes', 'charge'],\n",
              " [],\n",
              " ['Doctors', 'nurses', 'care'],\n",
              " ['patient care services'],\n",
              " ['ward boy', 'admit', 'thermometer', 'time', 'smiling'],\n",
              " ['wait', 'rooms', 'doctor', 'hospital system'],\n",
              " ['Delays', 'prices', 'service'],\n",
              " ['hospital'],\n",
              " ['service', 'staff', 'service'],\n",
              " ['care'],\n",
              " ['eye contact'],\n",
              " ['patients', 'treatment step', 'simple'],\n",
              " ['doctor', 'battle'],\n",
              " ['Doctor', 'mother', 'family'],\n",
              " ['care'],\n",
              " ['son', 'doctor', 'grade fever', 'rash', 'body', 'outdoor', 'patient'],\n",
              " ['pressure', 'children', 'stage'],\n",
              " [],\n",
              " ['look', 'sink transparent viscose'],\n",
              " ['informative'],\n",
              " ['birth', 'people', 'service', 'doctors', 'nurses', 'patients', 'things'],\n",
              " ['attention', 'ease', 'chat'],\n",
              " ['patients'],\n",
              " ['hospital'],\n",
              " ['tools', 'medicine'],\n",
              " ['trust', 'treatment'],\n",
              " ['clinics treat', 'consult', 'department'],\n",
              " [],\n",
              " ['intention'],\n",
              " ['intention'],\n",
              " ['patient', 'life'],\n",
              " ['surgery'],\n",
              " ['spine', 'people', 'symptoms', 'blood vessels'],\n",
              " ['leg pain', 'bone nerve'],\n",
              " [],\n",
              " ['days', 'doctors', 'patient'],\n",
              " ['Hospital'],\n",
              " [],\n",
              " ['prosperity'],\n",
              " ['nurse', 'front', 'ward'],\n",
              " ['angel', 'food', 'airy environment', 'hospital', 'feeling'],\n",
              " ['nurses', 'class child care', 'children', 'eloquence child care', 'doctor'],\n",
              " ['pain', 'ankle', 'crash landing'],\n",
              " ['car', 'service staff'],\n",
              " ['nurse', 'question', 'symptoms'],\n",
              " ['Check records'],\n",
              " ['diagnosis'],\n",
              " ['service'],\n",
              " [],\n",
              " ['life', 'doctors', 'teachers', 'hospital'],\n",
              " ['doctor'],\n",
              " ['health', 'benign'],\n",
              " [],\n",
              " ['food', 'staff'],\n",
              " ['treat'],\n",
              " [],\n",
              " ['disease', 'flu', 'doctor', 'hospital channel'],\n",
              " ['nursing care', 'inquiry'],\n",
              " ['Doctors', 'prevention', 'treatment']]"
            ]
          },
          "metadata": {
            "tags": []
          },
          "execution_count": 225
        }
      ]
    },
    {
      "cell_type": "markdown",
      "metadata": {
        "id": "v61sVzLojiro",
        "colab_type": "text"
      },
      "source": [
        "**Put information into DataFrame**"
      ]
    },
    {
      "cell_type": "code",
      "metadata": {
        "id": "bq5vTLutjgFq",
        "colab_type": "code",
        "colab": {}
      },
      "source": [
        "df = pd.DataFrame({\"cids\": cids, \n",
        "                   \"sentences\": sentences, \n",
        "                   \"sentiments\": sentiments, \n",
        "                   \"NP\": nps})"
      ],
      "execution_count": 0,
      "outputs": []
    },
    {
      "cell_type": "code",
      "metadata": {
        "id": "2ayIc1ZSj1gh",
        "colab_type": "code",
        "outputId": "e110a2ce-b74f-40d7-a32c-303f32c21221",
        "colab": {
          "base_uri": "https://localhost:8080/",
          "height": 359
        }
      },
      "source": [
        "df.head(10)"
      ],
      "execution_count": 227,
      "outputs": [
        {
          "output_type": "execute_result",
          "data": {
            "text/html": [
              "<div>\n",
              "<style scoped>\n",
              "    .dataframe tbody tr th:only-of-type {\n",
              "        vertical-align: middle;\n",
              "    }\n",
              "\n",
              "    .dataframe tbody tr th {\n",
              "        vertical-align: top;\n",
              "    }\n",
              "\n",
              "    .dataframe thead th {\n",
              "        text-align: right;\n",
              "    }\n",
              "</style>\n",
              "<table border=\"1\" class=\"dataframe\">\n",
              "  <thead>\n",
              "    <tr style=\"text-align: right;\">\n",
              "      <th></th>\n",
              "      <th>cids</th>\n",
              "      <th>sentences</th>\n",
              "      <th>sentiments</th>\n",
              "      <th>NP</th>\n",
              "    </tr>\n",
              "  </thead>\n",
              "  <tbody>\n",
              "    <tr>\n",
              "      <th>0</th>\n",
              "      <td>0</td>\n",
              "      <td>What is really like a lot of people in this ho...</td>\n",
              "      <td>positive</td>\n",
              "      <td>[lot, people, hospital]</td>\n",
              "    </tr>\n",
              "    <tr>\n",
              "      <th>1</th>\n",
              "      <td>0</td>\n",
              "      <td>Most smiling Greetings care patients and those...</td>\n",
              "      <td>positive</td>\n",
              "      <td>[Greetings care patients, service]</td>\n",
              "    </tr>\n",
              "    <tr>\n",
              "      <th>2</th>\n",
              "      <td>0</td>\n",
              "      <td>Talk relax at all.</td>\n",
              "      <td>positive</td>\n",
              "      <td>[Talk relax]</td>\n",
              "    </tr>\n",
              "    <tr>\n",
              "      <th>3</th>\n",
              "      <td>0</td>\n",
              "      <td>Most doctors who have had the good-hearted peo...</td>\n",
              "      <td>neutral</td>\n",
              "      <td>[doctors, people, someone]</td>\n",
              "    </tr>\n",
              "    <tr>\n",
              "      <th>4</th>\n",
              "      <td>0</td>\n",
              "      <td>The Department of Medicine Private rooms are O...</td>\n",
              "      <td>positive</td>\n",
              "      <td>[rooms, price]</td>\n",
              "    </tr>\n",
              "    <tr>\n",
              "      <th>5</th>\n",
              "      <td>1</td>\n",
              "      <td>Riga has to use here.</td>\n",
              "      <td>neutral</td>\n",
              "      <td>[]</td>\n",
              "    </tr>\n",
              "    <tr>\n",
              "      <th>6</th>\n",
              "      <td>1</td>\n",
              "      <td>Clean and good reception The service was with ...</td>\n",
              "      <td>positive</td>\n",
              "      <td>[reception, service, system]</td>\n",
              "    </tr>\n",
              "    <tr>\n",
              "      <th>7</th>\n",
              "      <td>1</td>\n",
              "      <td>A nurse and doctor There are facilities within...</td>\n",
              "      <td>neutral</td>\n",
              "      <td>[nurse, doctor, facilities, hospital]</td>\n",
              "    </tr>\n",
              "    <tr>\n",
              "      <th>8</th>\n",
              "      <td>1</td>\n",
              "      <td>Doctors are competent The hospital is a good t...</td>\n",
              "      <td>positive</td>\n",
              "      <td>[Doctors, hospital, thing, service]</td>\n",
              "    </tr>\n",
              "    <tr>\n",
              "      <th>9</th>\n",
              "      <td>1</td>\n",
              "      <td>I would recommend to use the service if they a...</td>\n",
              "      <td>negative</td>\n",
              "      <td>[service]</td>\n",
              "    </tr>\n",
              "  </tbody>\n",
              "</table>\n",
              "</div>"
            ],
            "text/plain": [
              "   cids  ...                                     NP\n",
              "0     0  ...                [lot, people, hospital]\n",
              "1     0  ...     [Greetings care patients, service]\n",
              "2     0  ...                           [Talk relax]\n",
              "3     0  ...             [doctors, people, someone]\n",
              "4     0  ...                         [rooms, price]\n",
              "5     1  ...                                     []\n",
              "6     1  ...           [reception, service, system]\n",
              "7     1  ...  [nurse, doctor, facilities, hospital]\n",
              "8     1  ...    [Doctors, hospital, thing, service]\n",
              "9     1  ...                              [service]\n",
              "\n",
              "[10 rows x 4 columns]"
            ]
          },
          "metadata": {
            "tags": []
          },
          "execution_count": 227
        }
      ]
    },
    {
      "cell_type": "code",
      "metadata": {
        "id": "5IirLAzZj26d",
        "colab_type": "code",
        "colab": {}
      },
      "source": [
        "df['sentences'] = df['sentences'].str.replace(\"[^a-zA-Z#]\", \" \")"
      ],
      "execution_count": 0,
      "outputs": []
    },
    {
      "cell_type": "code",
      "metadata": {
        "id": "OK-USNzqj6D2",
        "colab_type": "code",
        "colab": {}
      },
      "source": [
        "df['sentiments'] = df['sentiments'].str.replace(\"[^a-zA-Z#]\", \" \")"
      ],
      "execution_count": 0,
      "outputs": []
    },
    {
      "cell_type": "markdown",
      "metadata": {
        "id": "ZoxJRBB2j-qk",
        "colab_type": "text"
      },
      "source": [
        "Split dataframe into positive and negative sentiment"
      ]
    },
    {
      "cell_type": "code",
      "metadata": {
        "id": "vOMuTnfcj6lB",
        "colab_type": "code",
        "colab": {
          "base_uri": "https://localhost:8080/",
          "height": 409
        },
        "outputId": "0d7b5e1a-6f47-452e-89fa-058e03180bb9"
      },
      "source": [
        "pos = df[df[\"sentiments\"] == \"positive\"].reset_index(drop=True)\n",
        "pos_words = sum(pos[\"NP\"].tolist(), [])\n",
        "pos_words = [word.lower() for word in pos_words]\n",
        "poshist = pd.DataFrame({\"words\": pos_words})\n",
        "poshist = poshist.groupby(\"words\").size().reset_index(name=\"#pos\")"
      ],
      "execution_count": 230,
      "outputs": [
        {
          "output_type": "error",
          "ename": "TypeError",
          "evalue": "ignored",
          "traceback": [
            "\u001b[0;31m---------------------------------------------------------------------------\u001b[0m",
            "\u001b[0;31mTypeError\u001b[0m                                 Traceback (most recent call last)",
            "\u001b[0;32m<ipython-input-230-05c5036b8239>\u001b[0m in \u001b[0;36m<module>\u001b[0;34m()\u001b[0m\n\u001b[1;32m      1\u001b[0m \u001b[0mpos\u001b[0m \u001b[0;34m=\u001b[0m \u001b[0mdf\u001b[0m\u001b[0;34m[\u001b[0m\u001b[0mdf\u001b[0m\u001b[0;34m[\u001b[0m\u001b[0;34m\"sentiments\"\u001b[0m\u001b[0;34m]\u001b[0m \u001b[0;34m==\u001b[0m \u001b[0;34m\"positive\"\u001b[0m\u001b[0;34m]\u001b[0m\u001b[0;34m.\u001b[0m\u001b[0mreset_index\u001b[0m\u001b[0;34m(\u001b[0m\u001b[0mdrop\u001b[0m\u001b[0;34m=\u001b[0m\u001b[0;32mTrue\u001b[0m\u001b[0;34m)\u001b[0m\u001b[0;34m\u001b[0m\u001b[0;34m\u001b[0m\u001b[0m\n\u001b[0;32m----> 2\u001b[0;31m \u001b[0mpos_words\u001b[0m \u001b[0;34m=\u001b[0m \u001b[0msum\u001b[0m\u001b[0;34m(\u001b[0m\u001b[0mpos\u001b[0m\u001b[0;34m[\u001b[0m\u001b[0;34m\"NP\"\u001b[0m\u001b[0;34m]\u001b[0m\u001b[0;34m.\u001b[0m\u001b[0mtolist\u001b[0m\u001b[0;34m(\u001b[0m\u001b[0;34m)\u001b[0m\u001b[0;34m,\u001b[0m \u001b[0;34m[\u001b[0m\u001b[0;34m]\u001b[0m\u001b[0;34m)\u001b[0m\u001b[0;34m\u001b[0m\u001b[0;34m\u001b[0m\u001b[0m\n\u001b[0m\u001b[1;32m      3\u001b[0m \u001b[0mpos_words\u001b[0m \u001b[0;34m=\u001b[0m \u001b[0;34m[\u001b[0m\u001b[0mword\u001b[0m\u001b[0;34m.\u001b[0m\u001b[0mlower\u001b[0m\u001b[0;34m(\u001b[0m\u001b[0;34m)\u001b[0m \u001b[0;32mfor\u001b[0m \u001b[0mword\u001b[0m \u001b[0;32min\u001b[0m \u001b[0mpos_words\u001b[0m\u001b[0;34m]\u001b[0m\u001b[0;34m\u001b[0m\u001b[0;34m\u001b[0m\u001b[0m\n\u001b[1;32m      4\u001b[0m \u001b[0mposhist\u001b[0m \u001b[0;34m=\u001b[0m \u001b[0mpd\u001b[0m\u001b[0;34m.\u001b[0m\u001b[0mDataFrame\u001b[0m\u001b[0;34m(\u001b[0m\u001b[0;34m{\u001b[0m\u001b[0;34m\"words\"\u001b[0m\u001b[0;34m:\u001b[0m \u001b[0mpos_words\u001b[0m\u001b[0;34m}\u001b[0m\u001b[0;34m)\u001b[0m\u001b[0;34m\u001b[0m\u001b[0;34m\u001b[0m\u001b[0m\n\u001b[1;32m      5\u001b[0m \u001b[0mposhist\u001b[0m \u001b[0;34m=\u001b[0m \u001b[0mposhist\u001b[0m\u001b[0;34m.\u001b[0m\u001b[0mgroupby\u001b[0m\u001b[0;34m(\u001b[0m\u001b[0;34m\"words\"\u001b[0m\u001b[0;34m)\u001b[0m\u001b[0;34m.\u001b[0m\u001b[0msize\u001b[0m\u001b[0;34m(\u001b[0m\u001b[0;34m)\u001b[0m\u001b[0;34m.\u001b[0m\u001b[0mreset_index\u001b[0m\u001b[0;34m(\u001b[0m\u001b[0mname\u001b[0m\u001b[0;34m=\u001b[0m\u001b[0;34m\"#pos\"\u001b[0m\u001b[0;34m)\u001b[0m\u001b[0;34m\u001b[0m\u001b[0;34m\u001b[0m\u001b[0m\n",
            "\u001b[0;32m<__array_function__ internals>\u001b[0m in \u001b[0;36msum\u001b[0;34m(*args, **kwargs)\u001b[0m\n",
            "\u001b[0;32m/usr/local/lib/python3.6/dist-packages/numpy/core/fromnumeric.py\u001b[0m in \u001b[0;36msum\u001b[0;34m(a, axis, dtype, out, keepdims, initial, where)\u001b[0m\n\u001b[1;32m   2227\u001b[0m \u001b[0;34m\u001b[0m\u001b[0m\n\u001b[1;32m   2228\u001b[0m     return _wrapreduction(a, np.add, 'sum', axis, dtype, out, keepdims=keepdims,\n\u001b[0;32m-> 2229\u001b[0;31m                           initial=initial, where=where)\n\u001b[0m\u001b[1;32m   2230\u001b[0m \u001b[0;34m\u001b[0m\u001b[0m\n\u001b[1;32m   2231\u001b[0m \u001b[0;34m\u001b[0m\u001b[0m\n",
            "\u001b[0;32m/usr/local/lib/python3.6/dist-packages/numpy/core/fromnumeric.py\u001b[0m in \u001b[0;36m_wrapreduction\u001b[0;34m(obj, ufunc, method, axis, dtype, out, **kwargs)\u001b[0m\n\u001b[1;32m     88\u001b[0m                 \u001b[0;32mreturn\u001b[0m \u001b[0mreduction\u001b[0m\u001b[0;34m(\u001b[0m\u001b[0maxis\u001b[0m\u001b[0;34m=\u001b[0m\u001b[0maxis\u001b[0m\u001b[0;34m,\u001b[0m \u001b[0mout\u001b[0m\u001b[0;34m=\u001b[0m\u001b[0mout\u001b[0m\u001b[0;34m,\u001b[0m \u001b[0;34m**\u001b[0m\u001b[0mpasskwargs\u001b[0m\u001b[0;34m)\u001b[0m\u001b[0;34m\u001b[0m\u001b[0;34m\u001b[0m\u001b[0m\n\u001b[1;32m     89\u001b[0m \u001b[0;34m\u001b[0m\u001b[0m\n\u001b[0;32m---> 90\u001b[0;31m     \u001b[0;32mreturn\u001b[0m \u001b[0mufunc\u001b[0m\u001b[0;34m.\u001b[0m\u001b[0mreduce\u001b[0m\u001b[0;34m(\u001b[0m\u001b[0mobj\u001b[0m\u001b[0;34m,\u001b[0m \u001b[0maxis\u001b[0m\u001b[0;34m,\u001b[0m \u001b[0mdtype\u001b[0m\u001b[0;34m,\u001b[0m \u001b[0mout\u001b[0m\u001b[0;34m,\u001b[0m \u001b[0;34m**\u001b[0m\u001b[0mpasskwargs\u001b[0m\u001b[0;34m)\u001b[0m\u001b[0;34m\u001b[0m\u001b[0;34m\u001b[0m\u001b[0m\n\u001b[0m\u001b[1;32m     91\u001b[0m \u001b[0;34m\u001b[0m\u001b[0m\n\u001b[1;32m     92\u001b[0m \u001b[0;34m\u001b[0m\u001b[0m\n",
            "\u001b[0;31mTypeError\u001b[0m: 'list' object cannot be interpreted as an integer"
          ]
        }
      ]
    },
    {
      "cell_type": "code",
      "metadata": {
        "id": "dx3gHvVqj6um",
        "colab_type": "code",
        "colab": {
          "base_uri": "https://localhost:8080/",
          "height": 409
        },
        "outputId": "e525a419-6b26-4ee7-823f-98fc17f27a0f"
      },
      "source": [
        "neg = df[df[\"sentiments\"] == \"negative\"].reset_index(drop=True)\n",
        "neg_words = sum(neg[\"NP\"].tolist(), [])\n",
        "neg_words = [word.lower() for word in neg_words]\n",
        "neghist = pd.DataFrame({\"words\": neg_words})\n",
        "neghist = neghist.groupby(\"words\").size().reset_index(name=\"#neg\")"
      ],
      "execution_count": 231,
      "outputs": [
        {
          "output_type": "error",
          "ename": "TypeError",
          "evalue": "ignored",
          "traceback": [
            "\u001b[0;31m---------------------------------------------------------------------------\u001b[0m",
            "\u001b[0;31mTypeError\u001b[0m                                 Traceback (most recent call last)",
            "\u001b[0;32m<ipython-input-231-9762cf57b7b3>\u001b[0m in \u001b[0;36m<module>\u001b[0;34m()\u001b[0m\n\u001b[1;32m      1\u001b[0m \u001b[0mneg\u001b[0m \u001b[0;34m=\u001b[0m \u001b[0mdf\u001b[0m\u001b[0;34m[\u001b[0m\u001b[0mdf\u001b[0m\u001b[0;34m[\u001b[0m\u001b[0;34m\"sentiments\"\u001b[0m\u001b[0;34m]\u001b[0m \u001b[0;34m==\u001b[0m \u001b[0;34m\"negative\"\u001b[0m\u001b[0;34m]\u001b[0m\u001b[0;34m.\u001b[0m\u001b[0mreset_index\u001b[0m\u001b[0;34m(\u001b[0m\u001b[0mdrop\u001b[0m\u001b[0;34m=\u001b[0m\u001b[0;32mTrue\u001b[0m\u001b[0;34m)\u001b[0m\u001b[0;34m\u001b[0m\u001b[0;34m\u001b[0m\u001b[0m\n\u001b[0;32m----> 2\u001b[0;31m \u001b[0mneg_words\u001b[0m \u001b[0;34m=\u001b[0m \u001b[0msum\u001b[0m\u001b[0;34m(\u001b[0m\u001b[0mneg\u001b[0m\u001b[0;34m[\u001b[0m\u001b[0;34m\"NP\"\u001b[0m\u001b[0;34m]\u001b[0m\u001b[0;34m.\u001b[0m\u001b[0mtolist\u001b[0m\u001b[0;34m(\u001b[0m\u001b[0;34m)\u001b[0m\u001b[0;34m,\u001b[0m \u001b[0;34m[\u001b[0m\u001b[0;34m]\u001b[0m\u001b[0;34m)\u001b[0m\u001b[0;34m\u001b[0m\u001b[0;34m\u001b[0m\u001b[0m\n\u001b[0m\u001b[1;32m      3\u001b[0m \u001b[0mneg_words\u001b[0m \u001b[0;34m=\u001b[0m \u001b[0;34m[\u001b[0m\u001b[0mword\u001b[0m\u001b[0;34m.\u001b[0m\u001b[0mlower\u001b[0m\u001b[0;34m(\u001b[0m\u001b[0;34m)\u001b[0m \u001b[0;32mfor\u001b[0m \u001b[0mword\u001b[0m \u001b[0;32min\u001b[0m \u001b[0mneg_words\u001b[0m\u001b[0;34m]\u001b[0m\u001b[0;34m\u001b[0m\u001b[0;34m\u001b[0m\u001b[0m\n\u001b[1;32m      4\u001b[0m \u001b[0mneghist\u001b[0m \u001b[0;34m=\u001b[0m \u001b[0mpd\u001b[0m\u001b[0;34m.\u001b[0m\u001b[0mDataFrame\u001b[0m\u001b[0;34m(\u001b[0m\u001b[0;34m{\u001b[0m\u001b[0;34m\"words\"\u001b[0m\u001b[0;34m:\u001b[0m \u001b[0mneg_words\u001b[0m\u001b[0;34m}\u001b[0m\u001b[0;34m)\u001b[0m\u001b[0;34m\u001b[0m\u001b[0;34m\u001b[0m\u001b[0m\n\u001b[1;32m      5\u001b[0m \u001b[0mneghist\u001b[0m \u001b[0;34m=\u001b[0m \u001b[0mneghist\u001b[0m\u001b[0;34m.\u001b[0m\u001b[0mgroupby\u001b[0m\u001b[0;34m(\u001b[0m\u001b[0;34m\"words\"\u001b[0m\u001b[0;34m)\u001b[0m\u001b[0;34m.\u001b[0m\u001b[0msize\u001b[0m\u001b[0;34m(\u001b[0m\u001b[0;34m)\u001b[0m\u001b[0;34m.\u001b[0m\u001b[0mreset_index\u001b[0m\u001b[0;34m(\u001b[0m\u001b[0mname\u001b[0m\u001b[0;34m=\u001b[0m\u001b[0;34m\"#neg\"\u001b[0m\u001b[0;34m)\u001b[0m\u001b[0;34m\u001b[0m\u001b[0;34m\u001b[0m\u001b[0m\n",
            "\u001b[0;32m<__array_function__ internals>\u001b[0m in \u001b[0;36msum\u001b[0;34m(*args, **kwargs)\u001b[0m\n",
            "\u001b[0;32m/usr/local/lib/python3.6/dist-packages/numpy/core/fromnumeric.py\u001b[0m in \u001b[0;36msum\u001b[0;34m(a, axis, dtype, out, keepdims, initial, where)\u001b[0m\n\u001b[1;32m   2227\u001b[0m \u001b[0;34m\u001b[0m\u001b[0m\n\u001b[1;32m   2228\u001b[0m     return _wrapreduction(a, np.add, 'sum', axis, dtype, out, keepdims=keepdims,\n\u001b[0;32m-> 2229\u001b[0;31m                           initial=initial, where=where)\n\u001b[0m\u001b[1;32m   2230\u001b[0m \u001b[0;34m\u001b[0m\u001b[0m\n\u001b[1;32m   2231\u001b[0m \u001b[0;34m\u001b[0m\u001b[0m\n",
            "\u001b[0;32m/usr/local/lib/python3.6/dist-packages/numpy/core/fromnumeric.py\u001b[0m in \u001b[0;36m_wrapreduction\u001b[0;34m(obj, ufunc, method, axis, dtype, out, **kwargs)\u001b[0m\n\u001b[1;32m     88\u001b[0m                 \u001b[0;32mreturn\u001b[0m \u001b[0mreduction\u001b[0m\u001b[0;34m(\u001b[0m\u001b[0maxis\u001b[0m\u001b[0;34m=\u001b[0m\u001b[0maxis\u001b[0m\u001b[0;34m,\u001b[0m \u001b[0mout\u001b[0m\u001b[0;34m=\u001b[0m\u001b[0mout\u001b[0m\u001b[0;34m,\u001b[0m \u001b[0;34m**\u001b[0m\u001b[0mpasskwargs\u001b[0m\u001b[0;34m)\u001b[0m\u001b[0;34m\u001b[0m\u001b[0;34m\u001b[0m\u001b[0m\n\u001b[1;32m     89\u001b[0m \u001b[0;34m\u001b[0m\u001b[0m\n\u001b[0;32m---> 90\u001b[0;31m     \u001b[0;32mreturn\u001b[0m \u001b[0mufunc\u001b[0m\u001b[0;34m.\u001b[0m\u001b[0mreduce\u001b[0m\u001b[0;34m(\u001b[0m\u001b[0mobj\u001b[0m\u001b[0;34m,\u001b[0m \u001b[0maxis\u001b[0m\u001b[0;34m,\u001b[0m \u001b[0mdtype\u001b[0m\u001b[0;34m,\u001b[0m \u001b[0mout\u001b[0m\u001b[0;34m,\u001b[0m \u001b[0;34m**\u001b[0m\u001b[0mpasskwargs\u001b[0m\u001b[0;34m)\u001b[0m\u001b[0;34m\u001b[0m\u001b[0;34m\u001b[0m\u001b[0m\n\u001b[0m\u001b[1;32m     91\u001b[0m \u001b[0;34m\u001b[0m\u001b[0m\n\u001b[1;32m     92\u001b[0m \u001b[0;34m\u001b[0m\u001b[0m\n",
            "\u001b[0;31mTypeError\u001b[0m: 'list' object cannot be interpreted as an integer"
          ]
        }
      ]
    },
    {
      "cell_type": "markdown",
      "metadata": {
        "id": "mK5gmJDhlAEx",
        "colab_type": "text"
      },
      "source": [
        "**Word Cloud Representation**"
      ]
    },
    {
      "cell_type": "code",
      "metadata": {
        "id": "2Tax0Smmj6zU",
        "colab_type": "code",
        "colab": {}
      },
      "source": [
        "from wordcloud import WordCloud\n",
        "import matplotlib.pyplot as plt"
      ],
      "execution_count": 0,
      "outputs": []
    },
    {
      "cell_type": "code",
      "metadata": {
        "id": "XKXDoOBdj65M",
        "colab_type": "code",
        "colab": {}
      },
      "source": [
        "def vizwordcloud(df):\n",
        "    tuples = [tuple(x) for x in df.values]\n",
        "    wordcloud = WordCloud().generate_from_frequencies(dict(tuples))\n",
        "    plt.figure()\n",
        "    plt.imshow(wordcloud, interpolation=\"bilinear\")\n",
        "    plt.axis(\"off\")\n",
        "    plt.show()"
      ],
      "execution_count": 0,
      "outputs": []
    },
    {
      "cell_type": "code",
      "metadata": {
        "id": "87BnvoVvj6-A",
        "colab_type": "code",
        "outputId": "108fde6f-58a3-4b3a-9a78-2d554b760150",
        "colab": {
          "base_uri": "https://localhost:8080/",
          "height": 283
        }
      },
      "source": [
        "vizwordcloud(poshist)"
      ],
      "execution_count": 234,
      "outputs": [
        {
          "output_type": "error",
          "ename": "ValueError",
          "evalue": "ignored",
          "traceback": [
            "\u001b[0;31m---------------------------------------------------------------------------\u001b[0m",
            "\u001b[0;31mValueError\u001b[0m                                Traceback (most recent call last)",
            "\u001b[0;32m<ipython-input-234-5252e7c31931>\u001b[0m in \u001b[0;36m<module>\u001b[0;34m()\u001b[0m\n\u001b[0;32m----> 1\u001b[0;31m \u001b[0mvizwordcloud\u001b[0m\u001b[0;34m(\u001b[0m\u001b[0mposhist\u001b[0m\u001b[0;34m)\u001b[0m\u001b[0;34m\u001b[0m\u001b[0;34m\u001b[0m\u001b[0m\n\u001b[0m",
            "\u001b[0;32m<ipython-input-233-182d8af7c30d>\u001b[0m in \u001b[0;36mvizwordcloud\u001b[0;34m(df)\u001b[0m\n\u001b[1;32m      1\u001b[0m \u001b[0;32mdef\u001b[0m \u001b[0mvizwordcloud\u001b[0m\u001b[0;34m(\u001b[0m\u001b[0mdf\u001b[0m\u001b[0;34m)\u001b[0m\u001b[0;34m:\u001b[0m\u001b[0;34m\u001b[0m\u001b[0;34m\u001b[0m\u001b[0m\n\u001b[1;32m      2\u001b[0m     \u001b[0mtuples\u001b[0m \u001b[0;34m=\u001b[0m \u001b[0;34m[\u001b[0m\u001b[0mtuple\u001b[0m\u001b[0;34m(\u001b[0m\u001b[0mx\u001b[0m\u001b[0;34m)\u001b[0m \u001b[0;32mfor\u001b[0m \u001b[0mx\u001b[0m \u001b[0;32min\u001b[0m \u001b[0mdf\u001b[0m\u001b[0;34m.\u001b[0m\u001b[0mvalues\u001b[0m\u001b[0;34m]\u001b[0m\u001b[0;34m\u001b[0m\u001b[0;34m\u001b[0m\u001b[0m\n\u001b[0;32m----> 3\u001b[0;31m     \u001b[0mwordcloud\u001b[0m \u001b[0;34m=\u001b[0m \u001b[0mWordCloud\u001b[0m\u001b[0;34m(\u001b[0m\u001b[0;34m)\u001b[0m\u001b[0;34m.\u001b[0m\u001b[0mgenerate_from_frequencies\u001b[0m\u001b[0;34m(\u001b[0m\u001b[0mdict\u001b[0m\u001b[0;34m(\u001b[0m\u001b[0mtuples\u001b[0m\u001b[0;34m)\u001b[0m\u001b[0;34m)\u001b[0m\u001b[0;34m\u001b[0m\u001b[0;34m\u001b[0m\u001b[0m\n\u001b[0m\u001b[1;32m      4\u001b[0m     \u001b[0mplt\u001b[0m\u001b[0;34m.\u001b[0m\u001b[0mfigure\u001b[0m\u001b[0;34m(\u001b[0m\u001b[0;34m)\u001b[0m\u001b[0;34m\u001b[0m\u001b[0;34m\u001b[0m\u001b[0m\n\u001b[1;32m      5\u001b[0m     \u001b[0mplt\u001b[0m\u001b[0;34m.\u001b[0m\u001b[0mimshow\u001b[0m\u001b[0;34m(\u001b[0m\u001b[0mwordcloud\u001b[0m\u001b[0;34m,\u001b[0m \u001b[0minterpolation\u001b[0m\u001b[0;34m=\u001b[0m\u001b[0;34m\"bilinear\"\u001b[0m\u001b[0;34m)\u001b[0m\u001b[0;34m\u001b[0m\u001b[0;34m\u001b[0m\u001b[0m\n",
            "\u001b[0;31mValueError\u001b[0m: dictionary update sequence element #0 has length 3; 2 is required"
          ]
        }
      ]
    },
    {
      "cell_type": "code",
      "metadata": {
        "id": "IpiKxrk3j7Da",
        "colab_type": "code",
        "colab": {}
      },
      "source": [
        "vizwordcloud(neghist)"
      ],
      "execution_count": 0,
      "outputs": []
    },
    {
      "cell_type": "markdown",
      "metadata": {
        "id": "35w1qdrzlK6B",
        "colab_type": "text"
      },
      "source": [
        "We saw 2 problems: 1) Singular and plural words were not combined and 2) words that should not be appeared in the wordcloud such as patients because of the co-reference resolution problem.\n",
        "\n",
        "Let's transfrom selected words to their singular form because at this stage the number of words is not much already then add categories to filter out."
      ]
    },
    {
      "cell_type": "code",
      "metadata": {
        "id": "7PtXvlwuj68b",
        "colab_type": "code",
        "colab": {}
      },
      "source": [
        "def plural2singular(word):\n",
        "  if word == \"doctors\":\n",
        "    return \"doctor\"\n",
        "  elif word == \"nurses\":\n",
        "    return \"nurse\"\n",
        "  elif word == \"clinics\":\n",
        "    return \"clinic\"\n",
        "  elif word == \"hospitals\":\n",
        "    return \"hospital\"\n",
        "  elif word == \"services\":\n",
        "    return \"service\"\n",
        "  elif word == \"staffs\":\n",
        "    return \"staff\"\n",
        "  elif word == \"treatments\":\n",
        "    return \"treatment\"\n",
        "  elif word == \"students\":\n",
        "    return \"student\"\n",
        "  else:\n",
        "    return word"
      ],
      "execution_count": 0,
      "outputs": []
    },
    {
      "cell_type": "code",
      "metadata": {
        "id": "LaPiiBEgj6xr",
        "colab_type": "code",
        "colab": {}
      },
      "source": [
        "pos_words = [plural2singular(word) for word in pos_words]\n",
        "poshist = pd.DataFrame({\"words\": pos_words})\n",
        "poshist = poshist.groupby(\"words\").size().reset_index(name=\"#pos\")\n",
        "\n",
        "neg_words = [plural2singular(word) for word in neg_words]\n",
        "neghist = pd.DataFrame({\"words\": neg_words})\n",
        "neghist = neghist.groupby(\"words\").size().reset_index(name=\"#neg\")"
      ],
      "execution_count": 0,
      "outputs": []
    },
    {
      "cell_type": "code",
      "metadata": {
        "id": "2EV1sdoSj6sT",
        "colab_type": "code",
        "colab": {}
      },
      "source": [
        "vizwordcloud(poshist)"
      ],
      "execution_count": 0,
      "outputs": []
    },
    {
      "cell_type": "code",
      "metadata": {
        "id": "ba5-63Dbj6q0",
        "colab_type": "code",
        "colab": {}
      },
      "source": [
        "vizwordcloud(neghist)"
      ],
      "execution_count": 0,
      "outputs": []
    },
    {
      "cell_type": "code",
      "metadata": {
        "id": "dzRyADvdj6pB",
        "colab_type": "code",
        "colab": {}
      },
      "source": [
        "def groups(word):\n",
        "    if word in (\"doctor\", \"nurse\", \"student\"):\n",
        "        return \"staff\"\n",
        "    elif word in (\"hospital\", \"clinic\", \"equipment\", \"place\"):\n",
        "        return \"infrastructure\"\n",
        "    elif word in (\"service\", \"care\", \"treatment\", \"surgery\", \"disease\", \"medical care\"):\n",
        "        return \"service\"\n",
        "    elif word in (\"queue\", \"appointment\"):\n",
        "        return \"process\"\n",
        "    elif word in (\"price\", \"claim\"):\n",
        "        return \"finance\"\n",
        "    else:\n",
        "        return \"others\""
      ],
      "execution_count": 0,
      "outputs": []
    },
    {
      "cell_type": "code",
      "metadata": {
        "id": "KugJKZY6lXV4",
        "colab_type": "code",
        "colab": {}
      },
      "source": [
        "poshist[\"category\"] = poshist[\"words\"].apply(lambda x: groups(x))\n",
        "poscount = poshist.groupby(\"category\").size().reset_index(name=\"#\")\n",
        "poscount = poscount[poscount[\"category\"] != \"others\"].reset_index(drop=True)"
      ],
      "execution_count": 0,
      "outputs": []
    },
    {
      "cell_type": "code",
      "metadata": {
        "id": "eIe0De54lbyg",
        "colab_type": "code",
        "colab": {}
      },
      "source": [
        "neghist[\"category\"] = neghist[\"words\"].apply(lambda x: groups(x))\n",
        "negcount = neghist.groupby(\"category\").size().reset_index(name=\"#\")\n",
        "negcount = negcount[negcount[\"category\"] != \"others\"].reset_index(drop=True)"
      ],
      "execution_count": 0,
      "outputs": []
    },
    {
      "cell_type": "markdown",
      "metadata": {
        "id": "bErJdGqHmHlw",
        "colab_type": "text"
      },
      "source": [
        "**Plot Radar Chart**"
      ]
    },
    {
      "cell_type": "code",
      "metadata": {
        "id": "mixYCCCamF3m",
        "colab_type": "code",
        "colab": {}
      },
      "source": [
        "poscount"
      ],
      "execution_count": 0,
      "outputs": []
    },
    {
      "cell_type": "code",
      "metadata": {
        "id": "EucKNvPXmOZU",
        "colab_type": "code",
        "colab": {}
      },
      "source": [
        "negcount"
      ],
      "execution_count": 0,
      "outputs": []
    },
    {
      "cell_type": "code",
      "metadata": {
        "id": "k_KZPKGHmQNQ",
        "colab_type": "code",
        "colab": {}
      },
      "source": [
        "import plotly.express as px\n",
        "from plotly.offline import download_plotlyjs, init_notebook_mode,  plot"
      ],
      "execution_count": 0,
      "outputs": []
    },
    {
      "cell_type": "code",
      "metadata": {
        "id": "hKBPRaFUmrSI",
        "colab_type": "code",
        "colab": {}
      },
      "source": [
        "fig = px.line_polar(poscount, r=\"#\", theta=\"category\", line_close=True)\n",
        "plot(fig)"
      ],
      "execution_count": 0,
      "outputs": []
    },
    {
      "cell_type": "code",
      "metadata": {
        "id": "oRbc-Q4NmsvQ",
        "colab_type": "code",
        "colab": {}
      },
      "source": [
        "fig_2 = px.line_polar(negcount, r=\"#\", theta=\"category\", line_close=True)\n",
        "plot(fig_2)"
      ],
      "execution_count": 0,
      "outputs": []
    },
    {
      "cell_type": "markdown",
      "metadata": {
        "id": "eTV-o3Bbm0M5",
        "colab_type": "text"
      },
      "source": [
        "Extracting Features from cleaned comments"
      ]
    },
    {
      "cell_type": "code",
      "metadata": {
        "id": "uPqbKH0lmuFd",
        "colab_type": "code",
        "colab": {}
      },
      "source": [
        "from wordcloud import WordCloud,ImageColorGenerator\n",
        "from PIL import Image\n",
        "import urllib\n",
        "import requests"
      ],
      "execution_count": 0,
      "outputs": []
    },
    {
      "cell_type": "code",
      "metadata": {
        "id": "nlb9Dvb6m6hr",
        "colab_type": "code",
        "colab": {}
      },
      "source": [
        "from sklearn.feature_extraction.text import CountVectorizer\n",
        "\n",
        "bow_vectorizer = CountVectorizer(max_df=0.90, min_df=2, max_features=1000, stop_words='english')\n",
        "\n",
        "# bag-of-words feature matrix\n",
        "bow = bow_vectorizer.fit_transform(df['sentences'])\n",
        "\n",
        "df_bow = pd.DataFrame(bow.todense())\n",
        "\n",
        "df_bow"
      ],
      "execution_count": 0,
      "outputs": []
    },
    {
      "cell_type": "code",
      "metadata": {
        "id": "XLXZEKGvm8Ed",
        "colab_type": "code",
        "colab": {}
      },
      "source": [
        "#Term Frequency-Inverse Document Frequency (TF-IDF)\n",
        "from sklearn.feature_extraction.text import TfidfVectorizer\n",
        "\n",
        "tfidf=TfidfVectorizer(max_df=0.90, min_df=2,max_features=1000,stop_words='english')\n",
        "\n",
        "tfidf_matrix=tfidf.fit_transform(df['sentences'])\n",
        "\n",
        "df_tfidf = pd.DataFrame(tfidf_matrix.todense())\n",
        "\n",
        "df_tfidf"
      ],
      "execution_count": 0,
      "outputs": []
    },
    {
      "cell_type": "markdown",
      "metadata": {
        "id": "G7HBxE1rnA1d",
        "colab_type": "text"
      },
      "source": [
        "#Splitting our dataset into Training and Validation Set"
      ]
    },
    {
      "cell_type": "code",
      "metadata": {
        "id": "-oM8qRlIm-DL",
        "colab_type": "code",
        "colab": {}
      },
      "source": [
        "train_bow = bow[:31962]\n",
        "train_bow.todense()"
      ],
      "execution_count": 0,
      "outputs": []
    },
    {
      "cell_type": "code",
      "metadata": {
        "id": "Uc4I6iSunDkw",
        "colab_type": "code",
        "colab": {}
      },
      "source": [
        "#Using features from TF-IDF for training set\n",
        "train_tfidf_matrix = tfidf_matrix[:31962]\n",
        "\n",
        "train_tfidf_matrix.todense()"
      ],
      "execution_count": 0,
      "outputs": []
    },
    {
      "cell_type": "code",
      "metadata": {
        "id": "nOme3EaenFOO",
        "colab_type": "code",
        "colab": {}
      },
      "source": [
        "from sklearn.preprocessing import LabelEncoder\n",
        "number = LabelEncoder ()\n",
        "df['sentiments'] = number.fit_transform(df['sentiments'].astype('str'))\n",
        "df"
      ],
      "execution_count": 0,
      "outputs": []
    },
    {
      "cell_type": "code",
      "metadata": {
        "id": "De9ausc9tf5U",
        "colab_type": "code",
        "colab": {}
      },
      "source": [
        ""
      ],
      "execution_count": 0,
      "outputs": []
    },
    {
      "cell_type": "code",
      "metadata": {
        "id": "vL1ZSLaenHSR",
        "colab_type": "code",
        "colab": {}
      },
      "source": [
        "# Neutral label : 0 , Negative label : 1 , Positive  label : 2\n",
        "import seaborn as sns\n",
        "sns.countplot(df['sentiments'])\n",
        "sns.despine()"
      ],
      "execution_count": 0,
      "outputs": []
    },
    {
      "cell_type": "code",
      "metadata": {
        "id": "b9IfcL_lsCNJ",
        "colab_type": "code",
        "colab": {}
      },
      "source": [
        ""
      ],
      "execution_count": 0,
      "outputs": []
    },
    {
      "cell_type": "code",
      "metadata": {
        "id": "rtedGOpTnJ0L",
        "colab_type": "code",
        "colab": {}
      },
      "source": [
        "#Splitting the data into training and validation set\n",
        "from sklearn.model_selection import train_test_split"
      ],
      "execution_count": 0,
      "outputs": []
    },
    {
      "cell_type": "code",
      "metadata": {
        "id": "SzQjr86ipWPW",
        "colab_type": "code",
        "colab": {}
      },
      "source": [
        "x_train_bow, x_valid_bow, y_train_bow, y_valid_bow = train_test_split(train_bow,df['sentiments'],test_size=0.3,random_state=0)"
      ],
      "execution_count": 0,
      "outputs": []
    },
    {
      "cell_type": "code",
      "metadata": {
        "id": "mgefgKXPpYMU",
        "colab_type": "code",
        "colab": {}
      },
      "source": [
        "x_train_tfidf, x_valid_tfidf, y_train_tfidf, y_valid_tfidf = train_test_split(train_tfidf_matrix,df['sentiments'],test_size=0.3,random_state=0)"
      ],
      "execution_count": 0,
      "outputs": []
    },
    {
      "cell_type": "code",
      "metadata": {
        "id": "XWy__UT8pamr",
        "colab_type": "code",
        "colab": {}
      },
      "source": [
        "x_train_bow.shape"
      ],
      "execution_count": 0,
      "outputs": []
    },
    {
      "cell_type": "code",
      "metadata": {
        "id": "-DrLSyuBpc2O",
        "colab_type": "code",
        "colab": {}
      },
      "source": [
        "x_valid_bow.shape"
      ],
      "execution_count": 0,
      "outputs": []
    },
    {
      "cell_type": "code",
      "metadata": {
        "id": "Gz6-q_t_pee9",
        "colab_type": "code",
        "colab": {}
      },
      "source": [
        "y_train_bow.shape"
      ],
      "execution_count": 0,
      "outputs": []
    },
    {
      "cell_type": "code",
      "metadata": {
        "id": "BL59CNAZpgj-",
        "colab_type": "code",
        "colab": {}
      },
      "source": [
        "y_valid_bow.shape"
      ],
      "execution_count": 0,
      "outputs": []
    },
    {
      "cell_type": "markdown",
      "metadata": {
        "id": "RxpzNxgypkuc",
        "colab_type": "text"
      },
      "source": [
        "#Applying Machine Learning Models"
      ]
    },
    {
      "cell_type": "code",
      "metadata": {
        "id": "yjbN2zqmxe1H",
        "colab_type": "code",
        "colab": {}
      },
      "source": [
        "from sklearn.metrics import f1_score"
      ],
      "execution_count": 0,
      "outputs": []
    },
    {
      "cell_type": "code",
      "metadata": {
        "id": "O8wBMCkqpiAV",
        "colab_type": "code",
        "colab": {}
      },
      "source": [
        "#Neural Network\n",
        "from sklearn.neural_network import MLPClassifier\n",
        "class_NN = MLPClassifier(hidden_layer_sizes=(8,8,8), activation='relu',solver='adam', max_iter=500)"
      ],
      "execution_count": 0,
      "outputs": []
    },
    {
      "cell_type": "code",
      "metadata": {
        "id": "lX_8MhkUxj_X",
        "colab_type": "code",
        "colab": {}
      },
      "source": [
        "class_NN.fit(x_train_bow,y_train_bow)"
      ],
      "execution_count": 0,
      "outputs": []
    },
    {
      "cell_type": "code",
      "metadata": {
        "id": "aFi4qBNlpn3W",
        "colab_type": "code",
        "colab": {}
      },
      "source": [
        "prediction_bow = class_NN.predict_proba(x_valid_bow)\n",
        "\n",
        "prediction_bow"
      ],
      "execution_count": 0,
      "outputs": []
    },
    {
      "cell_type": "code",
      "metadata": {
        "id": "TUIuqy52xtX1",
        "colab_type": "code",
        "colab": {}
      },
      "source": [
        "#Calculating the F1 score\n",
        "# if prediction is equal to 2 else 1 where 2 is for positive comments and 1 for negative sentiment comments\n",
        "prediction_int = prediction_bow[:,1]>=0.3\n",
        "\n",
        "# converting the results to integer type\n",
        "prediction_int = prediction_int.astype(np.int)\n",
        "prediction_int\n",
        "\n",
        "# calculating f1 score\n",
        "log_bow = f1_score(y_valid_bow, prediction_int,average='micro')\n",
        "\n",
        "log_bow"
      ],
      "execution_count": 0,
      "outputs": []
    },
    {
      "cell_type": "code",
      "metadata": {
        "id": "8tzjjrKDyIoR",
        "colab_type": "code",
        "colab": {}
      },
      "source": [
        "class_NN.fit(x_train_tfidf,y_train_tfidf)"
      ],
      "execution_count": 0,
      "outputs": []
    },
    {
      "cell_type": "code",
      "metadata": {
        "id": "6B3WfHUlzhdc",
        "colab_type": "code",
        "colab": {}
      },
      "source": [
        "prediction_tfidf = class_NN.predict_proba(x_valid_tfidf)\n",
        "\n",
        "prediction_tfidf"
      ],
      "execution_count": 0,
      "outputs": []
    },
    {
      "cell_type": "code",
      "metadata": {
        "id": "8OdyhlZvzppW",
        "colab_type": "code",
        "colab": {}
      },
      "source": [
        "prediction_int_tfidf = prediction_tfidf[:,1]>=0.3\n",
        "\n",
        "prediction_int_tfidf = prediction_int.astype(np.int)\n",
        "prediction_int_tfidf\n",
        "\n",
        "# calculating f1 score\n",
        "log_tfidf = f1_score(y_valid_tfidf, prediction_int_tfidf,average='micro')\n",
        "\n",
        "log_tfidf"
      ],
      "execution_count": 0,
      "outputs": []
    },
    {
      "cell_type": "code",
      "metadata": {
        "id": "CFEwwstkztuf",
        "colab_type": "code",
        "colab": {}
      },
      "source": [
        "#XGBoost\n",
        "from xgboost import XGBClassifier\n",
        "model_bow = XGBClassifier(random_state=0,learning_rate=0.9)\n",
        "model_bow.fit(x_train_bow, y_train_bow)\n",
        "xgb = model_bow.predict_proba(x_valid_bow)\n",
        "\n",
        "xgb"
      ],
      "execution_count": 0,
      "outputs": []
    },
    {
      "cell_type": "code",
      "metadata": {
        "id": "0SN6kFoH0Xr6",
        "colab_type": "code",
        "colab": {}
      },
      "source": [
        "xgb = xgb[:,1] >= 0.3\n",
        "\n",
        "# converting the results to integer type\n",
        "xgb_int=xgb.astype(np.int)\n",
        "\n",
        "# calculating f1 score\n",
        "xgb_bow=f1_score(y_valid_bow,xgb_int,average='micro')\n",
        "\n",
        "xgb_bow"
      ],
      "execution_count": 0,
      "outputs": []
    },
    {
      "cell_type": "code",
      "metadata": {
        "id": "8YBw5FnP0iMP",
        "colab_type": "code",
        "colab": {}
      },
      "source": [
        "model_tfidf = XGBClassifier(random_state=2,learning_rate=0.7)\n",
        "model_tfidf.fit(x_train_tfidf, y_train_tfidf)\n",
        "xgb_tfidf=model_tfidf.predict_proba(x_valid_tfidf)\n",
        "\n",
        "xgb_tfidf"
      ],
      "execution_count": 0,
      "outputs": []
    },
    {
      "cell_type": "code",
      "metadata": {
        "id": "Xj2bJDxP1qp5",
        "colab_type": "code",
        "colab": {}
      },
      "source": [
        "xgb_tfidf=xgb_tfidf[:,1]>=0.3\n",
        "\n",
        "# converting the results to integer type\n",
        "xgb_int_tfidf=xgb_tfidf.astype(np.int)\n",
        "\n",
        "# calculating f1 score\n",
        "score=f1_score(y_valid_tfidf,xgb_int_tfidf,average='micro')\n",
        "\n",
        "score"
      ],
      "execution_count": 0,
      "outputs": []
    },
    {
      "cell_type": "code",
      "metadata": {
        "id": "sc8Ve5lp1-Hk",
        "colab_type": "code",
        "colab": {}
      },
      "source": [
        "#support vector machine\n",
        "from sklearn.calibration import CalibratedClassifierCV\n",
        "from sklearn.svm import SVC\n",
        "from sklearn.svm import LinearSVC, SVC\n",
        "from numpy import *\n",
        "svm = SVC(gamma='auto')\n",
        "model_svc = LinearSVC()\n",
        "svm = CalibratedClassifierCV(model_svc) \n",
        "svm.fit(x_train_bow,y_train_bow)"
      ],
      "execution_count": 0,
      "outputs": []
    },
    {
      "cell_type": "code",
      "metadata": {
        "id": "Lhb_3FcMtmSN",
        "colab_type": "code",
        "colab": {}
      },
      "source": [
        "# แก้ปัญฆา predict_proba ไม่ได้ เนื่องจาก probability=False\n",
        "import pickle\n",
        "filename = 'linearSVC.sav'\n",
        "pickle.dump(model, open(filename, 'wb'))"
      ],
      "execution_count": 0,
      "outputs": []
    },
    {
      "cell_type": "code",
      "metadata": {
        "id": "HzVzDywZrH5p",
        "colab_type": "code",
        "colab": {}
      },
      "source": [
        "svm = pickle.load(open(filename, 'rb'))\n",
        "svm_bow = svm.predict_proba(x_valid_bow)\n",
        "\n",
        "svm_bow"
      ],
      "execution_count": 0,
      "outputs": []
    },
    {
      "cell_type": "code",
      "metadata": {
        "id": "fKyLGJ5WsE9O",
        "colab_type": "code",
        "colab": {}
      },
      "source": [
        "svm_bow=svm_bow[:,1]>=0.3\n",
        "# converting the results to integer type\n",
        "svm_int_bow=svm_bow.astype(np.int)\n",
        "# calculating f1 score\n",
        "svm_score_bow=f1_score(y_valid_bow,svm_int_bow,average='micro')\n",
        "\n",
        "svm_score_bow"
      ],
      "execution_count": 0,
      "outputs": []
    },
    {
      "cell_type": "code",
      "metadata": {
        "id": "Rq45WSvtsG4H",
        "colab_type": "code",
        "colab": {}
      },
      "source": [
        "svm.fit(x_train_tfidf,y_train_tfidf)\n",
        "svm_tfidf = svm.predict_proba(x_valid_tfidf)\n",
        "\n",
        "svm_tfidf"
      ],
      "execution_count": 0,
      "outputs": []
    },
    {
      "cell_type": "code",
      "metadata": {
        "id": "EPEALyUrsOfl",
        "colab_type": "code",
        "colab": {}
      },
      "source": [
        "svm_tfidf=svm_tfidf[:,1]>=0.3\n",
        "\n",
        "# converting the results to integer type\n",
        "svm_int_tfidf=svm_tfidf.astype(np.int)\n",
        "\n",
        "# calculating f1 score\n",
        "svm_score_tfidf=f1_score(y_valid_tfidf,svm_int_tfidf,average='micro')\n",
        "\n",
        "svm_score_tfidf"
      ],
      "execution_count": 0,
      "outputs": []
    },
    {
      "cell_type": "markdown",
      "metadata": {
        "id": "oCJPLZkA4xIk",
        "colab_type": "text"
      },
      "source": [
        "**Model Comparison**"
      ]
    },
    {
      "cell_type": "code",
      "metadata": {
        "id": "RCNWUQkW4uNy",
        "colab_type": "code",
        "colab": {}
      },
      "source": [
        "# Bag-of-Words\n",
        "Algo_1 = ['NeuralNetwork(Bag-of-Words)','XGBoost(Bag-of-Words)','support vector machine(Bag-of-Words)']\n",
        "\n",
        "score_1 = [log_bow,xgb_bow,svm_score_bow]\n",
        "\n",
        "compare_1 = pd.DataFrame({'Model':Algo_1,'F1_Score':score_1},index=[i for i in range(1,4)])\n",
        "\n",
        "compare_1.T"
      ],
      "execution_count": 0,
      "outputs": []
    },
    {
      "cell_type": "code",
      "metadata": {
        "id": "V7ygyr0C5Nb3",
        "colab_type": "code",
        "colab": {}
      },
      "source": [
        "# TF-IDF\n",
        "Algo_2 = ['NeuralNetwork(TF-IDF)','XGBoost(TF-IDF)','support vector machine(TF-IDF)']\n",
        "\n",
        "score_2 = [log_tfidf,score,svm_score_tfidf]\n",
        "\n",
        "compare_2 = pd.DataFrame({'Model':Algo_2,'F1_Score':score_2},index=[i for i in range(1,4)])\n",
        "\n",
        "compare_2.T"
      ],
      "execution_count": 0,
      "outputs": []
    },
    {
      "cell_type": "markdown",
      "metadata": {
        "id": "Hk_7rfiF5iO0",
        "colab_type": "text"
      },
      "source": [
        "Evaluating the model"
      ]
    },
    {
      "cell_type": "code",
      "metadata": {
        "id": "43FKcsQl5dxQ",
        "colab_type": "code",
        "colab": {}
      },
      "source": [
        "from sklearn.metrics import confusion_matrix, classification_report, accuracy_score"
      ],
      "execution_count": 0,
      "outputs": []
    },
    {
      "cell_type": "code",
      "metadata": {
        "id": "SDecLcjz5k5i",
        "colab_type": "code",
        "colab": {}
      },
      "source": [
        "print (y_valid_bow)"
      ],
      "execution_count": 0,
      "outputs": []
    },
    {
      "cell_type": "code",
      "metadata": {
        "id": "5EyMjfZt5mfa",
        "colab_type": "code",
        "colab": {}
      },
      "source": [
        "print (y_valid_tfidf)"
      ],
      "execution_count": 0,
      "outputs": []
    },
    {
      "cell_type": "markdown",
      "metadata": {
        "id": "s-JWeqqY5vPH",
        "colab_type": "text"
      },
      "source": [
        "Comparison Graph"
      ]
    },
    {
      "cell_type": "code",
      "metadata": {
        "id": "pwK38Lzp5qSm",
        "colab_type": "code",
        "colab": {}
      },
      "source": [
        "# Bag-of-Words\n",
        "import seaborn as sns\n",
        "plt.figure(figsize=(18,5))\n",
        "\n",
        "sns.pointplot(x='Model',y='F1_Score',data=compare_1)\n",
        "\n",
        "plt.title('Bag-of-Words')\n",
        "plt.xlabel('MODEL')\n",
        "plt.ylabel('SCORE')\n",
        "\n",
        "plt.show()"
      ],
      "execution_count": 0,
      "outputs": []
    },
    {
      "cell_type": "code",
      "metadata": {
        "id": "1vwluQpx52Gt",
        "colab_type": "code",
        "colab": {}
      },
      "source": [
        "# TF-IDF\n",
        "plt.figure(figsize=(18,5))\n",
        "\n",
        "sns.pointplot(x='Model',y='F1_Score',data=compare_2)\n",
        "\n",
        "plt.title('TF-IDF')\n",
        "plt.xlabel('MODEL')\n",
        "plt.ylabel('SCORE')\n",
        "\n",
        "plt.show()"
      ],
      "execution_count": 0,
      "outputs": []
    },
    {
      "cell_type": "markdown",
      "metadata": {
        "id": "kLKoZZa358Mp",
        "colab_type": "text"
      },
      "source": [
        "Playing around with auto-sklearn"
      ]
    },
    {
      "cell_type": "code",
      "metadata": {
        "id": "5VG65vfE54-I",
        "colab_type": "code",
        "colab": {}
      },
      "source": [
        "!apt-get install swig -y\n",
        "!pip install Cython numpy\n",
        "\n",
        "# sometimes you have to run the next command twice on colab\n",
        "# I haven't figured out why\n",
        "!pip install auto-sklearn\n",
        "# ignore some annoying warnings for demonstrating auto-sklearn \n",
        "# shouldn't be done in real production\n",
        "import numpy as np\n",
        "np.warnings.filterwarnings('ignore')"
      ],
      "execution_count": 0,
      "outputs": []
    },
    {
      "cell_type": "code",
      "metadata": {
        "id": "gu4EIbyr6Acj",
        "colab_type": "code",
        "colab": {}
      },
      "source": [
        "import autosklearn.classification\n",
        "import sklearn.model_selection\n",
        "import sklearn.datasets\n",
        "from sklearn.metrics import confusion_matrix, classification_report, accuracy_score"
      ],
      "execution_count": 0,
      "outputs": []
    },
    {
      "cell_type": "code",
      "metadata": {
        "id": "x6ysyr416If1",
        "colab_type": "code",
        "colab": {}
      },
      "source": [
        "#bag-of-words\n",
        "x_train_bow, x_valid_bow, y_train_bow, y_valid_bow = sklearn.model_selection.train_test_split(df_bow,df['sentiments'],test_size=0.3,random_state=0)"
      ],
      "execution_count": 0,
      "outputs": []
    },
    {
      "cell_type": "code",
      "metadata": {
        "id": "Btbd4s766I4E",
        "colab_type": "code",
        "colab": {}
      },
      "source": [
        "#tfidf\n",
        "x_train_tfidf, x_valid_tfidf, y_train_tfidf, y_valid_tfidf = sklearn.model_selection.train_test_split(df_tfidf,df['sentiments'],test_size=0.3,random_state=0)"
      ],
      "execution_count": 0,
      "outputs": []
    },
    {
      "cell_type": "code",
      "metadata": {
        "id": "C1TVv-NK6I1M",
        "colab_type": "code",
        "colab": {}
      },
      "source": [
        "import autosklearn.classification\n",
        "import sklearn.model_selection\n",
        "import sklearn.datasets\n",
        "import sklearn.metrics\n",
        "\n",
        "x_train_bow, x_valid_bow, y_train_bow, y_valid_bow = \\\n",
        "        sklearn.model_selection.train_test_split(df_bow,df['sentiments'], random_state=1)\n",
        "automl = autosklearn.classification.AutoSklearnClassifier()\n",
        "automl.fit(x_train_bow, y_train_bow)\n",
        "y_hat = automl.predict(x_valid_bow)\n",
        "print(\"Accuracy score\", sklearn.metrics.accuracy_score(y_valid_bow, y_hat))\n",
        "print(\"\", sklearn.metrics.confusion_matrix(y_valid_bow, y_hat))\n",
        "print(\"\", sklearn.metrics.classification_report(y_valid_bow, y_hat))"
      ],
      "execution_count": 0,
      "outputs": []
    },
    {
      "cell_type": "code",
      "metadata": {
        "id": "nYveSRRj6Ic0",
        "colab_type": "code",
        "colab": {}
      },
      "source": [
        ""
      ],
      "execution_count": 0,
      "outputs": []
    },
    {
      "cell_type": "code",
      "metadata": {
        "id": "Tm45Xlbg6Ian",
        "colab_type": "code",
        "colab": {}
      },
      "source": [
        ""
      ],
      "execution_count": 0,
      "outputs": []
    },
    {
      "cell_type": "code",
      "metadata": {
        "id": "5yE3LIU_6IWJ",
        "colab_type": "code",
        "colab": {}
      },
      "source": [
        ""
      ],
      "execution_count": 0,
      "outputs": []
    }
  ]
}